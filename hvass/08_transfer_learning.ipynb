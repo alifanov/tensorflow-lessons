{
 "cells": [
  {
   "cell_type": "code",
   "execution_count": 4,
   "metadata": {},
   "outputs": [
    {
     "name": "stdout",
     "output_type": "stream",
     "text": [
      "Data has apparently already been downloaded and unpacked.\nLoading data: data/CIFAR-10/cifar-10-batches-py/batches.meta\nLoading data: data/CIFAR-10/cifar-10-batches-py/data_batch_1\n"
     ]
    },
    {
     "name": "stdout",
     "output_type": "stream",
     "text": [
      "Loading data: data/CIFAR-10/cifar-10-batches-py/data_batch_2\n"
     ]
    },
    {
     "name": "stdout",
     "output_type": "stream",
     "text": [
      "Loading data: data/CIFAR-10/cifar-10-batches-py/data_batch_3\n"
     ]
    },
    {
     "name": "stdout",
     "output_type": "stream",
     "text": [
      "Loading data: data/CIFAR-10/cifar-10-batches-py/data_batch_4\n"
     ]
    },
    {
     "name": "stdout",
     "output_type": "stream",
     "text": [
      "Loading data: data/CIFAR-10/cifar-10-batches-py/data_batch_5\n"
     ]
    },
    {
     "name": "stdout",
     "output_type": "stream",
     "text": [
      "Loading data: data/CIFAR-10/cifar-10-batches-py/test_batch\n"
     ]
    },
    {
     "name": "stdout",
     "output_type": "stream",
     "text": [
      "Size of:\n- Training-set:\t\t50000\n- Test-set:\t\t10000\n"
     ]
    }
   ],
   "source": [
    "%matplotlib inline\n",
    "import matplotlib.pyplot as plt\n",
    "import tensorflow as tf\n",
    "import numpy as np\n",
    "import time\n",
    "from datetime import timedelta\n",
    "import os\n",
    "\n",
    "# Functions and classes for loading and using the Inception model.\n",
    "import inception\n",
    "\n",
    "# We use Pretty Tensor to define the new classifier.\n",
    "import prettytensor as pt\n",
    "\n",
    "import cifar10\n",
    "from cifar10 import num_classes\n",
    "cifar10.maybe_download_and_extract()\n",
    "\n",
    "class_names = cifar10.load_class_names()\n",
    "images_train, cls_train, labels_train = cifar10.load_training_data()\n",
    "images_test, cls_test, labels_test = cifar10.load_test_data()\n",
    "print(\"Size of:\")\n",
    "print(\"- Training-set:\\t\\t{}\".format(len(images_train)))\n",
    "print(\"- Test-set:\\t\\t{}\".format(len(images_test)))"
   ]
  },
  {
   "cell_type": "code",
   "execution_count": 5,
   "metadata": {},
   "outputs": [
    {
     "name": "stdout",
     "output_type": "stream",
     "text": [
      "Downloading Inception v3 Model ...\nData has apparently already been downloaded and unpacked.\n"
     ]
    },
    {
     "name": "stdout",
     "output_type": "stream",
     "text": [
      "\r- Processing image:      1 / 50000"
     ]
    },
    {
     "name": "stdout",
     "output_type": "stream",
     "text": [
      "\r- Processing image:      2 / 50000"
     ]
    },
    {
     "name": "stdout",
     "output_type": "stream",
     "text": [
      "\r- Processing image:      3 / 50000"
     ]
    },
    {
     "name": "stdout",
     "output_type": "stream",
     "text": [
      "\r- Processing image:      4 / 50000"
     ]
    },
    {
     "name": "stdout",
     "output_type": "stream",
     "text": [
      "\r- Processing image:      5 / 50000"
     ]
    },
    {
     "name": "stdout",
     "output_type": "stream",
     "text": [
      "\r- Processing image:      6 / 50000"
     ]
    },
    {
     "name": "stdout",
     "output_type": "stream",
     "text": [
      "\r- Processing image:      7 / 50000"
     ]
    },
    {
     "name": "stdout",
     "output_type": "stream",
     "text": [
      "\r- Processing image:      8 / 50000"
     ]
    },
    {
     "name": "stdout",
     "output_type": "stream",
     "text": [
      "\r- Processing image:      9 / 50000"
     ]
    },
    {
     "name": "stdout",
     "output_type": "stream",
     "text": [
      "\r- Processing image:     10 / 50000"
     ]
    },
    {
     "name": "stdout",
     "output_type": "stream",
     "text": [
      "\r- Processing image:     11 / 50000"
     ]
    },
    {
     "name": "stdout",
     "output_type": "stream",
     "text": [
      "\r- Processing image:     12 / 50000"
     ]
    },
    {
     "name": "stdout",
     "output_type": "stream",
     "text": [
      "\r- Processing image:     13 / 50000"
     ]
    },
    {
     "name": "stdout",
     "output_type": "stream",
     "text": [
      "\r- Processing image:     14 / 50000"
     ]
    },
    {
     "name": "stdout",
     "output_type": "stream",
     "text": [
      "\r- Processing image:     15 / 50000"
     ]
    },
    {
     "name": "stdout",
     "output_type": "stream",
     "text": [
      "\r- Processing image:     16 / 50000"
     ]
    },
    {
     "name": "stdout",
     "output_type": "stream",
     "text": [
      "\r- Processing image:     17 / 50000"
     ]
    },
    {
     "name": "stdout",
     "output_type": "stream",
     "text": [
      "\r- Processing image:     18 / 50000"
     ]
    },
    {
     "name": "stdout",
     "output_type": "stream",
     "text": [
      "\r- Processing image:     19 / 50000"
     ]
    },
    {
     "name": "stdout",
     "output_type": "stream",
     "text": [
      "\r- Processing image:     20 / 50000"
     ]
    },
    {
     "name": "stdout",
     "output_type": "stream",
     "text": [
      "\r- Processing image:     21 / 50000"
     ]
    },
    {
     "name": "stdout",
     "output_type": "stream",
     "text": [
      "\r- Processing image:     22 / 50000"
     ]
    },
    {
     "name": "stdout",
     "output_type": "stream",
     "text": [
      "\r- Processing image:     23 / 50000"
     ]
    },
    {
     "name": "stdout",
     "output_type": "stream",
     "text": [
      "\r- Processing image:     24 / 50000"
     ]
    },
    {
     "name": "stdout",
     "output_type": "stream",
     "text": [
      "\r- Processing image:     25 / 50000"
     ]
    },
    {
     "name": "stdout",
     "output_type": "stream",
     "text": [
      "\r- Processing image:     26 / 50000"
     ]
    },
    {
     "name": "stdout",
     "output_type": "stream",
     "text": [
      "\r- Processing image:     27 / 50000"
     ]
    },
    {
     "name": "stdout",
     "output_type": "stream",
     "text": [
      "\r- Processing image:     28 / 50000"
     ]
    },
    {
     "name": "stdout",
     "output_type": "stream",
     "text": [
      "\r- Processing image:     29 / 50000"
     ]
    },
    {
     "name": "stdout",
     "output_type": "stream",
     "text": [
      "\r- Processing image:     30 / 50000"
     ]
    },
    {
     "name": "stdout",
     "output_type": "stream",
     "text": [
      "\r- Processing image:     31 / 50000"
     ]
    },
    {
     "name": "stdout",
     "output_type": "stream",
     "text": [
      "\r- Processing image:     32 / 50000"
     ]
    },
    {
     "name": "stdout",
     "output_type": "stream",
     "text": [
      "\r- Processing image:     33 / 50000"
     ]
    },
    {
     "name": "stdout",
     "output_type": "stream",
     "text": [
      "\r- Processing image:     34 / 50000"
     ]
    },
    {
     "name": "stdout",
     "output_type": "stream",
     "text": [
      "\r- Processing image:     35 / 50000"
     ]
    },
    {
     "name": "stdout",
     "output_type": "stream",
     "text": [
      "\r- Processing image:     36 / 50000"
     ]
    },
    {
     "name": "stdout",
     "output_type": "stream",
     "text": [
      "\r- Processing image:     37 / 50000"
     ]
    },
    {
     "name": "stdout",
     "output_type": "stream",
     "text": [
      "\r- Processing image:     38 / 50000"
     ]
    },
    {
     "name": "stdout",
     "output_type": "stream",
     "text": [
      "\r- Processing image:     39 / 50000"
     ]
    },
    {
     "name": "stdout",
     "output_type": "stream",
     "text": [
      "\r- Processing image:     40 / 50000"
     ]
    },
    {
     "name": "stdout",
     "output_type": "stream",
     "text": [
      "\r- Processing image:     41 / 50000"
     ]
    },
    {
     "name": "stdout",
     "output_type": "stream",
     "text": [
      "\r- Processing image:     42 / 50000"
     ]
    },
    {
     "name": "stdout",
     "output_type": "stream",
     "text": [
      "\r- Processing image:     43 / 50000"
     ]
    },
    {
     "name": "stdout",
     "output_type": "stream",
     "text": [
      "\r- Processing image:     44 / 50000"
     ]
    },
    {
     "name": "stdout",
     "output_type": "stream",
     "text": [
      "\r- Processing image:     45 / 50000"
     ]
    },
    {
     "name": "stdout",
     "output_type": "stream",
     "text": [
      "\r- Processing image:     46 / 50000"
     ]
    },
    {
     "name": "stdout",
     "output_type": "stream",
     "text": [
      "\r- Processing image:     47 / 50000"
     ]
    },
    {
     "name": "stdout",
     "output_type": "stream",
     "text": [
      "\r- Processing image:     48 / 50000"
     ]
    },
    {
     "name": "stdout",
     "output_type": "stream",
     "text": [
      "\r- Processing image:     49 / 50000"
     ]
    },
    {
     "name": "stdout",
     "output_type": "stream",
     "text": [
      "\r- Processing image:     50 / 50000"
     ]
    },
    {
     "name": "stdout",
     "output_type": "stream",
     "text": [
      "\r- Processing image:     51 / 50000"
     ]
    },
    {
     "name": "stdout",
     "output_type": "stream",
     "text": [
      "\r- Processing image:     52 / 50000"
     ]
    },
    {
     "name": "stdout",
     "output_type": "stream",
     "text": [
      "\r- Processing image:     53 / 50000"
     ]
    },
    {
     "name": "stdout",
     "output_type": "stream",
     "text": [
      "\r- Processing image:     54 / 50000"
     ]
    },
    {
     "name": "stdout",
     "output_type": "stream",
     "text": [
      "\r- Processing image:     55 / 50000"
     ]
    },
    {
     "name": "stdout",
     "output_type": "stream",
     "text": [
      "\r- Processing image:     56 / 50000"
     ]
    },
    {
     "name": "stdout",
     "output_type": "stream",
     "text": [
      "\r- Processing image:     57 / 50000"
     ]
    },
    {
     "name": "stdout",
     "output_type": "stream",
     "text": [
      "\r- Processing image:     58 / 50000"
     ]
    },
    {
     "name": "stdout",
     "output_type": "stream",
     "text": [
      "\r- Processing image:     59 / 50000"
     ]
    },
    {
     "name": "stdout",
     "output_type": "stream",
     "text": [
      "\r- Processing image:     60 / 50000"
     ]
    },
    {
     "name": "stdout",
     "output_type": "stream",
     "text": [
      "\r- Processing image:     61 / 50000"
     ]
    },
    {
     "name": "stdout",
     "output_type": "stream",
     "text": [
      "\r- Processing image:     62 / 50000"
     ]
    },
    {
     "name": "stdout",
     "output_type": "stream",
     "text": [
      "\r- Processing image:     63 / 50000"
     ]
    },
    {
     "name": "stdout",
     "output_type": "stream",
     "text": [
      "\r- Processing image:     64 / 50000"
     ]
    },
    {
     "name": "stdout",
     "output_type": "stream",
     "text": [
      "\r- Processing image:     65 / 50000"
     ]
    },
    {
     "name": "stdout",
     "output_type": "stream",
     "text": [
      "\r- Processing image:     66 / 50000"
     ]
    },
    {
     "name": "stdout",
     "output_type": "stream",
     "text": [
      "\r- Processing image:     67 / 50000"
     ]
    },
    {
     "name": "stdout",
     "output_type": "stream",
     "text": [
      "\r- Processing image:     68 / 50000"
     ]
    },
    {
     "name": "stdout",
     "output_type": "stream",
     "text": [
      "\r- Processing image:     69 / 50000"
     ]
    },
    {
     "name": "stdout",
     "output_type": "stream",
     "text": [
      "\r- Processing image:     70 / 50000"
     ]
    },
    {
     "name": "stdout",
     "output_type": "stream",
     "text": [
      "\r- Processing image:     71 / 50000"
     ]
    },
    {
     "name": "stdout",
     "output_type": "stream",
     "text": [
      "\r- Processing image:     72 / 50000"
     ]
    },
    {
     "name": "stdout",
     "output_type": "stream",
     "text": [
      "\r- Processing image:     73 / 50000"
     ]
    },
    {
     "name": "stdout",
     "output_type": "stream",
     "text": [
      "\r- Processing image:     74 / 50000"
     ]
    },
    {
     "name": "stdout",
     "output_type": "stream",
     "text": [
      "\r- Processing image:     75 / 50000"
     ]
    },
    {
     "name": "stdout",
     "output_type": "stream",
     "text": [
      "\r- Processing image:     76 / 50000"
     ]
    },
    {
     "name": "stdout",
     "output_type": "stream",
     "text": [
      "\r- Processing image:     77 / 50000"
     ]
    },
    {
     "name": "stdout",
     "output_type": "stream",
     "text": [
      "\r- Processing image:     78 / 50000"
     ]
    },
    {
     "name": "stdout",
     "output_type": "stream",
     "text": [
      "\r- Processing image:     79 / 50000"
     ]
    },
    {
     "name": "stdout",
     "output_type": "stream",
     "text": [
      "\r- Processing image:     80 / 50000"
     ]
    },
    {
     "name": "stdout",
     "output_type": "stream",
     "text": [
      "\r- Processing image:     81 / 50000"
     ]
    },
    {
     "name": "stdout",
     "output_type": "stream",
     "text": [
      "\r- Processing image:     82 / 50000"
     ]
    },
    {
     "name": "stdout",
     "output_type": "stream",
     "text": [
      "\r- Processing image:     83 / 50000"
     ]
    },
    {
     "name": "stdout",
     "output_type": "stream",
     "text": [
      "\r- Processing image:     84 / 50000"
     ]
    },
    {
     "name": "stdout",
     "output_type": "stream",
     "text": [
      "\r- Processing image:     85 / 50000"
     ]
    },
    {
     "name": "stdout",
     "output_type": "stream",
     "text": [
      "\r- Processing image:     86 / 50000"
     ]
    },
    {
     "name": "stdout",
     "output_type": "stream",
     "text": [
      "\r- Processing image:     87 / 50000"
     ]
    },
    {
     "name": "stdout",
     "output_type": "stream",
     "text": [
      "\r- Processing image:     88 / 50000"
     ]
    },
    {
     "name": "stdout",
     "output_type": "stream",
     "text": [
      "\r- Processing image:     89 / 50000"
     ]
    },
    {
     "name": "stdout",
     "output_type": "stream",
     "text": [
      "\r- Processing image:     90 / 50000"
     ]
    },
    {
     "name": "stdout",
     "output_type": "stream",
     "text": [
      "\r- Processing image:     91 / 50000"
     ]
    },
    {
     "name": "stdout",
     "output_type": "stream",
     "text": [
      "\r- Processing image:     92 / 50000"
     ]
    },
    {
     "name": "stdout",
     "output_type": "stream",
     "text": [
      "\r- Processing image:     93 / 50000"
     ]
    },
    {
     "name": "stdout",
     "output_type": "stream",
     "text": [
      "\r- Processing image:     94 / 50000"
     ]
    },
    {
     "name": "stdout",
     "output_type": "stream",
     "text": [
      "\r- Processing image:     95 / 50000"
     ]
    },
    {
     "name": "stdout",
     "output_type": "stream",
     "text": [
      "\r- Processing image:     96 / 50000"
     ]
    },
    {
     "name": "stdout",
     "output_type": "stream",
     "text": [
      "\r- Processing image:     97 / 50000"
     ]
    },
    {
     "name": "stdout",
     "output_type": "stream",
     "text": [
      "\r- Processing image:     98 / 50000"
     ]
    },
    {
     "name": "stdout",
     "output_type": "stream",
     "text": [
      "\r- Processing image:     99 / 50000"
     ]
    },
    {
     "name": "stdout",
     "output_type": "stream",
     "text": [
      "\r- Processing image:    100 / 50000"
     ]
    },
    {
     "name": "stdout",
     "output_type": "stream",
     "text": [
      "\r- Processing image:    101 / 50000"
     ]
    },
    {
     "name": "stdout",
     "output_type": "stream",
     "text": [
      "\r- Processing image:    102 / 50000"
     ]
    },
    {
     "name": "stdout",
     "output_type": "stream",
     "text": [
      "\r- Processing image:    103 / 50000"
     ]
    },
    {
     "name": "stdout",
     "output_type": "stream",
     "text": [
      "\r- Processing image:    104 / 50000"
     ]
    },
    {
     "name": "stdout",
     "output_type": "stream",
     "text": [
      "\r- Processing image:    105 / 50000"
     ]
    },
    {
     "name": "stdout",
     "output_type": "stream",
     "text": [
      "\r- Processing image:    106 / 50000"
     ]
    },
    {
     "name": "stdout",
     "output_type": "stream",
     "text": [
      "\r- Processing image:    107 / 50000"
     ]
    },
    {
     "name": "stdout",
     "output_type": "stream",
     "text": [
      "\r- Processing image:    108 / 50000"
     ]
    },
    {
     "name": "stdout",
     "output_type": "stream",
     "text": [
      "\r- Processing image:    109 / 50000"
     ]
    },
    {
     "name": "stdout",
     "output_type": "stream",
     "text": [
      "\r- Processing image:    110 / 50000"
     ]
    },
    {
     "name": "stdout",
     "output_type": "stream",
     "text": [
      "\r- Processing image:    111 / 50000"
     ]
    },
    {
     "name": "stdout",
     "output_type": "stream",
     "text": [
      "\r- Processing image:    112 / 50000"
     ]
    },
    {
     "name": "stdout",
     "output_type": "stream",
     "text": [
      "\r- Processing image:    113 / 50000"
     ]
    },
    {
     "name": "stdout",
     "output_type": "stream",
     "text": [
      "\r- Processing image:    114 / 50000"
     ]
    },
    {
     "name": "stdout",
     "output_type": "stream",
     "text": [
      "\r- Processing image:    115 / 50000"
     ]
    },
    {
     "name": "stdout",
     "output_type": "stream",
     "text": [
      "\r- Processing image:    116 / 50000"
     ]
    },
    {
     "name": "stdout",
     "output_type": "stream",
     "text": [
      "\r- Processing image:    117 / 50000"
     ]
    },
    {
     "name": "stdout",
     "output_type": "stream",
     "text": [
      "\r- Processing image:    118 / 50000"
     ]
    },
    {
     "name": "stdout",
     "output_type": "stream",
     "text": [
      "\r- Processing image:    119 / 50000"
     ]
    },
    {
     "name": "stdout",
     "output_type": "stream",
     "text": [
      "\r- Processing image:    120 / 50000"
     ]
    },
    {
     "name": "stdout",
     "output_type": "stream",
     "text": [
      "\r- Processing image:    121 / 50000"
     ]
    },
    {
     "name": "stdout",
     "output_type": "stream",
     "text": [
      "\r- Processing image:    122 / 50000"
     ]
    },
    {
     "name": "stdout",
     "output_type": "stream",
     "text": [
      "\r- Processing image:    123 / 50000"
     ]
    },
    {
     "name": "stdout",
     "output_type": "stream",
     "text": [
      "\r- Processing image:    124 / 50000"
     ]
    },
    {
     "name": "stdout",
     "output_type": "stream",
     "text": [
      "\r- Processing image:    125 / 50000"
     ]
    },
    {
     "name": "stdout",
     "output_type": "stream",
     "text": [
      "\r- Processing image:    126 / 50000"
     ]
    },
    {
     "name": "stdout",
     "output_type": "stream",
     "text": [
      "\r- Processing image:    127 / 50000"
     ]
    },
    {
     "name": "stdout",
     "output_type": "stream",
     "text": [
      "\r- Processing image:    128 / 50000"
     ]
    },
    {
     "name": "stdout",
     "output_type": "stream",
     "text": [
      "\r- Processing image:    129 / 50000"
     ]
    },
    {
     "name": "stdout",
     "output_type": "stream",
     "text": [
      "\r- Processing image:    130 / 50000"
     ]
    },
    {
     "name": "stdout",
     "output_type": "stream",
     "text": [
      "\r- Processing image:    131 / 50000"
     ]
    },
    {
     "name": "stdout",
     "output_type": "stream",
     "text": [
      "\r- Processing image:    132 / 50000"
     ]
    },
    {
     "name": "stdout",
     "output_type": "stream",
     "text": [
      "\r- Processing image:    133 / 50000"
     ]
    },
    {
     "name": "stdout",
     "output_type": "stream",
     "text": [
      "\r- Processing image:    134 / 50000"
     ]
    },
    {
     "name": "stdout",
     "output_type": "stream",
     "text": [
      "\r- Processing image:    135 / 50000"
     ]
    },
    {
     "name": "stdout",
     "output_type": "stream",
     "text": [
      "\r- Processing image:    136 / 50000"
     ]
    },
    {
     "name": "stdout",
     "output_type": "stream",
     "text": [
      "\r- Processing image:    137 / 50000"
     ]
    },
    {
     "name": "stdout",
     "output_type": "stream",
     "text": [
      "\r- Processing image:    138 / 50000"
     ]
    },
    {
     "name": "stdout",
     "output_type": "stream",
     "text": [
      "\r- Processing image:    139 / 50000"
     ]
    },
    {
     "name": "stdout",
     "output_type": "stream",
     "text": [
      "\r- Processing image:    140 / 50000"
     ]
    },
    {
     "name": "stdout",
     "output_type": "stream",
     "text": [
      "\r- Processing image:    141 / 50000"
     ]
    },
    {
     "name": "stdout",
     "output_type": "stream",
     "text": [
      "\r- Processing image:    142 / 50000"
     ]
    },
    {
     "name": "stdout",
     "output_type": "stream",
     "text": [
      "\r- Processing image:    143 / 50000"
     ]
    },
    {
     "name": "stdout",
     "output_type": "stream",
     "text": [
      "\r- Processing image:    144 / 50000"
     ]
    },
    {
     "name": "stdout",
     "output_type": "stream",
     "text": [
      "\r- Processing image:    145 / 50000"
     ]
    },
    {
     "name": "stdout",
     "output_type": "stream",
     "text": [
      "\r- Processing image:    146 / 50000"
     ]
    },
    {
     "name": "stdout",
     "output_type": "stream",
     "text": [
      "\r- Processing image:    147 / 50000"
     ]
    },
    {
     "name": "stdout",
     "output_type": "stream",
     "text": [
      "\r- Processing image:    148 / 50000"
     ]
    },
    {
     "name": "stdout",
     "output_type": "stream",
     "text": [
      "\r- Processing image:    149 / 50000"
     ]
    },
    {
     "name": "stdout",
     "output_type": "stream",
     "text": [
      "\r- Processing image:    150 / 50000"
     ]
    },
    {
     "name": "stdout",
     "output_type": "stream",
     "text": [
      "\r- Processing image:    151 / 50000"
     ]
    },
    {
     "name": "stdout",
     "output_type": "stream",
     "text": [
      "\r- Processing image:    152 / 50000"
     ]
    },
    {
     "name": "stdout",
     "output_type": "stream",
     "text": [
      "\r- Processing image:    153 / 50000"
     ]
    },
    {
     "name": "stdout",
     "output_type": "stream",
     "text": [
      "\r- Processing image:    154 / 50000"
     ]
    },
    {
     "name": "stdout",
     "output_type": "stream",
     "text": [
      "\r- Processing image:    155 / 50000"
     ]
    },
    {
     "name": "stdout",
     "output_type": "stream",
     "text": [
      "\r- Processing image:    156 / 50000"
     ]
    },
    {
     "name": "stdout",
     "output_type": "stream",
     "text": [
      "\r- Processing image:    157 / 50000"
     ]
    },
    {
     "name": "stdout",
     "output_type": "stream",
     "text": [
      "\r- Processing image:    158 / 50000"
     ]
    },
    {
     "name": "stdout",
     "output_type": "stream",
     "text": [
      "\r- Processing image:    159 / 50000"
     ]
    },
    {
     "name": "stdout",
     "output_type": "stream",
     "text": [
      "\r- Processing image:    160 / 50000"
     ]
    },
    {
     "name": "stdout",
     "output_type": "stream",
     "text": [
      "\r- Processing image:    161 / 50000"
     ]
    },
    {
     "name": "stdout",
     "output_type": "stream",
     "text": [
      "\r- Processing image:    162 / 50000"
     ]
    },
    {
     "name": "stdout",
     "output_type": "stream",
     "text": [
      "\r- Processing image:    163 / 50000"
     ]
    },
    {
     "name": "stdout",
     "output_type": "stream",
     "text": [
      "\r- Processing image:    164 / 50000"
     ]
    },
    {
     "name": "stdout",
     "output_type": "stream",
     "text": [
      "\r- Processing image:    165 / 50000"
     ]
    },
    {
     "name": "stdout",
     "output_type": "stream",
     "text": [
      "\r- Processing image:    166 / 50000"
     ]
    },
    {
     "name": "stdout",
     "output_type": "stream",
     "text": [
      "\r- Processing image:    167 / 50000"
     ]
    },
    {
     "name": "stdout",
     "output_type": "stream",
     "text": [
      "\r- Processing image:    168 / 50000"
     ]
    },
    {
     "name": "stdout",
     "output_type": "stream",
     "text": [
      "\r- Processing image:    169 / 50000"
     ]
    },
    {
     "name": "stdout",
     "output_type": "stream",
     "text": [
      "\r- Processing image:    170 / 50000"
     ]
    },
    {
     "name": "stdout",
     "output_type": "stream",
     "text": [
      "\r- Processing image:    171 / 50000"
     ]
    },
    {
     "name": "stdout",
     "output_type": "stream",
     "text": [
      "\r- Processing image:    172 / 50000"
     ]
    },
    {
     "name": "stdout",
     "output_type": "stream",
     "text": [
      "\r- Processing image:    173 / 50000"
     ]
    },
    {
     "name": "stdout",
     "output_type": "stream",
     "text": [
      "\r- Processing image:    174 / 50000"
     ]
    },
    {
     "name": "stdout",
     "output_type": "stream",
     "text": [
      "\r- Processing image:    175 / 50000"
     ]
    },
    {
     "name": "stdout",
     "output_type": "stream",
     "text": [
      "\r- Processing image:    176 / 50000"
     ]
    },
    {
     "name": "stdout",
     "output_type": "stream",
     "text": [
      "\r- Processing image:    177 / 50000"
     ]
    },
    {
     "name": "stdout",
     "output_type": "stream",
     "text": [
      "\r- Processing image:    178 / 50000"
     ]
    },
    {
     "name": "stdout",
     "output_type": "stream",
     "text": [
      "\r- Processing image:    179 / 50000"
     ]
    },
    {
     "name": "stdout",
     "output_type": "stream",
     "text": [
      "\r- Processing image:    180 / 50000"
     ]
    },
    {
     "name": "stdout",
     "output_type": "stream",
     "text": [
      "\r- Processing image:    181 / 50000"
     ]
    },
    {
     "name": "stdout",
     "output_type": "stream",
     "text": [
      "\r- Processing image:    182 / 50000"
     ]
    },
    {
     "name": "stdout",
     "output_type": "stream",
     "text": [
      "\r- Processing image:    183 / 50000"
     ]
    },
    {
     "name": "stdout",
     "output_type": "stream",
     "text": [
      "\r- Processing image:    184 / 50000"
     ]
    },
    {
     "name": "stdout",
     "output_type": "stream",
     "text": [
      "\r- Processing image:    185 / 50000"
     ]
    },
    {
     "name": "stdout",
     "output_type": "stream",
     "text": [
      "\r- Processing image:    186 / 50000"
     ]
    },
    {
     "name": "stdout",
     "output_type": "stream",
     "text": [
      "\r- Processing image:    187 / 50000"
     ]
    },
    {
     "name": "stdout",
     "output_type": "stream",
     "text": [
      "\r- Processing image:    188 / 50000"
     ]
    },
    {
     "name": "stdout",
     "output_type": "stream",
     "text": [
      "\r- Processing image:    189 / 50000"
     ]
    },
    {
     "name": "stdout",
     "output_type": "stream",
     "text": [
      "\r- Processing image:    190 / 50000"
     ]
    },
    {
     "name": "stdout",
     "output_type": "stream",
     "text": [
      "\r- Processing image:    191 / 50000"
     ]
    },
    {
     "name": "stdout",
     "output_type": "stream",
     "text": [
      "\r- Processing image:    192 / 50000"
     ]
    },
    {
     "name": "stdout",
     "output_type": "stream",
     "text": [
      "\r- Processing image:    193 / 50000"
     ]
    },
    {
     "name": "stdout",
     "output_type": "stream",
     "text": [
      "\r- Processing image:    194 / 50000"
     ]
    },
    {
     "name": "stdout",
     "output_type": "stream",
     "text": [
      "\r- Processing image:    195 / 50000"
     ]
    },
    {
     "name": "stdout",
     "output_type": "stream",
     "text": [
      "\r- Processing image:    196 / 50000"
     ]
    },
    {
     "name": "stdout",
     "output_type": "stream",
     "text": [
      "\r- Processing image:    197 / 50000"
     ]
    },
    {
     "name": "stdout",
     "output_type": "stream",
     "text": [
      "\r- Processing image:    198 / 50000"
     ]
    },
    {
     "name": "stdout",
     "output_type": "stream",
     "text": [
      "\r- Processing image:    199 / 50000"
     ]
    },
    {
     "name": "stdout",
     "output_type": "stream",
     "text": [
      "\r- Processing image:    200 / 50000"
     ]
    },
    {
     "name": "stdout",
     "output_type": "stream",
     "text": [
      "\r- Processing image:    201 / 50000"
     ]
    },
    {
     "name": "stdout",
     "output_type": "stream",
     "text": [
      "\r- Processing image:    202 / 50000"
     ]
    },
    {
     "name": "stdout",
     "output_type": "stream",
     "text": [
      "\r- Processing image:    203 / 50000"
     ]
    },
    {
     "name": "stdout",
     "output_type": "stream",
     "text": [
      "\r- Processing image:    204 / 50000"
     ]
    },
    {
     "name": "stdout",
     "output_type": "stream",
     "text": [
      "\r- Processing image:    205 / 50000"
     ]
    },
    {
     "name": "stdout",
     "output_type": "stream",
     "text": [
      "\r- Processing image:    206 / 50000"
     ]
    },
    {
     "name": "stdout",
     "output_type": "stream",
     "text": [
      "\r- Processing image:    207 / 50000"
     ]
    },
    {
     "name": "stdout",
     "output_type": "stream",
     "text": [
      "\r- Processing image:    208 / 50000"
     ]
    },
    {
     "name": "stdout",
     "output_type": "stream",
     "text": [
      "\r- Processing image:    209 / 50000"
     ]
    },
    {
     "name": "stdout",
     "output_type": "stream",
     "text": [
      "\r- Processing image:    210 / 50000"
     ]
    },
    {
     "name": "stdout",
     "output_type": "stream",
     "text": [
      "\r- Processing image:    211 / 50000"
     ]
    },
    {
     "name": "stdout",
     "output_type": "stream",
     "text": [
      "\r- Processing image:    212 / 50000"
     ]
    },
    {
     "name": "stdout",
     "output_type": "stream",
     "text": [
      "\r- Processing image:    213 / 50000"
     ]
    },
    {
     "name": "stdout",
     "output_type": "stream",
     "text": [
      "\r- Processing image:    214 / 50000"
     ]
    },
    {
     "name": "stdout",
     "output_type": "stream",
     "text": [
      "\r- Processing image:    215 / 50000"
     ]
    },
    {
     "name": "stdout",
     "output_type": "stream",
     "text": [
      "\r- Processing image:    216 / 50000"
     ]
    },
    {
     "name": "stdout",
     "output_type": "stream",
     "text": [
      "\r- Processing image:    217 / 50000"
     ]
    },
    {
     "name": "stdout",
     "output_type": "stream",
     "text": [
      "\r- Processing image:    218 / 50000"
     ]
    },
    {
     "name": "stdout",
     "output_type": "stream",
     "text": [
      "\r- Processing image:    219 / 50000"
     ]
    },
    {
     "name": "stdout",
     "output_type": "stream",
     "text": [
      "\r- Processing image:    220 / 50000"
     ]
    },
    {
     "name": "stdout",
     "output_type": "stream",
     "text": [
      "\r- Processing image:    221 / 50000"
     ]
    },
    {
     "name": "stdout",
     "output_type": "stream",
     "text": [
      "\r- Processing image:    222 / 50000"
     ]
    },
    {
     "name": "stdout",
     "output_type": "stream",
     "text": [
      "\r- Processing image:    223 / 50000"
     ]
    },
    {
     "name": "stdout",
     "output_type": "stream",
     "text": [
      "\r- Processing image:    224 / 50000"
     ]
    },
    {
     "name": "stdout",
     "output_type": "stream",
     "text": [
      "\r- Processing image:    225 / 50000"
     ]
    },
    {
     "name": "stdout",
     "output_type": "stream",
     "text": [
      "\r- Processing image:    226 / 50000"
     ]
    },
    {
     "name": "stdout",
     "output_type": "stream",
     "text": [
      "\r- Processing image:    227 / 50000"
     ]
    },
    {
     "name": "stdout",
     "output_type": "stream",
     "text": [
      "\r- Processing image:    228 / 50000"
     ]
    },
    {
     "name": "stdout",
     "output_type": "stream",
     "text": [
      "\r- Processing image:    229 / 50000"
     ]
    },
    {
     "name": "stdout",
     "output_type": "stream",
     "text": [
      "\r- Processing image:    230 / 50000"
     ]
    },
    {
     "name": "stdout",
     "output_type": "stream",
     "text": [
      "\r- Processing image:    231 / 50000"
     ]
    },
    {
     "name": "stdout",
     "output_type": "stream",
     "text": [
      "\r- Processing image:    232 / 50000"
     ]
    },
    {
     "name": "stdout",
     "output_type": "stream",
     "text": [
      "\r- Processing image:    233 / 50000"
     ]
    },
    {
     "name": "stdout",
     "output_type": "stream",
     "text": [
      "\r- Processing image:    234 / 50000"
     ]
    },
    {
     "name": "stdout",
     "output_type": "stream",
     "text": [
      "\r- Processing image:    235 / 50000"
     ]
    },
    {
     "name": "stdout",
     "output_type": "stream",
     "text": [
      "\r- Processing image:    236 / 50000"
     ]
    },
    {
     "name": "stdout",
     "output_type": "stream",
     "text": [
      "\r- Processing image:    237 / 50000"
     ]
    },
    {
     "name": "stdout",
     "output_type": "stream",
     "text": [
      "\r- Processing image:    238 / 50000"
     ]
    },
    {
     "name": "stdout",
     "output_type": "stream",
     "text": [
      "\r- Processing image:    239 / 50000"
     ]
    },
    {
     "name": "stdout",
     "output_type": "stream",
     "text": [
      "\r- Processing image:    240 / 50000"
     ]
    },
    {
     "name": "stdout",
     "output_type": "stream",
     "text": [
      "\r- Processing image:    241 / 50000"
     ]
    },
    {
     "name": "stdout",
     "output_type": "stream",
     "text": [
      "\r- Processing image:    242 / 50000"
     ]
    },
    {
     "name": "stdout",
     "output_type": "stream",
     "text": [
      "\r- Processing image:    243 / 50000"
     ]
    },
    {
     "name": "stdout",
     "output_type": "stream",
     "text": [
      "\r- Processing image:    244 / 50000"
     ]
    },
    {
     "name": "stdout",
     "output_type": "stream",
     "text": [
      "\r- Processing image:    245 / 50000"
     ]
    },
    {
     "name": "stdout",
     "output_type": "stream",
     "text": [
      "\r- Processing image:    246 / 50000"
     ]
    },
    {
     "name": "stdout",
     "output_type": "stream",
     "text": [
      "\r- Processing image:    247 / 50000"
     ]
    },
    {
     "name": "stdout",
     "output_type": "stream",
     "text": [
      "\r- Processing image:    248 / 50000"
     ]
    },
    {
     "name": "stdout",
     "output_type": "stream",
     "text": [
      "\r- Processing image:    249 / 50000"
     ]
    },
    {
     "name": "stdout",
     "output_type": "stream",
     "text": [
      "\r- Processing image:    250 / 50000"
     ]
    },
    {
     "name": "stdout",
     "output_type": "stream",
     "text": [
      "\r- Processing image:    251 / 50000"
     ]
    },
    {
     "name": "stdout",
     "output_type": "stream",
     "text": [
      "\r- Processing image:    252 / 50000"
     ]
    },
    {
     "name": "stdout",
     "output_type": "stream",
     "text": [
      "\r- Processing image:    253 / 50000"
     ]
    },
    {
     "name": "stdout",
     "output_type": "stream",
     "text": [
      "\r- Processing image:    254 / 50000"
     ]
    },
    {
     "name": "stdout",
     "output_type": "stream",
     "text": [
      "\r- Processing image:    255 / 50000"
     ]
    },
    {
     "name": "stdout",
     "output_type": "stream",
     "text": [
      "\r- Processing image:    256 / 50000"
     ]
    },
    {
     "name": "stdout",
     "output_type": "stream",
     "text": [
      "\r- Processing image:    257 / 50000"
     ]
    },
    {
     "name": "stdout",
     "output_type": "stream",
     "text": [
      "\r- Processing image:    258 / 50000"
     ]
    },
    {
     "name": "stdout",
     "output_type": "stream",
     "text": [
      "\r- Processing image:    259 / 50000"
     ]
    },
    {
     "name": "stdout",
     "output_type": "stream",
     "text": [
      "\r- Processing image:    260 / 50000"
     ]
    },
    {
     "name": "stdout",
     "output_type": "stream",
     "text": [
      "\r- Processing image:    261 / 50000"
     ]
    },
    {
     "name": "stdout",
     "output_type": "stream",
     "text": [
      "\r- Processing image:    262 / 50000"
     ]
    },
    {
     "name": "stdout",
     "output_type": "stream",
     "text": [
      "\r- Processing image:    263 / 50000"
     ]
    },
    {
     "name": "stdout",
     "output_type": "stream",
     "text": [
      "\r- Processing image:    264 / 50000"
     ]
    },
    {
     "name": "stdout",
     "output_type": "stream",
     "text": [
      "\r- Processing image:    265 / 50000"
     ]
    },
    {
     "name": "stdout",
     "output_type": "stream",
     "text": [
      "\r- Processing image:    266 / 50000"
     ]
    },
    {
     "name": "stdout",
     "output_type": "stream",
     "text": [
      "\r- Processing image:    267 / 50000"
     ]
    },
    {
     "name": "stdout",
     "output_type": "stream",
     "text": [
      "\r- Processing image:    268 / 50000"
     ]
    },
    {
     "name": "stdout",
     "output_type": "stream",
     "text": [
      "\r- Processing image:    269 / 50000"
     ]
    },
    {
     "name": "stdout",
     "output_type": "stream",
     "text": [
      "\r- Processing image:    270 / 50000"
     ]
    },
    {
     "name": "stdout",
     "output_type": "stream",
     "text": [
      "\r- Processing image:    271 / 50000"
     ]
    },
    {
     "name": "stdout",
     "output_type": "stream",
     "text": [
      "\r- Processing image:    272 / 50000"
     ]
    },
    {
     "name": "stdout",
     "output_type": "stream",
     "text": [
      "\r- Processing image:    273 / 50000"
     ]
    },
    {
     "name": "stdout",
     "output_type": "stream",
     "text": [
      "\r- Processing image:    274 / 50000"
     ]
    },
    {
     "name": "stdout",
     "output_type": "stream",
     "text": [
      "\r- Processing image:    275 / 50000"
     ]
    },
    {
     "name": "stdout",
     "output_type": "stream",
     "text": [
      "\r- Processing image:    276 / 50000"
     ]
    },
    {
     "name": "stdout",
     "output_type": "stream",
     "text": [
      "\r- Processing image:    277 / 50000"
     ]
    },
    {
     "name": "stdout",
     "output_type": "stream",
     "text": [
      "\r- Processing image:    278 / 50000"
     ]
    },
    {
     "name": "stdout",
     "output_type": "stream",
     "text": [
      "\r- Processing image:    279 / 50000"
     ]
    },
    {
     "name": "stdout",
     "output_type": "stream",
     "text": [
      "\r- Processing image:    280 / 50000"
     ]
    },
    {
     "name": "stdout",
     "output_type": "stream",
     "text": [
      "\r- Processing image:    281 / 50000"
     ]
    },
    {
     "name": "stdout",
     "output_type": "stream",
     "text": [
      "\r- Processing image:    282 / 50000"
     ]
    },
    {
     "name": "stdout",
     "output_type": "stream",
     "text": [
      "\r- Processing image:    283 / 50000"
     ]
    },
    {
     "name": "stdout",
     "output_type": "stream",
     "text": [
      "\r- Processing image:    284 / 50000"
     ]
    },
    {
     "name": "stdout",
     "output_type": "stream",
     "text": [
      "\r- Processing image:    285 / 50000"
     ]
    },
    {
     "name": "stdout",
     "output_type": "stream",
     "text": [
      "\r- Processing image:    286 / 50000"
     ]
    },
    {
     "name": "stdout",
     "output_type": "stream",
     "text": [
      "\r- Processing image:    287 / 50000"
     ]
    },
    {
     "name": "stdout",
     "output_type": "stream",
     "text": [
      "\r- Processing image:    288 / 50000"
     ]
    },
    {
     "name": "stdout",
     "output_type": "stream",
     "text": [
      "\r- Processing image:    289 / 50000"
     ]
    },
    {
     "name": "stdout",
     "output_type": "stream",
     "text": [
      "\r- Processing image:    290 / 50000"
     ]
    },
    {
     "name": "stdout",
     "output_type": "stream",
     "text": [
      "\r- Processing image:    291 / 50000"
     ]
    },
    {
     "name": "stdout",
     "output_type": "stream",
     "text": [
      "\r- Processing image:    292 / 50000"
     ]
    },
    {
     "name": "stdout",
     "output_type": "stream",
     "text": [
      "\r- Processing image:    293 / 50000"
     ]
    },
    {
     "name": "stdout",
     "output_type": "stream",
     "text": [
      "\r- Processing image:    294 / 50000"
     ]
    },
    {
     "name": "stdout",
     "output_type": "stream",
     "text": [
      "\r- Processing image:    295 / 50000"
     ]
    },
    {
     "name": "stdout",
     "output_type": "stream",
     "text": [
      "\r- Processing image:    296 / 50000"
     ]
    },
    {
     "name": "stdout",
     "output_type": "stream",
     "text": [
      "\r- Processing image:    297 / 50000"
     ]
    },
    {
     "name": "stdout",
     "output_type": "stream",
     "text": [
      "\r- Processing image:    298 / 50000"
     ]
    },
    {
     "name": "stdout",
     "output_type": "stream",
     "text": [
      "\r- Processing image:    299 / 50000"
     ]
    },
    {
     "name": "stdout",
     "output_type": "stream",
     "text": [
      "\r- Processing image:    300 / 50000"
     ]
    },
    {
     "name": "stdout",
     "output_type": "stream",
     "text": [
      "\r- Processing image:    301 / 50000"
     ]
    },
    {
     "name": "stdout",
     "output_type": "stream",
     "text": [
      "\r- Processing image:    302 / 50000"
     ]
    },
    {
     "name": "stdout",
     "output_type": "stream",
     "text": [
      "\r- Processing image:    303 / 50000"
     ]
    },
    {
     "name": "stdout",
     "output_type": "stream",
     "text": [
      "\r- Processing image:    304 / 50000"
     ]
    },
    {
     "name": "stdout",
     "output_type": "stream",
     "text": [
      "\r- Processing image:    305 / 50000"
     ]
    },
    {
     "name": "stdout",
     "output_type": "stream",
     "text": [
      "\r- Processing image:    306 / 50000"
     ]
    },
    {
     "name": "stdout",
     "output_type": "stream",
     "text": [
      "\r- Processing image:    307 / 50000"
     ]
    },
    {
     "name": "stdout",
     "output_type": "stream",
     "text": [
      "\r- Processing image:    308 / 50000"
     ]
    },
    {
     "name": "stdout",
     "output_type": "stream",
     "text": [
      "\r- Processing image:    309 / 50000"
     ]
    },
    {
     "name": "stdout",
     "output_type": "stream",
     "text": [
      "\r- Processing image:    310 / 50000"
     ]
    },
    {
     "name": "stdout",
     "output_type": "stream",
     "text": [
      "\r- Processing image:    311 / 50000"
     ]
    },
    {
     "name": "stdout",
     "output_type": "stream",
     "text": [
      "\r- Processing image:    312 / 50000"
     ]
    },
    {
     "name": "stdout",
     "output_type": "stream",
     "text": [
      "\r- Processing image:    313 / 50000"
     ]
    },
    {
     "name": "stdout",
     "output_type": "stream",
     "text": [
      "\r- Processing image:    314 / 50000"
     ]
    },
    {
     "name": "stdout",
     "output_type": "stream",
     "text": [
      "\r- Processing image:    315 / 50000"
     ]
    },
    {
     "name": "stdout",
     "output_type": "stream",
     "text": [
      "\r- Processing image:    316 / 50000"
     ]
    },
    {
     "name": "stdout",
     "output_type": "stream",
     "text": [
      "\r- Processing image:    317 / 50000"
     ]
    },
    {
     "name": "stdout",
     "output_type": "stream",
     "text": [
      "\r- Processing image:    318 / 50000"
     ]
    },
    {
     "name": "stdout",
     "output_type": "stream",
     "text": [
      "\r- Processing image:    319 / 50000"
     ]
    },
    {
     "name": "stdout",
     "output_type": "stream",
     "text": [
      "\r- Processing image:    320 / 50000"
     ]
    },
    {
     "name": "stdout",
     "output_type": "stream",
     "text": [
      "\r- Processing image:    321 / 50000"
     ]
    },
    {
     "name": "stdout",
     "output_type": "stream",
     "text": [
      "\r- Processing image:    322 / 50000"
     ]
    },
    {
     "name": "stdout",
     "output_type": "stream",
     "text": [
      "\r- Processing image:    323 / 50000"
     ]
    },
    {
     "name": "stdout",
     "output_type": "stream",
     "text": [
      "\r- Processing image:    324 / 50000"
     ]
    },
    {
     "name": "stdout",
     "output_type": "stream",
     "text": [
      "\r- Processing image:    325 / 50000"
     ]
    },
    {
     "name": "stdout",
     "output_type": "stream",
     "text": [
      "\r- Processing image:    326 / 50000"
     ]
    },
    {
     "name": "stdout",
     "output_type": "stream",
     "text": [
      "\r- Processing image:    327 / 50000"
     ]
    },
    {
     "name": "stdout",
     "output_type": "stream",
     "text": [
      "\r- Processing image:    328 / 50000"
     ]
    },
    {
     "name": "stdout",
     "output_type": "stream",
     "text": [
      "\r- Processing image:    329 / 50000"
     ]
    },
    {
     "name": "stdout",
     "output_type": "stream",
     "text": [
      "\r- Processing image:    330 / 50000"
     ]
    },
    {
     "name": "stdout",
     "output_type": "stream",
     "text": [
      "\r- Processing image:    331 / 50000"
     ]
    },
    {
     "name": "stdout",
     "output_type": "stream",
     "text": [
      "\r- Processing image:    332 / 50000"
     ]
    },
    {
     "name": "stdout",
     "output_type": "stream",
     "text": [
      "\r- Processing image:    333 / 50000"
     ]
    },
    {
     "name": "stdout",
     "output_type": "stream",
     "text": [
      "\r- Processing image:    334 / 50000"
     ]
    },
    {
     "name": "stdout",
     "output_type": "stream",
     "text": [
      "\r- Processing image:    335 / 50000"
     ]
    },
    {
     "name": "stdout",
     "output_type": "stream",
     "text": [
      "\r- Processing image:    336 / 50000"
     ]
    },
    {
     "name": "stdout",
     "output_type": "stream",
     "text": [
      "\r- Processing image:    337 / 50000"
     ]
    },
    {
     "name": "stdout",
     "output_type": "stream",
     "text": [
      "\r- Processing image:    338 / 50000"
     ]
    },
    {
     "name": "stdout",
     "output_type": "stream",
     "text": [
      "\r- Processing image:    339 / 50000"
     ]
    },
    {
     "name": "stdout",
     "output_type": "stream",
     "text": [
      "\r- Processing image:    340 / 50000"
     ]
    },
    {
     "name": "stdout",
     "output_type": "stream",
     "text": [
      "\r- Processing image:    341 / 50000"
     ]
    },
    {
     "name": "stdout",
     "output_type": "stream",
     "text": [
      "\r- Processing image:    342 / 50000"
     ]
    },
    {
     "name": "stdout",
     "output_type": "stream",
     "text": [
      "\r- Processing image:    343 / 50000"
     ]
    },
    {
     "name": "stdout",
     "output_type": "stream",
     "text": [
      "\r- Processing image:    344 / 50000"
     ]
    },
    {
     "name": "stdout",
     "output_type": "stream",
     "text": [
      "\r- Processing image:    345 / 50000"
     ]
    },
    {
     "name": "stdout",
     "output_type": "stream",
     "text": [
      "\r- Processing image:    346 / 50000"
     ]
    },
    {
     "name": "stdout",
     "output_type": "stream",
     "text": [
      "\r- Processing image:    347 / 50000"
     ]
    },
    {
     "name": "stdout",
     "output_type": "stream",
     "text": [
      "\r- Processing image:    348 / 50000"
     ]
    },
    {
     "name": "stdout",
     "output_type": "stream",
     "text": [
      "\r- Processing image:    349 / 50000"
     ]
    },
    {
     "name": "stdout",
     "output_type": "stream",
     "text": [
      "\r- Processing image:    350 / 50000"
     ]
    },
    {
     "name": "stdout",
     "output_type": "stream",
     "text": [
      "\r- Processing image:    351 / 50000"
     ]
    },
    {
     "name": "stdout",
     "output_type": "stream",
     "text": [
      "\r- Processing image:    352 / 50000"
     ]
    },
    {
     "name": "stdout",
     "output_type": "stream",
     "text": [
      "\r- Processing image:    353 / 50000"
     ]
    },
    {
     "name": "stdout",
     "output_type": "stream",
     "text": [
      "\r- Processing image:    354 / 50000"
     ]
    },
    {
     "name": "stdout",
     "output_type": "stream",
     "text": [
      "\r- Processing image:    355 / 50000"
     ]
    },
    {
     "name": "stdout",
     "output_type": "stream",
     "text": [
      "\r- Processing image:    356 / 50000"
     ]
    },
    {
     "name": "stdout",
     "output_type": "stream",
     "text": [
      "\r- Processing image:    357 / 50000"
     ]
    },
    {
     "name": "stdout",
     "output_type": "stream",
     "text": [
      "\r- Processing image:    358 / 50000"
     ]
    },
    {
     "name": "stdout",
     "output_type": "stream",
     "text": [
      "\r- Processing image:    359 / 50000"
     ]
    },
    {
     "name": "stdout",
     "output_type": "stream",
     "text": [
      "\r- Processing image:    360 / 50000"
     ]
    },
    {
     "name": "stdout",
     "output_type": "stream",
     "text": [
      "\r- Processing image:    361 / 50000"
     ]
    },
    {
     "name": "stdout",
     "output_type": "stream",
     "text": [
      "\r- Processing image:    362 / 50000"
     ]
    },
    {
     "name": "stdout",
     "output_type": "stream",
     "text": [
      "\r- Processing image:    363 / 50000"
     ]
    },
    {
     "name": "stdout",
     "output_type": "stream",
     "text": [
      "\r- Processing image:    364 / 50000"
     ]
    },
    {
     "name": "stdout",
     "output_type": "stream",
     "text": [
      "\r- Processing image:    365 / 50000"
     ]
    },
    {
     "name": "stdout",
     "output_type": "stream",
     "text": [
      "\r- Processing image:    366 / 50000"
     ]
    },
    {
     "name": "stdout",
     "output_type": "stream",
     "text": [
      "\r- Processing image:    367 / 50000"
     ]
    },
    {
     "name": "stdout",
     "output_type": "stream",
     "text": [
      "\r- Processing image:    368 / 50000"
     ]
    },
    {
     "name": "stdout",
     "output_type": "stream",
     "text": [
      "\r- Processing image:    369 / 50000"
     ]
    },
    {
     "name": "stdout",
     "output_type": "stream",
     "text": [
      "\r- Processing image:    370 / 50000"
     ]
    },
    {
     "name": "stdout",
     "output_type": "stream",
     "text": [
      "\r- Processing image:    371 / 50000"
     ]
    },
    {
     "name": "stdout",
     "output_type": "stream",
     "text": [
      "\r- Processing image:    372 / 50000"
     ]
    },
    {
     "name": "stdout",
     "output_type": "stream",
     "text": [
      "\r- Processing image:    373 / 50000"
     ]
    },
    {
     "name": "stdout",
     "output_type": "stream",
     "text": [
      "\r- Processing image:    374 / 50000"
     ]
    },
    {
     "name": "stdout",
     "output_type": "stream",
     "text": [
      "\r- Processing image:    375 / 50000"
     ]
    },
    {
     "name": "stdout",
     "output_type": "stream",
     "text": [
      "\r- Processing image:    376 / 50000"
     ]
    },
    {
     "name": "stdout",
     "output_type": "stream",
     "text": [
      "\r- Processing image:    377 / 50000"
     ]
    },
    {
     "name": "stdout",
     "output_type": "stream",
     "text": [
      "\r- Processing image:    378 / 50000"
     ]
    },
    {
     "name": "stdout",
     "output_type": "stream",
     "text": [
      "\r- Processing image:    379 / 50000"
     ]
    },
    {
     "name": "stdout",
     "output_type": "stream",
     "text": [
      "\r- Processing image:    380 / 50000"
     ]
    },
    {
     "name": "stdout",
     "output_type": "stream",
     "text": [
      "\r- Processing image:    381 / 50000"
     ]
    },
    {
     "name": "stdout",
     "output_type": "stream",
     "text": [
      "\r- Processing image:    382 / 50000"
     ]
    },
    {
     "name": "stdout",
     "output_type": "stream",
     "text": [
      "\r- Processing image:    383 / 50000"
     ]
    },
    {
     "name": "stdout",
     "output_type": "stream",
     "text": [
      "\r- Processing image:    384 / 50000"
     ]
    },
    {
     "name": "stdout",
     "output_type": "stream",
     "text": [
      "\r- Processing image:    385 / 50000"
     ]
    },
    {
     "name": "stdout",
     "output_type": "stream",
     "text": [
      "\r- Processing image:    386 / 50000"
     ]
    },
    {
     "name": "stdout",
     "output_type": "stream",
     "text": [
      "\r- Processing image:    387 / 50000"
     ]
    },
    {
     "name": "stdout",
     "output_type": "stream",
     "text": [
      "\r- Processing image:    388 / 50000"
     ]
    },
    {
     "name": "stdout",
     "output_type": "stream",
     "text": [
      "\r- Processing image:    389 / 50000"
     ]
    },
    {
     "name": "stdout",
     "output_type": "stream",
     "text": [
      "\r- Processing image:    390 / 50000"
     ]
    },
    {
     "name": "stdout",
     "output_type": "stream",
     "text": [
      "\r- Processing image:    391 / 50000"
     ]
    },
    {
     "name": "stdout",
     "output_type": "stream",
     "text": [
      "\r- Processing image:    392 / 50000"
     ]
    },
    {
     "name": "stdout",
     "output_type": "stream",
     "text": [
      "\r- Processing image:    393 / 50000"
     ]
    },
    {
     "name": "stdout",
     "output_type": "stream",
     "text": [
      "\r- Processing image:    394 / 50000"
     ]
    },
    {
     "name": "stdout",
     "output_type": "stream",
     "text": [
      "\r- Processing image:    395 / 50000"
     ]
    },
    {
     "name": "stdout",
     "output_type": "stream",
     "text": [
      "\r- Processing image:    396 / 50000"
     ]
    },
    {
     "name": "stdout",
     "output_type": "stream",
     "text": [
      "\r- Processing image:    397 / 50000"
     ]
    },
    {
     "name": "stdout",
     "output_type": "stream",
     "text": [
      "\r- Processing image:    398 / 50000"
     ]
    },
    {
     "name": "stdout",
     "output_type": "stream",
     "text": [
      "\r- Processing image:    399 / 50000"
     ]
    },
    {
     "name": "stdout",
     "output_type": "stream",
     "text": [
      "\r- Processing image:    400 / 50000"
     ]
    },
    {
     "name": "stdout",
     "output_type": "stream",
     "text": [
      "\r- Processing image:    401 / 50000"
     ]
    },
    {
     "name": "stdout",
     "output_type": "stream",
     "text": [
      "\r- Processing image:    402 / 50000"
     ]
    },
    {
     "name": "stdout",
     "output_type": "stream",
     "text": [
      "\r- Processing image:    403 / 50000"
     ]
    },
    {
     "name": "stdout",
     "output_type": "stream",
     "text": [
      "\r- Processing image:    404 / 50000"
     ]
    },
    {
     "name": "stdout",
     "output_type": "stream",
     "text": [
      "\r- Processing image:    405 / 50000"
     ]
    },
    {
     "name": "stdout",
     "output_type": "stream",
     "text": [
      "\r- Processing image:    406 / 50000"
     ]
    },
    {
     "name": "stdout",
     "output_type": "stream",
     "text": [
      "\r- Processing image:    407 / 50000"
     ]
    },
    {
     "name": "stdout",
     "output_type": "stream",
     "text": [
      "\r- Processing image:    408 / 50000"
     ]
    },
    {
     "name": "stdout",
     "output_type": "stream",
     "text": [
      "\r- Processing image:    409 / 50000"
     ]
    },
    {
     "name": "stdout",
     "output_type": "stream",
     "text": [
      "\r- Processing image:    410 / 50000"
     ]
    },
    {
     "name": "stdout",
     "output_type": "stream",
     "text": [
      "\r- Processing image:    411 / 50000"
     ]
    },
    {
     "name": "stdout",
     "output_type": "stream",
     "text": [
      "\r- Processing image:    412 / 50000"
     ]
    },
    {
     "name": "stdout",
     "output_type": "stream",
     "text": [
      "\r- Processing image:    413 / 50000"
     ]
    },
    {
     "name": "stdout",
     "output_type": "stream",
     "text": [
      "\r- Processing image:    414 / 50000"
     ]
    },
    {
     "name": "stdout",
     "output_type": "stream",
     "text": [
      "\r- Processing image:    415 / 50000"
     ]
    },
    {
     "name": "stdout",
     "output_type": "stream",
     "text": [
      "\r- Processing image:    416 / 50000"
     ]
    },
    {
     "name": "stdout",
     "output_type": "stream",
     "text": [
      "\r- Processing image:    417 / 50000"
     ]
    },
    {
     "name": "stdout",
     "output_type": "stream",
     "text": [
      "\r- Processing image:    418 / 50000"
     ]
    },
    {
     "name": "stdout",
     "output_type": "stream",
     "text": [
      "\r- Processing image:    419 / 50000"
     ]
    },
    {
     "name": "stdout",
     "output_type": "stream",
     "text": [
      "\r- Processing image:    420 / 50000"
     ]
    },
    {
     "name": "stdout",
     "output_type": "stream",
     "text": [
      "\r- Processing image:    421 / 50000"
     ]
    },
    {
     "name": "stdout",
     "output_type": "stream",
     "text": [
      "\r- Processing image:    422 / 50000"
     ]
    },
    {
     "name": "stdout",
     "output_type": "stream",
     "text": [
      "\r- Processing image:    423 / 50000"
     ]
    },
    {
     "name": "stdout",
     "output_type": "stream",
     "text": [
      "\r- Processing image:    424 / 50000"
     ]
    },
    {
     "name": "stdout",
     "output_type": "stream",
     "text": [
      "\r- Processing image:    425 / 50000"
     ]
    },
    {
     "name": "stdout",
     "output_type": "stream",
     "text": [
      "\r- Processing image:    426 / 50000"
     ]
    },
    {
     "name": "stdout",
     "output_type": "stream",
     "text": [
      "\r- Processing image:    427 / 50000"
     ]
    },
    {
     "name": "stdout",
     "output_type": "stream",
     "text": [
      "\r- Processing image:    428 / 50000"
     ]
    },
    {
     "name": "stdout",
     "output_type": "stream",
     "text": [
      "\r- Processing image:    429 / 50000"
     ]
    },
    {
     "name": "stdout",
     "output_type": "stream",
     "text": [
      "\r- Processing image:    430 / 50000"
     ]
    },
    {
     "name": "stdout",
     "output_type": "stream",
     "text": [
      "\r- Processing image:    431 / 50000"
     ]
    },
    {
     "name": "stdout",
     "output_type": "stream",
     "text": [
      "\r- Processing image:    432 / 50000"
     ]
    },
    {
     "name": "stdout",
     "output_type": "stream",
     "text": [
      "\r- Processing image:    433 / 50000"
     ]
    },
    {
     "name": "stdout",
     "output_type": "stream",
     "text": [
      "\r- Processing image:    434 / 50000"
     ]
    },
    {
     "name": "stdout",
     "output_type": "stream",
     "text": [
      "\r- Processing image:    435 / 50000"
     ]
    },
    {
     "ename": "KeyboardInterrupt",
     "evalue": "",
     "traceback": [
      "\u001b[0;31m---------------------------------------------------------------------------\u001b[0m",
      "\u001b[0;31mKeyboardInterrupt\u001b[0m                         Traceback (most recent call last)",
      "\u001b[0;32m<ipython-input-5-67755327e1bf>\u001b[0m in \u001b[0;36m<module>\u001b[0;34m()\u001b[0m\n\u001b[1;32m      9\u001b[0m transfer_values_train = transfer_values_cache(cache_path=file_path_cache_train,\n\u001b[1;32m     10\u001b[0m                                               \u001b[0mimages\u001b[0m\u001b[0;34m=\u001b[0m\u001b[0mimages_scaled\u001b[0m\u001b[0;34m,\u001b[0m\u001b[0;34m\u001b[0m\u001b[0m\n\u001b[0;32m---> 11\u001b[0;31m                                               model=model)\n\u001b[0m\u001b[1;32m     12\u001b[0m \u001b[0;34m\u001b[0m\u001b[0m\n\u001b[1;32m     13\u001b[0m \u001b[0mimages_scaled\u001b[0m \u001b[0;34m=\u001b[0m \u001b[0mimages_test\u001b[0m \u001b[0;34m*\u001b[0m \u001b[0;36m255.0\u001b[0m\u001b[0;34m\u001b[0m\u001b[0m\n",
      "\u001b[0;32m/Users/vampire/PycharmProjects/tensorflow-lessons/hvass/inception.py\u001b[0m in \u001b[0;36mtransfer_values_cache\u001b[0;34m(cache_path, model, images, image_paths)\u001b[0m\n\u001b[1;32m    592\u001b[0m \u001b[0;34m\u001b[0m\u001b[0m\n\u001b[1;32m    593\u001b[0m     \u001b[0;31m# Read the transfer-values from a cache-file, or calculate them if the file does not exist.\u001b[0m\u001b[0;34m\u001b[0m\u001b[0;34m\u001b[0m\u001b[0m\n\u001b[0;32m--> 594\u001b[0;31m     \u001b[0mtransfer_values\u001b[0m \u001b[0;34m=\u001b[0m \u001b[0mcache\u001b[0m\u001b[0;34m(\u001b[0m\u001b[0mcache_path\u001b[0m\u001b[0;34m=\u001b[0m\u001b[0mcache_path\u001b[0m\u001b[0;34m,\u001b[0m \u001b[0mfn\u001b[0m\u001b[0;34m=\u001b[0m\u001b[0mfn\u001b[0m\u001b[0;34m)\u001b[0m\u001b[0;34m\u001b[0m\u001b[0m\n\u001b[0m\u001b[1;32m    595\u001b[0m \u001b[0;34m\u001b[0m\u001b[0m\n\u001b[1;32m    596\u001b[0m     \u001b[0;32mreturn\u001b[0m \u001b[0mtransfer_values\u001b[0m\u001b[0;34m\u001b[0m\u001b[0m\n",
      "\u001b[0;32m/Users/vampire/PycharmProjects/tensorflow-lessons/hvass/cache.py\u001b[0m in \u001b[0;36mcache\u001b[0;34m(cache_path, fn, *args, **kwargs)\u001b[0m\n\u001b[1;32m     63\u001b[0m \u001b[0;34m\u001b[0m\u001b[0m\n\u001b[1;32m     64\u001b[0m         \u001b[0;31m# Call the function / class-init with the supplied arguments.\u001b[0m\u001b[0;34m\u001b[0m\u001b[0;34m\u001b[0m\u001b[0m\n\u001b[0;32m---> 65\u001b[0;31m         \u001b[0mobj\u001b[0m \u001b[0;34m=\u001b[0m \u001b[0mfn\u001b[0m\u001b[0;34m(\u001b[0m\u001b[0;34m*\u001b[0m\u001b[0margs\u001b[0m\u001b[0;34m,\u001b[0m \u001b[0;34m**\u001b[0m\u001b[0mkwargs\u001b[0m\u001b[0;34m)\u001b[0m\u001b[0;34m\u001b[0m\u001b[0m\n\u001b[0m\u001b[1;32m     66\u001b[0m \u001b[0;34m\u001b[0m\u001b[0m\n\u001b[1;32m     67\u001b[0m         \u001b[0;31m# Save the data to a cache-file.\u001b[0m\u001b[0;34m\u001b[0m\u001b[0;34m\u001b[0m\u001b[0m\n",
      "\u001b[0;32m/Users/vampire/PycharmProjects/tensorflow-lessons/hvass/inception.py\u001b[0m in \u001b[0;36mfn\u001b[0;34m()\u001b[0m\n\u001b[1;32m    589\u001b[0m     \u001b[0;31m# and fn=model.transfer_values to the cache()-function.\u001b[0m\u001b[0;34m\u001b[0m\u001b[0;34m\u001b[0m\u001b[0m\n\u001b[1;32m    590\u001b[0m     \u001b[0;32mdef\u001b[0m \u001b[0mfn\u001b[0m\u001b[0;34m(\u001b[0m\u001b[0;34m)\u001b[0m\u001b[0;34m:\u001b[0m\u001b[0;34m\u001b[0m\u001b[0m\n\u001b[0;32m--> 591\u001b[0;31m         \u001b[0;32mreturn\u001b[0m \u001b[0mprocess_images\u001b[0m\u001b[0;34m(\u001b[0m\u001b[0mfn\u001b[0m\u001b[0;34m=\u001b[0m\u001b[0mmodel\u001b[0m\u001b[0;34m.\u001b[0m\u001b[0mtransfer_values\u001b[0m\u001b[0;34m,\u001b[0m \u001b[0mimages\u001b[0m\u001b[0;34m=\u001b[0m\u001b[0mimages\u001b[0m\u001b[0;34m,\u001b[0m \u001b[0mimage_paths\u001b[0m\u001b[0;34m=\u001b[0m\u001b[0mimage_paths\u001b[0m\u001b[0;34m)\u001b[0m\u001b[0;34m\u001b[0m\u001b[0m\n\u001b[0m\u001b[1;32m    592\u001b[0m \u001b[0;34m\u001b[0m\u001b[0m\n\u001b[1;32m    593\u001b[0m     \u001b[0;31m# Read the transfer-values from a cache-file, or calculate them if the file does not exist.\u001b[0m\u001b[0;34m\u001b[0m\u001b[0;34m\u001b[0m\u001b[0m\n",
      "\u001b[0;32m/Users/vampire/PycharmProjects/tensorflow-lessons/hvass/inception.py\u001b[0m in \u001b[0;36mprocess_images\u001b[0;34m(fn, images, image_paths)\u001b[0m\n\u001b[1;32m    541\u001b[0m         \u001b[0;31m# Process the image and store the result for later use.\u001b[0m\u001b[0;34m\u001b[0m\u001b[0;34m\u001b[0m\u001b[0m\n\u001b[1;32m    542\u001b[0m         \u001b[0;32mif\u001b[0m \u001b[0musing_images\u001b[0m\u001b[0;34m:\u001b[0m\u001b[0;34m\u001b[0m\u001b[0m\n\u001b[0;32m--> 543\u001b[0;31m             \u001b[0mresult\u001b[0m\u001b[0;34m[\u001b[0m\u001b[0mi\u001b[0m\u001b[0;34m]\u001b[0m \u001b[0;34m=\u001b[0m \u001b[0mfn\u001b[0m\u001b[0;34m(\u001b[0m\u001b[0mimage\u001b[0m\u001b[0;34m=\u001b[0m\u001b[0mimages\u001b[0m\u001b[0;34m[\u001b[0m\u001b[0mi\u001b[0m\u001b[0;34m]\u001b[0m\u001b[0;34m)\u001b[0m\u001b[0;34m\u001b[0m\u001b[0m\n\u001b[0m\u001b[1;32m    544\u001b[0m         \u001b[0;32melse\u001b[0m\u001b[0;34m:\u001b[0m\u001b[0;34m\u001b[0m\u001b[0m\n\u001b[1;32m    545\u001b[0m             \u001b[0mresult\u001b[0m\u001b[0;34m[\u001b[0m\u001b[0mi\u001b[0m\u001b[0;34m]\u001b[0m \u001b[0;34m=\u001b[0m \u001b[0mfn\u001b[0m\u001b[0;34m(\u001b[0m\u001b[0mimage_path\u001b[0m\u001b[0;34m=\u001b[0m\u001b[0mimage_paths\u001b[0m\u001b[0;34m[\u001b[0m\u001b[0mi\u001b[0m\u001b[0;34m]\u001b[0m\u001b[0;34m)\u001b[0m\u001b[0;34m\u001b[0m\u001b[0m\n",
      "\u001b[0;32m/Users/vampire/PycharmProjects/tensorflow-lessons/hvass/inception.py\u001b[0m in \u001b[0;36mtransfer_values\u001b[0;34m(self, image_path, image)\u001b[0m\n\u001b[1;32m    487\u001b[0m         \u001b[0;31m# This calculates the values for the last layer of the Inception model\u001b[0m\u001b[0;34m\u001b[0m\u001b[0;34m\u001b[0m\u001b[0m\n\u001b[1;32m    488\u001b[0m         \u001b[0;31m# prior to the softmax-classification, which we call transfer-values.\u001b[0m\u001b[0;34m\u001b[0m\u001b[0;34m\u001b[0m\u001b[0m\n\u001b[0;32m--> 489\u001b[0;31m         \u001b[0mtransfer_values\u001b[0m \u001b[0;34m=\u001b[0m \u001b[0mself\u001b[0m\u001b[0;34m.\u001b[0m\u001b[0msession\u001b[0m\u001b[0;34m.\u001b[0m\u001b[0mrun\u001b[0m\u001b[0;34m(\u001b[0m\u001b[0mself\u001b[0m\u001b[0;34m.\u001b[0m\u001b[0mtransfer_layer\u001b[0m\u001b[0;34m,\u001b[0m \u001b[0mfeed_dict\u001b[0m\u001b[0;34m=\u001b[0m\u001b[0mfeed_dict\u001b[0m\u001b[0;34m)\u001b[0m\u001b[0;34m\u001b[0m\u001b[0m\n\u001b[0m\u001b[1;32m    490\u001b[0m \u001b[0;34m\u001b[0m\u001b[0m\n\u001b[1;32m    491\u001b[0m         \u001b[0;31m# Reduce to a 1-dim array.\u001b[0m\u001b[0;34m\u001b[0m\u001b[0;34m\u001b[0m\u001b[0m\n",
      "\u001b[0;32m/Users/vampire/PycharmProjects/tensorflow-lessons/hvass/venv/lib/python3.4/site-packages/tensorflow/python/client/session.py\u001b[0m in \u001b[0;36mrun\u001b[0;34m(self, fetches, feed_dict, options, run_metadata)\u001b[0m\n\u001b[1;32m    765\u001b[0m     \u001b[0;32mtry\u001b[0m\u001b[0;34m:\u001b[0m\u001b[0;34m\u001b[0m\u001b[0m\n\u001b[1;32m    766\u001b[0m       result = self._run(None, fetches, feed_dict, options_ptr,\n\u001b[0;32m--> 767\u001b[0;31m                          run_metadata_ptr)\n\u001b[0m\u001b[1;32m    768\u001b[0m       \u001b[0;32mif\u001b[0m \u001b[0mrun_metadata\u001b[0m\u001b[0;34m:\u001b[0m\u001b[0;34m\u001b[0m\u001b[0m\n\u001b[1;32m    769\u001b[0m         \u001b[0mproto_data\u001b[0m \u001b[0;34m=\u001b[0m \u001b[0mtf_session\u001b[0m\u001b[0;34m.\u001b[0m\u001b[0mTF_GetBuffer\u001b[0m\u001b[0;34m(\u001b[0m\u001b[0mrun_metadata_ptr\u001b[0m\u001b[0;34m)\u001b[0m\u001b[0;34m\u001b[0m\u001b[0m\n",
      "\u001b[0;32m/Users/vampire/PycharmProjects/tensorflow-lessons/hvass/venv/lib/python3.4/site-packages/tensorflow/python/client/session.py\u001b[0m in \u001b[0;36m_run\u001b[0;34m(self, handle, fetches, feed_dict, options, run_metadata)\u001b[0m\n\u001b[1;32m    963\u001b[0m     \u001b[0;32mif\u001b[0m \u001b[0mfinal_fetches\u001b[0m \u001b[0;32mor\u001b[0m \u001b[0mfinal_targets\u001b[0m\u001b[0;34m:\u001b[0m\u001b[0;34m\u001b[0m\u001b[0m\n\u001b[1;32m    964\u001b[0m       results = self._do_run(handle, final_targets, final_fetches,\n\u001b[0;32m--> 965\u001b[0;31m                              feed_dict_string, options, run_metadata)\n\u001b[0m\u001b[1;32m    966\u001b[0m     \u001b[0;32melse\u001b[0m\u001b[0;34m:\u001b[0m\u001b[0;34m\u001b[0m\u001b[0m\n\u001b[1;32m    967\u001b[0m       \u001b[0mresults\u001b[0m \u001b[0;34m=\u001b[0m \u001b[0;34m[\u001b[0m\u001b[0;34m]\u001b[0m\u001b[0;34m\u001b[0m\u001b[0m\n",
      "\u001b[0;32m/Users/vampire/PycharmProjects/tensorflow-lessons/hvass/venv/lib/python3.4/site-packages/tensorflow/python/client/session.py\u001b[0m in \u001b[0;36m_do_run\u001b[0;34m(self, handle, target_list, fetch_list, feed_dict, options, run_metadata)\u001b[0m\n\u001b[1;32m   1013\u001b[0m     \u001b[0;32mif\u001b[0m \u001b[0mhandle\u001b[0m \u001b[0;32mis\u001b[0m \u001b[0;32mNone\u001b[0m\u001b[0;34m:\u001b[0m\u001b[0;34m\u001b[0m\u001b[0m\n\u001b[1;32m   1014\u001b[0m       return self._do_call(_run_fn, self._session, feed_dict, fetch_list,\n\u001b[0;32m-> 1015\u001b[0;31m                            target_list, options, run_metadata)\n\u001b[0m\u001b[1;32m   1016\u001b[0m     \u001b[0;32melse\u001b[0m\u001b[0;34m:\u001b[0m\u001b[0;34m\u001b[0m\u001b[0m\n\u001b[1;32m   1017\u001b[0m       return self._do_call(_prun_fn, self._session, handle, feed_dict,\n",
      "\u001b[0;32m/Users/vampire/PycharmProjects/tensorflow-lessons/hvass/venv/lib/python3.4/site-packages/tensorflow/python/client/session.py\u001b[0m in \u001b[0;36m_do_call\u001b[0;34m(self, fn, *args)\u001b[0m\n\u001b[1;32m   1020\u001b[0m   \u001b[0;32mdef\u001b[0m \u001b[0m_do_call\u001b[0m\u001b[0;34m(\u001b[0m\u001b[0mself\u001b[0m\u001b[0;34m,\u001b[0m \u001b[0mfn\u001b[0m\u001b[0;34m,\u001b[0m \u001b[0;34m*\u001b[0m\u001b[0margs\u001b[0m\u001b[0;34m)\u001b[0m\u001b[0;34m:\u001b[0m\u001b[0;34m\u001b[0m\u001b[0m\n\u001b[1;32m   1021\u001b[0m     \u001b[0;32mtry\u001b[0m\u001b[0;34m:\u001b[0m\u001b[0;34m\u001b[0m\u001b[0m\n\u001b[0;32m-> 1022\u001b[0;31m       \u001b[0;32mreturn\u001b[0m \u001b[0mfn\u001b[0m\u001b[0;34m(\u001b[0m\u001b[0;34m*\u001b[0m\u001b[0margs\u001b[0m\u001b[0;34m)\u001b[0m\u001b[0;34m\u001b[0m\u001b[0m\n\u001b[0m\u001b[1;32m   1023\u001b[0m     \u001b[0;32mexcept\u001b[0m \u001b[0merrors\u001b[0m\u001b[0;34m.\u001b[0m\u001b[0mOpError\u001b[0m \u001b[0;32mas\u001b[0m \u001b[0me\u001b[0m\u001b[0;34m:\u001b[0m\u001b[0;34m\u001b[0m\u001b[0m\n\u001b[1;32m   1024\u001b[0m       \u001b[0mmessage\u001b[0m \u001b[0;34m=\u001b[0m \u001b[0mcompat\u001b[0m\u001b[0;34m.\u001b[0m\u001b[0mas_text\u001b[0m\u001b[0;34m(\u001b[0m\u001b[0me\u001b[0m\u001b[0;34m.\u001b[0m\u001b[0mmessage\u001b[0m\u001b[0;34m)\u001b[0m\u001b[0;34m\u001b[0m\u001b[0m\n",
      "\u001b[0;32m/Users/vampire/PycharmProjects/tensorflow-lessons/hvass/venv/lib/python3.4/site-packages/tensorflow/python/client/session.py\u001b[0m in \u001b[0;36m_run_fn\u001b[0;34m(session, feed_dict, fetch_list, target_list, options, run_metadata)\u001b[0m\n\u001b[1;32m   1002\u001b[0m         return tf_session.TF_Run(session, options,\n\u001b[1;32m   1003\u001b[0m                                  \u001b[0mfeed_dict\u001b[0m\u001b[0;34m,\u001b[0m \u001b[0mfetch_list\u001b[0m\u001b[0;34m,\u001b[0m \u001b[0mtarget_list\u001b[0m\u001b[0;34m,\u001b[0m\u001b[0;34m\u001b[0m\u001b[0m\n\u001b[0;32m-> 1004\u001b[0;31m                                  status, run_metadata)\n\u001b[0m\u001b[1;32m   1005\u001b[0m \u001b[0;34m\u001b[0m\u001b[0m\n\u001b[1;32m   1006\u001b[0m     \u001b[0;32mdef\u001b[0m \u001b[0m_prun_fn\u001b[0m\u001b[0;34m(\u001b[0m\u001b[0msession\u001b[0m\u001b[0;34m,\u001b[0m \u001b[0mhandle\u001b[0m\u001b[0;34m,\u001b[0m \u001b[0mfeed_dict\u001b[0m\u001b[0;34m,\u001b[0m \u001b[0mfetch_list\u001b[0m\u001b[0;34m)\u001b[0m\u001b[0;34m:\u001b[0m\u001b[0;34m\u001b[0m\u001b[0m\n",
      "\u001b[0;31mKeyboardInterrupt\u001b[0m: "
     ],
     "output_type": "error"
    }
   ],
   "source": [
    "inception.maybe_download()\n",
    "model = inception.Inception()\n",
    "\n",
    "from inception import transfer_values_cache\n",
    "file_path_cache_train = os.path.join(cifar10.data_path, 'inception_cifar10_train.pkl')\n",
    "file_path_cache_test = os.path.join(cifar10.data_path, 'inception_cifar10_test.pkl')\n",
    "images_scaled = images_train * 255.0\n",
    "\n",
    "transfer_values_train = transfer_values_cache(cache_path=file_path_cache_train,\n",
    "                                              images=images_scaled,\n",
    "                                              model=model)\n",
    "\n",
    "images_scaled = images_test * 255.0\n",
    "\n",
    "transfer_values_test = transfer_values_cache(cache_path=file_path_cache_test,\n",
    "                                             images=images_scaled,\n",
    "                                             model=model)"
   ]
  },
  {
   "cell_type": "code",
   "execution_count": null,
   "metadata": {},
   "outputs": [],
   "source": [
    ""
   ]
  }
 ],
 "metadata": {
  "kernelspec": {
   "display_name": "Python 2",
   "language": "python",
   "name": "python2"
  },
  "language_info": {
   "codemirror_mode": {
    "name": "ipython",
    "version": 2.0
   },
   "file_extension": ".py",
   "mimetype": "text/x-python",
   "name": "python",
   "nbconvert_exporter": "python",
   "pygments_lexer": "ipython2",
   "version": "2.7.6"
  }
 },
 "nbformat": 4,
 "nbformat_minor": 0
}