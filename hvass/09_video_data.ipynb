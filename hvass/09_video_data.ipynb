{
 "cells": [
  {
   "cell_type": "code",
   "execution_count": 1,
   "metadata": {
    "collapsed": true
   },
   "outputs": [],
   "source": [
    "%matplotlib inline\n",
    "import matplotlib.pyplot as plt\n",
    "import tensorflow as tf\n",
    "import numpy as np\n",
    "import time\n",
    "from datetime import timedelta\n",
    "import os\n",
    "\n",
    "# Functions and classes for loading and using the Inception model.\n",
    "import inception\n",
    "\n",
    "# We use Pretty Tensor to define the new classifier.\n",
    "import prettytensor as pt"
   ]
  },
  {
   "cell_type": "code",
   "execution_count": 3,
   "metadata": {},
   "outputs": [
    {
     "name": "stdout",
     "output_type": "stream",
     "text": [
      "\r- Download progress: 0.0%"
     ]
    },
    {
     "name": "stdout",
     "output_type": "stream",
     "text": [
      "\r- Download progress: 0.0%"
     ]
    },
    {
     "name": "stdout",
     "output_type": "stream",
     "text": [
      "\r- Download progress: 0.1%"
     ]
    },
    {
     "name": "stdout",
     "output_type": "stream",
     "text": [
      "\r- Download progress: 0.1%"
     ]
    },
    {
     "name": "stdout",
     "output_type": "stream",
     "text": [
      "\r- Download progress: 0.1%"
     ]
    },
    {
     "name": "stdout",
     "output_type": "stream",
     "text": [
      "\r- Download progress: 0.2%"
     ]
    },
    {
     "name": "stdout",
     "output_type": "stream",
     "text": [
      "\r- Download progress: 0.2%"
     ]
    },
    {
     "name": "stdout",
     "output_type": "stream",
     "text": [
      "\r- Download progress: 0.3%"
     ]
    },
    {
     "name": "stdout",
     "output_type": "stream",
     "text": [
      "\r- Download progress: 0.3%"
     ]
    },
    {
     "name": "stdout",
     "output_type": "stream",
     "text": [
      "\r- Download progress: 0.3%"
     ]
    },
    {
     "name": "stdout",
     "output_type": "stream",
     "text": [
      "\r- Download progress: 0.4%"
     ]
    },
    {
     "name": "stdout",
     "output_type": "stream",
     "text": [
      "\r- Download progress: 0.4%"
     ]
    },
    {
     "name": "stdout",
     "output_type": "stream",
     "text": [
      "\r- Download progress: 0.4%"
     ]
    },
    {
     "name": "stdout",
     "output_type": "stream",
     "text": [
      "\r- Download progress: 0.5%"
     ]
    },
    {
     "name": "stdout",
     "output_type": "stream",
     "text": [
      "\r- Download progress: 0.5%"
     ]
    },
    {
     "name": "stdout",
     "output_type": "stream",
     "text": [
      "\r- Download progress: 0.5%"
     ]
    },
    {
     "name": "stdout",
     "output_type": "stream",
     "text": [
      "\r- Download progress: 0.6%"
     ]
    },
    {
     "name": "stdout",
     "output_type": "stream",
     "text": [
      "\r- Download progress: 0.6%"
     ]
    },
    {
     "name": "stdout",
     "output_type": "stream",
     "text": [
      "\r- Download progress: 0.7%"
     ]
    },
    {
     "name": "stdout",
     "output_type": "stream",
     "text": [
      "\r- Download progress: 0.7%"
     ]
    },
    {
     "name": "stdout",
     "output_type": "stream",
     "text": [
      "\r- Download progress: 0.7%"
     ]
    },
    {
     "name": "stdout",
     "output_type": "stream",
     "text": [
      "\r- Download progress: 0.8%"
     ]
    },
    {
     "name": "stdout",
     "output_type": "stream",
     "text": [
      "\r- Download progress: 0.8%"
     ]
    },
    {
     "name": "stdout",
     "output_type": "stream",
     "text": [
      "\r- Download progress: 0.8%"
     ]
    },
    {
     "name": "stdout",
     "output_type": "stream",
     "text": [
      "\r- Download progress: 0.9%"
     ]
    },
    {
     "name": "stdout",
     "output_type": "stream",
     "text": [
      "\r- Download progress: 0.9%"
     ]
    },
    {
     "name": "stdout",
     "output_type": "stream",
     "text": [
      "\r- Download progress: 0.9%"
     ]
    },
    {
     "name": "stdout",
     "output_type": "stream",
     "text": [
      "\r- Download progress: 1.0%"
     ]
    },
    {
     "name": "stdout",
     "output_type": "stream",
     "text": [
      "\r- Download progress: 1.0%"
     ]
    },
    {
     "name": "stdout",
     "output_type": "stream",
     "text": [
      "\r- Download progress: 1.1%"
     ]
    },
    {
     "name": "stdout",
     "output_type": "stream",
     "text": [
      "\r- Download progress: 1.1%"
     ]
    },
    {
     "name": "stdout",
     "output_type": "stream",
     "text": [
      "\r- Download progress: 1.1%"
     ]
    },
    {
     "name": "stdout",
     "output_type": "stream",
     "text": [
      "\r- Download progress: 1.2%"
     ]
    },
    {
     "name": "stdout",
     "output_type": "stream",
     "text": [
      "\r- Download progress: 1.2%"
     ]
    },
    {
     "name": "stdout",
     "output_type": "stream",
     "text": [
      "\r- Download progress: 1.2%"
     ]
    },
    {
     "name": "stdout",
     "output_type": "stream",
     "text": [
      "\r- Download progress: 1.3%"
     ]
    },
    {
     "name": "stdout",
     "output_type": "stream",
     "text": [
      "\r- Download progress: 1.3%"
     ]
    },
    {
     "name": "stdout",
     "output_type": "stream",
     "text": [
      "\r- Download progress: 1.3%"
     ]
    },
    {
     "name": "stdout",
     "output_type": "stream",
     "text": [
      "\r- Download progress: 1.4%"
     ]
    },
    {
     "name": "stdout",
     "output_type": "stream",
     "text": [
      "\r- Download progress: 1.4%"
     ]
    },
    {
     "name": "stdout",
     "output_type": "stream",
     "text": [
      "\r- Download progress: 1.5%"
     ]
    },
    {
     "name": "stdout",
     "output_type": "stream",
     "text": [
      "\r- Download progress: 1.5%"
     ]
    },
    {
     "name": "stdout",
     "output_type": "stream",
     "text": [
      "\r- Download progress: 1.5%"
     ]
    },
    {
     "name": "stdout",
     "output_type": "stream",
     "text": [
      "\r- Download progress: 1.6%"
     ]
    },
    {
     "name": "stdout",
     "output_type": "stream",
     "text": [
      "\r- Download progress: 1.6%"
     ]
    },
    {
     "name": "stdout",
     "output_type": "stream",
     "text": [
      "\r- Download progress: 1.6%"
     ]
    },
    {
     "name": "stdout",
     "output_type": "stream",
     "text": [
      "\r- Download progress: 1.7%"
     ]
    },
    {
     "name": "stdout",
     "output_type": "stream",
     "text": [
      "\r- Download progress: 1.7%"
     ]
    },
    {
     "name": "stdout",
     "output_type": "stream",
     "text": [
      "\r- Download progress: 1.7%"
     ]
    },
    {
     "name": "stdout",
     "output_type": "stream",
     "text": [
      "\r- Download progress: 1.8%"
     ]
    },
    {
     "name": "stdout",
     "output_type": "stream",
     "text": [
      "\r- Download progress: 1.8%"
     ]
    },
    {
     "name": "stdout",
     "output_type": "stream",
     "text": [
      "\r- Download progress: 1.9%"
     ]
    },
    {
     "name": "stdout",
     "output_type": "stream",
     "text": [
      "\r- Download progress: 1.9%"
     ]
    },
    {
     "name": "stdout",
     "output_type": "stream",
     "text": [
      "\r- Download progress: 1.9%"
     ]
    },
    {
     "name": "stdout",
     "output_type": "stream",
     "text": [
      "\r- Download progress: 2.0%"
     ]
    },
    {
     "name": "stdout",
     "output_type": "stream",
     "text": [
      "\r- Download progress: 2.0%"
     ]
    },
    {
     "name": "stdout",
     "output_type": "stream",
     "text": [
      "\r- Download progress: 2.0%"
     ]
    },
    {
     "name": "stdout",
     "output_type": "stream",
     "text": [
      "\r- Download progress: 2.1%"
     ]
    },
    {
     "name": "stdout",
     "output_type": "stream",
     "text": [
      "\r- Download progress: 2.1%"
     ]
    },
    {
     "name": "stdout",
     "output_type": "stream",
     "text": [
      "\r- Download progress: 2.1%"
     ]
    },
    {
     "name": "stdout",
     "output_type": "stream",
     "text": [
      "\r- Download progress: 2.2%"
     ]
    },
    {
     "name": "stdout",
     "output_type": "stream",
     "text": [
      "\r- Download progress: 2.2%"
     ]
    },
    {
     "name": "stdout",
     "output_type": "stream",
     "text": [
      "\r- Download progress: 2.3%"
     ]
    },
    {
     "name": "stdout",
     "output_type": "stream",
     "text": [
      "\r- Download progress: 2.3%"
     ]
    },
    {
     "name": "stdout",
     "output_type": "stream",
     "text": [
      "\r- Download progress: 2.3%"
     ]
    },
    {
     "name": "stdout",
     "output_type": "stream",
     "text": [
      "\r- Download progress: 2.4%"
     ]
    },
    {
     "name": "stdout",
     "output_type": "stream",
     "text": [
      "\r- Download progress: 2.4%"
     ]
    },
    {
     "name": "stdout",
     "output_type": "stream",
     "text": [
      "\r- Download progress: 2.4%"
     ]
    },
    {
     "name": "stdout",
     "output_type": "stream",
     "text": [
      "\r- Download progress: 2.5%"
     ]
    },
    {
     "name": "stdout",
     "output_type": "stream",
     "text": [
      "\r- Download progress: 2.5%"
     ]
    },
    {
     "name": "stdout",
     "output_type": "stream",
     "text": [
      "\r- Download progress: 2.5%"
     ]
    },
    {
     "name": "stdout",
     "output_type": "stream",
     "text": [
      "\r- Download progress: 2.6%"
     ]
    },
    {
     "name": "stdout",
     "output_type": "stream",
     "text": [
      "\r- Download progress: 2.6%"
     ]
    },
    {
     "name": "stdout",
     "output_type": "stream",
     "text": [
      "\r- Download progress: 2.7%"
     ]
    },
    {
     "name": "stdout",
     "output_type": "stream",
     "text": [
      "\r- Download progress: 2.7%"
     ]
    },
    {
     "name": "stdout",
     "output_type": "stream",
     "text": [
      "\r- Download progress: 2.7%"
     ]
    },
    {
     "name": "stdout",
     "output_type": "stream",
     "text": [
      "\r- Download progress: 2.8%"
     ]
    },
    {
     "name": "stdout",
     "output_type": "stream",
     "text": [
      "\r- Download progress: 2.8%"
     ]
    },
    {
     "name": "stdout",
     "output_type": "stream",
     "text": [
      "\r- Download progress: 2.8%"
     ]
    },
    {
     "name": "stdout",
     "output_type": "stream",
     "text": [
      "\r- Download progress: 2.9%"
     ]
    },
    {
     "name": "stdout",
     "output_type": "stream",
     "text": [
      "\r- Download progress: 2.9%"
     ]
    },
    {
     "name": "stdout",
     "output_type": "stream",
     "text": [
      "\r- Download progress: 2.9%"
     ]
    },
    {
     "name": "stdout",
     "output_type": "stream",
     "text": [
      "\r- Download progress: 3.0%"
     ]
    },
    {
     "name": "stdout",
     "output_type": "stream",
     "text": [
      "\r- Download progress: 3.0%"
     ]
    },
    {
     "name": "stdout",
     "output_type": "stream",
     "text": [
      "\r- Download progress: 3.1%"
     ]
    },
    {
     "name": "stdout",
     "output_type": "stream",
     "text": [
      "\r- Download progress: 3.1%"
     ]
    },
    {
     "name": "stdout",
     "output_type": "stream",
     "text": [
      "\r- Download progress: 3.1%"
     ]
    },
    {
     "name": "stdout",
     "output_type": "stream",
     "text": [
      "\r- Download progress: 3.2%"
     ]
    },
    {
     "name": "stdout",
     "output_type": "stream",
     "text": [
      "\r- Download progress: 3.2%"
     ]
    },
    {
     "name": "stdout",
     "output_type": "stream",
     "text": [
      "\r- Download progress: 3.2%"
     ]
    },
    {
     "name": "stdout",
     "output_type": "stream",
     "text": [
      "\r- Download progress: 3.3%"
     ]
    },
    {
     "name": "stdout",
     "output_type": "stream",
     "text": [
      "\r- Download progress: 3.3%"
     ]
    },
    {
     "name": "stdout",
     "output_type": "stream",
     "text": [
      "\r- Download progress: 3.3%"
     ]
    },
    {
     "name": "stdout",
     "output_type": "stream",
     "text": [
      "\r- Download progress: 3.4%"
     ]
    },
    {
     "name": "stdout",
     "output_type": "stream",
     "text": [
      "\r- Download progress: 3.4%"
     ]
    },
    {
     "name": "stdout",
     "output_type": "stream",
     "text": [
      "\r- Download progress: 3.5%"
     ]
    },
    {
     "name": "stdout",
     "output_type": "stream",
     "text": [
      "\r- Download progress: 3.5%"
     ]
    },
    {
     "name": "stdout",
     "output_type": "stream",
     "text": [
      "\r- Download progress: 3.5%"
     ]
    },
    {
     "name": "stdout",
     "output_type": "stream",
     "text": [
      "\r- Download progress: 3.6%"
     ]
    },
    {
     "name": "stdout",
     "output_type": "stream",
     "text": [
      "\r- Download progress: 3.6%"
     ]
    },
    {
     "name": "stdout",
     "output_type": "stream",
     "text": [
      "\r- Download progress: 3.6%"
     ]
    },
    {
     "name": "stdout",
     "output_type": "stream",
     "text": [
      "\r- Download progress: 3.7%"
     ]
    },
    {
     "name": "stdout",
     "output_type": "stream",
     "text": [
      "\r- Download progress: 3.7%"
     ]
    },
    {
     "name": "stdout",
     "output_type": "stream",
     "text": [
      "\r- Download progress: 3.7%"
     ]
    },
    {
     "name": "stdout",
     "output_type": "stream",
     "text": [
      "\r- Download progress: 3.8%"
     ]
    },
    {
     "name": "stdout",
     "output_type": "stream",
     "text": [
      "\r- Download progress: 3.8%"
     ]
    },
    {
     "name": "stdout",
     "output_type": "stream",
     "text": [
      "\r- Download progress: 3.9%"
     ]
    },
    {
     "name": "stdout",
     "output_type": "stream",
     "text": [
      "\r- Download progress: 3.9%"
     ]
    },
    {
     "name": "stdout",
     "output_type": "stream",
     "text": [
      "\r- Download progress: 3.9%"
     ]
    },
    {
     "name": "stdout",
     "output_type": "stream",
     "text": [
      "\r- Download progress: 4.0%"
     ]
    },
    {
     "name": "stdout",
     "output_type": "stream",
     "text": [
      "\r- Download progress: 4.0%"
     ]
    },
    {
     "name": "stdout",
     "output_type": "stream",
     "text": [
      "\r- Download progress: 4.0%"
     ]
    },
    {
     "name": "stdout",
     "output_type": "stream",
     "text": [
      "\r- Download progress: 4.1%"
     ]
    },
    {
     "name": "stdout",
     "output_type": "stream",
     "text": [
      "\r- Download progress: 4.1%"
     ]
    },
    {
     "name": "stdout",
     "output_type": "stream",
     "text": [
      "\r- Download progress: 4.1%"
     ]
    },
    {
     "name": "stdout",
     "output_type": "stream",
     "text": [
      "\r- Download progress: 4.2%"
     ]
    },
    {
     "name": "stdout",
     "output_type": "stream",
     "text": [
      "\r- Download progress: 4.2%"
     ]
    },
    {
     "name": "stdout",
     "output_type": "stream",
     "text": [
      "\r- Download progress: 4.3%"
     ]
    },
    {
     "name": "stdout",
     "output_type": "stream",
     "text": [
      "\r- Download progress: 4.3%"
     ]
    },
    {
     "name": "stdout",
     "output_type": "stream",
     "text": [
      "\r- Download progress: 4.3%"
     ]
    },
    {
     "name": "stdout",
     "output_type": "stream",
     "text": [
      "\r- Download progress: 4.4%"
     ]
    },
    {
     "name": "stdout",
     "output_type": "stream",
     "text": [
      "\r- Download progress: 4.4%"
     ]
    },
    {
     "name": "stdout",
     "output_type": "stream",
     "text": [
      "\r- Download progress: 4.4%"
     ]
    },
    {
     "name": "stdout",
     "output_type": "stream",
     "text": [
      "\r- Download progress: 4.5%"
     ]
    },
    {
     "name": "stdout",
     "output_type": "stream",
     "text": [
      "\r- Download progress: 4.5%"
     ]
    },
    {
     "name": "stdout",
     "output_type": "stream",
     "text": [
      "\r- Download progress: 4.5%"
     ]
    },
    {
     "name": "stdout",
     "output_type": "stream",
     "text": [
      "\r- Download progress: 4.6%"
     ]
    },
    {
     "name": "stdout",
     "output_type": "stream",
     "text": [
      "\r- Download progress: 4.6%"
     ]
    },
    {
     "name": "stdout",
     "output_type": "stream",
     "text": [
      "\r- Download progress: 4.7%"
     ]
    },
    {
     "name": "stdout",
     "output_type": "stream",
     "text": [
      "\r- Download progress: 4.7%"
     ]
    },
    {
     "name": "stdout",
     "output_type": "stream",
     "text": [
      "\r- Download progress: 4.7%"
     ]
    },
    {
     "name": "stdout",
     "output_type": "stream",
     "text": [
      "\r- Download progress: 4.8%"
     ]
    },
    {
     "name": "stdout",
     "output_type": "stream",
     "text": [
      "\r- Download progress: 4.8%"
     ]
    },
    {
     "name": "stdout",
     "output_type": "stream",
     "text": [
      "\r- Download progress: 4.8%"
     ]
    },
    {
     "name": "stdout",
     "output_type": "stream",
     "text": [
      "\r- Download progress: 4.9%"
     ]
    },
    {
     "name": "stdout",
     "output_type": "stream",
     "text": [
      "\r- Download progress: 4.9%"
     ]
    },
    {
     "name": "stdout",
     "output_type": "stream",
     "text": [
      "\r- Download progress: 4.9%"
     ]
    },
    {
     "name": "stdout",
     "output_type": "stream",
     "text": [
      "\r- Download progress: 5.0%"
     ]
    },
    {
     "name": "stdout",
     "output_type": "stream",
     "text": [
      "\r- Download progress: 5.0%"
     ]
    },
    {
     "name": "stdout",
     "output_type": "stream",
     "text": [
      "\r- Download progress: 5.1%"
     ]
    },
    {
     "name": "stdout",
     "output_type": "stream",
     "text": [
      "\r- Download progress: 5.1%"
     ]
    },
    {
     "name": "stdout",
     "output_type": "stream",
     "text": [
      "\r- Download progress: 5.1%"
     ]
    },
    {
     "name": "stdout",
     "output_type": "stream",
     "text": [
      "\r- Download progress: 5.2%"
     ]
    },
    {
     "name": "stdout",
     "output_type": "stream",
     "text": [
      "\r- Download progress: 5.2%"
     ]
    },
    {
     "name": "stdout",
     "output_type": "stream",
     "text": [
      "\r- Download progress: 5.2%"
     ]
    },
    {
     "name": "stdout",
     "output_type": "stream",
     "text": [
      "\r- Download progress: 5.3%"
     ]
    },
    {
     "name": "stdout",
     "output_type": "stream",
     "text": [
      "\r- Download progress: 5.3%"
     ]
    },
    {
     "name": "stdout",
     "output_type": "stream",
     "text": [
      "\r- Download progress: 5.3%"
     ]
    },
    {
     "name": "stdout",
     "output_type": "stream",
     "text": [
      "\r- Download progress: 5.4%"
     ]
    },
    {
     "name": "stdout",
     "output_type": "stream",
     "text": [
      "\r- Download progress: 5.4%"
     ]
    },
    {
     "name": "stdout",
     "output_type": "stream",
     "text": [
      "\r- Download progress: 5.5%"
     ]
    },
    {
     "name": "stdout",
     "output_type": "stream",
     "text": [
      "\r- Download progress: 5.5%"
     ]
    },
    {
     "name": "stdout",
     "output_type": "stream",
     "text": [
      "\r- Download progress: 5.5%"
     ]
    },
    {
     "name": "stdout",
     "output_type": "stream",
     "text": [
      "\r- Download progress: 5.6%"
     ]
    },
    {
     "name": "stdout",
     "output_type": "stream",
     "text": [
      "\r- Download progress: 5.6%"
     ]
    },
    {
     "name": "stdout",
     "output_type": "stream",
     "text": [
      "\r- Download progress: 5.6%"
     ]
    },
    {
     "name": "stdout",
     "output_type": "stream",
     "text": [
      "\r- Download progress: 5.7%"
     ]
    },
    {
     "name": "stdout",
     "output_type": "stream",
     "text": [
      "\r- Download progress: 5.7%"
     ]
    },
    {
     "name": "stdout",
     "output_type": "stream",
     "text": [
      "\r- Download progress: 5.7%"
     ]
    },
    {
     "name": "stdout",
     "output_type": "stream",
     "text": [
      "\r- Download progress: 5.8%"
     ]
    },
    {
     "name": "stdout",
     "output_type": "stream",
     "text": [
      "\r- Download progress: 5.8%"
     ]
    },
    {
     "name": "stdout",
     "output_type": "stream",
     "text": [
      "\r- Download progress: 5.9%"
     ]
    },
    {
     "name": "stdout",
     "output_type": "stream",
     "text": [
      "\r- Download progress: 5.9%"
     ]
    },
    {
     "name": "stdout",
     "output_type": "stream",
     "text": [
      "\r- Download progress: 5.9%"
     ]
    },
    {
     "name": "stdout",
     "output_type": "stream",
     "text": [
      "\r- Download progress: 6.0%"
     ]
    },
    {
     "name": "stdout",
     "output_type": "stream",
     "text": [
      "\r- Download progress: 6.0%"
     ]
    },
    {
     "name": "stdout",
     "output_type": "stream",
     "text": [
      "\r- Download progress: 6.0%"
     ]
    },
    {
     "name": "stdout",
     "output_type": "stream",
     "text": [
      "\r- Download progress: 6.1%"
     ]
    },
    {
     "name": "stdout",
     "output_type": "stream",
     "text": [
      "\r- Download progress: 6.1%"
     ]
    },
    {
     "name": "stdout",
     "output_type": "stream",
     "text": [
      "\r- Download progress: 6.1%"
     ]
    },
    {
     "name": "stdout",
     "output_type": "stream",
     "text": [
      "\r- Download progress: 6.2%"
     ]
    },
    {
     "name": "stdout",
     "output_type": "stream",
     "text": [
      "\r- Download progress: 6.2%"
     ]
    },
    {
     "name": "stdout",
     "output_type": "stream",
     "text": [
      "\r- Download progress: 6.3%"
     ]
    },
    {
     "name": "stdout",
     "output_type": "stream",
     "text": [
      "\r- Download progress: 6.3%"
     ]
    },
    {
     "name": "stdout",
     "output_type": "stream",
     "text": [
      "\r- Download progress: 6.3%"
     ]
    },
    {
     "name": "stdout",
     "output_type": "stream",
     "text": [
      "\r- Download progress: 6.4%"
     ]
    },
    {
     "name": "stdout",
     "output_type": "stream",
     "text": [
      "\r- Download progress: 6.4%"
     ]
    },
    {
     "name": "stdout",
     "output_type": "stream",
     "text": [
      "\r- Download progress: 6.4%"
     ]
    },
    {
     "name": "stdout",
     "output_type": "stream",
     "text": [
      "\r- Download progress: 6.5%"
     ]
    },
    {
     "name": "stdout",
     "output_type": "stream",
     "text": [
      "\r- Download progress: 6.5%"
     ]
    },
    {
     "name": "stdout",
     "output_type": "stream",
     "text": [
      "\r- Download progress: 6.5%"
     ]
    },
    {
     "name": "stdout",
     "output_type": "stream",
     "text": [
      "\r- Download progress: 6.6%"
     ]
    },
    {
     "name": "stdout",
     "output_type": "stream",
     "text": [
      "\r- Download progress: 6.6%"
     ]
    },
    {
     "name": "stdout",
     "output_type": "stream",
     "text": [
      "\r- Download progress: 6.7%"
     ]
    },
    {
     "name": "stdout",
     "output_type": "stream",
     "text": [
      "\r- Download progress: 6.7%"
     ]
    },
    {
     "name": "stdout",
     "output_type": "stream",
     "text": [
      "\r- Download progress: 6.7%"
     ]
    },
    {
     "name": "stdout",
     "output_type": "stream",
     "text": [
      "\r- Download progress: 6.8%"
     ]
    },
    {
     "name": "stdout",
     "output_type": "stream",
     "text": [
      "\r- Download progress: 6.8%"
     ]
    },
    {
     "name": "stdout",
     "output_type": "stream",
     "text": [
      "\r- Download progress: 6.8%"
     ]
    },
    {
     "name": "stdout",
     "output_type": "stream",
     "text": [
      "\r- Download progress: 6.9%"
     ]
    },
    {
     "name": "stdout",
     "output_type": "stream",
     "text": [
      "\r- Download progress: 6.9%"
     ]
    },
    {
     "name": "stdout",
     "output_type": "stream",
     "text": [
      "\r- Download progress: 6.9%"
     ]
    },
    {
     "name": "stdout",
     "output_type": "stream",
     "text": [
      "\r- Download progress: 7.0%"
     ]
    },
    {
     "name": "stdout",
     "output_type": "stream",
     "text": [
      "\r- Download progress: 7.0%"
     ]
    },
    {
     "name": "stdout",
     "output_type": "stream",
     "text": [
      "\r- Download progress: 7.1%"
     ]
    },
    {
     "name": "stdout",
     "output_type": "stream",
     "text": [
      "\r- Download progress: 7.1%"
     ]
    },
    {
     "name": "stdout",
     "output_type": "stream",
     "text": [
      "\r- Download progress: 7.1%"
     ]
    },
    {
     "name": "stdout",
     "output_type": "stream",
     "text": [
      "\r- Download progress: 7.2%"
     ]
    },
    {
     "name": "stdout",
     "output_type": "stream",
     "text": [
      "\r- Download progress: 7.2%"
     ]
    },
    {
     "name": "stdout",
     "output_type": "stream",
     "text": [
      "\r- Download progress: 7.2%"
     ]
    },
    {
     "name": "stdout",
     "output_type": "stream",
     "text": [
      "\r- Download progress: 7.3%"
     ]
    },
    {
     "name": "stdout",
     "output_type": "stream",
     "text": [
      "\r- Download progress: 7.3%"
     ]
    },
    {
     "name": "stdout",
     "output_type": "stream",
     "text": [
      "\r- Download progress: 7.3%"
     ]
    },
    {
     "name": "stdout",
     "output_type": "stream",
     "text": [
      "\r- Download progress: 7.4%"
     ]
    },
    {
     "name": "stdout",
     "output_type": "stream",
     "text": [
      "\r- Download progress: 7.4%"
     ]
    },
    {
     "name": "stdout",
     "output_type": "stream",
     "text": [
      "\r- Download progress: 7.5%"
     ]
    },
    {
     "name": "stdout",
     "output_type": "stream",
     "text": [
      "\r- Download progress: 7.5%"
     ]
    },
    {
     "name": "stdout",
     "output_type": "stream",
     "text": [
      "\r- Download progress: 7.5%"
     ]
    },
    {
     "name": "stdout",
     "output_type": "stream",
     "text": [
      "\r- Download progress: 7.6%"
     ]
    },
    {
     "name": "stdout",
     "output_type": "stream",
     "text": [
      "\r- Download progress: 7.6%"
     ]
    },
    {
     "name": "stdout",
     "output_type": "stream",
     "text": [
      "\r- Download progress: 7.6%"
     ]
    },
    {
     "name": "stdout",
     "output_type": "stream",
     "text": [
      "\r- Download progress: 7.7%"
     ]
    },
    {
     "name": "stdout",
     "output_type": "stream",
     "text": [
      "\r- Download progress: 7.7%"
     ]
    },
    {
     "name": "stdout",
     "output_type": "stream",
     "text": [
      "\r- Download progress: 7.7%"
     ]
    },
    {
     "name": "stdout",
     "output_type": "stream",
     "text": [
      "\r- Download progress: 7.8%"
     ]
    },
    {
     "name": "stdout",
     "output_type": "stream",
     "text": [
      "\r- Download progress: 7.8%"
     ]
    },
    {
     "name": "stdout",
     "output_type": "stream",
     "text": [
      "\r- Download progress: 7.9%"
     ]
    },
    {
     "name": "stdout",
     "output_type": "stream",
     "text": [
      "\r- Download progress: 7.9%"
     ]
    },
    {
     "name": "stdout",
     "output_type": "stream",
     "text": [
      "\r- Download progress: 7.9%"
     ]
    },
    {
     "name": "stdout",
     "output_type": "stream",
     "text": [
      "\r- Download progress: 8.0%"
     ]
    },
    {
     "name": "stdout",
     "output_type": "stream",
     "text": [
      "\r- Download progress: 8.0%"
     ]
    },
    {
     "name": "stdout",
     "output_type": "stream",
     "text": [
      "\r- Download progress: 8.0%"
     ]
    },
    {
     "name": "stdout",
     "output_type": "stream",
     "text": [
      "\r- Download progress: 8.1%"
     ]
    },
    {
     "name": "stdout",
     "output_type": "stream",
     "text": [
      "\r- Download progress: 8.1%"
     ]
    },
    {
     "name": "stdout",
     "output_type": "stream",
     "text": [
      "\r- Download progress: 8.1%"
     ]
    },
    {
     "name": "stdout",
     "output_type": "stream",
     "text": [
      "\r- Download progress: 8.2%"
     ]
    },
    {
     "name": "stdout",
     "output_type": "stream",
     "text": [
      "\r- Download progress: 8.2%"
     ]
    },
    {
     "name": "stdout",
     "output_type": "stream",
     "text": [
      "\r- Download progress: 8.3%"
     ]
    },
    {
     "name": "stdout",
     "output_type": "stream",
     "text": [
      "\r- Download progress: 8.3%"
     ]
    },
    {
     "name": "stdout",
     "output_type": "stream",
     "text": [
      "\r- Download progress: 8.3%"
     ]
    },
    {
     "name": "stdout",
     "output_type": "stream",
     "text": [
      "\r- Download progress: 8.4%"
     ]
    },
    {
     "name": "stdout",
     "output_type": "stream",
     "text": [
      "\r- Download progress: 8.4%"
     ]
    },
    {
     "name": "stdout",
     "output_type": "stream",
     "text": [
      "\r- Download progress: 8.4%"
     ]
    },
    {
     "name": "stdout",
     "output_type": "stream",
     "text": [
      "\r- Download progress: 8.5%"
     ]
    },
    {
     "name": "stdout",
     "output_type": "stream",
     "text": [
      "\r- Download progress: 8.5%"
     ]
    },
    {
     "name": "stdout",
     "output_type": "stream",
     "text": [
      "\r- Download progress: 8.5%"
     ]
    },
    {
     "name": "stdout",
     "output_type": "stream",
     "text": [
      "\r- Download progress: 8.6%"
     ]
    },
    {
     "name": "stdout",
     "output_type": "stream",
     "text": [
      "\r- Download progress: 8.6%"
     ]
    },
    {
     "name": "stdout",
     "output_type": "stream",
     "text": [
      "\r- Download progress: 8.7%"
     ]
    },
    {
     "name": "stdout",
     "output_type": "stream",
     "text": [
      "\r- Download progress: 8.7%"
     ]
    },
    {
     "name": "stdout",
     "output_type": "stream",
     "text": [
      "\r- Download progress: 8.7%"
     ]
    },
    {
     "name": "stdout",
     "output_type": "stream",
     "text": [
      "\r- Download progress: 8.8%"
     ]
    },
    {
     "name": "stdout",
     "output_type": "stream",
     "text": [
      "\r- Download progress: 8.8%"
     ]
    },
    {
     "name": "stdout",
     "output_type": "stream",
     "text": [
      "\r- Download progress: 8.8%"
     ]
    },
    {
     "name": "stdout",
     "output_type": "stream",
     "text": [
      "\r- Download progress: 8.9%"
     ]
    },
    {
     "name": "stdout",
     "output_type": "stream",
     "text": [
      "\r- Download progress: 8.9%"
     ]
    },
    {
     "name": "stdout",
     "output_type": "stream",
     "text": [
      "\r- Download progress: 9.0%"
     ]
    },
    {
     "name": "stdout",
     "output_type": "stream",
     "text": [
      "\r- Download progress: 9.0%"
     ]
    },
    {
     "name": "stdout",
     "output_type": "stream",
     "text": [
      "\r- Download progress: 9.0%"
     ]
    },
    {
     "name": "stdout",
     "output_type": "stream",
     "text": [
      "\r- Download progress: 9.1%"
     ]
    },
    {
     "name": "stdout",
     "output_type": "stream",
     "text": [
      "\r- Download progress: 9.1%"
     ]
    },
    {
     "name": "stdout",
     "output_type": "stream",
     "text": [
      "\r- Download progress: 9.1%"
     ]
    },
    {
     "name": "stdout",
     "output_type": "stream",
     "text": [
      "\r- Download progress: 9.2%"
     ]
    },
    {
     "name": "stdout",
     "output_type": "stream",
     "text": [
      "\r- Download progress: 9.2%"
     ]
    },
    {
     "name": "stdout",
     "output_type": "stream",
     "text": [
      "\r- Download progress: 9.2%"
     ]
    },
    {
     "name": "stdout",
     "output_type": "stream",
     "text": [
      "\r- Download progress: 9.3%"
     ]
    },
    {
     "name": "stdout",
     "output_type": "stream",
     "text": [
      "\r- Download progress: 9.3%"
     ]
    },
    {
     "name": "stdout",
     "output_type": "stream",
     "text": [
      "\r- Download progress: 9.4%"
     ]
    },
    {
     "name": "stdout",
     "output_type": "stream",
     "text": [
      "\r- Download progress: 9.4%"
     ]
    },
    {
     "name": "stdout",
     "output_type": "stream",
     "text": [
      "\r- Download progress: 9.4%"
     ]
    },
    {
     "name": "stdout",
     "output_type": "stream",
     "text": [
      "\r- Download progress: 9.5%"
     ]
    },
    {
     "name": "stdout",
     "output_type": "stream",
     "text": [
      "\r- Download progress: 9.5%"
     ]
    },
    {
     "name": "stdout",
     "output_type": "stream",
     "text": [
      "\r- Download progress: 9.5%"
     ]
    },
    {
     "name": "stdout",
     "output_type": "stream",
     "text": [
      "\r- Download progress: 9.6%"
     ]
    },
    {
     "name": "stdout",
     "output_type": "stream",
     "text": [
      "\r- Download progress: 9.6%"
     ]
    },
    {
     "name": "stdout",
     "output_type": "stream",
     "text": [
      "\r- Download progress: 9.6%"
     ]
    },
    {
     "name": "stdout",
     "output_type": "stream",
     "text": [
      "\r- Download progress: 9.7%"
     ]
    },
    {
     "name": "stdout",
     "output_type": "stream",
     "text": [
      "\r- Download progress: 9.7%"
     ]
    },
    {
     "name": "stdout",
     "output_type": "stream",
     "text": [
      "\r- Download progress: 9.8%"
     ]
    },
    {
     "name": "stdout",
     "output_type": "stream",
     "text": [
      "\r- Download progress: 9.8%"
     ]
    },
    {
     "name": "stdout",
     "output_type": "stream",
     "text": [
      "\r- Download progress: 9.8%"
     ]
    },
    {
     "name": "stdout",
     "output_type": "stream",
     "text": [
      "\r- Download progress: 9.9%"
     ]
    },
    {
     "name": "stdout",
     "output_type": "stream",
     "text": [
      "\r- Download progress: 9.9%"
     ]
    },
    {
     "name": "stdout",
     "output_type": "stream",
     "text": [
      "\r- Download progress: 9.9%"
     ]
    },
    {
     "name": "stdout",
     "output_type": "stream",
     "text": [
      "\r- Download progress: 10.0%"
     ]
    },
    {
     "name": "stdout",
     "output_type": "stream",
     "text": [
      "\r- Download progress: 10.0%"
     ]
    },
    {
     "name": "stdout",
     "output_type": "stream",
     "text": [
      "\r- Download progress: 10.0%"
     ]
    },
    {
     "name": "stdout",
     "output_type": "stream",
     "text": [
      "\r- Download progress: 10.1%"
     ]
    },
    {
     "name": "stdout",
     "output_type": "stream",
     "text": [
      "\r- Download progress: 10.1%"
     ]
    },
    {
     "name": "stdout",
     "output_type": "stream",
     "text": [
      "\r- Download progress: 10.2%"
     ]
    },
    {
     "name": "stdout",
     "output_type": "stream",
     "text": [
      "\r- Download progress: 10.2%"
     ]
    },
    {
     "name": "stdout",
     "output_type": "stream",
     "text": [
      "\r- Download progress: 10.2%"
     ]
    },
    {
     "name": "stdout",
     "output_type": "stream",
     "text": [
      "\r- Download progress: 10.3%"
     ]
    },
    {
     "name": "stdout",
     "output_type": "stream",
     "text": [
      "\r- Download progress: 10.3%"
     ]
    },
    {
     "name": "stdout",
     "output_type": "stream",
     "text": [
      "\r- Download progress: 10.3%"
     ]
    },
    {
     "name": "stdout",
     "output_type": "stream",
     "text": [
      "\r- Download progress: 10.4%"
     ]
    },
    {
     "name": "stdout",
     "output_type": "stream",
     "text": [
      "\r- Download progress: 10.4%"
     ]
    },
    {
     "name": "stdout",
     "output_type": "stream",
     "text": [
      "\r- Download progress: 10.4%"
     ]
    },
    {
     "name": "stdout",
     "output_type": "stream",
     "text": [
      "\r- Download progress: 10.5%"
     ]
    },
    {
     "name": "stdout",
     "output_type": "stream",
     "text": [
      "\r- Download progress: 10.5%"
     ]
    },
    {
     "name": "stdout",
     "output_type": "stream",
     "text": [
      "\r- Download progress: 10.6%"
     ]
    },
    {
     "name": "stdout",
     "output_type": "stream",
     "text": [
      "\r- Download progress: 10.6%"
     ]
    },
    {
     "name": "stdout",
     "output_type": "stream",
     "text": [
      "\r- Download progress: 10.6%"
     ]
    },
    {
     "name": "stdout",
     "output_type": "stream",
     "text": [
      "\r- Download progress: 10.7%"
     ]
    },
    {
     "name": "stdout",
     "output_type": "stream",
     "text": [
      "\r- Download progress: 10.7%"
     ]
    },
    {
     "name": "stdout",
     "output_type": "stream",
     "text": [
      "\r- Download progress: 10.7%"
     ]
    },
    {
     "name": "stdout",
     "output_type": "stream",
     "text": [
      "\r- Download progress: 10.8%"
     ]
    },
    {
     "name": "stdout",
     "output_type": "stream",
     "text": [
      "\r- Download progress: 10.8%"
     ]
    },
    {
     "name": "stdout",
     "output_type": "stream",
     "text": [
      "\r- Download progress: 10.8%"
     ]
    },
    {
     "name": "stdout",
     "output_type": "stream",
     "text": [
      "\r- Download progress: 10.9%"
     ]
    },
    {
     "name": "stdout",
     "output_type": "stream",
     "text": [
      "\r- Download progress: 10.9%"
     ]
    },
    {
     "name": "stdout",
     "output_type": "stream",
     "text": [
      "\r- Download progress: 11.0%"
     ]
    },
    {
     "name": "stdout",
     "output_type": "stream",
     "text": [
      "\r- Download progress: 11.0%"
     ]
    },
    {
     "name": "stdout",
     "output_type": "stream",
     "text": [
      "\r- Download progress: 11.0%"
     ]
    },
    {
     "name": "stdout",
     "output_type": "stream",
     "text": [
      "\r- Download progress: 11.1%"
     ]
    },
    {
     "name": "stdout",
     "output_type": "stream",
     "text": [
      "\r- Download progress: 11.1%"
     ]
    },
    {
     "name": "stdout",
     "output_type": "stream",
     "text": [
      "\r- Download progress: 11.1%"
     ]
    },
    {
     "name": "stdout",
     "output_type": "stream",
     "text": [
      "\r- Download progress: 11.2%"
     ]
    },
    {
     "name": "stdout",
     "output_type": "stream",
     "text": [
      "\r- Download progress: 11.2%"
     ]
    },
    {
     "name": "stdout",
     "output_type": "stream",
     "text": [
      "\r- Download progress: 11.2%"
     ]
    },
    {
     "name": "stdout",
     "output_type": "stream",
     "text": [
      "\r- Download progress: 11.3%"
     ]
    },
    {
     "name": "stdout",
     "output_type": "stream",
     "text": [
      "\r- Download progress: 11.3%"
     ]
    },
    {
     "name": "stdout",
     "output_type": "stream",
     "text": [
      "\r- Download progress: 11.4%"
     ]
    },
    {
     "name": "stdout",
     "output_type": "stream",
     "text": [
      "\r- Download progress: 11.4%"
     ]
    },
    {
     "name": "stdout",
     "output_type": "stream",
     "text": [
      "\r- Download progress: 11.4%"
     ]
    },
    {
     "name": "stdout",
     "output_type": "stream",
     "text": [
      "\r- Download progress: 11.5%"
     ]
    },
    {
     "name": "stdout",
     "output_type": "stream",
     "text": [
      "\r- Download progress: 11.5%"
     ]
    },
    {
     "name": "stdout",
     "output_type": "stream",
     "text": [
      "\r- Download progress: 11.5%"
     ]
    },
    {
     "name": "stdout",
     "output_type": "stream",
     "text": [
      "\r- Download progress: 11.6%"
     ]
    },
    {
     "name": "stdout",
     "output_type": "stream",
     "text": [
      "\r- Download progress: 11.6%"
     ]
    },
    {
     "name": "stdout",
     "output_type": "stream",
     "text": [
      "\r- Download progress: 11.6%"
     ]
    },
    {
     "name": "stdout",
     "output_type": "stream",
     "text": [
      "\r- Download progress: 11.7%"
     ]
    },
    {
     "name": "stdout",
     "output_type": "stream",
     "text": [
      "\r- Download progress: 11.7%"
     ]
    },
    {
     "name": "stdout",
     "output_type": "stream",
     "text": [
      "\r- Download progress: 11.8%"
     ]
    },
    {
     "name": "stdout",
     "output_type": "stream",
     "text": [
      "\r- Download progress: 11.8%"
     ]
    },
    {
     "name": "stdout",
     "output_type": "stream",
     "text": [
      "\r- Download progress: 11.8%"
     ]
    },
    {
     "name": "stdout",
     "output_type": "stream",
     "text": [
      "\r- Download progress: 11.9%"
     ]
    },
    {
     "name": "stdout",
     "output_type": "stream",
     "text": [
      "\r- Download progress: 11.9%"
     ]
    },
    {
     "name": "stdout",
     "output_type": "stream",
     "text": [
      "\r- Download progress: 11.9%"
     ]
    },
    {
     "name": "stdout",
     "output_type": "stream",
     "text": [
      "\r- Download progress: 12.0%"
     ]
    },
    {
     "name": "stdout",
     "output_type": "stream",
     "text": [
      "\r- Download progress: 12.0%"
     ]
    },
    {
     "name": "stdout",
     "output_type": "stream",
     "text": [
      "\r- Download progress: 12.0%"
     ]
    },
    {
     "name": "stdout",
     "output_type": "stream",
     "text": [
      "\r- Download progress: 12.1%"
     ]
    },
    {
     "name": "stdout",
     "output_type": "stream",
     "text": [
      "\r- Download progress: 12.1%"
     ]
    },
    {
     "name": "stdout",
     "output_type": "stream",
     "text": [
      "\r- Download progress: 12.2%"
     ]
    },
    {
     "name": "stdout",
     "output_type": "stream",
     "text": [
      "\r- Download progress: 12.2%"
     ]
    },
    {
     "name": "stdout",
     "output_type": "stream",
     "text": [
      "\r- Download progress: 12.2%"
     ]
    },
    {
     "name": "stdout",
     "output_type": "stream",
     "text": [
      "\r- Download progress: 12.3%"
     ]
    },
    {
     "name": "stdout",
     "output_type": "stream",
     "text": [
      "\r- Download progress: 12.3%"
     ]
    },
    {
     "name": "stdout",
     "output_type": "stream",
     "text": [
      "\r- Download progress: 12.3%"
     ]
    },
    {
     "name": "stdout",
     "output_type": "stream",
     "text": [
      "\r- Download progress: 12.4%"
     ]
    },
    {
     "name": "stdout",
     "output_type": "stream",
     "text": [
      "\r- Download progress: 12.4%"
     ]
    },
    {
     "name": "stdout",
     "output_type": "stream",
     "text": [
      "\r- Download progress: 12.4%"
     ]
    },
    {
     "name": "stdout",
     "output_type": "stream",
     "text": [
      "\r- Download progress: 12.5%"
     ]
    },
    {
     "name": "stdout",
     "output_type": "stream",
     "text": [
      "\r- Download progress: 12.5%"
     ]
    },
    {
     "name": "stdout",
     "output_type": "stream",
     "text": [
      "\r- Download progress: 12.6%"
     ]
    },
    {
     "name": "stdout",
     "output_type": "stream",
     "text": [
      "\r- Download progress: 12.6%"
     ]
    },
    {
     "name": "stdout",
     "output_type": "stream",
     "text": [
      "\r- Download progress: 12.6%"
     ]
    },
    {
     "name": "stdout",
     "output_type": "stream",
     "text": [
      "\r- Download progress: 12.7%"
     ]
    },
    {
     "name": "stdout",
     "output_type": "stream",
     "text": [
      "\r- Download progress: 12.7%"
     ]
    },
    {
     "name": "stdout",
     "output_type": "stream",
     "text": [
      "\r- Download progress: 12.7%"
     ]
    },
    {
     "name": "stdout",
     "output_type": "stream",
     "text": [
      "\r- Download progress: 12.8%"
     ]
    },
    {
     "name": "stdout",
     "output_type": "stream",
     "text": [
      "\r- Download progress: 12.8%"
     ]
    },
    {
     "name": "stdout",
     "output_type": "stream",
     "text": [
      "\r- Download progress: 12.8%"
     ]
    },
    {
     "name": "stdout",
     "output_type": "stream",
     "text": [
      "\r- Download progress: 12.9%"
     ]
    },
    {
     "name": "stdout",
     "output_type": "stream",
     "text": [
      "\r- Download progress: 12.9%"
     ]
    },
    {
     "name": "stdout",
     "output_type": "stream",
     "text": [
      "\r- Download progress: 13.0%"
     ]
    },
    {
     "name": "stdout",
     "output_type": "stream",
     "text": [
      "\r- Download progress: 13.0%"
     ]
    },
    {
     "name": "stdout",
     "output_type": "stream",
     "text": [
      "\r- Download progress: 13.0%"
     ]
    },
    {
     "name": "stdout",
     "output_type": "stream",
     "text": [
      "\r- Download progress: 13.1%"
     ]
    },
    {
     "name": "stdout",
     "output_type": "stream",
     "text": [
      "\r- Download progress: 13.1%"
     ]
    },
    {
     "name": "stdout",
     "output_type": "stream",
     "text": [
      "\r- Download progress: 13.1%"
     ]
    },
    {
     "name": "stdout",
     "output_type": "stream",
     "text": [
      "\r- Download progress: 13.2%"
     ]
    },
    {
     "name": "stdout",
     "output_type": "stream",
     "text": [
      "\r- Download progress: 13.2%"
     ]
    },
    {
     "name": "stdout",
     "output_type": "stream",
     "text": [
      "\r- Download progress: 13.2%"
     ]
    },
    {
     "name": "stdout",
     "output_type": "stream",
     "text": [
      "\r- Download progress: 13.3%"
     ]
    },
    {
     "name": "stdout",
     "output_type": "stream",
     "text": [
      "\r- Download progress: 13.3%"
     ]
    },
    {
     "name": "stdout",
     "output_type": "stream",
     "text": [
      "\r- Download progress: 13.4%"
     ]
    },
    {
     "name": "stdout",
     "output_type": "stream",
     "text": [
      "\r- Download progress: 13.4%"
     ]
    },
    {
     "name": "stdout",
     "output_type": "stream",
     "text": [
      "\r- Download progress: 13.4%"
     ]
    },
    {
     "name": "stdout",
     "output_type": "stream",
     "text": [
      "\r- Download progress: 13.5%"
     ]
    },
    {
     "name": "stdout",
     "output_type": "stream",
     "text": [
      "\r- Download progress: 13.5%"
     ]
    },
    {
     "name": "stdout",
     "output_type": "stream",
     "text": [
      "\r- Download progress: 13.5%"
     ]
    },
    {
     "name": "stdout",
     "output_type": "stream",
     "text": [
      "\r- Download progress: 13.6%"
     ]
    },
    {
     "name": "stdout",
     "output_type": "stream",
     "text": [
      "\r- Download progress: 13.6%"
     ]
    },
    {
     "name": "stdout",
     "output_type": "stream",
     "text": [
      "\r- Download progress: 13.6%"
     ]
    },
    {
     "name": "stdout",
     "output_type": "stream",
     "text": [
      "\r- Download progress: 13.7%"
     ]
    },
    {
     "name": "stdout",
     "output_type": "stream",
     "text": [
      "\r- Download progress: 13.7%"
     ]
    },
    {
     "name": "stdout",
     "output_type": "stream",
     "text": [
      "\r- Download progress: 13.8%"
     ]
    },
    {
     "name": "stdout",
     "output_type": "stream",
     "text": [
      "\r- Download progress: 13.8%"
     ]
    },
    {
     "name": "stdout",
     "output_type": "stream",
     "text": [
      "\r- Download progress: 13.8%"
     ]
    },
    {
     "name": "stdout",
     "output_type": "stream",
     "text": [
      "\r- Download progress: 13.9%"
     ]
    },
    {
     "name": "stdout",
     "output_type": "stream",
     "text": [
      "\r- Download progress: 13.9%"
     ]
    },
    {
     "name": "stdout",
     "output_type": "stream",
     "text": [
      "\r- Download progress: 13.9%"
     ]
    },
    {
     "name": "stdout",
     "output_type": "stream",
     "text": [
      "\r- Download progress: 14.0%"
     ]
    },
    {
     "name": "stdout",
     "output_type": "stream",
     "text": [
      "\r- Download progress: 14.0%"
     ]
    },
    {
     "name": "stdout",
     "output_type": "stream",
     "text": [
      "\r- Download progress: 14.0%"
     ]
    },
    {
     "name": "stdout",
     "output_type": "stream",
     "text": [
      "\r- Download progress: 14.1%"
     ]
    },
    {
     "name": "stdout",
     "output_type": "stream",
     "text": [
      "\r- Download progress: 14.1%"
     ]
    },
    {
     "name": "stdout",
     "output_type": "stream",
     "text": [
      "\r- Download progress: 14.2%"
     ]
    },
    {
     "name": "stdout",
     "output_type": "stream",
     "text": [
      "\r- Download progress: 14.2%"
     ]
    },
    {
     "name": "stdout",
     "output_type": "stream",
     "text": [
      "\r- Download progress: 14.2%"
     ]
    },
    {
     "name": "stdout",
     "output_type": "stream",
     "text": [
      "\r- Download progress: 14.3%"
     ]
    },
    {
     "name": "stdout",
     "output_type": "stream",
     "text": [
      "\r- Download progress: 14.3%"
     ]
    },
    {
     "name": "stdout",
     "output_type": "stream",
     "text": [
      "\r- Download progress: 14.3%"
     ]
    },
    {
     "name": "stdout",
     "output_type": "stream",
     "text": [
      "\r- Download progress: 14.4%"
     ]
    },
    {
     "name": "stdout",
     "output_type": "stream",
     "text": [
      "\r- Download progress: 14.4%"
     ]
    },
    {
     "name": "stdout",
     "output_type": "stream",
     "text": [
      "\r- Download progress: 14.4%"
     ]
    },
    {
     "name": "stdout",
     "output_type": "stream",
     "text": [
      "\r- Download progress: 14.5%"
     ]
    },
    {
     "name": "stdout",
     "output_type": "stream",
     "text": [
      "\r- Download progress: 14.5%"
     ]
    },
    {
     "name": "stdout",
     "output_type": "stream",
     "text": [
      "\r- Download progress: 14.6%"
     ]
    },
    {
     "name": "stdout",
     "output_type": "stream",
     "text": [
      "\r- Download progress: 14.6%"
     ]
    },
    {
     "name": "stdout",
     "output_type": "stream",
     "text": [
      "\r- Download progress: 14.6%"
     ]
    },
    {
     "name": "stdout",
     "output_type": "stream",
     "text": [
      "\r- Download progress: 14.7%"
     ]
    },
    {
     "name": "stdout",
     "output_type": "stream",
     "text": [
      "\r- Download progress: 14.7%"
     ]
    },
    {
     "name": "stdout",
     "output_type": "stream",
     "text": [
      "\r- Download progress: 14.7%"
     ]
    },
    {
     "name": "stdout",
     "output_type": "stream",
     "text": [
      "\r- Download progress: 14.8%"
     ]
    },
    {
     "name": "stdout",
     "output_type": "stream",
     "text": [
      "\r- Download progress: 14.8%"
     ]
    },
    {
     "name": "stdout",
     "output_type": "stream",
     "text": [
      "\r- Download progress: 14.8%"
     ]
    },
    {
     "name": "stdout",
     "output_type": "stream",
     "text": [
      "\r- Download progress: 14.9%"
     ]
    },
    {
     "name": "stdout",
     "output_type": "stream",
     "text": [
      "\r- Download progress: 14.9%"
     ]
    },
    {
     "name": "stdout",
     "output_type": "stream",
     "text": [
      "\r- Download progress: 15.0%"
     ]
    },
    {
     "name": "stdout",
     "output_type": "stream",
     "text": [
      "\r- Download progress: 15.0%"
     ]
    },
    {
     "name": "stdout",
     "output_type": "stream",
     "text": [
      "\r- Download progress: 15.0%"
     ]
    },
    {
     "name": "stdout",
     "output_type": "stream",
     "text": [
      "\r- Download progress: 15.1%"
     ]
    },
    {
     "name": "stdout",
     "output_type": "stream",
     "text": [
      "\r- Download progress: 15.1%"
     ]
    },
    {
     "name": "stdout",
     "output_type": "stream",
     "text": [
      "\r- Download progress: 15.1%"
     ]
    },
    {
     "name": "stdout",
     "output_type": "stream",
     "text": [
      "\r- Download progress: 15.2%"
     ]
    },
    {
     "name": "stdout",
     "output_type": "stream",
     "text": [
      "\r- Download progress: 15.2%"
     ]
    },
    {
     "name": "stdout",
     "output_type": "stream",
     "text": [
      "\r- Download progress: 15.2%"
     ]
    },
    {
     "name": "stdout",
     "output_type": "stream",
     "text": [
      "\r- Download progress: 15.3%"
     ]
    },
    {
     "name": "stdout",
     "output_type": "stream",
     "text": [
      "\r- Download progress: 15.3%"
     ]
    },
    {
     "name": "stdout",
     "output_type": "stream",
     "text": [
      "\r- Download progress: 15.4%"
     ]
    },
    {
     "name": "stdout",
     "output_type": "stream",
     "text": [
      "\r- Download progress: 15.4%"
     ]
    },
    {
     "name": "stdout",
     "output_type": "stream",
     "text": [
      "\r- Download progress: 15.4%"
     ]
    },
    {
     "name": "stdout",
     "output_type": "stream",
     "text": [
      "\r- Download progress: 15.5%"
     ]
    },
    {
     "name": "stdout",
     "output_type": "stream",
     "text": [
      "\r- Download progress: 15.5%"
     ]
    },
    {
     "name": "stdout",
     "output_type": "stream",
     "text": [
      "\r- Download progress: 15.5%"
     ]
    },
    {
     "name": "stdout",
     "output_type": "stream",
     "text": [
      "\r- Download progress: 15.6%"
     ]
    },
    {
     "name": "stdout",
     "output_type": "stream",
     "text": [
      "\r- Download progress: 15.6%"
     ]
    },
    {
     "name": "stdout",
     "output_type": "stream",
     "text": [
      "\r- Download progress: 15.6%"
     ]
    },
    {
     "name": "stdout",
     "output_type": "stream",
     "text": [
      "\r- Download progress: 15.7%"
     ]
    },
    {
     "name": "stdout",
     "output_type": "stream",
     "text": [
      "\r- Download progress: 15.7%"
     ]
    },
    {
     "name": "stdout",
     "output_type": "stream",
     "text": [
      "\r- Download progress: 15.8%"
     ]
    },
    {
     "name": "stdout",
     "output_type": "stream",
     "text": [
      "\r- Download progress: 15.8%"
     ]
    },
    {
     "name": "stdout",
     "output_type": "stream",
     "text": [
      "\r- Download progress: 15.8%"
     ]
    },
    {
     "name": "stdout",
     "output_type": "stream",
     "text": [
      "\r- Download progress: 15.9%"
     ]
    },
    {
     "name": "stdout",
     "output_type": "stream",
     "text": [
      "\r- Download progress: 15.9%"
     ]
    },
    {
     "name": "stdout",
     "output_type": "stream",
     "text": [
      "\r- Download progress: 15.9%"
     ]
    },
    {
     "name": "stdout",
     "output_type": "stream",
     "text": [
      "\r- Download progress: 16.0%"
     ]
    },
    {
     "name": "stdout",
     "output_type": "stream",
     "text": [
      "\r- Download progress: 16.0%"
     ]
    },
    {
     "name": "stdout",
     "output_type": "stream",
     "text": [
      "\r- Download progress: 16.0%"
     ]
    },
    {
     "name": "stdout",
     "output_type": "stream",
     "text": [
      "\r- Download progress: 16.1%"
     ]
    },
    {
     "name": "stdout",
     "output_type": "stream",
     "text": [
      "\r- Download progress: 16.1%"
     ]
    },
    {
     "name": "stdout",
     "output_type": "stream",
     "text": [
      "\r- Download progress: 16.2%"
     ]
    },
    {
     "name": "stdout",
     "output_type": "stream",
     "text": [
      "\r- Download progress: 16.2%"
     ]
    },
    {
     "name": "stdout",
     "output_type": "stream",
     "text": [
      "\r- Download progress: 16.2%"
     ]
    },
    {
     "name": "stdout",
     "output_type": "stream",
     "text": [
      "\r- Download progress: 16.3%"
     ]
    },
    {
     "name": "stdout",
     "output_type": "stream",
     "text": [
      "\r- Download progress: 16.3%"
     ]
    },
    {
     "name": "stdout",
     "output_type": "stream",
     "text": [
      "\r- Download progress: 16.3%"
     ]
    },
    {
     "name": "stdout",
     "output_type": "stream",
     "text": [
      "\r- Download progress: 16.4%"
     ]
    },
    {
     "name": "stdout",
     "output_type": "stream",
     "text": [
      "\r- Download progress: 16.4%"
     ]
    },
    {
     "name": "stdout",
     "output_type": "stream",
     "text": [
      "\r- Download progress: 16.4%"
     ]
    },
    {
     "name": "stdout",
     "output_type": "stream",
     "text": [
      "\r- Download progress: 16.5%"
     ]
    },
    {
     "name": "stdout",
     "output_type": "stream",
     "text": [
      "\r- Download progress: 16.5%"
     ]
    },
    {
     "name": "stdout",
     "output_type": "stream",
     "text": [
      "\r- Download progress: 16.6%"
     ]
    },
    {
     "name": "stdout",
     "output_type": "stream",
     "text": [
      "\r- Download progress: 16.6%"
     ]
    },
    {
     "name": "stdout",
     "output_type": "stream",
     "text": [
      "\r- Download progress: 16.6%"
     ]
    },
    {
     "name": "stdout",
     "output_type": "stream",
     "text": [
      "\r- Download progress: 16.7%"
     ]
    },
    {
     "name": "stdout",
     "output_type": "stream",
     "text": [
      "\r- Download progress: 16.7%"
     ]
    },
    {
     "name": "stdout",
     "output_type": "stream",
     "text": [
      "\r- Download progress: 16.7%"
     ]
    },
    {
     "name": "stdout",
     "output_type": "stream",
     "text": [
      "\r- Download progress: 16.8%"
     ]
    },
    {
     "name": "stdout",
     "output_type": "stream",
     "text": [
      "\r- Download progress: 16.8%"
     ]
    },
    {
     "name": "stdout",
     "output_type": "stream",
     "text": [
      "\r- Download progress: 16.8%"
     ]
    },
    {
     "name": "stdout",
     "output_type": "stream",
     "text": [
      "\r- Download progress: 16.9%"
     ]
    },
    {
     "name": "stdout",
     "output_type": "stream",
     "text": [
      "\r- Download progress: 16.9%"
     ]
    },
    {
     "name": "stdout",
     "output_type": "stream",
     "text": [
      "\r- Download progress: 17.0%"
     ]
    },
    {
     "name": "stdout",
     "output_type": "stream",
     "text": [
      "\r- Download progress: 17.0%"
     ]
    },
    {
     "name": "stdout",
     "output_type": "stream",
     "text": [
      "\r- Download progress: 17.0%"
     ]
    },
    {
     "name": "stdout",
     "output_type": "stream",
     "text": [
      "\r- Download progress: 17.1%"
     ]
    },
    {
     "name": "stdout",
     "output_type": "stream",
     "text": [
      "\r- Download progress: 17.1%"
     ]
    },
    {
     "name": "stdout",
     "output_type": "stream",
     "text": [
      "\r- Download progress: 17.1%"
     ]
    },
    {
     "name": "stdout",
     "output_type": "stream",
     "text": [
      "\r- Download progress: 17.2%"
     ]
    },
    {
     "name": "stdout",
     "output_type": "stream",
     "text": [
      "\r- Download progress: 17.2%"
     ]
    },
    {
     "name": "stdout",
     "output_type": "stream",
     "text": [
      "\r- Download progress: 17.2%"
     ]
    },
    {
     "name": "stdout",
     "output_type": "stream",
     "text": [
      "\r- Download progress: 17.3%"
     ]
    },
    {
     "name": "stdout",
     "output_type": "stream",
     "text": [
      "\r- Download progress: 17.3%"
     ]
    },
    {
     "name": "stdout",
     "output_type": "stream",
     "text": [
      "\r- Download progress: 17.4%"
     ]
    },
    {
     "name": "stdout",
     "output_type": "stream",
     "text": [
      "\r- Download progress: 17.4%"
     ]
    },
    {
     "name": "stdout",
     "output_type": "stream",
     "text": [
      "\r- Download progress: 17.4%"
     ]
    },
    {
     "name": "stdout",
     "output_type": "stream",
     "text": [
      "\r- Download progress: 17.5%"
     ]
    },
    {
     "name": "stdout",
     "output_type": "stream",
     "text": [
      "\r- Download progress: 17.5%"
     ]
    },
    {
     "name": "stdout",
     "output_type": "stream",
     "text": [
      "\r- Download progress: 17.5%"
     ]
    },
    {
     "name": "stdout",
     "output_type": "stream",
     "text": [
      "\r- Download progress: 17.6%"
     ]
    },
    {
     "name": "stdout",
     "output_type": "stream",
     "text": [
      "\r- Download progress: 17.6%"
     ]
    },
    {
     "name": "stdout",
     "output_type": "stream",
     "text": [
      "\r- Download progress: 17.6%"
     ]
    },
    {
     "name": "stdout",
     "output_type": "stream",
     "text": [
      "\r- Download progress: 17.7%"
     ]
    },
    {
     "name": "stdout",
     "output_type": "stream",
     "text": [
      "\r- Download progress: 17.7%"
     ]
    },
    {
     "name": "stdout",
     "output_type": "stream",
     "text": [
      "\r- Download progress: 17.8%"
     ]
    },
    {
     "name": "stdout",
     "output_type": "stream",
     "text": [
      "\r- Download progress: 17.8%"
     ]
    },
    {
     "name": "stdout",
     "output_type": "stream",
     "text": [
      "\r- Download progress: 17.8%"
     ]
    },
    {
     "name": "stdout",
     "output_type": "stream",
     "text": [
      "\r- Download progress: 17.9%"
     ]
    },
    {
     "name": "stdout",
     "output_type": "stream",
     "text": [
      "\r- Download progress: 17.9%"
     ]
    },
    {
     "name": "stdout",
     "output_type": "stream",
     "text": [
      "\r- Download progress: 17.9%"
     ]
    },
    {
     "name": "stdout",
     "output_type": "stream",
     "text": [
      "\r- Download progress: 18.0%"
     ]
    },
    {
     "name": "stdout",
     "output_type": "stream",
     "text": [
      "\r- Download progress: 18.0%"
     ]
    },
    {
     "name": "stdout",
     "output_type": "stream",
     "text": [
      "\r- Download progress: 18.0%"
     ]
    },
    {
     "name": "stdout",
     "output_type": "stream",
     "text": [
      "\r- Download progress: 18.1%"
     ]
    },
    {
     "name": "stdout",
     "output_type": "stream",
     "text": [
      "\r- Download progress: 18.1%"
     ]
    },
    {
     "name": "stdout",
     "output_type": "stream",
     "text": [
      "\r- Download progress: 18.2%"
     ]
    },
    {
     "name": "stdout",
     "output_type": "stream",
     "text": [
      "\r- Download progress: 18.2%"
     ]
    },
    {
     "name": "stdout",
     "output_type": "stream",
     "text": [
      "\r- Download progress: 18.2%"
     ]
    },
    {
     "name": "stdout",
     "output_type": "stream",
     "text": [
      "\r- Download progress: 18.3%"
     ]
    },
    {
     "name": "stdout",
     "output_type": "stream",
     "text": [
      "\r- Download progress: 18.3%"
     ]
    },
    {
     "name": "stdout",
     "output_type": "stream",
     "text": [
      "\r- Download progress: 18.3%"
     ]
    },
    {
     "name": "stdout",
     "output_type": "stream",
     "text": [
      "\r- Download progress: 18.4%"
     ]
    },
    {
     "name": "stdout",
     "output_type": "stream",
     "text": [
      "\r- Download progress: 18.4%"
     ]
    },
    {
     "name": "stdout",
     "output_type": "stream",
     "text": [
      "\r- Download progress: 18.4%"
     ]
    },
    {
     "name": "stdout",
     "output_type": "stream",
     "text": [
      "\r- Download progress: 18.5%"
     ]
    },
    {
     "name": "stdout",
     "output_type": "stream",
     "text": [
      "\r- Download progress: 18.5%"
     ]
    },
    {
     "name": "stdout",
     "output_type": "stream",
     "text": [
      "\r- Download progress: 18.6%"
     ]
    },
    {
     "name": "stdout",
     "output_type": "stream",
     "text": [
      "\r- Download progress: 18.6%"
     ]
    },
    {
     "name": "stdout",
     "output_type": "stream",
     "text": [
      "\r- Download progress: 18.6%"
     ]
    },
    {
     "name": "stdout",
     "output_type": "stream",
     "text": [
      "\r- Download progress: 18.7%"
     ]
    },
    {
     "name": "stdout",
     "output_type": "stream",
     "text": [
      "\r- Download progress: 18.7%"
     ]
    },
    {
     "name": "stdout",
     "output_type": "stream",
     "text": [
      "\r- Download progress: 18.7%"
     ]
    },
    {
     "name": "stdout",
     "output_type": "stream",
     "text": [
      "\r- Download progress: 18.8%"
     ]
    },
    {
     "name": "stdout",
     "output_type": "stream",
     "text": [
      "\r- Download progress: 18.8%"
     ]
    },
    {
     "name": "stdout",
     "output_type": "stream",
     "text": [
      "\r- Download progress: 18.8%"
     ]
    },
    {
     "name": "stdout",
     "output_type": "stream",
     "text": [
      "\r- Download progress: 18.9%"
     ]
    },
    {
     "name": "stdout",
     "output_type": "stream",
     "text": [
      "\r- Download progress: 18.9%"
     ]
    },
    {
     "name": "stdout",
     "output_type": "stream",
     "text": [
      "\r- Download progress: 19.0%"
     ]
    },
    {
     "name": "stdout",
     "output_type": "stream",
     "text": [
      "\r- Download progress: 19.0%"
     ]
    },
    {
     "name": "stdout",
     "output_type": "stream",
     "text": [
      "\r- Download progress: 19.0%"
     ]
    },
    {
     "name": "stdout",
     "output_type": "stream",
     "text": [
      "\r- Download progress: 19.1%"
     ]
    },
    {
     "name": "stdout",
     "output_type": "stream",
     "text": [
      "\r- Download progress: 19.1%"
     ]
    },
    {
     "name": "stdout",
     "output_type": "stream",
     "text": [
      "\r- Download progress: 19.1%"
     ]
    },
    {
     "name": "stdout",
     "output_type": "stream",
     "text": [
      "\r- Download progress: 19.2%"
     ]
    },
    {
     "name": "stdout",
     "output_type": "stream",
     "text": [
      "\r- Download progress: 19.2%"
     ]
    },
    {
     "name": "stdout",
     "output_type": "stream",
     "text": [
      "\r- Download progress: 19.2%"
     ]
    },
    {
     "name": "stdout",
     "output_type": "stream",
     "text": [
      "\r- Download progress: 19.3%"
     ]
    },
    {
     "name": "stdout",
     "output_type": "stream",
     "text": [
      "\r- Download progress: 19.3%"
     ]
    },
    {
     "name": "stdout",
     "output_type": "stream",
     "text": [
      "\r- Download progress: 19.4%"
     ]
    },
    {
     "name": "stdout",
     "output_type": "stream",
     "text": [
      "\r- Download progress: 19.4%"
     ]
    },
    {
     "name": "stdout",
     "output_type": "stream",
     "text": [
      "\r- Download progress: 19.4%"
     ]
    },
    {
     "name": "stdout",
     "output_type": "stream",
     "text": [
      "\r- Download progress: 19.5%"
     ]
    },
    {
     "name": "stdout",
     "output_type": "stream",
     "text": [
      "\r- Download progress: 19.5%"
     ]
    },
    {
     "name": "stdout",
     "output_type": "stream",
     "text": [
      "\r- Download progress: 19.5%"
     ]
    },
    {
     "name": "stdout",
     "output_type": "stream",
     "text": [
      "\r- Download progress: 19.6%"
     ]
    },
    {
     "name": "stdout",
     "output_type": "stream",
     "text": [
      "\r- Download progress: 19.6%"
     ]
    },
    {
     "name": "stdout",
     "output_type": "stream",
     "text": [
      "\r- Download progress: 19.6%"
     ]
    },
    {
     "name": "stdout",
     "output_type": "stream",
     "text": [
      "\r- Download progress: 19.7%"
     ]
    },
    {
     "name": "stdout",
     "output_type": "stream",
     "text": [
      "\r- Download progress: 19.7%"
     ]
    },
    {
     "name": "stdout",
     "output_type": "stream",
     "text": [
      "\r- Download progress: 19.8%"
     ]
    },
    {
     "name": "stdout",
     "output_type": "stream",
     "text": [
      "\r- Download progress: 19.8%"
     ]
    },
    {
     "name": "stdout",
     "output_type": "stream",
     "text": [
      "\r- Download progress: 19.8%"
     ]
    },
    {
     "name": "stdout",
     "output_type": "stream",
     "text": [
      "\r- Download progress: 19.9%"
     ]
    },
    {
     "name": "stdout",
     "output_type": "stream",
     "text": [
      "\r- Download progress: 19.9%"
     ]
    },
    {
     "name": "stdout",
     "output_type": "stream",
     "text": [
      "\r- Download progress: 19.9%"
     ]
    },
    {
     "name": "stdout",
     "output_type": "stream",
     "text": [
      "\r- Download progress: 20.0%"
     ]
    },
    {
     "name": "stdout",
     "output_type": "stream",
     "text": [
      "\r- Download progress: 20.0%"
     ]
    },
    {
     "name": "stdout",
     "output_type": "stream",
     "text": [
      "\r- Download progress: 20.0%"
     ]
    },
    {
     "name": "stdout",
     "output_type": "stream",
     "text": [
      "\r- Download progress: 20.1%"
     ]
    },
    {
     "name": "stdout",
     "output_type": "stream",
     "text": [
      "\r- Download progress: 20.1%"
     ]
    },
    {
     "name": "stdout",
     "output_type": "stream",
     "text": [
      "\r- Download progress: 20.2%"
     ]
    },
    {
     "name": "stdout",
     "output_type": "stream",
     "text": [
      "\r- Download progress: 20.2%"
     ]
    },
    {
     "name": "stdout",
     "output_type": "stream",
     "text": [
      "\r- Download progress: 20.2%"
     ]
    },
    {
     "name": "stdout",
     "output_type": "stream",
     "text": [
      "\r- Download progress: 20.3%"
     ]
    },
    {
     "name": "stdout",
     "output_type": "stream",
     "text": [
      "\r- Download progress: 20.3%"
     ]
    },
    {
     "name": "stdout",
     "output_type": "stream",
     "text": [
      "\r- Download progress: 20.3%"
     ]
    },
    {
     "name": "stdout",
     "output_type": "stream",
     "text": [
      "\r- Download progress: 20.4%"
     ]
    },
    {
     "name": "stdout",
     "output_type": "stream",
     "text": [
      "\r- Download progress: 20.4%"
     ]
    },
    {
     "name": "stdout",
     "output_type": "stream",
     "text": [
      "\r- Download progress: 20.4%"
     ]
    },
    {
     "name": "stdout",
     "output_type": "stream",
     "text": [
      "\r- Download progress: 20.5%"
     ]
    },
    {
     "name": "stdout",
     "output_type": "stream",
     "text": [
      "\r- Download progress: 20.5%"
     ]
    },
    {
     "name": "stdout",
     "output_type": "stream",
     "text": [
      "\r- Download progress: 20.6%"
     ]
    },
    {
     "name": "stdout",
     "output_type": "stream",
     "text": [
      "\r- Download progress: 20.6%"
     ]
    },
    {
     "name": "stdout",
     "output_type": "stream",
     "text": [
      "\r- Download progress: 20.6%"
     ]
    },
    {
     "name": "stdout",
     "output_type": "stream",
     "text": [
      "\r- Download progress: 20.7%"
     ]
    },
    {
     "name": "stdout",
     "output_type": "stream",
     "text": [
      "\r- Download progress: 20.7%"
     ]
    },
    {
     "name": "stdout",
     "output_type": "stream",
     "text": [
      "\r- Download progress: 20.7%"
     ]
    },
    {
     "name": "stdout",
     "output_type": "stream",
     "text": [
      "\r- Download progress: 20.8%"
     ]
    },
    {
     "name": "stdout",
     "output_type": "stream",
     "text": [
      "\r- Download progress: 20.8%"
     ]
    },
    {
     "name": "stdout",
     "output_type": "stream",
     "text": [
      "\r- Download progress: 20.8%"
     ]
    },
    {
     "name": "stdout",
     "output_type": "stream",
     "text": [
      "\r- Download progress: 20.9%"
     ]
    },
    {
     "name": "stdout",
     "output_type": "stream",
     "text": [
      "\r- Download progress: 20.9%"
     ]
    },
    {
     "name": "stdout",
     "output_type": "stream",
     "text": [
      "\r- Download progress: 21.0%"
     ]
    },
    {
     "name": "stdout",
     "output_type": "stream",
     "text": [
      "\r- Download progress: 21.0%"
     ]
    },
    {
     "name": "stdout",
     "output_type": "stream",
     "text": [
      "\r- Download progress: 21.0%"
     ]
    },
    {
     "name": "stdout",
     "output_type": "stream",
     "text": [
      "\r- Download progress: 21.1%"
     ]
    },
    {
     "name": "stdout",
     "output_type": "stream",
     "text": [
      "\r- Download progress: 21.1%"
     ]
    },
    {
     "name": "stdout",
     "output_type": "stream",
     "text": [
      "\r- Download progress: 21.1%"
     ]
    },
    {
     "name": "stdout",
     "output_type": "stream",
     "text": [
      "\r- Download progress: 21.2%"
     ]
    },
    {
     "name": "stdout",
     "output_type": "stream",
     "text": [
      "\r- Download progress: 21.2%"
     ]
    },
    {
     "name": "stdout",
     "output_type": "stream",
     "text": [
      "\r- Download progress: 21.2%"
     ]
    },
    {
     "name": "stdout",
     "output_type": "stream",
     "text": [
      "\r- Download progress: 21.3%"
     ]
    },
    {
     "name": "stdout",
     "output_type": "stream",
     "text": [
      "\r- Download progress: 21.3%"
     ]
    },
    {
     "name": "stdout",
     "output_type": "stream",
     "text": [
      "\r- Download progress: 21.4%"
     ]
    },
    {
     "name": "stdout",
     "output_type": "stream",
     "text": [
      "\r- Download progress: 21.4%"
     ]
    },
    {
     "name": "stdout",
     "output_type": "stream",
     "text": [
      "\r- Download progress: 21.4%"
     ]
    },
    {
     "name": "stdout",
     "output_type": "stream",
     "text": [
      "\r- Download progress: 21.5%"
     ]
    },
    {
     "name": "stdout",
     "output_type": "stream",
     "text": [
      "\r- Download progress: 21.5%"
     ]
    },
    {
     "name": "stdout",
     "output_type": "stream",
     "text": [
      "\r- Download progress: 21.5%"
     ]
    },
    {
     "name": "stdout",
     "output_type": "stream",
     "text": [
      "\r- Download progress: 21.6%"
     ]
    },
    {
     "name": "stdout",
     "output_type": "stream",
     "text": [
      "\r- Download progress: 21.6%"
     ]
    },
    {
     "name": "stdout",
     "output_type": "stream",
     "text": [
      "\r- Download progress: 21.6%"
     ]
    },
    {
     "name": "stdout",
     "output_type": "stream",
     "text": [
      "\r- Download progress: 21.7%"
     ]
    },
    {
     "name": "stdout",
     "output_type": "stream",
     "text": [
      "\r- Download progress: 21.7%"
     ]
    },
    {
     "name": "stdout",
     "output_type": "stream",
     "text": [
      "\r- Download progress: 21.8%"
     ]
    },
    {
     "name": "stdout",
     "output_type": "stream",
     "text": [
      "\r- Download progress: 21.8%"
     ]
    },
    {
     "name": "stdout",
     "output_type": "stream",
     "text": [
      "\r- Download progress: 21.8%"
     ]
    },
    {
     "name": "stdout",
     "output_type": "stream",
     "text": [
      "\r- Download progress: 21.9%"
     ]
    },
    {
     "name": "stdout",
     "output_type": "stream",
     "text": [
      "\r- Download progress: 21.9%"
     ]
    },
    {
     "name": "stdout",
     "output_type": "stream",
     "text": [
      "\r- Download progress: 21.9%"
     ]
    },
    {
     "name": "stdout",
     "output_type": "stream",
     "text": [
      "\r- Download progress: 22.0%"
     ]
    },
    {
     "name": "stdout",
     "output_type": "stream",
     "text": [
      "\r- Download progress: 22.0%"
     ]
    },
    {
     "name": "stdout",
     "output_type": "stream",
     "text": [
      "\r- Download progress: 22.0%"
     ]
    },
    {
     "name": "stdout",
     "output_type": "stream",
     "text": [
      "\r- Download progress: 22.1%"
     ]
    },
    {
     "name": "stdout",
     "output_type": "stream",
     "text": [
      "\r- Download progress: 22.1%"
     ]
    },
    {
     "name": "stdout",
     "output_type": "stream",
     "text": [
      "\r- Download progress: 22.2%"
     ]
    },
    {
     "name": "stdout",
     "output_type": "stream",
     "text": [
      "\r- Download progress: 22.2%"
     ]
    },
    {
     "name": "stdout",
     "output_type": "stream",
     "text": [
      "\r- Download progress: 22.2%"
     ]
    },
    {
     "name": "stdout",
     "output_type": "stream",
     "text": [
      "\r- Download progress: 22.3%"
     ]
    },
    {
     "name": "stdout",
     "output_type": "stream",
     "text": [
      "\r- Download progress: 22.3%"
     ]
    },
    {
     "name": "stdout",
     "output_type": "stream",
     "text": [
      "\r- Download progress: 22.3%"
     ]
    },
    {
     "name": "stdout",
     "output_type": "stream",
     "text": [
      "\r- Download progress: 22.4%"
     ]
    },
    {
     "name": "stdout",
     "output_type": "stream",
     "text": [
      "\r- Download progress: 22.4%"
     ]
    },
    {
     "name": "stdout",
     "output_type": "stream",
     "text": [
      "\r- Download progress: 22.4%"
     ]
    },
    {
     "name": "stdout",
     "output_type": "stream",
     "text": [
      "\r- Download progress: 22.5%"
     ]
    },
    {
     "name": "stdout",
     "output_type": "stream",
     "text": [
      "\r- Download progress: 22.5%"
     ]
    },
    {
     "name": "stdout",
     "output_type": "stream",
     "text": [
      "\r- Download progress: 22.6%"
     ]
    },
    {
     "name": "stdout",
     "output_type": "stream",
     "text": [
      "\r- Download progress: 22.6%"
     ]
    },
    {
     "name": "stdout",
     "output_type": "stream",
     "text": [
      "\r- Download progress: 22.6%"
     ]
    },
    {
     "name": "stdout",
     "output_type": "stream",
     "text": [
      "\r- Download progress: 22.7%"
     ]
    },
    {
     "name": "stdout",
     "output_type": "stream",
     "text": [
      "\r- Download progress: 22.7%"
     ]
    },
    {
     "name": "stdout",
     "output_type": "stream",
     "text": [
      "\r- Download progress: 22.7%"
     ]
    },
    {
     "name": "stdout",
     "output_type": "stream",
     "text": [
      "\r- Download progress: 22.8%"
     ]
    },
    {
     "name": "stdout",
     "output_type": "stream",
     "text": [
      "\r- Download progress: 22.8%"
     ]
    },
    {
     "name": "stdout",
     "output_type": "stream",
     "text": [
      "\r- Download progress: 22.8%"
     ]
    },
    {
     "name": "stdout",
     "output_type": "stream",
     "text": [
      "\r- Download progress: 22.9%"
     ]
    },
    {
     "name": "stdout",
     "output_type": "stream",
     "text": [
      "\r- Download progress: 22.9%"
     ]
    },
    {
     "name": "stdout",
     "output_type": "stream",
     "text": [
      "\r- Download progress: 23.0%"
     ]
    },
    {
     "name": "stdout",
     "output_type": "stream",
     "text": [
      "\r- Download progress: 23.0%"
     ]
    },
    {
     "name": "stdout",
     "output_type": "stream",
     "text": [
      "\r- Download progress: 23.0%"
     ]
    },
    {
     "name": "stdout",
     "output_type": "stream",
     "text": [
      "\r- Download progress: 23.1%"
     ]
    },
    {
     "name": "stdout",
     "output_type": "stream",
     "text": [
      "\r- Download progress: 23.1%"
     ]
    },
    {
     "name": "stdout",
     "output_type": "stream",
     "text": [
      "\r- Download progress: 23.1%"
     ]
    },
    {
     "name": "stdout",
     "output_type": "stream",
     "text": [
      "\r- Download progress: 23.2%"
     ]
    },
    {
     "name": "stdout",
     "output_type": "stream",
     "text": [
      "\r- Download progress: 23.2%"
     ]
    },
    {
     "name": "stdout",
     "output_type": "stream",
     "text": [
      "\r- Download progress: 23.2%"
     ]
    },
    {
     "name": "stdout",
     "output_type": "stream",
     "text": [
      "\r- Download progress: 23.3%"
     ]
    },
    {
     "name": "stdout",
     "output_type": "stream",
     "text": [
      "\r- Download progress: 23.3%"
     ]
    },
    {
     "name": "stdout",
     "output_type": "stream",
     "text": [
      "\r- Download progress: 23.4%"
     ]
    },
    {
     "name": "stdout",
     "output_type": "stream",
     "text": [
      "\r- Download progress: 23.4%"
     ]
    },
    {
     "name": "stdout",
     "output_type": "stream",
     "text": [
      "\r- Download progress: 23.4%"
     ]
    },
    {
     "name": "stdout",
     "output_type": "stream",
     "text": [
      "\r- Download progress: 23.5%"
     ]
    },
    {
     "name": "stdout",
     "output_type": "stream",
     "text": [
      "\r- Download progress: 23.5%"
     ]
    },
    {
     "name": "stdout",
     "output_type": "stream",
     "text": [
      "\r- Download progress: 23.5%"
     ]
    },
    {
     "name": "stdout",
     "output_type": "stream",
     "text": [
      "\r- Download progress: 23.6%"
     ]
    },
    {
     "name": "stdout",
     "output_type": "stream",
     "text": [
      "\r- Download progress: 23.6%"
     ]
    },
    {
     "name": "stdout",
     "output_type": "stream",
     "text": [
      "\r- Download progress: 23.6%"
     ]
    },
    {
     "name": "stdout",
     "output_type": "stream",
     "text": [
      "\r- Download progress: 23.7%"
     ]
    },
    {
     "name": "stdout",
     "output_type": "stream",
     "text": [
      "\r- Download progress: 23.7%"
     ]
    },
    {
     "name": "stdout",
     "output_type": "stream",
     "text": [
      "\r- Download progress: 23.8%"
     ]
    },
    {
     "name": "stdout",
     "output_type": "stream",
     "text": [
      "\r- Download progress: 23.8%"
     ]
    },
    {
     "name": "stdout",
     "output_type": "stream",
     "text": [
      "\r- Download progress: 23.8%"
     ]
    },
    {
     "name": "stdout",
     "output_type": "stream",
     "text": [
      "\r- Download progress: 23.9%"
     ]
    },
    {
     "name": "stdout",
     "output_type": "stream",
     "text": [
      "\r- Download progress: 23.9%"
     ]
    },
    {
     "name": "stdout",
     "output_type": "stream",
     "text": [
      "\r- Download progress: 23.9%"
     ]
    },
    {
     "name": "stdout",
     "output_type": "stream",
     "text": [
      "\r- Download progress: 24.0%"
     ]
    },
    {
     "name": "stdout",
     "output_type": "stream",
     "text": [
      "\r- Download progress: 24.0%"
     ]
    },
    {
     "name": "stdout",
     "output_type": "stream",
     "text": [
      "\r- Download progress: 24.0%"
     ]
    },
    {
     "name": "stdout",
     "output_type": "stream",
     "text": [
      "\r- Download progress: 24.1%"
     ]
    },
    {
     "name": "stdout",
     "output_type": "stream",
     "text": [
      "\r- Download progress: 24.1%"
     ]
    },
    {
     "name": "stdout",
     "output_type": "stream",
     "text": [
      "\r- Download progress: 24.2%"
     ]
    },
    {
     "name": "stdout",
     "output_type": "stream",
     "text": [
      "\r- Download progress: 24.2%"
     ]
    },
    {
     "name": "stdout",
     "output_type": "stream",
     "text": [
      "\r- Download progress: 24.2%"
     ]
    },
    {
     "name": "stdout",
     "output_type": "stream",
     "text": [
      "\r- Download progress: 24.3%"
     ]
    },
    {
     "name": "stdout",
     "output_type": "stream",
     "text": [
      "\r- Download progress: 24.3%"
     ]
    },
    {
     "name": "stdout",
     "output_type": "stream",
     "text": [
      "\r- Download progress: 24.3%"
     ]
    },
    {
     "name": "stdout",
     "output_type": "stream",
     "text": [
      "\r- Download progress: 24.4%"
     ]
    },
    {
     "name": "stdout",
     "output_type": "stream",
     "text": [
      "\r- Download progress: 24.4%"
     ]
    },
    {
     "name": "stdout",
     "output_type": "stream",
     "text": [
      "\r- Download progress: 24.4%"
     ]
    },
    {
     "name": "stdout",
     "output_type": "stream",
     "text": [
      "\r- Download progress: 24.5%"
     ]
    },
    {
     "name": "stdout",
     "output_type": "stream",
     "text": [
      "\r- Download progress: 24.5%"
     ]
    },
    {
     "name": "stdout",
     "output_type": "stream",
     "text": [
      "\r- Download progress: 24.6%"
     ]
    },
    {
     "name": "stdout",
     "output_type": "stream",
     "text": [
      "\r- Download progress: 24.6%"
     ]
    },
    {
     "name": "stdout",
     "output_type": "stream",
     "text": [
      "\r- Download progress: 24.6%"
     ]
    },
    {
     "name": "stdout",
     "output_type": "stream",
     "text": [
      "\r- Download progress: 24.7%"
     ]
    },
    {
     "name": "stdout",
     "output_type": "stream",
     "text": [
      "\r- Download progress: 24.7%"
     ]
    },
    {
     "name": "stdout",
     "output_type": "stream",
     "text": [
      "\r- Download progress: 24.7%"
     ]
    },
    {
     "name": "stdout",
     "output_type": "stream",
     "text": [
      "\r- Download progress: 24.8%"
     ]
    },
    {
     "name": "stdout",
     "output_type": "stream",
     "text": [
      "\r- Download progress: 24.8%"
     ]
    },
    {
     "name": "stdout",
     "output_type": "stream",
     "text": [
      "\r- Download progress: 24.8%"
     ]
    },
    {
     "name": "stdout",
     "output_type": "stream",
     "text": [
      "\r- Download progress: 24.9%"
     ]
    },
    {
     "name": "stdout",
     "output_type": "stream",
     "text": [
      "\r- Download progress: 24.9%"
     ]
    },
    {
     "name": "stdout",
     "output_type": "stream",
     "text": [
      "\r- Download progress: 25.0%"
     ]
    },
    {
     "name": "stdout",
     "output_type": "stream",
     "text": [
      "\r- Download progress: 25.0%"
     ]
    },
    {
     "name": "stdout",
     "output_type": "stream",
     "text": [
      "\r- Download progress: 25.0%"
     ]
    },
    {
     "name": "stdout",
     "output_type": "stream",
     "text": [
      "\r- Download progress: 25.1%"
     ]
    },
    {
     "name": "stdout",
     "output_type": "stream",
     "text": [
      "\r- Download progress: 25.1%"
     ]
    },
    {
     "name": "stdout",
     "output_type": "stream",
     "text": [
      "\r- Download progress: 25.1%"
     ]
    },
    {
     "name": "stdout",
     "output_type": "stream",
     "text": [
      "\r- Download progress: 25.2%"
     ]
    },
    {
     "name": "stdout",
     "output_type": "stream",
     "text": [
      "\r- Download progress: 25.2%"
     ]
    },
    {
     "name": "stdout",
     "output_type": "stream",
     "text": [
      "\r- Download progress: 25.2%"
     ]
    },
    {
     "name": "stdout",
     "output_type": "stream",
     "text": [
      "\r- Download progress: 25.3%"
     ]
    },
    {
     "name": "stdout",
     "output_type": "stream",
     "text": [
      "\r- Download progress: 25.3%"
     ]
    },
    {
     "name": "stdout",
     "output_type": "stream",
     "text": [
      "\r- Download progress: 25.4%"
     ]
    },
    {
     "name": "stdout",
     "output_type": "stream",
     "text": [
      "\r- Download progress: 25.4%"
     ]
    },
    {
     "name": "stdout",
     "output_type": "stream",
     "text": [
      "\r- Download progress: 25.4%"
     ]
    },
    {
     "name": "stdout",
     "output_type": "stream",
     "text": [
      "\r- Download progress: 25.5%"
     ]
    },
    {
     "name": "stdout",
     "output_type": "stream",
     "text": [
      "\r- Download progress: 25.5%"
     ]
    },
    {
     "name": "stdout",
     "output_type": "stream",
     "text": [
      "\r- Download progress: 25.5%"
     ]
    },
    {
     "name": "stdout",
     "output_type": "stream",
     "text": [
      "\r- Download progress: 25.6%"
     ]
    },
    {
     "name": "stdout",
     "output_type": "stream",
     "text": [
      "\r- Download progress: 25.6%"
     ]
    },
    {
     "name": "stdout",
     "output_type": "stream",
     "text": [
      "\r- Download progress: 25.6%"
     ]
    },
    {
     "name": "stdout",
     "output_type": "stream",
     "text": [
      "\r- Download progress: 25.7%"
     ]
    },
    {
     "name": "stdout",
     "output_type": "stream",
     "text": [
      "\r- Download progress: 25.7%"
     ]
    },
    {
     "name": "stdout",
     "output_type": "stream",
     "text": [
      "\r- Download progress: 25.8%"
     ]
    },
    {
     "name": "stdout",
     "output_type": "stream",
     "text": [
      "\r- Download progress: 25.8%"
     ]
    },
    {
     "name": "stdout",
     "output_type": "stream",
     "text": [
      "\r- Download progress: 25.8%"
     ]
    },
    {
     "name": "stdout",
     "output_type": "stream",
     "text": [
      "\r- Download progress: 25.9%"
     ]
    },
    {
     "name": "stdout",
     "output_type": "stream",
     "text": [
      "\r- Download progress: 25.9%"
     ]
    },
    {
     "name": "stdout",
     "output_type": "stream",
     "text": [
      "\r- Download progress: 25.9%"
     ]
    },
    {
     "name": "stdout",
     "output_type": "stream",
     "text": [
      "\r- Download progress: 26.0%"
     ]
    },
    {
     "name": "stdout",
     "output_type": "stream",
     "text": [
      "\r- Download progress: 26.0%"
     ]
    },
    {
     "name": "stdout",
     "output_type": "stream",
     "text": [
      "\r- Download progress: 26.0%"
     ]
    },
    {
     "name": "stdout",
     "output_type": "stream",
     "text": [
      "\r- Download progress: 26.1%"
     ]
    },
    {
     "name": "stdout",
     "output_type": "stream",
     "text": [
      "\r- Download progress: 26.1%"
     ]
    },
    {
     "name": "stdout",
     "output_type": "stream",
     "text": [
      "\r- Download progress: 26.2%"
     ]
    },
    {
     "name": "stdout",
     "output_type": "stream",
     "text": [
      "\r- Download progress: 26.2%"
     ]
    },
    {
     "name": "stdout",
     "output_type": "stream",
     "text": [
      "\r- Download progress: 26.2%"
     ]
    },
    {
     "name": "stdout",
     "output_type": "stream",
     "text": [
      "\r- Download progress: 26.3%"
     ]
    },
    {
     "name": "stdout",
     "output_type": "stream",
     "text": [
      "\r- Download progress: 26.3%"
     ]
    },
    {
     "name": "stdout",
     "output_type": "stream",
     "text": [
      "\r- Download progress: 26.3%"
     ]
    },
    {
     "name": "stdout",
     "output_type": "stream",
     "text": [
      "\r- Download progress: 26.4%"
     ]
    },
    {
     "name": "stdout",
     "output_type": "stream",
     "text": [
      "\r- Download progress: 26.4%"
     ]
    },
    {
     "name": "stdout",
     "output_type": "stream",
     "text": [
      "\r- Download progress: 26.4%"
     ]
    },
    {
     "name": "stdout",
     "output_type": "stream",
     "text": [
      "\r- Download progress: 26.5%"
     ]
    },
    {
     "name": "stdout",
     "output_type": "stream",
     "text": [
      "\r- Download progress: 26.5%"
     ]
    },
    {
     "name": "stdout",
     "output_type": "stream",
     "text": [
      "\r- Download progress: 26.6%"
     ]
    },
    {
     "name": "stdout",
     "output_type": "stream",
     "text": [
      "\r- Download progress: 26.6%"
     ]
    },
    {
     "name": "stdout",
     "output_type": "stream",
     "text": [
      "\r- Download progress: 26.6%"
     ]
    },
    {
     "name": "stdout",
     "output_type": "stream",
     "text": [
      "\r- Download progress: 26.7%"
     ]
    },
    {
     "name": "stdout",
     "output_type": "stream",
     "text": [
      "\r- Download progress: 26.7%"
     ]
    },
    {
     "name": "stdout",
     "output_type": "stream",
     "text": [
      "\r- Download progress: 26.7%"
     ]
    },
    {
     "name": "stdout",
     "output_type": "stream",
     "text": [
      "\r- Download progress: 26.8%"
     ]
    },
    {
     "name": "stdout",
     "output_type": "stream",
     "text": [
      "\r- Download progress: 26.8%"
     ]
    },
    {
     "name": "stdout",
     "output_type": "stream",
     "text": [
      "\r- Download progress: 26.9%"
     ]
    },
    {
     "name": "stdout",
     "output_type": "stream",
     "text": [
      "\r- Download progress: 26.9%"
     ]
    },
    {
     "name": "stdout",
     "output_type": "stream",
     "text": [
      "\r- Download progress: 26.9%"
     ]
    },
    {
     "name": "stdout",
     "output_type": "stream",
     "text": [
      "\r- Download progress: 27.0%"
     ]
    },
    {
     "name": "stdout",
     "output_type": "stream",
     "text": [
      "\r- Download progress: 27.0%"
     ]
    },
    {
     "name": "stdout",
     "output_type": "stream",
     "text": [
      "\r- Download progress: 27.0%"
     ]
    },
    {
     "name": "stdout",
     "output_type": "stream",
     "text": [
      "\r- Download progress: 27.1%"
     ]
    },
    {
     "name": "stdout",
     "output_type": "stream",
     "text": [
      "\r- Download progress: 27.1%"
     ]
    },
    {
     "name": "stdout",
     "output_type": "stream",
     "text": [
      "\r- Download progress: 27.1%"
     ]
    },
    {
     "name": "stdout",
     "output_type": "stream",
     "text": [
      "\r- Download progress: 27.2%"
     ]
    },
    {
     "name": "stdout",
     "output_type": "stream",
     "text": [
      "\r- Download progress: 27.2%"
     ]
    },
    {
     "name": "stdout",
     "output_type": "stream",
     "text": [
      "\r- Download progress: 27.3%"
     ]
    },
    {
     "name": "stdout",
     "output_type": "stream",
     "text": [
      "\r- Download progress: 27.3%"
     ]
    },
    {
     "name": "stdout",
     "output_type": "stream",
     "text": [
      "\r- Download progress: 27.3%"
     ]
    },
    {
     "name": "stdout",
     "output_type": "stream",
     "text": [
      "\r- Download progress: 27.4%"
     ]
    },
    {
     "name": "stdout",
     "output_type": "stream",
     "text": [
      "\r- Download progress: 27.4%"
     ]
    },
    {
     "name": "stdout",
     "output_type": "stream",
     "text": [
      "\r- Download progress: 27.4%"
     ]
    },
    {
     "name": "stdout",
     "output_type": "stream",
     "text": [
      "\r- Download progress: 27.5%"
     ]
    },
    {
     "name": "stdout",
     "output_type": "stream",
     "text": [
      "\r- Download progress: 27.5%"
     ]
    },
    {
     "name": "stdout",
     "output_type": "stream",
     "text": [
      "\r- Download progress: 27.5%"
     ]
    },
    {
     "name": "stdout",
     "output_type": "stream",
     "text": [
      "\r- Download progress: 27.6%"
     ]
    },
    {
     "name": "stdout",
     "output_type": "stream",
     "text": [
      "\r- Download progress: 27.6%"
     ]
    },
    {
     "name": "stdout",
     "output_type": "stream",
     "text": [
      "\r- Download progress: 27.7%"
     ]
    },
    {
     "name": "stdout",
     "output_type": "stream",
     "text": [
      "\r- Download progress: 27.7%"
     ]
    },
    {
     "name": "stdout",
     "output_type": "stream",
     "text": [
      "\r- Download progress: 27.7%"
     ]
    },
    {
     "name": "stdout",
     "output_type": "stream",
     "text": [
      "\r- Download progress: 27.8%"
     ]
    },
    {
     "name": "stdout",
     "output_type": "stream",
     "text": [
      "\r- Download progress: 27.8%"
     ]
    },
    {
     "name": "stdout",
     "output_type": "stream",
     "text": [
      "\r- Download progress: 27.8%"
     ]
    },
    {
     "name": "stdout",
     "output_type": "stream",
     "text": [
      "\r- Download progress: 27.9%"
     ]
    },
    {
     "name": "stdout",
     "output_type": "stream",
     "text": [
      "\r- Download progress: 27.9%"
     ]
    },
    {
     "name": "stdout",
     "output_type": "stream",
     "text": [
      "\r- Download progress: 27.9%"
     ]
    },
    {
     "name": "stdout",
     "output_type": "stream",
     "text": [
      "\r- Download progress: 28.0%"
     ]
    },
    {
     "name": "stdout",
     "output_type": "stream",
     "text": [
      "\r- Download progress: 28.0%"
     ]
    },
    {
     "name": "stdout",
     "output_type": "stream",
     "text": [
      "\r- Download progress: 28.1%"
     ]
    },
    {
     "name": "stdout",
     "output_type": "stream",
     "text": [
      "\r- Download progress: 28.1%"
     ]
    },
    {
     "name": "stdout",
     "output_type": "stream",
     "text": [
      "\r- Download progress: 28.1%"
     ]
    },
    {
     "name": "stdout",
     "output_type": "stream",
     "text": [
      "\r- Download progress: 28.2%"
     ]
    },
    {
     "name": "stdout",
     "output_type": "stream",
     "text": [
      "\r- Download progress: 28.2%"
     ]
    },
    {
     "name": "stdout",
     "output_type": "stream",
     "text": [
      "\r- Download progress: 28.2%"
     ]
    },
    {
     "name": "stdout",
     "output_type": "stream",
     "text": [
      "\r- Download progress: 28.3%"
     ]
    },
    {
     "name": "stdout",
     "output_type": "stream",
     "text": [
      "\r- Download progress: 28.3%"
     ]
    },
    {
     "name": "stdout",
     "output_type": "stream",
     "text": [
      "\r- Download progress: 28.3%"
     ]
    },
    {
     "name": "stdout",
     "output_type": "stream",
     "text": [
      "\r- Download progress: 28.4%"
     ]
    },
    {
     "name": "stdout",
     "output_type": "stream",
     "text": [
      "\r- Download progress: 28.4%"
     ]
    },
    {
     "name": "stdout",
     "output_type": "stream",
     "text": [
      "\r- Download progress: 28.5%"
     ]
    },
    {
     "name": "stdout",
     "output_type": "stream",
     "text": [
      "\r- Download progress: 28.5%"
     ]
    },
    {
     "name": "stdout",
     "output_type": "stream",
     "text": [
      "\r- Download progress: 28.5%"
     ]
    },
    {
     "name": "stdout",
     "output_type": "stream",
     "text": [
      "\r- Download progress: 28.6%"
     ]
    },
    {
     "name": "stdout",
     "output_type": "stream",
     "text": [
      "\r- Download progress: 28.6%"
     ]
    },
    {
     "name": "stdout",
     "output_type": "stream",
     "text": [
      "\r- Download progress: 28.6%"
     ]
    },
    {
     "name": "stdout",
     "output_type": "stream",
     "text": [
      "\r- Download progress: 28.7%"
     ]
    },
    {
     "name": "stdout",
     "output_type": "stream",
     "text": [
      "\r- Download progress: 28.7%"
     ]
    },
    {
     "name": "stdout",
     "output_type": "stream",
     "text": [
      "\r- Download progress: 28.7%"
     ]
    },
    {
     "name": "stdout",
     "output_type": "stream",
     "text": [
      "\r- Download progress: 28.8%"
     ]
    },
    {
     "name": "stdout",
     "output_type": "stream",
     "text": [
      "\r- Download progress: 28.8%"
     ]
    },
    {
     "name": "stdout",
     "output_type": "stream",
     "text": [
      "\r- Download progress: 28.9%"
     ]
    },
    {
     "name": "stdout",
     "output_type": "stream",
     "text": [
      "\r- Download progress: 28.9%"
     ]
    },
    {
     "name": "stdout",
     "output_type": "stream",
     "text": [
      "\r- Download progress: 28.9%"
     ]
    },
    {
     "name": "stdout",
     "output_type": "stream",
     "text": [
      "\r- Download progress: 29.0%"
     ]
    },
    {
     "name": "stdout",
     "output_type": "stream",
     "text": [
      "\r- Download progress: 29.0%"
     ]
    },
    {
     "name": "stdout",
     "output_type": "stream",
     "text": [
      "\r- Download progress: 29.0%"
     ]
    },
    {
     "name": "stdout",
     "output_type": "stream",
     "text": [
      "\r- Download progress: 29.1%"
     ]
    },
    {
     "name": "stdout",
     "output_type": "stream",
     "text": [
      "\r- Download progress: 29.1%"
     ]
    },
    {
     "name": "stdout",
     "output_type": "stream",
     "text": [
      "\r- Download progress: 29.1%"
     ]
    },
    {
     "name": "stdout",
     "output_type": "stream",
     "text": [
      "\r- Download progress: 29.2%"
     ]
    },
    {
     "name": "stdout",
     "output_type": "stream",
     "text": [
      "\r- Download progress: 29.2%"
     ]
    },
    {
     "name": "stdout",
     "output_type": "stream",
     "text": [
      "\r- Download progress: 29.3%"
     ]
    },
    {
     "name": "stdout",
     "output_type": "stream",
     "text": [
      "\r- Download progress: 29.3%"
     ]
    },
    {
     "name": "stdout",
     "output_type": "stream",
     "text": [
      "\r- Download progress: 29.3%"
     ]
    },
    {
     "name": "stdout",
     "output_type": "stream",
     "text": [
      "\r- Download progress: 29.4%"
     ]
    },
    {
     "name": "stdout",
     "output_type": "stream",
     "text": [
      "\r- Download progress: 29.4%"
     ]
    },
    {
     "name": "stdout",
     "output_type": "stream",
     "text": [
      "\r- Download progress: 29.4%"
     ]
    },
    {
     "name": "stdout",
     "output_type": "stream",
     "text": [
      "\r- Download progress: 29.5%"
     ]
    },
    {
     "name": "stdout",
     "output_type": "stream",
     "text": [
      "\r- Download progress: 29.5%"
     ]
    },
    {
     "name": "stdout",
     "output_type": "stream",
     "text": [
      "\r- Download progress: 29.5%"
     ]
    },
    {
     "name": "stdout",
     "output_type": "stream",
     "text": [
      "\r- Download progress: 29.6%"
     ]
    },
    {
     "name": "stdout",
     "output_type": "stream",
     "text": [
      "\r- Download progress: 29.6%"
     ]
    },
    {
     "name": "stdout",
     "output_type": "stream",
     "text": [
      "\r- Download progress: 29.7%"
     ]
    },
    {
     "name": "stdout",
     "output_type": "stream",
     "text": [
      "\r- Download progress: 29.7%"
     ]
    },
    {
     "name": "stdout",
     "output_type": "stream",
     "text": [
      "\r- Download progress: 29.7%"
     ]
    },
    {
     "name": "stdout",
     "output_type": "stream",
     "text": [
      "\r- Download progress: 29.8%"
     ]
    },
    {
     "name": "stdout",
     "output_type": "stream",
     "text": [
      "\r- Download progress: 29.8%"
     ]
    },
    {
     "name": "stdout",
     "output_type": "stream",
     "text": [
      "\r- Download progress: 29.8%"
     ]
    },
    {
     "name": "stdout",
     "output_type": "stream",
     "text": [
      "\r- Download progress: 29.9%"
     ]
    },
    {
     "name": "stdout",
     "output_type": "stream",
     "text": [
      "\r- Download progress: 29.9%"
     ]
    },
    {
     "name": "stdout",
     "output_type": "stream",
     "text": [
      "\r- Download progress: 29.9%"
     ]
    },
    {
     "name": "stdout",
     "output_type": "stream",
     "text": [
      "\r- Download progress: 30.0%"
     ]
    },
    {
     "name": "stdout",
     "output_type": "stream",
     "text": [
      "\r- Download progress: 30.0%"
     ]
    },
    {
     "name": "stdout",
     "output_type": "stream",
     "text": [
      "\r- Download progress: 30.1%"
     ]
    },
    {
     "name": "stdout",
     "output_type": "stream",
     "text": [
      "\r- Download progress: 30.1%"
     ]
    },
    {
     "name": "stdout",
     "output_type": "stream",
     "text": [
      "\r- Download progress: 30.1%"
     ]
    },
    {
     "name": "stdout",
     "output_type": "stream",
     "text": [
      "\r- Download progress: 30.2%"
     ]
    },
    {
     "name": "stdout",
     "output_type": "stream",
     "text": [
      "\r- Download progress: 30.2%"
     ]
    },
    {
     "name": "stdout",
     "output_type": "stream",
     "text": [
      "\r- Download progress: 30.2%"
     ]
    },
    {
     "name": "stdout",
     "output_type": "stream",
     "text": [
      "\r- Download progress: 30.3%"
     ]
    },
    {
     "name": "stdout",
     "output_type": "stream",
     "text": [
      "\r- Download progress: 30.3%"
     ]
    },
    {
     "name": "stdout",
     "output_type": "stream",
     "text": [
      "\r- Download progress: 30.3%"
     ]
    },
    {
     "name": "stdout",
     "output_type": "stream",
     "text": [
      "\r- Download progress: 30.4%"
     ]
    },
    {
     "name": "stdout",
     "output_type": "stream",
     "text": [
      "\r- Download progress: 30.4%"
     ]
    },
    {
     "name": "stdout",
     "output_type": "stream",
     "text": [
      "\r- Download progress: 30.5%"
     ]
    },
    {
     "name": "stdout",
     "output_type": "stream",
     "text": [
      "\r- Download progress: 30.5%"
     ]
    },
    {
     "name": "stdout",
     "output_type": "stream",
     "text": [
      "\r- Download progress: 30.5%"
     ]
    },
    {
     "name": "stdout",
     "output_type": "stream",
     "text": [
      "\r- Download progress: 30.6%"
     ]
    },
    {
     "name": "stdout",
     "output_type": "stream",
     "text": [
      "\r- Download progress: 30.6%"
     ]
    },
    {
     "name": "stdout",
     "output_type": "stream",
     "text": [
      "\r- Download progress: 30.6%"
     ]
    },
    {
     "name": "stdout",
     "output_type": "stream",
     "text": [
      "\r- Download progress: 30.7%"
     ]
    },
    {
     "name": "stdout",
     "output_type": "stream",
     "text": [
      "\r- Download progress: 30.7%"
     ]
    },
    {
     "name": "stdout",
     "output_type": "stream",
     "text": [
      "\r- Download progress: 30.7%"
     ]
    },
    {
     "name": "stdout",
     "output_type": "stream",
     "text": [
      "\r- Download progress: 30.8%"
     ]
    },
    {
     "name": "stdout",
     "output_type": "stream",
     "text": [
      "\r- Download progress: 30.8%"
     ]
    },
    {
     "name": "stdout",
     "output_type": "stream",
     "text": [
      "\r- Download progress: 30.9%"
     ]
    },
    {
     "name": "stdout",
     "output_type": "stream",
     "text": [
      "\r- Download progress: 30.9%"
     ]
    },
    {
     "name": "stdout",
     "output_type": "stream",
     "text": [
      "\r- Download progress: 30.9%"
     ]
    },
    {
     "name": "stdout",
     "output_type": "stream",
     "text": [
      "\r- Download progress: 31.0%"
     ]
    },
    {
     "name": "stdout",
     "output_type": "stream",
     "text": [
      "\r- Download progress: 31.0%"
     ]
    },
    {
     "name": "stdout",
     "output_type": "stream",
     "text": [
      "\r- Download progress: 31.0%"
     ]
    },
    {
     "name": "stdout",
     "output_type": "stream",
     "text": [
      "\r- Download progress: 31.1%"
     ]
    },
    {
     "name": "stdout",
     "output_type": "stream",
     "text": [
      "\r- Download progress: 31.1%"
     ]
    },
    {
     "name": "stdout",
     "output_type": "stream",
     "text": [
      "\r- Download progress: 31.1%"
     ]
    },
    {
     "name": "stdout",
     "output_type": "stream",
     "text": [
      "\r- Download progress: 31.2%"
     ]
    },
    {
     "name": "stdout",
     "output_type": "stream",
     "text": [
      "\r- Download progress: 31.2%"
     ]
    },
    {
     "name": "stdout",
     "output_type": "stream",
     "text": [
      "\r- Download progress: 31.3%"
     ]
    },
    {
     "name": "stdout",
     "output_type": "stream",
     "text": [
      "\r- Download progress: 31.3%"
     ]
    },
    {
     "name": "stdout",
     "output_type": "stream",
     "text": [
      "\r- Download progress: 31.3%"
     ]
    },
    {
     "name": "stdout",
     "output_type": "stream",
     "text": [
      "\r- Download progress: 31.4%"
     ]
    },
    {
     "name": "stdout",
     "output_type": "stream",
     "text": [
      "\r- Download progress: 31.4%"
     ]
    },
    {
     "name": "stdout",
     "output_type": "stream",
     "text": [
      "\r- Download progress: 31.4%"
     ]
    },
    {
     "name": "stdout",
     "output_type": "stream",
     "text": [
      "\r- Download progress: 31.5%"
     ]
    },
    {
     "name": "stdout",
     "output_type": "stream",
     "text": [
      "\r- Download progress: 31.5%"
     ]
    },
    {
     "name": "stdout",
     "output_type": "stream",
     "text": [
      "\r- Download progress: 31.5%"
     ]
    },
    {
     "name": "stdout",
     "output_type": "stream",
     "text": [
      "\r- Download progress: 31.6%"
     ]
    },
    {
     "name": "stdout",
     "output_type": "stream",
     "text": [
      "\r- Download progress: 31.6%"
     ]
    },
    {
     "name": "stdout",
     "output_type": "stream",
     "text": [
      "\r- Download progress: 31.7%"
     ]
    },
    {
     "name": "stdout",
     "output_type": "stream",
     "text": [
      "\r- Download progress: 31.7%"
     ]
    },
    {
     "name": "stdout",
     "output_type": "stream",
     "text": [
      "\r- Download progress: 31.7%"
     ]
    },
    {
     "name": "stdout",
     "output_type": "stream",
     "text": [
      "\r- Download progress: 31.8%"
     ]
    },
    {
     "name": "stdout",
     "output_type": "stream",
     "text": [
      "\r- Download progress: 31.8%"
     ]
    },
    {
     "name": "stdout",
     "output_type": "stream",
     "text": [
      "\r- Download progress: 31.8%"
     ]
    },
    {
     "name": "stdout",
     "output_type": "stream",
     "text": [
      "\r- Download progress: 31.9%"
     ]
    },
    {
     "name": "stdout",
     "output_type": "stream",
     "text": [
      "\r- Download progress: 31.9%"
     ]
    },
    {
     "name": "stdout",
     "output_type": "stream",
     "text": [
      "\r- Download progress: 31.9%"
     ]
    },
    {
     "name": "stdout",
     "output_type": "stream",
     "text": [
      "\r- Download progress: 32.0%"
     ]
    },
    {
     "name": "stdout",
     "output_type": "stream",
     "text": [
      "\r- Download progress: 32.0%"
     ]
    },
    {
     "name": "stdout",
     "output_type": "stream",
     "text": [
      "\r- Download progress: 32.1%"
     ]
    },
    {
     "name": "stdout",
     "output_type": "stream",
     "text": [
      "\r- Download progress: 32.1%"
     ]
    },
    {
     "name": "stdout",
     "output_type": "stream",
     "text": [
      "\r- Download progress: 32.1%"
     ]
    },
    {
     "name": "stdout",
     "output_type": "stream",
     "text": [
      "\r- Download progress: 32.2%"
     ]
    },
    {
     "name": "stdout",
     "output_type": "stream",
     "text": [
      "\r- Download progress: 32.2%"
     ]
    },
    {
     "name": "stdout",
     "output_type": "stream",
     "text": [
      "\r- Download progress: 32.2%"
     ]
    },
    {
     "name": "stdout",
     "output_type": "stream",
     "text": [
      "\r- Download progress: 32.3%"
     ]
    },
    {
     "name": "stdout",
     "output_type": "stream",
     "text": [
      "\r- Download progress: 32.3%"
     ]
    },
    {
     "name": "stdout",
     "output_type": "stream",
     "text": [
      "\r- Download progress: 32.3%"
     ]
    },
    {
     "name": "stdout",
     "output_type": "stream",
     "text": [
      "\r- Download progress: 32.4%"
     ]
    },
    {
     "name": "stdout",
     "output_type": "stream",
     "text": [
      "\r- Download progress: 32.4%"
     ]
    },
    {
     "name": "stdout",
     "output_type": "stream",
     "text": [
      "\r- Download progress: 32.5%"
     ]
    },
    {
     "name": "stdout",
     "output_type": "stream",
     "text": [
      "\r- Download progress: 32.5%"
     ]
    },
    {
     "name": "stdout",
     "output_type": "stream",
     "text": [
      "\r- Download progress: 32.5%"
     ]
    },
    {
     "name": "stdout",
     "output_type": "stream",
     "text": [
      "\r- Download progress: 32.6%"
     ]
    },
    {
     "name": "stdout",
     "output_type": "stream",
     "text": [
      "\r- Download progress: 32.6%"
     ]
    },
    {
     "name": "stdout",
     "output_type": "stream",
     "text": [
      "\r- Download progress: 32.6%"
     ]
    },
    {
     "name": "stdout",
     "output_type": "stream",
     "text": [
      "\r- Download progress: 32.7%"
     ]
    },
    {
     "name": "stdout",
     "output_type": "stream",
     "text": [
      "\r- Download progress: 32.7%"
     ]
    },
    {
     "name": "stdout",
     "output_type": "stream",
     "text": [
      "\r- Download progress: 32.7%"
     ]
    },
    {
     "name": "stdout",
     "output_type": "stream",
     "text": [
      "\r- Download progress: 32.8%"
     ]
    },
    {
     "name": "stdout",
     "output_type": "stream",
     "text": [
      "\r- Download progress: 32.8%"
     ]
    },
    {
     "name": "stdout",
     "output_type": "stream",
     "text": [
      "\r- Download progress: 32.9%"
     ]
    },
    {
     "name": "stdout",
     "output_type": "stream",
     "text": [
      "\r- Download progress: 32.9%"
     ]
    },
    {
     "name": "stdout",
     "output_type": "stream",
     "text": [
      "\r- Download progress: 32.9%"
     ]
    },
    {
     "name": "stdout",
     "output_type": "stream",
     "text": [
      "\r- Download progress: 33.0%"
     ]
    },
    {
     "name": "stdout",
     "output_type": "stream",
     "text": [
      "\r- Download progress: 33.0%"
     ]
    },
    {
     "name": "stdout",
     "output_type": "stream",
     "text": [
      "\r- Download progress: 33.0%"
     ]
    },
    {
     "name": "stdout",
     "output_type": "stream",
     "text": [
      "\r- Download progress: 33.1%"
     ]
    },
    {
     "name": "stdout",
     "output_type": "stream",
     "text": [
      "\r- Download progress: 33.1%"
     ]
    },
    {
     "name": "stdout",
     "output_type": "stream",
     "text": [
      "\r- Download progress: 33.1%"
     ]
    },
    {
     "name": "stdout",
     "output_type": "stream",
     "text": [
      "\r- Download progress: 33.2%"
     ]
    },
    {
     "name": "stdout",
     "output_type": "stream",
     "text": [
      "\r- Download progress: 33.2%"
     ]
    },
    {
     "name": "stdout",
     "output_type": "stream",
     "text": [
      "\r- Download progress: 33.3%"
     ]
    },
    {
     "name": "stdout",
     "output_type": "stream",
     "text": [
      "\r- Download progress: 33.3%"
     ]
    },
    {
     "name": "stdout",
     "output_type": "stream",
     "text": [
      "\r- Download progress: 33.3%"
     ]
    },
    {
     "name": "stdout",
     "output_type": "stream",
     "text": [
      "\r- Download progress: 33.4%"
     ]
    },
    {
     "name": "stdout",
     "output_type": "stream",
     "text": [
      "\r- Download progress: 33.4%"
     ]
    },
    {
     "name": "stdout",
     "output_type": "stream",
     "text": [
      "\r- Download progress: 33.4%"
     ]
    },
    {
     "name": "stdout",
     "output_type": "stream",
     "text": [
      "\r- Download progress: 33.5%"
     ]
    },
    {
     "name": "stdout",
     "output_type": "stream",
     "text": [
      "\r- Download progress: 33.5%"
     ]
    },
    {
     "name": "stdout",
     "output_type": "stream",
     "text": [
      "\r- Download progress: 33.5%"
     ]
    },
    {
     "name": "stdout",
     "output_type": "stream",
     "text": [
      "\r- Download progress: 33.6%"
     ]
    },
    {
     "name": "stdout",
     "output_type": "stream",
     "text": [
      "\r- Download progress: 33.6%"
     ]
    },
    {
     "name": "stdout",
     "output_type": "stream",
     "text": [
      "\r- Download progress: 33.7%"
     ]
    },
    {
     "name": "stdout",
     "output_type": "stream",
     "text": [
      "\r- Download progress: 33.7%"
     ]
    },
    {
     "name": "stdout",
     "output_type": "stream",
     "text": [
      "\r- Download progress: 33.7%"
     ]
    },
    {
     "name": "stdout",
     "output_type": "stream",
     "text": [
      "\r- Download progress: 33.8%"
     ]
    },
    {
     "name": "stdout",
     "output_type": "stream",
     "text": [
      "\r- Download progress: 33.8%"
     ]
    },
    {
     "name": "stdout",
     "output_type": "stream",
     "text": [
      "\r- Download progress: 33.8%"
     ]
    },
    {
     "name": "stdout",
     "output_type": "stream",
     "text": [
      "\r- Download progress: 33.9%"
     ]
    },
    {
     "name": "stdout",
     "output_type": "stream",
     "text": [
      "\r- Download progress: 33.9%"
     ]
    },
    {
     "name": "stdout",
     "output_type": "stream",
     "text": [
      "\r- Download progress: 33.9%"
     ]
    },
    {
     "name": "stdout",
     "output_type": "stream",
     "text": [
      "\r- Download progress: 34.0%"
     ]
    },
    {
     "name": "stdout",
     "output_type": "stream",
     "text": [
      "\r- Download progress: 34.0%"
     ]
    },
    {
     "name": "stdout",
     "output_type": "stream",
     "text": [
      "\r- Download progress: 34.1%"
     ]
    },
    {
     "name": "stdout",
     "output_type": "stream",
     "text": [
      "\r- Download progress: 34.1%"
     ]
    },
    {
     "name": "stdout",
     "output_type": "stream",
     "text": [
      "\r- Download progress: 34.1%"
     ]
    },
    {
     "name": "stdout",
     "output_type": "stream",
     "text": [
      "\r- Download progress: 34.2%"
     ]
    },
    {
     "name": "stdout",
     "output_type": "stream",
     "text": [
      "\r- Download progress: 34.2%"
     ]
    },
    {
     "name": "stdout",
     "output_type": "stream",
     "text": [
      "\r- Download progress: 34.2%"
     ]
    },
    {
     "name": "stdout",
     "output_type": "stream",
     "text": [
      "\r- Download progress: 34.3%"
     ]
    },
    {
     "name": "stdout",
     "output_type": "stream",
     "text": [
      "\r- Download progress: 34.3%"
     ]
    },
    {
     "name": "stdout",
     "output_type": "stream",
     "text": [
      "\r- Download progress: 34.3%"
     ]
    },
    {
     "name": "stdout",
     "output_type": "stream",
     "text": [
      "\r- Download progress: 34.4%"
     ]
    },
    {
     "name": "stdout",
     "output_type": "stream",
     "text": [
      "\r- Download progress: 34.4%"
     ]
    },
    {
     "name": "stdout",
     "output_type": "stream",
     "text": [
      "\r- Download progress: 34.5%"
     ]
    },
    {
     "name": "stdout",
     "output_type": "stream",
     "text": [
      "\r- Download progress: 34.5%"
     ]
    },
    {
     "name": "stdout",
     "output_type": "stream",
     "text": [
      "\r- Download progress: 34.5%"
     ]
    },
    {
     "name": "stdout",
     "output_type": "stream",
     "text": [
      "\r- Download progress: 34.6%"
     ]
    },
    {
     "name": "stdout",
     "output_type": "stream",
     "text": [
      "\r- Download progress: 34.6%"
     ]
    },
    {
     "name": "stdout",
     "output_type": "stream",
     "text": [
      "\r- Download progress: 34.6%"
     ]
    },
    {
     "name": "stdout",
     "output_type": "stream",
     "text": [
      "\r- Download progress: 34.7%"
     ]
    },
    {
     "name": "stdout",
     "output_type": "stream",
     "text": [
      "\r- Download progress: 34.7%"
     ]
    },
    {
     "name": "stdout",
     "output_type": "stream",
     "text": [
      "\r- Download progress: 34.7%"
     ]
    },
    {
     "name": "stdout",
     "output_type": "stream",
     "text": [
      "\r- Download progress: 34.8%"
     ]
    },
    {
     "name": "stdout",
     "output_type": "stream",
     "text": [
      "\r- Download progress: 34.8%"
     ]
    },
    {
     "name": "stdout",
     "output_type": "stream",
     "text": [
      "\r- Download progress: 34.9%"
     ]
    },
    {
     "name": "stdout",
     "output_type": "stream",
     "text": [
      "\r- Download progress: 34.9%"
     ]
    },
    {
     "name": "stdout",
     "output_type": "stream",
     "text": [
      "\r- Download progress: 34.9%"
     ]
    },
    {
     "name": "stdout",
     "output_type": "stream",
     "text": [
      "\r- Download progress: 35.0%"
     ]
    },
    {
     "name": "stdout",
     "output_type": "stream",
     "text": [
      "\r- Download progress: 35.0%"
     ]
    },
    {
     "name": "stdout",
     "output_type": "stream",
     "text": [
      "\r- Download progress: 35.0%"
     ]
    },
    {
     "name": "stdout",
     "output_type": "stream",
     "text": [
      "\r- Download progress: 35.1%"
     ]
    },
    {
     "name": "stdout",
     "output_type": "stream",
     "text": [
      "\r- Download progress: 35.1%"
     ]
    },
    {
     "name": "stdout",
     "output_type": "stream",
     "text": [
      "\r- Download progress: 35.1%"
     ]
    },
    {
     "name": "stdout",
     "output_type": "stream",
     "text": [
      "\r- Download progress: 35.2%"
     ]
    },
    {
     "name": "stdout",
     "output_type": "stream",
     "text": [
      "\r- Download progress: 35.2%"
     ]
    },
    {
     "name": "stdout",
     "output_type": "stream",
     "text": [
      "\r- Download progress: 35.3%"
     ]
    },
    {
     "name": "stdout",
     "output_type": "stream",
     "text": [
      "\r- Download progress: 35.3%"
     ]
    },
    {
     "name": "stdout",
     "output_type": "stream",
     "text": [
      "\r- Download progress: 35.3%"
     ]
    },
    {
     "name": "stdout",
     "output_type": "stream",
     "text": [
      "\r- Download progress: 35.4%"
     ]
    },
    {
     "name": "stdout",
     "output_type": "stream",
     "text": [
      "\r- Download progress: 35.4%"
     ]
    },
    {
     "name": "stdout",
     "output_type": "stream",
     "text": [
      "\r- Download progress: 35.4%"
     ]
    },
    {
     "name": "stdout",
     "output_type": "stream",
     "text": [
      "\r- Download progress: 35.5%"
     ]
    },
    {
     "name": "stdout",
     "output_type": "stream",
     "text": [
      "\r- Download progress: 35.5%"
     ]
    },
    {
     "name": "stdout",
     "output_type": "stream",
     "text": [
      "\r- Download progress: 35.5%"
     ]
    },
    {
     "name": "stdout",
     "output_type": "stream",
     "text": [
      "\r- Download progress: 35.6%"
     ]
    },
    {
     "name": "stdout",
     "output_type": "stream",
     "text": [
      "\r- Download progress: 35.6%"
     ]
    },
    {
     "name": "stdout",
     "output_type": "stream",
     "text": [
      "\r- Download progress: 35.7%"
     ]
    },
    {
     "name": "stdout",
     "output_type": "stream",
     "text": [
      "\r- Download progress: 35.7%"
     ]
    },
    {
     "name": "stdout",
     "output_type": "stream",
     "text": [
      "\r- Download progress: 35.7%"
     ]
    },
    {
     "name": "stdout",
     "output_type": "stream",
     "text": [
      "\r- Download progress: 35.8%"
     ]
    },
    {
     "name": "stdout",
     "output_type": "stream",
     "text": [
      "\r- Download progress: 35.8%"
     ]
    },
    {
     "name": "stdout",
     "output_type": "stream",
     "text": [
      "\r- Download progress: 35.8%"
     ]
    },
    {
     "name": "stdout",
     "output_type": "stream",
     "text": [
      "\r- Download progress: 35.9%"
     ]
    },
    {
     "name": "stdout",
     "output_type": "stream",
     "text": [
      "\r- Download progress: 35.9%"
     ]
    },
    {
     "name": "stdout",
     "output_type": "stream",
     "text": [
      "\r- Download progress: 35.9%"
     ]
    },
    {
     "name": "stdout",
     "output_type": "stream",
     "text": [
      "\r- Download progress: 36.0%"
     ]
    },
    {
     "name": "stdout",
     "output_type": "stream",
     "text": [
      "\r- Download progress: 36.0%"
     ]
    },
    {
     "name": "stdout",
     "output_type": "stream",
     "text": [
      "\r- Download progress: 36.1%"
     ]
    },
    {
     "name": "stdout",
     "output_type": "stream",
     "text": [
      "\r- Download progress: 36.1%"
     ]
    },
    {
     "name": "stdout",
     "output_type": "stream",
     "text": [
      "\r- Download progress: 36.1%"
     ]
    },
    {
     "name": "stdout",
     "output_type": "stream",
     "text": [
      "\r- Download progress: 36.2%"
     ]
    },
    {
     "name": "stdout",
     "output_type": "stream",
     "text": [
      "\r- Download progress: 36.2%"
     ]
    },
    {
     "name": "stdout",
     "output_type": "stream",
     "text": [
      "\r- Download progress: 36.2%"
     ]
    },
    {
     "name": "stdout",
     "output_type": "stream",
     "text": [
      "\r- Download progress: 36.3%"
     ]
    },
    {
     "name": "stdout",
     "output_type": "stream",
     "text": [
      "\r- Download progress: 36.3%"
     ]
    },
    {
     "name": "stdout",
     "output_type": "stream",
     "text": [
      "\r- Download progress: 36.3%"
     ]
    },
    {
     "name": "stdout",
     "output_type": "stream",
     "text": [
      "\r- Download progress: 36.4%"
     ]
    },
    {
     "name": "stdout",
     "output_type": "stream",
     "text": [
      "\r- Download progress: 36.4%"
     ]
    },
    {
     "name": "stdout",
     "output_type": "stream",
     "text": [
      "\r- Download progress: 36.5%"
     ]
    },
    {
     "name": "stdout",
     "output_type": "stream",
     "text": [
      "\r- Download progress: 36.5%"
     ]
    },
    {
     "name": "stdout",
     "output_type": "stream",
     "text": [
      "\r- Download progress: 36.5%"
     ]
    },
    {
     "name": "stdout",
     "output_type": "stream",
     "text": [
      "\r- Download progress: 36.6%"
     ]
    },
    {
     "name": "stdout",
     "output_type": "stream",
     "text": [
      "\r- Download progress: 36.6%"
     ]
    },
    {
     "name": "stdout",
     "output_type": "stream",
     "text": [
      "\r- Download progress: 36.6%"
     ]
    },
    {
     "name": "stdout",
     "output_type": "stream",
     "text": [
      "\r- Download progress: 36.7%"
     ]
    },
    {
     "name": "stdout",
     "output_type": "stream",
     "text": [
      "\r- Download progress: 36.7%"
     ]
    },
    {
     "name": "stdout",
     "output_type": "stream",
     "text": [
      "\r- Download progress: 36.7%"
     ]
    },
    {
     "name": "stdout",
     "output_type": "stream",
     "text": [
      "\r- Download progress: 36.8%"
     ]
    },
    {
     "name": "stdout",
     "output_type": "stream",
     "text": [
      "\r- Download progress: 36.8%"
     ]
    },
    {
     "name": "stdout",
     "output_type": "stream",
     "text": [
      "\r- Download progress: 36.9%"
     ]
    },
    {
     "name": "stdout",
     "output_type": "stream",
     "text": [
      "\r- Download progress: 36.9%"
     ]
    },
    {
     "name": "stdout",
     "output_type": "stream",
     "text": [
      "\r- Download progress: 36.9%"
     ]
    },
    {
     "name": "stdout",
     "output_type": "stream",
     "text": [
      "\r- Download progress: 37.0%"
     ]
    },
    {
     "name": "stdout",
     "output_type": "stream",
     "text": [
      "\r- Download progress: 37.0%"
     ]
    },
    {
     "name": "stdout",
     "output_type": "stream",
     "text": [
      "\r- Download progress: 37.0%"
     ]
    },
    {
     "name": "stdout",
     "output_type": "stream",
     "text": [
      "\r- Download progress: 37.1%"
     ]
    },
    {
     "name": "stdout",
     "output_type": "stream",
     "text": [
      "\r- Download progress: 37.1%"
     ]
    },
    {
     "name": "stdout",
     "output_type": "stream",
     "text": [
      "\r- Download progress: 37.1%"
     ]
    },
    {
     "name": "stdout",
     "output_type": "stream",
     "text": [
      "\r- Download progress: 37.2%"
     ]
    },
    {
     "name": "stdout",
     "output_type": "stream",
     "text": [
      "\r- Download progress: 37.2%"
     ]
    },
    {
     "name": "stdout",
     "output_type": "stream",
     "text": [
      "\r- Download progress: 37.3%"
     ]
    },
    {
     "name": "stdout",
     "output_type": "stream",
     "text": [
      "\r- Download progress: 37.3%"
     ]
    },
    {
     "name": "stdout",
     "output_type": "stream",
     "text": [
      "\r- Download progress: 37.3%"
     ]
    },
    {
     "name": "stdout",
     "output_type": "stream",
     "text": [
      "\r- Download progress: 37.4%"
     ]
    },
    {
     "name": "stdout",
     "output_type": "stream",
     "text": [
      "\r- Download progress: 37.4%"
     ]
    },
    {
     "name": "stdout",
     "output_type": "stream",
     "text": [
      "\r- Download progress: 37.4%"
     ]
    },
    {
     "name": "stdout",
     "output_type": "stream",
     "text": [
      "\r- Download progress: 37.5%"
     ]
    },
    {
     "name": "stdout",
     "output_type": "stream",
     "text": [
      "\r- Download progress: 37.5%"
     ]
    },
    {
     "name": "stdout",
     "output_type": "stream",
     "text": [
      "\r- Download progress: 37.5%"
     ]
    },
    {
     "name": "stdout",
     "output_type": "stream",
     "text": [
      "\r- Download progress: 37.6%"
     ]
    },
    {
     "name": "stdout",
     "output_type": "stream",
     "text": [
      "\r- Download progress: 37.6%"
     ]
    },
    {
     "name": "stdout",
     "output_type": "stream",
     "text": [
      "\r- Download progress: 37.7%"
     ]
    },
    {
     "name": "stdout",
     "output_type": "stream",
     "text": [
      "\r- Download progress: 37.7%"
     ]
    },
    {
     "name": "stdout",
     "output_type": "stream",
     "text": [
      "\r- Download progress: 37.7%"
     ]
    },
    {
     "name": "stdout",
     "output_type": "stream",
     "text": [
      "\r- Download progress: 37.8%"
     ]
    },
    {
     "name": "stdout",
     "output_type": "stream",
     "text": [
      "\r- Download progress: 37.8%"
     ]
    },
    {
     "name": "stdout",
     "output_type": "stream",
     "text": [
      "\r- Download progress: 37.8%"
     ]
    },
    {
     "name": "stdout",
     "output_type": "stream",
     "text": [
      "\r- Download progress: 37.9%"
     ]
    },
    {
     "name": "stdout",
     "output_type": "stream",
     "text": [
      "\r- Download progress: 37.9%"
     ]
    },
    {
     "name": "stdout",
     "output_type": "stream",
     "text": [
      "\r- Download progress: 37.9%"
     ]
    },
    {
     "name": "stdout",
     "output_type": "stream",
     "text": [
      "\r- Download progress: 38.0%"
     ]
    },
    {
     "name": "stdout",
     "output_type": "stream",
     "text": [
      "\r- Download progress: 38.0%"
     ]
    },
    {
     "name": "stdout",
     "output_type": "stream",
     "text": [
      "\r- Download progress: 38.1%"
     ]
    },
    {
     "name": "stdout",
     "output_type": "stream",
     "text": [
      "\r- Download progress: 38.1%"
     ]
    },
    {
     "name": "stdout",
     "output_type": "stream",
     "text": [
      "\r- Download progress: 38.1%"
     ]
    },
    {
     "name": "stdout",
     "output_type": "stream",
     "text": [
      "\r- Download progress: 38.2%"
     ]
    },
    {
     "name": "stdout",
     "output_type": "stream",
     "text": [
      "\r- Download progress: 38.2%"
     ]
    },
    {
     "name": "stdout",
     "output_type": "stream",
     "text": [
      "\r- Download progress: 38.2%"
     ]
    },
    {
     "name": "stdout",
     "output_type": "stream",
     "text": [
      "\r- Download progress: 38.3%"
     ]
    },
    {
     "name": "stdout",
     "output_type": "stream",
     "text": [
      "\r- Download progress: 38.3%"
     ]
    },
    {
     "name": "stdout",
     "output_type": "stream",
     "text": [
      "\r- Download progress: 38.3%"
     ]
    },
    {
     "name": "stdout",
     "output_type": "stream",
     "text": [
      "\r- Download progress: 38.4%"
     ]
    },
    {
     "name": "stdout",
     "output_type": "stream",
     "text": [
      "\r- Download progress: 38.4%"
     ]
    },
    {
     "name": "stdout",
     "output_type": "stream",
     "text": [
      "\r- Download progress: 38.5%"
     ]
    },
    {
     "name": "stdout",
     "output_type": "stream",
     "text": [
      "\r- Download progress: 38.5%"
     ]
    },
    {
     "name": "stdout",
     "output_type": "stream",
     "text": [
      "\r- Download progress: 38.5%"
     ]
    },
    {
     "name": "stdout",
     "output_type": "stream",
     "text": [
      "\r- Download progress: 38.6%"
     ]
    },
    {
     "name": "stdout",
     "output_type": "stream",
     "text": [
      "\r- Download progress: 38.6%"
     ]
    },
    {
     "name": "stdout",
     "output_type": "stream",
     "text": [
      "\r- Download progress: 38.6%"
     ]
    },
    {
     "name": "stdout",
     "output_type": "stream",
     "text": [
      "\r- Download progress: 38.7%"
     ]
    },
    {
     "name": "stdout",
     "output_type": "stream",
     "text": [
      "\r- Download progress: 38.7%"
     ]
    },
    {
     "name": "stdout",
     "output_type": "stream",
     "text": [
      "\r- Download progress: 38.7%"
     ]
    },
    {
     "name": "stdout",
     "output_type": "stream",
     "text": [
      "\r- Download progress: 38.8%"
     ]
    },
    {
     "name": "stdout",
     "output_type": "stream",
     "text": [
      "\r- Download progress: 38.8%"
     ]
    },
    {
     "name": "stdout",
     "output_type": "stream",
     "text": [
      "\r- Download progress: 38.9%"
     ]
    },
    {
     "name": "stdout",
     "output_type": "stream",
     "text": [
      "\r- Download progress: 38.9%"
     ]
    },
    {
     "name": "stdout",
     "output_type": "stream",
     "text": [
      "\r- Download progress: 38.9%"
     ]
    },
    {
     "name": "stdout",
     "output_type": "stream",
     "text": [
      "\r- Download progress: 39.0%"
     ]
    },
    {
     "name": "stdout",
     "output_type": "stream",
     "text": [
      "\r- Download progress: 39.0%"
     ]
    },
    {
     "name": "stdout",
     "output_type": "stream",
     "text": [
      "\r- Download progress: 39.0%"
     ]
    },
    {
     "name": "stdout",
     "output_type": "stream",
     "text": [
      "\r- Download progress: 39.1%"
     ]
    },
    {
     "name": "stdout",
     "output_type": "stream",
     "text": [
      "\r- Download progress: 39.1%"
     ]
    },
    {
     "name": "stdout",
     "output_type": "stream",
     "text": [
      "\r- Download progress: 39.1%"
     ]
    },
    {
     "name": "stdout",
     "output_type": "stream",
     "text": [
      "\r- Download progress: 39.2%"
     ]
    },
    {
     "name": "stdout",
     "output_type": "stream",
     "text": [
      "\r- Download progress: 39.2%"
     ]
    },
    {
     "name": "stdout",
     "output_type": "stream",
     "text": [
      "\r- Download progress: 39.3%"
     ]
    },
    {
     "name": "stdout",
     "output_type": "stream",
     "text": [
      "\r- Download progress: 39.3%"
     ]
    },
    {
     "name": "stdout",
     "output_type": "stream",
     "text": [
      "\r- Download progress: 39.3%"
     ]
    },
    {
     "name": "stdout",
     "output_type": "stream",
     "text": [
      "\r- Download progress: 39.4%"
     ]
    },
    {
     "name": "stdout",
     "output_type": "stream",
     "text": [
      "\r- Download progress: 39.4%"
     ]
    },
    {
     "name": "stdout",
     "output_type": "stream",
     "text": [
      "\r- Download progress: 39.4%"
     ]
    },
    {
     "name": "stdout",
     "output_type": "stream",
     "text": [
      "\r- Download progress: 39.5%"
     ]
    },
    {
     "name": "stdout",
     "output_type": "stream",
     "text": [
      "\r- Download progress: 39.5%"
     ]
    },
    {
     "name": "stdout",
     "output_type": "stream",
     "text": [
      "\r- Download progress: 39.5%"
     ]
    },
    {
     "name": "stdout",
     "output_type": "stream",
     "text": [
      "\r- Download progress: 39.6%"
     ]
    },
    {
     "name": "stdout",
     "output_type": "stream",
     "text": [
      "\r- Download progress: 39.6%"
     ]
    },
    {
     "name": "stdout",
     "output_type": "stream",
     "text": [
      "\r- Download progress: 39.7%"
     ]
    },
    {
     "name": "stdout",
     "output_type": "stream",
     "text": [
      "\r- Download progress: 39.7%"
     ]
    },
    {
     "name": "stdout",
     "output_type": "stream",
     "text": [
      "\r- Download progress: 39.7%"
     ]
    },
    {
     "name": "stdout",
     "output_type": "stream",
     "text": [
      "\r- Download progress: 39.8%"
     ]
    },
    {
     "name": "stdout",
     "output_type": "stream",
     "text": [
      "\r- Download progress: 39.8%"
     ]
    },
    {
     "name": "stdout",
     "output_type": "stream",
     "text": [
      "\r- Download progress: 39.8%"
     ]
    },
    {
     "name": "stdout",
     "output_type": "stream",
     "text": [
      "\r- Download progress: 39.9%"
     ]
    },
    {
     "name": "stdout",
     "output_type": "stream",
     "text": [
      "\r- Download progress: 39.9%"
     ]
    },
    {
     "name": "stdout",
     "output_type": "stream",
     "text": [
      "\r- Download progress: 39.9%"
     ]
    },
    {
     "name": "stdout",
     "output_type": "stream",
     "text": [
      "\r- Download progress: 40.0%"
     ]
    },
    {
     "name": "stdout",
     "output_type": "stream",
     "text": [
      "\r- Download progress: 40.0%"
     ]
    },
    {
     "name": "stdout",
     "output_type": "stream",
     "text": [
      "\r- Download progress: 40.1%"
     ]
    },
    {
     "name": "stdout",
     "output_type": "stream",
     "text": [
      "\r- Download progress: 40.1%"
     ]
    },
    {
     "name": "stdout",
     "output_type": "stream",
     "text": [
      "\r- Download progress: 40.1%"
     ]
    },
    {
     "name": "stdout",
     "output_type": "stream",
     "text": [
      "\r- Download progress: 40.2%"
     ]
    },
    {
     "name": "stdout",
     "output_type": "stream",
     "text": [
      "\r- Download progress: 40.2%"
     ]
    },
    {
     "name": "stdout",
     "output_type": "stream",
     "text": [
      "\r- Download progress: 40.2%"
     ]
    },
    {
     "name": "stdout",
     "output_type": "stream",
     "text": [
      "\r- Download progress: 40.3%"
     ]
    },
    {
     "name": "stdout",
     "output_type": "stream",
     "text": [
      "\r- Download progress: 40.3%"
     ]
    },
    {
     "name": "stdout",
     "output_type": "stream",
     "text": [
      "\r- Download progress: 40.3%"
     ]
    },
    {
     "name": "stdout",
     "output_type": "stream",
     "text": [
      "\r- Download progress: 40.4%"
     ]
    },
    {
     "name": "stdout",
     "output_type": "stream",
     "text": [
      "\r- Download progress: 40.4%"
     ]
    },
    {
     "name": "stdout",
     "output_type": "stream",
     "text": [
      "\r- Download progress: 40.5%"
     ]
    },
    {
     "name": "stdout",
     "output_type": "stream",
     "text": [
      "\r- Download progress: 40.5%"
     ]
    },
    {
     "name": "stdout",
     "output_type": "stream",
     "text": [
      "\r- Download progress: 40.5%"
     ]
    },
    {
     "name": "stdout",
     "output_type": "stream",
     "text": [
      "\r- Download progress: 40.6%"
     ]
    },
    {
     "name": "stdout",
     "output_type": "stream",
     "text": [
      "\r- Download progress: 40.6%"
     ]
    },
    {
     "name": "stdout",
     "output_type": "stream",
     "text": [
      "\r- Download progress: 40.6%"
     ]
    },
    {
     "name": "stdout",
     "output_type": "stream",
     "text": [
      "\r- Download progress: 40.7%"
     ]
    },
    {
     "name": "stdout",
     "output_type": "stream",
     "text": [
      "\r- Download progress: 40.7%"
     ]
    },
    {
     "name": "stdout",
     "output_type": "stream",
     "text": [
      "\r- Download progress: 40.7%"
     ]
    },
    {
     "name": "stdout",
     "output_type": "stream",
     "text": [
      "\r- Download progress: 40.8%"
     ]
    },
    {
     "name": "stdout",
     "output_type": "stream",
     "text": [
      "\r- Download progress: 40.8%"
     ]
    },
    {
     "name": "stdout",
     "output_type": "stream",
     "text": [
      "\r- Download progress: 40.9%"
     ]
    },
    {
     "name": "stdout",
     "output_type": "stream",
     "text": [
      "\r- Download progress: 40.9%"
     ]
    },
    {
     "name": "stdout",
     "output_type": "stream",
     "text": [
      "\r- Download progress: 40.9%"
     ]
    },
    {
     "name": "stdout",
     "output_type": "stream",
     "text": [
      "\r- Download progress: 41.0%"
     ]
    },
    {
     "name": "stdout",
     "output_type": "stream",
     "text": [
      "\r- Download progress: 41.0%"
     ]
    },
    {
     "name": "stdout",
     "output_type": "stream",
     "text": [
      "\r- Download progress: 41.0%"
     ]
    },
    {
     "name": "stdout",
     "output_type": "stream",
     "text": [
      "\r- Download progress: 41.1%"
     ]
    },
    {
     "name": "stdout",
     "output_type": "stream",
     "text": [
      "\r- Download progress: 41.1%"
     ]
    },
    {
     "name": "stdout",
     "output_type": "stream",
     "text": [
      "\r- Download progress: 41.1%"
     ]
    },
    {
     "name": "stdout",
     "output_type": "stream",
     "text": [
      "\r- Download progress: 41.2%"
     ]
    },
    {
     "name": "stdout",
     "output_type": "stream",
     "text": [
      "\r- Download progress: 41.2%"
     ]
    },
    {
     "name": "stdout",
     "output_type": "stream",
     "text": [
      "\r- Download progress: 41.3%"
     ]
    },
    {
     "name": "stdout",
     "output_type": "stream",
     "text": [
      "\r- Download progress: 41.3%"
     ]
    },
    {
     "name": "stdout",
     "output_type": "stream",
     "text": [
      "\r- Download progress: 41.3%"
     ]
    },
    {
     "name": "stdout",
     "output_type": "stream",
     "text": [
      "\r- Download progress: 41.4%"
     ]
    },
    {
     "name": "stdout",
     "output_type": "stream",
     "text": [
      "\r- Download progress: 41.4%"
     ]
    },
    {
     "name": "stdout",
     "output_type": "stream",
     "text": [
      "\r- Download progress: 41.4%"
     ]
    },
    {
     "name": "stdout",
     "output_type": "stream",
     "text": [
      "\r- Download progress: 41.5%"
     ]
    },
    {
     "name": "stdout",
     "output_type": "stream",
     "text": [
      "\r- Download progress: 41.5%"
     ]
    },
    {
     "name": "stdout",
     "output_type": "stream",
     "text": [
      "\r- Download progress: 41.5%"
     ]
    },
    {
     "name": "stdout",
     "output_type": "stream",
     "text": [
      "\r- Download progress: 41.6%"
     ]
    },
    {
     "name": "stdout",
     "output_type": "stream",
     "text": [
      "\r- Download progress: 41.6%"
     ]
    },
    {
     "name": "stdout",
     "output_type": "stream",
     "text": [
      "\r- Download progress: 41.7%"
     ]
    },
    {
     "name": "stdout",
     "output_type": "stream",
     "text": [
      "\r- Download progress: 41.7%"
     ]
    },
    {
     "name": "stdout",
     "output_type": "stream",
     "text": [
      "\r- Download progress: 41.7%"
     ]
    },
    {
     "name": "stdout",
     "output_type": "stream",
     "text": [
      "\r- Download progress: 41.8%"
     ]
    },
    {
     "name": "stdout",
     "output_type": "stream",
     "text": [
      "\r- Download progress: 41.8%"
     ]
    },
    {
     "name": "stdout",
     "output_type": "stream",
     "text": [
      "\r- Download progress: 41.8%"
     ]
    },
    {
     "name": "stdout",
     "output_type": "stream",
     "text": [
      "\r- Download progress: 41.9%"
     ]
    },
    {
     "name": "stdout",
     "output_type": "stream",
     "text": [
      "\r- Download progress: 41.9%"
     ]
    },
    {
     "name": "stdout",
     "output_type": "stream",
     "text": [
      "\r- Download progress: 41.9%"
     ]
    },
    {
     "name": "stdout",
     "output_type": "stream",
     "text": [
      "\r- Download progress: 42.0%"
     ]
    },
    {
     "name": "stdout",
     "output_type": "stream",
     "text": [
      "\r- Download progress: 42.0%"
     ]
    },
    {
     "name": "stdout",
     "output_type": "stream",
     "text": [
      "\r- Download progress: 42.1%"
     ]
    },
    {
     "name": "stdout",
     "output_type": "stream",
     "text": [
      "\r- Download progress: 42.1%"
     ]
    },
    {
     "name": "stdout",
     "output_type": "stream",
     "text": [
      "\r- Download progress: 42.1%"
     ]
    },
    {
     "name": "stdout",
     "output_type": "stream",
     "text": [
      "\r- Download progress: 42.2%"
     ]
    },
    {
     "name": "stdout",
     "output_type": "stream",
     "text": [
      "\r- Download progress: 42.2%"
     ]
    },
    {
     "name": "stdout",
     "output_type": "stream",
     "text": [
      "\r- Download progress: 42.2%"
     ]
    },
    {
     "name": "stdout",
     "output_type": "stream",
     "text": [
      "\r- Download progress: 42.3%"
     ]
    },
    {
     "name": "stdout",
     "output_type": "stream",
     "text": [
      "\r- Download progress: 42.3%"
     ]
    },
    {
     "name": "stdout",
     "output_type": "stream",
     "text": [
      "\r- Download progress: 42.3%"
     ]
    },
    {
     "name": "stdout",
     "output_type": "stream",
     "text": [
      "\r- Download progress: 42.4%"
     ]
    },
    {
     "name": "stdout",
     "output_type": "stream",
     "text": [
      "\r- Download progress: 42.4%"
     ]
    },
    {
     "name": "stdout",
     "output_type": "stream",
     "text": [
      "\r- Download progress: 42.5%"
     ]
    },
    {
     "name": "stdout",
     "output_type": "stream",
     "text": [
      "\r- Download progress: 42.5%"
     ]
    },
    {
     "name": "stdout",
     "output_type": "stream",
     "text": [
      "\r- Download progress: 42.5%"
     ]
    },
    {
     "name": "stdout",
     "output_type": "stream",
     "text": [
      "\r- Download progress: 42.6%"
     ]
    },
    {
     "name": "stdout",
     "output_type": "stream",
     "text": [
      "\r- Download progress: 42.6%"
     ]
    },
    {
     "name": "stdout",
     "output_type": "stream",
     "text": [
      "\r- Download progress: 42.6%"
     ]
    },
    {
     "name": "stdout",
     "output_type": "stream",
     "text": [
      "\r- Download progress: 42.7%"
     ]
    },
    {
     "name": "stdout",
     "output_type": "stream",
     "text": [
      "\r- Download progress: 42.7%"
     ]
    },
    {
     "name": "stdout",
     "output_type": "stream",
     "text": [
      "\r- Download progress: 42.7%"
     ]
    },
    {
     "name": "stdout",
     "output_type": "stream",
     "text": [
      "\r- Download progress: 42.8%"
     ]
    },
    {
     "name": "stdout",
     "output_type": "stream",
     "text": [
      "\r- Download progress: 42.8%"
     ]
    },
    {
     "name": "stdout",
     "output_type": "stream",
     "text": [
      "\r- Download progress: 42.9%"
     ]
    },
    {
     "name": "stdout",
     "output_type": "stream",
     "text": [
      "\r- Download progress: 42.9%"
     ]
    },
    {
     "name": "stdout",
     "output_type": "stream",
     "text": [
      "\r- Download progress: 42.9%"
     ]
    },
    {
     "name": "stdout",
     "output_type": "stream",
     "text": [
      "\r- Download progress: 43.0%"
     ]
    },
    {
     "name": "stdout",
     "output_type": "stream",
     "text": [
      "\r- Download progress: 43.0%"
     ]
    },
    {
     "name": "stdout",
     "output_type": "stream",
     "text": [
      "\r- Download progress: 43.0%"
     ]
    },
    {
     "name": "stdout",
     "output_type": "stream",
     "text": [
      "\r- Download progress: 43.1%"
     ]
    },
    {
     "name": "stdout",
     "output_type": "stream",
     "text": [
      "\r- Download progress: 43.1%"
     ]
    },
    {
     "name": "stdout",
     "output_type": "stream",
     "text": [
      "\r- Download progress: 43.1%"
     ]
    },
    {
     "name": "stdout",
     "output_type": "stream",
     "text": [
      "\r- Download progress: 43.2%"
     ]
    },
    {
     "name": "stdout",
     "output_type": "stream",
     "text": [
      "\r- Download progress: 43.2%"
     ]
    },
    {
     "name": "stdout",
     "output_type": "stream",
     "text": [
      "\r- Download progress: 43.3%"
     ]
    },
    {
     "name": "stdout",
     "output_type": "stream",
     "text": [
      "\r- Download progress: 43.3%"
     ]
    },
    {
     "name": "stdout",
     "output_type": "stream",
     "text": [
      "\r- Download progress: 43.3%"
     ]
    },
    {
     "name": "stdout",
     "output_type": "stream",
     "text": [
      "\r- Download progress: 43.4%"
     ]
    },
    {
     "name": "stdout",
     "output_type": "stream",
     "text": [
      "\r- Download progress: 43.4%"
     ]
    },
    {
     "name": "stdout",
     "output_type": "stream",
     "text": [
      "\r- Download progress: 43.4%"
     ]
    },
    {
     "name": "stdout",
     "output_type": "stream",
     "text": [
      "\r- Download progress: 43.5%"
     ]
    },
    {
     "name": "stdout",
     "output_type": "stream",
     "text": [
      "\r- Download progress: 43.5%"
     ]
    },
    {
     "name": "stdout",
     "output_type": "stream",
     "text": [
      "\r- Download progress: 43.5%"
     ]
    },
    {
     "name": "stdout",
     "output_type": "stream",
     "text": [
      "\r- Download progress: 43.6%"
     ]
    },
    {
     "name": "stdout",
     "output_type": "stream",
     "text": [
      "\r- Download progress: 43.6%"
     ]
    },
    {
     "name": "stdout",
     "output_type": "stream",
     "text": [
      "\r- Download progress: 43.7%"
     ]
    },
    {
     "name": "stdout",
     "output_type": "stream",
     "text": [
      "\r- Download progress: 43.7%"
     ]
    },
    {
     "name": "stdout",
     "output_type": "stream",
     "text": [
      "\r- Download progress: 43.7%"
     ]
    },
    {
     "name": "stdout",
     "output_type": "stream",
     "text": [
      "\r- Download progress: 43.8%"
     ]
    },
    {
     "name": "stdout",
     "output_type": "stream",
     "text": [
      "\r- Download progress: 43.8%"
     ]
    },
    {
     "name": "stdout",
     "output_type": "stream",
     "text": [
      "\r- Download progress: 43.8%"
     ]
    },
    {
     "name": "stdout",
     "output_type": "stream",
     "text": [
      "\r- Download progress: 43.9%"
     ]
    },
    {
     "name": "stdout",
     "output_type": "stream",
     "text": [
      "\r- Download progress: 43.9%"
     ]
    },
    {
     "name": "stdout",
     "output_type": "stream",
     "text": [
      "\r- Download progress: 43.9%"
     ]
    },
    {
     "name": "stdout",
     "output_type": "stream",
     "text": [
      "\r- Download progress: 44.0%"
     ]
    },
    {
     "name": "stdout",
     "output_type": "stream",
     "text": [
      "\r- Download progress: 44.0%"
     ]
    },
    {
     "name": "stdout",
     "output_type": "stream",
     "text": [
      "\r- Download progress: 44.1%"
     ]
    },
    {
     "name": "stdout",
     "output_type": "stream",
     "text": [
      "\r- Download progress: 44.1%"
     ]
    },
    {
     "name": "stdout",
     "output_type": "stream",
     "text": [
      "\r- Download progress: 44.1%"
     ]
    },
    {
     "name": "stdout",
     "output_type": "stream",
     "text": [
      "\r- Download progress: 44.2%"
     ]
    },
    {
     "name": "stdout",
     "output_type": "stream",
     "text": [
      "\r- Download progress: 44.2%"
     ]
    },
    {
     "name": "stdout",
     "output_type": "stream",
     "text": [
      "\r- Download progress: 44.2%"
     ]
    },
    {
     "name": "stdout",
     "output_type": "stream",
     "text": [
      "\r- Download progress: 44.3%"
     ]
    },
    {
     "name": "stdout",
     "output_type": "stream",
     "text": [
      "\r- Download progress: 44.3%"
     ]
    },
    {
     "name": "stdout",
     "output_type": "stream",
     "text": [
      "\r- Download progress: 44.4%"
     ]
    },
    {
     "name": "stdout",
     "output_type": "stream",
     "text": [
      "\r- Download progress: 44.4%"
     ]
    },
    {
     "name": "stdout",
     "output_type": "stream",
     "text": [
      "\r- Download progress: 44.4%"
     ]
    },
    {
     "name": "stdout",
     "output_type": "stream",
     "text": [
      "\r- Download progress: 44.5%"
     ]
    },
    {
     "name": "stdout",
     "output_type": "stream",
     "text": [
      "\r- Download progress: 44.5%"
     ]
    },
    {
     "name": "stdout",
     "output_type": "stream",
     "text": [
      "\r- Download progress: 44.5%"
     ]
    },
    {
     "name": "stdout",
     "output_type": "stream",
     "text": [
      "\r- Download progress: 44.6%"
     ]
    },
    {
     "name": "stdout",
     "output_type": "stream",
     "text": [
      "\r- Download progress: 44.6%"
     ]
    },
    {
     "name": "stdout",
     "output_type": "stream",
     "text": [
      "\r- Download progress: 44.6%"
     ]
    },
    {
     "name": "stdout",
     "output_type": "stream",
     "text": [
      "\r- Download progress: 44.7%"
     ]
    },
    {
     "name": "stdout",
     "output_type": "stream",
     "text": [
      "\r- Download progress: 44.7%"
     ]
    },
    {
     "name": "stdout",
     "output_type": "stream",
     "text": [
      "\r- Download progress: 44.8%"
     ]
    },
    {
     "name": "stdout",
     "output_type": "stream",
     "text": [
      "\r- Download progress: 44.8%"
     ]
    },
    {
     "name": "stdout",
     "output_type": "stream",
     "text": [
      "\r- Download progress: 44.8%"
     ]
    },
    {
     "name": "stdout",
     "output_type": "stream",
     "text": [
      "\r- Download progress: 44.9%"
     ]
    },
    {
     "name": "stdout",
     "output_type": "stream",
     "text": [
      "\r- Download progress: 44.9%"
     ]
    },
    {
     "name": "stdout",
     "output_type": "stream",
     "text": [
      "\r- Download progress: 44.9%"
     ]
    },
    {
     "name": "stdout",
     "output_type": "stream",
     "text": [
      "\r- Download progress: 45.0%"
     ]
    },
    {
     "name": "stdout",
     "output_type": "stream",
     "text": [
      "\r- Download progress: 45.0%"
     ]
    },
    {
     "name": "stdout",
     "output_type": "stream",
     "text": [
      "\r- Download progress: 45.0%"
     ]
    },
    {
     "name": "stdout",
     "output_type": "stream",
     "text": [
      "\r- Download progress: 45.1%"
     ]
    },
    {
     "name": "stdout",
     "output_type": "stream",
     "text": [
      "\r- Download progress: 45.1%"
     ]
    },
    {
     "name": "stdout",
     "output_type": "stream",
     "text": [
      "\r- Download progress: 45.2%"
     ]
    },
    {
     "name": "stdout",
     "output_type": "stream",
     "text": [
      "\r- Download progress: 45.2%"
     ]
    },
    {
     "name": "stdout",
     "output_type": "stream",
     "text": [
      "\r- Download progress: 45.2%"
     ]
    },
    {
     "name": "stdout",
     "output_type": "stream",
     "text": [
      "\r- Download progress: 45.3%"
     ]
    },
    {
     "name": "stdout",
     "output_type": "stream",
     "text": [
      "\r- Download progress: 45.3%"
     ]
    },
    {
     "name": "stdout",
     "output_type": "stream",
     "text": [
      "\r- Download progress: 45.3%"
     ]
    },
    {
     "name": "stdout",
     "output_type": "stream",
     "text": [
      "\r- Download progress: 45.4%"
     ]
    },
    {
     "name": "stdout",
     "output_type": "stream",
     "text": [
      "\r- Download progress: 45.4%"
     ]
    },
    {
     "name": "stdout",
     "output_type": "stream",
     "text": [
      "\r- Download progress: 45.4%"
     ]
    },
    {
     "name": "stdout",
     "output_type": "stream",
     "text": [
      "\r- Download progress: 45.5%"
     ]
    },
    {
     "name": "stdout",
     "output_type": "stream",
     "text": [
      "\r- Download progress: 45.5%"
     ]
    },
    {
     "name": "stdout",
     "output_type": "stream",
     "text": [
      "\r- Download progress: 45.6%"
     ]
    },
    {
     "name": "stdout",
     "output_type": "stream",
     "text": [
      "\r- Download progress: 45.6%"
     ]
    },
    {
     "name": "stdout",
     "output_type": "stream",
     "text": [
      "\r- Download progress: 45.6%"
     ]
    },
    {
     "name": "stdout",
     "output_type": "stream",
     "text": [
      "\r- Download progress: 45.7%"
     ]
    },
    {
     "name": "stdout",
     "output_type": "stream",
     "text": [
      "\r- Download progress: 45.7%"
     ]
    },
    {
     "name": "stdout",
     "output_type": "stream",
     "text": [
      "\r- Download progress: 45.7%"
     ]
    },
    {
     "name": "stdout",
     "output_type": "stream",
     "text": [
      "\r- Download progress: 45.8%"
     ]
    },
    {
     "name": "stdout",
     "output_type": "stream",
     "text": [
      "\r- Download progress: 45.8%"
     ]
    },
    {
     "name": "stdout",
     "output_type": "stream",
     "text": [
      "\r- Download progress: 45.8%"
     ]
    },
    {
     "name": "stdout",
     "output_type": "stream",
     "text": [
      "\r- Download progress: 45.9%"
     ]
    },
    {
     "name": "stdout",
     "output_type": "stream",
     "text": [
      "\r- Download progress: 45.9%"
     ]
    },
    {
     "name": "stdout",
     "output_type": "stream",
     "text": [
      "\r- Download progress: 46.0%"
     ]
    },
    {
     "name": "stdout",
     "output_type": "stream",
     "text": [
      "\r- Download progress: 46.0%"
     ]
    },
    {
     "name": "stdout",
     "output_type": "stream",
     "text": [
      "\r- Download progress: 46.0%"
     ]
    },
    {
     "name": "stdout",
     "output_type": "stream",
     "text": [
      "\r- Download progress: 46.1%"
     ]
    },
    {
     "name": "stdout",
     "output_type": "stream",
     "text": [
      "\r- Download progress: 46.1%"
     ]
    },
    {
     "name": "stdout",
     "output_type": "stream",
     "text": [
      "\r- Download progress: 46.1%"
     ]
    },
    {
     "name": "stdout",
     "output_type": "stream",
     "text": [
      "\r- Download progress: 46.2%"
     ]
    },
    {
     "name": "stdout",
     "output_type": "stream",
     "text": [
      "\r- Download progress: 46.2%"
     ]
    },
    {
     "name": "stdout",
     "output_type": "stream",
     "text": [
      "\r- Download progress: 46.2%"
     ]
    },
    {
     "name": "stdout",
     "output_type": "stream",
     "text": [
      "\r- Download progress: 46.3%"
     ]
    },
    {
     "name": "stdout",
     "output_type": "stream",
     "text": [
      "\r- Download progress: 46.3%"
     ]
    },
    {
     "name": "stdout",
     "output_type": "stream",
     "text": [
      "\r- Download progress: 46.4%"
     ]
    },
    {
     "name": "stdout",
     "output_type": "stream",
     "text": [
      "\r- Download progress: 46.4%"
     ]
    },
    {
     "name": "stdout",
     "output_type": "stream",
     "text": [
      "\r- Download progress: 46.4%"
     ]
    },
    {
     "name": "stdout",
     "output_type": "stream",
     "text": [
      "\r- Download progress: 46.5%"
     ]
    },
    {
     "name": "stdout",
     "output_type": "stream",
     "text": [
      "\r- Download progress: 46.5%"
     ]
    },
    {
     "name": "stdout",
     "output_type": "stream",
     "text": [
      "\r- Download progress: 46.5%"
     ]
    },
    {
     "name": "stdout",
     "output_type": "stream",
     "text": [
      "\r- Download progress: 46.6%"
     ]
    },
    {
     "name": "stdout",
     "output_type": "stream",
     "text": [
      "\r- Download progress: 46.6%"
     ]
    },
    {
     "name": "stdout",
     "output_type": "stream",
     "text": [
      "\r- Download progress: 46.6%"
     ]
    },
    {
     "name": "stdout",
     "output_type": "stream",
     "text": [
      "\r- Download progress: 46.7%"
     ]
    },
    {
     "name": "stdout",
     "output_type": "stream",
     "text": [
      "\r- Download progress: 46.7%"
     ]
    },
    {
     "name": "stdout",
     "output_type": "stream",
     "text": [
      "\r- Download progress: 46.8%"
     ]
    },
    {
     "name": "stdout",
     "output_type": "stream",
     "text": [
      "\r- Download progress: 46.8%"
     ]
    },
    {
     "name": "stdout",
     "output_type": "stream",
     "text": [
      "\r- Download progress: 46.8%"
     ]
    },
    {
     "name": "stdout",
     "output_type": "stream",
     "text": [
      "\r- Download progress: 46.9%"
     ]
    },
    {
     "name": "stdout",
     "output_type": "stream",
     "text": [
      "\r- Download progress: 46.9%"
     ]
    },
    {
     "name": "stdout",
     "output_type": "stream",
     "text": [
      "\r- Download progress: 46.9%"
     ]
    },
    {
     "name": "stdout",
     "output_type": "stream",
     "text": [
      "\r- Download progress: 47.0%"
     ]
    },
    {
     "name": "stdout",
     "output_type": "stream",
     "text": [
      "\r- Download progress: 47.0%"
     ]
    },
    {
     "name": "stdout",
     "output_type": "stream",
     "text": [
      "\r- Download progress: 47.0%"
     ]
    },
    {
     "name": "stdout",
     "output_type": "stream",
     "text": [
      "\r- Download progress: 47.1%"
     ]
    },
    {
     "name": "stdout",
     "output_type": "stream",
     "text": [
      "\r- Download progress: 47.1%"
     ]
    },
    {
     "name": "stdout",
     "output_type": "stream",
     "text": [
      "\r- Download progress: 47.2%"
     ]
    },
    {
     "name": "stdout",
     "output_type": "stream",
     "text": [
      "\r- Download progress: 47.2%"
     ]
    },
    {
     "name": "stdout",
     "output_type": "stream",
     "text": [
      "\r- Download progress: 47.2%"
     ]
    },
    {
     "name": "stdout",
     "output_type": "stream",
     "text": [
      "\r- Download progress: 47.3%"
     ]
    },
    {
     "name": "stdout",
     "output_type": "stream",
     "text": [
      "\r- Download progress: 47.3%"
     ]
    },
    {
     "name": "stdout",
     "output_type": "stream",
     "text": [
      "\r- Download progress: 47.3%"
     ]
    },
    {
     "name": "stdout",
     "output_type": "stream",
     "text": [
      "\r- Download progress: 47.4%"
     ]
    },
    {
     "name": "stdout",
     "output_type": "stream",
     "text": [
      "\r- Download progress: 47.4%"
     ]
    },
    {
     "name": "stdout",
     "output_type": "stream",
     "text": [
      "\r- Download progress: 47.4%"
     ]
    },
    {
     "name": "stdout",
     "output_type": "stream",
     "text": [
      "\r- Download progress: 47.5%"
     ]
    },
    {
     "name": "stdout",
     "output_type": "stream",
     "text": [
      "\r- Download progress: 47.5%"
     ]
    },
    {
     "name": "stdout",
     "output_type": "stream",
     "text": [
      "\r- Download progress: 47.6%"
     ]
    },
    {
     "name": "stdout",
     "output_type": "stream",
     "text": [
      "\r- Download progress: 47.6%"
     ]
    },
    {
     "name": "stdout",
     "output_type": "stream",
     "text": [
      "\r- Download progress: 47.6%"
     ]
    },
    {
     "name": "stdout",
     "output_type": "stream",
     "text": [
      "\r- Download progress: 47.7%"
     ]
    },
    {
     "name": "stdout",
     "output_type": "stream",
     "text": [
      "\r- Download progress: 47.7%"
     ]
    },
    {
     "name": "stdout",
     "output_type": "stream",
     "text": [
      "\r- Download progress: 47.7%"
     ]
    },
    {
     "name": "stdout",
     "output_type": "stream",
     "text": [
      "\r- Download progress: 47.8%"
     ]
    },
    {
     "name": "stdout",
     "output_type": "stream",
     "text": [
      "\r- Download progress: 47.8%"
     ]
    },
    {
     "name": "stdout",
     "output_type": "stream",
     "text": [
      "\r- Download progress: 47.8%"
     ]
    },
    {
     "name": "stdout",
     "output_type": "stream",
     "text": [
      "\r- Download progress: 47.9%"
     ]
    },
    {
     "name": "stdout",
     "output_type": "stream",
     "text": [
      "\r- Download progress: 47.9%"
     ]
    },
    {
     "name": "stdout",
     "output_type": "stream",
     "text": [
      "\r- Download progress: 48.0%"
     ]
    },
    {
     "name": "stdout",
     "output_type": "stream",
     "text": [
      "\r- Download progress: 48.0%"
     ]
    },
    {
     "name": "stdout",
     "output_type": "stream",
     "text": [
      "\r- Download progress: 48.0%"
     ]
    },
    {
     "name": "stdout",
     "output_type": "stream",
     "text": [
      "\r- Download progress: 48.1%"
     ]
    },
    {
     "name": "stdout",
     "output_type": "stream",
     "text": [
      "\r- Download progress: 48.1%"
     ]
    },
    {
     "name": "stdout",
     "output_type": "stream",
     "text": [
      "\r- Download progress: 48.1%"
     ]
    },
    {
     "name": "stdout",
     "output_type": "stream",
     "text": [
      "\r- Download progress: 48.2%"
     ]
    },
    {
     "name": "stdout",
     "output_type": "stream",
     "text": [
      "\r- Download progress: 48.2%"
     ]
    },
    {
     "name": "stdout",
     "output_type": "stream",
     "text": [
      "\r- Download progress: 48.2%"
     ]
    },
    {
     "name": "stdout",
     "output_type": "stream",
     "text": [
      "\r- Download progress: 48.3%"
     ]
    },
    {
     "name": "stdout",
     "output_type": "stream",
     "text": [
      "\r- Download progress: 48.3%"
     ]
    },
    {
     "name": "stdout",
     "output_type": "stream",
     "text": [
      "\r- Download progress: 48.4%"
     ]
    },
    {
     "name": "stdout",
     "output_type": "stream",
     "text": [
      "\r- Download progress: 48.4%"
     ]
    },
    {
     "name": "stdout",
     "output_type": "stream",
     "text": [
      "\r- Download progress: 48.4%"
     ]
    },
    {
     "name": "stdout",
     "output_type": "stream",
     "text": [
      "\r- Download progress: 48.5%"
     ]
    },
    {
     "name": "stdout",
     "output_type": "stream",
     "text": [
      "\r- Download progress: 48.5%"
     ]
    },
    {
     "name": "stdout",
     "output_type": "stream",
     "text": [
      "\r- Download progress: 48.5%"
     ]
    },
    {
     "name": "stdout",
     "output_type": "stream",
     "text": [
      "\r- Download progress: 48.6%"
     ]
    },
    {
     "name": "stdout",
     "output_type": "stream",
     "text": [
      "\r- Download progress: 48.6%"
     ]
    },
    {
     "name": "stdout",
     "output_type": "stream",
     "text": [
      "\r- Download progress: 48.6%"
     ]
    },
    {
     "name": "stdout",
     "output_type": "stream",
     "text": [
      "\r- Download progress: 48.7%"
     ]
    },
    {
     "name": "stdout",
     "output_type": "stream",
     "text": [
      "\r- Download progress: 48.7%"
     ]
    },
    {
     "name": "stdout",
     "output_type": "stream",
     "text": [
      "\r- Download progress: 48.8%"
     ]
    },
    {
     "name": "stdout",
     "output_type": "stream",
     "text": [
      "\r- Download progress: 48.8%"
     ]
    },
    {
     "name": "stdout",
     "output_type": "stream",
     "text": [
      "\r- Download progress: 48.8%"
     ]
    },
    {
     "name": "stdout",
     "output_type": "stream",
     "text": [
      "\r- Download progress: 48.9%"
     ]
    },
    {
     "name": "stdout",
     "output_type": "stream",
     "text": [
      "\r- Download progress: 48.9%"
     ]
    },
    {
     "name": "stdout",
     "output_type": "stream",
     "text": [
      "\r- Download progress: 48.9%"
     ]
    },
    {
     "name": "stdout",
     "output_type": "stream",
     "text": [
      "\r- Download progress: 49.0%"
     ]
    },
    {
     "name": "stdout",
     "output_type": "stream",
     "text": [
      "\r- Download progress: 49.0%"
     ]
    },
    {
     "name": "stdout",
     "output_type": "stream",
     "text": [
      "\r- Download progress: 49.0%"
     ]
    },
    {
     "name": "stdout",
     "output_type": "stream",
     "text": [
      "\r- Download progress: 49.1%"
     ]
    },
    {
     "name": "stdout",
     "output_type": "stream",
     "text": [
      "\r- Download progress: 49.1%"
     ]
    },
    {
     "name": "stdout",
     "output_type": "stream",
     "text": [
      "\r- Download progress: 49.2%"
     ]
    },
    {
     "name": "stdout",
     "output_type": "stream",
     "text": [
      "\r- Download progress: 49.2%"
     ]
    },
    {
     "name": "stdout",
     "output_type": "stream",
     "text": [
      "\r- Download progress: 49.2%"
     ]
    },
    {
     "name": "stdout",
     "output_type": "stream",
     "text": [
      "\r- Download progress: 49.3%"
     ]
    },
    {
     "name": "stdout",
     "output_type": "stream",
     "text": [
      "\r- Download progress: 49.3%"
     ]
    },
    {
     "name": "stdout",
     "output_type": "stream",
     "text": [
      "\r- Download progress: 49.3%"
     ]
    },
    {
     "name": "stdout",
     "output_type": "stream",
     "text": [
      "\r- Download progress: 49.4%"
     ]
    },
    {
     "name": "stdout",
     "output_type": "stream",
     "text": [
      "\r- Download progress: 49.4%"
     ]
    },
    {
     "name": "stdout",
     "output_type": "stream",
     "text": [
      "\r- Download progress: 49.4%"
     ]
    },
    {
     "name": "stdout",
     "output_type": "stream",
     "text": [
      "\r- Download progress: 49.5%"
     ]
    },
    {
     "name": "stdout",
     "output_type": "stream",
     "text": [
      "\r- Download progress: 49.5%"
     ]
    },
    {
     "name": "stdout",
     "output_type": "stream",
     "text": [
      "\r- Download progress: 49.6%"
     ]
    },
    {
     "name": "stdout",
     "output_type": "stream",
     "text": [
      "\r- Download progress: 49.6%"
     ]
    },
    {
     "name": "stdout",
     "output_type": "stream",
     "text": [
      "\r- Download progress: 49.6%"
     ]
    },
    {
     "name": "stdout",
     "output_type": "stream",
     "text": [
      "\r- Download progress: 49.7%"
     ]
    },
    {
     "name": "stdout",
     "output_type": "stream",
     "text": [
      "\r- Download progress: 49.7%"
     ]
    },
    {
     "name": "stdout",
     "output_type": "stream",
     "text": [
      "\r- Download progress: 49.7%"
     ]
    },
    {
     "name": "stdout",
     "output_type": "stream",
     "text": [
      "\r- Download progress: 49.8%"
     ]
    },
    {
     "name": "stdout",
     "output_type": "stream",
     "text": [
      "\r- Download progress: 49.8%"
     ]
    },
    {
     "name": "stdout",
     "output_type": "stream",
     "text": [
      "\r- Download progress: 49.8%"
     ]
    },
    {
     "name": "stdout",
     "output_type": "stream",
     "text": [
      "\r- Download progress: 49.9%"
     ]
    },
    {
     "name": "stdout",
     "output_type": "stream",
     "text": [
      "\r- Download progress: 49.9%"
     ]
    },
    {
     "name": "stdout",
     "output_type": "stream",
     "text": [
      "\r- Download progress: 50.0%"
     ]
    },
    {
     "name": "stdout",
     "output_type": "stream",
     "text": [
      "\r- Download progress: 50.0%"
     ]
    },
    {
     "name": "stdout",
     "output_type": "stream",
     "text": [
      "\r- Download progress: 50.0%"
     ]
    },
    {
     "name": "stdout",
     "output_type": "stream",
     "text": [
      "\r- Download progress: 50.1%"
     ]
    },
    {
     "name": "stdout",
     "output_type": "stream",
     "text": [
      "\r- Download progress: 50.1%"
     ]
    },
    {
     "name": "stdout",
     "output_type": "stream",
     "text": [
      "\r- Download progress: 50.1%"
     ]
    },
    {
     "name": "stdout",
     "output_type": "stream",
     "text": [
      "\r- Download progress: 50.2%"
     ]
    },
    {
     "name": "stdout",
     "output_type": "stream",
     "text": [
      "\r- Download progress: 50.2%"
     ]
    },
    {
     "name": "stdout",
     "output_type": "stream",
     "text": [
      "\r- Download progress: 50.2%"
     ]
    },
    {
     "name": "stdout",
     "output_type": "stream",
     "text": [
      "\r- Download progress: 50.3%"
     ]
    },
    {
     "name": "stdout",
     "output_type": "stream",
     "text": [
      "\r- Download progress: 50.3%"
     ]
    },
    {
     "name": "stdout",
     "output_type": "stream",
     "text": [
      "\r- Download progress: 50.4%"
     ]
    },
    {
     "name": "stdout",
     "output_type": "stream",
     "text": [
      "\r- Download progress: 50.4%"
     ]
    },
    {
     "name": "stdout",
     "output_type": "stream",
     "text": [
      "\r- Download progress: 50.4%"
     ]
    },
    {
     "name": "stdout",
     "output_type": "stream",
     "text": [
      "\r- Download progress: 50.5%"
     ]
    },
    {
     "name": "stdout",
     "output_type": "stream",
     "text": [
      "\r- Download progress: 50.5%"
     ]
    },
    {
     "name": "stdout",
     "output_type": "stream",
     "text": [
      "\r- Download progress: 50.5%"
     ]
    },
    {
     "name": "stdout",
     "output_type": "stream",
     "text": [
      "\r- Download progress: 50.6%"
     ]
    },
    {
     "name": "stdout",
     "output_type": "stream",
     "text": [
      "\r- Download progress: 50.6%"
     ]
    },
    {
     "name": "stdout",
     "output_type": "stream",
     "text": [
      "\r- Download progress: 50.6%"
     ]
    },
    {
     "name": "stdout",
     "output_type": "stream",
     "text": [
      "\r- Download progress: 50.7%"
     ]
    },
    {
     "name": "stdout",
     "output_type": "stream",
     "text": [
      "\r- Download progress: 50.7%"
     ]
    },
    {
     "name": "stdout",
     "output_type": "stream",
     "text": [
      "\r- Download progress: 50.8%"
     ]
    },
    {
     "name": "stdout",
     "output_type": "stream",
     "text": [
      "\r- Download progress: 50.8%"
     ]
    },
    {
     "name": "stdout",
     "output_type": "stream",
     "text": [
      "\r- Download progress: 50.8%"
     ]
    },
    {
     "name": "stdout",
     "output_type": "stream",
     "text": [
      "\r- Download progress: 50.9%"
     ]
    },
    {
     "name": "stdout",
     "output_type": "stream",
     "text": [
      "\r- Download progress: 50.9%"
     ]
    },
    {
     "name": "stdout",
     "output_type": "stream",
     "text": [
      "\r- Download progress: 50.9%"
     ]
    },
    {
     "name": "stdout",
     "output_type": "stream",
     "text": [
      "\r- Download progress: 51.0%"
     ]
    },
    {
     "name": "stdout",
     "output_type": "stream",
     "text": [
      "\r- Download progress: 51.0%"
     ]
    },
    {
     "name": "stdout",
     "output_type": "stream",
     "text": [
      "\r- Download progress: 51.0%"
     ]
    },
    {
     "name": "stdout",
     "output_type": "stream",
     "text": [
      "\r- Download progress: 51.1%"
     ]
    },
    {
     "name": "stdout",
     "output_type": "stream",
     "text": [
      "\r- Download progress: 51.1%"
     ]
    },
    {
     "name": "stdout",
     "output_type": "stream",
     "text": [
      "\r- Download progress: 51.2%"
     ]
    },
    {
     "name": "stdout",
     "output_type": "stream",
     "text": [
      "\r- Download progress: 51.2%"
     ]
    },
    {
     "name": "stdout",
     "output_type": "stream",
     "text": [
      "\r- Download progress: 51.2%"
     ]
    },
    {
     "name": "stdout",
     "output_type": "stream",
     "text": [
      "\r- Download progress: 51.3%"
     ]
    },
    {
     "name": "stdout",
     "output_type": "stream",
     "text": [
      "\r- Download progress: 51.3%"
     ]
    },
    {
     "name": "stdout",
     "output_type": "stream",
     "text": [
      "\r- Download progress: 51.3%"
     ]
    },
    {
     "name": "stdout",
     "output_type": "stream",
     "text": [
      "\r- Download progress: 51.4%"
     ]
    },
    {
     "name": "stdout",
     "output_type": "stream",
     "text": [
      "\r- Download progress: 51.4%"
     ]
    },
    {
     "name": "stdout",
     "output_type": "stream",
     "text": [
      "\r- Download progress: 51.4%"
     ]
    },
    {
     "name": "stdout",
     "output_type": "stream",
     "text": [
      "\r- Download progress: 51.5%"
     ]
    },
    {
     "name": "stdout",
     "output_type": "stream",
     "text": [
      "\r- Download progress: 51.5%"
     ]
    },
    {
     "name": "stdout",
     "output_type": "stream",
     "text": [
      "\r- Download progress: 51.6%"
     ]
    },
    {
     "name": "stdout",
     "output_type": "stream",
     "text": [
      "\r- Download progress: 51.6%"
     ]
    },
    {
     "name": "stdout",
     "output_type": "stream",
     "text": [
      "\r- Download progress: 51.6%"
     ]
    },
    {
     "name": "stdout",
     "output_type": "stream",
     "text": [
      "\r- Download progress: 51.7%"
     ]
    },
    {
     "name": "stdout",
     "output_type": "stream",
     "text": [
      "\r- Download progress: 51.7%"
     ]
    },
    {
     "name": "stdout",
     "output_type": "stream",
     "text": [
      "\r- Download progress: 51.7%"
     ]
    },
    {
     "name": "stdout",
     "output_type": "stream",
     "text": [
      "\r- Download progress: 51.8%"
     ]
    },
    {
     "name": "stdout",
     "output_type": "stream",
     "text": [
      "\r- Download progress: 51.8%"
     ]
    },
    {
     "name": "stdout",
     "output_type": "stream",
     "text": [
      "\r- Download progress: 51.8%"
     ]
    },
    {
     "name": "stdout",
     "output_type": "stream",
     "text": [
      "\r- Download progress: 51.9%"
     ]
    },
    {
     "name": "stdout",
     "output_type": "stream",
     "text": [
      "\r- Download progress: 51.9%"
     ]
    },
    {
     "name": "stdout",
     "output_type": "stream",
     "text": [
      "\r- Download progress: 52.0%"
     ]
    },
    {
     "name": "stdout",
     "output_type": "stream",
     "text": [
      "\r- Download progress: 52.0%"
     ]
    },
    {
     "name": "stdout",
     "output_type": "stream",
     "text": [
      "\r- Download progress: 52.0%"
     ]
    },
    {
     "name": "stdout",
     "output_type": "stream",
     "text": [
      "\r- Download progress: 52.1%"
     ]
    },
    {
     "name": "stdout",
     "output_type": "stream",
     "text": [
      "\r- Download progress: 52.1%"
     ]
    },
    {
     "name": "stdout",
     "output_type": "stream",
     "text": [
      "\r- Download progress: 52.1%"
     ]
    },
    {
     "name": "stdout",
     "output_type": "stream",
     "text": [
      "\r- Download progress: 52.2%"
     ]
    },
    {
     "name": "stdout",
     "output_type": "stream",
     "text": [
      "\r- Download progress: 52.2%"
     ]
    },
    {
     "name": "stdout",
     "output_type": "stream",
     "text": [
      "\r- Download progress: 52.2%"
     ]
    },
    {
     "name": "stdout",
     "output_type": "stream",
     "text": [
      "\r- Download progress: 52.3%"
     ]
    },
    {
     "name": "stdout",
     "output_type": "stream",
     "text": [
      "\r- Download progress: 52.3%"
     ]
    },
    {
     "name": "stdout",
     "output_type": "stream",
     "text": [
      "\r- Download progress: 52.4%"
     ]
    },
    {
     "name": "stdout",
     "output_type": "stream",
     "text": [
      "\r- Download progress: 52.4%"
     ]
    },
    {
     "name": "stdout",
     "output_type": "stream",
     "text": [
      "\r- Download progress: 52.4%"
     ]
    },
    {
     "name": "stdout",
     "output_type": "stream",
     "text": [
      "\r- Download progress: 52.5%"
     ]
    },
    {
     "name": "stdout",
     "output_type": "stream",
     "text": [
      "\r- Download progress: 52.5%"
     ]
    },
    {
     "name": "stdout",
     "output_type": "stream",
     "text": [
      "\r- Download progress: 52.5%"
     ]
    },
    {
     "name": "stdout",
     "output_type": "stream",
     "text": [
      "\r- Download progress: 52.6%"
     ]
    },
    {
     "name": "stdout",
     "output_type": "stream",
     "text": [
      "\r- Download progress: 52.6%"
     ]
    },
    {
     "name": "stdout",
     "output_type": "stream",
     "text": [
      "\r- Download progress: 52.6%"
     ]
    },
    {
     "name": "stdout",
     "output_type": "stream",
     "text": [
      "\r- Download progress: 52.7%"
     ]
    },
    {
     "name": "stdout",
     "output_type": "stream",
     "text": [
      "\r- Download progress: 52.7%"
     ]
    },
    {
     "name": "stdout",
     "output_type": "stream",
     "text": [
      "\r- Download progress: 52.8%"
     ]
    },
    {
     "name": "stdout",
     "output_type": "stream",
     "text": [
      "\r- Download progress: 52.8%"
     ]
    },
    {
     "name": "stdout",
     "output_type": "stream",
     "text": [
      "\r- Download progress: 52.8%"
     ]
    },
    {
     "name": "stdout",
     "output_type": "stream",
     "text": [
      "\r- Download progress: 52.9%"
     ]
    },
    {
     "name": "stdout",
     "output_type": "stream",
     "text": [
      "\r- Download progress: 52.9%"
     ]
    },
    {
     "name": "stdout",
     "output_type": "stream",
     "text": [
      "\r- Download progress: 52.9%"
     ]
    },
    {
     "name": "stdout",
     "output_type": "stream",
     "text": [
      "\r- Download progress: 53.0%"
     ]
    },
    {
     "name": "stdout",
     "output_type": "stream",
     "text": [
      "\r- Download progress: 53.0%"
     ]
    },
    {
     "name": "stdout",
     "output_type": "stream",
     "text": [
      "\r- Download progress: 53.0%"
     ]
    },
    {
     "name": "stdout",
     "output_type": "stream",
     "text": [
      "\r- Download progress: 53.1%"
     ]
    },
    {
     "name": "stdout",
     "output_type": "stream",
     "text": [
      "\r- Download progress: 53.1%"
     ]
    },
    {
     "name": "stdout",
     "output_type": "stream",
     "text": [
      "\r- Download progress: 53.2%"
     ]
    },
    {
     "name": "stdout",
     "output_type": "stream",
     "text": [
      "\r- Download progress: 53.2%"
     ]
    },
    {
     "name": "stdout",
     "output_type": "stream",
     "text": [
      "\r- Download progress: 53.2%"
     ]
    },
    {
     "name": "stdout",
     "output_type": "stream",
     "text": [
      "\r- Download progress: 53.3%"
     ]
    },
    {
     "name": "stdout",
     "output_type": "stream",
     "text": [
      "\r- Download progress: 53.3%"
     ]
    },
    {
     "name": "stdout",
     "output_type": "stream",
     "text": [
      "\r- Download progress: 53.3%"
     ]
    },
    {
     "name": "stdout",
     "output_type": "stream",
     "text": [
      "\r- Download progress: 53.4%"
     ]
    },
    {
     "name": "stdout",
     "output_type": "stream",
     "text": [
      "\r- Download progress: 53.4%"
     ]
    },
    {
     "name": "stdout",
     "output_type": "stream",
     "text": [
      "\r- Download progress: 53.4%"
     ]
    },
    {
     "name": "stdout",
     "output_type": "stream",
     "text": [
      "\r- Download progress: 53.5%"
     ]
    },
    {
     "name": "stdout",
     "output_type": "stream",
     "text": [
      "\r- Download progress: 53.5%"
     ]
    },
    {
     "name": "stdout",
     "output_type": "stream",
     "text": [
      "\r- Download progress: 53.6%"
     ]
    },
    {
     "name": "stdout",
     "output_type": "stream",
     "text": [
      "\r- Download progress: 53.6%"
     ]
    },
    {
     "name": "stdout",
     "output_type": "stream",
     "text": [
      "\r- Download progress: 53.6%"
     ]
    },
    {
     "name": "stdout",
     "output_type": "stream",
     "text": [
      "\r- Download progress: 53.7%"
     ]
    },
    {
     "name": "stdout",
     "output_type": "stream",
     "text": [
      "\r- Download progress: 53.7%"
     ]
    },
    {
     "name": "stdout",
     "output_type": "stream",
     "text": [
      "\r- Download progress: 53.7%"
     ]
    },
    {
     "name": "stdout",
     "output_type": "stream",
     "text": [
      "\r- Download progress: 53.8%"
     ]
    },
    {
     "name": "stdout",
     "output_type": "stream",
     "text": [
      "\r- Download progress: 53.8%"
     ]
    },
    {
     "name": "stdout",
     "output_type": "stream",
     "text": [
      "\r- Download progress: 53.8%"
     ]
    },
    {
     "name": "stdout",
     "output_type": "stream",
     "text": [
      "\r- Download progress: 53.9%"
     ]
    },
    {
     "name": "stdout",
     "output_type": "stream",
     "text": [
      "\r- Download progress: 53.9%"
     ]
    },
    {
     "name": "stdout",
     "output_type": "stream",
     "text": [
      "\r- Download progress: 54.0%"
     ]
    },
    {
     "name": "stdout",
     "output_type": "stream",
     "text": [
      "\r- Download progress: 54.0%"
     ]
    },
    {
     "name": "stdout",
     "output_type": "stream",
     "text": [
      "\r- Download progress: 54.0%"
     ]
    },
    {
     "name": "stdout",
     "output_type": "stream",
     "text": [
      "\r- Download progress: 54.1%"
     ]
    },
    {
     "name": "stdout",
     "output_type": "stream",
     "text": [
      "\r- Download progress: 54.1%"
     ]
    },
    {
     "name": "stdout",
     "output_type": "stream",
     "text": [
      "\r- Download progress: 54.1%"
     ]
    },
    {
     "name": "stdout",
     "output_type": "stream",
     "text": [
      "\r- Download progress: 54.2%"
     ]
    },
    {
     "name": "stdout",
     "output_type": "stream",
     "text": [
      "\r- Download progress: 54.2%"
     ]
    },
    {
     "name": "stdout",
     "output_type": "stream",
     "text": [
      "\r- Download progress: 54.2%"
     ]
    },
    {
     "name": "stdout",
     "output_type": "stream",
     "text": [
      "\r- Download progress: 54.3%"
     ]
    },
    {
     "name": "stdout",
     "output_type": "stream",
     "text": [
      "\r- Download progress: 54.3%"
     ]
    },
    {
     "name": "stdout",
     "output_type": "stream",
     "text": [
      "\r- Download progress: 54.4%"
     ]
    },
    {
     "name": "stdout",
     "output_type": "stream",
     "text": [
      "\r- Download progress: 54.4%"
     ]
    },
    {
     "name": "stdout",
     "output_type": "stream",
     "text": [
      "\r- Download progress: 54.4%"
     ]
    },
    {
     "name": "stdout",
     "output_type": "stream",
     "text": [
      "\r- Download progress: 54.5%"
     ]
    },
    {
     "name": "stdout",
     "output_type": "stream",
     "text": [
      "\r- Download progress: 54.5%"
     ]
    },
    {
     "name": "stdout",
     "output_type": "stream",
     "text": [
      "\r- Download progress: 54.5%"
     ]
    },
    {
     "name": "stdout",
     "output_type": "stream",
     "text": [
      "\r- Download progress: 54.6%"
     ]
    },
    {
     "name": "stdout",
     "output_type": "stream",
     "text": [
      "\r- Download progress: 54.6%"
     ]
    },
    {
     "name": "stdout",
     "output_type": "stream",
     "text": [
      "\r- Download progress: 54.6%"
     ]
    },
    {
     "name": "stdout",
     "output_type": "stream",
     "text": [
      "\r- Download progress: 54.7%"
     ]
    },
    {
     "name": "stdout",
     "output_type": "stream",
     "text": [
      "\r- Download progress: 54.7%"
     ]
    },
    {
     "name": "stdout",
     "output_type": "stream",
     "text": [
      "\r- Download progress: 54.8%"
     ]
    },
    {
     "name": "stdout",
     "output_type": "stream",
     "text": [
      "\r- Download progress: 54.8%"
     ]
    },
    {
     "name": "stdout",
     "output_type": "stream",
     "text": [
      "\r- Download progress: 54.8%"
     ]
    },
    {
     "name": "stdout",
     "output_type": "stream",
     "text": [
      "\r- Download progress: 54.9%"
     ]
    },
    {
     "name": "stdout",
     "output_type": "stream",
     "text": [
      "\r- Download progress: 54.9%"
     ]
    },
    {
     "name": "stdout",
     "output_type": "stream",
     "text": [
      "\r- Download progress: 54.9%"
     ]
    },
    {
     "name": "stdout",
     "output_type": "stream",
     "text": [
      "\r- Download progress: 55.0%"
     ]
    },
    {
     "name": "stdout",
     "output_type": "stream",
     "text": [
      "\r- Download progress: 55.0%"
     ]
    },
    {
     "name": "stdout",
     "output_type": "stream",
     "text": [
      "\r- Download progress: 55.0%"
     ]
    },
    {
     "name": "stdout",
     "output_type": "stream",
     "text": [
      "\r- Download progress: 55.1%"
     ]
    },
    {
     "name": "stdout",
     "output_type": "stream",
     "text": [
      "\r- Download progress: 55.1%"
     ]
    },
    {
     "name": "stdout",
     "output_type": "stream",
     "text": [
      "\r- Download progress: 55.2%"
     ]
    },
    {
     "name": "stdout",
     "output_type": "stream",
     "text": [
      "\r- Download progress: 55.2%"
     ]
    },
    {
     "name": "stdout",
     "output_type": "stream",
     "text": [
      "\r- Download progress: 55.2%"
     ]
    },
    {
     "name": "stdout",
     "output_type": "stream",
     "text": [
      "\r- Download progress: 55.3%"
     ]
    },
    {
     "name": "stdout",
     "output_type": "stream",
     "text": [
      "\r- Download progress: 55.3%"
     ]
    },
    {
     "name": "stdout",
     "output_type": "stream",
     "text": [
      "\r- Download progress: 55.3%"
     ]
    },
    {
     "name": "stdout",
     "output_type": "stream",
     "text": [
      "\r- Download progress: 55.4%"
     ]
    },
    {
     "name": "stdout",
     "output_type": "stream",
     "text": [
      "\r- Download progress: 55.4%"
     ]
    },
    {
     "name": "stdout",
     "output_type": "stream",
     "text": [
      "\r- Download progress: 55.4%"
     ]
    },
    {
     "name": "stdout",
     "output_type": "stream",
     "text": [
      "\r- Download progress: 55.5%"
     ]
    },
    {
     "name": "stdout",
     "output_type": "stream",
     "text": [
      "\r- Download progress: 55.5%"
     ]
    },
    {
     "name": "stdout",
     "output_type": "stream",
     "text": [
      "\r- Download progress: 55.6%"
     ]
    },
    {
     "name": "stdout",
     "output_type": "stream",
     "text": [
      "\r- Download progress: 55.6%"
     ]
    },
    {
     "name": "stdout",
     "output_type": "stream",
     "text": [
      "\r- Download progress: 55.6%"
     ]
    },
    {
     "name": "stdout",
     "output_type": "stream",
     "text": [
      "\r- Download progress: 55.7%"
     ]
    },
    {
     "name": "stdout",
     "output_type": "stream",
     "text": [
      "\r- Download progress: 55.7%"
     ]
    },
    {
     "name": "stdout",
     "output_type": "stream",
     "text": [
      "\r- Download progress: 55.7%"
     ]
    },
    {
     "name": "stdout",
     "output_type": "stream",
     "text": [
      "\r- Download progress: 55.8%"
     ]
    },
    {
     "name": "stdout",
     "output_type": "stream",
     "text": [
      "\r- Download progress: 55.8%"
     ]
    },
    {
     "name": "stdout",
     "output_type": "stream",
     "text": [
      "\r- Download progress: 55.8%"
     ]
    },
    {
     "name": "stdout",
     "output_type": "stream",
     "text": [
      "\r- Download progress: 55.9%"
     ]
    },
    {
     "name": "stdout",
     "output_type": "stream",
     "text": [
      "\r- Download progress: 55.9%"
     ]
    },
    {
     "name": "stdout",
     "output_type": "stream",
     "text": [
      "\r- Download progress: 56.0%"
     ]
    },
    {
     "name": "stdout",
     "output_type": "stream",
     "text": [
      "\r- Download progress: 56.0%"
     ]
    },
    {
     "name": "stdout",
     "output_type": "stream",
     "text": [
      "\r- Download progress: 56.0%"
     ]
    },
    {
     "name": "stdout",
     "output_type": "stream",
     "text": [
      "\r- Download progress: 56.1%"
     ]
    },
    {
     "name": "stdout",
     "output_type": "stream",
     "text": [
      "\r- Download progress: 56.1%"
     ]
    },
    {
     "name": "stdout",
     "output_type": "stream",
     "text": [
      "\r- Download progress: 56.1%"
     ]
    },
    {
     "name": "stdout",
     "output_type": "stream",
     "text": [
      "\r- Download progress: 56.2%"
     ]
    },
    {
     "name": "stdout",
     "output_type": "stream",
     "text": [
      "\r- Download progress: 56.2%"
     ]
    },
    {
     "name": "stdout",
     "output_type": "stream",
     "text": [
      "\r- Download progress: 56.2%"
     ]
    },
    {
     "name": "stdout",
     "output_type": "stream",
     "text": [
      "\r- Download progress: 56.3%"
     ]
    },
    {
     "name": "stdout",
     "output_type": "stream",
     "text": [
      "\r- Download progress: 56.3%"
     ]
    },
    {
     "name": "stdout",
     "output_type": "stream",
     "text": [
      "\r- Download progress: 56.4%"
     ]
    },
    {
     "name": "stdout",
     "output_type": "stream",
     "text": [
      "\r- Download progress: 56.4%"
     ]
    },
    {
     "name": "stdout",
     "output_type": "stream",
     "text": [
      "\r- Download progress: 56.4%"
     ]
    },
    {
     "name": "stdout",
     "output_type": "stream",
     "text": [
      "\r- Download progress: 56.5%"
     ]
    },
    {
     "name": "stdout",
     "output_type": "stream",
     "text": [
      "\r- Download progress: 56.5%"
     ]
    },
    {
     "name": "stdout",
     "output_type": "stream",
     "text": [
      "\r- Download progress: 56.5%"
     ]
    },
    {
     "name": "stdout",
     "output_type": "stream",
     "text": [
      "\r- Download progress: 56.6%"
     ]
    },
    {
     "name": "stdout",
     "output_type": "stream",
     "text": [
      "\r- Download progress: 56.6%"
     ]
    },
    {
     "name": "stdout",
     "output_type": "stream",
     "text": [
      "\r- Download progress: 56.6%"
     ]
    },
    {
     "name": "stdout",
     "output_type": "stream",
     "text": [
      "\r- Download progress: 56.7%"
     ]
    },
    {
     "name": "stdout",
     "output_type": "stream",
     "text": [
      "\r- Download progress: 56.7%"
     ]
    },
    {
     "name": "stdout",
     "output_type": "stream",
     "text": [
      "\r- Download progress: 56.8%"
     ]
    },
    {
     "name": "stdout",
     "output_type": "stream",
     "text": [
      "\r- Download progress: 56.8%"
     ]
    },
    {
     "name": "stdout",
     "output_type": "stream",
     "text": [
      "\r- Download progress: 56.8%"
     ]
    },
    {
     "name": "stdout",
     "output_type": "stream",
     "text": [
      "\r- Download progress: 56.9%"
     ]
    },
    {
     "name": "stdout",
     "output_type": "stream",
     "text": [
      "\r- Download progress: 56.9%"
     ]
    },
    {
     "name": "stdout",
     "output_type": "stream",
     "text": [
      "\r- Download progress: 56.9%"
     ]
    },
    {
     "name": "stdout",
     "output_type": "stream",
     "text": [
      "\r- Download progress: 57.0%"
     ]
    },
    {
     "name": "stdout",
     "output_type": "stream",
     "text": [
      "\r- Download progress: 57.0%"
     ]
    },
    {
     "name": "stdout",
     "output_type": "stream",
     "text": [
      "\r- Download progress: 57.0%"
     ]
    },
    {
     "name": "stdout",
     "output_type": "stream",
     "text": [
      "\r- Download progress: 57.1%"
     ]
    },
    {
     "name": "stdout",
     "output_type": "stream",
     "text": [
      "\r- Download progress: 57.1%"
     ]
    },
    {
     "name": "stdout",
     "output_type": "stream",
     "text": [
      "\r- Download progress: 57.2%"
     ]
    },
    {
     "name": "stdout",
     "output_type": "stream",
     "text": [
      "\r- Download progress: 57.2%"
     ]
    },
    {
     "name": "stdout",
     "output_type": "stream",
     "text": [
      "\r- Download progress: 57.2%"
     ]
    },
    {
     "name": "stdout",
     "output_type": "stream",
     "text": [
      "\r- Download progress: 57.3%"
     ]
    },
    {
     "name": "stdout",
     "output_type": "stream",
     "text": [
      "\r- Download progress: 57.3%"
     ]
    },
    {
     "name": "stdout",
     "output_type": "stream",
     "text": [
      "\r- Download progress: 57.3%"
     ]
    },
    {
     "name": "stdout",
     "output_type": "stream",
     "text": [
      "\r- Download progress: 57.4%"
     ]
    },
    {
     "name": "stdout",
     "output_type": "stream",
     "text": [
      "\r- Download progress: 57.4%"
     ]
    },
    {
     "name": "stdout",
     "output_type": "stream",
     "text": [
      "\r- Download progress: 57.4%"
     ]
    },
    {
     "name": "stdout",
     "output_type": "stream",
     "text": [
      "\r- Download progress: 57.5%"
     ]
    },
    {
     "name": "stdout",
     "output_type": "stream",
     "text": [
      "\r- Download progress: 57.5%"
     ]
    },
    {
     "name": "stdout",
     "output_type": "stream",
     "text": [
      "\r- Download progress: 57.6%"
     ]
    },
    {
     "name": "stdout",
     "output_type": "stream",
     "text": [
      "\r- Download progress: 57.6%"
     ]
    },
    {
     "name": "stdout",
     "output_type": "stream",
     "text": [
      "\r- Download progress: 57.6%"
     ]
    },
    {
     "name": "stdout",
     "output_type": "stream",
     "text": [
      "\r- Download progress: 57.7%"
     ]
    },
    {
     "name": "stdout",
     "output_type": "stream",
     "text": [
      "\r- Download progress: 57.7%"
     ]
    },
    {
     "name": "stdout",
     "output_type": "stream",
     "text": [
      "\r- Download progress: 57.7%"
     ]
    },
    {
     "name": "stdout",
     "output_type": "stream",
     "text": [
      "\r- Download progress: 57.8%"
     ]
    },
    {
     "name": "stdout",
     "output_type": "stream",
     "text": [
      "\r- Download progress: 57.8%"
     ]
    },
    {
     "name": "stdout",
     "output_type": "stream",
     "text": [
      "\r- Download progress: 57.8%"
     ]
    },
    {
     "name": "stdout",
     "output_type": "stream",
     "text": [
      "\r- Download progress: 57.9%"
     ]
    },
    {
     "name": "stdout",
     "output_type": "stream",
     "text": [
      "\r- Download progress: 57.9%"
     ]
    },
    {
     "name": "stdout",
     "output_type": "stream",
     "text": [
      "\r- Download progress: 58.0%"
     ]
    },
    {
     "name": "stdout",
     "output_type": "stream",
     "text": [
      "\r- Download progress: 58.0%"
     ]
    },
    {
     "name": "stdout",
     "output_type": "stream",
     "text": [
      "\r- Download progress: 58.0%"
     ]
    },
    {
     "name": "stdout",
     "output_type": "stream",
     "text": [
      "\r- Download progress: 58.1%"
     ]
    },
    {
     "name": "stdout",
     "output_type": "stream",
     "text": [
      "\r- Download progress: 58.1%"
     ]
    },
    {
     "name": "stdout",
     "output_type": "stream",
     "text": [
      "\r- Download progress: 58.1%"
     ]
    },
    {
     "name": "stdout",
     "output_type": "stream",
     "text": [
      "\r- Download progress: 58.2%"
     ]
    },
    {
     "name": "stdout",
     "output_type": "stream",
     "text": [
      "\r- Download progress: 58.2%"
     ]
    },
    {
     "name": "stdout",
     "output_type": "stream",
     "text": [
      "\r- Download progress: 58.2%"
     ]
    },
    {
     "name": "stdout",
     "output_type": "stream",
     "text": [
      "\r- Download progress: 58.3%"
     ]
    },
    {
     "name": "stdout",
     "output_type": "stream",
     "text": [
      "\r- Download progress: 58.3%"
     ]
    },
    {
     "name": "stdout",
     "output_type": "stream",
     "text": [
      "\r- Download progress: 58.4%"
     ]
    },
    {
     "name": "stdout",
     "output_type": "stream",
     "text": [
      "\r- Download progress: 58.4%"
     ]
    },
    {
     "name": "stdout",
     "output_type": "stream",
     "text": [
      "\r- Download progress: 58.4%"
     ]
    },
    {
     "name": "stdout",
     "output_type": "stream",
     "text": [
      "\r- Download progress: 58.5%"
     ]
    },
    {
     "name": "stdout",
     "output_type": "stream",
     "text": [
      "\r- Download progress: 58.5%"
     ]
    },
    {
     "name": "stdout",
     "output_type": "stream",
     "text": [
      "\r- Download progress: 58.5%"
     ]
    },
    {
     "name": "stdout",
     "output_type": "stream",
     "text": [
      "\r- Download progress: 58.6%"
     ]
    },
    {
     "name": "stdout",
     "output_type": "stream",
     "text": [
      "\r- Download progress: 58.6%"
     ]
    },
    {
     "name": "stdout",
     "output_type": "stream",
     "text": [
      "\r- Download progress: 58.6%"
     ]
    },
    {
     "name": "stdout",
     "output_type": "stream",
     "text": [
      "\r- Download progress: 58.7%"
     ]
    },
    {
     "name": "stdout",
     "output_type": "stream",
     "text": [
      "\r- Download progress: 58.7%"
     ]
    },
    {
     "name": "stdout",
     "output_type": "stream",
     "text": [
      "\r- Download progress: 58.8%"
     ]
    },
    {
     "name": "stdout",
     "output_type": "stream",
     "text": [
      "\r- Download progress: 58.8%"
     ]
    },
    {
     "name": "stdout",
     "output_type": "stream",
     "text": [
      "\r- Download progress: 58.8%"
     ]
    },
    {
     "name": "stdout",
     "output_type": "stream",
     "text": [
      "\r- Download progress: 58.9%"
     ]
    },
    {
     "name": "stdout",
     "output_type": "stream",
     "text": [
      "\r- Download progress: 58.9%"
     ]
    },
    {
     "name": "stdout",
     "output_type": "stream",
     "text": [
      "\r- Download progress: 58.9%"
     ]
    },
    {
     "name": "stdout",
     "output_type": "stream",
     "text": [
      "\r- Download progress: 59.0%"
     ]
    },
    {
     "name": "stdout",
     "output_type": "stream",
     "text": [
      "\r- Download progress: 59.0%"
     ]
    },
    {
     "name": "stdout",
     "output_type": "stream",
     "text": [
      "\r- Download progress: 59.0%"
     ]
    },
    {
     "name": "stdout",
     "output_type": "stream",
     "text": [
      "\r- Download progress: 59.1%"
     ]
    },
    {
     "name": "stdout",
     "output_type": "stream",
     "text": [
      "\r- Download progress: 59.1%"
     ]
    },
    {
     "name": "stdout",
     "output_type": "stream",
     "text": [
      "\r- Download progress: 59.2%"
     ]
    },
    {
     "name": "stdout",
     "output_type": "stream",
     "text": [
      "\r- Download progress: 59.2%"
     ]
    },
    {
     "name": "stdout",
     "output_type": "stream",
     "text": [
      "\r- Download progress: 59.2%"
     ]
    },
    {
     "name": "stdout",
     "output_type": "stream",
     "text": [
      "\r- Download progress: 59.3%"
     ]
    },
    {
     "name": "stdout",
     "output_type": "stream",
     "text": [
      "\r- Download progress: 59.3%"
     ]
    },
    {
     "name": "stdout",
     "output_type": "stream",
     "text": [
      "\r- Download progress: 59.3%"
     ]
    },
    {
     "name": "stdout",
     "output_type": "stream",
     "text": [
      "\r- Download progress: 59.4%"
     ]
    },
    {
     "name": "stdout",
     "output_type": "stream",
     "text": [
      "\r- Download progress: 59.4%"
     ]
    },
    {
     "name": "stdout",
     "output_type": "stream",
     "text": [
      "\r- Download progress: 59.4%"
     ]
    },
    {
     "name": "stdout",
     "output_type": "stream",
     "text": [
      "\r- Download progress: 59.5%"
     ]
    },
    {
     "name": "stdout",
     "output_type": "stream",
     "text": [
      "\r- Download progress: 59.5%"
     ]
    },
    {
     "name": "stdout",
     "output_type": "stream",
     "text": [
      "\r- Download progress: 59.6%"
     ]
    },
    {
     "name": "stdout",
     "output_type": "stream",
     "text": [
      "\r- Download progress: 59.6%"
     ]
    },
    {
     "name": "stdout",
     "output_type": "stream",
     "text": [
      "\r- Download progress: 59.6%"
     ]
    },
    {
     "name": "stdout",
     "output_type": "stream",
     "text": [
      "\r- Download progress: 59.7%"
     ]
    },
    {
     "name": "stdout",
     "output_type": "stream",
     "text": [
      "\r- Download progress: 59.7%"
     ]
    },
    {
     "name": "stdout",
     "output_type": "stream",
     "text": [
      "\r- Download progress: 59.7%"
     ]
    },
    {
     "name": "stdout",
     "output_type": "stream",
     "text": [
      "\r- Download progress: 59.8%"
     ]
    },
    {
     "name": "stdout",
     "output_type": "stream",
     "text": [
      "\r- Download progress: 59.8%"
     ]
    },
    {
     "name": "stdout",
     "output_type": "stream",
     "text": [
      "\r- Download progress: 59.8%"
     ]
    },
    {
     "name": "stdout",
     "output_type": "stream",
     "text": [
      "\r- Download progress: 59.9%"
     ]
    },
    {
     "name": "stdout",
     "output_type": "stream",
     "text": [
      "\r- Download progress: 59.9%"
     ]
    },
    {
     "name": "stdout",
     "output_type": "stream",
     "text": [
      "\r- Download progress: 60.0%"
     ]
    },
    {
     "name": "stdout",
     "output_type": "stream",
     "text": [
      "\r- Download progress: 60.0%"
     ]
    },
    {
     "name": "stdout",
     "output_type": "stream",
     "text": [
      "\r- Download progress: 60.0%"
     ]
    },
    {
     "name": "stdout",
     "output_type": "stream",
     "text": [
      "\r- Download progress: 60.1%"
     ]
    },
    {
     "name": "stdout",
     "output_type": "stream",
     "text": [
      "\r- Download progress: 60.1%"
     ]
    },
    {
     "name": "stdout",
     "output_type": "stream",
     "text": [
      "\r- Download progress: 60.1%"
     ]
    },
    {
     "name": "stdout",
     "output_type": "stream",
     "text": [
      "\r- Download progress: 60.2%"
     ]
    },
    {
     "name": "stdout",
     "output_type": "stream",
     "text": [
      "\r- Download progress: 60.2%"
     ]
    },
    {
     "name": "stdout",
     "output_type": "stream",
     "text": [
      "\r- Download progress: 60.2%"
     ]
    },
    {
     "name": "stdout",
     "output_type": "stream",
     "text": [
      "\r- Download progress: 60.3%"
     ]
    },
    {
     "name": "stdout",
     "output_type": "stream",
     "text": [
      "\r- Download progress: 60.3%"
     ]
    },
    {
     "name": "stdout",
     "output_type": "stream",
     "text": [
      "\r- Download progress: 60.4%"
     ]
    },
    {
     "name": "stdout",
     "output_type": "stream",
     "text": [
      "\r- Download progress: 60.4%"
     ]
    },
    {
     "name": "stdout",
     "output_type": "stream",
     "text": [
      "\r- Download progress: 60.4%"
     ]
    },
    {
     "name": "stdout",
     "output_type": "stream",
     "text": [
      "\r- Download progress: 60.5%"
     ]
    },
    {
     "name": "stdout",
     "output_type": "stream",
     "text": [
      "\r- Download progress: 60.5%"
     ]
    },
    {
     "name": "stdout",
     "output_type": "stream",
     "text": [
      "\r- Download progress: 60.5%"
     ]
    },
    {
     "name": "stdout",
     "output_type": "stream",
     "text": [
      "\r- Download progress: 60.6%"
     ]
    },
    {
     "name": "stdout",
     "output_type": "stream",
     "text": [
      "\r- Download progress: 60.6%"
     ]
    },
    {
     "name": "stdout",
     "output_type": "stream",
     "text": [
      "\r- Download progress: 60.6%"
     ]
    },
    {
     "name": "stdout",
     "output_type": "stream",
     "text": [
      "\r- Download progress: 60.7%"
     ]
    },
    {
     "name": "stdout",
     "output_type": "stream",
     "text": [
      "\r- Download progress: 60.7%"
     ]
    },
    {
     "name": "stdout",
     "output_type": "stream",
     "text": [
      "\r- Download progress: 60.8%"
     ]
    },
    {
     "name": "stdout",
     "output_type": "stream",
     "text": [
      "\r- Download progress: 60.8%"
     ]
    },
    {
     "name": "stdout",
     "output_type": "stream",
     "text": [
      "\r- Download progress: 60.8%"
     ]
    },
    {
     "name": "stdout",
     "output_type": "stream",
     "text": [
      "\r- Download progress: 60.9%"
     ]
    },
    {
     "name": "stdout",
     "output_type": "stream",
     "text": [
      "\r- Download progress: 60.9%"
     ]
    },
    {
     "name": "stdout",
     "output_type": "stream",
     "text": [
      "\r- Download progress: 60.9%"
     ]
    },
    {
     "name": "stdout",
     "output_type": "stream",
     "text": [
      "\r- Download progress: 61.0%"
     ]
    },
    {
     "name": "stdout",
     "output_type": "stream",
     "text": [
      "\r- Download progress: 61.0%"
     ]
    },
    {
     "name": "stdout",
     "output_type": "stream",
     "text": [
      "\r- Download progress: 61.0%"
     ]
    },
    {
     "name": "stdout",
     "output_type": "stream",
     "text": [
      "\r- Download progress: 61.1%"
     ]
    },
    {
     "name": "stdout",
     "output_type": "stream",
     "text": [
      "\r- Download progress: 61.1%"
     ]
    },
    {
     "name": "stdout",
     "output_type": "stream",
     "text": [
      "\r- Download progress: 61.2%"
     ]
    },
    {
     "name": "stdout",
     "output_type": "stream",
     "text": [
      "\r- Download progress: 61.2%"
     ]
    },
    {
     "name": "stdout",
     "output_type": "stream",
     "text": [
      "\r- Download progress: 61.2%"
     ]
    },
    {
     "name": "stdout",
     "output_type": "stream",
     "text": [
      "\r- Download progress: 61.3%"
     ]
    },
    {
     "name": "stdout",
     "output_type": "stream",
     "text": [
      "\r- Download progress: 61.3%"
     ]
    },
    {
     "name": "stdout",
     "output_type": "stream",
     "text": [
      "\r- Download progress: 61.3%"
     ]
    },
    {
     "name": "stdout",
     "output_type": "stream",
     "text": [
      "\r- Download progress: 61.4%"
     ]
    },
    {
     "name": "stdout",
     "output_type": "stream",
     "text": [
      "\r- Download progress: 61.4%"
     ]
    },
    {
     "name": "stdout",
     "output_type": "stream",
     "text": [
      "\r- Download progress: 61.4%"
     ]
    },
    {
     "name": "stdout",
     "output_type": "stream",
     "text": [
      "\r- Download progress: 61.5%"
     ]
    },
    {
     "name": "stdout",
     "output_type": "stream",
     "text": [
      "\r- Download progress: 61.5%"
     ]
    },
    {
     "name": "stdout",
     "output_type": "stream",
     "text": [
      "\r- Download progress: 61.6%"
     ]
    },
    {
     "name": "stdout",
     "output_type": "stream",
     "text": [
      "\r- Download progress: 61.6%"
     ]
    },
    {
     "name": "stdout",
     "output_type": "stream",
     "text": [
      "\r- Download progress: 61.6%"
     ]
    },
    {
     "name": "stdout",
     "output_type": "stream",
     "text": [
      "\r- Download progress: 61.7%"
     ]
    },
    {
     "name": "stdout",
     "output_type": "stream",
     "text": [
      "\r- Download progress: 61.7%"
     ]
    },
    {
     "name": "stdout",
     "output_type": "stream",
     "text": [
      "\r- Download progress: 61.7%"
     ]
    },
    {
     "name": "stdout",
     "output_type": "stream",
     "text": [
      "\r- Download progress: 61.8%"
     ]
    },
    {
     "name": "stdout",
     "output_type": "stream",
     "text": [
      "\r- Download progress: 61.8%"
     ]
    },
    {
     "name": "stdout",
     "output_type": "stream",
     "text": [
      "\r- Download progress: 61.8%"
     ]
    },
    {
     "name": "stdout",
     "output_type": "stream",
     "text": [
      "\r- Download progress: 61.9%"
     ]
    },
    {
     "name": "stdout",
     "output_type": "stream",
     "text": [
      "\r- Download progress: 61.9%"
     ]
    },
    {
     "name": "stdout",
     "output_type": "stream",
     "text": [
      "\r- Download progress: 62.0%"
     ]
    },
    {
     "name": "stdout",
     "output_type": "stream",
     "text": [
      "\r- Download progress: 62.0%"
     ]
    },
    {
     "name": "stdout",
     "output_type": "stream",
     "text": [
      "\r- Download progress: 62.0%"
     ]
    },
    {
     "name": "stdout",
     "output_type": "stream",
     "text": [
      "\r- Download progress: 62.1%"
     ]
    },
    {
     "name": "stdout",
     "output_type": "stream",
     "text": [
      "\r- Download progress: 62.1%"
     ]
    },
    {
     "name": "stdout",
     "output_type": "stream",
     "text": [
      "\r- Download progress: 62.1%"
     ]
    },
    {
     "name": "stdout",
     "output_type": "stream",
     "text": [
      "\r- Download progress: 62.2%"
     ]
    },
    {
     "name": "stdout",
     "output_type": "stream",
     "text": [
      "\r- Download progress: 62.2%"
     ]
    },
    {
     "name": "stdout",
     "output_type": "stream",
     "text": [
      "\r- Download progress: 62.3%"
     ]
    },
    {
     "name": "stdout",
     "output_type": "stream",
     "text": [
      "\r- Download progress: 62.3%"
     ]
    },
    {
     "name": "stdout",
     "output_type": "stream",
     "text": [
      "\r- Download progress: 62.3%"
     ]
    },
    {
     "name": "stdout",
     "output_type": "stream",
     "text": [
      "\r- Download progress: 62.4%"
     ]
    },
    {
     "name": "stdout",
     "output_type": "stream",
     "text": [
      "\r- Download progress: 62.4%"
     ]
    },
    {
     "name": "stdout",
     "output_type": "stream",
     "text": [
      "\r- Download progress: 62.4%"
     ]
    },
    {
     "name": "stdout",
     "output_type": "stream",
     "text": [
      "\r- Download progress: 62.5%"
     ]
    },
    {
     "name": "stdout",
     "output_type": "stream",
     "text": [
      "\r- Download progress: 62.5%"
     ]
    },
    {
     "name": "stdout",
     "output_type": "stream",
     "text": [
      "\r- Download progress: 62.5%"
     ]
    },
    {
     "name": "stdout",
     "output_type": "stream",
     "text": [
      "\r- Download progress: 62.6%"
     ]
    },
    {
     "name": "stdout",
     "output_type": "stream",
     "text": [
      "\r- Download progress: 62.6%"
     ]
    },
    {
     "name": "stdout",
     "output_type": "stream",
     "text": [
      "\r- Download progress: 62.7%"
     ]
    },
    {
     "name": "stdout",
     "output_type": "stream",
     "text": [
      "\r- Download progress: 62.7%"
     ]
    },
    {
     "name": "stdout",
     "output_type": "stream",
     "text": [
      "\r- Download progress: 62.7%"
     ]
    },
    {
     "name": "stdout",
     "output_type": "stream",
     "text": [
      "\r- Download progress: 62.8%"
     ]
    },
    {
     "name": "stdout",
     "output_type": "stream",
     "text": [
      "\r- Download progress: 62.8%"
     ]
    },
    {
     "name": "stdout",
     "output_type": "stream",
     "text": [
      "\r- Download progress: 62.8%"
     ]
    },
    {
     "name": "stdout",
     "output_type": "stream",
     "text": [
      "\r- Download progress: 62.9%"
     ]
    },
    {
     "name": "stdout",
     "output_type": "stream",
     "text": [
      "\r- Download progress: 62.9%"
     ]
    },
    {
     "name": "stdout",
     "output_type": "stream",
     "text": [
      "\r- Download progress: 62.9%"
     ]
    },
    {
     "name": "stdout",
     "output_type": "stream",
     "text": [
      "\r- Download progress: 63.0%"
     ]
    },
    {
     "name": "stdout",
     "output_type": "stream",
     "text": [
      "\r- Download progress: 63.0%"
     ]
    },
    {
     "name": "stdout",
     "output_type": "stream",
     "text": [
      "\r- Download progress: 63.1%"
     ]
    },
    {
     "name": "stdout",
     "output_type": "stream",
     "text": [
      "\r- Download progress: 63.1%"
     ]
    },
    {
     "name": "stdout",
     "output_type": "stream",
     "text": [
      "\r- Download progress: 63.1%"
     ]
    },
    {
     "name": "stdout",
     "output_type": "stream",
     "text": [
      "\r- Download progress: 63.2%"
     ]
    },
    {
     "name": "stdout",
     "output_type": "stream",
     "text": [
      "\r- Download progress: 63.2%"
     ]
    },
    {
     "name": "stdout",
     "output_type": "stream",
     "text": [
      "\r- Download progress: 63.2%"
     ]
    },
    {
     "name": "stdout",
     "output_type": "stream",
     "text": [
      "\r- Download progress: 63.3%"
     ]
    },
    {
     "name": "stdout",
     "output_type": "stream",
     "text": [
      "\r- Download progress: 63.3%"
     ]
    },
    {
     "name": "stdout",
     "output_type": "stream",
     "text": [
      "\r- Download progress: 63.3%"
     ]
    },
    {
     "name": "stdout",
     "output_type": "stream",
     "text": [
      "\r- Download progress: 63.4%"
     ]
    },
    {
     "name": "stdout",
     "output_type": "stream",
     "text": [
      "\r- Download progress: 63.4%"
     ]
    },
    {
     "name": "stdout",
     "output_type": "stream",
     "text": [
      "\r- Download progress: 63.5%"
     ]
    },
    {
     "name": "stdout",
     "output_type": "stream",
     "text": [
      "\r- Download progress: 63.5%"
     ]
    },
    {
     "name": "stdout",
     "output_type": "stream",
     "text": [
      "\r- Download progress: 63.5%"
     ]
    },
    {
     "name": "stdout",
     "output_type": "stream",
     "text": [
      "\r- Download progress: 63.6%"
     ]
    },
    {
     "name": "stdout",
     "output_type": "stream",
     "text": [
      "\r- Download progress: 63.6%"
     ]
    },
    {
     "name": "stdout",
     "output_type": "stream",
     "text": [
      "\r- Download progress: 63.6%"
     ]
    },
    {
     "name": "stdout",
     "output_type": "stream",
     "text": [
      "\r- Download progress: 63.7%"
     ]
    },
    {
     "name": "stdout",
     "output_type": "stream",
     "text": [
      "\r- Download progress: 63.7%"
     ]
    },
    {
     "name": "stdout",
     "output_type": "stream",
     "text": [
      "\r- Download progress: 63.7%"
     ]
    },
    {
     "name": "stdout",
     "output_type": "stream",
     "text": [
      "\r- Download progress: 63.8%"
     ]
    },
    {
     "name": "stdout",
     "output_type": "stream",
     "text": [
      "\r- Download progress: 63.8%"
     ]
    },
    {
     "name": "stdout",
     "output_type": "stream",
     "text": [
      "\r- Download progress: 63.9%"
     ]
    },
    {
     "name": "stdout",
     "output_type": "stream",
     "text": [
      "\r- Download progress: 63.9%"
     ]
    },
    {
     "name": "stdout",
     "output_type": "stream",
     "text": [
      "\r- Download progress: 63.9%"
     ]
    },
    {
     "name": "stdout",
     "output_type": "stream",
     "text": [
      "\r- Download progress: 64.0%"
     ]
    },
    {
     "name": "stdout",
     "output_type": "stream",
     "text": [
      "\r- Download progress: 64.0%"
     ]
    },
    {
     "name": "stdout",
     "output_type": "stream",
     "text": [
      "\r- Download progress: 64.0%"
     ]
    },
    {
     "name": "stdout",
     "output_type": "stream",
     "text": [
      "\r- Download progress: 64.1%"
     ]
    },
    {
     "name": "stdout",
     "output_type": "stream",
     "text": [
      "\r- Download progress: 64.1%"
     ]
    },
    {
     "name": "stdout",
     "output_type": "stream",
     "text": [
      "\r- Download progress: 64.1%"
     ]
    },
    {
     "name": "stdout",
     "output_type": "stream",
     "text": [
      "\r- Download progress: 64.2%"
     ]
    },
    {
     "name": "stdout",
     "output_type": "stream",
     "text": [
      "\r- Download progress: 64.2%"
     ]
    },
    {
     "name": "stdout",
     "output_type": "stream",
     "text": [
      "\r- Download progress: 64.3%"
     ]
    },
    {
     "name": "stdout",
     "output_type": "stream",
     "text": [
      "\r- Download progress: 64.3%"
     ]
    },
    {
     "name": "stdout",
     "output_type": "stream",
     "text": [
      "\r- Download progress: 64.3%"
     ]
    },
    {
     "name": "stdout",
     "output_type": "stream",
     "text": [
      "\r- Download progress: 64.4%"
     ]
    },
    {
     "name": "stdout",
     "output_type": "stream",
     "text": [
      "\r- Download progress: 64.4%"
     ]
    },
    {
     "name": "stdout",
     "output_type": "stream",
     "text": [
      "\r- Download progress: 64.4%"
     ]
    },
    {
     "name": "stdout",
     "output_type": "stream",
     "text": [
      "\r- Download progress: 64.5%"
     ]
    },
    {
     "name": "stdout",
     "output_type": "stream",
     "text": [
      "\r- Download progress: 64.5%"
     ]
    },
    {
     "name": "stdout",
     "output_type": "stream",
     "text": [
      "\r- Download progress: 64.5%"
     ]
    },
    {
     "name": "stdout",
     "output_type": "stream",
     "text": [
      "\r- Download progress: 64.6%"
     ]
    },
    {
     "name": "stdout",
     "output_type": "stream",
     "text": [
      "\r- Download progress: 64.6%"
     ]
    },
    {
     "name": "stdout",
     "output_type": "stream",
     "text": [
      "\r- Download progress: 64.7%"
     ]
    },
    {
     "name": "stdout",
     "output_type": "stream",
     "text": [
      "\r- Download progress: 64.7%"
     ]
    },
    {
     "name": "stdout",
     "output_type": "stream",
     "text": [
      "\r- Download progress: 64.7%"
     ]
    },
    {
     "name": "stdout",
     "output_type": "stream",
     "text": [
      "\r- Download progress: 64.8%"
     ]
    },
    {
     "name": "stdout",
     "output_type": "stream",
     "text": [
      "\r- Download progress: 64.8%"
     ]
    },
    {
     "name": "stdout",
     "output_type": "stream",
     "text": [
      "\r- Download progress: 64.8%"
     ]
    },
    {
     "name": "stdout",
     "output_type": "stream",
     "text": [
      "\r- Download progress: 64.9%"
     ]
    },
    {
     "name": "stdout",
     "output_type": "stream",
     "text": [
      "\r- Download progress: 64.9%"
     ]
    },
    {
     "name": "stdout",
     "output_type": "stream",
     "text": [
      "\r- Download progress: 64.9%"
     ]
    },
    {
     "name": "stdout",
     "output_type": "stream",
     "text": [
      "\r- Download progress: 65.0%"
     ]
    },
    {
     "name": "stdout",
     "output_type": "stream",
     "text": [
      "\r- Download progress: 65.0%"
     ]
    },
    {
     "name": "stdout",
     "output_type": "stream",
     "text": [
      "\r- Download progress: 65.1%"
     ]
    },
    {
     "name": "stdout",
     "output_type": "stream",
     "text": [
      "\r- Download progress: 65.1%"
     ]
    },
    {
     "name": "stdout",
     "output_type": "stream",
     "text": [
      "\r- Download progress: 65.1%"
     ]
    },
    {
     "name": "stdout",
     "output_type": "stream",
     "text": [
      "\r- Download progress: 65.2%"
     ]
    },
    {
     "name": "stdout",
     "output_type": "stream",
     "text": [
      "\r- Download progress: 65.2%"
     ]
    },
    {
     "name": "stdout",
     "output_type": "stream",
     "text": [
      "\r- Download progress: 65.2%"
     ]
    },
    {
     "name": "stdout",
     "output_type": "stream",
     "text": [
      "\r- Download progress: 65.3%"
     ]
    },
    {
     "name": "stdout",
     "output_type": "stream",
     "text": [
      "\r- Download progress: 65.3%"
     ]
    },
    {
     "name": "stdout",
     "output_type": "stream",
     "text": [
      "\r- Download progress: 65.3%"
     ]
    },
    {
     "name": "stdout",
     "output_type": "stream",
     "text": [
      "\r- Download progress: 65.4%"
     ]
    },
    {
     "name": "stdout",
     "output_type": "stream",
     "text": [
      "\r- Download progress: 65.4%"
     ]
    },
    {
     "name": "stdout",
     "output_type": "stream",
     "text": [
      "\r- Download progress: 65.5%"
     ]
    },
    {
     "name": "stdout",
     "output_type": "stream",
     "text": [
      "\r- Download progress: 65.5%"
     ]
    },
    {
     "name": "stdout",
     "output_type": "stream",
     "text": [
      "\r- Download progress: 65.5%"
     ]
    },
    {
     "name": "stdout",
     "output_type": "stream",
     "text": [
      "\r- Download progress: 65.6%"
     ]
    },
    {
     "name": "stdout",
     "output_type": "stream",
     "text": [
      "\r- Download progress: 65.6%"
     ]
    },
    {
     "name": "stdout",
     "output_type": "stream",
     "text": [
      "\r- Download progress: 65.6%"
     ]
    },
    {
     "name": "stdout",
     "output_type": "stream",
     "text": [
      "\r- Download progress: 65.7%"
     ]
    },
    {
     "name": "stdout",
     "output_type": "stream",
     "text": [
      "\r- Download progress: 65.7%"
     ]
    },
    {
     "name": "stdout",
     "output_type": "stream",
     "text": [
      "\r- Download progress: 65.7%"
     ]
    },
    {
     "name": "stdout",
     "output_type": "stream",
     "text": [
      "\r- Download progress: 65.8%"
     ]
    },
    {
     "name": "stdout",
     "output_type": "stream",
     "text": [
      "\r- Download progress: 65.8%"
     ]
    },
    {
     "name": "stdout",
     "output_type": "stream",
     "text": [
      "\r- Download progress: 65.9%"
     ]
    },
    {
     "name": "stdout",
     "output_type": "stream",
     "text": [
      "\r- Download progress: 65.9%"
     ]
    },
    {
     "name": "stdout",
     "output_type": "stream",
     "text": [
      "\r- Download progress: 65.9%"
     ]
    },
    {
     "name": "stdout",
     "output_type": "stream",
     "text": [
      "\r- Download progress: 66.0%"
     ]
    },
    {
     "name": "stdout",
     "output_type": "stream",
     "text": [
      "\r- Download progress: 66.0%"
     ]
    },
    {
     "name": "stdout",
     "output_type": "stream",
     "text": [
      "\r- Download progress: 66.0%"
     ]
    },
    {
     "name": "stdout",
     "output_type": "stream",
     "text": [
      "\r- Download progress: 66.1%"
     ]
    },
    {
     "name": "stdout",
     "output_type": "stream",
     "text": [
      "\r- Download progress: 66.1%"
     ]
    },
    {
     "name": "stdout",
     "output_type": "stream",
     "text": [
      "\r- Download progress: 66.1%"
     ]
    },
    {
     "name": "stdout",
     "output_type": "stream",
     "text": [
      "\r- Download progress: 66.2%"
     ]
    },
    {
     "name": "stdout",
     "output_type": "stream",
     "text": [
      "\r- Download progress: 66.2%"
     ]
    },
    {
     "name": "stdout",
     "output_type": "stream",
     "text": [
      "\r- Download progress: 66.3%"
     ]
    },
    {
     "name": "stdout",
     "output_type": "stream",
     "text": [
      "\r- Download progress: 66.3%"
     ]
    },
    {
     "name": "stdout",
     "output_type": "stream",
     "text": [
      "\r- Download progress: 66.3%"
     ]
    },
    {
     "name": "stdout",
     "output_type": "stream",
     "text": [
      "\r- Download progress: 66.4%"
     ]
    },
    {
     "name": "stdout",
     "output_type": "stream",
     "text": [
      "\r- Download progress: 66.4%"
     ]
    },
    {
     "name": "stdout",
     "output_type": "stream",
     "text": [
      "\r- Download progress: 66.4%"
     ]
    },
    {
     "name": "stdout",
     "output_type": "stream",
     "text": [
      "\r- Download progress: 66.5%"
     ]
    },
    {
     "name": "stdout",
     "output_type": "stream",
     "text": [
      "\r- Download progress: 66.5%"
     ]
    },
    {
     "name": "stdout",
     "output_type": "stream",
     "text": [
      "\r- Download progress: 66.5%"
     ]
    },
    {
     "name": "stdout",
     "output_type": "stream",
     "text": [
      "\r- Download progress: 66.6%"
     ]
    },
    {
     "name": "stdout",
     "output_type": "stream",
     "text": [
      "\r- Download progress: 66.6%"
     ]
    },
    {
     "name": "stdout",
     "output_type": "stream",
     "text": [
      "\r- Download progress: 66.7%"
     ]
    },
    {
     "name": "stdout",
     "output_type": "stream",
     "text": [
      "\r- Download progress: 66.7%"
     ]
    },
    {
     "name": "stdout",
     "output_type": "stream",
     "text": [
      "\r- Download progress: 66.7%"
     ]
    },
    {
     "name": "stdout",
     "output_type": "stream",
     "text": [
      "\r- Download progress: 66.8%"
     ]
    },
    {
     "name": "stdout",
     "output_type": "stream",
     "text": [
      "\r- Download progress: 66.8%"
     ]
    },
    {
     "name": "stdout",
     "output_type": "stream",
     "text": [
      "\r- Download progress: 66.8%"
     ]
    },
    {
     "name": "stdout",
     "output_type": "stream",
     "text": [
      "\r- Download progress: 66.9%"
     ]
    },
    {
     "name": "stdout",
     "output_type": "stream",
     "text": [
      "\r- Download progress: 66.9%"
     ]
    },
    {
     "name": "stdout",
     "output_type": "stream",
     "text": [
      "\r- Download progress: 66.9%"
     ]
    },
    {
     "name": "stdout",
     "output_type": "stream",
     "text": [
      "\r- Download progress: 67.0%"
     ]
    },
    {
     "name": "stdout",
     "output_type": "stream",
     "text": [
      "\r- Download progress: 67.0%"
     ]
    },
    {
     "name": "stdout",
     "output_type": "stream",
     "text": [
      "\r- Download progress: 67.1%"
     ]
    },
    {
     "name": "stdout",
     "output_type": "stream",
     "text": [
      "\r- Download progress: 67.1%"
     ]
    },
    {
     "name": "stdout",
     "output_type": "stream",
     "text": [
      "\r- Download progress: 67.1%"
     ]
    },
    {
     "name": "stdout",
     "output_type": "stream",
     "text": [
      "\r- Download progress: 67.2%"
     ]
    },
    {
     "name": "stdout",
     "output_type": "stream",
     "text": [
      "\r- Download progress: 67.2%"
     ]
    },
    {
     "name": "stdout",
     "output_type": "stream",
     "text": [
      "\r- Download progress: 67.2%"
     ]
    },
    {
     "name": "stdout",
     "output_type": "stream",
     "text": [
      "\r- Download progress: 67.3%"
     ]
    },
    {
     "name": "stdout",
     "output_type": "stream",
     "text": [
      "\r- Download progress: 67.3%"
     ]
    },
    {
     "name": "stdout",
     "output_type": "stream",
     "text": [
      "\r- Download progress: 67.3%"
     ]
    },
    {
     "name": "stdout",
     "output_type": "stream",
     "text": [
      "\r- Download progress: 67.4%"
     ]
    },
    {
     "name": "stdout",
     "output_type": "stream",
     "text": [
      "\r- Download progress: 67.4%"
     ]
    },
    {
     "name": "stdout",
     "output_type": "stream",
     "text": [
      "\r- Download progress: 67.5%"
     ]
    },
    {
     "name": "stdout",
     "output_type": "stream",
     "text": [
      "\r- Download progress: 67.5%"
     ]
    },
    {
     "name": "stdout",
     "output_type": "stream",
     "text": [
      "\r- Download progress: 67.5%"
     ]
    },
    {
     "name": "stdout",
     "output_type": "stream",
     "text": [
      "\r- Download progress: 67.6%"
     ]
    },
    {
     "name": "stdout",
     "output_type": "stream",
     "text": [
      "\r- Download progress: 67.6%"
     ]
    },
    {
     "name": "stdout",
     "output_type": "stream",
     "text": [
      "\r- Download progress: 67.6%"
     ]
    },
    {
     "name": "stdout",
     "output_type": "stream",
     "text": [
      "\r- Download progress: 67.7%"
     ]
    },
    {
     "name": "stdout",
     "output_type": "stream",
     "text": [
      "\r- Download progress: 67.7%"
     ]
    },
    {
     "name": "stdout",
     "output_type": "stream",
     "text": [
      "\r- Download progress: 67.7%"
     ]
    },
    {
     "name": "stdout",
     "output_type": "stream",
     "text": [
      "\r- Download progress: 67.8%"
     ]
    },
    {
     "name": "stdout",
     "output_type": "stream",
     "text": [
      "\r- Download progress: 67.8%"
     ]
    },
    {
     "name": "stdout",
     "output_type": "stream",
     "text": [
      "\r- Download progress: 67.9%"
     ]
    },
    {
     "name": "stdout",
     "output_type": "stream",
     "text": [
      "\r- Download progress: 67.9%"
     ]
    },
    {
     "name": "stdout",
     "output_type": "stream",
     "text": [
      "\r- Download progress: 67.9%"
     ]
    },
    {
     "name": "stdout",
     "output_type": "stream",
     "text": [
      "\r- Download progress: 68.0%"
     ]
    },
    {
     "name": "stdout",
     "output_type": "stream",
     "text": [
      "\r- Download progress: 68.0%"
     ]
    },
    {
     "name": "stdout",
     "output_type": "stream",
     "text": [
      "\r- Download progress: 68.0%"
     ]
    },
    {
     "name": "stdout",
     "output_type": "stream",
     "text": [
      "\r- Download progress: 68.1%"
     ]
    },
    {
     "name": "stdout",
     "output_type": "stream",
     "text": [
      "\r- Download progress: 68.1%"
     ]
    },
    {
     "name": "stdout",
     "output_type": "stream",
     "text": [
      "\r- Download progress: 68.1%"
     ]
    },
    {
     "name": "stdout",
     "output_type": "stream",
     "text": [
      "\r- Download progress: 68.2%"
     ]
    },
    {
     "name": "stdout",
     "output_type": "stream",
     "text": [
      "\r- Download progress: 68.2%"
     ]
    },
    {
     "name": "stdout",
     "output_type": "stream",
     "text": [
      "\r- Download progress: 68.3%"
     ]
    },
    {
     "name": "stdout",
     "output_type": "stream",
     "text": [
      "\r- Download progress: 68.3%"
     ]
    },
    {
     "name": "stdout",
     "output_type": "stream",
     "text": [
      "\r- Download progress: 68.3%"
     ]
    },
    {
     "name": "stdout",
     "output_type": "stream",
     "text": [
      "\r- Download progress: 68.4%"
     ]
    },
    {
     "name": "stdout",
     "output_type": "stream",
     "text": [
      "\r- Download progress: 68.4%"
     ]
    },
    {
     "name": "stdout",
     "output_type": "stream",
     "text": [
      "\r- Download progress: 68.4%"
     ]
    },
    {
     "name": "stdout",
     "output_type": "stream",
     "text": [
      "\r- Download progress: 68.5%"
     ]
    },
    {
     "name": "stdout",
     "output_type": "stream",
     "text": [
      "\r- Download progress: 68.5%"
     ]
    },
    {
     "name": "stdout",
     "output_type": "stream",
     "text": [
      "\r- Download progress: 68.5%"
     ]
    },
    {
     "name": "stdout",
     "output_type": "stream",
     "text": [
      "\r- Download progress: 68.6%"
     ]
    },
    {
     "name": "stdout",
     "output_type": "stream",
     "text": [
      "\r- Download progress: 68.6%"
     ]
    },
    {
     "name": "stdout",
     "output_type": "stream",
     "text": [
      "\r- Download progress: 68.7%"
     ]
    },
    {
     "name": "stdout",
     "output_type": "stream",
     "text": [
      "\r- Download progress: 68.7%"
     ]
    },
    {
     "name": "stdout",
     "output_type": "stream",
     "text": [
      "\r- Download progress: 68.7%"
     ]
    },
    {
     "name": "stdout",
     "output_type": "stream",
     "text": [
      "\r- Download progress: 68.8%"
     ]
    },
    {
     "name": "stdout",
     "output_type": "stream",
     "text": [
      "\r- Download progress: 68.8%"
     ]
    },
    {
     "name": "stdout",
     "output_type": "stream",
     "text": [
      "\r- Download progress: 68.8%"
     ]
    },
    {
     "name": "stdout",
     "output_type": "stream",
     "text": [
      "\r- Download progress: 68.9%"
     ]
    },
    {
     "name": "stdout",
     "output_type": "stream",
     "text": [
      "\r- Download progress: 68.9%"
     ]
    },
    {
     "name": "stdout",
     "output_type": "stream",
     "text": [
      "\r- Download progress: 68.9%"
     ]
    },
    {
     "name": "stdout",
     "output_type": "stream",
     "text": [
      "\r- Download progress: 69.0%"
     ]
    },
    {
     "name": "stdout",
     "output_type": "stream",
     "text": [
      "\r- Download progress: 69.0%"
     ]
    },
    {
     "name": "stdout",
     "output_type": "stream",
     "text": [
      "\r- Download progress: 69.1%"
     ]
    },
    {
     "name": "stdout",
     "output_type": "stream",
     "text": [
      "\r- Download progress: 69.1%"
     ]
    },
    {
     "name": "stdout",
     "output_type": "stream",
     "text": [
      "\r- Download progress: 69.1%"
     ]
    },
    {
     "name": "stdout",
     "output_type": "stream",
     "text": [
      "\r- Download progress: 69.2%"
     ]
    },
    {
     "name": "stdout",
     "output_type": "stream",
     "text": [
      "\r- Download progress: 69.2%"
     ]
    },
    {
     "name": "stdout",
     "output_type": "stream",
     "text": [
      "\r- Download progress: 69.2%"
     ]
    },
    {
     "name": "stdout",
     "output_type": "stream",
     "text": [
      "\r- Download progress: 69.3%"
     ]
    },
    {
     "name": "stdout",
     "output_type": "stream",
     "text": [
      "\r- Download progress: 69.3%"
     ]
    },
    {
     "name": "stdout",
     "output_type": "stream",
     "text": [
      "\r- Download progress: 69.3%"
     ]
    },
    {
     "name": "stdout",
     "output_type": "stream",
     "text": [
      "\r- Download progress: 69.4%"
     ]
    },
    {
     "name": "stdout",
     "output_type": "stream",
     "text": [
      "\r- Download progress: 69.4%"
     ]
    },
    {
     "name": "stdout",
     "output_type": "stream",
     "text": [
      "\r- Download progress: 69.5%"
     ]
    },
    {
     "name": "stdout",
     "output_type": "stream",
     "text": [
      "\r- Download progress: 69.5%"
     ]
    },
    {
     "name": "stdout",
     "output_type": "stream",
     "text": [
      "\r- Download progress: 69.5%"
     ]
    },
    {
     "name": "stdout",
     "output_type": "stream",
     "text": [
      "\r- Download progress: 69.6%"
     ]
    },
    {
     "name": "stdout",
     "output_type": "stream",
     "text": [
      "\r- Download progress: 69.6%"
     ]
    },
    {
     "name": "stdout",
     "output_type": "stream",
     "text": [
      "\r- Download progress: 69.6%"
     ]
    },
    {
     "name": "stdout",
     "output_type": "stream",
     "text": [
      "\r- Download progress: 69.7%"
     ]
    },
    {
     "name": "stdout",
     "output_type": "stream",
     "text": [
      "\r- Download progress: 69.7%"
     ]
    },
    {
     "name": "stdout",
     "output_type": "stream",
     "text": [
      "\r- Download progress: 69.7%"
     ]
    },
    {
     "name": "stdout",
     "output_type": "stream",
     "text": [
      "\r- Download progress: 69.8%"
     ]
    },
    {
     "name": "stdout",
     "output_type": "stream",
     "text": [
      "\r- Download progress: 69.8%"
     ]
    },
    {
     "name": "stdout",
     "output_type": "stream",
     "text": [
      "\r- Download progress: 69.9%"
     ]
    },
    {
     "name": "stdout",
     "output_type": "stream",
     "text": [
      "\r- Download progress: 69.9%"
     ]
    },
    {
     "name": "stdout",
     "output_type": "stream",
     "text": [
      "\r- Download progress: 69.9%"
     ]
    },
    {
     "name": "stdout",
     "output_type": "stream",
     "text": [
      "\r- Download progress: 70.0%"
     ]
    },
    {
     "name": "stdout",
     "output_type": "stream",
     "text": [
      "\r- Download progress: 70.0%"
     ]
    },
    {
     "name": "stdout",
     "output_type": "stream",
     "text": [
      "\r- Download progress: 70.0%"
     ]
    },
    {
     "name": "stdout",
     "output_type": "stream",
     "text": [
      "\r- Download progress: 70.1%"
     ]
    },
    {
     "name": "stdout",
     "output_type": "stream",
     "text": [
      "\r- Download progress: 70.1%"
     ]
    },
    {
     "name": "stdout",
     "output_type": "stream",
     "text": [
      "\r- Download progress: 70.1%"
     ]
    },
    {
     "name": "stdout",
     "output_type": "stream",
     "text": [
      "\r- Download progress: 70.2%"
     ]
    },
    {
     "name": "stdout",
     "output_type": "stream",
     "text": [
      "\r- Download progress: 70.2%"
     ]
    },
    {
     "name": "stdout",
     "output_type": "stream",
     "text": [
      "\r- Download progress: 70.3%"
     ]
    },
    {
     "name": "stdout",
     "output_type": "stream",
     "text": [
      "\r- Download progress: 70.3%"
     ]
    },
    {
     "name": "stdout",
     "output_type": "stream",
     "text": [
      "\r- Download progress: 70.3%"
     ]
    },
    {
     "name": "stdout",
     "output_type": "stream",
     "text": [
      "\r- Download progress: 70.4%"
     ]
    },
    {
     "name": "stdout",
     "output_type": "stream",
     "text": [
      "\r- Download progress: 70.4%"
     ]
    },
    {
     "name": "stdout",
     "output_type": "stream",
     "text": [
      "\r- Download progress: 70.4%"
     ]
    },
    {
     "name": "stdout",
     "output_type": "stream",
     "text": [
      "\r- Download progress: 70.5%"
     ]
    },
    {
     "name": "stdout",
     "output_type": "stream",
     "text": [
      "\r- Download progress: 70.5%"
     ]
    },
    {
     "name": "stdout",
     "output_type": "stream",
     "text": [
      "\r- Download progress: 70.5%"
     ]
    },
    {
     "name": "stdout",
     "output_type": "stream",
     "text": [
      "\r- Download progress: 70.6%"
     ]
    },
    {
     "name": "stdout",
     "output_type": "stream",
     "text": [
      "\r- Download progress: 70.6%"
     ]
    },
    {
     "name": "stdout",
     "output_type": "stream",
     "text": [
      "\r- Download progress: 70.7%"
     ]
    },
    {
     "name": "stdout",
     "output_type": "stream",
     "text": [
      "\r- Download progress: 70.7%"
     ]
    },
    {
     "name": "stdout",
     "output_type": "stream",
     "text": [
      "\r- Download progress: 70.7%"
     ]
    },
    {
     "name": "stdout",
     "output_type": "stream",
     "text": [
      "\r- Download progress: 70.8%"
     ]
    },
    {
     "name": "stdout",
     "output_type": "stream",
     "text": [
      "\r- Download progress: 70.8%"
     ]
    },
    {
     "name": "stdout",
     "output_type": "stream",
     "text": [
      "\r- Download progress: 70.8%"
     ]
    },
    {
     "name": "stdout",
     "output_type": "stream",
     "text": [
      "\r- Download progress: 70.9%"
     ]
    },
    {
     "name": "stdout",
     "output_type": "stream",
     "text": [
      "\r- Download progress: 70.9%"
     ]
    },
    {
     "name": "stdout",
     "output_type": "stream",
     "text": [
      "\r- Download progress: 70.9%"
     ]
    },
    {
     "name": "stdout",
     "output_type": "stream",
     "text": [
      "\r- Download progress: 71.0%"
     ]
    },
    {
     "name": "stdout",
     "output_type": "stream",
     "text": [
      "\r- Download progress: 71.0%"
     ]
    },
    {
     "name": "stdout",
     "output_type": "stream",
     "text": [
      "\r- Download progress: 71.1%"
     ]
    },
    {
     "name": "stdout",
     "output_type": "stream",
     "text": [
      "\r- Download progress: 71.1%"
     ]
    },
    {
     "name": "stdout",
     "output_type": "stream",
     "text": [
      "\r- Download progress: 71.1%"
     ]
    },
    {
     "name": "stdout",
     "output_type": "stream",
     "text": [
      "\r- Download progress: 71.2%"
     ]
    },
    {
     "name": "stdout",
     "output_type": "stream",
     "text": [
      "\r- Download progress: 71.2%"
     ]
    },
    {
     "name": "stdout",
     "output_type": "stream",
     "text": [
      "\r- Download progress: 71.2%"
     ]
    },
    {
     "name": "stdout",
     "output_type": "stream",
     "text": [
      "\r- Download progress: 71.3%"
     ]
    },
    {
     "name": "stdout",
     "output_type": "stream",
     "text": [
      "\r- Download progress: 71.3%"
     ]
    },
    {
     "name": "stdout",
     "output_type": "stream",
     "text": [
      "\r- Download progress: 71.3%"
     ]
    },
    {
     "name": "stdout",
     "output_type": "stream",
     "text": [
      "\r- Download progress: 71.4%"
     ]
    },
    {
     "name": "stdout",
     "output_type": "stream",
     "text": [
      "\r- Download progress: 71.4%"
     ]
    },
    {
     "name": "stdout",
     "output_type": "stream",
     "text": [
      "\r- Download progress: 71.5%"
     ]
    },
    {
     "name": "stdout",
     "output_type": "stream",
     "text": [
      "\r- Download progress: 71.5%"
     ]
    },
    {
     "name": "stdout",
     "output_type": "stream",
     "text": [
      "\r- Download progress: 71.5%"
     ]
    },
    {
     "name": "stdout",
     "output_type": "stream",
     "text": [
      "\r- Download progress: 71.6%"
     ]
    },
    {
     "name": "stdout",
     "output_type": "stream",
     "text": [
      "\r- Download progress: 71.6%"
     ]
    },
    {
     "name": "stdout",
     "output_type": "stream",
     "text": [
      "\r- Download progress: 71.6%"
     ]
    },
    {
     "name": "stdout",
     "output_type": "stream",
     "text": [
      "\r- Download progress: 71.7%"
     ]
    },
    {
     "name": "stdout",
     "output_type": "stream",
     "text": [
      "\r- Download progress: 71.7%"
     ]
    },
    {
     "name": "stdout",
     "output_type": "stream",
     "text": [
      "\r- Download progress: 71.7%"
     ]
    },
    {
     "name": "stdout",
     "output_type": "stream",
     "text": [
      "\r- Download progress: 71.8%"
     ]
    },
    {
     "name": "stdout",
     "output_type": "stream",
     "text": [
      "\r- Download progress: 71.8%"
     ]
    },
    {
     "name": "stdout",
     "output_type": "stream",
     "text": [
      "\r- Download progress: 71.9%"
     ]
    },
    {
     "name": "stdout",
     "output_type": "stream",
     "text": [
      "\r- Download progress: 71.9%"
     ]
    },
    {
     "name": "stdout",
     "output_type": "stream",
     "text": [
      "\r- Download progress: 71.9%"
     ]
    },
    {
     "name": "stdout",
     "output_type": "stream",
     "text": [
      "\r- Download progress: 72.0%"
     ]
    },
    {
     "name": "stdout",
     "output_type": "stream",
     "text": [
      "\r- Download progress: 72.0%"
     ]
    },
    {
     "name": "stdout",
     "output_type": "stream",
     "text": [
      "\r- Download progress: 72.0%"
     ]
    },
    {
     "name": "stdout",
     "output_type": "stream",
     "text": [
      "\r- Download progress: 72.1%"
     ]
    },
    {
     "name": "stdout",
     "output_type": "stream",
     "text": [
      "\r- Download progress: 72.1%"
     ]
    },
    {
     "name": "stdout",
     "output_type": "stream",
     "text": [
      "\r- Download progress: 72.1%"
     ]
    },
    {
     "name": "stdout",
     "output_type": "stream",
     "text": [
      "\r- Download progress: 72.2%"
     ]
    },
    {
     "name": "stdout",
     "output_type": "stream",
     "text": [
      "\r- Download progress: 72.2%"
     ]
    },
    {
     "name": "stdout",
     "output_type": "stream",
     "text": [
      "\r- Download progress: 72.3%"
     ]
    },
    {
     "name": "stdout",
     "output_type": "stream",
     "text": [
      "\r- Download progress: 72.3%"
     ]
    },
    {
     "name": "stdout",
     "output_type": "stream",
     "text": [
      "\r- Download progress: 72.3%"
     ]
    },
    {
     "name": "stdout",
     "output_type": "stream",
     "text": [
      "\r- Download progress: 72.4%"
     ]
    },
    {
     "name": "stdout",
     "output_type": "stream",
     "text": [
      "\r- Download progress: 72.4%"
     ]
    },
    {
     "name": "stdout",
     "output_type": "stream",
     "text": [
      "\r- Download progress: 72.4%"
     ]
    },
    {
     "name": "stdout",
     "output_type": "stream",
     "text": [
      "\r- Download progress: 72.5%"
     ]
    },
    {
     "name": "stdout",
     "output_type": "stream",
     "text": [
      "\r- Download progress: 72.5%"
     ]
    },
    {
     "name": "stdout",
     "output_type": "stream",
     "text": [
      "\r- Download progress: 72.5%"
     ]
    },
    {
     "name": "stdout",
     "output_type": "stream",
     "text": [
      "\r- Download progress: 72.6%"
     ]
    },
    {
     "name": "stdout",
     "output_type": "stream",
     "text": [
      "\r- Download progress: 72.6%"
     ]
    },
    {
     "name": "stdout",
     "output_type": "stream",
     "text": [
      "\r- Download progress: 72.7%"
     ]
    },
    {
     "name": "stdout",
     "output_type": "stream",
     "text": [
      "\r- Download progress: 72.7%"
     ]
    },
    {
     "name": "stdout",
     "output_type": "stream",
     "text": [
      "\r- Download progress: 72.7%"
     ]
    },
    {
     "name": "stdout",
     "output_type": "stream",
     "text": [
      "\r- Download progress: 72.8%"
     ]
    },
    {
     "name": "stdout",
     "output_type": "stream",
     "text": [
      "\r- Download progress: 72.8%"
     ]
    },
    {
     "name": "stdout",
     "output_type": "stream",
     "text": [
      "\r- Download progress: 72.8%"
     ]
    },
    {
     "name": "stdout",
     "output_type": "stream",
     "text": [
      "\r- Download progress: 72.9%"
     ]
    },
    {
     "name": "stdout",
     "output_type": "stream",
     "text": [
      "\r- Download progress: 72.9%"
     ]
    },
    {
     "name": "stdout",
     "output_type": "stream",
     "text": [
      "\r- Download progress: 72.9%"
     ]
    },
    {
     "name": "stdout",
     "output_type": "stream",
     "text": [
      "\r- Download progress: 73.0%"
     ]
    },
    {
     "name": "stdout",
     "output_type": "stream",
     "text": [
      "\r- Download progress: 73.0%"
     ]
    },
    {
     "name": "stdout",
     "output_type": "stream",
     "text": [
      "\r- Download progress: 73.1%"
     ]
    },
    {
     "name": "stdout",
     "output_type": "stream",
     "text": [
      "\r- Download progress: 73.1%"
     ]
    },
    {
     "name": "stdout",
     "output_type": "stream",
     "text": [
      "\r- Download progress: 73.1%"
     ]
    },
    {
     "name": "stdout",
     "output_type": "stream",
     "text": [
      "\r- Download progress: 73.2%"
     ]
    },
    {
     "name": "stdout",
     "output_type": "stream",
     "text": [
      "\r- Download progress: 73.2%"
     ]
    },
    {
     "name": "stdout",
     "output_type": "stream",
     "text": [
      "\r- Download progress: 73.2%"
     ]
    },
    {
     "name": "stdout",
     "output_type": "stream",
     "text": [
      "\r- Download progress: 73.3%"
     ]
    },
    {
     "name": "stdout",
     "output_type": "stream",
     "text": [
      "\r- Download progress: 73.3%"
     ]
    },
    {
     "name": "stdout",
     "output_type": "stream",
     "text": [
      "\r- Download progress: 73.3%"
     ]
    },
    {
     "name": "stdout",
     "output_type": "stream",
     "text": [
      "\r- Download progress: 73.4%"
     ]
    },
    {
     "name": "stdout",
     "output_type": "stream",
     "text": [
      "\r- Download progress: 73.4%"
     ]
    },
    {
     "name": "stdout",
     "output_type": "stream",
     "text": [
      "\r- Download progress: 73.5%"
     ]
    },
    {
     "name": "stdout",
     "output_type": "stream",
     "text": [
      "\r- Download progress: 73.5%"
     ]
    },
    {
     "name": "stdout",
     "output_type": "stream",
     "text": [
      "\r- Download progress: 73.5%"
     ]
    },
    {
     "name": "stdout",
     "output_type": "stream",
     "text": [
      "\r- Download progress: 73.6%"
     ]
    },
    {
     "name": "stdout",
     "output_type": "stream",
     "text": [
      "\r- Download progress: 73.6%"
     ]
    },
    {
     "name": "stdout",
     "output_type": "stream",
     "text": [
      "\r- Download progress: 73.6%"
     ]
    },
    {
     "name": "stdout",
     "output_type": "stream",
     "text": [
      "\r- Download progress: 73.7%"
     ]
    },
    {
     "name": "stdout",
     "output_type": "stream",
     "text": [
      "\r- Download progress: 73.7%"
     ]
    },
    {
     "name": "stdout",
     "output_type": "stream",
     "text": [
      "\r- Download progress: 73.7%"
     ]
    },
    {
     "name": "stdout",
     "output_type": "stream",
     "text": [
      "\r- Download progress: 73.8%"
     ]
    },
    {
     "name": "stdout",
     "output_type": "stream",
     "text": [
      "\r- Download progress: 73.8%"
     ]
    },
    {
     "name": "stdout",
     "output_type": "stream",
     "text": [
      "\r- Download progress: 73.9%"
     ]
    },
    {
     "name": "stdout",
     "output_type": "stream",
     "text": [
      "\r- Download progress: 73.9%"
     ]
    },
    {
     "name": "stdout",
     "output_type": "stream",
     "text": [
      "\r- Download progress: 73.9%"
     ]
    },
    {
     "name": "stdout",
     "output_type": "stream",
     "text": [
      "\r- Download progress: 74.0%"
     ]
    },
    {
     "name": "stdout",
     "output_type": "stream",
     "text": [
      "\r- Download progress: 74.0%"
     ]
    },
    {
     "name": "stdout",
     "output_type": "stream",
     "text": [
      "\r- Download progress: 74.0%"
     ]
    },
    {
     "name": "stdout",
     "output_type": "stream",
     "text": [
      "\r- Download progress: 74.1%"
     ]
    },
    {
     "name": "stdout",
     "output_type": "stream",
     "text": [
      "\r- Download progress: 74.1%"
     ]
    },
    {
     "name": "stdout",
     "output_type": "stream",
     "text": [
      "\r- Download progress: 74.1%"
     ]
    },
    {
     "name": "stdout",
     "output_type": "stream",
     "text": [
      "\r- Download progress: 74.2%"
     ]
    },
    {
     "name": "stdout",
     "output_type": "stream",
     "text": [
      "\r- Download progress: 74.2%"
     ]
    },
    {
     "name": "stdout",
     "output_type": "stream",
     "text": [
      "\r- Download progress: 74.3%"
     ]
    },
    {
     "name": "stdout",
     "output_type": "stream",
     "text": [
      "\r- Download progress: 74.3%"
     ]
    },
    {
     "name": "stdout",
     "output_type": "stream",
     "text": [
      "\r- Download progress: 74.3%"
     ]
    },
    {
     "name": "stdout",
     "output_type": "stream",
     "text": [
      "\r- Download progress: 74.4%"
     ]
    },
    {
     "name": "stdout",
     "output_type": "stream",
     "text": [
      "\r- Download progress: 74.4%"
     ]
    },
    {
     "name": "stdout",
     "output_type": "stream",
     "text": [
      "\r- Download progress: 74.4%"
     ]
    },
    {
     "name": "stdout",
     "output_type": "stream",
     "text": [
      "\r- Download progress: 74.5%"
     ]
    },
    {
     "name": "stdout",
     "output_type": "stream",
     "text": [
      "\r- Download progress: 74.5%"
     ]
    },
    {
     "name": "stdout",
     "output_type": "stream",
     "text": [
      "\r- Download progress: 74.5%"
     ]
    },
    {
     "name": "stdout",
     "output_type": "stream",
     "text": [
      "\r- Download progress: 74.6%"
     ]
    },
    {
     "name": "stdout",
     "output_type": "stream",
     "text": [
      "\r- Download progress: 74.6%"
     ]
    },
    {
     "name": "stdout",
     "output_type": "stream",
     "text": [
      "\r- Download progress: 74.7%"
     ]
    },
    {
     "name": "stdout",
     "output_type": "stream",
     "text": [
      "\r- Download progress: 74.7%"
     ]
    },
    {
     "name": "stdout",
     "output_type": "stream",
     "text": [
      "\r- Download progress: 74.7%"
     ]
    },
    {
     "name": "stdout",
     "output_type": "stream",
     "text": [
      "\r- Download progress: 74.8%"
     ]
    },
    {
     "name": "stdout",
     "output_type": "stream",
     "text": [
      "\r- Download progress: 74.8%"
     ]
    },
    {
     "name": "stdout",
     "output_type": "stream",
     "text": [
      "\r- Download progress: 74.8%"
     ]
    },
    {
     "name": "stdout",
     "output_type": "stream",
     "text": [
      "\r- Download progress: 74.9%"
     ]
    },
    {
     "name": "stdout",
     "output_type": "stream",
     "text": [
      "\r- Download progress: 74.9%"
     ]
    },
    {
     "name": "stdout",
     "output_type": "stream",
     "text": [
      "\r- Download progress: 74.9%"
     ]
    },
    {
     "name": "stdout",
     "output_type": "stream",
     "text": [
      "\r- Download progress: 75.0%"
     ]
    },
    {
     "name": "stdout",
     "output_type": "stream",
     "text": [
      "\r- Download progress: 75.0%"
     ]
    },
    {
     "name": "stdout",
     "output_type": "stream",
     "text": [
      "\r- Download progress: 75.1%"
     ]
    },
    {
     "name": "stdout",
     "output_type": "stream",
     "text": [
      "\r- Download progress: 75.1%"
     ]
    },
    {
     "name": "stdout",
     "output_type": "stream",
     "text": [
      "\r- Download progress: 75.1%"
     ]
    },
    {
     "name": "stdout",
     "output_type": "stream",
     "text": [
      "\r- Download progress: 75.2%"
     ]
    },
    {
     "name": "stdout",
     "output_type": "stream",
     "text": [
      "\r- Download progress: 75.2%"
     ]
    },
    {
     "name": "stdout",
     "output_type": "stream",
     "text": [
      "\r- Download progress: 75.2%"
     ]
    },
    {
     "name": "stdout",
     "output_type": "stream",
     "text": [
      "\r- Download progress: 75.3%"
     ]
    },
    {
     "name": "stdout",
     "output_type": "stream",
     "text": [
      "\r- Download progress: 75.3%"
     ]
    },
    {
     "name": "stdout",
     "output_type": "stream",
     "text": [
      "\r- Download progress: 75.3%"
     ]
    },
    {
     "name": "stdout",
     "output_type": "stream",
     "text": [
      "\r- Download progress: 75.4%"
     ]
    },
    {
     "name": "stdout",
     "output_type": "stream",
     "text": [
      "\r- Download progress: 75.4%"
     ]
    },
    {
     "name": "stdout",
     "output_type": "stream",
     "text": [
      "\r- Download progress: 75.5%"
     ]
    },
    {
     "name": "stdout",
     "output_type": "stream",
     "text": [
      "\r- Download progress: 75.5%"
     ]
    },
    {
     "name": "stdout",
     "output_type": "stream",
     "text": [
      "\r- Download progress: 75.5%"
     ]
    },
    {
     "name": "stdout",
     "output_type": "stream",
     "text": [
      "\r- Download progress: 75.6%"
     ]
    },
    {
     "name": "stdout",
     "output_type": "stream",
     "text": [
      "\r- Download progress: 75.6%"
     ]
    },
    {
     "name": "stdout",
     "output_type": "stream",
     "text": [
      "\r- Download progress: 75.6%"
     ]
    },
    {
     "name": "stdout",
     "output_type": "stream",
     "text": [
      "\r- Download progress: 75.7%"
     ]
    },
    {
     "name": "stdout",
     "output_type": "stream",
     "text": [
      "\r- Download progress: 75.7%"
     ]
    },
    {
     "name": "stdout",
     "output_type": "stream",
     "text": [
      "\r- Download progress: 75.7%"
     ]
    },
    {
     "name": "stdout",
     "output_type": "stream",
     "text": [
      "\r- Download progress: 75.8%"
     ]
    },
    {
     "name": "stdout",
     "output_type": "stream",
     "text": [
      "\r- Download progress: 75.8%"
     ]
    },
    {
     "name": "stdout",
     "output_type": "stream",
     "text": [
      "\r- Download progress: 75.9%"
     ]
    },
    {
     "name": "stdout",
     "output_type": "stream",
     "text": [
      "\r- Download progress: 75.9%"
     ]
    },
    {
     "name": "stdout",
     "output_type": "stream",
     "text": [
      "\r- Download progress: 75.9%"
     ]
    },
    {
     "name": "stdout",
     "output_type": "stream",
     "text": [
      "\r- Download progress: 76.0%"
     ]
    },
    {
     "name": "stdout",
     "output_type": "stream",
     "text": [
      "\r- Download progress: 76.0%"
     ]
    },
    {
     "name": "stdout",
     "output_type": "stream",
     "text": [
      "\r- Download progress: 76.0%"
     ]
    },
    {
     "name": "stdout",
     "output_type": "stream",
     "text": [
      "\r- Download progress: 76.1%"
     ]
    },
    {
     "name": "stdout",
     "output_type": "stream",
     "text": [
      "\r- Download progress: 76.1%"
     ]
    },
    {
     "name": "stdout",
     "output_type": "stream",
     "text": [
      "\r- Download progress: 76.1%"
     ]
    },
    {
     "name": "stdout",
     "output_type": "stream",
     "text": [
      "\r- Download progress: 76.2%"
     ]
    },
    {
     "name": "stdout",
     "output_type": "stream",
     "text": [
      "\r- Download progress: 76.2%"
     ]
    },
    {
     "name": "stdout",
     "output_type": "stream",
     "text": [
      "\r- Download progress: 76.3%"
     ]
    },
    {
     "name": "stdout",
     "output_type": "stream",
     "text": [
      "\r- Download progress: 76.3%"
     ]
    },
    {
     "name": "stdout",
     "output_type": "stream",
     "text": [
      "\r- Download progress: 76.3%"
     ]
    },
    {
     "name": "stdout",
     "output_type": "stream",
     "text": [
      "\r- Download progress: 76.4%"
     ]
    },
    {
     "name": "stdout",
     "output_type": "stream",
     "text": [
      "\r- Download progress: 76.4%"
     ]
    },
    {
     "name": "stdout",
     "output_type": "stream",
     "text": [
      "\r- Download progress: 76.4%"
     ]
    },
    {
     "name": "stdout",
     "output_type": "stream",
     "text": [
      "\r- Download progress: 76.5%"
     ]
    },
    {
     "name": "stdout",
     "output_type": "stream",
     "text": [
      "\r- Download progress: 76.5%"
     ]
    },
    {
     "name": "stdout",
     "output_type": "stream",
     "text": [
      "\r- Download progress: 76.5%"
     ]
    },
    {
     "name": "stdout",
     "output_type": "stream",
     "text": [
      "\r- Download progress: 76.6%"
     ]
    },
    {
     "name": "stdout",
     "output_type": "stream",
     "text": [
      "\r- Download progress: 76.6%"
     ]
    },
    {
     "name": "stdout",
     "output_type": "stream",
     "text": [
      "\r- Download progress: 76.7%"
     ]
    },
    {
     "name": "stdout",
     "output_type": "stream",
     "text": [
      "\r- Download progress: 76.7%"
     ]
    },
    {
     "name": "stdout",
     "output_type": "stream",
     "text": [
      "\r- Download progress: 76.7%"
     ]
    },
    {
     "name": "stdout",
     "output_type": "stream",
     "text": [
      "\r- Download progress: 76.8%"
     ]
    },
    {
     "name": "stdout",
     "output_type": "stream",
     "text": [
      "\r- Download progress: 76.8%"
     ]
    },
    {
     "name": "stdout",
     "output_type": "stream",
     "text": [
      "\r- Download progress: 76.8%"
     ]
    },
    {
     "name": "stdout",
     "output_type": "stream",
     "text": [
      "\r- Download progress: 76.9%"
     ]
    },
    {
     "name": "stdout",
     "output_type": "stream",
     "text": [
      "\r- Download progress: 76.9%"
     ]
    },
    {
     "name": "stdout",
     "output_type": "stream",
     "text": [
      "\r- Download progress: 76.9%"
     ]
    },
    {
     "name": "stdout",
     "output_type": "stream",
     "text": [
      "\r- Download progress: 77.0%"
     ]
    },
    {
     "name": "stdout",
     "output_type": "stream",
     "text": [
      "\r- Download progress: 77.0%"
     ]
    },
    {
     "name": "stdout",
     "output_type": "stream",
     "text": [
      "\r- Download progress: 77.1%"
     ]
    },
    {
     "name": "stdout",
     "output_type": "stream",
     "text": [
      "\r- Download progress: 77.1%"
     ]
    },
    {
     "name": "stdout",
     "output_type": "stream",
     "text": [
      "\r- Download progress: 77.1%"
     ]
    },
    {
     "name": "stdout",
     "output_type": "stream",
     "text": [
      "\r- Download progress: 77.2%"
     ]
    },
    {
     "name": "stdout",
     "output_type": "stream",
     "text": [
      "\r- Download progress: 77.2%"
     ]
    },
    {
     "name": "stdout",
     "output_type": "stream",
     "text": [
      "\r- Download progress: 77.2%"
     ]
    },
    {
     "name": "stdout",
     "output_type": "stream",
     "text": [
      "\r- Download progress: 77.3%"
     ]
    },
    {
     "name": "stdout",
     "output_type": "stream",
     "text": [
      "\r- Download progress: 77.3%"
     ]
    },
    {
     "name": "stdout",
     "output_type": "stream",
     "text": [
      "\r- Download progress: 77.3%"
     ]
    },
    {
     "name": "stdout",
     "output_type": "stream",
     "text": [
      "\r- Download progress: 77.4%"
     ]
    },
    {
     "name": "stdout",
     "output_type": "stream",
     "text": [
      "\r- Download progress: 77.4%"
     ]
    },
    {
     "name": "stdout",
     "output_type": "stream",
     "text": [
      "\r- Download progress: 77.5%"
     ]
    },
    {
     "name": "stdout",
     "output_type": "stream",
     "text": [
      "\r- Download progress: 77.5%"
     ]
    },
    {
     "name": "stdout",
     "output_type": "stream",
     "text": [
      "\r- Download progress: 77.5%"
     ]
    },
    {
     "name": "stdout",
     "output_type": "stream",
     "text": [
      "\r- Download progress: 77.6%"
     ]
    },
    {
     "name": "stdout",
     "output_type": "stream",
     "text": [
      "\r- Download progress: 77.6%"
     ]
    },
    {
     "name": "stdout",
     "output_type": "stream",
     "text": [
      "\r- Download progress: 77.6%"
     ]
    },
    {
     "name": "stdout",
     "output_type": "stream",
     "text": [
      "\r- Download progress: 77.7%"
     ]
    },
    {
     "name": "stdout",
     "output_type": "stream",
     "text": [
      "\r- Download progress: 77.7%"
     ]
    },
    {
     "name": "stdout",
     "output_type": "stream",
     "text": [
      "\r- Download progress: 77.7%"
     ]
    },
    {
     "name": "stdout",
     "output_type": "stream",
     "text": [
      "\r- Download progress: 77.8%"
     ]
    },
    {
     "name": "stdout",
     "output_type": "stream",
     "text": [
      "\r- Download progress: 77.8%"
     ]
    },
    {
     "name": "stdout",
     "output_type": "stream",
     "text": [
      "\r- Download progress: 77.9%"
     ]
    },
    {
     "name": "stdout",
     "output_type": "stream",
     "text": [
      "\r- Download progress: 77.9%"
     ]
    },
    {
     "name": "stdout",
     "output_type": "stream",
     "text": [
      "\r- Download progress: 77.9%"
     ]
    },
    {
     "name": "stdout",
     "output_type": "stream",
     "text": [
      "\r- Download progress: 78.0%"
     ]
    },
    {
     "name": "stdout",
     "output_type": "stream",
     "text": [
      "\r- Download progress: 78.0%"
     ]
    },
    {
     "name": "stdout",
     "output_type": "stream",
     "text": [
      "\r- Download progress: 78.0%"
     ]
    },
    {
     "name": "stdout",
     "output_type": "stream",
     "text": [
      "\r- Download progress: 78.1%"
     ]
    },
    {
     "name": "stdout",
     "output_type": "stream",
     "text": [
      "\r- Download progress: 78.1%"
     ]
    },
    {
     "name": "stdout",
     "output_type": "stream",
     "text": [
      "\r- Download progress: 78.1%"
     ]
    },
    {
     "name": "stdout",
     "output_type": "stream",
     "text": [
      "\r- Download progress: 78.2%"
     ]
    },
    {
     "name": "stdout",
     "output_type": "stream",
     "text": [
      "\r- Download progress: 78.2%"
     ]
    },
    {
     "name": "stdout",
     "output_type": "stream",
     "text": [
      "\r- Download progress: 78.3%"
     ]
    },
    {
     "name": "stdout",
     "output_type": "stream",
     "text": [
      "\r- Download progress: 78.3%"
     ]
    },
    {
     "name": "stdout",
     "output_type": "stream",
     "text": [
      "\r- Download progress: 78.3%"
     ]
    },
    {
     "name": "stdout",
     "output_type": "stream",
     "text": [
      "\r- Download progress: 78.4%"
     ]
    },
    {
     "name": "stdout",
     "output_type": "stream",
     "text": [
      "\r- Download progress: 78.4%"
     ]
    },
    {
     "name": "stdout",
     "output_type": "stream",
     "text": [
      "\r- Download progress: 78.4%"
     ]
    },
    {
     "name": "stdout",
     "output_type": "stream",
     "text": [
      "\r- Download progress: 78.5%"
     ]
    },
    {
     "name": "stdout",
     "output_type": "stream",
     "text": [
      "\r- Download progress: 78.5%"
     ]
    },
    {
     "name": "stdout",
     "output_type": "stream",
     "text": [
      "\r- Download progress: 78.5%"
     ]
    },
    {
     "name": "stdout",
     "output_type": "stream",
     "text": [
      "\r- Download progress: 78.6%"
     ]
    },
    {
     "name": "stdout",
     "output_type": "stream",
     "text": [
      "\r- Download progress: 78.6%"
     ]
    },
    {
     "name": "stdout",
     "output_type": "stream",
     "text": [
      "\r- Download progress: 78.7%"
     ]
    },
    {
     "name": "stdout",
     "output_type": "stream",
     "text": [
      "\r- Download progress: 78.7%"
     ]
    },
    {
     "name": "stdout",
     "output_type": "stream",
     "text": [
      "\r- Download progress: 78.7%"
     ]
    },
    {
     "name": "stdout",
     "output_type": "stream",
     "text": [
      "\r- Download progress: 78.8%"
     ]
    },
    {
     "name": "stdout",
     "output_type": "stream",
     "text": [
      "\r- Download progress: 78.8%"
     ]
    },
    {
     "name": "stdout",
     "output_type": "stream",
     "text": [
      "\r- Download progress: 78.8%"
     ]
    },
    {
     "name": "stdout",
     "output_type": "stream",
     "text": [
      "\r- Download progress: 78.9%"
     ]
    },
    {
     "name": "stdout",
     "output_type": "stream",
     "text": [
      "\r- Download progress: 78.9%"
     ]
    },
    {
     "name": "stdout",
     "output_type": "stream",
     "text": [
      "\r- Download progress: 78.9%"
     ]
    },
    {
     "name": "stdout",
     "output_type": "stream",
     "text": [
      "\r- Download progress: 79.0%"
     ]
    },
    {
     "name": "stdout",
     "output_type": "stream",
     "text": [
      "\r- Download progress: 79.0%"
     ]
    },
    {
     "name": "stdout",
     "output_type": "stream",
     "text": [
      "\r- Download progress: 79.1%"
     ]
    },
    {
     "name": "stdout",
     "output_type": "stream",
     "text": [
      "\r- Download progress: 79.1%"
     ]
    },
    {
     "name": "stdout",
     "output_type": "stream",
     "text": [
      "\r- Download progress: 79.1%"
     ]
    },
    {
     "name": "stdout",
     "output_type": "stream",
     "text": [
      "\r- Download progress: 79.2%"
     ]
    },
    {
     "name": "stdout",
     "output_type": "stream",
     "text": [
      "\r- Download progress: 79.2%"
     ]
    },
    {
     "name": "stdout",
     "output_type": "stream",
     "text": [
      "\r- Download progress: 79.2%"
     ]
    },
    {
     "name": "stdout",
     "output_type": "stream",
     "text": [
      "\r- Download progress: 79.3%"
     ]
    },
    {
     "name": "stdout",
     "output_type": "stream",
     "text": [
      "\r- Download progress: 79.3%"
     ]
    },
    {
     "name": "stdout",
     "output_type": "stream",
     "text": [
      "\r- Download progress: 79.3%"
     ]
    },
    {
     "name": "stdout",
     "output_type": "stream",
     "text": [
      "\r- Download progress: 79.4%"
     ]
    },
    {
     "name": "stdout",
     "output_type": "stream",
     "text": [
      "\r- Download progress: 79.4%"
     ]
    },
    {
     "name": "stdout",
     "output_type": "stream",
     "text": [
      "\r- Download progress: 79.5%"
     ]
    },
    {
     "name": "stdout",
     "output_type": "stream",
     "text": [
      "\r- Download progress: 79.5%"
     ]
    },
    {
     "name": "stdout",
     "output_type": "stream",
     "text": [
      "\r- Download progress: 79.5%"
     ]
    },
    {
     "name": "stdout",
     "output_type": "stream",
     "text": [
      "\r- Download progress: 79.6%"
     ]
    },
    {
     "name": "stdout",
     "output_type": "stream",
     "text": [
      "\r- Download progress: 79.6%"
     ]
    },
    {
     "name": "stdout",
     "output_type": "stream",
     "text": [
      "\r- Download progress: 79.6%"
     ]
    },
    {
     "name": "stdout",
     "output_type": "stream",
     "text": [
      "\r- Download progress: 79.7%"
     ]
    },
    {
     "name": "stdout",
     "output_type": "stream",
     "text": [
      "\r- Download progress: 79.7%"
     ]
    },
    {
     "name": "stdout",
     "output_type": "stream",
     "text": [
      "\r- Download progress: 79.8%"
     ]
    },
    {
     "name": "stdout",
     "output_type": "stream",
     "text": [
      "\r- Download progress: 79.8%"
     ]
    },
    {
     "name": "stdout",
     "output_type": "stream",
     "text": [
      "\r- Download progress: 79.8%"
     ]
    },
    {
     "name": "stdout",
     "output_type": "stream",
     "text": [
      "\r- Download progress: 79.9%"
     ]
    },
    {
     "name": "stdout",
     "output_type": "stream",
     "text": [
      "\r- Download progress: 79.9%"
     ]
    },
    {
     "name": "stdout",
     "output_type": "stream",
     "text": [
      "\r- Download progress: 79.9%"
     ]
    },
    {
     "name": "stdout",
     "output_type": "stream",
     "text": [
      "\r- Download progress: 80.0%"
     ]
    },
    {
     "name": "stdout",
     "output_type": "stream",
     "text": [
      "\r- Download progress: 80.0%"
     ]
    },
    {
     "name": "stdout",
     "output_type": "stream",
     "text": [
      "\r- Download progress: 80.0%"
     ]
    },
    {
     "name": "stdout",
     "output_type": "stream",
     "text": [
      "\r- Download progress: 80.1%"
     ]
    },
    {
     "name": "stdout",
     "output_type": "stream",
     "text": [
      "\r- Download progress: 80.1%"
     ]
    },
    {
     "name": "stdout",
     "output_type": "stream",
     "text": [
      "\r- Download progress: 80.2%"
     ]
    },
    {
     "name": "stdout",
     "output_type": "stream",
     "text": [
      "\r- Download progress: 80.2%"
     ]
    },
    {
     "name": "stdout",
     "output_type": "stream",
     "text": [
      "\r- Download progress: 80.2%"
     ]
    },
    {
     "name": "stdout",
     "output_type": "stream",
     "text": [
      "\r- Download progress: 80.3%"
     ]
    },
    {
     "name": "stdout",
     "output_type": "stream",
     "text": [
      "\r- Download progress: 80.3%"
     ]
    },
    {
     "name": "stdout",
     "output_type": "stream",
     "text": [
      "\r- Download progress: 80.3%"
     ]
    },
    {
     "name": "stdout",
     "output_type": "stream",
     "text": [
      "\r- Download progress: 80.4%"
     ]
    },
    {
     "name": "stdout",
     "output_type": "stream",
     "text": [
      "\r- Download progress: 80.4%"
     ]
    },
    {
     "name": "stdout",
     "output_type": "stream",
     "text": [
      "\r- Download progress: 80.4%"
     ]
    },
    {
     "name": "stdout",
     "output_type": "stream",
     "text": [
      "\r- Download progress: 80.5%"
     ]
    },
    {
     "name": "stdout",
     "output_type": "stream",
     "text": [
      "\r- Download progress: 80.5%"
     ]
    },
    {
     "name": "stdout",
     "output_type": "stream",
     "text": [
      "\r- Download progress: 80.6%"
     ]
    },
    {
     "name": "stdout",
     "output_type": "stream",
     "text": [
      "\r- Download progress: 80.6%"
     ]
    },
    {
     "name": "stdout",
     "output_type": "stream",
     "text": [
      "\r- Download progress: 80.6%"
     ]
    },
    {
     "name": "stdout",
     "output_type": "stream",
     "text": [
      "\r- Download progress: 80.7%"
     ]
    },
    {
     "name": "stdout",
     "output_type": "stream",
     "text": [
      "\r- Download progress: 80.7%"
     ]
    },
    {
     "name": "stdout",
     "output_type": "stream",
     "text": [
      "\r- Download progress: 80.7%"
     ]
    },
    {
     "name": "stdout",
     "output_type": "stream",
     "text": [
      "\r- Download progress: 80.8%"
     ]
    },
    {
     "name": "stdout",
     "output_type": "stream",
     "text": [
      "\r- Download progress: 80.8%"
     ]
    },
    {
     "name": "stdout",
     "output_type": "stream",
     "text": [
      "\r- Download progress: 80.8%"
     ]
    },
    {
     "name": "stdout",
     "output_type": "stream",
     "text": [
      "\r- Download progress: 80.9%"
     ]
    },
    {
     "name": "stdout",
     "output_type": "stream",
     "text": [
      "\r- Download progress: 80.9%"
     ]
    },
    {
     "name": "stdout",
     "output_type": "stream",
     "text": [
      "\r- Download progress: 81.0%"
     ]
    },
    {
     "name": "stdout",
     "output_type": "stream",
     "text": [
      "\r- Download progress: 81.0%"
     ]
    },
    {
     "name": "stdout",
     "output_type": "stream",
     "text": [
      "\r- Download progress: 81.0%"
     ]
    },
    {
     "name": "stdout",
     "output_type": "stream",
     "text": [
      "\r- Download progress: 81.1%"
     ]
    },
    {
     "name": "stdout",
     "output_type": "stream",
     "text": [
      "\r- Download progress: 81.1%"
     ]
    },
    {
     "name": "stdout",
     "output_type": "stream",
     "text": [
      "\r- Download progress: 81.1%"
     ]
    },
    {
     "name": "stdout",
     "output_type": "stream",
     "text": [
      "\r- Download progress: 81.2%"
     ]
    },
    {
     "name": "stdout",
     "output_type": "stream",
     "text": [
      "\r- Download progress: 81.2%"
     ]
    },
    {
     "name": "stdout",
     "output_type": "stream",
     "text": [
      "\r- Download progress: 81.2%"
     ]
    },
    {
     "name": "stdout",
     "output_type": "stream",
     "text": [
      "\r- Download progress: 81.3%"
     ]
    },
    {
     "name": "stdout",
     "output_type": "stream",
     "text": [
      "\r- Download progress: 81.3%"
     ]
    },
    {
     "name": "stdout",
     "output_type": "stream",
     "text": [
      "\r- Download progress: 81.4%"
     ]
    },
    {
     "name": "stdout",
     "output_type": "stream",
     "text": [
      "\r- Download progress: 81.4%"
     ]
    },
    {
     "name": "stdout",
     "output_type": "stream",
     "text": [
      "\r- Download progress: 81.4%"
     ]
    },
    {
     "name": "stdout",
     "output_type": "stream",
     "text": [
      "\r- Download progress: 81.5%"
     ]
    },
    {
     "name": "stdout",
     "output_type": "stream",
     "text": [
      "\r- Download progress: 81.5%"
     ]
    },
    {
     "name": "stdout",
     "output_type": "stream",
     "text": [
      "\r- Download progress: 81.5%"
     ]
    },
    {
     "name": "stdout",
     "output_type": "stream",
     "text": [
      "\r- Download progress: 81.6%"
     ]
    },
    {
     "name": "stdout",
     "output_type": "stream",
     "text": [
      "\r- Download progress: 81.6%"
     ]
    },
    {
     "name": "stdout",
     "output_type": "stream",
     "text": [
      "\r- Download progress: 81.6%"
     ]
    },
    {
     "name": "stdout",
     "output_type": "stream",
     "text": [
      "\r- Download progress: 81.7%"
     ]
    },
    {
     "name": "stdout",
     "output_type": "stream",
     "text": [
      "\r- Download progress: 81.7%"
     ]
    },
    {
     "name": "stdout",
     "output_type": "stream",
     "text": [
      "\r- Download progress: 81.8%"
     ]
    },
    {
     "name": "stdout",
     "output_type": "stream",
     "text": [
      "\r- Download progress: 81.8%"
     ]
    },
    {
     "name": "stdout",
     "output_type": "stream",
     "text": [
      "\r- Download progress: 81.8%"
     ]
    },
    {
     "name": "stdout",
     "output_type": "stream",
     "text": [
      "\r- Download progress: 81.9%"
     ]
    },
    {
     "name": "stdout",
     "output_type": "stream",
     "text": [
      "\r- Download progress: 81.9%"
     ]
    },
    {
     "name": "stdout",
     "output_type": "stream",
     "text": [
      "\r- Download progress: 81.9%"
     ]
    },
    {
     "name": "stdout",
     "output_type": "stream",
     "text": [
      "\r- Download progress: 82.0%"
     ]
    },
    {
     "name": "stdout",
     "output_type": "stream",
     "text": [
      "\r- Download progress: 82.0%"
     ]
    },
    {
     "name": "stdout",
     "output_type": "stream",
     "text": [
      "\r- Download progress: 82.0%"
     ]
    },
    {
     "name": "stdout",
     "output_type": "stream",
     "text": [
      "\r- Download progress: 82.1%"
     ]
    },
    {
     "name": "stdout",
     "output_type": "stream",
     "text": [
      "\r- Download progress: 82.1%"
     ]
    },
    {
     "name": "stdout",
     "output_type": "stream",
     "text": [
      "\r- Download progress: 82.2%"
     ]
    },
    {
     "name": "stdout",
     "output_type": "stream",
     "text": [
      "\r- Download progress: 82.2%"
     ]
    },
    {
     "name": "stdout",
     "output_type": "stream",
     "text": [
      "\r- Download progress: 82.2%"
     ]
    },
    {
     "name": "stdout",
     "output_type": "stream",
     "text": [
      "\r- Download progress: 82.3%"
     ]
    },
    {
     "name": "stdout",
     "output_type": "stream",
     "text": [
      "\r- Download progress: 82.3%"
     ]
    },
    {
     "name": "stdout",
     "output_type": "stream",
     "text": [
      "\r- Download progress: 82.3%"
     ]
    },
    {
     "name": "stdout",
     "output_type": "stream",
     "text": [
      "\r- Download progress: 82.4%"
     ]
    },
    {
     "name": "stdout",
     "output_type": "stream",
     "text": [
      "\r- Download progress: 82.4%"
     ]
    },
    {
     "name": "stdout",
     "output_type": "stream",
     "text": [
      "\r- Download progress: 82.4%"
     ]
    },
    {
     "name": "stdout",
     "output_type": "stream",
     "text": [
      "\r- Download progress: 82.5%"
     ]
    },
    {
     "name": "stdout",
     "output_type": "stream",
     "text": [
      "\r- Download progress: 82.5%"
     ]
    },
    {
     "name": "stdout",
     "output_type": "stream",
     "text": [
      "\r- Download progress: 82.6%"
     ]
    },
    {
     "name": "stdout",
     "output_type": "stream",
     "text": [
      "\r- Download progress: 82.6%"
     ]
    },
    {
     "name": "stdout",
     "output_type": "stream",
     "text": [
      "\r- Download progress: 82.6%"
     ]
    },
    {
     "name": "stdout",
     "output_type": "stream",
     "text": [
      "\r- Download progress: 82.7%"
     ]
    },
    {
     "name": "stdout",
     "output_type": "stream",
     "text": [
      "\r- Download progress: 82.7%"
     ]
    },
    {
     "name": "stdout",
     "output_type": "stream",
     "text": [
      "\r- Download progress: 82.7%"
     ]
    },
    {
     "name": "stdout",
     "output_type": "stream",
     "text": [
      "\r- Download progress: 82.8%"
     ]
    },
    {
     "name": "stdout",
     "output_type": "stream",
     "text": [
      "\r- Download progress: 82.8%"
     ]
    },
    {
     "name": "stdout",
     "output_type": "stream",
     "text": [
      "\r- Download progress: 82.8%"
     ]
    },
    {
     "name": "stdout",
     "output_type": "stream",
     "text": [
      "\r- Download progress: 82.9%"
     ]
    },
    {
     "name": "stdout",
     "output_type": "stream",
     "text": [
      "\r- Download progress: 82.9%"
     ]
    },
    {
     "name": "stdout",
     "output_type": "stream",
     "text": [
      "\r- Download progress: 83.0%"
     ]
    },
    {
     "name": "stdout",
     "output_type": "stream",
     "text": [
      "\r- Download progress: 83.0%"
     ]
    },
    {
     "name": "stdout",
     "output_type": "stream",
     "text": [
      "\r- Download progress: 83.0%"
     ]
    },
    {
     "name": "stdout",
     "output_type": "stream",
     "text": [
      "\r- Download progress: 83.1%"
     ]
    },
    {
     "name": "stdout",
     "output_type": "stream",
     "text": [
      "\r- Download progress: 83.1%"
     ]
    },
    {
     "name": "stdout",
     "output_type": "stream",
     "text": [
      "\r- Download progress: 83.1%"
     ]
    },
    {
     "name": "stdout",
     "output_type": "stream",
     "text": [
      "\r- Download progress: 83.2%"
     ]
    },
    {
     "name": "stdout",
     "output_type": "stream",
     "text": [
      "\r- Download progress: 83.2%"
     ]
    },
    {
     "name": "stdout",
     "output_type": "stream",
     "text": [
      "\r- Download progress: 83.2%"
     ]
    },
    {
     "name": "stdout",
     "output_type": "stream",
     "text": [
      "\r- Download progress: 83.3%"
     ]
    },
    {
     "name": "stdout",
     "output_type": "stream",
     "text": [
      "\r- Download progress: 83.3%"
     ]
    },
    {
     "name": "stdout",
     "output_type": "stream",
     "text": [
      "\r- Download progress: 83.4%"
     ]
    },
    {
     "name": "stdout",
     "output_type": "stream",
     "text": [
      "\r- Download progress: 83.4%"
     ]
    },
    {
     "name": "stdout",
     "output_type": "stream",
     "text": [
      "\r- Download progress: 83.4%"
     ]
    },
    {
     "name": "stdout",
     "output_type": "stream",
     "text": [
      "\r- Download progress: 83.5%"
     ]
    },
    {
     "name": "stdout",
     "output_type": "stream",
     "text": [
      "\r- Download progress: 83.5%"
     ]
    },
    {
     "name": "stdout",
     "output_type": "stream",
     "text": [
      "\r- Download progress: 83.5%"
     ]
    },
    {
     "name": "stdout",
     "output_type": "stream",
     "text": [
      "\r- Download progress: 83.6%"
     ]
    },
    {
     "name": "stdout",
     "output_type": "stream",
     "text": [
      "\r- Download progress: 83.6%"
     ]
    },
    {
     "name": "stdout",
     "output_type": "stream",
     "text": [
      "\r- Download progress: 83.6%"
     ]
    },
    {
     "name": "stdout",
     "output_type": "stream",
     "text": [
      "\r- Download progress: 83.7%"
     ]
    },
    {
     "name": "stdout",
     "output_type": "stream",
     "text": [
      "\r- Download progress: 83.7%"
     ]
    },
    {
     "name": "stdout",
     "output_type": "stream",
     "text": [
      "\r- Download progress: 83.8%"
     ]
    },
    {
     "name": "stdout",
     "output_type": "stream",
     "text": [
      "\r- Download progress: 83.8%"
     ]
    },
    {
     "name": "stdout",
     "output_type": "stream",
     "text": [
      "\r- Download progress: 83.8%"
     ]
    },
    {
     "name": "stdout",
     "output_type": "stream",
     "text": [
      "\r- Download progress: 83.9%"
     ]
    },
    {
     "name": "stdout",
     "output_type": "stream",
     "text": [
      "\r- Download progress: 83.9%"
     ]
    },
    {
     "name": "stdout",
     "output_type": "stream",
     "text": [
      "\r- Download progress: 83.9%"
     ]
    },
    {
     "name": "stdout",
     "output_type": "stream",
     "text": [
      "\r- Download progress: 84.0%"
     ]
    },
    {
     "name": "stdout",
     "output_type": "stream",
     "text": [
      "\r- Download progress: 84.0%"
     ]
    },
    {
     "name": "stdout",
     "output_type": "stream",
     "text": [
      "\r- Download progress: 84.0%"
     ]
    },
    {
     "name": "stdout",
     "output_type": "stream",
     "text": [
      "\r- Download progress: 84.1%"
     ]
    },
    {
     "name": "stdout",
     "output_type": "stream",
     "text": [
      "\r- Download progress: 84.1%"
     ]
    },
    {
     "name": "stdout",
     "output_type": "stream",
     "text": [
      "\r- Download progress: 84.2%"
     ]
    },
    {
     "name": "stdout",
     "output_type": "stream",
     "text": [
      "\r- Download progress: 84.2%"
     ]
    },
    {
     "name": "stdout",
     "output_type": "stream",
     "text": [
      "\r- Download progress: 84.2%"
     ]
    },
    {
     "name": "stdout",
     "output_type": "stream",
     "text": [
      "\r- Download progress: 84.3%"
     ]
    },
    {
     "name": "stdout",
     "output_type": "stream",
     "text": [
      "\r- Download progress: 84.3%"
     ]
    },
    {
     "name": "stdout",
     "output_type": "stream",
     "text": [
      "\r- Download progress: 84.3%"
     ]
    },
    {
     "name": "stdout",
     "output_type": "stream",
     "text": [
      "\r- Download progress: 84.4%"
     ]
    },
    {
     "name": "stdout",
     "output_type": "stream",
     "text": [
      "\r- Download progress: 84.4%"
     ]
    },
    {
     "name": "stdout",
     "output_type": "stream",
     "text": [
      "\r- Download progress: 84.4%"
     ]
    },
    {
     "name": "stdout",
     "output_type": "stream",
     "text": [
      "\r- Download progress: 84.5%"
     ]
    },
    {
     "name": "stdout",
     "output_type": "stream",
     "text": [
      "\r- Download progress: 84.5%"
     ]
    },
    {
     "name": "stdout",
     "output_type": "stream",
     "text": [
      "\r- Download progress: 84.6%"
     ]
    },
    {
     "name": "stdout",
     "output_type": "stream",
     "text": [
      "\r- Download progress: 84.6%"
     ]
    },
    {
     "name": "stdout",
     "output_type": "stream",
     "text": [
      "\r- Download progress: 84.6%"
     ]
    },
    {
     "name": "stdout",
     "output_type": "stream",
     "text": [
      "\r- Download progress: 84.7%"
     ]
    },
    {
     "name": "stdout",
     "output_type": "stream",
     "text": [
      "\r- Download progress: 84.7%"
     ]
    },
    {
     "name": "stdout",
     "output_type": "stream",
     "text": [
      "\r- Download progress: 84.7%"
     ]
    },
    {
     "name": "stdout",
     "output_type": "stream",
     "text": [
      "\r- Download progress: 84.8%"
     ]
    },
    {
     "name": "stdout",
     "output_type": "stream",
     "text": [
      "\r- Download progress: 84.8%"
     ]
    },
    {
     "name": "stdout",
     "output_type": "stream",
     "text": [
      "\r- Download progress: 84.8%"
     ]
    },
    {
     "name": "stdout",
     "output_type": "stream",
     "text": [
      "\r- Download progress: 84.9%"
     ]
    },
    {
     "name": "stdout",
     "output_type": "stream",
     "text": [
      "\r- Download progress: 84.9%"
     ]
    },
    {
     "name": "stdout",
     "output_type": "stream",
     "text": [
      "\r- Download progress: 85.0%"
     ]
    },
    {
     "name": "stdout",
     "output_type": "stream",
     "text": [
      "\r- Download progress: 85.0%"
     ]
    },
    {
     "name": "stdout",
     "output_type": "stream",
     "text": [
      "\r- Download progress: 85.0%"
     ]
    },
    {
     "name": "stdout",
     "output_type": "stream",
     "text": [
      "\r- Download progress: 85.1%"
     ]
    },
    {
     "name": "stdout",
     "output_type": "stream",
     "text": [
      "\r- Download progress: 85.1%"
     ]
    },
    {
     "name": "stdout",
     "output_type": "stream",
     "text": [
      "\r- Download progress: 85.1%"
     ]
    },
    {
     "name": "stdout",
     "output_type": "stream",
     "text": [
      "\r- Download progress: 85.2%"
     ]
    },
    {
     "name": "stdout",
     "output_type": "stream",
     "text": [
      "\r- Download progress: 85.2%"
     ]
    },
    {
     "name": "stdout",
     "output_type": "stream",
     "text": [
      "\r- Download progress: 85.2%"
     ]
    },
    {
     "name": "stdout",
     "output_type": "stream",
     "text": [
      "\r- Download progress: 85.3%"
     ]
    },
    {
     "name": "stdout",
     "output_type": "stream",
     "text": [
      "\r- Download progress: 85.3%"
     ]
    },
    {
     "name": "stdout",
     "output_type": "stream",
     "text": [
      "\r- Download progress: 85.4%"
     ]
    },
    {
     "name": "stdout",
     "output_type": "stream",
     "text": [
      "\r- Download progress: 85.4%"
     ]
    },
    {
     "name": "stdout",
     "output_type": "stream",
     "text": [
      "\r- Download progress: 85.4%"
     ]
    },
    {
     "name": "stdout",
     "output_type": "stream",
     "text": [
      "\r- Download progress: 85.5%"
     ]
    },
    {
     "name": "stdout",
     "output_type": "stream",
     "text": [
      "\r- Download progress: 85.5%"
     ]
    },
    {
     "name": "stdout",
     "output_type": "stream",
     "text": [
      "\r- Download progress: 85.5%"
     ]
    },
    {
     "name": "stdout",
     "output_type": "stream",
     "text": [
      "\r- Download progress: 85.6%"
     ]
    },
    {
     "name": "stdout",
     "output_type": "stream",
     "text": [
      "\r- Download progress: 85.6%"
     ]
    },
    {
     "name": "stdout",
     "output_type": "stream",
     "text": [
      "\r- Download progress: 85.6%"
     ]
    },
    {
     "name": "stdout",
     "output_type": "stream",
     "text": [
      "\r- Download progress: 85.7%"
     ]
    },
    {
     "name": "stdout",
     "output_type": "stream",
     "text": [
      "\r- Download progress: 85.7%"
     ]
    },
    {
     "name": "stdout",
     "output_type": "stream",
     "text": [
      "\r- Download progress: 85.8%"
     ]
    },
    {
     "name": "stdout",
     "output_type": "stream",
     "text": [
      "\r- Download progress: 85.8%"
     ]
    },
    {
     "name": "stdout",
     "output_type": "stream",
     "text": [
      "\r- Download progress: 85.8%"
     ]
    },
    {
     "name": "stdout",
     "output_type": "stream",
     "text": [
      "\r- Download progress: 85.9%"
     ]
    },
    {
     "name": "stdout",
     "output_type": "stream",
     "text": [
      "\r- Download progress: 85.9%"
     ]
    },
    {
     "name": "stdout",
     "output_type": "stream",
     "text": [
      "\r- Download progress: 85.9%"
     ]
    },
    {
     "name": "stdout",
     "output_type": "stream",
     "text": [
      "\r- Download progress: 86.0%"
     ]
    },
    {
     "name": "stdout",
     "output_type": "stream",
     "text": [
      "\r- Download progress: 86.0%"
     ]
    },
    {
     "name": "stdout",
     "output_type": "stream",
     "text": [
      "\r- Download progress: 86.0%"
     ]
    },
    {
     "name": "stdout",
     "output_type": "stream",
     "text": [
      "\r- Download progress: 86.1%"
     ]
    },
    {
     "name": "stdout",
     "output_type": "stream",
     "text": [
      "\r- Download progress: 86.1%"
     ]
    },
    {
     "name": "stdout",
     "output_type": "stream",
     "text": [
      "\r- Download progress: 86.2%"
     ]
    },
    {
     "name": "stdout",
     "output_type": "stream",
     "text": [
      "\r- Download progress: 86.2%"
     ]
    },
    {
     "name": "stdout",
     "output_type": "stream",
     "text": [
      "\r- Download progress: 86.2%"
     ]
    },
    {
     "name": "stdout",
     "output_type": "stream",
     "text": [
      "\r- Download progress: 86.3%"
     ]
    },
    {
     "name": "stdout",
     "output_type": "stream",
     "text": [
      "\r- Download progress: 86.3%"
     ]
    },
    {
     "name": "stdout",
     "output_type": "stream",
     "text": [
      "\r- Download progress: 86.3%"
     ]
    },
    {
     "name": "stdout",
     "output_type": "stream",
     "text": [
      "\r- Download progress: 86.4%"
     ]
    },
    {
     "name": "stdout",
     "output_type": "stream",
     "text": [
      "\r- Download progress: 86.4%"
     ]
    },
    {
     "name": "stdout",
     "output_type": "stream",
     "text": [
      "\r- Download progress: 86.4%"
     ]
    },
    {
     "name": "stdout",
     "output_type": "stream",
     "text": [
      "\r- Download progress: 86.5%"
     ]
    },
    {
     "name": "stdout",
     "output_type": "stream",
     "text": [
      "\r- Download progress: 86.5%"
     ]
    },
    {
     "name": "stdout",
     "output_type": "stream",
     "text": [
      "\r- Download progress: 86.6%"
     ]
    },
    {
     "name": "stdout",
     "output_type": "stream",
     "text": [
      "\r- Download progress: 86.6%"
     ]
    },
    {
     "name": "stdout",
     "output_type": "stream",
     "text": [
      "\r- Download progress: 86.6%"
     ]
    },
    {
     "name": "stdout",
     "output_type": "stream",
     "text": [
      "\r- Download progress: 86.7%"
     ]
    },
    {
     "name": "stdout",
     "output_type": "stream",
     "text": [
      "\r- Download progress: 86.7%"
     ]
    },
    {
     "name": "stdout",
     "output_type": "stream",
     "text": [
      "\r- Download progress: 86.7%"
     ]
    },
    {
     "name": "stdout",
     "output_type": "stream",
     "text": [
      "\r- Download progress: 86.8%"
     ]
    },
    {
     "name": "stdout",
     "output_type": "stream",
     "text": [
      "\r- Download progress: 86.8%"
     ]
    },
    {
     "name": "stdout",
     "output_type": "stream",
     "text": [
      "\r- Download progress: 86.8%"
     ]
    },
    {
     "name": "stdout",
     "output_type": "stream",
     "text": [
      "\r- Download progress: 86.9%"
     ]
    },
    {
     "name": "stdout",
     "output_type": "stream",
     "text": [
      "\r- Download progress: 86.9%"
     ]
    },
    {
     "name": "stdout",
     "output_type": "stream",
     "text": [
      "\r- Download progress: 87.0%"
     ]
    },
    {
     "name": "stdout",
     "output_type": "stream",
     "text": [
      "\r- Download progress: 87.0%"
     ]
    },
    {
     "name": "stdout",
     "output_type": "stream",
     "text": [
      "\r- Download progress: 87.0%"
     ]
    },
    {
     "name": "stdout",
     "output_type": "stream",
     "text": [
      "\r- Download progress: 87.1%"
     ]
    },
    {
     "name": "stdout",
     "output_type": "stream",
     "text": [
      "\r- Download progress: 87.1%"
     ]
    },
    {
     "name": "stdout",
     "output_type": "stream",
     "text": [
      "\r- Download progress: 87.1%"
     ]
    },
    {
     "name": "stdout",
     "output_type": "stream",
     "text": [
      "\r- Download progress: 87.2%"
     ]
    },
    {
     "name": "stdout",
     "output_type": "stream",
     "text": [
      "\r- Download progress: 87.2%"
     ]
    },
    {
     "name": "stdout",
     "output_type": "stream",
     "text": [
      "\r- Download progress: 87.2%"
     ]
    },
    {
     "name": "stdout",
     "output_type": "stream",
     "text": [
      "\r- Download progress: 87.3%"
     ]
    },
    {
     "name": "stdout",
     "output_type": "stream",
     "text": [
      "\r- Download progress: 87.3%"
     ]
    },
    {
     "name": "stdout",
     "output_type": "stream",
     "text": [
      "\r- Download progress: 87.4%"
     ]
    },
    {
     "name": "stdout",
     "output_type": "stream",
     "text": [
      "\r- Download progress: 87.4%"
     ]
    },
    {
     "name": "stdout",
     "output_type": "stream",
     "text": [
      "\r- Download progress: 87.4%"
     ]
    },
    {
     "name": "stdout",
     "output_type": "stream",
     "text": [
      "\r- Download progress: 87.5%"
     ]
    },
    {
     "name": "stdout",
     "output_type": "stream",
     "text": [
      "\r- Download progress: 87.5%"
     ]
    },
    {
     "name": "stdout",
     "output_type": "stream",
     "text": [
      "\r- Download progress: 87.5%"
     ]
    },
    {
     "name": "stdout",
     "output_type": "stream",
     "text": [
      "\r- Download progress: 87.6%"
     ]
    },
    {
     "name": "stdout",
     "output_type": "stream",
     "text": [
      "\r- Download progress: 87.6%"
     ]
    },
    {
     "name": "stdout",
     "output_type": "stream",
     "text": [
      "\r- Download progress: 87.6%"
     ]
    },
    {
     "name": "stdout",
     "output_type": "stream",
     "text": [
      "\r- Download progress: 87.7%"
     ]
    },
    {
     "name": "stdout",
     "output_type": "stream",
     "text": [
      "\r- Download progress: 87.7%"
     ]
    },
    {
     "name": "stdout",
     "output_type": "stream",
     "text": [
      "\r- Download progress: 87.8%"
     ]
    },
    {
     "name": "stdout",
     "output_type": "stream",
     "text": [
      "\r- Download progress: 87.8%"
     ]
    },
    {
     "name": "stdout",
     "output_type": "stream",
     "text": [
      "\r- Download progress: 87.8%"
     ]
    },
    {
     "name": "stdout",
     "output_type": "stream",
     "text": [
      "\r- Download progress: 87.9%"
     ]
    },
    {
     "name": "stdout",
     "output_type": "stream",
     "text": [
      "\r- Download progress: 87.9%"
     ]
    },
    {
     "name": "stdout",
     "output_type": "stream",
     "text": [
      "\r- Download progress: 87.9%"
     ]
    },
    {
     "name": "stdout",
     "output_type": "stream",
     "text": [
      "\r- Download progress: 88.0%"
     ]
    },
    {
     "name": "stdout",
     "output_type": "stream",
     "text": [
      "\r- Download progress: 88.0%"
     ]
    },
    {
     "name": "stdout",
     "output_type": "stream",
     "text": [
      "\r- Download progress: 88.0%"
     ]
    },
    {
     "name": "stdout",
     "output_type": "stream",
     "text": [
      "\r- Download progress: 88.1%"
     ]
    },
    {
     "name": "stdout",
     "output_type": "stream",
     "text": [
      "\r- Download progress: 88.1%"
     ]
    },
    {
     "name": "stdout",
     "output_type": "stream",
     "text": [
      "\r- Download progress: 88.2%"
     ]
    },
    {
     "name": "stdout",
     "output_type": "stream",
     "text": [
      "\r- Download progress: 88.2%"
     ]
    },
    {
     "name": "stdout",
     "output_type": "stream",
     "text": [
      "\r- Download progress: 88.2%"
     ]
    },
    {
     "name": "stdout",
     "output_type": "stream",
     "text": [
      "\r- Download progress: 88.3%"
     ]
    },
    {
     "name": "stdout",
     "output_type": "stream",
     "text": [
      "\r- Download progress: 88.3%"
     ]
    },
    {
     "name": "stdout",
     "output_type": "stream",
     "text": [
      "\r- Download progress: 88.3%"
     ]
    },
    {
     "name": "stdout",
     "output_type": "stream",
     "text": [
      "\r- Download progress: 88.4%"
     ]
    },
    {
     "name": "stdout",
     "output_type": "stream",
     "text": [
      "\r- Download progress: 88.4%"
     ]
    },
    {
     "name": "stdout",
     "output_type": "stream",
     "text": [
      "\r- Download progress: 88.4%"
     ]
    },
    {
     "name": "stdout",
     "output_type": "stream",
     "text": [
      "\r- Download progress: 88.5%"
     ]
    },
    {
     "name": "stdout",
     "output_type": "stream",
     "text": [
      "\r- Download progress: 88.5%"
     ]
    },
    {
     "name": "stdout",
     "output_type": "stream",
     "text": [
      "\r- Download progress: 88.6%"
     ]
    },
    {
     "name": "stdout",
     "output_type": "stream",
     "text": [
      "\r- Download progress: 88.6%"
     ]
    },
    {
     "name": "stdout",
     "output_type": "stream",
     "text": [
      "\r- Download progress: 88.6%"
     ]
    },
    {
     "name": "stdout",
     "output_type": "stream",
     "text": [
      "\r- Download progress: 88.7%"
     ]
    },
    {
     "name": "stdout",
     "output_type": "stream",
     "text": [
      "\r- Download progress: 88.7%"
     ]
    },
    {
     "name": "stdout",
     "output_type": "stream",
     "text": [
      "\r- Download progress: 88.7%"
     ]
    },
    {
     "name": "stdout",
     "output_type": "stream",
     "text": [
      "\r- Download progress: 88.8%"
     ]
    },
    {
     "name": "stdout",
     "output_type": "stream",
     "text": [
      "\r- Download progress: 88.8%"
     ]
    },
    {
     "name": "stdout",
     "output_type": "stream",
     "text": [
      "\r- Download progress: 88.8%"
     ]
    },
    {
     "name": "stdout",
     "output_type": "stream",
     "text": [
      "\r- Download progress: 88.9%"
     ]
    },
    {
     "name": "stdout",
     "output_type": "stream",
     "text": [
      "\r- Download progress: 88.9%"
     ]
    },
    {
     "name": "stdout",
     "output_type": "stream",
     "text": [
      "\r- Download progress: 89.0%"
     ]
    },
    {
     "name": "stdout",
     "output_type": "stream",
     "text": [
      "\r- Download progress: 89.0%"
     ]
    },
    {
     "name": "stdout",
     "output_type": "stream",
     "text": [
      "\r- Download progress: 89.0%"
     ]
    },
    {
     "name": "stdout",
     "output_type": "stream",
     "text": [
      "\r- Download progress: 89.1%"
     ]
    },
    {
     "name": "stdout",
     "output_type": "stream",
     "text": [
      "\r- Download progress: 89.1%"
     ]
    },
    {
     "name": "stdout",
     "output_type": "stream",
     "text": [
      "\r- Download progress: 89.1%"
     ]
    },
    {
     "name": "stdout",
     "output_type": "stream",
     "text": [
      "\r- Download progress: 89.2%"
     ]
    },
    {
     "name": "stdout",
     "output_type": "stream",
     "text": [
      "\r- Download progress: 89.2%"
     ]
    },
    {
     "name": "stdout",
     "output_type": "stream",
     "text": [
      "\r- Download progress: 89.2%"
     ]
    },
    {
     "name": "stdout",
     "output_type": "stream",
     "text": [
      "\r- Download progress: 89.3%"
     ]
    },
    {
     "name": "stdout",
     "output_type": "stream",
     "text": [
      "\r- Download progress: 89.3%"
     ]
    },
    {
     "name": "stdout",
     "output_type": "stream",
     "text": [
      "\r- Download progress: 89.4%"
     ]
    },
    {
     "name": "stdout",
     "output_type": "stream",
     "text": [
      "\r- Download progress: 89.4%"
     ]
    },
    {
     "name": "stdout",
     "output_type": "stream",
     "text": [
      "\r- Download progress: 89.4%"
     ]
    },
    {
     "name": "stdout",
     "output_type": "stream",
     "text": [
      "\r- Download progress: 89.5%"
     ]
    },
    {
     "name": "stdout",
     "output_type": "stream",
     "text": [
      "\r- Download progress: 89.5%"
     ]
    },
    {
     "name": "stdout",
     "output_type": "stream",
     "text": [
      "\r- Download progress: 89.5%"
     ]
    },
    {
     "name": "stdout",
     "output_type": "stream",
     "text": [
      "\r- Download progress: 89.6%"
     ]
    },
    {
     "name": "stdout",
     "output_type": "stream",
     "text": [
      "\r- Download progress: 89.6%"
     ]
    },
    {
     "name": "stdout",
     "output_type": "stream",
     "text": [
      "\r- Download progress: 89.6%"
     ]
    },
    {
     "name": "stdout",
     "output_type": "stream",
     "text": [
      "\r- Download progress: 89.7%"
     ]
    },
    {
     "name": "stdout",
     "output_type": "stream",
     "text": [
      "\r- Download progress: 89.7%"
     ]
    },
    {
     "name": "stdout",
     "output_type": "stream",
     "text": [
      "\r- Download progress: 89.8%"
     ]
    },
    {
     "name": "stdout",
     "output_type": "stream",
     "text": [
      "\r- Download progress: 89.8%"
     ]
    },
    {
     "name": "stdout",
     "output_type": "stream",
     "text": [
      "\r- Download progress: 89.8%"
     ]
    },
    {
     "name": "stdout",
     "output_type": "stream",
     "text": [
      "\r- Download progress: 89.9%"
     ]
    },
    {
     "name": "stdout",
     "output_type": "stream",
     "text": [
      "\r- Download progress: 89.9%"
     ]
    },
    {
     "name": "stdout",
     "output_type": "stream",
     "text": [
      "\r- Download progress: 89.9%"
     ]
    },
    {
     "name": "stdout",
     "output_type": "stream",
     "text": [
      "\r- Download progress: 90.0%"
     ]
    },
    {
     "name": "stdout",
     "output_type": "stream",
     "text": [
      "\r- Download progress: 90.0%"
     ]
    },
    {
     "name": "stdout",
     "output_type": "stream",
     "text": [
      "\r- Download progress: 90.0%"
     ]
    },
    {
     "name": "stdout",
     "output_type": "stream",
     "text": [
      "\r- Download progress: 90.1%"
     ]
    },
    {
     "name": "stdout",
     "output_type": "stream",
     "text": [
      "\r- Download progress: 90.1%"
     ]
    },
    {
     "name": "stdout",
     "output_type": "stream",
     "text": [
      "\r- Download progress: 90.2%"
     ]
    },
    {
     "name": "stdout",
     "output_type": "stream",
     "text": [
      "\r- Download progress: 90.2%"
     ]
    },
    {
     "name": "stdout",
     "output_type": "stream",
     "text": [
      "\r- Download progress: 90.2%"
     ]
    },
    {
     "name": "stdout",
     "output_type": "stream",
     "text": [
      "\r- Download progress: 90.3%"
     ]
    },
    {
     "name": "stdout",
     "output_type": "stream",
     "text": [
      "\r- Download progress: 90.3%"
     ]
    },
    {
     "name": "stdout",
     "output_type": "stream",
     "text": [
      "\r- Download progress: 90.3%"
     ]
    },
    {
     "name": "stdout",
     "output_type": "stream",
     "text": [
      "\r- Download progress: 90.4%"
     ]
    },
    {
     "name": "stdout",
     "output_type": "stream",
     "text": [
      "\r- Download progress: 90.4%"
     ]
    },
    {
     "name": "stdout",
     "output_type": "stream",
     "text": [
      "\r- Download progress: 90.4%"
     ]
    },
    {
     "name": "stdout",
     "output_type": "stream",
     "text": [
      "\r- Download progress: 90.5%"
     ]
    },
    {
     "name": "stdout",
     "output_type": "stream",
     "text": [
      "\r- Download progress: 90.5%"
     ]
    },
    {
     "name": "stdout",
     "output_type": "stream",
     "text": [
      "\r- Download progress: 90.6%"
     ]
    },
    {
     "name": "stdout",
     "output_type": "stream",
     "text": [
      "\r- Download progress: 90.6%"
     ]
    },
    {
     "name": "stdout",
     "output_type": "stream",
     "text": [
      "\r- Download progress: 90.6%"
     ]
    },
    {
     "name": "stdout",
     "output_type": "stream",
     "text": [
      "\r- Download progress: 90.7%"
     ]
    },
    {
     "name": "stdout",
     "output_type": "stream",
     "text": [
      "\r- Download progress: 90.7%"
     ]
    },
    {
     "name": "stdout",
     "output_type": "stream",
     "text": [
      "\r- Download progress: 90.7%"
     ]
    },
    {
     "name": "stdout",
     "output_type": "stream",
     "text": [
      "\r- Download progress: 90.8%"
     ]
    },
    {
     "name": "stdout",
     "output_type": "stream",
     "text": [
      "\r- Download progress: 90.8%"
     ]
    },
    {
     "name": "stdout",
     "output_type": "stream",
     "text": [
      "\r- Download progress: 90.8%"
     ]
    },
    {
     "name": "stdout",
     "output_type": "stream",
     "text": [
      "\r- Download progress: 90.9%"
     ]
    },
    {
     "name": "stdout",
     "output_type": "stream",
     "text": [
      "\r- Download progress: 90.9%"
     ]
    },
    {
     "name": "stdout",
     "output_type": "stream",
     "text": [
      "\r- Download progress: 91.0%"
     ]
    },
    {
     "name": "stdout",
     "output_type": "stream",
     "text": [
      "\r- Download progress: 91.0%"
     ]
    },
    {
     "name": "stdout",
     "output_type": "stream",
     "text": [
      "\r- Download progress: 91.0%"
     ]
    },
    {
     "name": "stdout",
     "output_type": "stream",
     "text": [
      "\r- Download progress: 91.1%"
     ]
    },
    {
     "name": "stdout",
     "output_type": "stream",
     "text": [
      "\r- Download progress: 91.1%"
     ]
    },
    {
     "name": "stdout",
     "output_type": "stream",
     "text": [
      "\r- Download progress: 91.1%"
     ]
    },
    {
     "name": "stdout",
     "output_type": "stream",
     "text": [
      "\r- Download progress: 91.2%"
     ]
    },
    {
     "name": "stdout",
     "output_type": "stream",
     "text": [
      "\r- Download progress: 91.2%"
     ]
    },
    {
     "name": "stdout",
     "output_type": "stream",
     "text": [
      "\r- Download progress: 91.2%"
     ]
    },
    {
     "name": "stdout",
     "output_type": "stream",
     "text": [
      "\r- Download progress: 91.3%"
     ]
    },
    {
     "name": "stdout",
     "output_type": "stream",
     "text": [
      "\r- Download progress: 91.3%"
     ]
    },
    {
     "name": "stdout",
     "output_type": "stream",
     "text": [
      "\r- Download progress: 91.4%"
     ]
    },
    {
     "name": "stdout",
     "output_type": "stream",
     "text": [
      "\r- Download progress: 91.4%"
     ]
    },
    {
     "name": "stdout",
     "output_type": "stream",
     "text": [
      "\r- Download progress: 91.4%"
     ]
    },
    {
     "name": "stdout",
     "output_type": "stream",
     "text": [
      "\r- Download progress: 91.5%"
     ]
    },
    {
     "name": "stdout",
     "output_type": "stream",
     "text": [
      "\r- Download progress: 91.5%"
     ]
    },
    {
     "name": "stdout",
     "output_type": "stream",
     "text": [
      "\r- Download progress: 91.5%"
     ]
    },
    {
     "name": "stdout",
     "output_type": "stream",
     "text": [
      "\r- Download progress: 91.6%"
     ]
    },
    {
     "name": "stdout",
     "output_type": "stream",
     "text": [
      "\r- Download progress: 91.6%"
     ]
    },
    {
     "name": "stdout",
     "output_type": "stream",
     "text": [
      "\r- Download progress: 91.6%"
     ]
    },
    {
     "name": "stdout",
     "output_type": "stream",
     "text": [
      "\r- Download progress: 91.7%"
     ]
    },
    {
     "name": "stdout",
     "output_type": "stream",
     "text": [
      "\r- Download progress: 91.7%"
     ]
    },
    {
     "name": "stdout",
     "output_type": "stream",
     "text": [
      "\r- Download progress: 91.8%"
     ]
    },
    {
     "name": "stdout",
     "output_type": "stream",
     "text": [
      "\r- Download progress: 91.8%"
     ]
    },
    {
     "name": "stdout",
     "output_type": "stream",
     "text": [
      "\r- Download progress: 91.8%"
     ]
    },
    {
     "name": "stdout",
     "output_type": "stream",
     "text": [
      "\r- Download progress: 91.9%"
     ]
    },
    {
     "name": "stdout",
     "output_type": "stream",
     "text": [
      "\r- Download progress: 91.9%"
     ]
    },
    {
     "name": "stdout",
     "output_type": "stream",
     "text": [
      "\r- Download progress: 91.9%"
     ]
    },
    {
     "name": "stdout",
     "output_type": "stream",
     "text": [
      "\r- Download progress: 92.0%"
     ]
    },
    {
     "name": "stdout",
     "output_type": "stream",
     "text": [
      "\r- Download progress: 92.0%"
     ]
    },
    {
     "name": "stdout",
     "output_type": "stream",
     "text": [
      "\r- Download progress: 92.0%"
     ]
    },
    {
     "name": "stdout",
     "output_type": "stream",
     "text": [
      "\r- Download progress: 92.1%"
     ]
    },
    {
     "name": "stdout",
     "output_type": "stream",
     "text": [
      "\r- Download progress: 92.1%"
     ]
    },
    {
     "name": "stdout",
     "output_type": "stream",
     "text": [
      "\r- Download progress: 92.2%"
     ]
    },
    {
     "name": "stdout",
     "output_type": "stream",
     "text": [
      "\r- Download progress: 92.2%"
     ]
    },
    {
     "name": "stdout",
     "output_type": "stream",
     "text": [
      "\r- Download progress: 92.2%"
     ]
    },
    {
     "name": "stdout",
     "output_type": "stream",
     "text": [
      "\r- Download progress: 92.3%"
     ]
    },
    {
     "name": "stdout",
     "output_type": "stream",
     "text": [
      "\r- Download progress: 92.3%"
     ]
    },
    {
     "name": "stdout",
     "output_type": "stream",
     "text": [
      "\r- Download progress: 92.3%"
     ]
    },
    {
     "name": "stdout",
     "output_type": "stream",
     "text": [
      "\r- Download progress: 92.4%"
     ]
    },
    {
     "name": "stdout",
     "output_type": "stream",
     "text": [
      "\r- Download progress: 92.4%"
     ]
    },
    {
     "name": "stdout",
     "output_type": "stream",
     "text": [
      "\r- Download progress: 92.4%"
     ]
    },
    {
     "name": "stdout",
     "output_type": "stream",
     "text": [
      "\r- Download progress: 92.5%"
     ]
    },
    {
     "name": "stdout",
     "output_type": "stream",
     "text": [
      "\r- Download progress: 92.5%"
     ]
    },
    {
     "name": "stdout",
     "output_type": "stream",
     "text": [
      "\r- Download progress: 92.6%"
     ]
    },
    {
     "name": "stdout",
     "output_type": "stream",
     "text": [
      "\r- Download progress: 92.6%"
     ]
    },
    {
     "name": "stdout",
     "output_type": "stream",
     "text": [
      "\r- Download progress: 92.6%"
     ]
    },
    {
     "name": "stdout",
     "output_type": "stream",
     "text": [
      "\r- Download progress: 92.7%"
     ]
    },
    {
     "name": "stdout",
     "output_type": "stream",
     "text": [
      "\r- Download progress: 92.7%"
     ]
    },
    {
     "name": "stdout",
     "output_type": "stream",
     "text": [
      "\r- Download progress: 92.7%"
     ]
    },
    {
     "name": "stdout",
     "output_type": "stream",
     "text": [
      "\r- Download progress: 92.8%"
     ]
    },
    {
     "name": "stdout",
     "output_type": "stream",
     "text": [
      "\r- Download progress: 92.8%"
     ]
    },
    {
     "name": "stdout",
     "output_type": "stream",
     "text": [
      "\r- Download progress: 92.8%"
     ]
    },
    {
     "name": "stdout",
     "output_type": "stream",
     "text": [
      "\r- Download progress: 92.9%"
     ]
    },
    {
     "name": "stdout",
     "output_type": "stream",
     "text": [
      "\r- Download progress: 92.9%"
     ]
    },
    {
     "name": "stdout",
     "output_type": "stream",
     "text": [
      "\r- Download progress: 93.0%"
     ]
    },
    {
     "name": "stdout",
     "output_type": "stream",
     "text": [
      "\r- Download progress: 93.0%"
     ]
    },
    {
     "name": "stdout",
     "output_type": "stream",
     "text": [
      "\r- Download progress: 93.0%"
     ]
    },
    {
     "name": "stdout",
     "output_type": "stream",
     "text": [
      "\r- Download progress: 93.1%"
     ]
    },
    {
     "name": "stdout",
     "output_type": "stream",
     "text": [
      "\r- Download progress: 93.1%"
     ]
    },
    {
     "name": "stdout",
     "output_type": "stream",
     "text": [
      "\r- Download progress: 93.1%"
     ]
    },
    {
     "name": "stdout",
     "output_type": "stream",
     "text": [
      "\r- Download progress: 93.2%"
     ]
    },
    {
     "name": "stdout",
     "output_type": "stream",
     "text": [
      "\r- Download progress: 93.2%"
     ]
    },
    {
     "name": "stdout",
     "output_type": "stream",
     "text": [
      "\r- Download progress: 93.2%"
     ]
    },
    {
     "name": "stdout",
     "output_type": "stream",
     "text": [
      "\r- Download progress: 93.3%"
     ]
    },
    {
     "name": "stdout",
     "output_type": "stream",
     "text": [
      "\r- Download progress: 93.3%"
     ]
    },
    {
     "name": "stdout",
     "output_type": "stream",
     "text": [
      "\r- Download progress: 93.4%"
     ]
    },
    {
     "name": "stdout",
     "output_type": "stream",
     "text": [
      "\r- Download progress: 93.4%"
     ]
    },
    {
     "name": "stdout",
     "output_type": "stream",
     "text": [
      "\r- Download progress: 93.4%"
     ]
    },
    {
     "name": "stdout",
     "output_type": "stream",
     "text": [
      "\r- Download progress: 93.5%"
     ]
    },
    {
     "name": "stdout",
     "output_type": "stream",
     "text": [
      "\r- Download progress: 93.5%"
     ]
    },
    {
     "name": "stdout",
     "output_type": "stream",
     "text": [
      "\r- Download progress: 93.5%"
     ]
    },
    {
     "name": "stdout",
     "output_type": "stream",
     "text": [
      "\r- Download progress: 93.6%"
     ]
    },
    {
     "name": "stdout",
     "output_type": "stream",
     "text": [
      "\r- Download progress: 93.6%"
     ]
    },
    {
     "name": "stdout",
     "output_type": "stream",
     "text": [
      "\r- Download progress: 93.6%"
     ]
    },
    {
     "name": "stdout",
     "output_type": "stream",
     "text": [
      "\r- Download progress: 93.7%"
     ]
    },
    {
     "name": "stdout",
     "output_type": "stream",
     "text": [
      "\r- Download progress: 93.7%"
     ]
    },
    {
     "name": "stdout",
     "output_type": "stream",
     "text": [
      "\r- Download progress: 93.8%"
     ]
    },
    {
     "name": "stdout",
     "output_type": "stream",
     "text": [
      "\r- Download progress: 93.8%"
     ]
    },
    {
     "name": "stdout",
     "output_type": "stream",
     "text": [
      "\r- Download progress: 93.8%"
     ]
    },
    {
     "name": "stdout",
     "output_type": "stream",
     "text": [
      "\r- Download progress: 93.9%"
     ]
    },
    {
     "name": "stdout",
     "output_type": "stream",
     "text": [
      "\r- Download progress: 93.9%"
     ]
    },
    {
     "name": "stdout",
     "output_type": "stream",
     "text": [
      "\r- Download progress: 93.9%"
     ]
    },
    {
     "name": "stdout",
     "output_type": "stream",
     "text": [
      "\r- Download progress: 94.0%"
     ]
    },
    {
     "name": "stdout",
     "output_type": "stream",
     "text": [
      "\r- Download progress: 94.0%"
     ]
    },
    {
     "name": "stdout",
     "output_type": "stream",
     "text": [
      "\r- Download progress: 94.0%"
     ]
    },
    {
     "name": "stdout",
     "output_type": "stream",
     "text": [
      "\r- Download progress: 94.1%"
     ]
    },
    {
     "name": "stdout",
     "output_type": "stream",
     "text": [
      "\r- Download progress: 94.1%"
     ]
    },
    {
     "name": "stdout",
     "output_type": "stream",
     "text": [
      "\r- Download progress: 94.2%"
     ]
    },
    {
     "name": "stdout",
     "output_type": "stream",
     "text": [
      "\r- Download progress: 94.2%"
     ]
    },
    {
     "name": "stdout",
     "output_type": "stream",
     "text": [
      "\r- Download progress: 94.2%"
     ]
    },
    {
     "name": "stdout",
     "output_type": "stream",
     "text": [
      "\r- Download progress: 94.3%"
     ]
    },
    {
     "name": "stdout",
     "output_type": "stream",
     "text": [
      "\r- Download progress: 94.3%"
     ]
    },
    {
     "name": "stdout",
     "output_type": "stream",
     "text": [
      "\r- Download progress: 94.3%"
     ]
    },
    {
     "name": "stdout",
     "output_type": "stream",
     "text": [
      "\r- Download progress: 94.4%"
     ]
    },
    {
     "name": "stdout",
     "output_type": "stream",
     "text": [
      "\r- Download progress: 94.4%"
     ]
    },
    {
     "name": "stdout",
     "output_type": "stream",
     "text": [
      "\r- Download progress: 94.4%"
     ]
    },
    {
     "name": "stdout",
     "output_type": "stream",
     "text": [
      "\r- Download progress: 94.5%"
     ]
    },
    {
     "name": "stdout",
     "output_type": "stream",
     "text": [
      "\r- Download progress: 94.5%"
     ]
    },
    {
     "name": "stdout",
     "output_type": "stream",
     "text": [
      "\r- Download progress: 94.6%"
     ]
    },
    {
     "name": "stdout",
     "output_type": "stream",
     "text": [
      "\r- Download progress: 94.6%"
     ]
    },
    {
     "name": "stdout",
     "output_type": "stream",
     "text": [
      "\r- Download progress: 94.6%"
     ]
    },
    {
     "name": "stdout",
     "output_type": "stream",
     "text": [
      "\r- Download progress: 94.7%"
     ]
    },
    {
     "name": "stdout",
     "output_type": "stream",
     "text": [
      "\r- Download progress: 94.7%"
     ]
    },
    {
     "name": "stdout",
     "output_type": "stream",
     "text": [
      "\r- Download progress: 94.7%"
     ]
    },
    {
     "name": "stdout",
     "output_type": "stream",
     "text": [
      "\r- Download progress: 94.8%"
     ]
    },
    {
     "name": "stdout",
     "output_type": "stream",
     "text": [
      "\r- Download progress: 94.8%"
     ]
    },
    {
     "name": "stdout",
     "output_type": "stream",
     "text": [
      "\r- Download progress: 94.8%"
     ]
    },
    {
     "name": "stdout",
     "output_type": "stream",
     "text": [
      "\r- Download progress: 94.9%"
     ]
    },
    {
     "name": "stdout",
     "output_type": "stream",
     "text": [
      "\r- Download progress: 94.9%"
     ]
    },
    {
     "name": "stdout",
     "output_type": "stream",
     "text": [
      "\r- Download progress: 95.0%"
     ]
    },
    {
     "name": "stdout",
     "output_type": "stream",
     "text": [
      "\r- Download progress: 95.0%"
     ]
    },
    {
     "name": "stdout",
     "output_type": "stream",
     "text": [
      "\r- Download progress: 95.0%"
     ]
    },
    {
     "name": "stdout",
     "output_type": "stream",
     "text": [
      "\r- Download progress: 95.1%"
     ]
    },
    {
     "name": "stdout",
     "output_type": "stream",
     "text": [
      "\r- Download progress: 95.1%"
     ]
    },
    {
     "name": "stdout",
     "output_type": "stream",
     "text": [
      "\r- Download progress: 95.1%"
     ]
    },
    {
     "name": "stdout",
     "output_type": "stream",
     "text": [
      "\r- Download progress: 95.2%"
     ]
    },
    {
     "name": "stdout",
     "output_type": "stream",
     "text": [
      "\r- Download progress: 95.2%"
     ]
    },
    {
     "name": "stdout",
     "output_type": "stream",
     "text": [
      "\r- Download progress: 95.2%"
     ]
    },
    {
     "name": "stdout",
     "output_type": "stream",
     "text": [
      "\r- Download progress: 95.3%"
     ]
    },
    {
     "name": "stdout",
     "output_type": "stream",
     "text": [
      "\r- Download progress: 95.3%"
     ]
    },
    {
     "name": "stdout",
     "output_type": "stream",
     "text": [
      "\r- Download progress: 95.4%"
     ]
    },
    {
     "name": "stdout",
     "output_type": "stream",
     "text": [
      "\r- Download progress: 95.4%"
     ]
    },
    {
     "name": "stdout",
     "output_type": "stream",
     "text": [
      "\r- Download progress: 95.4%"
     ]
    },
    {
     "name": "stdout",
     "output_type": "stream",
     "text": [
      "\r- Download progress: 95.5%"
     ]
    },
    {
     "name": "stdout",
     "output_type": "stream",
     "text": [
      "\r- Download progress: 95.5%"
     ]
    },
    {
     "name": "stdout",
     "output_type": "stream",
     "text": [
      "\r- Download progress: 95.5%"
     ]
    },
    {
     "name": "stdout",
     "output_type": "stream",
     "text": [
      "\r- Download progress: 95.6%"
     ]
    },
    {
     "name": "stdout",
     "output_type": "stream",
     "text": [
      "\r- Download progress: 95.6%"
     ]
    },
    {
     "name": "stdout",
     "output_type": "stream",
     "text": [
      "\r- Download progress: 95.6%"
     ]
    },
    {
     "name": "stdout",
     "output_type": "stream",
     "text": [
      "\r- Download progress: 95.7%"
     ]
    },
    {
     "name": "stdout",
     "output_type": "stream",
     "text": [
      "\r- Download progress: 95.7%"
     ]
    },
    {
     "name": "stdout",
     "output_type": "stream",
     "text": [
      "\r- Download progress: 95.8%"
     ]
    },
    {
     "name": "stdout",
     "output_type": "stream",
     "text": [
      "\r- Download progress: 95.8%"
     ]
    },
    {
     "name": "stdout",
     "output_type": "stream",
     "text": [
      "\r- Download progress: 95.8%"
     ]
    },
    {
     "name": "stdout",
     "output_type": "stream",
     "text": [
      "\r- Download progress: 95.9%"
     ]
    },
    {
     "name": "stdout",
     "output_type": "stream",
     "text": [
      "\r- Download progress: 95.9%"
     ]
    },
    {
     "name": "stdout",
     "output_type": "stream",
     "text": [
      "\r- Download progress: 95.9%"
     ]
    },
    {
     "name": "stdout",
     "output_type": "stream",
     "text": [
      "\r- Download progress: 96.0%"
     ]
    },
    {
     "name": "stdout",
     "output_type": "stream",
     "text": [
      "\r- Download progress: 96.0%"
     ]
    },
    {
     "name": "stdout",
     "output_type": "stream",
     "text": [
      "\r- Download progress: 96.0%"
     ]
    },
    {
     "name": "stdout",
     "output_type": "stream",
     "text": [
      "\r- Download progress: 96.1%"
     ]
    },
    {
     "name": "stdout",
     "output_type": "stream",
     "text": [
      "\r- Download progress: 96.1%"
     ]
    },
    {
     "name": "stdout",
     "output_type": "stream",
     "text": [
      "\r- Download progress: 96.2%"
     ]
    },
    {
     "name": "stdout",
     "output_type": "stream",
     "text": [
      "\r- Download progress: 96.2%"
     ]
    },
    {
     "name": "stdout",
     "output_type": "stream",
     "text": [
      "\r- Download progress: 96.2%"
     ]
    },
    {
     "name": "stdout",
     "output_type": "stream",
     "text": [
      "\r- Download progress: 96.3%"
     ]
    },
    {
     "name": "stdout",
     "output_type": "stream",
     "text": [
      "\r- Download progress: 96.3%"
     ]
    },
    {
     "name": "stdout",
     "output_type": "stream",
     "text": [
      "\r- Download progress: 96.3%"
     ]
    },
    {
     "name": "stdout",
     "output_type": "stream",
     "text": [
      "\r- Download progress: 96.4%"
     ]
    },
    {
     "name": "stdout",
     "output_type": "stream",
     "text": [
      "\r- Download progress: 96.4%"
     ]
    },
    {
     "name": "stdout",
     "output_type": "stream",
     "text": [
      "\r- Download progress: 96.4%"
     ]
    },
    {
     "name": "stdout",
     "output_type": "stream",
     "text": [
      "\r- Download progress: 96.5%"
     ]
    },
    {
     "name": "stdout",
     "output_type": "stream",
     "text": [
      "\r- Download progress: 96.5%"
     ]
    },
    {
     "name": "stdout",
     "output_type": "stream",
     "text": [
      "\r- Download progress: 96.6%"
     ]
    },
    {
     "name": "stdout",
     "output_type": "stream",
     "text": [
      "\r- Download progress: 96.6%"
     ]
    },
    {
     "name": "stdout",
     "output_type": "stream",
     "text": [
      "\r- Download progress: 96.6%"
     ]
    },
    {
     "name": "stdout",
     "output_type": "stream",
     "text": [
      "\r- Download progress: 96.7%"
     ]
    },
    {
     "name": "stdout",
     "output_type": "stream",
     "text": [
      "\r- Download progress: 96.7%"
     ]
    },
    {
     "name": "stdout",
     "output_type": "stream",
     "text": [
      "\r- Download progress: 96.7%"
     ]
    },
    {
     "name": "stdout",
     "output_type": "stream",
     "text": [
      "\r- Download progress: 96.8%"
     ]
    },
    {
     "name": "stdout",
     "output_type": "stream",
     "text": [
      "\r- Download progress: 96.8%"
     ]
    },
    {
     "name": "stdout",
     "output_type": "stream",
     "text": [
      "\r- Download progress: 96.8%"
     ]
    },
    {
     "name": "stdout",
     "output_type": "stream",
     "text": [
      "\r- Download progress: 96.9%"
     ]
    },
    {
     "name": "stdout",
     "output_type": "stream",
     "text": [
      "\r- Download progress: 96.9%"
     ]
    },
    {
     "name": "stdout",
     "output_type": "stream",
     "text": [
      "\r- Download progress: 97.0%"
     ]
    },
    {
     "name": "stdout",
     "output_type": "stream",
     "text": [
      "\r- Download progress: 97.0%"
     ]
    },
    {
     "name": "stdout",
     "output_type": "stream",
     "text": [
      "\r- Download progress: 97.0%"
     ]
    },
    {
     "name": "stdout",
     "output_type": "stream",
     "text": [
      "\r- Download progress: 97.1%"
     ]
    },
    {
     "name": "stdout",
     "output_type": "stream",
     "text": [
      "\r- Download progress: 97.1%"
     ]
    },
    {
     "name": "stdout",
     "output_type": "stream",
     "text": [
      "\r- Download progress: 97.1%"
     ]
    },
    {
     "name": "stdout",
     "output_type": "stream",
     "text": [
      "\r- Download progress: 97.2%"
     ]
    },
    {
     "name": "stdout",
     "output_type": "stream",
     "text": [
      "\r- Download progress: 97.2%"
     ]
    },
    {
     "name": "stdout",
     "output_type": "stream",
     "text": [
      "\r- Download progress: 97.3%"
     ]
    },
    {
     "name": "stdout",
     "output_type": "stream",
     "text": [
      "\r- Download progress: 97.3%"
     ]
    },
    {
     "name": "stdout",
     "output_type": "stream",
     "text": [
      "\r- Download progress: 97.3%"
     ]
    },
    {
     "name": "stdout",
     "output_type": "stream",
     "text": [
      "\r- Download progress: 97.4%"
     ]
    },
    {
     "name": "stdout",
     "output_type": "stream",
     "text": [
      "\r- Download progress: 97.4%"
     ]
    },
    {
     "name": "stdout",
     "output_type": "stream",
     "text": [
      "\r- Download progress: 97.4%"
     ]
    },
    {
     "name": "stdout",
     "output_type": "stream",
     "text": [
      "\r- Download progress: 97.5%"
     ]
    },
    {
     "name": "stdout",
     "output_type": "stream",
     "text": [
      "\r- Download progress: 97.5%"
     ]
    },
    {
     "name": "stdout",
     "output_type": "stream",
     "text": [
      "\r- Download progress: 97.5%"
     ]
    },
    {
     "name": "stdout",
     "output_type": "stream",
     "text": [
      "\r- Download progress: 97.6%"
     ]
    },
    {
     "name": "stdout",
     "output_type": "stream",
     "text": [
      "\r- Download progress: 97.6%"
     ]
    },
    {
     "name": "stdout",
     "output_type": "stream",
     "text": [
      "\r- Download progress: 97.7%"
     ]
    },
    {
     "name": "stdout",
     "output_type": "stream",
     "text": [
      "\r- Download progress: 97.7%"
     ]
    },
    {
     "name": "stdout",
     "output_type": "stream",
     "text": [
      "\r- Download progress: 97.7%"
     ]
    },
    {
     "name": "stdout",
     "output_type": "stream",
     "text": [
      "\r- Download progress: 97.8%"
     ]
    },
    {
     "name": "stdout",
     "output_type": "stream",
     "text": [
      "\r- Download progress: 97.8%"
     ]
    },
    {
     "name": "stdout",
     "output_type": "stream",
     "text": [
      "\r- Download progress: 97.8%"
     ]
    },
    {
     "name": "stdout",
     "output_type": "stream",
     "text": [
      "\r- Download progress: 97.9%"
     ]
    },
    {
     "name": "stdout",
     "output_type": "stream",
     "text": [
      "\r- Download progress: 97.9%"
     ]
    },
    {
     "name": "stdout",
     "output_type": "stream",
     "text": [
      "\r- Download progress: 97.9%"
     ]
    },
    {
     "name": "stdout",
     "output_type": "stream",
     "text": [
      "\r- Download progress: 98.0%"
     ]
    },
    {
     "name": "stdout",
     "output_type": "stream",
     "text": [
      "\r- Download progress: 98.0%"
     ]
    },
    {
     "name": "stdout",
     "output_type": "stream",
     "text": [
      "\r- Download progress: 98.1%"
     ]
    },
    {
     "name": "stdout",
     "output_type": "stream",
     "text": [
      "\r- Download progress: 98.1%"
     ]
    },
    {
     "name": "stdout",
     "output_type": "stream",
     "text": [
      "\r- Download progress: 98.1%"
     ]
    },
    {
     "name": "stdout",
     "output_type": "stream",
     "text": [
      "\r- Download progress: 98.2%"
     ]
    },
    {
     "name": "stdout",
     "output_type": "stream",
     "text": [
      "\r- Download progress: 98.2%"
     ]
    },
    {
     "name": "stdout",
     "output_type": "stream",
     "text": [
      "\r- Download progress: 98.2%"
     ]
    },
    {
     "name": "stdout",
     "output_type": "stream",
     "text": [
      "\r- Download progress: 98.3%"
     ]
    },
    {
     "name": "stdout",
     "output_type": "stream",
     "text": [
      "\r- Download progress: 98.3%"
     ]
    },
    {
     "name": "stdout",
     "output_type": "stream",
     "text": [
      "\r- Download progress: 98.3%"
     ]
    },
    {
     "name": "stdout",
     "output_type": "stream",
     "text": [
      "\r- Download progress: 98.4%"
     ]
    },
    {
     "name": "stdout",
     "output_type": "stream",
     "text": [
      "\r- Download progress: 98.4%"
     ]
    },
    {
     "name": "stdout",
     "output_type": "stream",
     "text": [
      "\r- Download progress: 98.5%"
     ]
    },
    {
     "name": "stdout",
     "output_type": "stream",
     "text": [
      "\r- Download progress: 98.5%"
     ]
    },
    {
     "name": "stdout",
     "output_type": "stream",
     "text": [
      "\r- Download progress: 98.5%"
     ]
    },
    {
     "name": "stdout",
     "output_type": "stream",
     "text": [
      "\r- Download progress: 98.6%"
     ]
    },
    {
     "name": "stdout",
     "output_type": "stream",
     "text": [
      "\r- Download progress: 98.6%"
     ]
    },
    {
     "name": "stdout",
     "output_type": "stream",
     "text": [
      "\r- Download progress: 98.6%"
     ]
    },
    {
     "name": "stdout",
     "output_type": "stream",
     "text": [
      "\r- Download progress: 98.7%"
     ]
    },
    {
     "name": "stdout",
     "output_type": "stream",
     "text": [
      "\r- Download progress: 98.7%"
     ]
    },
    {
     "name": "stdout",
     "output_type": "stream",
     "text": [
      "\r- Download progress: 98.7%"
     ]
    },
    {
     "name": "stdout",
     "output_type": "stream",
     "text": [
      "\r- Download progress: 98.8%"
     ]
    },
    {
     "name": "stdout",
     "output_type": "stream",
     "text": [
      "\r- Download progress: 98.8%"
     ]
    },
    {
     "name": "stdout",
     "output_type": "stream",
     "text": [
      "\r- Download progress: 98.9%"
     ]
    },
    {
     "name": "stdout",
     "output_type": "stream",
     "text": [
      "\r- Download progress: 98.9%"
     ]
    },
    {
     "name": "stdout",
     "output_type": "stream",
     "text": [
      "\r- Download progress: 98.9%"
     ]
    },
    {
     "name": "stdout",
     "output_type": "stream",
     "text": [
      "\r- Download progress: 99.0%"
     ]
    },
    {
     "name": "stdout",
     "output_type": "stream",
     "text": [
      "\r- Download progress: 99.0%"
     ]
    },
    {
     "name": "stdout",
     "output_type": "stream",
     "text": [
      "\r- Download progress: 99.0%"
     ]
    },
    {
     "name": "stdout",
     "output_type": "stream",
     "text": [
      "\r- Download progress: 99.1%"
     ]
    },
    {
     "name": "stdout",
     "output_type": "stream",
     "text": [
      "\r- Download progress: 99.1%"
     ]
    },
    {
     "name": "stdout",
     "output_type": "stream",
     "text": [
      "\r- Download progress: 99.1%"
     ]
    },
    {
     "name": "stdout",
     "output_type": "stream",
     "text": [
      "\r- Download progress: 99.2%"
     ]
    },
    {
     "name": "stdout",
     "output_type": "stream",
     "text": [
      "\r- Download progress: 99.2%"
     ]
    },
    {
     "name": "stdout",
     "output_type": "stream",
     "text": [
      "\r- Download progress: 99.3%"
     ]
    },
    {
     "name": "stdout",
     "output_type": "stream",
     "text": [
      "\r- Download progress: 99.3%"
     ]
    },
    {
     "name": "stdout",
     "output_type": "stream",
     "text": [
      "\r- Download progress: 99.3%"
     ]
    },
    {
     "name": "stdout",
     "output_type": "stream",
     "text": [
      "\r- Download progress: 99.4%"
     ]
    },
    {
     "name": "stdout",
     "output_type": "stream",
     "text": [
      "\r- Download progress: 99.4%"
     ]
    },
    {
     "name": "stdout",
     "output_type": "stream",
     "text": [
      "\r- Download progress: 99.4%"
     ]
    },
    {
     "name": "stdout",
     "output_type": "stream",
     "text": [
      "\r- Download progress: 99.5%"
     ]
    },
    {
     "name": "stdout",
     "output_type": "stream",
     "text": [
      "\r- Download progress: 99.5%"
     ]
    },
    {
     "name": "stdout",
     "output_type": "stream",
     "text": [
      "\r- Download progress: 99.5%"
     ]
    },
    {
     "name": "stdout",
     "output_type": "stream",
     "text": [
      "\r- Download progress: 99.6%"
     ]
    },
    {
     "name": "stdout",
     "output_type": "stream",
     "text": [
      "\r- Download progress: 99.6%"
     ]
    },
    {
     "name": "stdout",
     "output_type": "stream",
     "text": [
      "\r- Download progress: 99.7%"
     ]
    },
    {
     "name": "stdout",
     "output_type": "stream",
     "text": [
      "\r- Download progress: 99.7%"
     ]
    },
    {
     "name": "stdout",
     "output_type": "stream",
     "text": [
      "\r- Download progress: 99.7%"
     ]
    },
    {
     "name": "stdout",
     "output_type": "stream",
     "text": [
      "\r- Download progress: 99.8%"
     ]
    },
    {
     "name": "stdout",
     "output_type": "stream",
     "text": [
      "\r- Download progress: 99.8%"
     ]
    },
    {
     "name": "stdout",
     "output_type": "stream",
     "text": [
      "\r- Download progress: 99.8%"
     ]
    },
    {
     "name": "stdout",
     "output_type": "stream",
     "text": [
      "\r- Download progress: 99.9%"
     ]
    },
    {
     "name": "stdout",
     "output_type": "stream",
     "text": [
      "\r- Download progress: 99.9%"
     ]
    },
    {
     "name": "stdout",
     "output_type": "stream",
     "text": [
      "\r- Download progress: 99.9%"
     ]
    },
    {
     "name": "stdout",
     "output_type": "stream",
     "text": [
      "\r- Download progress: 100.0%"
     ]
    },
    {
     "name": "stdout",
     "output_type": "stream",
     "text": [
      "\r- Download progress: 100.0%"
     ]
    },
    {
     "name": "stdout",
     "output_type": "stream",
     "text": [
      "\nDownload finished. Extracting files.\n"
     ]
    },
    {
     "name": "stdout",
     "output_type": "stream",
     "text": [
      "Done.\nCreating dataset from the files in: data/knifey-spoony/\n- Data saved to cache-file: data/knifey-spoony/knifey-spoony.pkl\n"
     ]
    }
   ],
   "source": [
    "import knifey\n",
    "from knifey import num_classes\n",
    "data_dir = knifey.data_dir\n",
    "knifey.maybe_download_and_extract()\n",
    "dataset = knifey.load()"
   ]
  },
  {
   "cell_type": "code",
   "execution_count": 5,
   "metadata": {},
   "outputs": [
    {
     "name": "stdout",
     "output_type": "stream",
     "text": [
      "Size of:\n- Training-set: 4170\n- Test-set: 530\n"
     ]
    }
   ],
   "source": [
    "class_names = dataset.class_names\n",
    "image_paths_train, cls_train, labels_train = dataset.get_training_set()\n",
    "image_paths_test, cls_test, labels_test = dataset.get_test_set()\n",
    "print(\"Size of:\")\n",
    "print(\"- Training-set: {}\".format(len(image_paths_train)))\n",
    "print(\"- Test-set: {}\".format(len(image_paths_test)))"
   ]
  },
  {
   "cell_type": "code",
   "execution_count": 6,
   "metadata": {},
   "outputs": [
    {
     "name": "stdout",
     "output_type": "stream",
     "text": [
      "Downloading Inception v3 Model ...\nData has apparently already been downloaded and unpacked.\n"
     ]
    },
    {
     "name": "stdout",
     "output_type": "stream",
     "text": [
      "Processing Inception transfer-values for training-images ...\n\r- Processing image:      1 / 4170"
     ]
    },
    {
     "name": "stdout",
     "output_type": "stream",
     "text": [
      "\r- Processing image:      2 / 4170"
     ]
    },
    {
     "name": "stdout",
     "output_type": "stream",
     "text": [
      "\r- Processing image:      3 / 4170"
     ]
    },
    {
     "name": "stdout",
     "output_type": "stream",
     "text": [
      "\r- Processing image:      4 / 4170"
     ]
    },
    {
     "name": "stdout",
     "output_type": "stream",
     "text": [
      "\r- Processing image:      5 / 4170"
     ]
    },
    {
     "name": "stdout",
     "output_type": "stream",
     "text": [
      "\r- Processing image:      6 / 4170"
     ]
    },
    {
     "name": "stdout",
     "output_type": "stream",
     "text": [
      "\r- Processing image:      7 / 4170"
     ]
    },
    {
     "name": "stdout",
     "output_type": "stream",
     "text": [
      "\r- Processing image:      8 / 4170"
     ]
    },
    {
     "name": "stdout",
     "output_type": "stream",
     "text": [
      "\r- Processing image:      9 / 4170"
     ]
    },
    {
     "name": "stdout",
     "output_type": "stream",
     "text": [
      "\r- Processing image:     10 / 4170"
     ]
    },
    {
     "name": "stdout",
     "output_type": "stream",
     "text": [
      "\r- Processing image:     11 / 4170"
     ]
    },
    {
     "name": "stdout",
     "output_type": "stream",
     "text": [
      "\r- Processing image:     12 / 4170"
     ]
    },
    {
     "name": "stdout",
     "output_type": "stream",
     "text": [
      "\r- Processing image:     13 / 4170"
     ]
    },
    {
     "name": "stdout",
     "output_type": "stream",
     "text": [
      "\r- Processing image:     14 / 4170"
     ]
    },
    {
     "name": "stdout",
     "output_type": "stream",
     "text": [
      "\r- Processing image:     15 / 4170"
     ]
    },
    {
     "name": "stdout",
     "output_type": "stream",
     "text": [
      "\r- Processing image:     16 / 4170"
     ]
    },
    {
     "name": "stdout",
     "output_type": "stream",
     "text": [
      "\r- Processing image:     17 / 4170"
     ]
    },
    {
     "name": "stdout",
     "output_type": "stream",
     "text": [
      "\r- Processing image:     18 / 4170"
     ]
    },
    {
     "name": "stdout",
     "output_type": "stream",
     "text": [
      "\r- Processing image:     19 / 4170"
     ]
    },
    {
     "name": "stdout",
     "output_type": "stream",
     "text": [
      "\r- Processing image:     20 / 4170"
     ]
    },
    {
     "name": "stdout",
     "output_type": "stream",
     "text": [
      "\r- Processing image:     21 / 4170"
     ]
    },
    {
     "name": "stdout",
     "output_type": "stream",
     "text": [
      "\r- Processing image:     22 / 4170"
     ]
    },
    {
     "name": "stdout",
     "output_type": "stream",
     "text": [
      "\r- Processing image:     23 / 4170"
     ]
    },
    {
     "name": "stdout",
     "output_type": "stream",
     "text": [
      "\r- Processing image:     24 / 4170"
     ]
    },
    {
     "name": "stdout",
     "output_type": "stream",
     "text": [
      "\r- Processing image:     25 / 4170"
     ]
    },
    {
     "name": "stdout",
     "output_type": "stream",
     "text": [
      "\r- Processing image:     26 / 4170"
     ]
    },
    {
     "name": "stdout",
     "output_type": "stream",
     "text": [
      "\r- Processing image:     27 / 4170"
     ]
    },
    {
     "name": "stdout",
     "output_type": "stream",
     "text": [
      "\r- Processing image:     28 / 4170"
     ]
    },
    {
     "name": "stdout",
     "output_type": "stream",
     "text": [
      "\r- Processing image:     29 / 4170"
     ]
    },
    {
     "name": "stdout",
     "output_type": "stream",
     "text": [
      "\r- Processing image:     30 / 4170"
     ]
    },
    {
     "name": "stdout",
     "output_type": "stream",
     "text": [
      "\r- Processing image:     31 / 4170"
     ]
    },
    {
     "name": "stdout",
     "output_type": "stream",
     "text": [
      "\r- Processing image:     32 / 4170"
     ]
    },
    {
     "name": "stdout",
     "output_type": "stream",
     "text": [
      "\r- Processing image:     33 / 4170"
     ]
    },
    {
     "name": "stdout",
     "output_type": "stream",
     "text": [
      "\r- Processing image:     34 / 4170"
     ]
    },
    {
     "name": "stdout",
     "output_type": "stream",
     "text": [
      "\r- Processing image:     35 / 4170"
     ]
    },
    {
     "name": "stdout",
     "output_type": "stream",
     "text": [
      "\r- Processing image:     36 / 4170"
     ]
    },
    {
     "name": "stdout",
     "output_type": "stream",
     "text": [
      "\r- Processing image:     37 / 4170"
     ]
    },
    {
     "name": "stdout",
     "output_type": "stream",
     "text": [
      "\r- Processing image:     38 / 4170"
     ]
    },
    {
     "name": "stdout",
     "output_type": "stream",
     "text": [
      "\r- Processing image:     39 / 4170"
     ]
    },
    {
     "name": "stdout",
     "output_type": "stream",
     "text": [
      "\r- Processing image:     40 / 4170"
     ]
    },
    {
     "name": "stdout",
     "output_type": "stream",
     "text": [
      "\r- Processing image:     41 / 4170"
     ]
    },
    {
     "name": "stdout",
     "output_type": "stream",
     "text": [
      "\r- Processing image:     42 / 4170"
     ]
    },
    {
     "name": "stdout",
     "output_type": "stream",
     "text": [
      "\r- Processing image:     43 / 4170"
     ]
    },
    {
     "name": "stdout",
     "output_type": "stream",
     "text": [
      "\r- Processing image:     44 / 4170"
     ]
    },
    {
     "name": "stdout",
     "output_type": "stream",
     "text": [
      "\r- Processing image:     45 / 4170"
     ]
    },
    {
     "name": "stdout",
     "output_type": "stream",
     "text": [
      "\r- Processing image:     46 / 4170"
     ]
    },
    {
     "name": "stdout",
     "output_type": "stream",
     "text": [
      "\r- Processing image:     47 / 4170"
     ]
    },
    {
     "name": "stdout",
     "output_type": "stream",
     "text": [
      "\r- Processing image:     48 / 4170"
     ]
    },
    {
     "name": "stdout",
     "output_type": "stream",
     "text": [
      "\r- Processing image:     49 / 4170"
     ]
    },
    {
     "name": "stdout",
     "output_type": "stream",
     "text": [
      "\r- Processing image:     50 / 4170"
     ]
    },
    {
     "name": "stdout",
     "output_type": "stream",
     "text": [
      "\r- Processing image:     51 / 4170"
     ]
    },
    {
     "name": "stdout",
     "output_type": "stream",
     "text": [
      "\r- Processing image:     52 / 4170"
     ]
    },
    {
     "name": "stdout",
     "output_type": "stream",
     "text": [
      "\r- Processing image:     53 / 4170"
     ]
    },
    {
     "name": "stdout",
     "output_type": "stream",
     "text": [
      "\r- Processing image:     54 / 4170"
     ]
    },
    {
     "name": "stdout",
     "output_type": "stream",
     "text": [
      "\r- Processing image:     55 / 4170"
     ]
    },
    {
     "name": "stdout",
     "output_type": "stream",
     "text": [
      "\r- Processing image:     56 / 4170"
     ]
    },
    {
     "name": "stdout",
     "output_type": "stream",
     "text": [
      "\r- Processing image:     57 / 4170"
     ]
    },
    {
     "name": "stdout",
     "output_type": "stream",
     "text": [
      "\r- Processing image:     58 / 4170"
     ]
    },
    {
     "name": "stdout",
     "output_type": "stream",
     "text": [
      "\r- Processing image:     59 / 4170"
     ]
    },
    {
     "name": "stdout",
     "output_type": "stream",
     "text": [
      "\r- Processing image:     60 / 4170"
     ]
    },
    {
     "name": "stdout",
     "output_type": "stream",
     "text": [
      "\r- Processing image:     61 / 4170"
     ]
    },
    {
     "name": "stdout",
     "output_type": "stream",
     "text": [
      "\r- Processing image:     62 / 4170"
     ]
    },
    {
     "name": "stdout",
     "output_type": "stream",
     "text": [
      "\r- Processing image:     63 / 4170"
     ]
    },
    {
     "name": "stdout",
     "output_type": "stream",
     "text": [
      "\r- Processing image:     64 / 4170"
     ]
    },
    {
     "name": "stdout",
     "output_type": "stream",
     "text": [
      "\r- Processing image:     65 / 4170"
     ]
    },
    {
     "name": "stdout",
     "output_type": "stream",
     "text": [
      "\r- Processing image:     66 / 4170"
     ]
    },
    {
     "name": "stdout",
     "output_type": "stream",
     "text": [
      "\r- Processing image:     67 / 4170"
     ]
    },
    {
     "name": "stdout",
     "output_type": "stream",
     "text": [
      "\r- Processing image:     68 / 4170"
     ]
    },
    {
     "name": "stdout",
     "output_type": "stream",
     "text": [
      "\r- Processing image:     69 / 4170"
     ]
    },
    {
     "name": "stdout",
     "output_type": "stream",
     "text": [
      "\r- Processing image:     70 / 4170"
     ]
    },
    {
     "name": "stdout",
     "output_type": "stream",
     "text": [
      "\r- Processing image:     71 / 4170"
     ]
    },
    {
     "name": "stdout",
     "output_type": "stream",
     "text": [
      "\r- Processing image:     72 / 4170"
     ]
    },
    {
     "name": "stdout",
     "output_type": "stream",
     "text": [
      "\r- Processing image:     73 / 4170"
     ]
    },
    {
     "name": "stdout",
     "output_type": "stream",
     "text": [
      "\r- Processing image:     74 / 4170"
     ]
    },
    {
     "name": "stdout",
     "output_type": "stream",
     "text": [
      "\r- Processing image:     75 / 4170"
     ]
    },
    {
     "name": "stdout",
     "output_type": "stream",
     "text": [
      "\r- Processing image:     76 / 4170"
     ]
    },
    {
     "name": "stdout",
     "output_type": "stream",
     "text": [
      "\r- Processing image:     77 / 4170"
     ]
    },
    {
     "name": "stdout",
     "output_type": "stream",
     "text": [
      "\r- Processing image:     78 / 4170"
     ]
    },
    {
     "name": "stdout",
     "output_type": "stream",
     "text": [
      "\r- Processing image:     79 / 4170"
     ]
    },
    {
     "name": "stdout",
     "output_type": "stream",
     "text": [
      "\r- Processing image:     80 / 4170"
     ]
    },
    {
     "name": "stdout",
     "output_type": "stream",
     "text": [
      "\r- Processing image:     81 / 4170"
     ]
    },
    {
     "name": "stdout",
     "output_type": "stream",
     "text": [
      "\r- Processing image:     82 / 4170"
     ]
    },
    {
     "name": "stdout",
     "output_type": "stream",
     "text": [
      "\r- Processing image:     83 / 4170"
     ]
    },
    {
     "name": "stdout",
     "output_type": "stream",
     "text": [
      "\r- Processing image:     84 / 4170"
     ]
    },
    {
     "name": "stdout",
     "output_type": "stream",
     "text": [
      "\r- Processing image:     85 / 4170"
     ]
    },
    {
     "name": "stdout",
     "output_type": "stream",
     "text": [
      "\r- Processing image:     86 / 4170"
     ]
    },
    {
     "name": "stdout",
     "output_type": "stream",
     "text": [
      "\r- Processing image:     87 / 4170"
     ]
    },
    {
     "name": "stdout",
     "output_type": "stream",
     "text": [
      "\r- Processing image:     88 / 4170"
     ]
    },
    {
     "name": "stdout",
     "output_type": "stream",
     "text": [
      "\r- Processing image:     89 / 4170"
     ]
    },
    {
     "name": "stdout",
     "output_type": "stream",
     "text": [
      "\r- Processing image:     90 / 4170"
     ]
    },
    {
     "name": "stdout",
     "output_type": "stream",
     "text": [
      "\r- Processing image:     91 / 4170"
     ]
    },
    {
     "name": "stdout",
     "output_type": "stream",
     "text": [
      "\r- Processing image:     92 / 4170"
     ]
    },
    {
     "name": "stdout",
     "output_type": "stream",
     "text": [
      "\r- Processing image:     93 / 4170"
     ]
    },
    {
     "name": "stdout",
     "output_type": "stream",
     "text": [
      "\r- Processing image:     94 / 4170"
     ]
    },
    {
     "name": "stdout",
     "output_type": "stream",
     "text": [
      "\r- Processing image:     95 / 4170"
     ]
    },
    {
     "name": "stdout",
     "output_type": "stream",
     "text": [
      "\r- Processing image:     96 / 4170"
     ]
    },
    {
     "name": "stdout",
     "output_type": "stream",
     "text": [
      "\r- Processing image:     97 / 4170"
     ]
    },
    {
     "name": "stdout",
     "output_type": "stream",
     "text": [
      "\r- Processing image:     98 / 4170"
     ]
    },
    {
     "name": "stdout",
     "output_type": "stream",
     "text": [
      "\r- Processing image:     99 / 4170"
     ]
    },
    {
     "name": "stdout",
     "output_type": "stream",
     "text": [
      "\r- Processing image:    100 / 4170"
     ]
    },
    {
     "name": "stdout",
     "output_type": "stream",
     "text": [
      "\r- Processing image:    101 / 4170"
     ]
    },
    {
     "name": "stdout",
     "output_type": "stream",
     "text": [
      "\r- Processing image:    102 / 4170"
     ]
    },
    {
     "name": "stdout",
     "output_type": "stream",
     "text": [
      "\r- Processing image:    103 / 4170"
     ]
    },
    {
     "name": "stdout",
     "output_type": "stream",
     "text": [
      "\r- Processing image:    104 / 4170"
     ]
    },
    {
     "name": "stdout",
     "output_type": "stream",
     "text": [
      "\r- Processing image:    105 / 4170"
     ]
    },
    {
     "name": "stdout",
     "output_type": "stream",
     "text": [
      "\r- Processing image:    106 / 4170"
     ]
    },
    {
     "name": "stdout",
     "output_type": "stream",
     "text": [
      "\r- Processing image:    107 / 4170"
     ]
    },
    {
     "name": "stdout",
     "output_type": "stream",
     "text": [
      "\r- Processing image:    108 / 4170"
     ]
    },
    {
     "name": "stdout",
     "output_type": "stream",
     "text": [
      "\r- Processing image:    109 / 4170"
     ]
    },
    {
     "name": "stdout",
     "output_type": "stream",
     "text": [
      "\r- Processing image:    110 / 4170"
     ]
    },
    {
     "name": "stdout",
     "output_type": "stream",
     "text": [
      "\r- Processing image:    111 / 4170"
     ]
    },
    {
     "name": "stdout",
     "output_type": "stream",
     "text": [
      "\r- Processing image:    112 / 4170"
     ]
    },
    {
     "name": "stdout",
     "output_type": "stream",
     "text": [
      "\r- Processing image:    113 / 4170"
     ]
    },
    {
     "name": "stdout",
     "output_type": "stream",
     "text": [
      "\r- Processing image:    114 / 4170"
     ]
    },
    {
     "name": "stdout",
     "output_type": "stream",
     "text": [
      "\r- Processing image:    115 / 4170"
     ]
    },
    {
     "name": "stdout",
     "output_type": "stream",
     "text": [
      "\r- Processing image:    116 / 4170"
     ]
    },
    {
     "name": "stdout",
     "output_type": "stream",
     "text": [
      "\r- Processing image:    117 / 4170"
     ]
    },
    {
     "name": "stdout",
     "output_type": "stream",
     "text": [
      "\r- Processing image:    118 / 4170"
     ]
    },
    {
     "name": "stdout",
     "output_type": "stream",
     "text": [
      "\r- Processing image:    119 / 4170"
     ]
    },
    {
     "name": "stdout",
     "output_type": "stream",
     "text": [
      "\r- Processing image:    120 / 4170"
     ]
    },
    {
     "name": "stdout",
     "output_type": "stream",
     "text": [
      "\r- Processing image:    121 / 4170"
     ]
    },
    {
     "name": "stdout",
     "output_type": "stream",
     "text": [
      "\r- Processing image:    122 / 4170"
     ]
    },
    {
     "name": "stdout",
     "output_type": "stream",
     "text": [
      "\r- Processing image:    123 / 4170"
     ]
    },
    {
     "name": "stdout",
     "output_type": "stream",
     "text": [
      "\r- Processing image:    124 / 4170"
     ]
    },
    {
     "name": "stdout",
     "output_type": "stream",
     "text": [
      "\r- Processing image:    125 / 4170"
     ]
    },
    {
     "name": "stdout",
     "output_type": "stream",
     "text": [
      "\r- Processing image:    126 / 4170"
     ]
    },
    {
     "name": "stdout",
     "output_type": "stream",
     "text": [
      "\r- Processing image:    127 / 4170"
     ]
    },
    {
     "name": "stdout",
     "output_type": "stream",
     "text": [
      "\r- Processing image:    128 / 4170"
     ]
    },
    {
     "name": "stdout",
     "output_type": "stream",
     "text": [
      "\r- Processing image:    129 / 4170"
     ]
    },
    {
     "name": "stdout",
     "output_type": "stream",
     "text": [
      "\r- Processing image:    130 / 4170"
     ]
    },
    {
     "name": "stdout",
     "output_type": "stream",
     "text": [
      "\r- Processing image:    131 / 4170"
     ]
    },
    {
     "name": "stdout",
     "output_type": "stream",
     "text": [
      "\r- Processing image:    132 / 4170"
     ]
    },
    {
     "name": "stdout",
     "output_type": "stream",
     "text": [
      "\r- Processing image:    133 / 4170"
     ]
    },
    {
     "name": "stdout",
     "output_type": "stream",
     "text": [
      "\r- Processing image:    134 / 4170"
     ]
    },
    {
     "name": "stdout",
     "output_type": "stream",
     "text": [
      "\r- Processing image:    135 / 4170"
     ]
    },
    {
     "name": "stdout",
     "output_type": "stream",
     "text": [
      "\r- Processing image:    136 / 4170"
     ]
    },
    {
     "name": "stdout",
     "output_type": "stream",
     "text": [
      "\r- Processing image:    137 / 4170"
     ]
    },
    {
     "name": "stdout",
     "output_type": "stream",
     "text": [
      "\r- Processing image:    138 / 4170"
     ]
    },
    {
     "name": "stdout",
     "output_type": "stream",
     "text": [
      "\r- Processing image:    139 / 4170"
     ]
    },
    {
     "name": "stdout",
     "output_type": "stream",
     "text": [
      "\r- Processing image:    140 / 4170"
     ]
    },
    {
     "name": "stdout",
     "output_type": "stream",
     "text": [
      "\r- Processing image:    141 / 4170"
     ]
    },
    {
     "name": "stdout",
     "output_type": "stream",
     "text": [
      "\r- Processing image:    142 / 4170"
     ]
    },
    {
     "name": "stdout",
     "output_type": "stream",
     "text": [
      "\r- Processing image:    143 / 4170"
     ]
    },
    {
     "name": "stdout",
     "output_type": "stream",
     "text": [
      "\r- Processing image:    144 / 4170"
     ]
    },
    {
     "name": "stdout",
     "output_type": "stream",
     "text": [
      "\r- Processing image:    145 / 4170"
     ]
    },
    {
     "name": "stdout",
     "output_type": "stream",
     "text": [
      "\r- Processing image:    146 / 4170"
     ]
    },
    {
     "name": "stdout",
     "output_type": "stream",
     "text": [
      "\r- Processing image:    147 / 4170"
     ]
    },
    {
     "name": "stdout",
     "output_type": "stream",
     "text": [
      "\r- Processing image:    148 / 4170"
     ]
    },
    {
     "name": "stdout",
     "output_type": "stream",
     "text": [
      "\r- Processing image:    149 / 4170"
     ]
    },
    {
     "name": "stdout",
     "output_type": "stream",
     "text": [
      "\r- Processing image:    150 / 4170"
     ]
    },
    {
     "name": "stdout",
     "output_type": "stream",
     "text": [
      "\r- Processing image:    151 / 4170"
     ]
    },
    {
     "name": "stdout",
     "output_type": "stream",
     "text": [
      "\r- Processing image:    152 / 4170"
     ]
    },
    {
     "name": "stdout",
     "output_type": "stream",
     "text": [
      "\r- Processing image:    153 / 4170"
     ]
    },
    {
     "name": "stdout",
     "output_type": "stream",
     "text": [
      "\r- Processing image:    154 / 4170"
     ]
    },
    {
     "name": "stdout",
     "output_type": "stream",
     "text": [
      "\r- Processing image:    155 / 4170"
     ]
    },
    {
     "name": "stdout",
     "output_type": "stream",
     "text": [
      "\r- Processing image:    156 / 4170"
     ]
    },
    {
     "name": "stdout",
     "output_type": "stream",
     "text": [
      "\r- Processing image:    157 / 4170"
     ]
    },
    {
     "name": "stdout",
     "output_type": "stream",
     "text": [
      "\r- Processing image:    158 / 4170"
     ]
    },
    {
     "name": "stdout",
     "output_type": "stream",
     "text": [
      "\r- Processing image:    159 / 4170"
     ]
    },
    {
     "name": "stdout",
     "output_type": "stream",
     "text": [
      "\r- Processing image:    160 / 4170"
     ]
    },
    {
     "name": "stdout",
     "output_type": "stream",
     "text": [
      "\r- Processing image:    161 / 4170"
     ]
    },
    {
     "name": "stdout",
     "output_type": "stream",
     "text": [
      "\r- Processing image:    162 / 4170"
     ]
    },
    {
     "name": "stdout",
     "output_type": "stream",
     "text": [
      "\r- Processing image:    163 / 4170"
     ]
    },
    {
     "name": "stdout",
     "output_type": "stream",
     "text": [
      "\r- Processing image:    164 / 4170"
     ]
    },
    {
     "name": "stdout",
     "output_type": "stream",
     "text": [
      "\r- Processing image:    165 / 4170"
     ]
    },
    {
     "name": "stdout",
     "output_type": "stream",
     "text": [
      "\r- Processing image:    166 / 4170"
     ]
    },
    {
     "name": "stdout",
     "output_type": "stream",
     "text": [
      "\r- Processing image:    167 / 4170"
     ]
    },
    {
     "name": "stdout",
     "output_type": "stream",
     "text": [
      "\r- Processing image:    168 / 4170"
     ]
    },
    {
     "name": "stdout",
     "output_type": "stream",
     "text": [
      "\r- Processing image:    169 / 4170"
     ]
    },
    {
     "name": "stdout",
     "output_type": "stream",
     "text": [
      "\r- Processing image:    170 / 4170"
     ]
    },
    {
     "name": "stdout",
     "output_type": "stream",
     "text": [
      "\r- Processing image:    171 / 4170"
     ]
    },
    {
     "name": "stdout",
     "output_type": "stream",
     "text": [
      "\r- Processing image:    172 / 4170"
     ]
    },
    {
     "name": "stdout",
     "output_type": "stream",
     "text": [
      "\r- Processing image:    173 / 4170"
     ]
    },
    {
     "name": "stdout",
     "output_type": "stream",
     "text": [
      "\r- Processing image:    174 / 4170"
     ]
    },
    {
     "name": "stdout",
     "output_type": "stream",
     "text": [
      "\r- Processing image:    175 / 4170"
     ]
    },
    {
     "name": "stdout",
     "output_type": "stream",
     "text": [
      "\r- Processing image:    176 / 4170"
     ]
    },
    {
     "name": "stdout",
     "output_type": "stream",
     "text": [
      "\r- Processing image:    177 / 4170"
     ]
    },
    {
     "name": "stdout",
     "output_type": "stream",
     "text": [
      "\r- Processing image:    178 / 4170"
     ]
    },
    {
     "name": "stdout",
     "output_type": "stream",
     "text": [
      "\r- Processing image:    179 / 4170"
     ]
    },
    {
     "name": "stdout",
     "output_type": "stream",
     "text": [
      "\r- Processing image:    180 / 4170"
     ]
    },
    {
     "name": "stdout",
     "output_type": "stream",
     "text": [
      "\r- Processing image:    181 / 4170"
     ]
    },
    {
     "name": "stdout",
     "output_type": "stream",
     "text": [
      "\r- Processing image:    182 / 4170"
     ]
    },
    {
     "name": "stdout",
     "output_type": "stream",
     "text": [
      "\r- Processing image:    183 / 4170"
     ]
    },
    {
     "name": "stdout",
     "output_type": "stream",
     "text": [
      "\r- Processing image:    184 / 4170"
     ]
    },
    {
     "name": "stdout",
     "output_type": "stream",
     "text": [
      "\r- Processing image:    185 / 4170"
     ]
    },
    {
     "name": "stdout",
     "output_type": "stream",
     "text": [
      "\r- Processing image:    186 / 4170"
     ]
    },
    {
     "name": "stdout",
     "output_type": "stream",
     "text": [
      "\r- Processing image:    187 / 4170"
     ]
    },
    {
     "name": "stdout",
     "output_type": "stream",
     "text": [
      "\r- Processing image:    188 / 4170"
     ]
    },
    {
     "name": "stdout",
     "output_type": "stream",
     "text": [
      "\r- Processing image:    189 / 4170"
     ]
    },
    {
     "name": "stdout",
     "output_type": "stream",
     "text": [
      "\r- Processing image:    190 / 4170"
     ]
    },
    {
     "name": "stdout",
     "output_type": "stream",
     "text": [
      "\r- Processing image:    191 / 4170"
     ]
    },
    {
     "name": "stdout",
     "output_type": "stream",
     "text": [
      "\r- Processing image:    192 / 4170"
     ]
    },
    {
     "name": "stdout",
     "output_type": "stream",
     "text": [
      "\r- Processing image:    193 / 4170"
     ]
    },
    {
     "name": "stdout",
     "output_type": "stream",
     "text": [
      "\r- Processing image:    194 / 4170"
     ]
    },
    {
     "name": "stdout",
     "output_type": "stream",
     "text": [
      "\r- Processing image:    195 / 4170"
     ]
    },
    {
     "name": "stdout",
     "output_type": "stream",
     "text": [
      "\r- Processing image:    196 / 4170"
     ]
    },
    {
     "name": "stdout",
     "output_type": "stream",
     "text": [
      "\r- Processing image:    197 / 4170"
     ]
    },
    {
     "name": "stdout",
     "output_type": "stream",
     "text": [
      "\r- Processing image:    198 / 4170"
     ]
    },
    {
     "name": "stdout",
     "output_type": "stream",
     "text": [
      "\r- Processing image:    199 / 4170"
     ]
    },
    {
     "name": "stdout",
     "output_type": "stream",
     "text": [
      "\r- Processing image:    200 / 4170"
     ]
    },
    {
     "name": "stdout",
     "output_type": "stream",
     "text": [
      "\r- Processing image:    201 / 4170"
     ]
    },
    {
     "name": "stdout",
     "output_type": "stream",
     "text": [
      "\r- Processing image:    202 / 4170"
     ]
    },
    {
     "name": "stdout",
     "output_type": "stream",
     "text": [
      "\r- Processing image:    203 / 4170"
     ]
    },
    {
     "name": "stdout",
     "output_type": "stream",
     "text": [
      "\r- Processing image:    204 / 4170"
     ]
    },
    {
     "name": "stdout",
     "output_type": "stream",
     "text": [
      "\r- Processing image:    205 / 4170"
     ]
    },
    {
     "name": "stdout",
     "output_type": "stream",
     "text": [
      "\r- Processing image:    206 / 4170"
     ]
    },
    {
     "name": "stdout",
     "output_type": "stream",
     "text": [
      "\r- Processing image:    207 / 4170"
     ]
    },
    {
     "name": "stdout",
     "output_type": "stream",
     "text": [
      "\r- Processing image:    208 / 4170"
     ]
    },
    {
     "name": "stdout",
     "output_type": "stream",
     "text": [
      "\r- Processing image:    209 / 4170"
     ]
    },
    {
     "name": "stdout",
     "output_type": "stream",
     "text": [
      "\r- Processing image:    210 / 4170"
     ]
    },
    {
     "name": "stdout",
     "output_type": "stream",
     "text": [
      "\r- Processing image:    211 / 4170"
     ]
    },
    {
     "name": "stdout",
     "output_type": "stream",
     "text": [
      "\r- Processing image:    212 / 4170"
     ]
    },
    {
     "name": "stdout",
     "output_type": "stream",
     "text": [
      "\r- Processing image:    213 / 4170"
     ]
    },
    {
     "name": "stdout",
     "output_type": "stream",
     "text": [
      "\r- Processing image:    214 / 4170"
     ]
    },
    {
     "name": "stdout",
     "output_type": "stream",
     "text": [
      "\r- Processing image:    215 / 4170"
     ]
    },
    {
     "name": "stdout",
     "output_type": "stream",
     "text": [
      "\r- Processing image:    216 / 4170"
     ]
    },
    {
     "name": "stdout",
     "output_type": "stream",
     "text": [
      "\r- Processing image:    217 / 4170"
     ]
    },
    {
     "name": "stdout",
     "output_type": "stream",
     "text": [
      "\r- Processing image:    218 / 4170"
     ]
    },
    {
     "name": "stdout",
     "output_type": "stream",
     "text": [
      "\r- Processing image:    219 / 4170"
     ]
    },
    {
     "name": "stdout",
     "output_type": "stream",
     "text": [
      "\r- Processing image:    220 / 4170"
     ]
    },
    {
     "name": "stdout",
     "output_type": "stream",
     "text": [
      "\r- Processing image:    221 / 4170"
     ]
    },
    {
     "name": "stdout",
     "output_type": "stream",
     "text": [
      "\r- Processing image:    222 / 4170"
     ]
    },
    {
     "name": "stdout",
     "output_type": "stream",
     "text": [
      "\r- Processing image:    223 / 4170"
     ]
    },
    {
     "name": "stdout",
     "output_type": "stream",
     "text": [
      "\r- Processing image:    224 / 4170"
     ]
    },
    {
     "name": "stdout",
     "output_type": "stream",
     "text": [
      "\r- Processing image:    225 / 4170"
     ]
    },
    {
     "name": "stdout",
     "output_type": "stream",
     "text": [
      "\r- Processing image:    226 / 4170"
     ]
    },
    {
     "name": "stdout",
     "output_type": "stream",
     "text": [
      "\r- Processing image:    227 / 4170"
     ]
    },
    {
     "name": "stdout",
     "output_type": "stream",
     "text": [
      "\r- Processing image:    228 / 4170"
     ]
    },
    {
     "name": "stdout",
     "output_type": "stream",
     "text": [
      "\r- Processing image:    229 / 4170"
     ]
    },
    {
     "name": "stdout",
     "output_type": "stream",
     "text": [
      "\r- Processing image:    230 / 4170"
     ]
    },
    {
     "name": "stdout",
     "output_type": "stream",
     "text": [
      "\r- Processing image:    231 / 4170"
     ]
    },
    {
     "name": "stdout",
     "output_type": "stream",
     "text": [
      "\r- Processing image:    232 / 4170"
     ]
    },
    {
     "name": "stdout",
     "output_type": "stream",
     "text": [
      "\r- Processing image:    233 / 4170"
     ]
    },
    {
     "name": "stdout",
     "output_type": "stream",
     "text": [
      "\r- Processing image:    234 / 4170"
     ]
    },
    {
     "name": "stdout",
     "output_type": "stream",
     "text": [
      "\r- Processing image:    235 / 4170"
     ]
    },
    {
     "name": "stdout",
     "output_type": "stream",
     "text": [
      "\r- Processing image:    236 / 4170"
     ]
    },
    {
     "name": "stdout",
     "output_type": "stream",
     "text": [
      "\r- Processing image:    237 / 4170"
     ]
    },
    {
     "name": "stdout",
     "output_type": "stream",
     "text": [
      "\r- Processing image:    238 / 4170"
     ]
    },
    {
     "name": "stdout",
     "output_type": "stream",
     "text": [
      "\r- Processing image:    239 / 4170"
     ]
    },
    {
     "name": "stdout",
     "output_type": "stream",
     "text": [
      "\r- Processing image:    240 / 4170"
     ]
    },
    {
     "name": "stdout",
     "output_type": "stream",
     "text": [
      "\r- Processing image:    241 / 4170"
     ]
    },
    {
     "name": "stdout",
     "output_type": "stream",
     "text": [
      "\r- Processing image:    242 / 4170"
     ]
    },
    {
     "name": "stdout",
     "output_type": "stream",
     "text": [
      "\r- Processing image:    243 / 4170"
     ]
    },
    {
     "name": "stdout",
     "output_type": "stream",
     "text": [
      "\r- Processing image:    244 / 4170"
     ]
    },
    {
     "name": "stdout",
     "output_type": "stream",
     "text": [
      "\r- Processing image:    245 / 4170"
     ]
    },
    {
     "name": "stdout",
     "output_type": "stream",
     "text": [
      "\r- Processing image:    246 / 4170"
     ]
    },
    {
     "name": "stdout",
     "output_type": "stream",
     "text": [
      "\r- Processing image:    247 / 4170"
     ]
    },
    {
     "name": "stdout",
     "output_type": "stream",
     "text": [
      "\r- Processing image:    248 / 4170"
     ]
    },
    {
     "name": "stdout",
     "output_type": "stream",
     "text": [
      "\r- Processing image:    249 / 4170"
     ]
    },
    {
     "name": "stdout",
     "output_type": "stream",
     "text": [
      "\r- Processing image:    250 / 4170"
     ]
    },
    {
     "name": "stdout",
     "output_type": "stream",
     "text": [
      "\r- Processing image:    251 / 4170"
     ]
    },
    {
     "name": "stdout",
     "output_type": "stream",
     "text": [
      "\r- Processing image:    252 / 4170"
     ]
    },
    {
     "name": "stdout",
     "output_type": "stream",
     "text": [
      "\r- Processing image:    253 / 4170"
     ]
    },
    {
     "name": "stdout",
     "output_type": "stream",
     "text": [
      "\r- Processing image:    254 / 4170"
     ]
    },
    {
     "name": "stdout",
     "output_type": "stream",
     "text": [
      "\r- Processing image:    255 / 4170"
     ]
    },
    {
     "name": "stdout",
     "output_type": "stream",
     "text": [
      "\r- Processing image:    256 / 4170"
     ]
    },
    {
     "name": "stdout",
     "output_type": "stream",
     "text": [
      "\r- Processing image:    257 / 4170"
     ]
    },
    {
     "name": "stdout",
     "output_type": "stream",
     "text": [
      "\r- Processing image:    258 / 4170"
     ]
    },
    {
     "name": "stdout",
     "output_type": "stream",
     "text": [
      "\r- Processing image:    259 / 4170"
     ]
    },
    {
     "name": "stdout",
     "output_type": "stream",
     "text": [
      "\r- Processing image:    260 / 4170"
     ]
    },
    {
     "name": "stdout",
     "output_type": "stream",
     "text": [
      "\r- Processing image:    261 / 4170"
     ]
    },
    {
     "name": "stdout",
     "output_type": "stream",
     "text": [
      "\r- Processing image:    262 / 4170"
     ]
    },
    {
     "name": "stdout",
     "output_type": "stream",
     "text": [
      "\r- Processing image:    263 / 4170"
     ]
    },
    {
     "name": "stdout",
     "output_type": "stream",
     "text": [
      "\r- Processing image:    264 / 4170"
     ]
    },
    {
     "name": "stdout",
     "output_type": "stream",
     "text": [
      "\r- Processing image:    265 / 4170"
     ]
    },
    {
     "name": "stdout",
     "output_type": "stream",
     "text": [
      "\r- Processing image:    266 / 4170"
     ]
    },
    {
     "name": "stdout",
     "output_type": "stream",
     "text": [
      "\r- Processing image:    267 / 4170"
     ]
    },
    {
     "name": "stdout",
     "output_type": "stream",
     "text": [
      "\r- Processing image:    268 / 4170"
     ]
    },
    {
     "name": "stdout",
     "output_type": "stream",
     "text": [
      "\r- Processing image:    269 / 4170"
     ]
    },
    {
     "name": "stdout",
     "output_type": "stream",
     "text": [
      "\r- Processing image:    270 / 4170"
     ]
    },
    {
     "name": "stdout",
     "output_type": "stream",
     "text": [
      "\r- Processing image:    271 / 4170"
     ]
    },
    {
     "name": "stdout",
     "output_type": "stream",
     "text": [
      "\r- Processing image:    272 / 4170"
     ]
    },
    {
     "name": "stdout",
     "output_type": "stream",
     "text": [
      "\r- Processing image:    273 / 4170"
     ]
    },
    {
     "name": "stdout",
     "output_type": "stream",
     "text": [
      "\r- Processing image:    274 / 4170"
     ]
    },
    {
     "name": "stdout",
     "output_type": "stream",
     "text": [
      "\r- Processing image:    275 / 4170"
     ]
    },
    {
     "name": "stdout",
     "output_type": "stream",
     "text": [
      "\r- Processing image:    276 / 4170"
     ]
    },
    {
     "name": "stdout",
     "output_type": "stream",
     "text": [
      "\r- Processing image:    277 / 4170"
     ]
    },
    {
     "name": "stdout",
     "output_type": "stream",
     "text": [
      "\r- Processing image:    278 / 4170"
     ]
    },
    {
     "name": "stdout",
     "output_type": "stream",
     "text": [
      "\r- Processing image:    279 / 4170"
     ]
    },
    {
     "name": "stdout",
     "output_type": "stream",
     "text": [
      "\r- Processing image:    280 / 4170"
     ]
    },
    {
     "name": "stdout",
     "output_type": "stream",
     "text": [
      "\r- Processing image:    281 / 4170"
     ]
    },
    {
     "name": "stdout",
     "output_type": "stream",
     "text": [
      "\r- Processing image:    282 / 4170"
     ]
    },
    {
     "name": "stdout",
     "output_type": "stream",
     "text": [
      "\r- Processing image:    283 / 4170"
     ]
    },
    {
     "name": "stdout",
     "output_type": "stream",
     "text": [
      "\r- Processing image:    284 / 4170"
     ]
    },
    {
     "name": "stdout",
     "output_type": "stream",
     "text": [
      "\r- Processing image:    285 / 4170"
     ]
    },
    {
     "name": "stdout",
     "output_type": "stream",
     "text": [
      "\r- Processing image:    286 / 4170"
     ]
    },
    {
     "name": "stdout",
     "output_type": "stream",
     "text": [
      "\r- Processing image:    287 / 4170"
     ]
    },
    {
     "name": "stdout",
     "output_type": "stream",
     "text": [
      "\r- Processing image:    288 / 4170"
     ]
    },
    {
     "name": "stdout",
     "output_type": "stream",
     "text": [
      "\r- Processing image:    289 / 4170"
     ]
    },
    {
     "name": "stdout",
     "output_type": "stream",
     "text": [
      "\r- Processing image:    290 / 4170"
     ]
    },
    {
     "name": "stdout",
     "output_type": "stream",
     "text": [
      "\r- Processing image:    291 / 4170"
     ]
    },
    {
     "name": "stdout",
     "output_type": "stream",
     "text": [
      "\r- Processing image:    292 / 4170"
     ]
    },
    {
     "name": "stdout",
     "output_type": "stream",
     "text": [
      "\r- Processing image:    293 / 4170"
     ]
    },
    {
     "name": "stdout",
     "output_type": "stream",
     "text": [
      "\r- Processing image:    294 / 4170"
     ]
    },
    {
     "name": "stdout",
     "output_type": "stream",
     "text": [
      "\r- Processing image:    295 / 4170"
     ]
    },
    {
     "name": "stdout",
     "output_type": "stream",
     "text": [
      "\r- Processing image:    296 / 4170"
     ]
    },
    {
     "name": "stdout",
     "output_type": "stream",
     "text": [
      "\r- Processing image:    297 / 4170"
     ]
    },
    {
     "name": "stdout",
     "output_type": "stream",
     "text": [
      "\r- Processing image:    298 / 4170"
     ]
    },
    {
     "name": "stdout",
     "output_type": "stream",
     "text": [
      "\r- Processing image:    299 / 4170"
     ]
    },
    {
     "name": "stdout",
     "output_type": "stream",
     "text": [
      "\r- Processing image:    300 / 4170"
     ]
    },
    {
     "name": "stdout",
     "output_type": "stream",
     "text": [
      "\r- Processing image:    301 / 4170"
     ]
    },
    {
     "name": "stdout",
     "output_type": "stream",
     "text": [
      "\r- Processing image:    302 / 4170"
     ]
    },
    {
     "name": "stdout",
     "output_type": "stream",
     "text": [
      "\r- Processing image:    303 / 4170"
     ]
    },
    {
     "name": "stdout",
     "output_type": "stream",
     "text": [
      "\r- Processing image:    304 / 4170"
     ]
    },
    {
     "name": "stdout",
     "output_type": "stream",
     "text": [
      "\r- Processing image:    305 / 4170"
     ]
    },
    {
     "name": "stdout",
     "output_type": "stream",
     "text": [
      "\r- Processing image:    306 / 4170"
     ]
    },
    {
     "name": "stdout",
     "output_type": "stream",
     "text": [
      "\r- Processing image:    307 / 4170"
     ]
    },
    {
     "name": "stdout",
     "output_type": "stream",
     "text": [
      "\r- Processing image:    308 / 4170"
     ]
    },
    {
     "name": "stdout",
     "output_type": "stream",
     "text": [
      "\r- Processing image:    309 / 4170"
     ]
    },
    {
     "name": "stdout",
     "output_type": "stream",
     "text": [
      "\r- Processing image:    310 / 4170"
     ]
    },
    {
     "name": "stdout",
     "output_type": "stream",
     "text": [
      "\r- Processing image:    311 / 4170"
     ]
    },
    {
     "name": "stdout",
     "output_type": "stream",
     "text": [
      "\r- Processing image:    312 / 4170"
     ]
    },
    {
     "name": "stdout",
     "output_type": "stream",
     "text": [
      "\r- Processing image:    313 / 4170"
     ]
    },
    {
     "name": "stdout",
     "output_type": "stream",
     "text": [
      "\r- Processing image:    314 / 4170"
     ]
    },
    {
     "name": "stdout",
     "output_type": "stream",
     "text": [
      "\r- Processing image:    315 / 4170"
     ]
    },
    {
     "name": "stdout",
     "output_type": "stream",
     "text": [
      "\r- Processing image:    316 / 4170"
     ]
    },
    {
     "name": "stdout",
     "output_type": "stream",
     "text": [
      "\r- Processing image:    317 / 4170"
     ]
    },
    {
     "name": "stdout",
     "output_type": "stream",
     "text": [
      "\r- Processing image:    318 / 4170"
     ]
    },
    {
     "name": "stdout",
     "output_type": "stream",
     "text": [
      "\r- Processing image:    319 / 4170"
     ]
    },
    {
     "name": "stdout",
     "output_type": "stream",
     "text": [
      "\r- Processing image:    320 / 4170"
     ]
    },
    {
     "name": "stdout",
     "output_type": "stream",
     "text": [
      "\r- Processing image:    321 / 4170"
     ]
    },
    {
     "name": "stdout",
     "output_type": "stream",
     "text": [
      "\r- Processing image:    322 / 4170"
     ]
    },
    {
     "name": "stdout",
     "output_type": "stream",
     "text": [
      "\r- Processing image:    323 / 4170"
     ]
    },
    {
     "name": "stdout",
     "output_type": "stream",
     "text": [
      "\r- Processing image:    324 / 4170"
     ]
    },
    {
     "name": "stdout",
     "output_type": "stream",
     "text": [
      "\r- Processing image:    325 / 4170"
     ]
    },
    {
     "name": "stdout",
     "output_type": "stream",
     "text": [
      "\r- Processing image:    326 / 4170"
     ]
    },
    {
     "name": "stdout",
     "output_type": "stream",
     "text": [
      "\r- Processing image:    327 / 4170"
     ]
    },
    {
     "name": "stdout",
     "output_type": "stream",
     "text": [
      "\r- Processing image:    328 / 4170"
     ]
    },
    {
     "name": "stdout",
     "output_type": "stream",
     "text": [
      "\r- Processing image:    329 / 4170"
     ]
    },
    {
     "name": "stdout",
     "output_type": "stream",
     "text": [
      "\r- Processing image:    330 / 4170"
     ]
    },
    {
     "name": "stdout",
     "output_type": "stream",
     "text": [
      "\r- Processing image:    331 / 4170"
     ]
    },
    {
     "name": "stdout",
     "output_type": "stream",
     "text": [
      "\r- Processing image:    332 / 4170"
     ]
    },
    {
     "name": "stdout",
     "output_type": "stream",
     "text": [
      "\r- Processing image:    333 / 4170"
     ]
    },
    {
     "name": "stdout",
     "output_type": "stream",
     "text": [
      "\r- Processing image:    334 / 4170"
     ]
    },
    {
     "name": "stdout",
     "output_type": "stream",
     "text": [
      "\r- Processing image:    335 / 4170"
     ]
    },
    {
     "name": "stdout",
     "output_type": "stream",
     "text": [
      "\r- Processing image:    336 / 4170"
     ]
    },
    {
     "name": "stdout",
     "output_type": "stream",
     "text": [
      "\r- Processing image:    337 / 4170"
     ]
    },
    {
     "name": "stdout",
     "output_type": "stream",
     "text": [
      "\r- Processing image:    338 / 4170"
     ]
    },
    {
     "name": "stdout",
     "output_type": "stream",
     "text": [
      "\r- Processing image:    339 / 4170"
     ]
    },
    {
     "name": "stdout",
     "output_type": "stream",
     "text": [
      "\r- Processing image:    340 / 4170"
     ]
    },
    {
     "name": "stdout",
     "output_type": "stream",
     "text": [
      "\r- Processing image:    341 / 4170"
     ]
    },
    {
     "name": "stdout",
     "output_type": "stream",
     "text": [
      "\r- Processing image:    342 / 4170"
     ]
    },
    {
     "name": "stdout",
     "output_type": "stream",
     "text": [
      "\r- Processing image:    343 / 4170"
     ]
    },
    {
     "name": "stdout",
     "output_type": "stream",
     "text": [
      "\r- Processing image:    344 / 4170"
     ]
    },
    {
     "name": "stdout",
     "output_type": "stream",
     "text": [
      "\r- Processing image:    345 / 4170"
     ]
    },
    {
     "name": "stdout",
     "output_type": "stream",
     "text": [
      "\r- Processing image:    346 / 4170"
     ]
    },
    {
     "name": "stdout",
     "output_type": "stream",
     "text": [
      "\r- Processing image:    347 / 4170"
     ]
    },
    {
     "name": "stdout",
     "output_type": "stream",
     "text": [
      "\r- Processing image:    348 / 4170"
     ]
    },
    {
     "name": "stdout",
     "output_type": "stream",
     "text": [
      "\r- Processing image:    349 / 4170"
     ]
    },
    {
     "name": "stdout",
     "output_type": "stream",
     "text": [
      "\r- Processing image:    350 / 4170"
     ]
    },
    {
     "name": "stdout",
     "output_type": "stream",
     "text": [
      "\r- Processing image:    351 / 4170"
     ]
    },
    {
     "name": "stdout",
     "output_type": "stream",
     "text": [
      "\r- Processing image:    352 / 4170"
     ]
    },
    {
     "name": "stdout",
     "output_type": "stream",
     "text": [
      "\r- Processing image:    353 / 4170"
     ]
    },
    {
     "name": "stdout",
     "output_type": "stream",
     "text": [
      "\r- Processing image:    354 / 4170"
     ]
    },
    {
     "name": "stdout",
     "output_type": "stream",
     "text": [
      "\r- Processing image:    355 / 4170"
     ]
    },
    {
     "name": "stdout",
     "output_type": "stream",
     "text": [
      "\r- Processing image:    356 / 4170"
     ]
    },
    {
     "name": "stdout",
     "output_type": "stream",
     "text": [
      "\r- Processing image:    357 / 4170"
     ]
    },
    {
     "name": "stdout",
     "output_type": "stream",
     "text": [
      "\r- Processing image:    358 / 4170"
     ]
    },
    {
     "name": "stdout",
     "output_type": "stream",
     "text": [
      "\r- Processing image:    359 / 4170"
     ]
    },
    {
     "name": "stdout",
     "output_type": "stream",
     "text": [
      "\r- Processing image:    360 / 4170"
     ]
    },
    {
     "name": "stdout",
     "output_type": "stream",
     "text": [
      "\r- Processing image:    361 / 4170"
     ]
    },
    {
     "name": "stdout",
     "output_type": "stream",
     "text": [
      "\r- Processing image:    362 / 4170"
     ]
    },
    {
     "name": "stdout",
     "output_type": "stream",
     "text": [
      "\r- Processing image:    363 / 4170"
     ]
    },
    {
     "name": "stdout",
     "output_type": "stream",
     "text": [
      "\r- Processing image:    364 / 4170"
     ]
    },
    {
     "name": "stdout",
     "output_type": "stream",
     "text": [
      "\r- Processing image:    365 / 4170"
     ]
    },
    {
     "name": "stdout",
     "output_type": "stream",
     "text": [
      "\r- Processing image:    366 / 4170"
     ]
    },
    {
     "name": "stdout",
     "output_type": "stream",
     "text": [
      "\r- Processing image:    367 / 4170"
     ]
    },
    {
     "name": "stdout",
     "output_type": "stream",
     "text": [
      "\r- Processing image:    368 / 4170"
     ]
    },
    {
     "name": "stdout",
     "output_type": "stream",
     "text": [
      "\r- Processing image:    369 / 4170"
     ]
    },
    {
     "name": "stdout",
     "output_type": "stream",
     "text": [
      "\r- Processing image:    370 / 4170"
     ]
    },
    {
     "name": "stdout",
     "output_type": "stream",
     "text": [
      "\r- Processing image:    371 / 4170"
     ]
    },
    {
     "name": "stdout",
     "output_type": "stream",
     "text": [
      "\r- Processing image:    372 / 4170"
     ]
    },
    {
     "name": "stdout",
     "output_type": "stream",
     "text": [
      "\r- Processing image:    373 / 4170"
     ]
    },
    {
     "name": "stdout",
     "output_type": "stream",
     "text": [
      "\r- Processing image:    374 / 4170"
     ]
    },
    {
     "name": "stdout",
     "output_type": "stream",
     "text": [
      "\r- Processing image:    375 / 4170"
     ]
    },
    {
     "name": "stdout",
     "output_type": "stream",
     "text": [
      "\r- Processing image:    376 / 4170"
     ]
    },
    {
     "name": "stdout",
     "output_type": "stream",
     "text": [
      "\r- Processing image:    377 / 4170"
     ]
    },
    {
     "name": "stdout",
     "output_type": "stream",
     "text": [
      "\r- Processing image:    378 / 4170"
     ]
    },
    {
     "name": "stdout",
     "output_type": "stream",
     "text": [
      "\r- Processing image:    379 / 4170"
     ]
    },
    {
     "name": "stdout",
     "output_type": "stream",
     "text": [
      "\r- Processing image:    380 / 4170"
     ]
    },
    {
     "name": "stdout",
     "output_type": "stream",
     "text": [
      "\r- Processing image:    381 / 4170"
     ]
    },
    {
     "name": "stdout",
     "output_type": "stream",
     "text": [
      "\r- Processing image:    382 / 4170"
     ]
    },
    {
     "name": "stdout",
     "output_type": "stream",
     "text": [
      "\r- Processing image:    383 / 4170"
     ]
    },
    {
     "name": "stdout",
     "output_type": "stream",
     "text": [
      "\r- Processing image:    384 / 4170"
     ]
    },
    {
     "name": "stdout",
     "output_type": "stream",
     "text": [
      "\r- Processing image:    385 / 4170"
     ]
    },
    {
     "name": "stdout",
     "output_type": "stream",
     "text": [
      "\r- Processing image:    386 / 4170"
     ]
    },
    {
     "name": "stdout",
     "output_type": "stream",
     "text": [
      "\r- Processing image:    387 / 4170"
     ]
    },
    {
     "name": "stdout",
     "output_type": "stream",
     "text": [
      "\r- Processing image:    388 / 4170"
     ]
    },
    {
     "name": "stdout",
     "output_type": "stream",
     "text": [
      "\r- Processing image:    389 / 4170"
     ]
    },
    {
     "name": "stdout",
     "output_type": "stream",
     "text": [
      "\r- Processing image:    390 / 4170"
     ]
    },
    {
     "name": "stdout",
     "output_type": "stream",
     "text": [
      "\r- Processing image:    391 / 4170"
     ]
    },
    {
     "name": "stdout",
     "output_type": "stream",
     "text": [
      "\r- Processing image:    392 / 4170"
     ]
    },
    {
     "name": "stdout",
     "output_type": "stream",
     "text": [
      "\r- Processing image:    393 / 4170"
     ]
    },
    {
     "name": "stdout",
     "output_type": "stream",
     "text": [
      "\r- Processing image:    394 / 4170"
     ]
    },
    {
     "name": "stdout",
     "output_type": "stream",
     "text": [
      "\r- Processing image:    395 / 4170"
     ]
    },
    {
     "name": "stdout",
     "output_type": "stream",
     "text": [
      "\r- Processing image:    396 / 4170"
     ]
    },
    {
     "name": "stdout",
     "output_type": "stream",
     "text": [
      "\r- Processing image:    397 / 4170"
     ]
    },
    {
     "name": "stdout",
     "output_type": "stream",
     "text": [
      "\r- Processing image:    398 / 4170"
     ]
    },
    {
     "name": "stdout",
     "output_type": "stream",
     "text": [
      "\r- Processing image:    399 / 4170"
     ]
    },
    {
     "name": "stdout",
     "output_type": "stream",
     "text": [
      "\r- Processing image:    400 / 4170"
     ]
    },
    {
     "name": "stdout",
     "output_type": "stream",
     "text": [
      "\r- Processing image:    401 / 4170"
     ]
    },
    {
     "name": "stdout",
     "output_type": "stream",
     "text": [
      "\r- Processing image:    402 / 4170"
     ]
    },
    {
     "name": "stdout",
     "output_type": "stream",
     "text": [
      "\r- Processing image:    403 / 4170"
     ]
    },
    {
     "name": "stdout",
     "output_type": "stream",
     "text": [
      "\r- Processing image:    404 / 4170"
     ]
    },
    {
     "name": "stdout",
     "output_type": "stream",
     "text": [
      "\r- Processing image:    405 / 4170"
     ]
    },
    {
     "name": "stdout",
     "output_type": "stream",
     "text": [
      "\r- Processing image:    406 / 4170"
     ]
    },
    {
     "name": "stdout",
     "output_type": "stream",
     "text": [
      "\r- Processing image:    407 / 4170"
     ]
    },
    {
     "name": "stdout",
     "output_type": "stream",
     "text": [
      "\r- Processing image:    408 / 4170"
     ]
    },
    {
     "name": "stdout",
     "output_type": "stream",
     "text": [
      "\r- Processing image:    409 / 4170"
     ]
    },
    {
     "name": "stdout",
     "output_type": "stream",
     "text": [
      "\r- Processing image:    410 / 4170"
     ]
    },
    {
     "name": "stdout",
     "output_type": "stream",
     "text": [
      "\r- Processing image:    411 / 4170"
     ]
    },
    {
     "name": "stdout",
     "output_type": "stream",
     "text": [
      "\r- Processing image:    412 / 4170"
     ]
    },
    {
     "name": "stdout",
     "output_type": "stream",
     "text": [
      "\r- Processing image:    413 / 4170"
     ]
    },
    {
     "name": "stdout",
     "output_type": "stream",
     "text": [
      "\r- Processing image:    414 / 4170"
     ]
    },
    {
     "name": "stdout",
     "output_type": "stream",
     "text": [
      "\r- Processing image:    415 / 4170"
     ]
    },
    {
     "name": "stdout",
     "output_type": "stream",
     "text": [
      "\r- Processing image:    416 / 4170"
     ]
    },
    {
     "name": "stdout",
     "output_type": "stream",
     "text": [
      "\r- Processing image:    417 / 4170"
     ]
    },
    {
     "name": "stdout",
     "output_type": "stream",
     "text": [
      "\r- Processing image:    418 / 4170"
     ]
    },
    {
     "name": "stdout",
     "output_type": "stream",
     "text": [
      "\r- Processing image:    419 / 4170"
     ]
    },
    {
     "name": "stdout",
     "output_type": "stream",
     "text": [
      "\r- Processing image:    420 / 4170"
     ]
    },
    {
     "name": "stdout",
     "output_type": "stream",
     "text": [
      "\r- Processing image:    421 / 4170"
     ]
    },
    {
     "name": "stdout",
     "output_type": "stream",
     "text": [
      "\r- Processing image:    422 / 4170"
     ]
    },
    {
     "name": "stdout",
     "output_type": "stream",
     "text": [
      "\r- Processing image:    423 / 4170"
     ]
    },
    {
     "name": "stdout",
     "output_type": "stream",
     "text": [
      "\r- Processing image:    424 / 4170"
     ]
    },
    {
     "name": "stdout",
     "output_type": "stream",
     "text": [
      "\r- Processing image:    425 / 4170"
     ]
    },
    {
     "name": "stdout",
     "output_type": "stream",
     "text": [
      "\r- Processing image:    426 / 4170"
     ]
    },
    {
     "name": "stdout",
     "output_type": "stream",
     "text": [
      "\r- Processing image:    427 / 4170"
     ]
    },
    {
     "name": "stdout",
     "output_type": "stream",
     "text": [
      "\r- Processing image:    428 / 4170"
     ]
    },
    {
     "name": "stdout",
     "output_type": "stream",
     "text": [
      "\r- Processing image:    429 / 4170"
     ]
    },
    {
     "name": "stdout",
     "output_type": "stream",
     "text": [
      "\r- Processing image:    430 / 4170"
     ]
    },
    {
     "name": "stdout",
     "output_type": "stream",
     "text": [
      "\r- Processing image:    431 / 4170"
     ]
    },
    {
     "name": "stdout",
     "output_type": "stream",
     "text": [
      "\r- Processing image:    432 / 4170"
     ]
    },
    {
     "name": "stdout",
     "output_type": "stream",
     "text": [
      "\r- Processing image:    433 / 4170"
     ]
    },
    {
     "name": "stdout",
     "output_type": "stream",
     "text": [
      "\r- Processing image:    434 / 4170"
     ]
    },
    {
     "name": "stdout",
     "output_type": "stream",
     "text": [
      "\r- Processing image:    435 / 4170"
     ]
    },
    {
     "name": "stdout",
     "output_type": "stream",
     "text": [
      "\r- Processing image:    436 / 4170"
     ]
    },
    {
     "name": "stdout",
     "output_type": "stream",
     "text": [
      "\r- Processing image:    437 / 4170"
     ]
    },
    {
     "name": "stdout",
     "output_type": "stream",
     "text": [
      "\r- Processing image:    438 / 4170"
     ]
    },
    {
     "name": "stdout",
     "output_type": "stream",
     "text": [
      "\r- Processing image:    439 / 4170"
     ]
    },
    {
     "name": "stdout",
     "output_type": "stream",
     "text": [
      "\r- Processing image:    440 / 4170"
     ]
    },
    {
     "name": "stdout",
     "output_type": "stream",
     "text": [
      "\r- Processing image:    441 / 4170"
     ]
    },
    {
     "name": "stdout",
     "output_type": "stream",
     "text": [
      "\r- Processing image:    442 / 4170"
     ]
    },
    {
     "name": "stdout",
     "output_type": "stream",
     "text": [
      "\r- Processing image:    443 / 4170"
     ]
    },
    {
     "name": "stdout",
     "output_type": "stream",
     "text": [
      "\r- Processing image:    444 / 4170"
     ]
    },
    {
     "name": "stdout",
     "output_type": "stream",
     "text": [
      "\r- Processing image:    445 / 4170"
     ]
    },
    {
     "name": "stdout",
     "output_type": "stream",
     "text": [
      "\r- Processing image:    446 / 4170"
     ]
    },
    {
     "name": "stdout",
     "output_type": "stream",
     "text": [
      "\r- Processing image:    447 / 4170"
     ]
    },
    {
     "name": "stdout",
     "output_type": "stream",
     "text": [
      "\r- Processing image:    448 / 4170"
     ]
    },
    {
     "name": "stdout",
     "output_type": "stream",
     "text": [
      "\r- Processing image:    449 / 4170"
     ]
    },
    {
     "name": "stdout",
     "output_type": "stream",
     "text": [
      "\r- Processing image:    450 / 4170"
     ]
    },
    {
     "name": "stdout",
     "output_type": "stream",
     "text": [
      "\r- Processing image:    451 / 4170"
     ]
    },
    {
     "name": "stdout",
     "output_type": "stream",
     "text": [
      "\r- Processing image:    452 / 4170"
     ]
    },
    {
     "name": "stdout",
     "output_type": "stream",
     "text": [
      "\r- Processing image:    453 / 4170"
     ]
    },
    {
     "name": "stdout",
     "output_type": "stream",
     "text": [
      "\r- Processing image:    454 / 4170"
     ]
    },
    {
     "name": "stdout",
     "output_type": "stream",
     "text": [
      "\r- Processing image:    455 / 4170"
     ]
    },
    {
     "name": "stdout",
     "output_type": "stream",
     "text": [
      "\r- Processing image:    456 / 4170"
     ]
    },
    {
     "name": "stdout",
     "output_type": "stream",
     "text": [
      "\r- Processing image:    457 / 4170"
     ]
    },
    {
     "name": "stdout",
     "output_type": "stream",
     "text": [
      "\r- Processing image:    458 / 4170"
     ]
    },
    {
     "name": "stdout",
     "output_type": "stream",
     "text": [
      "\r- Processing image:    459 / 4170"
     ]
    },
    {
     "name": "stdout",
     "output_type": "stream",
     "text": [
      "\r- Processing image:    460 / 4170"
     ]
    },
    {
     "name": "stdout",
     "output_type": "stream",
     "text": [
      "\r- Processing image:    461 / 4170"
     ]
    },
    {
     "name": "stdout",
     "output_type": "stream",
     "text": [
      "\r- Processing image:    462 / 4170"
     ]
    },
    {
     "name": "stdout",
     "output_type": "stream",
     "text": [
      "\r- Processing image:    463 / 4170"
     ]
    },
    {
     "name": "stdout",
     "output_type": "stream",
     "text": [
      "\r- Processing image:    464 / 4170"
     ]
    },
    {
     "name": "stdout",
     "output_type": "stream",
     "text": [
      "\r- Processing image:    465 / 4170"
     ]
    },
    {
     "name": "stdout",
     "output_type": "stream",
     "text": [
      "\r- Processing image:    466 / 4170"
     ]
    },
    {
     "name": "stdout",
     "output_type": "stream",
     "text": [
      "\r- Processing image:    467 / 4170"
     ]
    },
    {
     "name": "stdout",
     "output_type": "stream",
     "text": [
      "\r- Processing image:    468 / 4170"
     ]
    },
    {
     "name": "stdout",
     "output_type": "stream",
     "text": [
      "\r- Processing image:    469 / 4170"
     ]
    },
    {
     "name": "stdout",
     "output_type": "stream",
     "text": [
      "\r- Processing image:    470 / 4170"
     ]
    },
    {
     "name": "stdout",
     "output_type": "stream",
     "text": [
      "\r- Processing image:    471 / 4170"
     ]
    },
    {
     "name": "stdout",
     "output_type": "stream",
     "text": [
      "\r- Processing image:    472 / 4170"
     ]
    },
    {
     "name": "stdout",
     "output_type": "stream",
     "text": [
      "\r- Processing image:    473 / 4170"
     ]
    },
    {
     "name": "stdout",
     "output_type": "stream",
     "text": [
      "\r- Processing image:    474 / 4170"
     ]
    },
    {
     "name": "stdout",
     "output_type": "stream",
     "text": [
      "\r- Processing image:    475 / 4170"
     ]
    },
    {
     "name": "stdout",
     "output_type": "stream",
     "text": [
      "\r- Processing image:    476 / 4170"
     ]
    },
    {
     "name": "stdout",
     "output_type": "stream",
     "text": [
      "\r- Processing image:    477 / 4170"
     ]
    },
    {
     "name": "stdout",
     "output_type": "stream",
     "text": [
      "\r- Processing image:    478 / 4170"
     ]
    },
    {
     "name": "stdout",
     "output_type": "stream",
     "text": [
      "\r- Processing image:    479 / 4170"
     ]
    },
    {
     "name": "stdout",
     "output_type": "stream",
     "text": [
      "\r- Processing image:    480 / 4170"
     ]
    },
    {
     "name": "stdout",
     "output_type": "stream",
     "text": [
      "\r- Processing image:    481 / 4170"
     ]
    },
    {
     "name": "stdout",
     "output_type": "stream",
     "text": [
      "\r- Processing image:    482 / 4170"
     ]
    },
    {
     "name": "stdout",
     "output_type": "stream",
     "text": [
      "\r- Processing image:    483 / 4170"
     ]
    },
    {
     "name": "stdout",
     "output_type": "stream",
     "text": [
      "\r- Processing image:    484 / 4170"
     ]
    },
    {
     "name": "stdout",
     "output_type": "stream",
     "text": [
      "\r- Processing image:    485 / 4170"
     ]
    },
    {
     "name": "stdout",
     "output_type": "stream",
     "text": [
      "\r- Processing image:    486 / 4170"
     ]
    },
    {
     "name": "stdout",
     "output_type": "stream",
     "text": [
      "\r- Processing image:    487 / 4170"
     ]
    },
    {
     "name": "stdout",
     "output_type": "stream",
     "text": [
      "\r- Processing image:    488 / 4170"
     ]
    },
    {
     "name": "stdout",
     "output_type": "stream",
     "text": [
      "\r- Processing image:    489 / 4170"
     ]
    },
    {
     "name": "stdout",
     "output_type": "stream",
     "text": [
      "\r- Processing image:    490 / 4170"
     ]
    },
    {
     "name": "stdout",
     "output_type": "stream",
     "text": [
      "\r- Processing image:    491 / 4170"
     ]
    },
    {
     "name": "stdout",
     "output_type": "stream",
     "text": [
      "\r- Processing image:    492 / 4170"
     ]
    },
    {
     "name": "stdout",
     "output_type": "stream",
     "text": [
      "\r- Processing image:    493 / 4170"
     ]
    },
    {
     "name": "stdout",
     "output_type": "stream",
     "text": [
      "\r- Processing image:    494 / 4170"
     ]
    },
    {
     "name": "stdout",
     "output_type": "stream",
     "text": [
      "\r- Processing image:    495 / 4170"
     ]
    },
    {
     "name": "stdout",
     "output_type": "stream",
     "text": [
      "\r- Processing image:    496 / 4170"
     ]
    },
    {
     "name": "stdout",
     "output_type": "stream",
     "text": [
      "\r- Processing image:    497 / 4170"
     ]
    },
    {
     "name": "stdout",
     "output_type": "stream",
     "text": [
      "\r- Processing image:    498 / 4170"
     ]
    },
    {
     "name": "stdout",
     "output_type": "stream",
     "text": [
      "\r- Processing image:    499 / 4170"
     ]
    },
    {
     "name": "stdout",
     "output_type": "stream",
     "text": [
      "\r- Processing image:    500 / 4170"
     ]
    },
    {
     "name": "stdout",
     "output_type": "stream",
     "text": [
      "\r- Processing image:    501 / 4170"
     ]
    },
    {
     "name": "stdout",
     "output_type": "stream",
     "text": [
      "\r- Processing image:    502 / 4170"
     ]
    },
    {
     "name": "stdout",
     "output_type": "stream",
     "text": [
      "\r- Processing image:    503 / 4170"
     ]
    },
    {
     "name": "stdout",
     "output_type": "stream",
     "text": [
      "\r- Processing image:    504 / 4170"
     ]
    },
    {
     "name": "stdout",
     "output_type": "stream",
     "text": [
      "\r- Processing image:    505 / 4170"
     ]
    },
    {
     "name": "stdout",
     "output_type": "stream",
     "text": [
      "\r- Processing image:    506 / 4170"
     ]
    },
    {
     "name": "stdout",
     "output_type": "stream",
     "text": [
      "\r- Processing image:    507 / 4170"
     ]
    },
    {
     "name": "stdout",
     "output_type": "stream",
     "text": [
      "\r- Processing image:    508 / 4170"
     ]
    },
    {
     "name": "stdout",
     "output_type": "stream",
     "text": [
      "\r- Processing image:    509 / 4170"
     ]
    },
    {
     "name": "stdout",
     "output_type": "stream",
     "text": [
      "\r- Processing image:    510 / 4170"
     ]
    },
    {
     "name": "stdout",
     "output_type": "stream",
     "text": [
      "\r- Processing image:    511 / 4170"
     ]
    },
    {
     "name": "stdout",
     "output_type": "stream",
     "text": [
      "\r- Processing image:    512 / 4170"
     ]
    },
    {
     "name": "stdout",
     "output_type": "stream",
     "text": [
      "\r- Processing image:    513 / 4170"
     ]
    },
    {
     "name": "stdout",
     "output_type": "stream",
     "text": [
      "\r- Processing image:    514 / 4170"
     ]
    },
    {
     "name": "stdout",
     "output_type": "stream",
     "text": [
      "\r- Processing image:    515 / 4170"
     ]
    },
    {
     "name": "stdout",
     "output_type": "stream",
     "text": [
      "\r- Processing image:    516 / 4170"
     ]
    },
    {
     "name": "stdout",
     "output_type": "stream",
     "text": [
      "\r- Processing image:    517 / 4170"
     ]
    },
    {
     "name": "stdout",
     "output_type": "stream",
     "text": [
      "\r- Processing image:    518 / 4170"
     ]
    },
    {
     "name": "stdout",
     "output_type": "stream",
     "text": [
      "\r- Processing image:    519 / 4170"
     ]
    },
    {
     "name": "stdout",
     "output_type": "stream",
     "text": [
      "\r- Processing image:    520 / 4170"
     ]
    },
    {
     "name": "stdout",
     "output_type": "stream",
     "text": [
      "\r- Processing image:    521 / 4170"
     ]
    },
    {
     "name": "stdout",
     "output_type": "stream",
     "text": [
      "\r- Processing image:    522 / 4170"
     ]
    },
    {
     "name": "stdout",
     "output_type": "stream",
     "text": [
      "\r- Processing image:    523 / 4170"
     ]
    },
    {
     "name": "stdout",
     "output_type": "stream",
     "text": [
      "\r- Processing image:    524 / 4170"
     ]
    },
    {
     "name": "stdout",
     "output_type": "stream",
     "text": [
      "\r- Processing image:    525 / 4170"
     ]
    },
    {
     "name": "stdout",
     "output_type": "stream",
     "text": [
      "\r- Processing image:    526 / 4170"
     ]
    },
    {
     "name": "stdout",
     "output_type": "stream",
     "text": [
      "\r- Processing image:    527 / 4170"
     ]
    },
    {
     "name": "stdout",
     "output_type": "stream",
     "text": [
      "\r- Processing image:    528 / 4170"
     ]
    },
    {
     "name": "stdout",
     "output_type": "stream",
     "text": [
      "\r- Processing image:    529 / 4170"
     ]
    },
    {
     "name": "stdout",
     "output_type": "stream",
     "text": [
      "\r- Processing image:    530 / 4170"
     ]
    },
    {
     "name": "stdout",
     "output_type": "stream",
     "text": [
      "\r- Processing image:    531 / 4170"
     ]
    },
    {
     "name": "stdout",
     "output_type": "stream",
     "text": [
      "\r- Processing image:    532 / 4170"
     ]
    },
    {
     "name": "stdout",
     "output_type": "stream",
     "text": [
      "\r- Processing image:    533 / 4170"
     ]
    },
    {
     "name": "stdout",
     "output_type": "stream",
     "text": [
      "\r- Processing image:    534 / 4170"
     ]
    },
    {
     "name": "stdout",
     "output_type": "stream",
     "text": [
      "\r- Processing image:    535 / 4170"
     ]
    },
    {
     "name": "stdout",
     "output_type": "stream",
     "text": [
      "\r- Processing image:    536 / 4170"
     ]
    },
    {
     "name": "stdout",
     "output_type": "stream",
     "text": [
      "\r- Processing image:    537 / 4170"
     ]
    },
    {
     "name": "stdout",
     "output_type": "stream",
     "text": [
      "\r- Processing image:    538 / 4170"
     ]
    },
    {
     "name": "stdout",
     "output_type": "stream",
     "text": [
      "\r- Processing image:    539 / 4170"
     ]
    },
    {
     "name": "stdout",
     "output_type": "stream",
     "text": [
      "\r- Processing image:    540 / 4170"
     ]
    },
    {
     "name": "stdout",
     "output_type": "stream",
     "text": [
      "\r- Processing image:    541 / 4170"
     ]
    },
    {
     "name": "stdout",
     "output_type": "stream",
     "text": [
      "\r- Processing image:    542 / 4170"
     ]
    },
    {
     "name": "stdout",
     "output_type": "stream",
     "text": [
      "\r- Processing image:    543 / 4170"
     ]
    },
    {
     "name": "stdout",
     "output_type": "stream",
     "text": [
      "\r- Processing image:    544 / 4170"
     ]
    },
    {
     "name": "stdout",
     "output_type": "stream",
     "text": [
      "\r- Processing image:    545 / 4170"
     ]
    },
    {
     "name": "stdout",
     "output_type": "stream",
     "text": [
      "\r- Processing image:    546 / 4170"
     ]
    },
    {
     "name": "stdout",
     "output_type": "stream",
     "text": [
      "\r- Processing image:    547 / 4170"
     ]
    },
    {
     "name": "stdout",
     "output_type": "stream",
     "text": [
      "\r- Processing image:    548 / 4170"
     ]
    },
    {
     "name": "stdout",
     "output_type": "stream",
     "text": [
      "\r- Processing image:    549 / 4170"
     ]
    },
    {
     "name": "stdout",
     "output_type": "stream",
     "text": [
      "\r- Processing image:    550 / 4170"
     ]
    },
    {
     "name": "stdout",
     "output_type": "stream",
     "text": [
      "\r- Processing image:    551 / 4170"
     ]
    },
    {
     "name": "stdout",
     "output_type": "stream",
     "text": [
      "\r- Processing image:    552 / 4170"
     ]
    },
    {
     "name": "stdout",
     "output_type": "stream",
     "text": [
      "\r- Processing image:    553 / 4170"
     ]
    },
    {
     "name": "stdout",
     "output_type": "stream",
     "text": [
      "\r- Processing image:    554 / 4170"
     ]
    },
    {
     "name": "stdout",
     "output_type": "stream",
     "text": [
      "\r- Processing image:    555 / 4170"
     ]
    },
    {
     "name": "stdout",
     "output_type": "stream",
     "text": [
      "\r- Processing image:    556 / 4170"
     ]
    },
    {
     "name": "stdout",
     "output_type": "stream",
     "text": [
      "\r- Processing image:    557 / 4170"
     ]
    },
    {
     "name": "stdout",
     "output_type": "stream",
     "text": [
      "\r- Processing image:    558 / 4170"
     ]
    },
    {
     "name": "stdout",
     "output_type": "stream",
     "text": [
      "\r- Processing image:    559 / 4170"
     ]
    },
    {
     "name": "stdout",
     "output_type": "stream",
     "text": [
      "\r- Processing image:    560 / 4170"
     ]
    },
    {
     "name": "stdout",
     "output_type": "stream",
     "text": [
      "\r- Processing image:    561 / 4170"
     ]
    },
    {
     "name": "stdout",
     "output_type": "stream",
     "text": [
      "\r- Processing image:    562 / 4170"
     ]
    },
    {
     "name": "stdout",
     "output_type": "stream",
     "text": [
      "\r- Processing image:    563 / 4170"
     ]
    },
    {
     "name": "stdout",
     "output_type": "stream",
     "text": [
      "\r- Processing image:    564 / 4170"
     ]
    },
    {
     "name": "stdout",
     "output_type": "stream",
     "text": [
      "\r- Processing image:    565 / 4170"
     ]
    },
    {
     "name": "stdout",
     "output_type": "stream",
     "text": [
      "\r- Processing image:    566 / 4170"
     ]
    },
    {
     "name": "stdout",
     "output_type": "stream",
     "text": [
      "\r- Processing image:    567 / 4170"
     ]
    },
    {
     "name": "stdout",
     "output_type": "stream",
     "text": [
      "\r- Processing image:    568 / 4170"
     ]
    },
    {
     "name": "stdout",
     "output_type": "stream",
     "text": [
      "\r- Processing image:    569 / 4170"
     ]
    },
    {
     "name": "stdout",
     "output_type": "stream",
     "text": [
      "\r- Processing image:    570 / 4170"
     ]
    },
    {
     "name": "stdout",
     "output_type": "stream",
     "text": [
      "\r- Processing image:    571 / 4170"
     ]
    },
    {
     "name": "stdout",
     "output_type": "stream",
     "text": [
      "\r- Processing image:    572 / 4170"
     ]
    },
    {
     "name": "stdout",
     "output_type": "stream",
     "text": [
      "\r- Processing image:    573 / 4170"
     ]
    },
    {
     "name": "stdout",
     "output_type": "stream",
     "text": [
      "\r- Processing image:    574 / 4170"
     ]
    },
    {
     "name": "stdout",
     "output_type": "stream",
     "text": [
      "\r- Processing image:    575 / 4170"
     ]
    },
    {
     "name": "stdout",
     "output_type": "stream",
     "text": [
      "\r- Processing image:    576 / 4170"
     ]
    },
    {
     "name": "stdout",
     "output_type": "stream",
     "text": [
      "\r- Processing image:    577 / 4170"
     ]
    },
    {
     "name": "stdout",
     "output_type": "stream",
     "text": [
      "\r- Processing image:    578 / 4170"
     ]
    },
    {
     "name": "stdout",
     "output_type": "stream",
     "text": [
      "\r- Processing image:    579 / 4170"
     ]
    },
    {
     "name": "stdout",
     "output_type": "stream",
     "text": [
      "\r- Processing image:    580 / 4170"
     ]
    },
    {
     "name": "stdout",
     "output_type": "stream",
     "text": [
      "\r- Processing image:    581 / 4170"
     ]
    },
    {
     "name": "stdout",
     "output_type": "stream",
     "text": [
      "\r- Processing image:    582 / 4170"
     ]
    },
    {
     "name": "stdout",
     "output_type": "stream",
     "text": [
      "\r- Processing image:    583 / 4170"
     ]
    },
    {
     "name": "stdout",
     "output_type": "stream",
     "text": [
      "\r- Processing image:    584 / 4170"
     ]
    },
    {
     "name": "stdout",
     "output_type": "stream",
     "text": [
      "\r- Processing image:    585 / 4170"
     ]
    },
    {
     "name": "stdout",
     "output_type": "stream",
     "text": [
      "\r- Processing image:    586 / 4170"
     ]
    },
    {
     "name": "stdout",
     "output_type": "stream",
     "text": [
      "\r- Processing image:    587 / 4170"
     ]
    },
    {
     "name": "stdout",
     "output_type": "stream",
     "text": [
      "\r- Processing image:    588 / 4170"
     ]
    },
    {
     "name": "stdout",
     "output_type": "stream",
     "text": [
      "\r- Processing image:    589 / 4170"
     ]
    },
    {
     "name": "stdout",
     "output_type": "stream",
     "text": [
      "\r- Processing image:    590 / 4170"
     ]
    },
    {
     "name": "stdout",
     "output_type": "stream",
     "text": [
      "\r- Processing image:    591 / 4170"
     ]
    },
    {
     "name": "stdout",
     "output_type": "stream",
     "text": [
      "\r- Processing image:    592 / 4170"
     ]
    },
    {
     "name": "stdout",
     "output_type": "stream",
     "text": [
      "\r- Processing image:    593 / 4170"
     ]
    },
    {
     "name": "stdout",
     "output_type": "stream",
     "text": [
      "\r- Processing image:    594 / 4170"
     ]
    },
    {
     "name": "stdout",
     "output_type": "stream",
     "text": [
      "\r- Processing image:    595 / 4170"
     ]
    },
    {
     "name": "stdout",
     "output_type": "stream",
     "text": [
      "\r- Processing image:    596 / 4170"
     ]
    },
    {
     "name": "stdout",
     "output_type": "stream",
     "text": [
      "\r- Processing image:    597 / 4170"
     ]
    },
    {
     "name": "stdout",
     "output_type": "stream",
     "text": [
      "\r- Processing image:    598 / 4170"
     ]
    },
    {
     "name": "stdout",
     "output_type": "stream",
     "text": [
      "\r- Processing image:    599 / 4170"
     ]
    },
    {
     "name": "stdout",
     "output_type": "stream",
     "text": [
      "\r- Processing image:    600 / 4170"
     ]
    },
    {
     "name": "stdout",
     "output_type": "stream",
     "text": [
      "\r- Processing image:    601 / 4170"
     ]
    },
    {
     "name": "stdout",
     "output_type": "stream",
     "text": [
      "\r- Processing image:    602 / 4170"
     ]
    },
    {
     "name": "stdout",
     "output_type": "stream",
     "text": [
      "\r- Processing image:    603 / 4170"
     ]
    },
    {
     "name": "stdout",
     "output_type": "stream",
     "text": [
      "\r- Processing image:    604 / 4170"
     ]
    },
    {
     "name": "stdout",
     "output_type": "stream",
     "text": [
      "\r- Processing image:    605 / 4170"
     ]
    },
    {
     "name": "stdout",
     "output_type": "stream",
     "text": [
      "\r- Processing image:    606 / 4170"
     ]
    },
    {
     "name": "stdout",
     "output_type": "stream",
     "text": [
      "\r- Processing image:    607 / 4170"
     ]
    },
    {
     "name": "stdout",
     "output_type": "stream",
     "text": [
      "\r- Processing image:    608 / 4170"
     ]
    },
    {
     "name": "stdout",
     "output_type": "stream",
     "text": [
      "\r- Processing image:    609 / 4170"
     ]
    },
    {
     "name": "stdout",
     "output_type": "stream",
     "text": [
      "\r- Processing image:    610 / 4170"
     ]
    },
    {
     "name": "stdout",
     "output_type": "stream",
     "text": [
      "\r- Processing image:    611 / 4170"
     ]
    },
    {
     "name": "stdout",
     "output_type": "stream",
     "text": [
      "\r- Processing image:    612 / 4170"
     ]
    },
    {
     "name": "stdout",
     "output_type": "stream",
     "text": [
      "\r- Processing image:    613 / 4170"
     ]
    },
    {
     "name": "stdout",
     "output_type": "stream",
     "text": [
      "\r- Processing image:    614 / 4170"
     ]
    },
    {
     "name": "stdout",
     "output_type": "stream",
     "text": [
      "\r- Processing image:    615 / 4170"
     ]
    },
    {
     "name": "stdout",
     "output_type": "stream",
     "text": [
      "\r- Processing image:    616 / 4170"
     ]
    },
    {
     "name": "stdout",
     "output_type": "stream",
     "text": [
      "\r- Processing image:    617 / 4170"
     ]
    },
    {
     "name": "stdout",
     "output_type": "stream",
     "text": [
      "\r- Processing image:    618 / 4170"
     ]
    },
    {
     "name": "stdout",
     "output_type": "stream",
     "text": [
      "\r- Processing image:    619 / 4170"
     ]
    },
    {
     "name": "stdout",
     "output_type": "stream",
     "text": [
      "\r- Processing image:    620 / 4170"
     ]
    },
    {
     "name": "stdout",
     "output_type": "stream",
     "text": [
      "\r- Processing image:    621 / 4170"
     ]
    },
    {
     "name": "stdout",
     "output_type": "stream",
     "text": [
      "\r- Processing image:    622 / 4170"
     ]
    },
    {
     "name": "stdout",
     "output_type": "stream",
     "text": [
      "\r- Processing image:    623 / 4170"
     ]
    },
    {
     "name": "stdout",
     "output_type": "stream",
     "text": [
      "\r- Processing image:    624 / 4170"
     ]
    },
    {
     "name": "stdout",
     "output_type": "stream",
     "text": [
      "\r- Processing image:    625 / 4170"
     ]
    },
    {
     "name": "stdout",
     "output_type": "stream",
     "text": [
      "\r- Processing image:    626 / 4170"
     ]
    },
    {
     "name": "stdout",
     "output_type": "stream",
     "text": [
      "\r- Processing image:    627 / 4170"
     ]
    },
    {
     "name": "stdout",
     "output_type": "stream",
     "text": [
      "\r- Processing image:    628 / 4170"
     ]
    },
    {
     "name": "stdout",
     "output_type": "stream",
     "text": [
      "\r- Processing image:    629 / 4170"
     ]
    },
    {
     "name": "stdout",
     "output_type": "stream",
     "text": [
      "\r- Processing image:    630 / 4170"
     ]
    },
    {
     "name": "stdout",
     "output_type": "stream",
     "text": [
      "\r- Processing image:    631 / 4170"
     ]
    },
    {
     "name": "stdout",
     "output_type": "stream",
     "text": [
      "\r- Processing image:    632 / 4170"
     ]
    },
    {
     "name": "stdout",
     "output_type": "stream",
     "text": [
      "\r- Processing image:    633 / 4170"
     ]
    },
    {
     "name": "stdout",
     "output_type": "stream",
     "text": [
      "\r- Processing image:    634 / 4170"
     ]
    },
    {
     "name": "stdout",
     "output_type": "stream",
     "text": [
      "\r- Processing image:    635 / 4170"
     ]
    },
    {
     "name": "stdout",
     "output_type": "stream",
     "text": [
      "\r- Processing image:    636 / 4170"
     ]
    },
    {
     "name": "stdout",
     "output_type": "stream",
     "text": [
      "\r- Processing image:    637 / 4170"
     ]
    },
    {
     "name": "stdout",
     "output_type": "stream",
     "text": [
      "\r- Processing image:    638 / 4170"
     ]
    },
    {
     "name": "stdout",
     "output_type": "stream",
     "text": [
      "\r- Processing image:    639 / 4170"
     ]
    },
    {
     "name": "stdout",
     "output_type": "stream",
     "text": [
      "\r- Processing image:    640 / 4170"
     ]
    },
    {
     "name": "stdout",
     "output_type": "stream",
     "text": [
      "\r- Processing image:    641 / 4170"
     ]
    },
    {
     "name": "stdout",
     "output_type": "stream",
     "text": [
      "\r- Processing image:    642 / 4170"
     ]
    },
    {
     "name": "stdout",
     "output_type": "stream",
     "text": [
      "\r- Processing image:    643 / 4170"
     ]
    },
    {
     "name": "stdout",
     "output_type": "stream",
     "text": [
      "\r- Processing image:    644 / 4170"
     ]
    },
    {
     "name": "stdout",
     "output_type": "stream",
     "text": [
      "\r- Processing image:    645 / 4170"
     ]
    },
    {
     "name": "stdout",
     "output_type": "stream",
     "text": [
      "\r- Processing image:    646 / 4170"
     ]
    },
    {
     "name": "stdout",
     "output_type": "stream",
     "text": [
      "\r- Processing image:    647 / 4170"
     ]
    },
    {
     "name": "stdout",
     "output_type": "stream",
     "text": [
      "\r- Processing image:    648 / 4170"
     ]
    },
    {
     "name": "stdout",
     "output_type": "stream",
     "text": [
      "\r- Processing image:    649 / 4170"
     ]
    },
    {
     "name": "stdout",
     "output_type": "stream",
     "text": [
      "\r- Processing image:    650 / 4170"
     ]
    },
    {
     "name": "stdout",
     "output_type": "stream",
     "text": [
      "\r- Processing image:    651 / 4170"
     ]
    },
    {
     "name": "stdout",
     "output_type": "stream",
     "text": [
      "\r- Processing image:    652 / 4170"
     ]
    },
    {
     "name": "stdout",
     "output_type": "stream",
     "text": [
      "\r- Processing image:    653 / 4170"
     ]
    },
    {
     "name": "stdout",
     "output_type": "stream",
     "text": [
      "\r- Processing image:    654 / 4170"
     ]
    },
    {
     "name": "stdout",
     "output_type": "stream",
     "text": [
      "\r- Processing image:    655 / 4170"
     ]
    },
    {
     "name": "stdout",
     "output_type": "stream",
     "text": [
      "\r- Processing image:    656 / 4170"
     ]
    },
    {
     "name": "stdout",
     "output_type": "stream",
     "text": [
      "\r- Processing image:    657 / 4170"
     ]
    },
    {
     "name": "stdout",
     "output_type": "stream",
     "text": [
      "\r- Processing image:    658 / 4170"
     ]
    },
    {
     "name": "stdout",
     "output_type": "stream",
     "text": [
      "\r- Processing image:    659 / 4170"
     ]
    },
    {
     "name": "stdout",
     "output_type": "stream",
     "text": [
      "\r- Processing image:    660 / 4170"
     ]
    },
    {
     "name": "stdout",
     "output_type": "stream",
     "text": [
      "\r- Processing image:    661 / 4170"
     ]
    },
    {
     "name": "stdout",
     "output_type": "stream",
     "text": [
      "\r- Processing image:    662 / 4170"
     ]
    },
    {
     "name": "stdout",
     "output_type": "stream",
     "text": [
      "\r- Processing image:    663 / 4170"
     ]
    },
    {
     "name": "stdout",
     "output_type": "stream",
     "text": [
      "\r- Processing image:    664 / 4170"
     ]
    },
    {
     "name": "stdout",
     "output_type": "stream",
     "text": [
      "\r- Processing image:    665 / 4170"
     ]
    },
    {
     "name": "stdout",
     "output_type": "stream",
     "text": [
      "\r- Processing image:    666 / 4170"
     ]
    },
    {
     "name": "stdout",
     "output_type": "stream",
     "text": [
      "\r- Processing image:    667 / 4170"
     ]
    },
    {
     "name": "stdout",
     "output_type": "stream",
     "text": [
      "\r- Processing image:    668 / 4170"
     ]
    },
    {
     "name": "stdout",
     "output_type": "stream",
     "text": [
      "\r- Processing image:    669 / 4170"
     ]
    },
    {
     "name": "stdout",
     "output_type": "stream",
     "text": [
      "\r- Processing image:    670 / 4170"
     ]
    },
    {
     "name": "stdout",
     "output_type": "stream",
     "text": [
      "\r- Processing image:    671 / 4170"
     ]
    },
    {
     "name": "stdout",
     "output_type": "stream",
     "text": [
      "\r- Processing image:    672 / 4170"
     ]
    },
    {
     "name": "stdout",
     "output_type": "stream",
     "text": [
      "\r- Processing image:    673 / 4170"
     ]
    },
    {
     "name": "stdout",
     "output_type": "stream",
     "text": [
      "\r- Processing image:    674 / 4170"
     ]
    },
    {
     "name": "stdout",
     "output_type": "stream",
     "text": [
      "\r- Processing image:    675 / 4170"
     ]
    },
    {
     "name": "stdout",
     "output_type": "stream",
     "text": [
      "\r- Processing image:    676 / 4170"
     ]
    },
    {
     "name": "stdout",
     "output_type": "stream",
     "text": [
      "\r- Processing image:    677 / 4170"
     ]
    },
    {
     "name": "stdout",
     "output_type": "stream",
     "text": [
      "\r- Processing image:    678 / 4170"
     ]
    },
    {
     "name": "stdout",
     "output_type": "stream",
     "text": [
      "\r- Processing image:    679 / 4170"
     ]
    },
    {
     "name": "stdout",
     "output_type": "stream",
     "text": [
      "\r- Processing image:    680 / 4170"
     ]
    },
    {
     "name": "stdout",
     "output_type": "stream",
     "text": [
      "\r- Processing image:    681 / 4170"
     ]
    },
    {
     "name": "stdout",
     "output_type": "stream",
     "text": [
      "\r- Processing image:    682 / 4170"
     ]
    },
    {
     "name": "stdout",
     "output_type": "stream",
     "text": [
      "\r- Processing image:    683 / 4170"
     ]
    },
    {
     "name": "stdout",
     "output_type": "stream",
     "text": [
      "\r- Processing image:    684 / 4170"
     ]
    },
    {
     "name": "stdout",
     "output_type": "stream",
     "text": [
      "\r- Processing image:    685 / 4170"
     ]
    },
    {
     "name": "stdout",
     "output_type": "stream",
     "text": [
      "\r- Processing image:    686 / 4170"
     ]
    },
    {
     "name": "stdout",
     "output_type": "stream",
     "text": [
      "\r- Processing image:    687 / 4170"
     ]
    },
    {
     "name": "stdout",
     "output_type": "stream",
     "text": [
      "\r- Processing image:    688 / 4170"
     ]
    },
    {
     "name": "stdout",
     "output_type": "stream",
     "text": [
      "\r- Processing image:    689 / 4170"
     ]
    },
    {
     "name": "stdout",
     "output_type": "stream",
     "text": [
      "\r- Processing image:    690 / 4170"
     ]
    },
    {
     "name": "stdout",
     "output_type": "stream",
     "text": [
      "\r- Processing image:    691 / 4170"
     ]
    },
    {
     "name": "stdout",
     "output_type": "stream",
     "text": [
      "\r- Processing image:    692 / 4170"
     ]
    },
    {
     "name": "stdout",
     "output_type": "stream",
     "text": [
      "\r- Processing image:    693 / 4170"
     ]
    },
    {
     "name": "stdout",
     "output_type": "stream",
     "text": [
      "\r- Processing image:    694 / 4170"
     ]
    },
    {
     "name": "stdout",
     "output_type": "stream",
     "text": [
      "\r- Processing image:    695 / 4170"
     ]
    },
    {
     "name": "stdout",
     "output_type": "stream",
     "text": [
      "\r- Processing image:    696 / 4170"
     ]
    },
    {
     "name": "stdout",
     "output_type": "stream",
     "text": [
      "\r- Processing image:    697 / 4170"
     ]
    },
    {
     "name": "stdout",
     "output_type": "stream",
     "text": [
      "\r- Processing image:    698 / 4170"
     ]
    },
    {
     "name": "stdout",
     "output_type": "stream",
     "text": [
      "\r- Processing image:    699 / 4170"
     ]
    },
    {
     "name": "stdout",
     "output_type": "stream",
     "text": [
      "\r- Processing image:    700 / 4170"
     ]
    },
    {
     "name": "stdout",
     "output_type": "stream",
     "text": [
      "\r- Processing image:    701 / 4170"
     ]
    },
    {
     "name": "stdout",
     "output_type": "stream",
     "text": [
      "\r- Processing image:    702 / 4170"
     ]
    },
    {
     "name": "stdout",
     "output_type": "stream",
     "text": [
      "\r- Processing image:    703 / 4170"
     ]
    },
    {
     "name": "stdout",
     "output_type": "stream",
     "text": [
      "\r- Processing image:    704 / 4170"
     ]
    },
    {
     "name": "stdout",
     "output_type": "stream",
     "text": [
      "\r- Processing image:    705 / 4170"
     ]
    },
    {
     "name": "stdout",
     "output_type": "stream",
     "text": [
      "\r- Processing image:    706 / 4170"
     ]
    },
    {
     "name": "stdout",
     "output_type": "stream",
     "text": [
      "\r- Processing image:    707 / 4170"
     ]
    },
    {
     "name": "stdout",
     "output_type": "stream",
     "text": [
      "\r- Processing image:    708 / 4170"
     ]
    },
    {
     "name": "stdout",
     "output_type": "stream",
     "text": [
      "\r- Processing image:    709 / 4170"
     ]
    },
    {
     "name": "stdout",
     "output_type": "stream",
     "text": [
      "\r- Processing image:    710 / 4170"
     ]
    },
    {
     "name": "stdout",
     "output_type": "stream",
     "text": [
      "\r- Processing image:    711 / 4170"
     ]
    },
    {
     "name": "stdout",
     "output_type": "stream",
     "text": [
      "\r- Processing image:    712 / 4170"
     ]
    },
    {
     "name": "stdout",
     "output_type": "stream",
     "text": [
      "\r- Processing image:    713 / 4170"
     ]
    },
    {
     "name": "stdout",
     "output_type": "stream",
     "text": [
      "\r- Processing image:    714 / 4170"
     ]
    },
    {
     "name": "stdout",
     "output_type": "stream",
     "text": [
      "\r- Processing image:    715 / 4170"
     ]
    },
    {
     "name": "stdout",
     "output_type": "stream",
     "text": [
      "\r- Processing image:    716 / 4170"
     ]
    },
    {
     "name": "stdout",
     "output_type": "stream",
     "text": [
      "\r- Processing image:    717 / 4170"
     ]
    },
    {
     "name": "stdout",
     "output_type": "stream",
     "text": [
      "\r- Processing image:    718 / 4170"
     ]
    },
    {
     "name": "stdout",
     "output_type": "stream",
     "text": [
      "\r- Processing image:    719 / 4170"
     ]
    },
    {
     "name": "stdout",
     "output_type": "stream",
     "text": [
      "\r- Processing image:    720 / 4170"
     ]
    },
    {
     "name": "stdout",
     "output_type": "stream",
     "text": [
      "\r- Processing image:    721 / 4170"
     ]
    },
    {
     "name": "stdout",
     "output_type": "stream",
     "text": [
      "\r- Processing image:    722 / 4170"
     ]
    },
    {
     "name": "stdout",
     "output_type": "stream",
     "text": [
      "\r- Processing image:    723 / 4170"
     ]
    },
    {
     "name": "stdout",
     "output_type": "stream",
     "text": [
      "\r- Processing image:    724 / 4170"
     ]
    },
    {
     "name": "stdout",
     "output_type": "stream",
     "text": [
      "\r- Processing image:    725 / 4170"
     ]
    },
    {
     "name": "stdout",
     "output_type": "stream",
     "text": [
      "\r- Processing image:    726 / 4170"
     ]
    },
    {
     "name": "stdout",
     "output_type": "stream",
     "text": [
      "\r- Processing image:    727 / 4170"
     ]
    },
    {
     "name": "stdout",
     "output_type": "stream",
     "text": [
      "\r- Processing image:    728 / 4170"
     ]
    },
    {
     "name": "stdout",
     "output_type": "stream",
     "text": [
      "\r- Processing image:    729 / 4170"
     ]
    },
    {
     "name": "stdout",
     "output_type": "stream",
     "text": [
      "\r- Processing image:    730 / 4170"
     ]
    },
    {
     "name": "stdout",
     "output_type": "stream",
     "text": [
      "\r- Processing image:    731 / 4170"
     ]
    },
    {
     "name": "stdout",
     "output_type": "stream",
     "text": [
      "\r- Processing image:    732 / 4170"
     ]
    },
    {
     "name": "stdout",
     "output_type": "stream",
     "text": [
      "\r- Processing image:    733 / 4170"
     ]
    },
    {
     "name": "stdout",
     "output_type": "stream",
     "text": [
      "\r- Processing image:    734 / 4170"
     ]
    },
    {
     "name": "stdout",
     "output_type": "stream",
     "text": [
      "\r- Processing image:    735 / 4170"
     ]
    },
    {
     "name": "stdout",
     "output_type": "stream",
     "text": [
      "\r- Processing image:    736 / 4170"
     ]
    },
    {
     "name": "stdout",
     "output_type": "stream",
     "text": [
      "\r- Processing image:    737 / 4170"
     ]
    },
    {
     "name": "stdout",
     "output_type": "stream",
     "text": [
      "\r- Processing image:    738 / 4170"
     ]
    },
    {
     "name": "stdout",
     "output_type": "stream",
     "text": [
      "\r- Processing image:    739 / 4170"
     ]
    },
    {
     "name": "stdout",
     "output_type": "stream",
     "text": [
      "\r- Processing image:    740 / 4170"
     ]
    },
    {
     "name": "stdout",
     "output_type": "stream",
     "text": [
      "\r- Processing image:    741 / 4170"
     ]
    },
    {
     "name": "stdout",
     "output_type": "stream",
     "text": [
      "\r- Processing image:    742 / 4170"
     ]
    },
    {
     "name": "stdout",
     "output_type": "stream",
     "text": [
      "\r- Processing image:    743 / 4170"
     ]
    },
    {
     "name": "stdout",
     "output_type": "stream",
     "text": [
      "\r- Processing image:    744 / 4170"
     ]
    },
    {
     "name": "stdout",
     "output_type": "stream",
     "text": [
      "\r- Processing image:    745 / 4170"
     ]
    },
    {
     "name": "stdout",
     "output_type": "stream",
     "text": [
      "\r- Processing image:    746 / 4170"
     ]
    },
    {
     "name": "stdout",
     "output_type": "stream",
     "text": [
      "\r- Processing image:    747 / 4170"
     ]
    },
    {
     "name": "stdout",
     "output_type": "stream",
     "text": [
      "\r- Processing image:    748 / 4170"
     ]
    },
    {
     "name": "stdout",
     "output_type": "stream",
     "text": [
      "\r- Processing image:    749 / 4170"
     ]
    },
    {
     "name": "stdout",
     "output_type": "stream",
     "text": [
      "\r- Processing image:    750 / 4170"
     ]
    },
    {
     "name": "stdout",
     "output_type": "stream",
     "text": [
      "\r- Processing image:    751 / 4170"
     ]
    },
    {
     "name": "stdout",
     "output_type": "stream",
     "text": [
      "\r- Processing image:    752 / 4170"
     ]
    },
    {
     "name": "stdout",
     "output_type": "stream",
     "text": [
      "\r- Processing image:    753 / 4170"
     ]
    },
    {
     "name": "stdout",
     "output_type": "stream",
     "text": [
      "\r- Processing image:    754 / 4170"
     ]
    },
    {
     "name": "stdout",
     "output_type": "stream",
     "text": [
      "\r- Processing image:    755 / 4170"
     ]
    },
    {
     "name": "stdout",
     "output_type": "stream",
     "text": [
      "\r- Processing image:    756 / 4170"
     ]
    },
    {
     "name": "stdout",
     "output_type": "stream",
     "text": [
      "\r- Processing image:    757 / 4170"
     ]
    },
    {
     "name": "stdout",
     "output_type": "stream",
     "text": [
      "\r- Processing image:    758 / 4170"
     ]
    },
    {
     "name": "stdout",
     "output_type": "stream",
     "text": [
      "\r- Processing image:    759 / 4170"
     ]
    },
    {
     "name": "stdout",
     "output_type": "stream",
     "text": [
      "\r- Processing image:    760 / 4170"
     ]
    },
    {
     "name": "stdout",
     "output_type": "stream",
     "text": [
      "\r- Processing image:    761 / 4170"
     ]
    },
    {
     "name": "stdout",
     "output_type": "stream",
     "text": [
      "\r- Processing image:    762 / 4170"
     ]
    },
    {
     "name": "stdout",
     "output_type": "stream",
     "text": [
      "\r- Processing image:    763 / 4170"
     ]
    },
    {
     "name": "stdout",
     "output_type": "stream",
     "text": [
      "\r- Processing image:    764 / 4170"
     ]
    },
    {
     "name": "stdout",
     "output_type": "stream",
     "text": [
      "\r- Processing image:    765 / 4170"
     ]
    },
    {
     "name": "stdout",
     "output_type": "stream",
     "text": [
      "\r- Processing image:    766 / 4170"
     ]
    },
    {
     "name": "stdout",
     "output_type": "stream",
     "text": [
      "\r- Processing image:    767 / 4170"
     ]
    },
    {
     "name": "stdout",
     "output_type": "stream",
     "text": [
      "\r- Processing image:    768 / 4170"
     ]
    },
    {
     "name": "stdout",
     "output_type": "stream",
     "text": [
      "\r- Processing image:    769 / 4170"
     ]
    },
    {
     "name": "stdout",
     "output_type": "stream",
     "text": [
      "\r- Processing image:    770 / 4170"
     ]
    },
    {
     "name": "stdout",
     "output_type": "stream",
     "text": [
      "\r- Processing image:    771 / 4170"
     ]
    },
    {
     "name": "stdout",
     "output_type": "stream",
     "text": [
      "\r- Processing image:    772 / 4170"
     ]
    },
    {
     "name": "stdout",
     "output_type": "stream",
     "text": [
      "\r- Processing image:    773 / 4170"
     ]
    },
    {
     "name": "stdout",
     "output_type": "stream",
     "text": [
      "\r- Processing image:    774 / 4170"
     ]
    },
    {
     "name": "stdout",
     "output_type": "stream",
     "text": [
      "\r- Processing image:    775 / 4170"
     ]
    },
    {
     "name": "stdout",
     "output_type": "stream",
     "text": [
      "\r- Processing image:    776 / 4170"
     ]
    },
    {
     "name": "stdout",
     "output_type": "stream",
     "text": [
      "\r- Processing image:    777 / 4170"
     ]
    },
    {
     "name": "stdout",
     "output_type": "stream",
     "text": [
      "\r- Processing image:    778 / 4170"
     ]
    },
    {
     "name": "stdout",
     "output_type": "stream",
     "text": [
      "\r- Processing image:    779 / 4170"
     ]
    },
    {
     "name": "stdout",
     "output_type": "stream",
     "text": [
      "\r- Processing image:    780 / 4170"
     ]
    },
    {
     "name": "stdout",
     "output_type": "stream",
     "text": [
      "\r- Processing image:    781 / 4170"
     ]
    },
    {
     "name": "stdout",
     "output_type": "stream",
     "text": [
      "\r- Processing image:    782 / 4170"
     ]
    },
    {
     "name": "stdout",
     "output_type": "stream",
     "text": [
      "\r- Processing image:    783 / 4170"
     ]
    },
    {
     "name": "stdout",
     "output_type": "stream",
     "text": [
      "\r- Processing image:    784 / 4170"
     ]
    },
    {
     "name": "stdout",
     "output_type": "stream",
     "text": [
      "\r- Processing image:    785 / 4170"
     ]
    },
    {
     "name": "stdout",
     "output_type": "stream",
     "text": [
      "\r- Processing image:    786 / 4170"
     ]
    },
    {
     "name": "stdout",
     "output_type": "stream",
     "text": [
      "\r- Processing image:    787 / 4170"
     ]
    },
    {
     "name": "stdout",
     "output_type": "stream",
     "text": [
      "\r- Processing image:    788 / 4170"
     ]
    },
    {
     "name": "stdout",
     "output_type": "stream",
     "text": [
      "\r- Processing image:    789 / 4170"
     ]
    },
    {
     "name": "stdout",
     "output_type": "stream",
     "text": [
      "\r- Processing image:    790 / 4170"
     ]
    },
    {
     "name": "stdout",
     "output_type": "stream",
     "text": [
      "\r- Processing image:    791 / 4170"
     ]
    },
    {
     "name": "stdout",
     "output_type": "stream",
     "text": [
      "\r- Processing image:    792 / 4170"
     ]
    },
    {
     "name": "stdout",
     "output_type": "stream",
     "text": [
      "\r- Processing image:    793 / 4170"
     ]
    },
    {
     "name": "stdout",
     "output_type": "stream",
     "text": [
      "\r- Processing image:    794 / 4170"
     ]
    },
    {
     "name": "stdout",
     "output_type": "stream",
     "text": [
      "\r- Processing image:    795 / 4170"
     ]
    },
    {
     "name": "stdout",
     "output_type": "stream",
     "text": [
      "\r- Processing image:    796 / 4170"
     ]
    },
    {
     "name": "stdout",
     "output_type": "stream",
     "text": [
      "\r- Processing image:    797 / 4170"
     ]
    },
    {
     "name": "stdout",
     "output_type": "stream",
     "text": [
      "\r- Processing image:    798 / 4170"
     ]
    },
    {
     "name": "stdout",
     "output_type": "stream",
     "text": [
      "\r- Processing image:    799 / 4170"
     ]
    },
    {
     "name": "stdout",
     "output_type": "stream",
     "text": [
      "\r- Processing image:    800 / 4170"
     ]
    },
    {
     "name": "stdout",
     "output_type": "stream",
     "text": [
      "\r- Processing image:    801 / 4170"
     ]
    },
    {
     "name": "stdout",
     "output_type": "stream",
     "text": [
      "\r- Processing image:    802 / 4170"
     ]
    },
    {
     "name": "stdout",
     "output_type": "stream",
     "text": [
      "\r- Processing image:    803 / 4170"
     ]
    },
    {
     "name": "stdout",
     "output_type": "stream",
     "text": [
      "\r- Processing image:    804 / 4170"
     ]
    },
    {
     "name": "stdout",
     "output_type": "stream",
     "text": [
      "\r- Processing image:    805 / 4170"
     ]
    },
    {
     "name": "stdout",
     "output_type": "stream",
     "text": [
      "\r- Processing image:    806 / 4170"
     ]
    },
    {
     "name": "stdout",
     "output_type": "stream",
     "text": [
      "\r- Processing image:    807 / 4170"
     ]
    },
    {
     "name": "stdout",
     "output_type": "stream",
     "text": [
      "\r- Processing image:    808 / 4170"
     ]
    },
    {
     "name": "stdout",
     "output_type": "stream",
     "text": [
      "\r- Processing image:    809 / 4170"
     ]
    },
    {
     "name": "stdout",
     "output_type": "stream",
     "text": [
      "\r- Processing image:    810 / 4170"
     ]
    },
    {
     "name": "stdout",
     "output_type": "stream",
     "text": [
      "\r- Processing image:    811 / 4170"
     ]
    },
    {
     "name": "stdout",
     "output_type": "stream",
     "text": [
      "\r- Processing image:    812 / 4170"
     ]
    },
    {
     "name": "stdout",
     "output_type": "stream",
     "text": [
      "\r- Processing image:    813 / 4170"
     ]
    },
    {
     "name": "stdout",
     "output_type": "stream",
     "text": [
      "\r- Processing image:    814 / 4170"
     ]
    },
    {
     "name": "stdout",
     "output_type": "stream",
     "text": [
      "\r- Processing image:    815 / 4170"
     ]
    },
    {
     "name": "stdout",
     "output_type": "stream",
     "text": [
      "\r- Processing image:    816 / 4170"
     ]
    },
    {
     "name": "stdout",
     "output_type": "stream",
     "text": [
      "\r- Processing image:    817 / 4170"
     ]
    },
    {
     "name": "stdout",
     "output_type": "stream",
     "text": [
      "\r- Processing image:    818 / 4170"
     ]
    },
    {
     "name": "stdout",
     "output_type": "stream",
     "text": [
      "\r- Processing image:    819 / 4170"
     ]
    },
    {
     "name": "stdout",
     "output_type": "stream",
     "text": [
      "\r- Processing image:    820 / 4170"
     ]
    },
    {
     "name": "stdout",
     "output_type": "stream",
     "text": [
      "\r- Processing image:    821 / 4170"
     ]
    },
    {
     "name": "stdout",
     "output_type": "stream",
     "text": [
      "\r- Processing image:    822 / 4170"
     ]
    },
    {
     "name": "stdout",
     "output_type": "stream",
     "text": [
      "\r- Processing image:    823 / 4170"
     ]
    },
    {
     "name": "stdout",
     "output_type": "stream",
     "text": [
      "\r- Processing image:    824 / 4170"
     ]
    },
    {
     "name": "stdout",
     "output_type": "stream",
     "text": [
      "\r- Processing image:    825 / 4170"
     ]
    },
    {
     "name": "stdout",
     "output_type": "stream",
     "text": [
      "\r- Processing image:    826 / 4170"
     ]
    },
    {
     "name": "stdout",
     "output_type": "stream",
     "text": [
      "\r- Processing image:    827 / 4170"
     ]
    },
    {
     "name": "stdout",
     "output_type": "stream",
     "text": [
      "\r- Processing image:    828 / 4170"
     ]
    },
    {
     "name": "stdout",
     "output_type": "stream",
     "text": [
      "\r- Processing image:    829 / 4170"
     ]
    },
    {
     "name": "stdout",
     "output_type": "stream",
     "text": [
      "\r- Processing image:    830 / 4170"
     ]
    },
    {
     "name": "stdout",
     "output_type": "stream",
     "text": [
      "\r- Processing image:    831 / 4170"
     ]
    },
    {
     "name": "stdout",
     "output_type": "stream",
     "text": [
      "\r- Processing image:    832 / 4170"
     ]
    },
    {
     "name": "stdout",
     "output_type": "stream",
     "text": [
      "\r- Processing image:    833 / 4170"
     ]
    },
    {
     "name": "stdout",
     "output_type": "stream",
     "text": [
      "\r- Processing image:    834 / 4170"
     ]
    },
    {
     "name": "stdout",
     "output_type": "stream",
     "text": [
      "\r- Processing image:    835 / 4170"
     ]
    },
    {
     "name": "stdout",
     "output_type": "stream",
     "text": [
      "\r- Processing image:    836 / 4170"
     ]
    },
    {
     "name": "stdout",
     "output_type": "stream",
     "text": [
      "\r- Processing image:    837 / 4170"
     ]
    },
    {
     "name": "stdout",
     "output_type": "stream",
     "text": [
      "\r- Processing image:    838 / 4170"
     ]
    },
    {
     "name": "stdout",
     "output_type": "stream",
     "text": [
      "\r- Processing image:    839 / 4170"
     ]
    },
    {
     "name": "stdout",
     "output_type": "stream",
     "text": [
      "\r- Processing image:    840 / 4170"
     ]
    },
    {
     "name": "stdout",
     "output_type": "stream",
     "text": [
      "\r- Processing image:    841 / 4170"
     ]
    },
    {
     "name": "stdout",
     "output_type": "stream",
     "text": [
      "\r- Processing image:    842 / 4170"
     ]
    },
    {
     "name": "stdout",
     "output_type": "stream",
     "text": [
      "\r- Processing image:    843 / 4170"
     ]
    },
    {
     "name": "stdout",
     "output_type": "stream",
     "text": [
      "\r- Processing image:    844 / 4170"
     ]
    },
    {
     "name": "stdout",
     "output_type": "stream",
     "text": [
      "\r- Processing image:    845 / 4170"
     ]
    },
    {
     "name": "stdout",
     "output_type": "stream",
     "text": [
      "\r- Processing image:    846 / 4170"
     ]
    },
    {
     "name": "stdout",
     "output_type": "stream",
     "text": [
      "\r- Processing image:    847 / 4170"
     ]
    },
    {
     "name": "stdout",
     "output_type": "stream",
     "text": [
      "\r- Processing image:    848 / 4170"
     ]
    },
    {
     "name": "stdout",
     "output_type": "stream",
     "text": [
      "\r- Processing image:    849 / 4170"
     ]
    },
    {
     "name": "stdout",
     "output_type": "stream",
     "text": [
      "\r- Processing image:    850 / 4170"
     ]
    },
    {
     "name": "stdout",
     "output_type": "stream",
     "text": [
      "\r- Processing image:    851 / 4170"
     ]
    },
    {
     "name": "stdout",
     "output_type": "stream",
     "text": [
      "\r- Processing image:    852 / 4170"
     ]
    },
    {
     "name": "stdout",
     "output_type": "stream",
     "text": [
      "\r- Processing image:    853 / 4170"
     ]
    },
    {
     "name": "stdout",
     "output_type": "stream",
     "text": [
      "\r- Processing image:    854 / 4170"
     ]
    },
    {
     "name": "stdout",
     "output_type": "stream",
     "text": [
      "\r- Processing image:    855 / 4170"
     ]
    },
    {
     "name": "stdout",
     "output_type": "stream",
     "text": [
      "\r- Processing image:    856 / 4170"
     ]
    },
    {
     "name": "stdout",
     "output_type": "stream",
     "text": [
      "\r- Processing image:    857 / 4170"
     ]
    },
    {
     "name": "stdout",
     "output_type": "stream",
     "text": [
      "\r- Processing image:    858 / 4170"
     ]
    },
    {
     "name": "stdout",
     "output_type": "stream",
     "text": [
      "\r- Processing image:    859 / 4170"
     ]
    },
    {
     "name": "stdout",
     "output_type": "stream",
     "text": [
      "\r- Processing image:    860 / 4170"
     ]
    },
    {
     "name": "stdout",
     "output_type": "stream",
     "text": [
      "\r- Processing image:    861 / 4170"
     ]
    },
    {
     "name": "stdout",
     "output_type": "stream",
     "text": [
      "\r- Processing image:    862 / 4170"
     ]
    },
    {
     "name": "stdout",
     "output_type": "stream",
     "text": [
      "\r- Processing image:    863 / 4170"
     ]
    },
    {
     "name": "stdout",
     "output_type": "stream",
     "text": [
      "\r- Processing image:    864 / 4170"
     ]
    },
    {
     "name": "stdout",
     "output_type": "stream",
     "text": [
      "\r- Processing image:    865 / 4170"
     ]
    },
    {
     "name": "stdout",
     "output_type": "stream",
     "text": [
      "\r- Processing image:    866 / 4170"
     ]
    },
    {
     "name": "stdout",
     "output_type": "stream",
     "text": [
      "\r- Processing image:    867 / 4170"
     ]
    },
    {
     "name": "stdout",
     "output_type": "stream",
     "text": [
      "\r- Processing image:    868 / 4170"
     ]
    },
    {
     "name": "stdout",
     "output_type": "stream",
     "text": [
      "\r- Processing image:    869 / 4170"
     ]
    },
    {
     "name": "stdout",
     "output_type": "stream",
     "text": [
      "\r- Processing image:    870 / 4170"
     ]
    },
    {
     "name": "stdout",
     "output_type": "stream",
     "text": [
      "\r- Processing image:    871 / 4170"
     ]
    },
    {
     "name": "stdout",
     "output_type": "stream",
     "text": [
      "\r- Processing image:    872 / 4170"
     ]
    },
    {
     "name": "stdout",
     "output_type": "stream",
     "text": [
      "\r- Processing image:    873 / 4170"
     ]
    },
    {
     "name": "stdout",
     "output_type": "stream",
     "text": [
      "\r- Processing image:    874 / 4170"
     ]
    },
    {
     "name": "stdout",
     "output_type": "stream",
     "text": [
      "\r- Processing image:    875 / 4170"
     ]
    },
    {
     "name": "stdout",
     "output_type": "stream",
     "text": [
      "\r- Processing image:    876 / 4170"
     ]
    },
    {
     "name": "stdout",
     "output_type": "stream",
     "text": [
      "\r- Processing image:    877 / 4170"
     ]
    },
    {
     "name": "stdout",
     "output_type": "stream",
     "text": [
      "\r- Processing image:    878 / 4170"
     ]
    },
    {
     "name": "stdout",
     "output_type": "stream",
     "text": [
      "\r- Processing image:    879 / 4170"
     ]
    },
    {
     "name": "stdout",
     "output_type": "stream",
     "text": [
      "\r- Processing image:    880 / 4170"
     ]
    },
    {
     "name": "stdout",
     "output_type": "stream",
     "text": [
      "\r- Processing image:    881 / 4170"
     ]
    },
    {
     "name": "stdout",
     "output_type": "stream",
     "text": [
      "\r- Processing image:    882 / 4170"
     ]
    },
    {
     "name": "stdout",
     "output_type": "stream",
     "text": [
      "\r- Processing image:    883 / 4170"
     ]
    },
    {
     "name": "stdout",
     "output_type": "stream",
     "text": [
      "\r- Processing image:    884 / 4170"
     ]
    },
    {
     "name": "stdout",
     "output_type": "stream",
     "text": [
      "\r- Processing image:    885 / 4170"
     ]
    },
    {
     "name": "stdout",
     "output_type": "stream",
     "text": [
      "\r- Processing image:    886 / 4170"
     ]
    },
    {
     "name": "stdout",
     "output_type": "stream",
     "text": [
      "\r- Processing image:    887 / 4170"
     ]
    },
    {
     "name": "stdout",
     "output_type": "stream",
     "text": [
      "\r- Processing image:    888 / 4170"
     ]
    },
    {
     "name": "stdout",
     "output_type": "stream",
     "text": [
      "\r- Processing image:    889 / 4170"
     ]
    },
    {
     "name": "stdout",
     "output_type": "stream",
     "text": [
      "\r- Processing image:    890 / 4170"
     ]
    },
    {
     "name": "stdout",
     "output_type": "stream",
     "text": [
      "\r- Processing image:    891 / 4170"
     ]
    },
    {
     "name": "stdout",
     "output_type": "stream",
     "text": [
      "\r- Processing image:    892 / 4170"
     ]
    },
    {
     "name": "stdout",
     "output_type": "stream",
     "text": [
      "\r- Processing image:    893 / 4170"
     ]
    },
    {
     "name": "stdout",
     "output_type": "stream",
     "text": [
      "\r- Processing image:    894 / 4170"
     ]
    },
    {
     "name": "stdout",
     "output_type": "stream",
     "text": [
      "\r- Processing image:    895 / 4170"
     ]
    },
    {
     "name": "stdout",
     "output_type": "stream",
     "text": [
      "\r- Processing image:    896 / 4170"
     ]
    },
    {
     "name": "stdout",
     "output_type": "stream",
     "text": [
      "\r- Processing image:    897 / 4170"
     ]
    },
    {
     "name": "stdout",
     "output_type": "stream",
     "text": [
      "\r- Processing image:    898 / 4170"
     ]
    },
    {
     "name": "stdout",
     "output_type": "stream",
     "text": [
      "\r- Processing image:    899 / 4170"
     ]
    },
    {
     "name": "stdout",
     "output_type": "stream",
     "text": [
      "\r- Processing image:    900 / 4170"
     ]
    },
    {
     "name": "stdout",
     "output_type": "stream",
     "text": [
      "\r- Processing image:    901 / 4170"
     ]
    },
    {
     "name": "stdout",
     "output_type": "stream",
     "text": [
      "\r- Processing image:    902 / 4170"
     ]
    },
    {
     "name": "stdout",
     "output_type": "stream",
     "text": [
      "\r- Processing image:    903 / 4170"
     ]
    },
    {
     "name": "stdout",
     "output_type": "stream",
     "text": [
      "\r- Processing image:    904 / 4170"
     ]
    },
    {
     "name": "stdout",
     "output_type": "stream",
     "text": [
      "\r- Processing image:    905 / 4170"
     ]
    },
    {
     "name": "stdout",
     "output_type": "stream",
     "text": [
      "\r- Processing image:    906 / 4170"
     ]
    },
    {
     "name": "stdout",
     "output_type": "stream",
     "text": [
      "\r- Processing image:    907 / 4170"
     ]
    },
    {
     "name": "stdout",
     "output_type": "stream",
     "text": [
      "\r- Processing image:    908 / 4170"
     ]
    },
    {
     "name": "stdout",
     "output_type": "stream",
     "text": [
      "\r- Processing image:    909 / 4170"
     ]
    },
    {
     "name": "stdout",
     "output_type": "stream",
     "text": [
      "\r- Processing image:    910 / 4170"
     ]
    },
    {
     "name": "stdout",
     "output_type": "stream",
     "text": [
      "\r- Processing image:    911 / 4170"
     ]
    },
    {
     "name": "stdout",
     "output_type": "stream",
     "text": [
      "\r- Processing image:    912 / 4170"
     ]
    },
    {
     "name": "stdout",
     "output_type": "stream",
     "text": [
      "\r- Processing image:    913 / 4170"
     ]
    },
    {
     "name": "stdout",
     "output_type": "stream",
     "text": [
      "\r- Processing image:    914 / 4170"
     ]
    },
    {
     "name": "stdout",
     "output_type": "stream",
     "text": [
      "\r- Processing image:    915 / 4170"
     ]
    },
    {
     "name": "stdout",
     "output_type": "stream",
     "text": [
      "\r- Processing image:    916 / 4170"
     ]
    },
    {
     "name": "stdout",
     "output_type": "stream",
     "text": [
      "\r- Processing image:    917 / 4170"
     ]
    },
    {
     "name": "stdout",
     "output_type": "stream",
     "text": [
      "\r- Processing image:    918 / 4170"
     ]
    },
    {
     "name": "stdout",
     "output_type": "stream",
     "text": [
      "\r- Processing image:    919 / 4170"
     ]
    },
    {
     "name": "stdout",
     "output_type": "stream",
     "text": [
      "\r- Processing image:    920 / 4170"
     ]
    },
    {
     "name": "stdout",
     "output_type": "stream",
     "text": [
      "\r- Processing image:    921 / 4170"
     ]
    },
    {
     "name": "stdout",
     "output_type": "stream",
     "text": [
      "\r- Processing image:    922 / 4170"
     ]
    },
    {
     "name": "stdout",
     "output_type": "stream",
     "text": [
      "\r- Processing image:    923 / 4170"
     ]
    },
    {
     "name": "stdout",
     "output_type": "stream",
     "text": [
      "\r- Processing image:    924 / 4170"
     ]
    },
    {
     "name": "stdout",
     "output_type": "stream",
     "text": [
      "\r- Processing image:    925 / 4170"
     ]
    },
    {
     "name": "stdout",
     "output_type": "stream",
     "text": [
      "\r- Processing image:    926 / 4170"
     ]
    },
    {
     "name": "stdout",
     "output_type": "stream",
     "text": [
      "\r- Processing image:    927 / 4170"
     ]
    },
    {
     "name": "stdout",
     "output_type": "stream",
     "text": [
      "\r- Processing image:    928 / 4170"
     ]
    },
    {
     "name": "stdout",
     "output_type": "stream",
     "text": [
      "\r- Processing image:    929 / 4170"
     ]
    },
    {
     "name": "stdout",
     "output_type": "stream",
     "text": [
      "\r- Processing image:    930 / 4170"
     ]
    },
    {
     "name": "stdout",
     "output_type": "stream",
     "text": [
      "\r- Processing image:    931 / 4170"
     ]
    },
    {
     "name": "stdout",
     "output_type": "stream",
     "text": [
      "\r- Processing image:    932 / 4170"
     ]
    },
    {
     "name": "stdout",
     "output_type": "stream",
     "text": [
      "\r- Processing image:    933 / 4170"
     ]
    },
    {
     "name": "stdout",
     "output_type": "stream",
     "text": [
      "\r- Processing image:    934 / 4170"
     ]
    },
    {
     "name": "stdout",
     "output_type": "stream",
     "text": [
      "\r- Processing image:    935 / 4170"
     ]
    },
    {
     "name": "stdout",
     "output_type": "stream",
     "text": [
      "\r- Processing image:    936 / 4170"
     ]
    },
    {
     "name": "stdout",
     "output_type": "stream",
     "text": [
      "\r- Processing image:    937 / 4170"
     ]
    },
    {
     "name": "stdout",
     "output_type": "stream",
     "text": [
      "\r- Processing image:    938 / 4170"
     ]
    },
    {
     "name": "stdout",
     "output_type": "stream",
     "text": [
      "\r- Processing image:    939 / 4170"
     ]
    },
    {
     "name": "stdout",
     "output_type": "stream",
     "text": [
      "\r- Processing image:    940 / 4170"
     ]
    },
    {
     "name": "stdout",
     "output_type": "stream",
     "text": [
      "\r- Processing image:    941 / 4170"
     ]
    },
    {
     "name": "stdout",
     "output_type": "stream",
     "text": [
      "\r- Processing image:    942 / 4170"
     ]
    },
    {
     "name": "stdout",
     "output_type": "stream",
     "text": [
      "\r- Processing image:    943 / 4170"
     ]
    },
    {
     "name": "stdout",
     "output_type": "stream",
     "text": [
      "\r- Processing image:    944 / 4170"
     ]
    },
    {
     "name": "stdout",
     "output_type": "stream",
     "text": [
      "\r- Processing image:    945 / 4170"
     ]
    },
    {
     "name": "stdout",
     "output_type": "stream",
     "text": [
      "\r- Processing image:    946 / 4170"
     ]
    },
    {
     "name": "stdout",
     "output_type": "stream",
     "text": [
      "\r- Processing image:    947 / 4170"
     ]
    },
    {
     "name": "stdout",
     "output_type": "stream",
     "text": [
      "\r- Processing image:    948 / 4170"
     ]
    },
    {
     "name": "stdout",
     "output_type": "stream",
     "text": [
      "\r- Processing image:    949 / 4170"
     ]
    },
    {
     "name": "stdout",
     "output_type": "stream",
     "text": [
      "\r- Processing image:    950 / 4170"
     ]
    },
    {
     "name": "stdout",
     "output_type": "stream",
     "text": [
      "\r- Processing image:    951 / 4170"
     ]
    },
    {
     "name": "stdout",
     "output_type": "stream",
     "text": [
      "\r- Processing image:    952 / 4170"
     ]
    },
    {
     "name": "stdout",
     "output_type": "stream",
     "text": [
      "\r- Processing image:    953 / 4170"
     ]
    },
    {
     "name": "stdout",
     "output_type": "stream",
     "text": [
      "\r- Processing image:    954 / 4170"
     ]
    },
    {
     "name": "stdout",
     "output_type": "stream",
     "text": [
      "\r- Processing image:    955 / 4170"
     ]
    },
    {
     "name": "stdout",
     "output_type": "stream",
     "text": [
      "\r- Processing image:    956 / 4170"
     ]
    },
    {
     "name": "stdout",
     "output_type": "stream",
     "text": [
      "\r- Processing image:    957 / 4170"
     ]
    },
    {
     "name": "stdout",
     "output_type": "stream",
     "text": [
      "\r- Processing image:    958 / 4170"
     ]
    },
    {
     "name": "stdout",
     "output_type": "stream",
     "text": [
      "\r- Processing image:    959 / 4170"
     ]
    },
    {
     "name": "stdout",
     "output_type": "stream",
     "text": [
      "\r- Processing image:    960 / 4170"
     ]
    },
    {
     "name": "stdout",
     "output_type": "stream",
     "text": [
      "\r- Processing image:    961 / 4170"
     ]
    },
    {
     "name": "stdout",
     "output_type": "stream",
     "text": [
      "\r- Processing image:    962 / 4170"
     ]
    },
    {
     "name": "stdout",
     "output_type": "stream",
     "text": [
      "\r- Processing image:    963 / 4170"
     ]
    },
    {
     "name": "stdout",
     "output_type": "stream",
     "text": [
      "\r- Processing image:    964 / 4170"
     ]
    },
    {
     "name": "stdout",
     "output_type": "stream",
     "text": [
      "\r- Processing image:    965 / 4170"
     ]
    },
    {
     "name": "stdout",
     "output_type": "stream",
     "text": [
      "\r- Processing image:    966 / 4170"
     ]
    },
    {
     "name": "stdout",
     "output_type": "stream",
     "text": [
      "\r- Processing image:    967 / 4170"
     ]
    },
    {
     "name": "stdout",
     "output_type": "stream",
     "text": [
      "\r- Processing image:    968 / 4170"
     ]
    },
    {
     "name": "stdout",
     "output_type": "stream",
     "text": [
      "\r- Processing image:    969 / 4170"
     ]
    },
    {
     "name": "stdout",
     "output_type": "stream",
     "text": [
      "\r- Processing image:    970 / 4170"
     ]
    },
    {
     "name": "stdout",
     "output_type": "stream",
     "text": [
      "\r- Processing image:    971 / 4170"
     ]
    },
    {
     "name": "stdout",
     "output_type": "stream",
     "text": [
      "\r- Processing image:    972 / 4170"
     ]
    },
    {
     "name": "stdout",
     "output_type": "stream",
     "text": [
      "\r- Processing image:    973 / 4170"
     ]
    },
    {
     "name": "stdout",
     "output_type": "stream",
     "text": [
      "\r- Processing image:    974 / 4170"
     ]
    },
    {
     "name": "stdout",
     "output_type": "stream",
     "text": [
      "\r- Processing image:    975 / 4170"
     ]
    },
    {
     "name": "stdout",
     "output_type": "stream",
     "text": [
      "\r- Processing image:    976 / 4170"
     ]
    },
    {
     "name": "stdout",
     "output_type": "stream",
     "text": [
      "\r- Processing image:    977 / 4170"
     ]
    },
    {
     "name": "stdout",
     "output_type": "stream",
     "text": [
      "\r- Processing image:    978 / 4170"
     ]
    },
    {
     "name": "stdout",
     "output_type": "stream",
     "text": [
      "\r- Processing image:    979 / 4170"
     ]
    },
    {
     "name": "stdout",
     "output_type": "stream",
     "text": [
      "\r- Processing image:    980 / 4170"
     ]
    },
    {
     "name": "stdout",
     "output_type": "stream",
     "text": [
      "\r- Processing image:    981 / 4170"
     ]
    },
    {
     "name": "stdout",
     "output_type": "stream",
     "text": [
      "\r- Processing image:    982 / 4170"
     ]
    },
    {
     "name": "stdout",
     "output_type": "stream",
     "text": [
      "\r- Processing image:    983 / 4170"
     ]
    },
    {
     "name": "stdout",
     "output_type": "stream",
     "text": [
      "\r- Processing image:    984 / 4170"
     ]
    },
    {
     "name": "stdout",
     "output_type": "stream",
     "text": [
      "\r- Processing image:    985 / 4170"
     ]
    },
    {
     "name": "stdout",
     "output_type": "stream",
     "text": [
      "\r- Processing image:    986 / 4170"
     ]
    },
    {
     "name": "stdout",
     "output_type": "stream",
     "text": [
      "\r- Processing image:    987 / 4170"
     ]
    },
    {
     "name": "stdout",
     "output_type": "stream",
     "text": [
      "\r- Processing image:    988 / 4170"
     ]
    },
    {
     "name": "stdout",
     "output_type": "stream",
     "text": [
      "\r- Processing image:    989 / 4170"
     ]
    },
    {
     "name": "stdout",
     "output_type": "stream",
     "text": [
      "\r- Processing image:    990 / 4170"
     ]
    },
    {
     "name": "stdout",
     "output_type": "stream",
     "text": [
      "\r- Processing image:    991 / 4170"
     ]
    },
    {
     "name": "stdout",
     "output_type": "stream",
     "text": [
      "\r- Processing image:    992 / 4170"
     ]
    },
    {
     "name": "stdout",
     "output_type": "stream",
     "text": [
      "\r- Processing image:    993 / 4170"
     ]
    },
    {
     "name": "stdout",
     "output_type": "stream",
     "text": [
      "\r- Processing image:    994 / 4170"
     ]
    },
    {
     "name": "stdout",
     "output_type": "stream",
     "text": [
      "\r- Processing image:    995 / 4170"
     ]
    },
    {
     "name": "stdout",
     "output_type": "stream",
     "text": [
      "\r- Processing image:    996 / 4170"
     ]
    },
    {
     "name": "stdout",
     "output_type": "stream",
     "text": [
      "\r- Processing image:    997 / 4170"
     ]
    },
    {
     "name": "stdout",
     "output_type": "stream",
     "text": [
      "\r- Processing image:    998 / 4170"
     ]
    },
    {
     "name": "stdout",
     "output_type": "stream",
     "text": [
      "\r- Processing image:    999 / 4170"
     ]
    },
    {
     "name": "stdout",
     "output_type": "stream",
     "text": [
      "\r- Processing image:   1000 / 4170"
     ]
    },
    {
     "name": "stdout",
     "output_type": "stream",
     "text": [
      "\r- Processing image:   1001 / 4170"
     ]
    },
    {
     "name": "stdout",
     "output_type": "stream",
     "text": [
      "\r- Processing image:   1002 / 4170"
     ]
    },
    {
     "name": "stdout",
     "output_type": "stream",
     "text": [
      "\r- Processing image:   1003 / 4170"
     ]
    },
    {
     "name": "stdout",
     "output_type": "stream",
     "text": [
      "\r- Processing image:   1004 / 4170"
     ]
    },
    {
     "name": "stdout",
     "output_type": "stream",
     "text": [
      "\r- Processing image:   1005 / 4170"
     ]
    },
    {
     "name": "stdout",
     "output_type": "stream",
     "text": [
      "\r- Processing image:   1006 / 4170"
     ]
    },
    {
     "name": "stdout",
     "output_type": "stream",
     "text": [
      "\r- Processing image:   1007 / 4170"
     ]
    },
    {
     "name": "stdout",
     "output_type": "stream",
     "text": [
      "\r- Processing image:   1008 / 4170"
     ]
    },
    {
     "name": "stdout",
     "output_type": "stream",
     "text": [
      "\r- Processing image:   1009 / 4170"
     ]
    },
    {
     "name": "stdout",
     "output_type": "stream",
     "text": [
      "\r- Processing image:   1010 / 4170"
     ]
    },
    {
     "name": "stdout",
     "output_type": "stream",
     "text": [
      "\r- Processing image:   1011 / 4170"
     ]
    },
    {
     "name": "stdout",
     "output_type": "stream",
     "text": [
      "\r- Processing image:   1012 / 4170"
     ]
    },
    {
     "name": "stdout",
     "output_type": "stream",
     "text": [
      "\r- Processing image:   1013 / 4170"
     ]
    },
    {
     "name": "stdout",
     "output_type": "stream",
     "text": [
      "\r- Processing image:   1014 / 4170"
     ]
    },
    {
     "name": "stdout",
     "output_type": "stream",
     "text": [
      "\r- Processing image:   1015 / 4170"
     ]
    },
    {
     "name": "stdout",
     "output_type": "stream",
     "text": [
      "\r- Processing image:   1016 / 4170"
     ]
    },
    {
     "name": "stdout",
     "output_type": "stream",
     "text": [
      "\r- Processing image:   1017 / 4170"
     ]
    },
    {
     "name": "stdout",
     "output_type": "stream",
     "text": [
      "\r- Processing image:   1018 / 4170"
     ]
    },
    {
     "name": "stdout",
     "output_type": "stream",
     "text": [
      "\r- Processing image:   1019 / 4170"
     ]
    },
    {
     "name": "stdout",
     "output_type": "stream",
     "text": [
      "\r- Processing image:   1020 / 4170"
     ]
    },
    {
     "name": "stdout",
     "output_type": "stream",
     "text": [
      "\r- Processing image:   1021 / 4170"
     ]
    },
    {
     "name": "stdout",
     "output_type": "stream",
     "text": [
      "\r- Processing image:   1022 / 4170"
     ]
    },
    {
     "name": "stdout",
     "output_type": "stream",
     "text": [
      "\r- Processing image:   1023 / 4170"
     ]
    },
    {
     "name": "stdout",
     "output_type": "stream",
     "text": [
      "\r- Processing image:   1024 / 4170"
     ]
    },
    {
     "name": "stdout",
     "output_type": "stream",
     "text": [
      "\r- Processing image:   1025 / 4170"
     ]
    },
    {
     "name": "stdout",
     "output_type": "stream",
     "text": [
      "\r- Processing image:   1026 / 4170"
     ]
    },
    {
     "name": "stdout",
     "output_type": "stream",
     "text": [
      "\r- Processing image:   1027 / 4170"
     ]
    },
    {
     "name": "stdout",
     "output_type": "stream",
     "text": [
      "\r- Processing image:   1028 / 4170"
     ]
    },
    {
     "name": "stdout",
     "output_type": "stream",
     "text": [
      "\r- Processing image:   1029 / 4170"
     ]
    },
    {
     "name": "stdout",
     "output_type": "stream",
     "text": [
      "\r- Processing image:   1030 / 4170"
     ]
    },
    {
     "name": "stdout",
     "output_type": "stream",
     "text": [
      "\r- Processing image:   1031 / 4170"
     ]
    },
    {
     "name": "stdout",
     "output_type": "stream",
     "text": [
      "\r- Processing image:   1032 / 4170"
     ]
    },
    {
     "name": "stdout",
     "output_type": "stream",
     "text": [
      "\r- Processing image:   1033 / 4170"
     ]
    },
    {
     "name": "stdout",
     "output_type": "stream",
     "text": [
      "\r- Processing image:   1034 / 4170"
     ]
    },
    {
     "name": "stdout",
     "output_type": "stream",
     "text": [
      "\r- Processing image:   1035 / 4170"
     ]
    },
    {
     "name": "stdout",
     "output_type": "stream",
     "text": [
      "\r- Processing image:   1036 / 4170"
     ]
    },
    {
     "name": "stdout",
     "output_type": "stream",
     "text": [
      "\r- Processing image:   1037 / 4170"
     ]
    },
    {
     "name": "stdout",
     "output_type": "stream",
     "text": [
      "\r- Processing image:   1038 / 4170"
     ]
    },
    {
     "name": "stdout",
     "output_type": "stream",
     "text": [
      "\r- Processing image:   1039 / 4170"
     ]
    },
    {
     "name": "stdout",
     "output_type": "stream",
     "text": [
      "\r- Processing image:   1040 / 4170"
     ]
    },
    {
     "name": "stdout",
     "output_type": "stream",
     "text": [
      "\r- Processing image:   1041 / 4170"
     ]
    },
    {
     "name": "stdout",
     "output_type": "stream",
     "text": [
      "\r- Processing image:   1042 / 4170"
     ]
    },
    {
     "name": "stdout",
     "output_type": "stream",
     "text": [
      "\r- Processing image:   1043 / 4170"
     ]
    },
    {
     "name": "stdout",
     "output_type": "stream",
     "text": [
      "\r- Processing image:   1044 / 4170"
     ]
    },
    {
     "name": "stdout",
     "output_type": "stream",
     "text": [
      "\r- Processing image:   1045 / 4170"
     ]
    },
    {
     "name": "stdout",
     "output_type": "stream",
     "text": [
      "\r- Processing image:   1046 / 4170"
     ]
    },
    {
     "name": "stdout",
     "output_type": "stream",
     "text": [
      "\r- Processing image:   1047 / 4170"
     ]
    },
    {
     "name": "stdout",
     "output_type": "stream",
     "text": [
      "\r- Processing image:   1048 / 4170"
     ]
    },
    {
     "name": "stdout",
     "output_type": "stream",
     "text": [
      "\r- Processing image:   1049 / 4170"
     ]
    },
    {
     "name": "stdout",
     "output_type": "stream",
     "text": [
      "\r- Processing image:   1050 / 4170"
     ]
    },
    {
     "name": "stdout",
     "output_type": "stream",
     "text": [
      "\r- Processing image:   1051 / 4170"
     ]
    },
    {
     "name": "stdout",
     "output_type": "stream",
     "text": [
      "\r- Processing image:   1052 / 4170"
     ]
    },
    {
     "name": "stdout",
     "output_type": "stream",
     "text": [
      "\r- Processing image:   1053 / 4170"
     ]
    },
    {
     "name": "stdout",
     "output_type": "stream",
     "text": [
      "\r- Processing image:   1054 / 4170"
     ]
    },
    {
     "name": "stdout",
     "output_type": "stream",
     "text": [
      "\r- Processing image:   1055 / 4170"
     ]
    },
    {
     "name": "stdout",
     "output_type": "stream",
     "text": [
      "\r- Processing image:   1056 / 4170"
     ]
    },
    {
     "name": "stdout",
     "output_type": "stream",
     "text": [
      "\r- Processing image:   1057 / 4170"
     ]
    },
    {
     "name": "stdout",
     "output_type": "stream",
     "text": [
      "\r- Processing image:   1058 / 4170"
     ]
    },
    {
     "name": "stdout",
     "output_type": "stream",
     "text": [
      "\r- Processing image:   1059 / 4170"
     ]
    },
    {
     "name": "stdout",
     "output_type": "stream",
     "text": [
      "\r- Processing image:   1060 / 4170"
     ]
    },
    {
     "name": "stdout",
     "output_type": "stream",
     "text": [
      "\r- Processing image:   1061 / 4170"
     ]
    },
    {
     "name": "stdout",
     "output_type": "stream",
     "text": [
      "\r- Processing image:   1062 / 4170"
     ]
    },
    {
     "name": "stdout",
     "output_type": "stream",
     "text": [
      "\r- Processing image:   1063 / 4170"
     ]
    },
    {
     "name": "stdout",
     "output_type": "stream",
     "text": [
      "\r- Processing image:   1064 / 4170"
     ]
    },
    {
     "name": "stdout",
     "output_type": "stream",
     "text": [
      "\r- Processing image:   1065 / 4170"
     ]
    },
    {
     "name": "stdout",
     "output_type": "stream",
     "text": [
      "\r- Processing image:   1066 / 4170"
     ]
    },
    {
     "name": "stdout",
     "output_type": "stream",
     "text": [
      "\r- Processing image:   1067 / 4170"
     ]
    },
    {
     "name": "stdout",
     "output_type": "stream",
     "text": [
      "\r- Processing image:   1068 / 4170"
     ]
    },
    {
     "name": "stdout",
     "output_type": "stream",
     "text": [
      "\r- Processing image:   1069 / 4170"
     ]
    },
    {
     "name": "stdout",
     "output_type": "stream",
     "text": [
      "\r- Processing image:   1070 / 4170"
     ]
    },
    {
     "name": "stdout",
     "output_type": "stream",
     "text": [
      "\r- Processing image:   1071 / 4170"
     ]
    },
    {
     "name": "stdout",
     "output_type": "stream",
     "text": [
      "\r- Processing image:   1072 / 4170"
     ]
    },
    {
     "name": "stdout",
     "output_type": "stream",
     "text": [
      "\r- Processing image:   1073 / 4170"
     ]
    },
    {
     "name": "stdout",
     "output_type": "stream",
     "text": [
      "\r- Processing image:   1074 / 4170"
     ]
    },
    {
     "name": "stdout",
     "output_type": "stream",
     "text": [
      "\r- Processing image:   1075 / 4170"
     ]
    },
    {
     "name": "stdout",
     "output_type": "stream",
     "text": [
      "\r- Processing image:   1076 / 4170"
     ]
    },
    {
     "name": "stdout",
     "output_type": "stream",
     "text": [
      "\r- Processing image:   1077 / 4170"
     ]
    },
    {
     "name": "stdout",
     "output_type": "stream",
     "text": [
      "\r- Processing image:   1078 / 4170"
     ]
    },
    {
     "name": "stdout",
     "output_type": "stream",
     "text": [
      "\r- Processing image:   1079 / 4170"
     ]
    },
    {
     "name": "stdout",
     "output_type": "stream",
     "text": [
      "\r- Processing image:   1080 / 4170"
     ]
    },
    {
     "name": "stdout",
     "output_type": "stream",
     "text": [
      "\r- Processing image:   1081 / 4170"
     ]
    },
    {
     "name": "stdout",
     "output_type": "stream",
     "text": [
      "\r- Processing image:   1082 / 4170"
     ]
    },
    {
     "name": "stdout",
     "output_type": "stream",
     "text": [
      "\r- Processing image:   1083 / 4170"
     ]
    },
    {
     "name": "stdout",
     "output_type": "stream",
     "text": [
      "\r- Processing image:   1084 / 4170"
     ]
    },
    {
     "name": "stdout",
     "output_type": "stream",
     "text": [
      "\r- Processing image:   1085 / 4170"
     ]
    },
    {
     "name": "stdout",
     "output_type": "stream",
     "text": [
      "\r- Processing image:   1086 / 4170"
     ]
    },
    {
     "name": "stdout",
     "output_type": "stream",
     "text": [
      "\r- Processing image:   1087 / 4170"
     ]
    },
    {
     "name": "stdout",
     "output_type": "stream",
     "text": [
      "\r- Processing image:   1088 / 4170"
     ]
    },
    {
     "name": "stdout",
     "output_type": "stream",
     "text": [
      "\r- Processing image:   1089 / 4170"
     ]
    },
    {
     "name": "stdout",
     "output_type": "stream",
     "text": [
      "\r- Processing image:   1090 / 4170"
     ]
    },
    {
     "name": "stdout",
     "output_type": "stream",
     "text": [
      "\r- Processing image:   1091 / 4170"
     ]
    },
    {
     "name": "stdout",
     "output_type": "stream",
     "text": [
      "\r- Processing image:   1092 / 4170"
     ]
    },
    {
     "name": "stdout",
     "output_type": "stream",
     "text": [
      "\r- Processing image:   1093 / 4170"
     ]
    },
    {
     "name": "stdout",
     "output_type": "stream",
     "text": [
      "\r- Processing image:   1094 / 4170"
     ]
    },
    {
     "name": "stdout",
     "output_type": "stream",
     "text": [
      "\r- Processing image:   1095 / 4170"
     ]
    },
    {
     "name": "stdout",
     "output_type": "stream",
     "text": [
      "\r- Processing image:   1096 / 4170"
     ]
    },
    {
     "name": "stdout",
     "output_type": "stream",
     "text": [
      "\r- Processing image:   1097 / 4170"
     ]
    },
    {
     "name": "stdout",
     "output_type": "stream",
     "text": [
      "\r- Processing image:   1098 / 4170"
     ]
    },
    {
     "name": "stdout",
     "output_type": "stream",
     "text": [
      "\r- Processing image:   1099 / 4170"
     ]
    },
    {
     "name": "stdout",
     "output_type": "stream",
     "text": [
      "\r- Processing image:   1100 / 4170"
     ]
    },
    {
     "name": "stdout",
     "output_type": "stream",
     "text": [
      "\r- Processing image:   1101 / 4170"
     ]
    },
    {
     "name": "stdout",
     "output_type": "stream",
     "text": [
      "\r- Processing image:   1102 / 4170"
     ]
    },
    {
     "name": "stdout",
     "output_type": "stream",
     "text": [
      "\r- Processing image:   1103 / 4170"
     ]
    },
    {
     "name": "stdout",
     "output_type": "stream",
     "text": [
      "\r- Processing image:   1104 / 4170"
     ]
    },
    {
     "name": "stdout",
     "output_type": "stream",
     "text": [
      "\r- Processing image:   1105 / 4170"
     ]
    },
    {
     "name": "stdout",
     "output_type": "stream",
     "text": [
      "\r- Processing image:   1106 / 4170"
     ]
    },
    {
     "name": "stdout",
     "output_type": "stream",
     "text": [
      "\r- Processing image:   1107 / 4170"
     ]
    },
    {
     "name": "stdout",
     "output_type": "stream",
     "text": [
      "\r- Processing image:   1108 / 4170"
     ]
    },
    {
     "name": "stdout",
     "output_type": "stream",
     "text": [
      "\r- Processing image:   1109 / 4170"
     ]
    },
    {
     "name": "stdout",
     "output_type": "stream",
     "text": [
      "\r- Processing image:   1110 / 4170"
     ]
    },
    {
     "name": "stdout",
     "output_type": "stream",
     "text": [
      "\r- Processing image:   1111 / 4170"
     ]
    },
    {
     "name": "stdout",
     "output_type": "stream",
     "text": [
      "\r- Processing image:   1112 / 4170"
     ]
    },
    {
     "name": "stdout",
     "output_type": "stream",
     "text": [
      "\r- Processing image:   1113 / 4170"
     ]
    },
    {
     "name": "stdout",
     "output_type": "stream",
     "text": [
      "\r- Processing image:   1114 / 4170"
     ]
    },
    {
     "name": "stdout",
     "output_type": "stream",
     "text": [
      "\r- Processing image:   1115 / 4170"
     ]
    },
    {
     "name": "stdout",
     "output_type": "stream",
     "text": [
      "\r- Processing image:   1116 / 4170"
     ]
    },
    {
     "name": "stdout",
     "output_type": "stream",
     "text": [
      "\r- Processing image:   1117 / 4170"
     ]
    },
    {
     "name": "stdout",
     "output_type": "stream",
     "text": [
      "\r- Processing image:   1118 / 4170"
     ]
    },
    {
     "name": "stdout",
     "output_type": "stream",
     "text": [
      "\r- Processing image:   1119 / 4170"
     ]
    },
    {
     "name": "stdout",
     "output_type": "stream",
     "text": [
      "\r- Processing image:   1120 / 4170"
     ]
    },
    {
     "name": "stdout",
     "output_type": "stream",
     "text": [
      "\r- Processing image:   1121 / 4170"
     ]
    },
    {
     "name": "stdout",
     "output_type": "stream",
     "text": [
      "\r- Processing image:   1122 / 4170"
     ]
    },
    {
     "name": "stdout",
     "output_type": "stream",
     "text": [
      "\r- Processing image:   1123 / 4170"
     ]
    },
    {
     "name": "stdout",
     "output_type": "stream",
     "text": [
      "\r- Processing image:   1124 / 4170"
     ]
    },
    {
     "name": "stdout",
     "output_type": "stream",
     "text": [
      "\r- Processing image:   1125 / 4170"
     ]
    },
    {
     "name": "stdout",
     "output_type": "stream",
     "text": [
      "\r- Processing image:   1126 / 4170"
     ]
    },
    {
     "name": "stdout",
     "output_type": "stream",
     "text": [
      "\r- Processing image:   1127 / 4170"
     ]
    },
    {
     "name": "stdout",
     "output_type": "stream",
     "text": [
      "\r- Processing image:   1128 / 4170"
     ]
    },
    {
     "name": "stdout",
     "output_type": "stream",
     "text": [
      "\r- Processing image:   1129 / 4170"
     ]
    },
    {
     "name": "stdout",
     "output_type": "stream",
     "text": [
      "\r- Processing image:   1130 / 4170"
     ]
    },
    {
     "name": "stdout",
     "output_type": "stream",
     "text": [
      "\r- Processing image:   1131 / 4170"
     ]
    },
    {
     "name": "stdout",
     "output_type": "stream",
     "text": [
      "\r- Processing image:   1132 / 4170"
     ]
    },
    {
     "name": "stdout",
     "output_type": "stream",
     "text": [
      "\r- Processing image:   1133 / 4170"
     ]
    },
    {
     "name": "stdout",
     "output_type": "stream",
     "text": [
      "\r- Processing image:   1134 / 4170"
     ]
    },
    {
     "name": "stdout",
     "output_type": "stream",
     "text": [
      "\r- Processing image:   1135 / 4170"
     ]
    },
    {
     "name": "stdout",
     "output_type": "stream",
     "text": [
      "\r- Processing image:   1136 / 4170"
     ]
    },
    {
     "name": "stdout",
     "output_type": "stream",
     "text": [
      "\r- Processing image:   1137 / 4170"
     ]
    },
    {
     "name": "stdout",
     "output_type": "stream",
     "text": [
      "\r- Processing image:   1138 / 4170"
     ]
    },
    {
     "name": "stdout",
     "output_type": "stream",
     "text": [
      "\r- Processing image:   1139 / 4170"
     ]
    },
    {
     "name": "stdout",
     "output_type": "stream",
     "text": [
      "\r- Processing image:   1140 / 4170"
     ]
    },
    {
     "name": "stdout",
     "output_type": "stream",
     "text": [
      "\r- Processing image:   1141 / 4170"
     ]
    },
    {
     "name": "stdout",
     "output_type": "stream",
     "text": [
      "\r- Processing image:   1142 / 4170"
     ]
    },
    {
     "name": "stdout",
     "output_type": "stream",
     "text": [
      "\r- Processing image:   1143 / 4170"
     ]
    },
    {
     "name": "stdout",
     "output_type": "stream",
     "text": [
      "\r- Processing image:   1144 / 4170"
     ]
    },
    {
     "name": "stdout",
     "output_type": "stream",
     "text": [
      "\r- Processing image:   1145 / 4170"
     ]
    },
    {
     "name": "stdout",
     "output_type": "stream",
     "text": [
      "\r- Processing image:   1146 / 4170"
     ]
    },
    {
     "name": "stdout",
     "output_type": "stream",
     "text": [
      "\r- Processing image:   1147 / 4170"
     ]
    },
    {
     "name": "stdout",
     "output_type": "stream",
     "text": [
      "\r- Processing image:   1148 / 4170"
     ]
    },
    {
     "name": "stdout",
     "output_type": "stream",
     "text": [
      "\r- Processing image:   1149 / 4170"
     ]
    },
    {
     "name": "stdout",
     "output_type": "stream",
     "text": [
      "\r- Processing image:   1150 / 4170"
     ]
    },
    {
     "name": "stdout",
     "output_type": "stream",
     "text": [
      "\r- Processing image:   1151 / 4170"
     ]
    },
    {
     "name": "stdout",
     "output_type": "stream",
     "text": [
      "\r- Processing image:   1152 / 4170"
     ]
    },
    {
     "name": "stdout",
     "output_type": "stream",
     "text": [
      "\r- Processing image:   1153 / 4170"
     ]
    },
    {
     "name": "stdout",
     "output_type": "stream",
     "text": [
      "\r- Processing image:   1154 / 4170"
     ]
    },
    {
     "name": "stdout",
     "output_type": "stream",
     "text": [
      "\r- Processing image:   1155 / 4170"
     ]
    },
    {
     "name": "stdout",
     "output_type": "stream",
     "text": [
      "\r- Processing image:   1156 / 4170"
     ]
    },
    {
     "name": "stdout",
     "output_type": "stream",
     "text": [
      "\r- Processing image:   1157 / 4170"
     ]
    },
    {
     "name": "stdout",
     "output_type": "stream",
     "text": [
      "\r- Processing image:   1158 / 4170"
     ]
    },
    {
     "name": "stdout",
     "output_type": "stream",
     "text": [
      "\r- Processing image:   1159 / 4170"
     ]
    },
    {
     "name": "stdout",
     "output_type": "stream",
     "text": [
      "\r- Processing image:   1160 / 4170"
     ]
    },
    {
     "name": "stdout",
     "output_type": "stream",
     "text": [
      "\r- Processing image:   1161 / 4170"
     ]
    },
    {
     "name": "stdout",
     "output_type": "stream",
     "text": [
      "\r- Processing image:   1162 / 4170"
     ]
    },
    {
     "name": "stdout",
     "output_type": "stream",
     "text": [
      "\r- Processing image:   1163 / 4170"
     ]
    },
    {
     "name": "stdout",
     "output_type": "stream",
     "text": [
      "\r- Processing image:   1164 / 4170"
     ]
    },
    {
     "name": "stdout",
     "output_type": "stream",
     "text": [
      "\r- Processing image:   1165 / 4170"
     ]
    },
    {
     "name": "stdout",
     "output_type": "stream",
     "text": [
      "\r- Processing image:   1166 / 4170"
     ]
    },
    {
     "name": "stdout",
     "output_type": "stream",
     "text": [
      "\r- Processing image:   1167 / 4170"
     ]
    },
    {
     "name": "stdout",
     "output_type": "stream",
     "text": [
      "\r- Processing image:   1168 / 4170"
     ]
    },
    {
     "name": "stdout",
     "output_type": "stream",
     "text": [
      "\r- Processing image:   1169 / 4170"
     ]
    },
    {
     "name": "stdout",
     "output_type": "stream",
     "text": [
      "\r- Processing image:   1170 / 4170"
     ]
    },
    {
     "name": "stdout",
     "output_type": "stream",
     "text": [
      "\r- Processing image:   1171 / 4170"
     ]
    },
    {
     "name": "stdout",
     "output_type": "stream",
     "text": [
      "\r- Processing image:   1172 / 4170"
     ]
    },
    {
     "name": "stdout",
     "output_type": "stream",
     "text": [
      "\r- Processing image:   1173 / 4170"
     ]
    },
    {
     "name": "stdout",
     "output_type": "stream",
     "text": [
      "\r- Processing image:   1174 / 4170"
     ]
    },
    {
     "name": "stdout",
     "output_type": "stream",
     "text": [
      "\r- Processing image:   1175 / 4170"
     ]
    },
    {
     "name": "stdout",
     "output_type": "stream",
     "text": [
      "\r- Processing image:   1176 / 4170"
     ]
    },
    {
     "name": "stdout",
     "output_type": "stream",
     "text": [
      "\r- Processing image:   1177 / 4170"
     ]
    },
    {
     "name": "stdout",
     "output_type": "stream",
     "text": [
      "\r- Processing image:   1178 / 4170"
     ]
    },
    {
     "name": "stdout",
     "output_type": "stream",
     "text": [
      "\r- Processing image:   1179 / 4170"
     ]
    },
    {
     "name": "stdout",
     "output_type": "stream",
     "text": [
      "\r- Processing image:   1180 / 4170"
     ]
    },
    {
     "name": "stdout",
     "output_type": "stream",
     "text": [
      "\r- Processing image:   1181 / 4170"
     ]
    },
    {
     "name": "stdout",
     "output_type": "stream",
     "text": [
      "\r- Processing image:   1182 / 4170"
     ]
    },
    {
     "name": "stdout",
     "output_type": "stream",
     "text": [
      "\r- Processing image:   1183 / 4170"
     ]
    },
    {
     "name": "stdout",
     "output_type": "stream",
     "text": [
      "\r- Processing image:   1184 / 4170"
     ]
    },
    {
     "name": "stdout",
     "output_type": "stream",
     "text": [
      "\r- Processing image:   1185 / 4170"
     ]
    },
    {
     "name": "stdout",
     "output_type": "stream",
     "text": [
      "\r- Processing image:   1186 / 4170"
     ]
    },
    {
     "name": "stdout",
     "output_type": "stream",
     "text": [
      "\r- Processing image:   1187 / 4170"
     ]
    },
    {
     "name": "stdout",
     "output_type": "stream",
     "text": [
      "\r- Processing image:   1188 / 4170"
     ]
    },
    {
     "name": "stdout",
     "output_type": "stream",
     "text": [
      "\r- Processing image:   1189 / 4170"
     ]
    },
    {
     "name": "stdout",
     "output_type": "stream",
     "text": [
      "\r- Processing image:   1190 / 4170"
     ]
    },
    {
     "name": "stdout",
     "output_type": "stream",
     "text": [
      "\r- Processing image:   1191 / 4170"
     ]
    },
    {
     "name": "stdout",
     "output_type": "stream",
     "text": [
      "\r- Processing image:   1192 / 4170"
     ]
    },
    {
     "name": "stdout",
     "output_type": "stream",
     "text": [
      "\r- Processing image:   1193 / 4170"
     ]
    },
    {
     "name": "stdout",
     "output_type": "stream",
     "text": [
      "\r- Processing image:   1194 / 4170"
     ]
    },
    {
     "name": "stdout",
     "output_type": "stream",
     "text": [
      "\r- Processing image:   1195 / 4170"
     ]
    },
    {
     "name": "stdout",
     "output_type": "stream",
     "text": [
      "\r- Processing image:   1196 / 4170"
     ]
    },
    {
     "name": "stdout",
     "output_type": "stream",
     "text": [
      "\r- Processing image:   1197 / 4170"
     ]
    },
    {
     "name": "stdout",
     "output_type": "stream",
     "text": [
      "\r- Processing image:   1198 / 4170"
     ]
    },
    {
     "name": "stdout",
     "output_type": "stream",
     "text": [
      "\r- Processing image:   1199 / 4170"
     ]
    },
    {
     "name": "stdout",
     "output_type": "stream",
     "text": [
      "\r- Processing image:   1200 / 4170"
     ]
    },
    {
     "name": "stdout",
     "output_type": "stream",
     "text": [
      "\r- Processing image:   1201 / 4170"
     ]
    },
    {
     "name": "stdout",
     "output_type": "stream",
     "text": [
      "\r- Processing image:   1202 / 4170"
     ]
    },
    {
     "name": "stdout",
     "output_type": "stream",
     "text": [
      "\r- Processing image:   1203 / 4170"
     ]
    },
    {
     "name": "stdout",
     "output_type": "stream",
     "text": [
      "\r- Processing image:   1204 / 4170"
     ]
    },
    {
     "name": "stdout",
     "output_type": "stream",
     "text": [
      "\r- Processing image:   1205 / 4170"
     ]
    },
    {
     "name": "stdout",
     "output_type": "stream",
     "text": [
      "\r- Processing image:   1206 / 4170"
     ]
    },
    {
     "name": "stdout",
     "output_type": "stream",
     "text": [
      "\r- Processing image:   1207 / 4170"
     ]
    },
    {
     "name": "stdout",
     "output_type": "stream",
     "text": [
      "\r- Processing image:   1208 / 4170"
     ]
    },
    {
     "name": "stdout",
     "output_type": "stream",
     "text": [
      "\r- Processing image:   1209 / 4170"
     ]
    },
    {
     "name": "stdout",
     "output_type": "stream",
     "text": [
      "\r- Processing image:   1210 / 4170"
     ]
    },
    {
     "name": "stdout",
     "output_type": "stream",
     "text": [
      "\r- Processing image:   1211 / 4170"
     ]
    },
    {
     "name": "stdout",
     "output_type": "stream",
     "text": [
      "\r- Processing image:   1212 / 4170"
     ]
    },
    {
     "name": "stdout",
     "output_type": "stream",
     "text": [
      "\r- Processing image:   1213 / 4170"
     ]
    },
    {
     "name": "stdout",
     "output_type": "stream",
     "text": [
      "\r- Processing image:   1214 / 4170"
     ]
    },
    {
     "name": "stdout",
     "output_type": "stream",
     "text": [
      "\r- Processing image:   1215 / 4170"
     ]
    },
    {
     "name": "stdout",
     "output_type": "stream",
     "text": [
      "\r- Processing image:   1216 / 4170"
     ]
    },
    {
     "name": "stdout",
     "output_type": "stream",
     "text": [
      "\r- Processing image:   1217 / 4170"
     ]
    },
    {
     "name": "stdout",
     "output_type": "stream",
     "text": [
      "\r- Processing image:   1218 / 4170"
     ]
    },
    {
     "name": "stdout",
     "output_type": "stream",
     "text": [
      "\r- Processing image:   1219 / 4170"
     ]
    },
    {
     "name": "stdout",
     "output_type": "stream",
     "text": [
      "\r- Processing image:   1220 / 4170"
     ]
    },
    {
     "name": "stdout",
     "output_type": "stream",
     "text": [
      "\r- Processing image:   1221 / 4170"
     ]
    },
    {
     "name": "stdout",
     "output_type": "stream",
     "text": [
      "\r- Processing image:   1222 / 4170"
     ]
    },
    {
     "name": "stdout",
     "output_type": "stream",
     "text": [
      "\r- Processing image:   1223 / 4170"
     ]
    },
    {
     "name": "stdout",
     "output_type": "stream",
     "text": [
      "\r- Processing image:   1224 / 4170"
     ]
    },
    {
     "name": "stdout",
     "output_type": "stream",
     "text": [
      "\r- Processing image:   1225 / 4170"
     ]
    },
    {
     "name": "stdout",
     "output_type": "stream",
     "text": [
      "\r- Processing image:   1226 / 4170"
     ]
    },
    {
     "name": "stdout",
     "output_type": "stream",
     "text": [
      "\r- Processing image:   1227 / 4170"
     ]
    },
    {
     "name": "stdout",
     "output_type": "stream",
     "text": [
      "\r- Processing image:   1228 / 4170"
     ]
    },
    {
     "name": "stdout",
     "output_type": "stream",
     "text": [
      "\r- Processing image:   1229 / 4170"
     ]
    },
    {
     "name": "stdout",
     "output_type": "stream",
     "text": [
      "\r- Processing image:   1230 / 4170"
     ]
    },
    {
     "name": "stdout",
     "output_type": "stream",
     "text": [
      "\r- Processing image:   1231 / 4170"
     ]
    },
    {
     "name": "stdout",
     "output_type": "stream",
     "text": [
      "\r- Processing image:   1232 / 4170"
     ]
    },
    {
     "name": "stdout",
     "output_type": "stream",
     "text": [
      "\r- Processing image:   1233 / 4170"
     ]
    },
    {
     "name": "stdout",
     "output_type": "stream",
     "text": [
      "\r- Processing image:   1234 / 4170"
     ]
    },
    {
     "name": "stdout",
     "output_type": "stream",
     "text": [
      "\r- Processing image:   1235 / 4170"
     ]
    },
    {
     "name": "stdout",
     "output_type": "stream",
     "text": [
      "\r- Processing image:   1236 / 4170"
     ]
    },
    {
     "name": "stdout",
     "output_type": "stream",
     "text": [
      "\r- Processing image:   1237 / 4170"
     ]
    },
    {
     "name": "stdout",
     "output_type": "stream",
     "text": [
      "\r- Processing image:   1238 / 4170"
     ]
    },
    {
     "name": "stdout",
     "output_type": "stream",
     "text": [
      "\r- Processing image:   1239 / 4170"
     ]
    },
    {
     "name": "stdout",
     "output_type": "stream",
     "text": [
      "\r- Processing image:   1240 / 4170"
     ]
    },
    {
     "name": "stdout",
     "output_type": "stream",
     "text": [
      "\r- Processing image:   1241 / 4170"
     ]
    },
    {
     "name": "stdout",
     "output_type": "stream",
     "text": [
      "\r- Processing image:   1242 / 4170"
     ]
    },
    {
     "name": "stdout",
     "output_type": "stream",
     "text": [
      "\r- Processing image:   1243 / 4170"
     ]
    },
    {
     "name": "stdout",
     "output_type": "stream",
     "text": [
      "\r- Processing image:   1244 / 4170"
     ]
    },
    {
     "name": "stdout",
     "output_type": "stream",
     "text": [
      "\r- Processing image:   1245 / 4170"
     ]
    },
    {
     "name": "stdout",
     "output_type": "stream",
     "text": [
      "\r- Processing image:   1246 / 4170"
     ]
    },
    {
     "name": "stdout",
     "output_type": "stream",
     "text": [
      "\r- Processing image:   1247 / 4170"
     ]
    },
    {
     "name": "stdout",
     "output_type": "stream",
     "text": [
      "\r- Processing image:   1248 / 4170"
     ]
    },
    {
     "name": "stdout",
     "output_type": "stream",
     "text": [
      "\r- Processing image:   1249 / 4170"
     ]
    },
    {
     "name": "stdout",
     "output_type": "stream",
     "text": [
      "\r- Processing image:   1250 / 4170"
     ]
    },
    {
     "name": "stdout",
     "output_type": "stream",
     "text": [
      "\r- Processing image:   1251 / 4170"
     ]
    },
    {
     "name": "stdout",
     "output_type": "stream",
     "text": [
      "\r- Processing image:   1252 / 4170"
     ]
    },
    {
     "name": "stdout",
     "output_type": "stream",
     "text": [
      "\r- Processing image:   1253 / 4170"
     ]
    },
    {
     "name": "stdout",
     "output_type": "stream",
     "text": [
      "\r- Processing image:   1254 / 4170"
     ]
    },
    {
     "name": "stdout",
     "output_type": "stream",
     "text": [
      "\r- Processing image:   1255 / 4170"
     ]
    },
    {
     "name": "stdout",
     "output_type": "stream",
     "text": [
      "\r- Processing image:   1256 / 4170"
     ]
    },
    {
     "name": "stdout",
     "output_type": "stream",
     "text": [
      "\r- Processing image:   1257 / 4170"
     ]
    },
    {
     "name": "stdout",
     "output_type": "stream",
     "text": [
      "\r- Processing image:   1258 / 4170"
     ]
    },
    {
     "name": "stdout",
     "output_type": "stream",
     "text": [
      "\r- Processing image:   1259 / 4170"
     ]
    },
    {
     "name": "stdout",
     "output_type": "stream",
     "text": [
      "\r- Processing image:   1260 / 4170"
     ]
    },
    {
     "name": "stdout",
     "output_type": "stream",
     "text": [
      "\r- Processing image:   1261 / 4170"
     ]
    },
    {
     "name": "stdout",
     "output_type": "stream",
     "text": [
      "\r- Processing image:   1262 / 4170"
     ]
    },
    {
     "name": "stdout",
     "output_type": "stream",
     "text": [
      "\r- Processing image:   1263 / 4170"
     ]
    },
    {
     "name": "stdout",
     "output_type": "stream",
     "text": [
      "\r- Processing image:   1264 / 4170"
     ]
    },
    {
     "name": "stdout",
     "output_type": "stream",
     "text": [
      "\r- Processing image:   1265 / 4170"
     ]
    },
    {
     "name": "stdout",
     "output_type": "stream",
     "text": [
      "\r- Processing image:   1266 / 4170"
     ]
    },
    {
     "name": "stdout",
     "output_type": "stream",
     "text": [
      "\r- Processing image:   1267 / 4170"
     ]
    },
    {
     "name": "stdout",
     "output_type": "stream",
     "text": [
      "\r- Processing image:   1268 / 4170"
     ]
    },
    {
     "name": "stdout",
     "output_type": "stream",
     "text": [
      "\r- Processing image:   1269 / 4170"
     ]
    },
    {
     "name": "stdout",
     "output_type": "stream",
     "text": [
      "\r- Processing image:   1270 / 4170"
     ]
    },
    {
     "name": "stdout",
     "output_type": "stream",
     "text": [
      "\r- Processing image:   1271 / 4170"
     ]
    },
    {
     "name": "stdout",
     "output_type": "stream",
     "text": [
      "\r- Processing image:   1272 / 4170"
     ]
    },
    {
     "name": "stdout",
     "output_type": "stream",
     "text": [
      "\r- Processing image:   1273 / 4170"
     ]
    },
    {
     "name": "stdout",
     "output_type": "stream",
     "text": [
      "\r- Processing image:   1274 / 4170"
     ]
    },
    {
     "name": "stdout",
     "output_type": "stream",
     "text": [
      "\r- Processing image:   1275 / 4170"
     ]
    },
    {
     "name": "stdout",
     "output_type": "stream",
     "text": [
      "\r- Processing image:   1276 / 4170"
     ]
    },
    {
     "name": "stdout",
     "output_type": "stream",
     "text": [
      "\r- Processing image:   1277 / 4170"
     ]
    },
    {
     "name": "stdout",
     "output_type": "stream",
     "text": [
      "\r- Processing image:   1278 / 4170"
     ]
    },
    {
     "name": "stdout",
     "output_type": "stream",
     "text": [
      "\r- Processing image:   1279 / 4170"
     ]
    },
    {
     "name": "stdout",
     "output_type": "stream",
     "text": [
      "\r- Processing image:   1280 / 4170"
     ]
    },
    {
     "name": "stdout",
     "output_type": "stream",
     "text": [
      "\r- Processing image:   1281 / 4170"
     ]
    },
    {
     "name": "stdout",
     "output_type": "stream",
     "text": [
      "\r- Processing image:   1282 / 4170"
     ]
    },
    {
     "name": "stdout",
     "output_type": "stream",
     "text": [
      "\r- Processing image:   1283 / 4170"
     ]
    },
    {
     "name": "stdout",
     "output_type": "stream",
     "text": [
      "\r- Processing image:   1284 / 4170"
     ]
    },
    {
     "name": "stdout",
     "output_type": "stream",
     "text": [
      "\r- Processing image:   1285 / 4170"
     ]
    },
    {
     "name": "stdout",
     "output_type": "stream",
     "text": [
      "\r- Processing image:   1286 / 4170"
     ]
    },
    {
     "name": "stdout",
     "output_type": "stream",
     "text": [
      "\r- Processing image:   1287 / 4170"
     ]
    },
    {
     "name": "stdout",
     "output_type": "stream",
     "text": [
      "\r- Processing image:   1288 / 4170"
     ]
    },
    {
     "name": "stdout",
     "output_type": "stream",
     "text": [
      "\r- Processing image:   1289 / 4170"
     ]
    },
    {
     "name": "stdout",
     "output_type": "stream",
     "text": [
      "\r- Processing image:   1290 / 4170"
     ]
    },
    {
     "name": "stdout",
     "output_type": "stream",
     "text": [
      "\r- Processing image:   1291 / 4170"
     ]
    },
    {
     "name": "stdout",
     "output_type": "stream",
     "text": [
      "\r- Processing image:   1292 / 4170"
     ]
    },
    {
     "name": "stdout",
     "output_type": "stream",
     "text": [
      "\r- Processing image:   1293 / 4170"
     ]
    },
    {
     "name": "stdout",
     "output_type": "stream",
     "text": [
      "\r- Processing image:   1294 / 4170"
     ]
    },
    {
     "name": "stdout",
     "output_type": "stream",
     "text": [
      "\r- Processing image:   1295 / 4170"
     ]
    },
    {
     "name": "stdout",
     "output_type": "stream",
     "text": [
      "\r- Processing image:   1296 / 4170"
     ]
    },
    {
     "name": "stdout",
     "output_type": "stream",
     "text": [
      "\r- Processing image:   1297 / 4170"
     ]
    },
    {
     "name": "stdout",
     "output_type": "stream",
     "text": [
      "\r- Processing image:   1298 / 4170"
     ]
    },
    {
     "name": "stdout",
     "output_type": "stream",
     "text": [
      "\r- Processing image:   1299 / 4170"
     ]
    },
    {
     "name": "stdout",
     "output_type": "stream",
     "text": [
      "\r- Processing image:   1300 / 4170"
     ]
    },
    {
     "name": "stdout",
     "output_type": "stream",
     "text": [
      "\r- Processing image:   1301 / 4170"
     ]
    },
    {
     "name": "stdout",
     "output_type": "stream",
     "text": [
      "\r- Processing image:   1302 / 4170"
     ]
    },
    {
     "name": "stdout",
     "output_type": "stream",
     "text": [
      "\r- Processing image:   1303 / 4170"
     ]
    },
    {
     "name": "stdout",
     "output_type": "stream",
     "text": [
      "\r- Processing image:   1304 / 4170"
     ]
    },
    {
     "name": "stdout",
     "output_type": "stream",
     "text": [
      "\r- Processing image:   1305 / 4170"
     ]
    },
    {
     "name": "stdout",
     "output_type": "stream",
     "text": [
      "\r- Processing image:   1306 / 4170"
     ]
    },
    {
     "name": "stdout",
     "output_type": "stream",
     "text": [
      "\r- Processing image:   1307 / 4170"
     ]
    },
    {
     "name": "stdout",
     "output_type": "stream",
     "text": [
      "\r- Processing image:   1308 / 4170"
     ]
    },
    {
     "name": "stdout",
     "output_type": "stream",
     "text": [
      "\r- Processing image:   1309 / 4170"
     ]
    },
    {
     "name": "stdout",
     "output_type": "stream",
     "text": [
      "\r- Processing image:   1310 / 4170"
     ]
    },
    {
     "name": "stdout",
     "output_type": "stream",
     "text": [
      "\r- Processing image:   1311 / 4170"
     ]
    },
    {
     "name": "stdout",
     "output_type": "stream",
     "text": [
      "\r- Processing image:   1312 / 4170"
     ]
    },
    {
     "name": "stdout",
     "output_type": "stream",
     "text": [
      "\r- Processing image:   1313 / 4170"
     ]
    },
    {
     "name": "stdout",
     "output_type": "stream",
     "text": [
      "\r- Processing image:   1314 / 4170"
     ]
    },
    {
     "name": "stdout",
     "output_type": "stream",
     "text": [
      "\r- Processing image:   1315 / 4170"
     ]
    },
    {
     "name": "stdout",
     "output_type": "stream",
     "text": [
      "\r- Processing image:   1316 / 4170"
     ]
    },
    {
     "name": "stdout",
     "output_type": "stream",
     "text": [
      "\r- Processing image:   1317 / 4170"
     ]
    },
    {
     "name": "stdout",
     "output_type": "stream",
     "text": [
      "\r- Processing image:   1318 / 4170"
     ]
    },
    {
     "name": "stdout",
     "output_type": "stream",
     "text": [
      "\r- Processing image:   1319 / 4170"
     ]
    },
    {
     "name": "stdout",
     "output_type": "stream",
     "text": [
      "\r- Processing image:   1320 / 4170"
     ]
    },
    {
     "name": "stdout",
     "output_type": "stream",
     "text": [
      "\r- Processing image:   1321 / 4170"
     ]
    },
    {
     "name": "stdout",
     "output_type": "stream",
     "text": [
      "\r- Processing image:   1322 / 4170"
     ]
    },
    {
     "name": "stdout",
     "output_type": "stream",
     "text": [
      "\r- Processing image:   1323 / 4170"
     ]
    },
    {
     "name": "stdout",
     "output_type": "stream",
     "text": [
      "\r- Processing image:   1324 / 4170"
     ]
    },
    {
     "name": "stdout",
     "output_type": "stream",
     "text": [
      "\r- Processing image:   1325 / 4170"
     ]
    },
    {
     "name": "stdout",
     "output_type": "stream",
     "text": [
      "\r- Processing image:   1326 / 4170"
     ]
    },
    {
     "name": "stdout",
     "output_type": "stream",
     "text": [
      "\r- Processing image:   1327 / 4170"
     ]
    },
    {
     "name": "stdout",
     "output_type": "stream",
     "text": [
      "\r- Processing image:   1328 / 4170"
     ]
    },
    {
     "name": "stdout",
     "output_type": "stream",
     "text": [
      "\r- Processing image:   1329 / 4170"
     ]
    },
    {
     "name": "stdout",
     "output_type": "stream",
     "text": [
      "\r- Processing image:   1330 / 4170"
     ]
    },
    {
     "name": "stdout",
     "output_type": "stream",
     "text": [
      "\r- Processing image:   1331 / 4170"
     ]
    },
    {
     "name": "stdout",
     "output_type": "stream",
     "text": [
      "\r- Processing image:   1332 / 4170"
     ]
    },
    {
     "name": "stdout",
     "output_type": "stream",
     "text": [
      "\r- Processing image:   1333 / 4170"
     ]
    },
    {
     "name": "stdout",
     "output_type": "stream",
     "text": [
      "\r- Processing image:   1334 / 4170"
     ]
    },
    {
     "name": "stdout",
     "output_type": "stream",
     "text": [
      "\r- Processing image:   1335 / 4170"
     ]
    },
    {
     "name": "stdout",
     "output_type": "stream",
     "text": [
      "\r- Processing image:   1336 / 4170"
     ]
    },
    {
     "name": "stdout",
     "output_type": "stream",
     "text": [
      "\r- Processing image:   1337 / 4170"
     ]
    },
    {
     "name": "stdout",
     "output_type": "stream",
     "text": [
      "\r- Processing image:   1338 / 4170"
     ]
    },
    {
     "name": "stdout",
     "output_type": "stream",
     "text": [
      "\r- Processing image:   1339 / 4170"
     ]
    },
    {
     "name": "stdout",
     "output_type": "stream",
     "text": [
      "\r- Processing image:   1340 / 4170"
     ]
    },
    {
     "name": "stdout",
     "output_type": "stream",
     "text": [
      "\r- Processing image:   1341 / 4170"
     ]
    },
    {
     "name": "stdout",
     "output_type": "stream",
     "text": [
      "\r- Processing image:   1342 / 4170"
     ]
    },
    {
     "name": "stdout",
     "output_type": "stream",
     "text": [
      "\r- Processing image:   1343 / 4170"
     ]
    },
    {
     "name": "stdout",
     "output_type": "stream",
     "text": [
      "\r- Processing image:   1344 / 4170"
     ]
    },
    {
     "name": "stdout",
     "output_type": "stream",
     "text": [
      "\r- Processing image:   1345 / 4170"
     ]
    },
    {
     "name": "stdout",
     "output_type": "stream",
     "text": [
      "\r- Processing image:   1346 / 4170"
     ]
    },
    {
     "name": "stdout",
     "output_type": "stream",
     "text": [
      "\r- Processing image:   1347 / 4170"
     ]
    },
    {
     "name": "stdout",
     "output_type": "stream",
     "text": [
      "\r- Processing image:   1348 / 4170"
     ]
    },
    {
     "name": "stdout",
     "output_type": "stream",
     "text": [
      "\r- Processing image:   1349 / 4170"
     ]
    },
    {
     "name": "stdout",
     "output_type": "stream",
     "text": [
      "\r- Processing image:   1350 / 4170"
     ]
    },
    {
     "name": "stdout",
     "output_type": "stream",
     "text": [
      "\r- Processing image:   1351 / 4170"
     ]
    },
    {
     "name": "stdout",
     "output_type": "stream",
     "text": [
      "\r- Processing image:   1352 / 4170"
     ]
    },
    {
     "name": "stdout",
     "output_type": "stream",
     "text": [
      "\r- Processing image:   1353 / 4170"
     ]
    },
    {
     "name": "stdout",
     "output_type": "stream",
     "text": [
      "\r- Processing image:   1354 / 4170"
     ]
    },
    {
     "name": "stdout",
     "output_type": "stream",
     "text": [
      "\r- Processing image:   1355 / 4170"
     ]
    },
    {
     "name": "stdout",
     "output_type": "stream",
     "text": [
      "\r- Processing image:   1356 / 4170"
     ]
    },
    {
     "name": "stdout",
     "output_type": "stream",
     "text": [
      "\r- Processing image:   1357 / 4170"
     ]
    },
    {
     "name": "stdout",
     "output_type": "stream",
     "text": [
      "\r- Processing image:   1358 / 4170"
     ]
    },
    {
     "name": "stdout",
     "output_type": "stream",
     "text": [
      "\r- Processing image:   1359 / 4170"
     ]
    },
    {
     "name": "stdout",
     "output_type": "stream",
     "text": [
      "\r- Processing image:   1360 / 4170"
     ]
    },
    {
     "name": "stdout",
     "output_type": "stream",
     "text": [
      "\r- Processing image:   1361 / 4170"
     ]
    },
    {
     "name": "stdout",
     "output_type": "stream",
     "text": [
      "\r- Processing image:   1362 / 4170"
     ]
    },
    {
     "name": "stdout",
     "output_type": "stream",
     "text": [
      "\r- Processing image:   1363 / 4170"
     ]
    },
    {
     "name": "stdout",
     "output_type": "stream",
     "text": [
      "\r- Processing image:   1364 / 4170"
     ]
    },
    {
     "name": "stdout",
     "output_type": "stream",
     "text": [
      "\r- Processing image:   1365 / 4170"
     ]
    },
    {
     "name": "stdout",
     "output_type": "stream",
     "text": [
      "\r- Processing image:   1366 / 4170"
     ]
    },
    {
     "name": "stdout",
     "output_type": "stream",
     "text": [
      "\r- Processing image:   1367 / 4170"
     ]
    },
    {
     "name": "stdout",
     "output_type": "stream",
     "text": [
      "\r- Processing image:   1368 / 4170"
     ]
    },
    {
     "name": "stdout",
     "output_type": "stream",
     "text": [
      "\r- Processing image:   1369 / 4170"
     ]
    },
    {
     "name": "stdout",
     "output_type": "stream",
     "text": [
      "\r- Processing image:   1370 / 4170"
     ]
    },
    {
     "name": "stdout",
     "output_type": "stream",
     "text": [
      "\r- Processing image:   1371 / 4170"
     ]
    },
    {
     "name": "stdout",
     "output_type": "stream",
     "text": [
      "\r- Processing image:   1372 / 4170"
     ]
    },
    {
     "name": "stdout",
     "output_type": "stream",
     "text": [
      "\r- Processing image:   1373 / 4170"
     ]
    },
    {
     "name": "stdout",
     "output_type": "stream",
     "text": [
      "\r- Processing image:   1374 / 4170"
     ]
    },
    {
     "name": "stdout",
     "output_type": "stream",
     "text": [
      "\r- Processing image:   1375 / 4170"
     ]
    },
    {
     "name": "stdout",
     "output_type": "stream",
     "text": [
      "\r- Processing image:   1376 / 4170"
     ]
    },
    {
     "name": "stdout",
     "output_type": "stream",
     "text": [
      "\r- Processing image:   1377 / 4170"
     ]
    },
    {
     "name": "stdout",
     "output_type": "stream",
     "text": [
      "\r- Processing image:   1378 / 4170"
     ]
    },
    {
     "name": "stdout",
     "output_type": "stream",
     "text": [
      "\r- Processing image:   1379 / 4170"
     ]
    },
    {
     "name": "stdout",
     "output_type": "stream",
     "text": [
      "\r- Processing image:   1380 / 4170"
     ]
    },
    {
     "name": "stdout",
     "output_type": "stream",
     "text": [
      "\r- Processing image:   1381 / 4170"
     ]
    },
    {
     "name": "stdout",
     "output_type": "stream",
     "text": [
      "\r- Processing image:   1382 / 4170"
     ]
    },
    {
     "name": "stdout",
     "output_type": "stream",
     "text": [
      "\r- Processing image:   1383 / 4170"
     ]
    },
    {
     "name": "stdout",
     "output_type": "stream",
     "text": [
      "\r- Processing image:   1384 / 4170"
     ]
    },
    {
     "name": "stdout",
     "output_type": "stream",
     "text": [
      "\r- Processing image:   1385 / 4170"
     ]
    },
    {
     "name": "stdout",
     "output_type": "stream",
     "text": [
      "\r- Processing image:   1386 / 4170"
     ]
    },
    {
     "name": "stdout",
     "output_type": "stream",
     "text": [
      "\r- Processing image:   1387 / 4170"
     ]
    },
    {
     "name": "stdout",
     "output_type": "stream",
     "text": [
      "\r- Processing image:   1388 / 4170"
     ]
    },
    {
     "name": "stdout",
     "output_type": "stream",
     "text": [
      "\r- Processing image:   1389 / 4170"
     ]
    },
    {
     "name": "stdout",
     "output_type": "stream",
     "text": [
      "\r- Processing image:   1390 / 4170"
     ]
    },
    {
     "name": "stdout",
     "output_type": "stream",
     "text": [
      "\r- Processing image:   1391 / 4170"
     ]
    },
    {
     "name": "stdout",
     "output_type": "stream",
     "text": [
      "\r- Processing image:   1392 / 4170"
     ]
    },
    {
     "name": "stdout",
     "output_type": "stream",
     "text": [
      "\r- Processing image:   1393 / 4170"
     ]
    },
    {
     "name": "stdout",
     "output_type": "stream",
     "text": [
      "\r- Processing image:   1394 / 4170"
     ]
    },
    {
     "name": "stdout",
     "output_type": "stream",
     "text": [
      "\r- Processing image:   1395 / 4170"
     ]
    },
    {
     "name": "stdout",
     "output_type": "stream",
     "text": [
      "\r- Processing image:   1396 / 4170"
     ]
    },
    {
     "name": "stdout",
     "output_type": "stream",
     "text": [
      "\r- Processing image:   1397 / 4170"
     ]
    },
    {
     "name": "stdout",
     "output_type": "stream",
     "text": [
      "\r- Processing image:   1398 / 4170"
     ]
    },
    {
     "name": "stdout",
     "output_type": "stream",
     "text": [
      "\r- Processing image:   1399 / 4170"
     ]
    },
    {
     "name": "stdout",
     "output_type": "stream",
     "text": [
      "\r- Processing image:   1400 / 4170"
     ]
    },
    {
     "name": "stdout",
     "output_type": "stream",
     "text": [
      "\r- Processing image:   1401 / 4170"
     ]
    },
    {
     "name": "stdout",
     "output_type": "stream",
     "text": [
      "\r- Processing image:   1402 / 4170"
     ]
    },
    {
     "name": "stdout",
     "output_type": "stream",
     "text": [
      "\r- Processing image:   1403 / 4170"
     ]
    },
    {
     "name": "stdout",
     "output_type": "stream",
     "text": [
      "\r- Processing image:   1404 / 4170"
     ]
    },
    {
     "name": "stdout",
     "output_type": "stream",
     "text": [
      "\r- Processing image:   1405 / 4170"
     ]
    },
    {
     "name": "stdout",
     "output_type": "stream",
     "text": [
      "\r- Processing image:   1406 / 4170"
     ]
    },
    {
     "name": "stdout",
     "output_type": "stream",
     "text": [
      "\r- Processing image:   1407 / 4170"
     ]
    },
    {
     "name": "stdout",
     "output_type": "stream",
     "text": [
      "\r- Processing image:   1408 / 4170"
     ]
    },
    {
     "name": "stdout",
     "output_type": "stream",
     "text": [
      "\r- Processing image:   1409 / 4170"
     ]
    },
    {
     "name": "stdout",
     "output_type": "stream",
     "text": [
      "\r- Processing image:   1410 / 4170"
     ]
    },
    {
     "name": "stdout",
     "output_type": "stream",
     "text": [
      "\r- Processing image:   1411 / 4170"
     ]
    },
    {
     "name": "stdout",
     "output_type": "stream",
     "text": [
      "\r- Processing image:   1412 / 4170"
     ]
    },
    {
     "name": "stdout",
     "output_type": "stream",
     "text": [
      "\r- Processing image:   1413 / 4170"
     ]
    },
    {
     "name": "stdout",
     "output_type": "stream",
     "text": [
      "\r- Processing image:   1414 / 4170"
     ]
    },
    {
     "name": "stdout",
     "output_type": "stream",
     "text": [
      "\r- Processing image:   1415 / 4170"
     ]
    },
    {
     "name": "stdout",
     "output_type": "stream",
     "text": [
      "\r- Processing image:   1416 / 4170"
     ]
    },
    {
     "name": "stdout",
     "output_type": "stream",
     "text": [
      "\r- Processing image:   1417 / 4170"
     ]
    },
    {
     "name": "stdout",
     "output_type": "stream",
     "text": [
      "\r- Processing image:   1418 / 4170"
     ]
    },
    {
     "name": "stdout",
     "output_type": "stream",
     "text": [
      "\r- Processing image:   1419 / 4170"
     ]
    },
    {
     "name": "stdout",
     "output_type": "stream",
     "text": [
      "\r- Processing image:   1420 / 4170"
     ]
    },
    {
     "name": "stdout",
     "output_type": "stream",
     "text": [
      "\r- Processing image:   1421 / 4170"
     ]
    },
    {
     "name": "stdout",
     "output_type": "stream",
     "text": [
      "\r- Processing image:   1422 / 4170"
     ]
    },
    {
     "name": "stdout",
     "output_type": "stream",
     "text": [
      "\r- Processing image:   1423 / 4170"
     ]
    },
    {
     "name": "stdout",
     "output_type": "stream",
     "text": [
      "\r- Processing image:   1424 / 4170"
     ]
    },
    {
     "name": "stdout",
     "output_type": "stream",
     "text": [
      "\r- Processing image:   1425 / 4170"
     ]
    },
    {
     "name": "stdout",
     "output_type": "stream",
     "text": [
      "\r- Processing image:   1426 / 4170"
     ]
    },
    {
     "name": "stdout",
     "output_type": "stream",
     "text": [
      "\r- Processing image:   1427 / 4170"
     ]
    },
    {
     "name": "stdout",
     "output_type": "stream",
     "text": [
      "\r- Processing image:   1428 / 4170"
     ]
    },
    {
     "name": "stdout",
     "output_type": "stream",
     "text": [
      "\r- Processing image:   1429 / 4170"
     ]
    },
    {
     "name": "stdout",
     "output_type": "stream",
     "text": [
      "\r- Processing image:   1430 / 4170"
     ]
    },
    {
     "name": "stdout",
     "output_type": "stream",
     "text": [
      "\r- Processing image:   1431 / 4170"
     ]
    },
    {
     "name": "stdout",
     "output_type": "stream",
     "text": [
      "\r- Processing image:   1432 / 4170"
     ]
    },
    {
     "name": "stdout",
     "output_type": "stream",
     "text": [
      "\r- Processing image:   1433 / 4170"
     ]
    },
    {
     "name": "stdout",
     "output_type": "stream",
     "text": [
      "\r- Processing image:   1434 / 4170"
     ]
    },
    {
     "name": "stdout",
     "output_type": "stream",
     "text": [
      "\r- Processing image:   1435 / 4170"
     ]
    },
    {
     "name": "stdout",
     "output_type": "stream",
     "text": [
      "\r- Processing image:   1436 / 4170"
     ]
    },
    {
     "name": "stdout",
     "output_type": "stream",
     "text": [
      "\r- Processing image:   1437 / 4170"
     ]
    },
    {
     "name": "stdout",
     "output_type": "stream",
     "text": [
      "\r- Processing image:   1438 / 4170"
     ]
    },
    {
     "name": "stdout",
     "output_type": "stream",
     "text": [
      "\r- Processing image:   1439 / 4170"
     ]
    },
    {
     "name": "stdout",
     "output_type": "stream",
     "text": [
      "\r- Processing image:   1440 / 4170"
     ]
    },
    {
     "name": "stdout",
     "output_type": "stream",
     "text": [
      "\r- Processing image:   1441 / 4170"
     ]
    },
    {
     "name": "stdout",
     "output_type": "stream",
     "text": [
      "\r- Processing image:   1442 / 4170"
     ]
    },
    {
     "name": "stdout",
     "output_type": "stream",
     "text": [
      "\r- Processing image:   1443 / 4170"
     ]
    },
    {
     "name": "stdout",
     "output_type": "stream",
     "text": [
      "\r- Processing image:   1444 / 4170"
     ]
    },
    {
     "name": "stdout",
     "output_type": "stream",
     "text": [
      "\r- Processing image:   1445 / 4170"
     ]
    },
    {
     "name": "stdout",
     "output_type": "stream",
     "text": [
      "\r- Processing image:   1446 / 4170"
     ]
    },
    {
     "name": "stdout",
     "output_type": "stream",
     "text": [
      "\r- Processing image:   1447 / 4170"
     ]
    },
    {
     "name": "stdout",
     "output_type": "stream",
     "text": [
      "\r- Processing image:   1448 / 4170"
     ]
    },
    {
     "name": "stdout",
     "output_type": "stream",
     "text": [
      "\r- Processing image:   1449 / 4170"
     ]
    },
    {
     "name": "stdout",
     "output_type": "stream",
     "text": [
      "\r- Processing image:   1450 / 4170"
     ]
    },
    {
     "name": "stdout",
     "output_type": "stream",
     "text": [
      "\r- Processing image:   1451 / 4170"
     ]
    },
    {
     "name": "stdout",
     "output_type": "stream",
     "text": [
      "\r- Processing image:   1452 / 4170"
     ]
    },
    {
     "name": "stdout",
     "output_type": "stream",
     "text": [
      "\r- Processing image:   1453 / 4170"
     ]
    },
    {
     "name": "stdout",
     "output_type": "stream",
     "text": [
      "\r- Processing image:   1454 / 4170"
     ]
    },
    {
     "name": "stdout",
     "output_type": "stream",
     "text": [
      "\r- Processing image:   1455 / 4170"
     ]
    },
    {
     "name": "stdout",
     "output_type": "stream",
     "text": [
      "\r- Processing image:   1456 / 4170"
     ]
    },
    {
     "name": "stdout",
     "output_type": "stream",
     "text": [
      "\r- Processing image:   1457 / 4170"
     ]
    },
    {
     "name": "stdout",
     "output_type": "stream",
     "text": [
      "\r- Processing image:   1458 / 4170"
     ]
    },
    {
     "name": "stdout",
     "output_type": "stream",
     "text": [
      "\r- Processing image:   1459 / 4170"
     ]
    },
    {
     "name": "stdout",
     "output_type": "stream",
     "text": [
      "\r- Processing image:   1460 / 4170"
     ]
    },
    {
     "name": "stdout",
     "output_type": "stream",
     "text": [
      "\r- Processing image:   1461 / 4170"
     ]
    },
    {
     "name": "stdout",
     "output_type": "stream",
     "text": [
      "\r- Processing image:   1462 / 4170"
     ]
    },
    {
     "name": "stdout",
     "output_type": "stream",
     "text": [
      "\r- Processing image:   1463 / 4170"
     ]
    },
    {
     "name": "stdout",
     "output_type": "stream",
     "text": [
      "\r- Processing image:   1464 / 4170"
     ]
    },
    {
     "name": "stdout",
     "output_type": "stream",
     "text": [
      "\r- Processing image:   1465 / 4170"
     ]
    },
    {
     "name": "stdout",
     "output_type": "stream",
     "text": [
      "\r- Processing image:   1466 / 4170"
     ]
    },
    {
     "name": "stdout",
     "output_type": "stream",
     "text": [
      "\r- Processing image:   1467 / 4170"
     ]
    },
    {
     "name": "stdout",
     "output_type": "stream",
     "text": [
      "\r- Processing image:   1468 / 4170"
     ]
    },
    {
     "name": "stdout",
     "output_type": "stream",
     "text": [
      "\r- Processing image:   1469 / 4170"
     ]
    },
    {
     "name": "stdout",
     "output_type": "stream",
     "text": [
      "\r- Processing image:   1470 / 4170"
     ]
    },
    {
     "name": "stdout",
     "output_type": "stream",
     "text": [
      "\r- Processing image:   1471 / 4170"
     ]
    },
    {
     "name": "stdout",
     "output_type": "stream",
     "text": [
      "\r- Processing image:   1472 / 4170"
     ]
    },
    {
     "name": "stdout",
     "output_type": "stream",
     "text": [
      "\r- Processing image:   1473 / 4170"
     ]
    },
    {
     "name": "stdout",
     "output_type": "stream",
     "text": [
      "\r- Processing image:   1474 / 4170"
     ]
    },
    {
     "name": "stdout",
     "output_type": "stream",
     "text": [
      "\r- Processing image:   1475 / 4170"
     ]
    },
    {
     "name": "stdout",
     "output_type": "stream",
     "text": [
      "\r- Processing image:   1476 / 4170"
     ]
    },
    {
     "name": "stdout",
     "output_type": "stream",
     "text": [
      "\r- Processing image:   1477 / 4170"
     ]
    },
    {
     "name": "stdout",
     "output_type": "stream",
     "text": [
      "\r- Processing image:   1478 / 4170"
     ]
    },
    {
     "name": "stdout",
     "output_type": "stream",
     "text": [
      "\r- Processing image:   1479 / 4170"
     ]
    },
    {
     "name": "stdout",
     "output_type": "stream",
     "text": [
      "\r- Processing image:   1480 / 4170"
     ]
    },
    {
     "name": "stdout",
     "output_type": "stream",
     "text": [
      "\r- Processing image:   1481 / 4170"
     ]
    },
    {
     "name": "stdout",
     "output_type": "stream",
     "text": [
      "\r- Processing image:   1482 / 4170"
     ]
    },
    {
     "name": "stdout",
     "output_type": "stream",
     "text": [
      "\r- Processing image:   1483 / 4170"
     ]
    },
    {
     "name": "stdout",
     "output_type": "stream",
     "text": [
      "\r- Processing image:   1484 / 4170"
     ]
    },
    {
     "name": "stdout",
     "output_type": "stream",
     "text": [
      "\r- Processing image:   1485 / 4170"
     ]
    },
    {
     "name": "stdout",
     "output_type": "stream",
     "text": [
      "\r- Processing image:   1486 / 4170"
     ]
    },
    {
     "name": "stdout",
     "output_type": "stream",
     "text": [
      "\r- Processing image:   1487 / 4170"
     ]
    },
    {
     "name": "stdout",
     "output_type": "stream",
     "text": [
      "\r- Processing image:   1488 / 4170"
     ]
    },
    {
     "name": "stdout",
     "output_type": "stream",
     "text": [
      "\r- Processing image:   1489 / 4170"
     ]
    },
    {
     "name": "stdout",
     "output_type": "stream",
     "text": [
      "\r- Processing image:   1490 / 4170"
     ]
    },
    {
     "name": "stdout",
     "output_type": "stream",
     "text": [
      "\r- Processing image:   1491 / 4170"
     ]
    },
    {
     "name": "stdout",
     "output_type": "stream",
     "text": [
      "\r- Processing image:   1492 / 4170"
     ]
    },
    {
     "name": "stdout",
     "output_type": "stream",
     "text": [
      "\r- Processing image:   1493 / 4170"
     ]
    },
    {
     "name": "stdout",
     "output_type": "stream",
     "text": [
      "\r- Processing image:   1494 / 4170"
     ]
    },
    {
     "name": "stdout",
     "output_type": "stream",
     "text": [
      "\r- Processing image:   1495 / 4170"
     ]
    },
    {
     "name": "stdout",
     "output_type": "stream",
     "text": [
      "\r- Processing image:   1496 / 4170"
     ]
    },
    {
     "name": "stdout",
     "output_type": "stream",
     "text": [
      "\r- Processing image:   1497 / 4170"
     ]
    },
    {
     "name": "stdout",
     "output_type": "stream",
     "text": [
      "\r- Processing image:   1498 / 4170"
     ]
    },
    {
     "name": "stdout",
     "output_type": "stream",
     "text": [
      "\r- Processing image:   1499 / 4170"
     ]
    },
    {
     "name": "stdout",
     "output_type": "stream",
     "text": [
      "\r- Processing image:   1500 / 4170"
     ]
    },
    {
     "name": "stdout",
     "output_type": "stream",
     "text": [
      "\r- Processing image:   1501 / 4170"
     ]
    },
    {
     "name": "stdout",
     "output_type": "stream",
     "text": [
      "\r- Processing image:   1502 / 4170"
     ]
    },
    {
     "name": "stdout",
     "output_type": "stream",
     "text": [
      "\r- Processing image:   1503 / 4170"
     ]
    },
    {
     "name": "stdout",
     "output_type": "stream",
     "text": [
      "\r- Processing image:   1504 / 4170"
     ]
    },
    {
     "name": "stdout",
     "output_type": "stream",
     "text": [
      "\r- Processing image:   1505 / 4170"
     ]
    },
    {
     "name": "stdout",
     "output_type": "stream",
     "text": [
      "\r- Processing image:   1506 / 4170"
     ]
    },
    {
     "name": "stdout",
     "output_type": "stream",
     "text": [
      "\r- Processing image:   1507 / 4170"
     ]
    },
    {
     "name": "stdout",
     "output_type": "stream",
     "text": [
      "\r- Processing image:   1508 / 4170"
     ]
    },
    {
     "name": "stdout",
     "output_type": "stream",
     "text": [
      "\r- Processing image:   1509 / 4170"
     ]
    },
    {
     "name": "stdout",
     "output_type": "stream",
     "text": [
      "\r- Processing image:   1510 / 4170"
     ]
    },
    {
     "name": "stdout",
     "output_type": "stream",
     "text": [
      "\r- Processing image:   1511 / 4170"
     ]
    },
    {
     "name": "stdout",
     "output_type": "stream",
     "text": [
      "\r- Processing image:   1512 / 4170"
     ]
    },
    {
     "name": "stdout",
     "output_type": "stream",
     "text": [
      "\r- Processing image:   1513 / 4170"
     ]
    },
    {
     "name": "stdout",
     "output_type": "stream",
     "text": [
      "\r- Processing image:   1514 / 4170"
     ]
    },
    {
     "name": "stdout",
     "output_type": "stream",
     "text": [
      "\r- Processing image:   1515 / 4170"
     ]
    },
    {
     "name": "stdout",
     "output_type": "stream",
     "text": [
      "\r- Processing image:   1516 / 4170"
     ]
    },
    {
     "name": "stdout",
     "output_type": "stream",
     "text": [
      "\r- Processing image:   1517 / 4170"
     ]
    },
    {
     "name": "stdout",
     "output_type": "stream",
     "text": [
      "\r- Processing image:   1518 / 4170"
     ]
    },
    {
     "name": "stdout",
     "output_type": "stream",
     "text": [
      "\r- Processing image:   1519 / 4170"
     ]
    },
    {
     "name": "stdout",
     "output_type": "stream",
     "text": [
      "\r- Processing image:   1520 / 4170"
     ]
    },
    {
     "name": "stdout",
     "output_type": "stream",
     "text": [
      "\r- Processing image:   1521 / 4170"
     ]
    },
    {
     "name": "stdout",
     "output_type": "stream",
     "text": [
      "\r- Processing image:   1522 / 4170"
     ]
    },
    {
     "name": "stdout",
     "output_type": "stream",
     "text": [
      "\r- Processing image:   1523 / 4170"
     ]
    },
    {
     "name": "stdout",
     "output_type": "stream",
     "text": [
      "\r- Processing image:   1524 / 4170"
     ]
    },
    {
     "name": "stdout",
     "output_type": "stream",
     "text": [
      "\r- Processing image:   1525 / 4170"
     ]
    },
    {
     "name": "stdout",
     "output_type": "stream",
     "text": [
      "\r- Processing image:   1526 / 4170"
     ]
    },
    {
     "name": "stdout",
     "output_type": "stream",
     "text": [
      "\r- Processing image:   1527 / 4170"
     ]
    },
    {
     "name": "stdout",
     "output_type": "stream",
     "text": [
      "\r- Processing image:   1528 / 4170"
     ]
    },
    {
     "name": "stdout",
     "output_type": "stream",
     "text": [
      "\r- Processing image:   1529 / 4170"
     ]
    },
    {
     "name": "stdout",
     "output_type": "stream",
     "text": [
      "\r- Processing image:   1530 / 4170"
     ]
    },
    {
     "name": "stdout",
     "output_type": "stream",
     "text": [
      "\r- Processing image:   1531 / 4170"
     ]
    },
    {
     "name": "stdout",
     "output_type": "stream",
     "text": [
      "\r- Processing image:   1532 / 4170"
     ]
    },
    {
     "name": "stdout",
     "output_type": "stream",
     "text": [
      "\r- Processing image:   1533 / 4170"
     ]
    },
    {
     "name": "stdout",
     "output_type": "stream",
     "text": [
      "\r- Processing image:   1534 / 4170"
     ]
    },
    {
     "name": "stdout",
     "output_type": "stream",
     "text": [
      "\r- Processing image:   1535 / 4170"
     ]
    },
    {
     "name": "stdout",
     "output_type": "stream",
     "text": [
      "\r- Processing image:   1536 / 4170"
     ]
    },
    {
     "name": "stdout",
     "output_type": "stream",
     "text": [
      "\r- Processing image:   1537 / 4170"
     ]
    },
    {
     "name": "stdout",
     "output_type": "stream",
     "text": [
      "\r- Processing image:   1538 / 4170"
     ]
    },
    {
     "name": "stdout",
     "output_type": "stream",
     "text": [
      "\r- Processing image:   1539 / 4170"
     ]
    },
    {
     "name": "stdout",
     "output_type": "stream",
     "text": [
      "\r- Processing image:   1540 / 4170"
     ]
    },
    {
     "name": "stdout",
     "output_type": "stream",
     "text": [
      "\r- Processing image:   1541 / 4170"
     ]
    },
    {
     "name": "stdout",
     "output_type": "stream",
     "text": [
      "\r- Processing image:   1542 / 4170"
     ]
    },
    {
     "name": "stdout",
     "output_type": "stream",
     "text": [
      "\r- Processing image:   1543 / 4170"
     ]
    },
    {
     "name": "stdout",
     "output_type": "stream",
     "text": [
      "\r- Processing image:   1544 / 4170"
     ]
    },
    {
     "name": "stdout",
     "output_type": "stream",
     "text": [
      "\r- Processing image:   1545 / 4170"
     ]
    },
    {
     "name": "stdout",
     "output_type": "stream",
     "text": [
      "\r- Processing image:   1546 / 4170"
     ]
    },
    {
     "name": "stdout",
     "output_type": "stream",
     "text": [
      "\r- Processing image:   1547 / 4170"
     ]
    },
    {
     "name": "stdout",
     "output_type": "stream",
     "text": [
      "\r- Processing image:   1548 / 4170"
     ]
    },
    {
     "name": "stdout",
     "output_type": "stream",
     "text": [
      "\r- Processing image:   1549 / 4170"
     ]
    },
    {
     "name": "stdout",
     "output_type": "stream",
     "text": [
      "\r- Processing image:   1550 / 4170"
     ]
    },
    {
     "name": "stdout",
     "output_type": "stream",
     "text": [
      "\r- Processing image:   1551 / 4170"
     ]
    },
    {
     "name": "stdout",
     "output_type": "stream",
     "text": [
      "\r- Processing image:   1552 / 4170"
     ]
    },
    {
     "name": "stdout",
     "output_type": "stream",
     "text": [
      "\r- Processing image:   1553 / 4170"
     ]
    },
    {
     "name": "stdout",
     "output_type": "stream",
     "text": [
      "\r- Processing image:   1554 / 4170"
     ]
    },
    {
     "name": "stdout",
     "output_type": "stream",
     "text": [
      "\r- Processing image:   1555 / 4170"
     ]
    },
    {
     "name": "stdout",
     "output_type": "stream",
     "text": [
      "\r- Processing image:   1556 / 4170"
     ]
    },
    {
     "name": "stdout",
     "output_type": "stream",
     "text": [
      "\r- Processing image:   1557 / 4170"
     ]
    },
    {
     "name": "stdout",
     "output_type": "stream",
     "text": [
      "\r- Processing image:   1558 / 4170"
     ]
    },
    {
     "name": "stdout",
     "output_type": "stream",
     "text": [
      "\r- Processing image:   1559 / 4170"
     ]
    },
    {
     "name": "stdout",
     "output_type": "stream",
     "text": [
      "\r- Processing image:   1560 / 4170"
     ]
    },
    {
     "name": "stdout",
     "output_type": "stream",
     "text": [
      "\r- Processing image:   1561 / 4170"
     ]
    },
    {
     "name": "stdout",
     "output_type": "stream",
     "text": [
      "\r- Processing image:   1562 / 4170"
     ]
    },
    {
     "name": "stdout",
     "output_type": "stream",
     "text": [
      "\r- Processing image:   1563 / 4170"
     ]
    },
    {
     "name": "stdout",
     "output_type": "stream",
     "text": [
      "\r- Processing image:   1564 / 4170"
     ]
    },
    {
     "name": "stdout",
     "output_type": "stream",
     "text": [
      "\r- Processing image:   1565 / 4170"
     ]
    },
    {
     "name": "stdout",
     "output_type": "stream",
     "text": [
      "\r- Processing image:   1566 / 4170"
     ]
    },
    {
     "name": "stdout",
     "output_type": "stream",
     "text": [
      "\r- Processing image:   1567 / 4170"
     ]
    },
    {
     "name": "stdout",
     "output_type": "stream",
     "text": [
      "\r- Processing image:   1568 / 4170"
     ]
    },
    {
     "name": "stdout",
     "output_type": "stream",
     "text": [
      "\r- Processing image:   1569 / 4170"
     ]
    },
    {
     "name": "stdout",
     "output_type": "stream",
     "text": [
      "\r- Processing image:   1570 / 4170"
     ]
    },
    {
     "name": "stdout",
     "output_type": "stream",
     "text": [
      "\r- Processing image:   1571 / 4170"
     ]
    },
    {
     "name": "stdout",
     "output_type": "stream",
     "text": [
      "\r- Processing image:   1572 / 4170"
     ]
    },
    {
     "name": "stdout",
     "output_type": "stream",
     "text": [
      "\r- Processing image:   1573 / 4170"
     ]
    },
    {
     "name": "stdout",
     "output_type": "stream",
     "text": [
      "\r- Processing image:   1574 / 4170"
     ]
    },
    {
     "name": "stdout",
     "output_type": "stream",
     "text": [
      "\r- Processing image:   1575 / 4170"
     ]
    },
    {
     "name": "stdout",
     "output_type": "stream",
     "text": [
      "\r- Processing image:   1576 / 4170"
     ]
    },
    {
     "name": "stdout",
     "output_type": "stream",
     "text": [
      "\r- Processing image:   1577 / 4170"
     ]
    },
    {
     "name": "stdout",
     "output_type": "stream",
     "text": [
      "\r- Processing image:   1578 / 4170"
     ]
    },
    {
     "name": "stdout",
     "output_type": "stream",
     "text": [
      "\r- Processing image:   1579 / 4170"
     ]
    },
    {
     "name": "stdout",
     "output_type": "stream",
     "text": [
      "\r- Processing image:   1580 / 4170"
     ]
    },
    {
     "name": "stdout",
     "output_type": "stream",
     "text": [
      "\r- Processing image:   1581 / 4170"
     ]
    },
    {
     "name": "stdout",
     "output_type": "stream",
     "text": [
      "\r- Processing image:   1582 / 4170"
     ]
    },
    {
     "name": "stdout",
     "output_type": "stream",
     "text": [
      "\r- Processing image:   1583 / 4170"
     ]
    },
    {
     "name": "stdout",
     "output_type": "stream",
     "text": [
      "\r- Processing image:   1584 / 4170"
     ]
    },
    {
     "name": "stdout",
     "output_type": "stream",
     "text": [
      "\r- Processing image:   1585 / 4170"
     ]
    },
    {
     "name": "stdout",
     "output_type": "stream",
     "text": [
      "\r- Processing image:   1586 / 4170"
     ]
    },
    {
     "name": "stdout",
     "output_type": "stream",
     "text": [
      "\r- Processing image:   1587 / 4170"
     ]
    },
    {
     "name": "stdout",
     "output_type": "stream",
     "text": [
      "\r- Processing image:   1588 / 4170"
     ]
    },
    {
     "name": "stdout",
     "output_type": "stream",
     "text": [
      "\r- Processing image:   1589 / 4170"
     ]
    },
    {
     "name": "stdout",
     "output_type": "stream",
     "text": [
      "\r- Processing image:   1590 / 4170"
     ]
    },
    {
     "name": "stdout",
     "output_type": "stream",
     "text": [
      "\r- Processing image:   1591 / 4170"
     ]
    },
    {
     "name": "stdout",
     "output_type": "stream",
     "text": [
      "\r- Processing image:   1592 / 4170"
     ]
    },
    {
     "name": "stdout",
     "output_type": "stream",
     "text": [
      "\r- Processing image:   1593 / 4170"
     ]
    },
    {
     "name": "stdout",
     "output_type": "stream",
     "text": [
      "\r- Processing image:   1594 / 4170"
     ]
    },
    {
     "name": "stdout",
     "output_type": "stream",
     "text": [
      "\r- Processing image:   1595 / 4170"
     ]
    },
    {
     "name": "stdout",
     "output_type": "stream",
     "text": [
      "\r- Processing image:   1596 / 4170"
     ]
    },
    {
     "name": "stdout",
     "output_type": "stream",
     "text": [
      "\r- Processing image:   1597 / 4170"
     ]
    },
    {
     "name": "stdout",
     "output_type": "stream",
     "text": [
      "\r- Processing image:   1598 / 4170"
     ]
    },
    {
     "name": "stdout",
     "output_type": "stream",
     "text": [
      "\r- Processing image:   1599 / 4170"
     ]
    },
    {
     "name": "stdout",
     "output_type": "stream",
     "text": [
      "\r- Processing image:   1600 / 4170"
     ]
    },
    {
     "name": "stdout",
     "output_type": "stream",
     "text": [
      "\r- Processing image:   1601 / 4170"
     ]
    },
    {
     "name": "stdout",
     "output_type": "stream",
     "text": [
      "\r- Processing image:   1602 / 4170"
     ]
    },
    {
     "name": "stdout",
     "output_type": "stream",
     "text": [
      "\r- Processing image:   1603 / 4170"
     ]
    },
    {
     "name": "stdout",
     "output_type": "stream",
     "text": [
      "\r- Processing image:   1604 / 4170"
     ]
    },
    {
     "name": "stdout",
     "output_type": "stream",
     "text": [
      "\r- Processing image:   1605 / 4170"
     ]
    },
    {
     "name": "stdout",
     "output_type": "stream",
     "text": [
      "\r- Processing image:   1606 / 4170"
     ]
    },
    {
     "name": "stdout",
     "output_type": "stream",
     "text": [
      "\r- Processing image:   1607 / 4170"
     ]
    },
    {
     "name": "stdout",
     "output_type": "stream",
     "text": [
      "\r- Processing image:   1608 / 4170"
     ]
    },
    {
     "name": "stdout",
     "output_type": "stream",
     "text": [
      "\r- Processing image:   1609 / 4170"
     ]
    },
    {
     "name": "stdout",
     "output_type": "stream",
     "text": [
      "\r- Processing image:   1610 / 4170"
     ]
    },
    {
     "name": "stdout",
     "output_type": "stream",
     "text": [
      "\r- Processing image:   1611 / 4170"
     ]
    },
    {
     "name": "stdout",
     "output_type": "stream",
     "text": [
      "\r- Processing image:   1612 / 4170"
     ]
    },
    {
     "name": "stdout",
     "output_type": "stream",
     "text": [
      "\r- Processing image:   1613 / 4170"
     ]
    },
    {
     "name": "stdout",
     "output_type": "stream",
     "text": [
      "\r- Processing image:   1614 / 4170"
     ]
    },
    {
     "name": "stdout",
     "output_type": "stream",
     "text": [
      "\r- Processing image:   1615 / 4170"
     ]
    },
    {
     "name": "stdout",
     "output_type": "stream",
     "text": [
      "\r- Processing image:   1616 / 4170"
     ]
    },
    {
     "name": "stdout",
     "output_type": "stream",
     "text": [
      "\r- Processing image:   1617 / 4170"
     ]
    },
    {
     "name": "stdout",
     "output_type": "stream",
     "text": [
      "\r- Processing image:   1618 / 4170"
     ]
    },
    {
     "name": "stdout",
     "output_type": "stream",
     "text": [
      "\r- Processing image:   1619 / 4170"
     ]
    },
    {
     "name": "stdout",
     "output_type": "stream",
     "text": [
      "\r- Processing image:   1620 / 4170"
     ]
    },
    {
     "name": "stdout",
     "output_type": "stream",
     "text": [
      "\r- Processing image:   1621 / 4170"
     ]
    },
    {
     "name": "stdout",
     "output_type": "stream",
     "text": [
      "\r- Processing image:   1622 / 4170"
     ]
    },
    {
     "name": "stdout",
     "output_type": "stream",
     "text": [
      "\r- Processing image:   1623 / 4170"
     ]
    },
    {
     "name": "stdout",
     "output_type": "stream",
     "text": [
      "\r- Processing image:   1624 / 4170"
     ]
    },
    {
     "name": "stdout",
     "output_type": "stream",
     "text": [
      "\r- Processing image:   1625 / 4170"
     ]
    },
    {
     "name": "stdout",
     "output_type": "stream",
     "text": [
      "\r- Processing image:   1626 / 4170"
     ]
    },
    {
     "name": "stdout",
     "output_type": "stream",
     "text": [
      "\r- Processing image:   1627 / 4170"
     ]
    },
    {
     "name": "stdout",
     "output_type": "stream",
     "text": [
      "\r- Processing image:   1628 / 4170"
     ]
    },
    {
     "name": "stdout",
     "output_type": "stream",
     "text": [
      "\r- Processing image:   1629 / 4170"
     ]
    },
    {
     "name": "stdout",
     "output_type": "stream",
     "text": [
      "\r- Processing image:   1630 / 4170"
     ]
    },
    {
     "name": "stdout",
     "output_type": "stream",
     "text": [
      "\r- Processing image:   1631 / 4170"
     ]
    },
    {
     "name": "stdout",
     "output_type": "stream",
     "text": [
      "\r- Processing image:   1632 / 4170"
     ]
    },
    {
     "name": "stdout",
     "output_type": "stream",
     "text": [
      "\r- Processing image:   1633 / 4170"
     ]
    },
    {
     "name": "stdout",
     "output_type": "stream",
     "text": [
      "\r- Processing image:   1634 / 4170"
     ]
    },
    {
     "name": "stdout",
     "output_type": "stream",
     "text": [
      "\r- Processing image:   1635 / 4170"
     ]
    },
    {
     "name": "stdout",
     "output_type": "stream",
     "text": [
      "\r- Processing image:   1636 / 4170"
     ]
    },
    {
     "name": "stdout",
     "output_type": "stream",
     "text": [
      "\r- Processing image:   1637 / 4170"
     ]
    },
    {
     "name": "stdout",
     "output_type": "stream",
     "text": [
      "\r- Processing image:   1638 / 4170"
     ]
    },
    {
     "name": "stdout",
     "output_type": "stream",
     "text": [
      "\r- Processing image:   1639 / 4170"
     ]
    },
    {
     "name": "stdout",
     "output_type": "stream",
     "text": [
      "\r- Processing image:   1640 / 4170"
     ]
    },
    {
     "name": "stdout",
     "output_type": "stream",
     "text": [
      "\r- Processing image:   1641 / 4170"
     ]
    },
    {
     "name": "stdout",
     "output_type": "stream",
     "text": [
      "\r- Processing image:   1642 / 4170"
     ]
    },
    {
     "name": "stdout",
     "output_type": "stream",
     "text": [
      "\r- Processing image:   1643 / 4170"
     ]
    },
    {
     "name": "stdout",
     "output_type": "stream",
     "text": [
      "\r- Processing image:   1644 / 4170"
     ]
    },
    {
     "name": "stdout",
     "output_type": "stream",
     "text": [
      "\r- Processing image:   1645 / 4170"
     ]
    },
    {
     "name": "stdout",
     "output_type": "stream",
     "text": [
      "\r- Processing image:   1646 / 4170"
     ]
    },
    {
     "name": "stdout",
     "output_type": "stream",
     "text": [
      "\r- Processing image:   1647 / 4170"
     ]
    },
    {
     "name": "stdout",
     "output_type": "stream",
     "text": [
      "\r- Processing image:   1648 / 4170"
     ]
    },
    {
     "name": "stdout",
     "output_type": "stream",
     "text": [
      "\r- Processing image:   1649 / 4170"
     ]
    },
    {
     "name": "stdout",
     "output_type": "stream",
     "text": [
      "\r- Processing image:   1650 / 4170"
     ]
    },
    {
     "name": "stdout",
     "output_type": "stream",
     "text": [
      "\r- Processing image:   1651 / 4170"
     ]
    },
    {
     "name": "stdout",
     "output_type": "stream",
     "text": [
      "\r- Processing image:   1652 / 4170"
     ]
    },
    {
     "name": "stdout",
     "output_type": "stream",
     "text": [
      "\r- Processing image:   1653 / 4170"
     ]
    },
    {
     "name": "stdout",
     "output_type": "stream",
     "text": [
      "\r- Processing image:   1654 / 4170"
     ]
    },
    {
     "name": "stdout",
     "output_type": "stream",
     "text": [
      "\r- Processing image:   1655 / 4170"
     ]
    },
    {
     "name": "stdout",
     "output_type": "stream",
     "text": [
      "\r- Processing image:   1656 / 4170"
     ]
    },
    {
     "name": "stdout",
     "output_type": "stream",
     "text": [
      "\r- Processing image:   1657 / 4170"
     ]
    },
    {
     "name": "stdout",
     "output_type": "stream",
     "text": [
      "\r- Processing image:   1658 / 4170"
     ]
    },
    {
     "name": "stdout",
     "output_type": "stream",
     "text": [
      "\r- Processing image:   1659 / 4170"
     ]
    },
    {
     "name": "stdout",
     "output_type": "stream",
     "text": [
      "\r- Processing image:   1660 / 4170"
     ]
    },
    {
     "name": "stdout",
     "output_type": "stream",
     "text": [
      "\r- Processing image:   1661 / 4170"
     ]
    },
    {
     "name": "stdout",
     "output_type": "stream",
     "text": [
      "\r- Processing image:   1662 / 4170"
     ]
    },
    {
     "name": "stdout",
     "output_type": "stream",
     "text": [
      "\r- Processing image:   1663 / 4170"
     ]
    },
    {
     "name": "stdout",
     "output_type": "stream",
     "text": [
      "\r- Processing image:   1664 / 4170"
     ]
    },
    {
     "name": "stdout",
     "output_type": "stream",
     "text": [
      "\r- Processing image:   1665 / 4170"
     ]
    },
    {
     "name": "stdout",
     "output_type": "stream",
     "text": [
      "\r- Processing image:   1666 / 4170"
     ]
    },
    {
     "name": "stdout",
     "output_type": "stream",
     "text": [
      "\r- Processing image:   1667 / 4170"
     ]
    },
    {
     "name": "stdout",
     "output_type": "stream",
     "text": [
      "\r- Processing image:   1668 / 4170"
     ]
    },
    {
     "name": "stdout",
     "output_type": "stream",
     "text": [
      "\r- Processing image:   1669 / 4170"
     ]
    },
    {
     "name": "stdout",
     "output_type": "stream",
     "text": [
      "\r- Processing image:   1670 / 4170"
     ]
    },
    {
     "name": "stdout",
     "output_type": "stream",
     "text": [
      "\r- Processing image:   1671 / 4170"
     ]
    },
    {
     "name": "stdout",
     "output_type": "stream",
     "text": [
      "\r- Processing image:   1672 / 4170"
     ]
    },
    {
     "name": "stdout",
     "output_type": "stream",
     "text": [
      "\r- Processing image:   1673 / 4170"
     ]
    },
    {
     "name": "stdout",
     "output_type": "stream",
     "text": [
      "\r- Processing image:   1674 / 4170"
     ]
    },
    {
     "name": "stdout",
     "output_type": "stream",
     "text": [
      "\r- Processing image:   1675 / 4170"
     ]
    },
    {
     "name": "stdout",
     "output_type": "stream",
     "text": [
      "\r- Processing image:   1676 / 4170"
     ]
    },
    {
     "name": "stdout",
     "output_type": "stream",
     "text": [
      "\r- Processing image:   1677 / 4170"
     ]
    },
    {
     "name": "stdout",
     "output_type": "stream",
     "text": [
      "\r- Processing image:   1678 / 4170"
     ]
    },
    {
     "name": "stdout",
     "output_type": "stream",
     "text": [
      "\r- Processing image:   1679 / 4170"
     ]
    },
    {
     "name": "stdout",
     "output_type": "stream",
     "text": [
      "\r- Processing image:   1680 / 4170"
     ]
    },
    {
     "name": "stdout",
     "output_type": "stream",
     "text": [
      "\r- Processing image:   1681 / 4170"
     ]
    },
    {
     "name": "stdout",
     "output_type": "stream",
     "text": [
      "\r- Processing image:   1682 / 4170"
     ]
    },
    {
     "name": "stdout",
     "output_type": "stream",
     "text": [
      "\r- Processing image:   1683 / 4170"
     ]
    },
    {
     "name": "stdout",
     "output_type": "stream",
     "text": [
      "\r- Processing image:   1684 / 4170"
     ]
    },
    {
     "name": "stdout",
     "output_type": "stream",
     "text": [
      "\r- Processing image:   1685 / 4170"
     ]
    },
    {
     "name": "stdout",
     "output_type": "stream",
     "text": [
      "\r- Processing image:   1686 / 4170"
     ]
    },
    {
     "name": "stdout",
     "output_type": "stream",
     "text": [
      "\r- Processing image:   1687 / 4170"
     ]
    },
    {
     "name": "stdout",
     "output_type": "stream",
     "text": [
      "\r- Processing image:   1688 / 4170"
     ]
    },
    {
     "name": "stdout",
     "output_type": "stream",
     "text": [
      "\r- Processing image:   1689 / 4170"
     ]
    },
    {
     "name": "stdout",
     "output_type": "stream",
     "text": [
      "\r- Processing image:   1690 / 4170"
     ]
    },
    {
     "name": "stdout",
     "output_type": "stream",
     "text": [
      "\r- Processing image:   1691 / 4170"
     ]
    },
    {
     "name": "stdout",
     "output_type": "stream",
     "text": [
      "\r- Processing image:   1692 / 4170"
     ]
    },
    {
     "name": "stdout",
     "output_type": "stream",
     "text": [
      "\r- Processing image:   1693 / 4170"
     ]
    },
    {
     "name": "stdout",
     "output_type": "stream",
     "text": [
      "\r- Processing image:   1694 / 4170"
     ]
    },
    {
     "name": "stdout",
     "output_type": "stream",
     "text": [
      "\r- Processing image:   1695 / 4170"
     ]
    },
    {
     "name": "stdout",
     "output_type": "stream",
     "text": [
      "\r- Processing image:   1696 / 4170"
     ]
    },
    {
     "name": "stdout",
     "output_type": "stream",
     "text": [
      "\r- Processing image:   1697 / 4170"
     ]
    },
    {
     "name": "stdout",
     "output_type": "stream",
     "text": [
      "\r- Processing image:   1698 / 4170"
     ]
    },
    {
     "name": "stdout",
     "output_type": "stream",
     "text": [
      "\r- Processing image:   1699 / 4170"
     ]
    },
    {
     "name": "stdout",
     "output_type": "stream",
     "text": [
      "\r- Processing image:   1700 / 4170"
     ]
    },
    {
     "name": "stdout",
     "output_type": "stream",
     "text": [
      "\r- Processing image:   1701 / 4170"
     ]
    },
    {
     "name": "stdout",
     "output_type": "stream",
     "text": [
      "\r- Processing image:   1702 / 4170"
     ]
    },
    {
     "name": "stdout",
     "output_type": "stream",
     "text": [
      "\r- Processing image:   1703 / 4170"
     ]
    },
    {
     "name": "stdout",
     "output_type": "stream",
     "text": [
      "\r- Processing image:   1704 / 4170"
     ]
    },
    {
     "name": "stdout",
     "output_type": "stream",
     "text": [
      "\r- Processing image:   1705 / 4170"
     ]
    },
    {
     "name": "stdout",
     "output_type": "stream",
     "text": [
      "\r- Processing image:   1706 / 4170"
     ]
    },
    {
     "name": "stdout",
     "output_type": "stream",
     "text": [
      "\r- Processing image:   1707 / 4170"
     ]
    },
    {
     "name": "stdout",
     "output_type": "stream",
     "text": [
      "\r- Processing image:   1708 / 4170"
     ]
    },
    {
     "name": "stdout",
     "output_type": "stream",
     "text": [
      "\r- Processing image:   1709 / 4170"
     ]
    },
    {
     "name": "stdout",
     "output_type": "stream",
     "text": [
      "\r- Processing image:   1710 / 4170"
     ]
    },
    {
     "name": "stdout",
     "output_type": "stream",
     "text": [
      "\r- Processing image:   1711 / 4170"
     ]
    },
    {
     "name": "stdout",
     "output_type": "stream",
     "text": [
      "\r- Processing image:   1712 / 4170"
     ]
    },
    {
     "name": "stdout",
     "output_type": "stream",
     "text": [
      "\r- Processing image:   1713 / 4170"
     ]
    },
    {
     "name": "stdout",
     "output_type": "stream",
     "text": [
      "\r- Processing image:   1714 / 4170"
     ]
    },
    {
     "name": "stdout",
     "output_type": "stream",
     "text": [
      "\r- Processing image:   1715 / 4170"
     ]
    },
    {
     "name": "stdout",
     "output_type": "stream",
     "text": [
      "\r- Processing image:   1716 / 4170"
     ]
    },
    {
     "name": "stdout",
     "output_type": "stream",
     "text": [
      "\r- Processing image:   1717 / 4170"
     ]
    },
    {
     "name": "stdout",
     "output_type": "stream",
     "text": [
      "\r- Processing image:   1718 / 4170"
     ]
    },
    {
     "name": "stdout",
     "output_type": "stream",
     "text": [
      "\r- Processing image:   1719 / 4170"
     ]
    },
    {
     "name": "stdout",
     "output_type": "stream",
     "text": [
      "\r- Processing image:   1720 / 4170"
     ]
    },
    {
     "name": "stdout",
     "output_type": "stream",
     "text": [
      "\r- Processing image:   1721 / 4170"
     ]
    },
    {
     "name": "stdout",
     "output_type": "stream",
     "text": [
      "\r- Processing image:   1722 / 4170"
     ]
    },
    {
     "name": "stdout",
     "output_type": "stream",
     "text": [
      "\r- Processing image:   1723 / 4170"
     ]
    },
    {
     "name": "stdout",
     "output_type": "stream",
     "text": [
      "\r- Processing image:   1724 / 4170"
     ]
    },
    {
     "name": "stdout",
     "output_type": "stream",
     "text": [
      "\r- Processing image:   1725 / 4170"
     ]
    },
    {
     "name": "stdout",
     "output_type": "stream",
     "text": [
      "\r- Processing image:   1726 / 4170"
     ]
    },
    {
     "name": "stdout",
     "output_type": "stream",
     "text": [
      "\r- Processing image:   1727 / 4170"
     ]
    },
    {
     "name": "stdout",
     "output_type": "stream",
     "text": [
      "\r- Processing image:   1728 / 4170"
     ]
    },
    {
     "name": "stdout",
     "output_type": "stream",
     "text": [
      "\r- Processing image:   1729 / 4170"
     ]
    },
    {
     "name": "stdout",
     "output_type": "stream",
     "text": [
      "\r- Processing image:   1730 / 4170"
     ]
    },
    {
     "name": "stdout",
     "output_type": "stream",
     "text": [
      "\r- Processing image:   1731 / 4170"
     ]
    },
    {
     "name": "stdout",
     "output_type": "stream",
     "text": [
      "\r- Processing image:   1732 / 4170"
     ]
    },
    {
     "name": "stdout",
     "output_type": "stream",
     "text": [
      "\r- Processing image:   1733 / 4170"
     ]
    },
    {
     "name": "stdout",
     "output_type": "stream",
     "text": [
      "\r- Processing image:   1734 / 4170"
     ]
    },
    {
     "name": "stdout",
     "output_type": "stream",
     "text": [
      "\r- Processing image:   1735 / 4170"
     ]
    },
    {
     "name": "stdout",
     "output_type": "stream",
     "text": [
      "\r- Processing image:   1736 / 4170"
     ]
    },
    {
     "name": "stdout",
     "output_type": "stream",
     "text": [
      "\r- Processing image:   1737 / 4170"
     ]
    },
    {
     "name": "stdout",
     "output_type": "stream",
     "text": [
      "\r- Processing image:   1738 / 4170"
     ]
    },
    {
     "name": "stdout",
     "output_type": "stream",
     "text": [
      "\r- Processing image:   1739 / 4170"
     ]
    },
    {
     "name": "stdout",
     "output_type": "stream",
     "text": [
      "\r- Processing image:   1740 / 4170"
     ]
    },
    {
     "name": "stdout",
     "output_type": "stream",
     "text": [
      "\r- Processing image:   1741 / 4170"
     ]
    },
    {
     "name": "stdout",
     "output_type": "stream",
     "text": [
      "\r- Processing image:   1742 / 4170"
     ]
    },
    {
     "name": "stdout",
     "output_type": "stream",
     "text": [
      "\r- Processing image:   1743 / 4170"
     ]
    },
    {
     "name": "stdout",
     "output_type": "stream",
     "text": [
      "\r- Processing image:   1744 / 4170"
     ]
    },
    {
     "name": "stdout",
     "output_type": "stream",
     "text": [
      "\r- Processing image:   1745 / 4170"
     ]
    },
    {
     "name": "stdout",
     "output_type": "stream",
     "text": [
      "\r- Processing image:   1746 / 4170"
     ]
    },
    {
     "name": "stdout",
     "output_type": "stream",
     "text": [
      "\r- Processing image:   1747 / 4170"
     ]
    },
    {
     "name": "stdout",
     "output_type": "stream",
     "text": [
      "\r- Processing image:   1748 / 4170"
     ]
    },
    {
     "name": "stdout",
     "output_type": "stream",
     "text": [
      "\r- Processing image:   1749 / 4170"
     ]
    },
    {
     "name": "stdout",
     "output_type": "stream",
     "text": [
      "\r- Processing image:   1750 / 4170"
     ]
    },
    {
     "name": "stdout",
     "output_type": "stream",
     "text": [
      "\r- Processing image:   1751 / 4170"
     ]
    },
    {
     "name": "stdout",
     "output_type": "stream",
     "text": [
      "\r- Processing image:   1752 / 4170"
     ]
    },
    {
     "name": "stdout",
     "output_type": "stream",
     "text": [
      "\r- Processing image:   1753 / 4170"
     ]
    },
    {
     "name": "stdout",
     "output_type": "stream",
     "text": [
      "\r- Processing image:   1754 / 4170"
     ]
    },
    {
     "name": "stdout",
     "output_type": "stream",
     "text": [
      "\r- Processing image:   1755 / 4170"
     ]
    },
    {
     "name": "stdout",
     "output_type": "stream",
     "text": [
      "\r- Processing image:   1756 / 4170"
     ]
    },
    {
     "name": "stdout",
     "output_type": "stream",
     "text": [
      "\r- Processing image:   1757 / 4170"
     ]
    },
    {
     "name": "stdout",
     "output_type": "stream",
     "text": [
      "\r- Processing image:   1758 / 4170"
     ]
    },
    {
     "name": "stdout",
     "output_type": "stream",
     "text": [
      "\r- Processing image:   1759 / 4170"
     ]
    },
    {
     "name": "stdout",
     "output_type": "stream",
     "text": [
      "\r- Processing image:   1760 / 4170"
     ]
    },
    {
     "name": "stdout",
     "output_type": "stream",
     "text": [
      "\r- Processing image:   1761 / 4170"
     ]
    },
    {
     "name": "stdout",
     "output_type": "stream",
     "text": [
      "\r- Processing image:   1762 / 4170"
     ]
    },
    {
     "name": "stdout",
     "output_type": "stream",
     "text": [
      "\r- Processing image:   1763 / 4170"
     ]
    },
    {
     "name": "stdout",
     "output_type": "stream",
     "text": [
      "\r- Processing image:   1764 / 4170"
     ]
    },
    {
     "name": "stdout",
     "output_type": "stream",
     "text": [
      "\r- Processing image:   1765 / 4170"
     ]
    },
    {
     "name": "stdout",
     "output_type": "stream",
     "text": [
      "\r- Processing image:   1766 / 4170"
     ]
    },
    {
     "name": "stdout",
     "output_type": "stream",
     "text": [
      "\r- Processing image:   1767 / 4170"
     ]
    },
    {
     "name": "stdout",
     "output_type": "stream",
     "text": [
      "\r- Processing image:   1768 / 4170"
     ]
    },
    {
     "name": "stdout",
     "output_type": "stream",
     "text": [
      "\r- Processing image:   1769 / 4170"
     ]
    },
    {
     "name": "stdout",
     "output_type": "stream",
     "text": [
      "\r- Processing image:   1770 / 4170"
     ]
    },
    {
     "name": "stdout",
     "output_type": "stream",
     "text": [
      "\r- Processing image:   1771 / 4170"
     ]
    },
    {
     "name": "stdout",
     "output_type": "stream",
     "text": [
      "\r- Processing image:   1772 / 4170"
     ]
    },
    {
     "name": "stdout",
     "output_type": "stream",
     "text": [
      "\r- Processing image:   1773 / 4170"
     ]
    },
    {
     "name": "stdout",
     "output_type": "stream",
     "text": [
      "\r- Processing image:   1774 / 4170"
     ]
    },
    {
     "name": "stdout",
     "output_type": "stream",
     "text": [
      "\r- Processing image:   1775 / 4170"
     ]
    },
    {
     "name": "stdout",
     "output_type": "stream",
     "text": [
      "\r- Processing image:   1776 / 4170"
     ]
    },
    {
     "name": "stdout",
     "output_type": "stream",
     "text": [
      "\r- Processing image:   1777 / 4170"
     ]
    },
    {
     "name": "stdout",
     "output_type": "stream",
     "text": [
      "\r- Processing image:   1778 / 4170"
     ]
    },
    {
     "name": "stdout",
     "output_type": "stream",
     "text": [
      "\r- Processing image:   1779 / 4170"
     ]
    },
    {
     "name": "stdout",
     "output_type": "stream",
     "text": [
      "\r- Processing image:   1780 / 4170"
     ]
    },
    {
     "name": "stdout",
     "output_type": "stream",
     "text": [
      "\r- Processing image:   1781 / 4170"
     ]
    },
    {
     "name": "stdout",
     "output_type": "stream",
     "text": [
      "\r- Processing image:   1782 / 4170"
     ]
    },
    {
     "name": "stdout",
     "output_type": "stream",
     "text": [
      "\r- Processing image:   1783 / 4170"
     ]
    },
    {
     "name": "stdout",
     "output_type": "stream",
     "text": [
      "\r- Processing image:   1784 / 4170"
     ]
    },
    {
     "name": "stdout",
     "output_type": "stream",
     "text": [
      "\r- Processing image:   1785 / 4170"
     ]
    },
    {
     "name": "stdout",
     "output_type": "stream",
     "text": [
      "\r- Processing image:   1786 / 4170"
     ]
    },
    {
     "name": "stdout",
     "output_type": "stream",
     "text": [
      "\r- Processing image:   1787 / 4170"
     ]
    },
    {
     "name": "stdout",
     "output_type": "stream",
     "text": [
      "\r- Processing image:   1788 / 4170"
     ]
    },
    {
     "name": "stdout",
     "output_type": "stream",
     "text": [
      "\r- Processing image:   1789 / 4170"
     ]
    },
    {
     "name": "stdout",
     "output_type": "stream",
     "text": [
      "\r- Processing image:   1790 / 4170"
     ]
    },
    {
     "name": "stdout",
     "output_type": "stream",
     "text": [
      "\r- Processing image:   1791 / 4170"
     ]
    },
    {
     "name": "stdout",
     "output_type": "stream",
     "text": [
      "\r- Processing image:   1792 / 4170"
     ]
    },
    {
     "name": "stdout",
     "output_type": "stream",
     "text": [
      "\r- Processing image:   1793 / 4170"
     ]
    },
    {
     "name": "stdout",
     "output_type": "stream",
     "text": [
      "\r- Processing image:   1794 / 4170"
     ]
    },
    {
     "name": "stdout",
     "output_type": "stream",
     "text": [
      "\r- Processing image:   1795 / 4170"
     ]
    },
    {
     "name": "stdout",
     "output_type": "stream",
     "text": [
      "\r- Processing image:   1796 / 4170"
     ]
    },
    {
     "name": "stdout",
     "output_type": "stream",
     "text": [
      "\r- Processing image:   1797 / 4170"
     ]
    },
    {
     "name": "stdout",
     "output_type": "stream",
     "text": [
      "\r- Processing image:   1798 / 4170"
     ]
    },
    {
     "name": "stdout",
     "output_type": "stream",
     "text": [
      "\r- Processing image:   1799 / 4170"
     ]
    },
    {
     "name": "stdout",
     "output_type": "stream",
     "text": [
      "\r- Processing image:   1800 / 4170"
     ]
    },
    {
     "name": "stdout",
     "output_type": "stream",
     "text": [
      "\r- Processing image:   1801 / 4170"
     ]
    },
    {
     "name": "stdout",
     "output_type": "stream",
     "text": [
      "\r- Processing image:   1802 / 4170"
     ]
    },
    {
     "name": "stdout",
     "output_type": "stream",
     "text": [
      "\r- Processing image:   1803 / 4170"
     ]
    },
    {
     "name": "stdout",
     "output_type": "stream",
     "text": [
      "\r- Processing image:   1804 / 4170"
     ]
    },
    {
     "name": "stdout",
     "output_type": "stream",
     "text": [
      "\r- Processing image:   1805 / 4170"
     ]
    },
    {
     "name": "stdout",
     "output_type": "stream",
     "text": [
      "\r- Processing image:   1806 / 4170"
     ]
    },
    {
     "name": "stdout",
     "output_type": "stream",
     "text": [
      "\r- Processing image:   1807 / 4170"
     ]
    },
    {
     "name": "stdout",
     "output_type": "stream",
     "text": [
      "\r- Processing image:   1808 / 4170"
     ]
    },
    {
     "name": "stdout",
     "output_type": "stream",
     "text": [
      "\r- Processing image:   1809 / 4170"
     ]
    },
    {
     "name": "stdout",
     "output_type": "stream",
     "text": [
      "\r- Processing image:   1810 / 4170"
     ]
    },
    {
     "name": "stdout",
     "output_type": "stream",
     "text": [
      "\r- Processing image:   1811 / 4170"
     ]
    },
    {
     "name": "stdout",
     "output_type": "stream",
     "text": [
      "\r- Processing image:   1812 / 4170"
     ]
    },
    {
     "name": "stdout",
     "output_type": "stream",
     "text": [
      "\r- Processing image:   1813 / 4170"
     ]
    },
    {
     "name": "stdout",
     "output_type": "stream",
     "text": [
      "\r- Processing image:   1814 / 4170"
     ]
    },
    {
     "name": "stdout",
     "output_type": "stream",
     "text": [
      "\r- Processing image:   1815 / 4170"
     ]
    },
    {
     "name": "stdout",
     "output_type": "stream",
     "text": [
      "\r- Processing image:   1816 / 4170"
     ]
    },
    {
     "name": "stdout",
     "output_type": "stream",
     "text": [
      "\r- Processing image:   1817 / 4170"
     ]
    },
    {
     "name": "stdout",
     "output_type": "stream",
     "text": [
      "\r- Processing image:   1818 / 4170"
     ]
    },
    {
     "name": "stdout",
     "output_type": "stream",
     "text": [
      "\r- Processing image:   1819 / 4170"
     ]
    },
    {
     "name": "stdout",
     "output_type": "stream",
     "text": [
      "\r- Processing image:   1820 / 4170"
     ]
    },
    {
     "name": "stdout",
     "output_type": "stream",
     "text": [
      "\r- Processing image:   1821 / 4170"
     ]
    },
    {
     "name": "stdout",
     "output_type": "stream",
     "text": [
      "\r- Processing image:   1822 / 4170"
     ]
    },
    {
     "name": "stdout",
     "output_type": "stream",
     "text": [
      "\r- Processing image:   1823 / 4170"
     ]
    },
    {
     "name": "stdout",
     "output_type": "stream",
     "text": [
      "\r- Processing image:   1824 / 4170"
     ]
    },
    {
     "name": "stdout",
     "output_type": "stream",
     "text": [
      "\r- Processing image:   1825 / 4170"
     ]
    },
    {
     "name": "stdout",
     "output_type": "stream",
     "text": [
      "\r- Processing image:   1826 / 4170"
     ]
    },
    {
     "name": "stdout",
     "output_type": "stream",
     "text": [
      "\r- Processing image:   1827 / 4170"
     ]
    },
    {
     "name": "stdout",
     "output_type": "stream",
     "text": [
      "\r- Processing image:   1828 / 4170"
     ]
    },
    {
     "name": "stdout",
     "output_type": "stream",
     "text": [
      "\r- Processing image:   1829 / 4170"
     ]
    },
    {
     "name": "stdout",
     "output_type": "stream",
     "text": [
      "\r- Processing image:   1830 / 4170"
     ]
    },
    {
     "name": "stdout",
     "output_type": "stream",
     "text": [
      "\r- Processing image:   1831 / 4170"
     ]
    },
    {
     "name": "stdout",
     "output_type": "stream",
     "text": [
      "\r- Processing image:   1832 / 4170"
     ]
    },
    {
     "name": "stdout",
     "output_type": "stream",
     "text": [
      "\r- Processing image:   1833 / 4170"
     ]
    },
    {
     "name": "stdout",
     "output_type": "stream",
     "text": [
      "\r- Processing image:   1834 / 4170"
     ]
    },
    {
     "name": "stdout",
     "output_type": "stream",
     "text": [
      "\r- Processing image:   1835 / 4170"
     ]
    },
    {
     "name": "stdout",
     "output_type": "stream",
     "text": [
      "\r- Processing image:   1836 / 4170"
     ]
    },
    {
     "name": "stdout",
     "output_type": "stream",
     "text": [
      "\r- Processing image:   1837 / 4170"
     ]
    },
    {
     "name": "stdout",
     "output_type": "stream",
     "text": [
      "\r- Processing image:   1838 / 4170"
     ]
    },
    {
     "name": "stdout",
     "output_type": "stream",
     "text": [
      "\r- Processing image:   1839 / 4170"
     ]
    },
    {
     "name": "stdout",
     "output_type": "stream",
     "text": [
      "\r- Processing image:   1840 / 4170"
     ]
    },
    {
     "name": "stdout",
     "output_type": "stream",
     "text": [
      "\r- Processing image:   1841 / 4170"
     ]
    },
    {
     "name": "stdout",
     "output_type": "stream",
     "text": [
      "\r- Processing image:   1842 / 4170"
     ]
    },
    {
     "name": "stdout",
     "output_type": "stream",
     "text": [
      "\r- Processing image:   1843 / 4170"
     ]
    },
    {
     "name": "stdout",
     "output_type": "stream",
     "text": [
      "\r- Processing image:   1844 / 4170"
     ]
    },
    {
     "name": "stdout",
     "output_type": "stream",
     "text": [
      "\r- Processing image:   1845 / 4170"
     ]
    },
    {
     "name": "stdout",
     "output_type": "stream",
     "text": [
      "\r- Processing image:   1846 / 4170"
     ]
    },
    {
     "name": "stdout",
     "output_type": "stream",
     "text": [
      "\r- Processing image:   1847 / 4170"
     ]
    },
    {
     "name": "stdout",
     "output_type": "stream",
     "text": [
      "\r- Processing image:   1848 / 4170"
     ]
    },
    {
     "name": "stdout",
     "output_type": "stream",
     "text": [
      "\r- Processing image:   1849 / 4170"
     ]
    },
    {
     "name": "stdout",
     "output_type": "stream",
     "text": [
      "\r- Processing image:   1850 / 4170"
     ]
    },
    {
     "name": "stdout",
     "output_type": "stream",
     "text": [
      "\r- Processing image:   1851 / 4170"
     ]
    },
    {
     "name": "stdout",
     "output_type": "stream",
     "text": [
      "\r- Processing image:   1852 / 4170"
     ]
    },
    {
     "name": "stdout",
     "output_type": "stream",
     "text": [
      "\r- Processing image:   1853 / 4170"
     ]
    },
    {
     "name": "stdout",
     "output_type": "stream",
     "text": [
      "\r- Processing image:   1854 / 4170"
     ]
    },
    {
     "name": "stdout",
     "output_type": "stream",
     "text": [
      "\r- Processing image:   1855 / 4170"
     ]
    },
    {
     "name": "stdout",
     "output_type": "stream",
     "text": [
      "\r- Processing image:   1856 / 4170"
     ]
    },
    {
     "name": "stdout",
     "output_type": "stream",
     "text": [
      "\r- Processing image:   1857 / 4170"
     ]
    },
    {
     "name": "stdout",
     "output_type": "stream",
     "text": [
      "\r- Processing image:   1858 / 4170"
     ]
    },
    {
     "name": "stdout",
     "output_type": "stream",
     "text": [
      "\r- Processing image:   1859 / 4170"
     ]
    },
    {
     "name": "stdout",
     "output_type": "stream",
     "text": [
      "\r- Processing image:   1860 / 4170"
     ]
    },
    {
     "name": "stdout",
     "output_type": "stream",
     "text": [
      "\r- Processing image:   1861 / 4170"
     ]
    },
    {
     "name": "stdout",
     "output_type": "stream",
     "text": [
      "\r- Processing image:   1862 / 4170"
     ]
    },
    {
     "name": "stdout",
     "output_type": "stream",
     "text": [
      "\r- Processing image:   1863 / 4170"
     ]
    },
    {
     "name": "stdout",
     "output_type": "stream",
     "text": [
      "\r- Processing image:   1864 / 4170"
     ]
    },
    {
     "name": "stdout",
     "output_type": "stream",
     "text": [
      "\r- Processing image:   1865 / 4170"
     ]
    },
    {
     "name": "stdout",
     "output_type": "stream",
     "text": [
      "\r- Processing image:   1866 / 4170"
     ]
    },
    {
     "name": "stdout",
     "output_type": "stream",
     "text": [
      "\r- Processing image:   1867 / 4170"
     ]
    },
    {
     "name": "stdout",
     "output_type": "stream",
     "text": [
      "\r- Processing image:   1868 / 4170"
     ]
    },
    {
     "name": "stdout",
     "output_type": "stream",
     "text": [
      "\r- Processing image:   1869 / 4170"
     ]
    },
    {
     "name": "stdout",
     "output_type": "stream",
     "text": [
      "\r- Processing image:   1870 / 4170"
     ]
    },
    {
     "name": "stdout",
     "output_type": "stream",
     "text": [
      "\r- Processing image:   1871 / 4170"
     ]
    },
    {
     "name": "stdout",
     "output_type": "stream",
     "text": [
      "\r- Processing image:   1872 / 4170"
     ]
    },
    {
     "name": "stdout",
     "output_type": "stream",
     "text": [
      "\r- Processing image:   1873 / 4170"
     ]
    },
    {
     "name": "stdout",
     "output_type": "stream",
     "text": [
      "\r- Processing image:   1874 / 4170"
     ]
    },
    {
     "name": "stdout",
     "output_type": "stream",
     "text": [
      "\r- Processing image:   1875 / 4170"
     ]
    },
    {
     "name": "stdout",
     "output_type": "stream",
     "text": [
      "\r- Processing image:   1876 / 4170"
     ]
    },
    {
     "name": "stdout",
     "output_type": "stream",
     "text": [
      "\r- Processing image:   1877 / 4170"
     ]
    },
    {
     "name": "stdout",
     "output_type": "stream",
     "text": [
      "\r- Processing image:   1878 / 4170"
     ]
    },
    {
     "name": "stdout",
     "output_type": "stream",
     "text": [
      "\r- Processing image:   1879 / 4170"
     ]
    },
    {
     "name": "stdout",
     "output_type": "stream",
     "text": [
      "\r- Processing image:   1880 / 4170"
     ]
    },
    {
     "name": "stdout",
     "output_type": "stream",
     "text": [
      "\r- Processing image:   1881 / 4170"
     ]
    },
    {
     "name": "stdout",
     "output_type": "stream",
     "text": [
      "\r- Processing image:   1882 / 4170"
     ]
    },
    {
     "name": "stdout",
     "output_type": "stream",
     "text": [
      "\r- Processing image:   1883 / 4170"
     ]
    },
    {
     "name": "stdout",
     "output_type": "stream",
     "text": [
      "\r- Processing image:   1884 / 4170"
     ]
    },
    {
     "name": "stdout",
     "output_type": "stream",
     "text": [
      "\r- Processing image:   1885 / 4170"
     ]
    },
    {
     "name": "stdout",
     "output_type": "stream",
     "text": [
      "\r- Processing image:   1886 / 4170"
     ]
    },
    {
     "name": "stdout",
     "output_type": "stream",
     "text": [
      "\r- Processing image:   1887 / 4170"
     ]
    },
    {
     "name": "stdout",
     "output_type": "stream",
     "text": [
      "\r- Processing image:   1888 / 4170"
     ]
    },
    {
     "name": "stdout",
     "output_type": "stream",
     "text": [
      "\r- Processing image:   1889 / 4170"
     ]
    },
    {
     "name": "stdout",
     "output_type": "stream",
     "text": [
      "\r- Processing image:   1890 / 4170"
     ]
    },
    {
     "name": "stdout",
     "output_type": "stream",
     "text": [
      "\r- Processing image:   1891 / 4170"
     ]
    },
    {
     "name": "stdout",
     "output_type": "stream",
     "text": [
      "\r- Processing image:   1892 / 4170"
     ]
    },
    {
     "name": "stdout",
     "output_type": "stream",
     "text": [
      "\r- Processing image:   1893 / 4170"
     ]
    },
    {
     "name": "stdout",
     "output_type": "stream",
     "text": [
      "\r- Processing image:   1894 / 4170"
     ]
    },
    {
     "name": "stdout",
     "output_type": "stream",
     "text": [
      "\r- Processing image:   1895 / 4170"
     ]
    },
    {
     "name": "stdout",
     "output_type": "stream",
     "text": [
      "\r- Processing image:   1896 / 4170"
     ]
    },
    {
     "name": "stdout",
     "output_type": "stream",
     "text": [
      "\r- Processing image:   1897 / 4170"
     ]
    },
    {
     "name": "stdout",
     "output_type": "stream",
     "text": [
      "\r- Processing image:   1898 / 4170"
     ]
    },
    {
     "name": "stdout",
     "output_type": "stream",
     "text": [
      "\r- Processing image:   1899 / 4170"
     ]
    },
    {
     "name": "stdout",
     "output_type": "stream",
     "text": [
      "\r- Processing image:   1900 / 4170"
     ]
    },
    {
     "name": "stdout",
     "output_type": "stream",
     "text": [
      "\r- Processing image:   1901 / 4170"
     ]
    },
    {
     "name": "stdout",
     "output_type": "stream",
     "text": [
      "\r- Processing image:   1902 / 4170"
     ]
    },
    {
     "name": "stdout",
     "output_type": "stream",
     "text": [
      "\r- Processing image:   1903 / 4170"
     ]
    },
    {
     "name": "stdout",
     "output_type": "stream",
     "text": [
      "\r- Processing image:   1904 / 4170"
     ]
    },
    {
     "name": "stdout",
     "output_type": "stream",
     "text": [
      "\r- Processing image:   1905 / 4170"
     ]
    },
    {
     "name": "stdout",
     "output_type": "stream",
     "text": [
      "\r- Processing image:   1906 / 4170"
     ]
    },
    {
     "name": "stdout",
     "output_type": "stream",
     "text": [
      "\r- Processing image:   1907 / 4170"
     ]
    },
    {
     "name": "stdout",
     "output_type": "stream",
     "text": [
      "\r- Processing image:   1908 / 4170"
     ]
    },
    {
     "name": "stdout",
     "output_type": "stream",
     "text": [
      "\r- Processing image:   1909 / 4170"
     ]
    },
    {
     "name": "stdout",
     "output_type": "stream",
     "text": [
      "\r- Processing image:   1910 / 4170"
     ]
    },
    {
     "name": "stdout",
     "output_type": "stream",
     "text": [
      "\r- Processing image:   1911 / 4170"
     ]
    },
    {
     "name": "stdout",
     "output_type": "stream",
     "text": [
      "\r- Processing image:   1912 / 4170"
     ]
    },
    {
     "name": "stdout",
     "output_type": "stream",
     "text": [
      "\r- Processing image:   1913 / 4170"
     ]
    },
    {
     "name": "stdout",
     "output_type": "stream",
     "text": [
      "\r- Processing image:   1914 / 4170"
     ]
    },
    {
     "name": "stdout",
     "output_type": "stream",
     "text": [
      "\r- Processing image:   1915 / 4170"
     ]
    },
    {
     "name": "stdout",
     "output_type": "stream",
     "text": [
      "\r- Processing image:   1916 / 4170"
     ]
    },
    {
     "name": "stdout",
     "output_type": "stream",
     "text": [
      "\r- Processing image:   1917 / 4170"
     ]
    },
    {
     "name": "stdout",
     "output_type": "stream",
     "text": [
      "\r- Processing image:   1918 / 4170"
     ]
    },
    {
     "name": "stdout",
     "output_type": "stream",
     "text": [
      "\r- Processing image:   1919 / 4170"
     ]
    },
    {
     "name": "stdout",
     "output_type": "stream",
     "text": [
      "\r- Processing image:   1920 / 4170"
     ]
    },
    {
     "name": "stdout",
     "output_type": "stream",
     "text": [
      "\r- Processing image:   1921 / 4170"
     ]
    },
    {
     "name": "stdout",
     "output_type": "stream",
     "text": [
      "\r- Processing image:   1922 / 4170"
     ]
    },
    {
     "name": "stdout",
     "output_type": "stream",
     "text": [
      "\r- Processing image:   1923 / 4170"
     ]
    },
    {
     "name": "stdout",
     "output_type": "stream",
     "text": [
      "\r- Processing image:   1924 / 4170"
     ]
    },
    {
     "name": "stdout",
     "output_type": "stream",
     "text": [
      "\r- Processing image:   1925 / 4170"
     ]
    },
    {
     "name": "stdout",
     "output_type": "stream",
     "text": [
      "\r- Processing image:   1926 / 4170"
     ]
    },
    {
     "name": "stdout",
     "output_type": "stream",
     "text": [
      "\r- Processing image:   1927 / 4170"
     ]
    },
    {
     "name": "stdout",
     "output_type": "stream",
     "text": [
      "\r- Processing image:   1928 / 4170"
     ]
    },
    {
     "name": "stdout",
     "output_type": "stream",
     "text": [
      "\r- Processing image:   1929 / 4170"
     ]
    },
    {
     "name": "stdout",
     "output_type": "stream",
     "text": [
      "\r- Processing image:   1930 / 4170"
     ]
    },
    {
     "name": "stdout",
     "output_type": "stream",
     "text": [
      "\r- Processing image:   1931 / 4170"
     ]
    },
    {
     "name": "stdout",
     "output_type": "stream",
     "text": [
      "\r- Processing image:   1932 / 4170"
     ]
    },
    {
     "name": "stdout",
     "output_type": "stream",
     "text": [
      "\r- Processing image:   1933 / 4170"
     ]
    },
    {
     "name": "stdout",
     "output_type": "stream",
     "text": [
      "\r- Processing image:   1934 / 4170"
     ]
    },
    {
     "name": "stdout",
     "output_type": "stream",
     "text": [
      "\r- Processing image:   1935 / 4170"
     ]
    },
    {
     "name": "stdout",
     "output_type": "stream",
     "text": [
      "\r- Processing image:   1936 / 4170"
     ]
    },
    {
     "name": "stdout",
     "output_type": "stream",
     "text": [
      "\r- Processing image:   1937 / 4170"
     ]
    },
    {
     "name": "stdout",
     "output_type": "stream",
     "text": [
      "\r- Processing image:   1938 / 4170"
     ]
    },
    {
     "name": "stdout",
     "output_type": "stream",
     "text": [
      "\r- Processing image:   1939 / 4170"
     ]
    },
    {
     "name": "stdout",
     "output_type": "stream",
     "text": [
      "\r- Processing image:   1940 / 4170"
     ]
    },
    {
     "name": "stdout",
     "output_type": "stream",
     "text": [
      "\r- Processing image:   1941 / 4170"
     ]
    },
    {
     "name": "stdout",
     "output_type": "stream",
     "text": [
      "\r- Processing image:   1942 / 4170"
     ]
    },
    {
     "name": "stdout",
     "output_type": "stream",
     "text": [
      "\r- Processing image:   1943 / 4170"
     ]
    },
    {
     "name": "stdout",
     "output_type": "stream",
     "text": [
      "\r- Processing image:   1944 / 4170"
     ]
    },
    {
     "name": "stdout",
     "output_type": "stream",
     "text": [
      "\r- Processing image:   1945 / 4170"
     ]
    },
    {
     "name": "stdout",
     "output_type": "stream",
     "text": [
      "\r- Processing image:   1946 / 4170"
     ]
    },
    {
     "name": "stdout",
     "output_type": "stream",
     "text": [
      "\r- Processing image:   1947 / 4170"
     ]
    },
    {
     "name": "stdout",
     "output_type": "stream",
     "text": [
      "\r- Processing image:   1948 / 4170"
     ]
    },
    {
     "name": "stdout",
     "output_type": "stream",
     "text": [
      "\r- Processing image:   1949 / 4170"
     ]
    },
    {
     "name": "stdout",
     "output_type": "stream",
     "text": [
      "\r- Processing image:   1950 / 4170"
     ]
    },
    {
     "name": "stdout",
     "output_type": "stream",
     "text": [
      "\r- Processing image:   1951 / 4170"
     ]
    },
    {
     "name": "stdout",
     "output_type": "stream",
     "text": [
      "\r- Processing image:   1952 / 4170"
     ]
    },
    {
     "name": "stdout",
     "output_type": "stream",
     "text": [
      "\r- Processing image:   1953 / 4170"
     ]
    },
    {
     "name": "stdout",
     "output_type": "stream",
     "text": [
      "\r- Processing image:   1954 / 4170"
     ]
    },
    {
     "name": "stdout",
     "output_type": "stream",
     "text": [
      "\r- Processing image:   1955 / 4170"
     ]
    },
    {
     "name": "stdout",
     "output_type": "stream",
     "text": [
      "\r- Processing image:   1956 / 4170"
     ]
    },
    {
     "name": "stdout",
     "output_type": "stream",
     "text": [
      "\r- Processing image:   1957 / 4170"
     ]
    },
    {
     "name": "stdout",
     "output_type": "stream",
     "text": [
      "\r- Processing image:   1958 / 4170"
     ]
    },
    {
     "name": "stdout",
     "output_type": "stream",
     "text": [
      "\r- Processing image:   1959 / 4170"
     ]
    },
    {
     "name": "stdout",
     "output_type": "stream",
     "text": [
      "\r- Processing image:   1960 / 4170"
     ]
    },
    {
     "name": "stdout",
     "output_type": "stream",
     "text": [
      "\r- Processing image:   1961 / 4170"
     ]
    },
    {
     "name": "stdout",
     "output_type": "stream",
     "text": [
      "\r- Processing image:   1962 / 4170"
     ]
    },
    {
     "name": "stdout",
     "output_type": "stream",
     "text": [
      "\r- Processing image:   1963 / 4170"
     ]
    },
    {
     "name": "stdout",
     "output_type": "stream",
     "text": [
      "\r- Processing image:   1964 / 4170"
     ]
    },
    {
     "name": "stdout",
     "output_type": "stream",
     "text": [
      "\r- Processing image:   1965 / 4170"
     ]
    },
    {
     "name": "stdout",
     "output_type": "stream",
     "text": [
      "\r- Processing image:   1966 / 4170"
     ]
    },
    {
     "name": "stdout",
     "output_type": "stream",
     "text": [
      "\r- Processing image:   1967 / 4170"
     ]
    },
    {
     "name": "stdout",
     "output_type": "stream",
     "text": [
      "\r- Processing image:   1968 / 4170"
     ]
    },
    {
     "name": "stdout",
     "output_type": "stream",
     "text": [
      "\r- Processing image:   1969 / 4170"
     ]
    },
    {
     "name": "stdout",
     "output_type": "stream",
     "text": [
      "\r- Processing image:   1970 / 4170"
     ]
    },
    {
     "name": "stdout",
     "output_type": "stream",
     "text": [
      "\r- Processing image:   1971 / 4170"
     ]
    },
    {
     "name": "stdout",
     "output_type": "stream",
     "text": [
      "\r- Processing image:   1972 / 4170"
     ]
    },
    {
     "name": "stdout",
     "output_type": "stream",
     "text": [
      "\r- Processing image:   1973 / 4170"
     ]
    },
    {
     "name": "stdout",
     "output_type": "stream",
     "text": [
      "\r- Processing image:   1974 / 4170"
     ]
    },
    {
     "name": "stdout",
     "output_type": "stream",
     "text": [
      "\r- Processing image:   1975 / 4170"
     ]
    },
    {
     "name": "stdout",
     "output_type": "stream",
     "text": [
      "\r- Processing image:   1976 / 4170"
     ]
    },
    {
     "name": "stdout",
     "output_type": "stream",
     "text": [
      "\r- Processing image:   1977 / 4170"
     ]
    },
    {
     "name": "stdout",
     "output_type": "stream",
     "text": [
      "\r- Processing image:   1978 / 4170"
     ]
    },
    {
     "name": "stdout",
     "output_type": "stream",
     "text": [
      "\r- Processing image:   1979 / 4170"
     ]
    },
    {
     "name": "stdout",
     "output_type": "stream",
     "text": [
      "\r- Processing image:   1980 / 4170"
     ]
    },
    {
     "name": "stdout",
     "output_type": "stream",
     "text": [
      "\r- Processing image:   1981 / 4170"
     ]
    },
    {
     "name": "stdout",
     "output_type": "stream",
     "text": [
      "\r- Processing image:   1982 / 4170"
     ]
    },
    {
     "name": "stdout",
     "output_type": "stream",
     "text": [
      "\r- Processing image:   1983 / 4170"
     ]
    },
    {
     "name": "stdout",
     "output_type": "stream",
     "text": [
      "\r- Processing image:   1984 / 4170"
     ]
    },
    {
     "name": "stdout",
     "output_type": "stream",
     "text": [
      "\r- Processing image:   1985 / 4170"
     ]
    },
    {
     "name": "stdout",
     "output_type": "stream",
     "text": [
      "\r- Processing image:   1986 / 4170"
     ]
    },
    {
     "name": "stdout",
     "output_type": "stream",
     "text": [
      "\r- Processing image:   1987 / 4170"
     ]
    },
    {
     "name": "stdout",
     "output_type": "stream",
     "text": [
      "\r- Processing image:   1988 / 4170"
     ]
    },
    {
     "name": "stdout",
     "output_type": "stream",
     "text": [
      "\r- Processing image:   1989 / 4170"
     ]
    },
    {
     "name": "stdout",
     "output_type": "stream",
     "text": [
      "\r- Processing image:   1990 / 4170"
     ]
    },
    {
     "name": "stdout",
     "output_type": "stream",
     "text": [
      "\r- Processing image:   1991 / 4170"
     ]
    },
    {
     "name": "stdout",
     "output_type": "stream",
     "text": [
      "\r- Processing image:   1992 / 4170"
     ]
    },
    {
     "name": "stdout",
     "output_type": "stream",
     "text": [
      "\r- Processing image:   1993 / 4170"
     ]
    },
    {
     "name": "stdout",
     "output_type": "stream",
     "text": [
      "\r- Processing image:   1994 / 4170"
     ]
    },
    {
     "name": "stdout",
     "output_type": "stream",
     "text": [
      "\r- Processing image:   1995 / 4170"
     ]
    },
    {
     "name": "stdout",
     "output_type": "stream",
     "text": [
      "\r- Processing image:   1996 / 4170"
     ]
    },
    {
     "name": "stdout",
     "output_type": "stream",
     "text": [
      "\r- Processing image:   1997 / 4170"
     ]
    },
    {
     "name": "stdout",
     "output_type": "stream",
     "text": [
      "\r- Processing image:   1998 / 4170"
     ]
    },
    {
     "name": "stdout",
     "output_type": "stream",
     "text": [
      "\r- Processing image:   1999 / 4170"
     ]
    },
    {
     "name": "stdout",
     "output_type": "stream",
     "text": [
      "\r- Processing image:   2000 / 4170"
     ]
    },
    {
     "name": "stdout",
     "output_type": "stream",
     "text": [
      "\r- Processing image:   2001 / 4170"
     ]
    },
    {
     "name": "stdout",
     "output_type": "stream",
     "text": [
      "\r- Processing image:   2002 / 4170"
     ]
    },
    {
     "name": "stdout",
     "output_type": "stream",
     "text": [
      "\r- Processing image:   2003 / 4170"
     ]
    },
    {
     "name": "stdout",
     "output_type": "stream",
     "text": [
      "\r- Processing image:   2004 / 4170"
     ]
    },
    {
     "name": "stdout",
     "output_type": "stream",
     "text": [
      "\r- Processing image:   2005 / 4170"
     ]
    },
    {
     "name": "stdout",
     "output_type": "stream",
     "text": [
      "\r- Processing image:   2006 / 4170"
     ]
    },
    {
     "name": "stdout",
     "output_type": "stream",
     "text": [
      "\r- Processing image:   2007 / 4170"
     ]
    },
    {
     "name": "stdout",
     "output_type": "stream",
     "text": [
      "\r- Processing image:   2008 / 4170"
     ]
    },
    {
     "name": "stdout",
     "output_type": "stream",
     "text": [
      "\r- Processing image:   2009 / 4170"
     ]
    },
    {
     "name": "stdout",
     "output_type": "stream",
     "text": [
      "\r- Processing image:   2010 / 4170"
     ]
    },
    {
     "name": "stdout",
     "output_type": "stream",
     "text": [
      "\r- Processing image:   2011 / 4170"
     ]
    },
    {
     "name": "stdout",
     "output_type": "stream",
     "text": [
      "\r- Processing image:   2012 / 4170"
     ]
    },
    {
     "name": "stdout",
     "output_type": "stream",
     "text": [
      "\r- Processing image:   2013 / 4170"
     ]
    },
    {
     "name": "stdout",
     "output_type": "stream",
     "text": [
      "\r- Processing image:   2014 / 4170"
     ]
    },
    {
     "name": "stdout",
     "output_type": "stream",
     "text": [
      "\r- Processing image:   2015 / 4170"
     ]
    },
    {
     "name": "stdout",
     "output_type": "stream",
     "text": [
      "\r- Processing image:   2016 / 4170"
     ]
    },
    {
     "name": "stdout",
     "output_type": "stream",
     "text": [
      "\r- Processing image:   2017 / 4170"
     ]
    },
    {
     "name": "stdout",
     "output_type": "stream",
     "text": [
      "\r- Processing image:   2018 / 4170"
     ]
    },
    {
     "name": "stdout",
     "output_type": "stream",
     "text": [
      "\r- Processing image:   2019 / 4170"
     ]
    },
    {
     "name": "stdout",
     "output_type": "stream",
     "text": [
      "\r- Processing image:   2020 / 4170"
     ]
    },
    {
     "name": "stdout",
     "output_type": "stream",
     "text": [
      "\r- Processing image:   2021 / 4170"
     ]
    },
    {
     "name": "stdout",
     "output_type": "stream",
     "text": [
      "\r- Processing image:   2022 / 4170"
     ]
    },
    {
     "name": "stdout",
     "output_type": "stream",
     "text": [
      "\r- Processing image:   2023 / 4170"
     ]
    },
    {
     "name": "stdout",
     "output_type": "stream",
     "text": [
      "\r- Processing image:   2024 / 4170"
     ]
    },
    {
     "name": "stdout",
     "output_type": "stream",
     "text": [
      "\r- Processing image:   2025 / 4170"
     ]
    },
    {
     "name": "stdout",
     "output_type": "stream",
     "text": [
      "\r- Processing image:   2026 / 4170"
     ]
    },
    {
     "name": "stdout",
     "output_type": "stream",
     "text": [
      "\r- Processing image:   2027 / 4170"
     ]
    },
    {
     "name": "stdout",
     "output_type": "stream",
     "text": [
      "\r- Processing image:   2028 / 4170"
     ]
    },
    {
     "name": "stdout",
     "output_type": "stream",
     "text": [
      "\r- Processing image:   2029 / 4170"
     ]
    },
    {
     "name": "stdout",
     "output_type": "stream",
     "text": [
      "\r- Processing image:   2030 / 4170"
     ]
    },
    {
     "name": "stdout",
     "output_type": "stream",
     "text": [
      "\r- Processing image:   2031 / 4170"
     ]
    },
    {
     "name": "stdout",
     "output_type": "stream",
     "text": [
      "\r- Processing image:   2032 / 4170"
     ]
    },
    {
     "name": "stdout",
     "output_type": "stream",
     "text": [
      "\r- Processing image:   2033 / 4170"
     ]
    },
    {
     "name": "stdout",
     "output_type": "stream",
     "text": [
      "\r- Processing image:   2034 / 4170"
     ]
    },
    {
     "name": "stdout",
     "output_type": "stream",
     "text": [
      "\r- Processing image:   2035 / 4170"
     ]
    },
    {
     "name": "stdout",
     "output_type": "stream",
     "text": [
      "\r- Processing image:   2036 / 4170"
     ]
    },
    {
     "name": "stdout",
     "output_type": "stream",
     "text": [
      "\r- Processing image:   2037 / 4170"
     ]
    },
    {
     "name": "stdout",
     "output_type": "stream",
     "text": [
      "\r- Processing image:   2038 / 4170"
     ]
    },
    {
     "name": "stdout",
     "output_type": "stream",
     "text": [
      "\r- Processing image:   2039 / 4170"
     ]
    },
    {
     "name": "stdout",
     "output_type": "stream",
     "text": [
      "\r- Processing image:   2040 / 4170"
     ]
    },
    {
     "name": "stdout",
     "output_type": "stream",
     "text": [
      "\r- Processing image:   2041 / 4170"
     ]
    },
    {
     "name": "stdout",
     "output_type": "stream",
     "text": [
      "\r- Processing image:   2042 / 4170"
     ]
    },
    {
     "name": "stdout",
     "output_type": "stream",
     "text": [
      "\r- Processing image:   2043 / 4170"
     ]
    },
    {
     "name": "stdout",
     "output_type": "stream",
     "text": [
      "\r- Processing image:   2044 / 4170"
     ]
    },
    {
     "name": "stdout",
     "output_type": "stream",
     "text": [
      "\r- Processing image:   2045 / 4170"
     ]
    },
    {
     "name": "stdout",
     "output_type": "stream",
     "text": [
      "\r- Processing image:   2046 / 4170"
     ]
    },
    {
     "name": "stdout",
     "output_type": "stream",
     "text": [
      "\r- Processing image:   2047 / 4170"
     ]
    },
    {
     "name": "stdout",
     "output_type": "stream",
     "text": [
      "\r- Processing image:   2048 / 4170"
     ]
    },
    {
     "name": "stdout",
     "output_type": "stream",
     "text": [
      "\r- Processing image:   2049 / 4170"
     ]
    },
    {
     "name": "stdout",
     "output_type": "stream",
     "text": [
      "\r- Processing image:   2050 / 4170"
     ]
    },
    {
     "name": "stdout",
     "output_type": "stream",
     "text": [
      "\r- Processing image:   2051 / 4170"
     ]
    },
    {
     "name": "stdout",
     "output_type": "stream",
     "text": [
      "\r- Processing image:   2052 / 4170"
     ]
    },
    {
     "name": "stdout",
     "output_type": "stream",
     "text": [
      "\r- Processing image:   2053 / 4170"
     ]
    },
    {
     "name": "stdout",
     "output_type": "stream",
     "text": [
      "\r- Processing image:   2054 / 4170"
     ]
    },
    {
     "name": "stdout",
     "output_type": "stream",
     "text": [
      "\r- Processing image:   2055 / 4170"
     ]
    },
    {
     "name": "stdout",
     "output_type": "stream",
     "text": [
      "\r- Processing image:   2056 / 4170"
     ]
    },
    {
     "name": "stdout",
     "output_type": "stream",
     "text": [
      "\r- Processing image:   2057 / 4170"
     ]
    },
    {
     "name": "stdout",
     "output_type": "stream",
     "text": [
      "\r- Processing image:   2058 / 4170"
     ]
    },
    {
     "name": "stdout",
     "output_type": "stream",
     "text": [
      "\r- Processing image:   2059 / 4170"
     ]
    },
    {
     "name": "stdout",
     "output_type": "stream",
     "text": [
      "\r- Processing image:   2060 / 4170"
     ]
    },
    {
     "name": "stdout",
     "output_type": "stream",
     "text": [
      "\r- Processing image:   2061 / 4170"
     ]
    },
    {
     "name": "stdout",
     "output_type": "stream",
     "text": [
      "\r- Processing image:   2062 / 4170"
     ]
    },
    {
     "name": "stdout",
     "output_type": "stream",
     "text": [
      "\r- Processing image:   2063 / 4170"
     ]
    },
    {
     "name": "stdout",
     "output_type": "stream",
     "text": [
      "\r- Processing image:   2064 / 4170"
     ]
    },
    {
     "name": "stdout",
     "output_type": "stream",
     "text": [
      "\r- Processing image:   2065 / 4170"
     ]
    },
    {
     "name": "stdout",
     "output_type": "stream",
     "text": [
      "\r- Processing image:   2066 / 4170"
     ]
    },
    {
     "name": "stdout",
     "output_type": "stream",
     "text": [
      "\r- Processing image:   2067 / 4170"
     ]
    },
    {
     "name": "stdout",
     "output_type": "stream",
     "text": [
      "\r- Processing image:   2068 / 4170"
     ]
    },
    {
     "name": "stdout",
     "output_type": "stream",
     "text": [
      "\r- Processing image:   2069 / 4170"
     ]
    },
    {
     "name": "stdout",
     "output_type": "stream",
     "text": [
      "\r- Processing image:   2070 / 4170"
     ]
    },
    {
     "name": "stdout",
     "output_type": "stream",
     "text": [
      "\r- Processing image:   2071 / 4170"
     ]
    },
    {
     "name": "stdout",
     "output_type": "stream",
     "text": [
      "\r- Processing image:   2072 / 4170"
     ]
    },
    {
     "name": "stdout",
     "output_type": "stream",
     "text": [
      "\r- Processing image:   2073 / 4170"
     ]
    },
    {
     "name": "stdout",
     "output_type": "stream",
     "text": [
      "\r- Processing image:   2074 / 4170"
     ]
    },
    {
     "name": "stdout",
     "output_type": "stream",
     "text": [
      "\r- Processing image:   2075 / 4170"
     ]
    },
    {
     "name": "stdout",
     "output_type": "stream",
     "text": [
      "\r- Processing image:   2076 / 4170"
     ]
    },
    {
     "name": "stdout",
     "output_type": "stream",
     "text": [
      "\r- Processing image:   2077 / 4170"
     ]
    },
    {
     "name": "stdout",
     "output_type": "stream",
     "text": [
      "\r- Processing image:   2078 / 4170"
     ]
    },
    {
     "name": "stdout",
     "output_type": "stream",
     "text": [
      "\r- Processing image:   2079 / 4170"
     ]
    },
    {
     "name": "stdout",
     "output_type": "stream",
     "text": [
      "\r- Processing image:   2080 / 4170"
     ]
    },
    {
     "name": "stdout",
     "output_type": "stream",
     "text": [
      "\r- Processing image:   2081 / 4170"
     ]
    },
    {
     "name": "stdout",
     "output_type": "stream",
     "text": [
      "\r- Processing image:   2082 / 4170"
     ]
    },
    {
     "name": "stdout",
     "output_type": "stream",
     "text": [
      "\r- Processing image:   2083 / 4170"
     ]
    },
    {
     "name": "stdout",
     "output_type": "stream",
     "text": [
      "\r- Processing image:   2084 / 4170"
     ]
    },
    {
     "name": "stdout",
     "output_type": "stream",
     "text": [
      "\r- Processing image:   2085 / 4170"
     ]
    },
    {
     "name": "stdout",
     "output_type": "stream",
     "text": [
      "\r- Processing image:   2086 / 4170"
     ]
    },
    {
     "name": "stdout",
     "output_type": "stream",
     "text": [
      "\r- Processing image:   2087 / 4170"
     ]
    },
    {
     "name": "stdout",
     "output_type": "stream",
     "text": [
      "\r- Processing image:   2088 / 4170"
     ]
    },
    {
     "name": "stdout",
     "output_type": "stream",
     "text": [
      "\r- Processing image:   2089 / 4170"
     ]
    },
    {
     "name": "stdout",
     "output_type": "stream",
     "text": [
      "\r- Processing image:   2090 / 4170"
     ]
    },
    {
     "name": "stdout",
     "output_type": "stream",
     "text": [
      "\r- Processing image:   2091 / 4170"
     ]
    },
    {
     "name": "stdout",
     "output_type": "stream",
     "text": [
      "\r- Processing image:   2092 / 4170"
     ]
    },
    {
     "name": "stdout",
     "output_type": "stream",
     "text": [
      "\r- Processing image:   2093 / 4170"
     ]
    },
    {
     "name": "stdout",
     "output_type": "stream",
     "text": [
      "\r- Processing image:   2094 / 4170"
     ]
    },
    {
     "name": "stdout",
     "output_type": "stream",
     "text": [
      "\r- Processing image:   2095 / 4170"
     ]
    },
    {
     "name": "stdout",
     "output_type": "stream",
     "text": [
      "\r- Processing image:   2096 / 4170"
     ]
    },
    {
     "name": "stdout",
     "output_type": "stream",
     "text": [
      "\r- Processing image:   2097 / 4170"
     ]
    },
    {
     "name": "stdout",
     "output_type": "stream",
     "text": [
      "\r- Processing image:   2098 / 4170"
     ]
    },
    {
     "name": "stdout",
     "output_type": "stream",
     "text": [
      "\r- Processing image:   2099 / 4170"
     ]
    },
    {
     "name": "stdout",
     "output_type": "stream",
     "text": [
      "\r- Processing image:   2100 / 4170"
     ]
    },
    {
     "name": "stdout",
     "output_type": "stream",
     "text": [
      "\r- Processing image:   2101 / 4170"
     ]
    },
    {
     "name": "stdout",
     "output_type": "stream",
     "text": [
      "\r- Processing image:   2102 / 4170"
     ]
    },
    {
     "name": "stdout",
     "output_type": "stream",
     "text": [
      "\r- Processing image:   2103 / 4170"
     ]
    },
    {
     "name": "stdout",
     "output_type": "stream",
     "text": [
      "\r- Processing image:   2104 / 4170"
     ]
    },
    {
     "name": "stdout",
     "output_type": "stream",
     "text": [
      "\r- Processing image:   2105 / 4170"
     ]
    },
    {
     "name": "stdout",
     "output_type": "stream",
     "text": [
      "\r- Processing image:   2106 / 4170"
     ]
    },
    {
     "name": "stdout",
     "output_type": "stream",
     "text": [
      "\r- Processing image:   2107 / 4170"
     ]
    },
    {
     "name": "stdout",
     "output_type": "stream",
     "text": [
      "\r- Processing image:   2108 / 4170"
     ]
    },
    {
     "name": "stdout",
     "output_type": "stream",
     "text": [
      "\r- Processing image:   2109 / 4170"
     ]
    },
    {
     "name": "stdout",
     "output_type": "stream",
     "text": [
      "\r- Processing image:   2110 / 4170"
     ]
    },
    {
     "name": "stdout",
     "output_type": "stream",
     "text": [
      "\r- Processing image:   2111 / 4170"
     ]
    },
    {
     "name": "stdout",
     "output_type": "stream",
     "text": [
      "\r- Processing image:   2112 / 4170"
     ]
    },
    {
     "name": "stdout",
     "output_type": "stream",
     "text": [
      "\r- Processing image:   2113 / 4170"
     ]
    },
    {
     "name": "stdout",
     "output_type": "stream",
     "text": [
      "\r- Processing image:   2114 / 4170"
     ]
    },
    {
     "name": "stdout",
     "output_type": "stream",
     "text": [
      "\r- Processing image:   2115 / 4170"
     ]
    },
    {
     "name": "stdout",
     "output_type": "stream",
     "text": [
      "\r- Processing image:   2116 / 4170"
     ]
    },
    {
     "name": "stdout",
     "output_type": "stream",
     "text": [
      "\r- Processing image:   2117 / 4170"
     ]
    },
    {
     "name": "stdout",
     "output_type": "stream",
     "text": [
      "\r- Processing image:   2118 / 4170"
     ]
    },
    {
     "name": "stdout",
     "output_type": "stream",
     "text": [
      "\r- Processing image:   2119 / 4170"
     ]
    },
    {
     "name": "stdout",
     "output_type": "stream",
     "text": [
      "\r- Processing image:   2120 / 4170"
     ]
    },
    {
     "name": "stdout",
     "output_type": "stream",
     "text": [
      "\r- Processing image:   2121 / 4170"
     ]
    },
    {
     "name": "stdout",
     "output_type": "stream",
     "text": [
      "\r- Processing image:   2122 / 4170"
     ]
    },
    {
     "name": "stdout",
     "output_type": "stream",
     "text": [
      "\r- Processing image:   2123 / 4170"
     ]
    },
    {
     "name": "stdout",
     "output_type": "stream",
     "text": [
      "\r- Processing image:   2124 / 4170"
     ]
    },
    {
     "name": "stdout",
     "output_type": "stream",
     "text": [
      "\r- Processing image:   2125 / 4170"
     ]
    },
    {
     "name": "stdout",
     "output_type": "stream",
     "text": [
      "\r- Processing image:   2126 / 4170"
     ]
    },
    {
     "name": "stdout",
     "output_type": "stream",
     "text": [
      "\r- Processing image:   2127 / 4170"
     ]
    },
    {
     "name": "stdout",
     "output_type": "stream",
     "text": [
      "\r- Processing image:   2128 / 4170"
     ]
    },
    {
     "name": "stdout",
     "output_type": "stream",
     "text": [
      "\r- Processing image:   2129 / 4170"
     ]
    },
    {
     "name": "stdout",
     "output_type": "stream",
     "text": [
      "\r- Processing image:   2130 / 4170"
     ]
    },
    {
     "name": "stdout",
     "output_type": "stream",
     "text": [
      "\r- Processing image:   2131 / 4170"
     ]
    },
    {
     "name": "stdout",
     "output_type": "stream",
     "text": [
      "\r- Processing image:   2132 / 4170"
     ]
    },
    {
     "name": "stdout",
     "output_type": "stream",
     "text": [
      "\r- Processing image:   2133 / 4170"
     ]
    },
    {
     "name": "stdout",
     "output_type": "stream",
     "text": [
      "\r- Processing image:   2134 / 4170"
     ]
    },
    {
     "name": "stdout",
     "output_type": "stream",
     "text": [
      "\r- Processing image:   2135 / 4170"
     ]
    },
    {
     "name": "stdout",
     "output_type": "stream",
     "text": [
      "\r- Processing image:   2136 / 4170"
     ]
    },
    {
     "name": "stdout",
     "output_type": "stream",
     "text": [
      "\r- Processing image:   2137 / 4170"
     ]
    },
    {
     "name": "stdout",
     "output_type": "stream",
     "text": [
      "\r- Processing image:   2138 / 4170"
     ]
    },
    {
     "name": "stdout",
     "output_type": "stream",
     "text": [
      "\r- Processing image:   2139 / 4170"
     ]
    },
    {
     "name": "stdout",
     "output_type": "stream",
     "text": [
      "\r- Processing image:   2140 / 4170"
     ]
    },
    {
     "name": "stdout",
     "output_type": "stream",
     "text": [
      "\r- Processing image:   2141 / 4170"
     ]
    },
    {
     "name": "stdout",
     "output_type": "stream",
     "text": [
      "\r- Processing image:   2142 / 4170"
     ]
    },
    {
     "name": "stdout",
     "output_type": "stream",
     "text": [
      "\r- Processing image:   2143 / 4170"
     ]
    },
    {
     "name": "stdout",
     "output_type": "stream",
     "text": [
      "\r- Processing image:   2144 / 4170"
     ]
    },
    {
     "name": "stdout",
     "output_type": "stream",
     "text": [
      "\r- Processing image:   2145 / 4170"
     ]
    },
    {
     "name": "stdout",
     "output_type": "stream",
     "text": [
      "\r- Processing image:   2146 / 4170"
     ]
    },
    {
     "name": "stdout",
     "output_type": "stream",
     "text": [
      "\r- Processing image:   2147 / 4170"
     ]
    },
    {
     "name": "stdout",
     "output_type": "stream",
     "text": [
      "\r- Processing image:   2148 / 4170"
     ]
    },
    {
     "name": "stdout",
     "output_type": "stream",
     "text": [
      "\r- Processing image:   2149 / 4170"
     ]
    },
    {
     "name": "stdout",
     "output_type": "stream",
     "text": [
      "\r- Processing image:   2150 / 4170"
     ]
    },
    {
     "name": "stdout",
     "output_type": "stream",
     "text": [
      "\r- Processing image:   2151 / 4170"
     ]
    },
    {
     "name": "stdout",
     "output_type": "stream",
     "text": [
      "\r- Processing image:   2152 / 4170"
     ]
    },
    {
     "name": "stdout",
     "output_type": "stream",
     "text": [
      "\r- Processing image:   2153 / 4170"
     ]
    },
    {
     "name": "stdout",
     "output_type": "stream",
     "text": [
      "\r- Processing image:   2154 / 4170"
     ]
    },
    {
     "name": "stdout",
     "output_type": "stream",
     "text": [
      "\r- Processing image:   2155 / 4170"
     ]
    },
    {
     "name": "stdout",
     "output_type": "stream",
     "text": [
      "\r- Processing image:   2156 / 4170"
     ]
    },
    {
     "name": "stdout",
     "output_type": "stream",
     "text": [
      "\r- Processing image:   2157 / 4170"
     ]
    },
    {
     "name": "stdout",
     "output_type": "stream",
     "text": [
      "\r- Processing image:   2158 / 4170"
     ]
    },
    {
     "name": "stdout",
     "output_type": "stream",
     "text": [
      "\r- Processing image:   2159 / 4170"
     ]
    },
    {
     "name": "stdout",
     "output_type": "stream",
     "text": [
      "\r- Processing image:   2160 / 4170"
     ]
    },
    {
     "name": "stdout",
     "output_type": "stream",
     "text": [
      "\r- Processing image:   2161 / 4170"
     ]
    },
    {
     "name": "stdout",
     "output_type": "stream",
     "text": [
      "\r- Processing image:   2162 / 4170"
     ]
    },
    {
     "name": "stdout",
     "output_type": "stream",
     "text": [
      "\r- Processing image:   2163 / 4170"
     ]
    },
    {
     "name": "stdout",
     "output_type": "stream",
     "text": [
      "\r- Processing image:   2164 / 4170"
     ]
    },
    {
     "name": "stdout",
     "output_type": "stream",
     "text": [
      "\r- Processing image:   2165 / 4170"
     ]
    },
    {
     "name": "stdout",
     "output_type": "stream",
     "text": [
      "\r- Processing image:   2166 / 4170"
     ]
    },
    {
     "name": "stdout",
     "output_type": "stream",
     "text": [
      "\r- Processing image:   2167 / 4170"
     ]
    },
    {
     "name": "stdout",
     "output_type": "stream",
     "text": [
      "\r- Processing image:   2168 / 4170"
     ]
    },
    {
     "name": "stdout",
     "output_type": "stream",
     "text": [
      "\r- Processing image:   2169 / 4170"
     ]
    },
    {
     "name": "stdout",
     "output_type": "stream",
     "text": [
      "\r- Processing image:   2170 / 4170"
     ]
    },
    {
     "name": "stdout",
     "output_type": "stream",
     "text": [
      "\r- Processing image:   2171 / 4170"
     ]
    },
    {
     "name": "stdout",
     "output_type": "stream",
     "text": [
      "\r- Processing image:   2172 / 4170"
     ]
    },
    {
     "name": "stdout",
     "output_type": "stream",
     "text": [
      "\r- Processing image:   2173 / 4170"
     ]
    },
    {
     "name": "stdout",
     "output_type": "stream",
     "text": [
      "\r- Processing image:   2174 / 4170"
     ]
    },
    {
     "name": "stdout",
     "output_type": "stream",
     "text": [
      "\r- Processing image:   2175 / 4170"
     ]
    },
    {
     "name": "stdout",
     "output_type": "stream",
     "text": [
      "\r- Processing image:   2176 / 4170"
     ]
    },
    {
     "name": "stdout",
     "output_type": "stream",
     "text": [
      "\r- Processing image:   2177 / 4170"
     ]
    },
    {
     "name": "stdout",
     "output_type": "stream",
     "text": [
      "\r- Processing image:   2178 / 4170"
     ]
    },
    {
     "name": "stdout",
     "output_type": "stream",
     "text": [
      "\r- Processing image:   2179 / 4170"
     ]
    },
    {
     "name": "stdout",
     "output_type": "stream",
     "text": [
      "\r- Processing image:   2180 / 4170"
     ]
    },
    {
     "name": "stdout",
     "output_type": "stream",
     "text": [
      "\r- Processing image:   2181 / 4170"
     ]
    },
    {
     "name": "stdout",
     "output_type": "stream",
     "text": [
      "\r- Processing image:   2182 / 4170"
     ]
    },
    {
     "name": "stdout",
     "output_type": "stream",
     "text": [
      "\r- Processing image:   2183 / 4170"
     ]
    },
    {
     "name": "stdout",
     "output_type": "stream",
     "text": [
      "\r- Processing image:   2184 / 4170"
     ]
    },
    {
     "name": "stdout",
     "output_type": "stream",
     "text": [
      "\r- Processing image:   2185 / 4170"
     ]
    },
    {
     "name": "stdout",
     "output_type": "stream",
     "text": [
      "\r- Processing image:   2186 / 4170"
     ]
    },
    {
     "name": "stdout",
     "output_type": "stream",
     "text": [
      "\r- Processing image:   2187 / 4170"
     ]
    },
    {
     "name": "stdout",
     "output_type": "stream",
     "text": [
      "\r- Processing image:   2188 / 4170"
     ]
    },
    {
     "name": "stdout",
     "output_type": "stream",
     "text": [
      "\r- Processing image:   2189 / 4170"
     ]
    },
    {
     "name": "stdout",
     "output_type": "stream",
     "text": [
      "\r- Processing image:   2190 / 4170"
     ]
    },
    {
     "name": "stdout",
     "output_type": "stream",
     "text": [
      "\r- Processing image:   2191 / 4170"
     ]
    },
    {
     "name": "stdout",
     "output_type": "stream",
     "text": [
      "\r- Processing image:   2192 / 4170"
     ]
    },
    {
     "name": "stdout",
     "output_type": "stream",
     "text": [
      "\r- Processing image:   2193 / 4170"
     ]
    },
    {
     "name": "stdout",
     "output_type": "stream",
     "text": [
      "\r- Processing image:   2194 / 4170"
     ]
    },
    {
     "name": "stdout",
     "output_type": "stream",
     "text": [
      "\r- Processing image:   2195 / 4170"
     ]
    },
    {
     "name": "stdout",
     "output_type": "stream",
     "text": [
      "\r- Processing image:   2196 / 4170"
     ]
    },
    {
     "name": "stdout",
     "output_type": "stream",
     "text": [
      "\r- Processing image:   2197 / 4170"
     ]
    },
    {
     "name": "stdout",
     "output_type": "stream",
     "text": [
      "\r- Processing image:   2198 / 4170"
     ]
    },
    {
     "name": "stdout",
     "output_type": "stream",
     "text": [
      "\r- Processing image:   2199 / 4170"
     ]
    },
    {
     "name": "stdout",
     "output_type": "stream",
     "text": [
      "\r- Processing image:   2200 / 4170"
     ]
    },
    {
     "name": "stdout",
     "output_type": "stream",
     "text": [
      "\r- Processing image:   2201 / 4170"
     ]
    },
    {
     "name": "stdout",
     "output_type": "stream",
     "text": [
      "\r- Processing image:   2202 / 4170"
     ]
    },
    {
     "name": "stdout",
     "output_type": "stream",
     "text": [
      "\r- Processing image:   2203 / 4170"
     ]
    },
    {
     "name": "stdout",
     "output_type": "stream",
     "text": [
      "\r- Processing image:   2204 / 4170"
     ]
    },
    {
     "name": "stdout",
     "output_type": "stream",
     "text": [
      "\r- Processing image:   2205 / 4170"
     ]
    },
    {
     "name": "stdout",
     "output_type": "stream",
     "text": [
      "\r- Processing image:   2206 / 4170"
     ]
    },
    {
     "name": "stdout",
     "output_type": "stream",
     "text": [
      "\r- Processing image:   2207 / 4170"
     ]
    },
    {
     "name": "stdout",
     "output_type": "stream",
     "text": [
      "\r- Processing image:   2208 / 4170"
     ]
    },
    {
     "name": "stdout",
     "output_type": "stream",
     "text": [
      "\r- Processing image:   2209 / 4170"
     ]
    },
    {
     "name": "stdout",
     "output_type": "stream",
     "text": [
      "\r- Processing image:   2210 / 4170"
     ]
    },
    {
     "name": "stdout",
     "output_type": "stream",
     "text": [
      "\r- Processing image:   2211 / 4170"
     ]
    },
    {
     "name": "stdout",
     "output_type": "stream",
     "text": [
      "\r- Processing image:   2212 / 4170"
     ]
    },
    {
     "name": "stdout",
     "output_type": "stream",
     "text": [
      "\r- Processing image:   2213 / 4170"
     ]
    },
    {
     "name": "stdout",
     "output_type": "stream",
     "text": [
      "\r- Processing image:   2214 / 4170"
     ]
    },
    {
     "name": "stdout",
     "output_type": "stream",
     "text": [
      "\r- Processing image:   2215 / 4170"
     ]
    },
    {
     "name": "stdout",
     "output_type": "stream",
     "text": [
      "\r- Processing image:   2216 / 4170"
     ]
    },
    {
     "name": "stdout",
     "output_type": "stream",
     "text": [
      "\r- Processing image:   2217 / 4170"
     ]
    },
    {
     "name": "stdout",
     "output_type": "stream",
     "text": [
      "\r- Processing image:   2218 / 4170"
     ]
    },
    {
     "name": "stdout",
     "output_type": "stream",
     "text": [
      "\r- Processing image:   2219 / 4170"
     ]
    },
    {
     "name": "stdout",
     "output_type": "stream",
     "text": [
      "\r- Processing image:   2220 / 4170"
     ]
    },
    {
     "name": "stdout",
     "output_type": "stream",
     "text": [
      "\r- Processing image:   2221 / 4170"
     ]
    },
    {
     "name": "stdout",
     "output_type": "stream",
     "text": [
      "\r- Processing image:   2222 / 4170"
     ]
    },
    {
     "name": "stdout",
     "output_type": "stream",
     "text": [
      "\r- Processing image:   2223 / 4170"
     ]
    },
    {
     "name": "stdout",
     "output_type": "stream",
     "text": [
      "\r- Processing image:   2224 / 4170"
     ]
    },
    {
     "name": "stdout",
     "output_type": "stream",
     "text": [
      "\r- Processing image:   2225 / 4170"
     ]
    },
    {
     "name": "stdout",
     "output_type": "stream",
     "text": [
      "\r- Processing image:   2226 / 4170"
     ]
    },
    {
     "name": "stdout",
     "output_type": "stream",
     "text": [
      "\r- Processing image:   2227 / 4170"
     ]
    },
    {
     "name": "stdout",
     "output_type": "stream",
     "text": [
      "\r- Processing image:   2228 / 4170"
     ]
    },
    {
     "name": "stdout",
     "output_type": "stream",
     "text": [
      "\r- Processing image:   2229 / 4170"
     ]
    },
    {
     "name": "stdout",
     "output_type": "stream",
     "text": [
      "\r- Processing image:   2230 / 4170"
     ]
    },
    {
     "name": "stdout",
     "output_type": "stream",
     "text": [
      "\r- Processing image:   2231 / 4170"
     ]
    },
    {
     "name": "stdout",
     "output_type": "stream",
     "text": [
      "\r- Processing image:   2232 / 4170"
     ]
    },
    {
     "name": "stdout",
     "output_type": "stream",
     "text": [
      "\r- Processing image:   2233 / 4170"
     ]
    },
    {
     "name": "stdout",
     "output_type": "stream",
     "text": [
      "\r- Processing image:   2234 / 4170"
     ]
    },
    {
     "name": "stdout",
     "output_type": "stream",
     "text": [
      "\r- Processing image:   2235 / 4170"
     ]
    },
    {
     "name": "stdout",
     "output_type": "stream",
     "text": [
      "\r- Processing image:   2236 / 4170"
     ]
    },
    {
     "name": "stdout",
     "output_type": "stream",
     "text": [
      "\r- Processing image:   2237 / 4170"
     ]
    },
    {
     "name": "stdout",
     "output_type": "stream",
     "text": [
      "\r- Processing image:   2238 / 4170"
     ]
    },
    {
     "name": "stdout",
     "output_type": "stream",
     "text": [
      "\r- Processing image:   2239 / 4170"
     ]
    },
    {
     "name": "stdout",
     "output_type": "stream",
     "text": [
      "\r- Processing image:   2240 / 4170"
     ]
    },
    {
     "name": "stdout",
     "output_type": "stream",
     "text": [
      "\r- Processing image:   2241 / 4170"
     ]
    },
    {
     "name": "stdout",
     "output_type": "stream",
     "text": [
      "\r- Processing image:   2242 / 4170"
     ]
    },
    {
     "name": "stdout",
     "output_type": "stream",
     "text": [
      "\r- Processing image:   2243 / 4170"
     ]
    },
    {
     "name": "stdout",
     "output_type": "stream",
     "text": [
      "\r- Processing image:   2244 / 4170"
     ]
    },
    {
     "name": "stdout",
     "output_type": "stream",
     "text": [
      "\r- Processing image:   2245 / 4170"
     ]
    },
    {
     "name": "stdout",
     "output_type": "stream",
     "text": [
      "\r- Processing image:   2246 / 4170"
     ]
    },
    {
     "name": "stdout",
     "output_type": "stream",
     "text": [
      "\r- Processing image:   2247 / 4170"
     ]
    },
    {
     "name": "stdout",
     "output_type": "stream",
     "text": [
      "\r- Processing image:   2248 / 4170"
     ]
    },
    {
     "name": "stdout",
     "output_type": "stream",
     "text": [
      "\r- Processing image:   2249 / 4170"
     ]
    },
    {
     "name": "stdout",
     "output_type": "stream",
     "text": [
      "\r- Processing image:   2250 / 4170"
     ]
    },
    {
     "name": "stdout",
     "output_type": "stream",
     "text": [
      "\r- Processing image:   2251 / 4170"
     ]
    },
    {
     "name": "stdout",
     "output_type": "stream",
     "text": [
      "\r- Processing image:   2252 / 4170"
     ]
    },
    {
     "name": "stdout",
     "output_type": "stream",
     "text": [
      "\r- Processing image:   2253 / 4170"
     ]
    },
    {
     "name": "stdout",
     "output_type": "stream",
     "text": [
      "\r- Processing image:   2254 / 4170"
     ]
    },
    {
     "name": "stdout",
     "output_type": "stream",
     "text": [
      "\r- Processing image:   2255 / 4170"
     ]
    },
    {
     "name": "stdout",
     "output_type": "stream",
     "text": [
      "\r- Processing image:   2256 / 4170"
     ]
    },
    {
     "name": "stdout",
     "output_type": "stream",
     "text": [
      "\r- Processing image:   2257 / 4170"
     ]
    },
    {
     "name": "stdout",
     "output_type": "stream",
     "text": [
      "\r- Processing image:   2258 / 4170"
     ]
    },
    {
     "name": "stdout",
     "output_type": "stream",
     "text": [
      "\r- Processing image:   2259 / 4170"
     ]
    },
    {
     "name": "stdout",
     "output_type": "stream",
     "text": [
      "\r- Processing image:   2260 / 4170"
     ]
    },
    {
     "name": "stdout",
     "output_type": "stream",
     "text": [
      "\r- Processing image:   2261 / 4170"
     ]
    },
    {
     "name": "stdout",
     "output_type": "stream",
     "text": [
      "\r- Processing image:   2262 / 4170"
     ]
    },
    {
     "name": "stdout",
     "output_type": "stream",
     "text": [
      "\r- Processing image:   2263 / 4170"
     ]
    },
    {
     "name": "stdout",
     "output_type": "stream",
     "text": [
      "\r- Processing image:   2264 / 4170"
     ]
    },
    {
     "name": "stdout",
     "output_type": "stream",
     "text": [
      "\r- Processing image:   2265 / 4170"
     ]
    },
    {
     "name": "stdout",
     "output_type": "stream",
     "text": [
      "\r- Processing image:   2266 / 4170"
     ]
    },
    {
     "name": "stdout",
     "output_type": "stream",
     "text": [
      "\r- Processing image:   2267 / 4170"
     ]
    },
    {
     "name": "stdout",
     "output_type": "stream",
     "text": [
      "\r- Processing image:   2268 / 4170"
     ]
    },
    {
     "name": "stdout",
     "output_type": "stream",
     "text": [
      "\r- Processing image:   2269 / 4170"
     ]
    },
    {
     "name": "stdout",
     "output_type": "stream",
     "text": [
      "\r- Processing image:   2270 / 4170"
     ]
    },
    {
     "name": "stdout",
     "output_type": "stream",
     "text": [
      "\r- Processing image:   2271 / 4170"
     ]
    },
    {
     "name": "stdout",
     "output_type": "stream",
     "text": [
      "\r- Processing image:   2272 / 4170"
     ]
    },
    {
     "name": "stdout",
     "output_type": "stream",
     "text": [
      "\r- Processing image:   2273 / 4170"
     ]
    },
    {
     "name": "stdout",
     "output_type": "stream",
     "text": [
      "\r- Processing image:   2274 / 4170"
     ]
    },
    {
     "name": "stdout",
     "output_type": "stream",
     "text": [
      "\r- Processing image:   2275 / 4170"
     ]
    },
    {
     "name": "stdout",
     "output_type": "stream",
     "text": [
      "\r- Processing image:   2276 / 4170"
     ]
    },
    {
     "name": "stdout",
     "output_type": "stream",
     "text": [
      "\r- Processing image:   2277 / 4170"
     ]
    },
    {
     "name": "stdout",
     "output_type": "stream",
     "text": [
      "\r- Processing image:   2278 / 4170"
     ]
    },
    {
     "name": "stdout",
     "output_type": "stream",
     "text": [
      "\r- Processing image:   2279 / 4170"
     ]
    },
    {
     "name": "stdout",
     "output_type": "stream",
     "text": [
      "\r- Processing image:   2280 / 4170"
     ]
    },
    {
     "name": "stdout",
     "output_type": "stream",
     "text": [
      "\r- Processing image:   2281 / 4170"
     ]
    },
    {
     "name": "stdout",
     "output_type": "stream",
     "text": [
      "\r- Processing image:   2282 / 4170"
     ]
    },
    {
     "name": "stdout",
     "output_type": "stream",
     "text": [
      "\r- Processing image:   2283 / 4170"
     ]
    },
    {
     "name": "stdout",
     "output_type": "stream",
     "text": [
      "\r- Processing image:   2284 / 4170"
     ]
    },
    {
     "name": "stdout",
     "output_type": "stream",
     "text": [
      "\r- Processing image:   2285 / 4170"
     ]
    },
    {
     "name": "stdout",
     "output_type": "stream",
     "text": [
      "\r- Processing image:   2286 / 4170"
     ]
    },
    {
     "name": "stdout",
     "output_type": "stream",
     "text": [
      "\r- Processing image:   2287 / 4170"
     ]
    },
    {
     "name": "stdout",
     "output_type": "stream",
     "text": [
      "\r- Processing image:   2288 / 4170"
     ]
    },
    {
     "name": "stdout",
     "output_type": "stream",
     "text": [
      "\r- Processing image:   2289 / 4170"
     ]
    },
    {
     "name": "stdout",
     "output_type": "stream",
     "text": [
      "\r- Processing image:   2290 / 4170"
     ]
    },
    {
     "name": "stdout",
     "output_type": "stream",
     "text": [
      "\r- Processing image:   2291 / 4170"
     ]
    },
    {
     "name": "stdout",
     "output_type": "stream",
     "text": [
      "\r- Processing image:   2292 / 4170"
     ]
    },
    {
     "name": "stdout",
     "output_type": "stream",
     "text": [
      "\r- Processing image:   2293 / 4170"
     ]
    },
    {
     "name": "stdout",
     "output_type": "stream",
     "text": [
      "\r- Processing image:   2294 / 4170"
     ]
    },
    {
     "name": "stdout",
     "output_type": "stream",
     "text": [
      "\r- Processing image:   2295 / 4170"
     ]
    },
    {
     "name": "stdout",
     "output_type": "stream",
     "text": [
      "\r- Processing image:   2296 / 4170"
     ]
    },
    {
     "name": "stdout",
     "output_type": "stream",
     "text": [
      "\r- Processing image:   2297 / 4170"
     ]
    },
    {
     "name": "stdout",
     "output_type": "stream",
     "text": [
      "\r- Processing image:   2298 / 4170"
     ]
    },
    {
     "name": "stdout",
     "output_type": "stream",
     "text": [
      "\r- Processing image:   2299 / 4170"
     ]
    },
    {
     "name": "stdout",
     "output_type": "stream",
     "text": [
      "\r- Processing image:   2300 / 4170"
     ]
    },
    {
     "name": "stdout",
     "output_type": "stream",
     "text": [
      "\r- Processing image:   2301 / 4170"
     ]
    },
    {
     "name": "stdout",
     "output_type": "stream",
     "text": [
      "\r- Processing image:   2302 / 4170"
     ]
    },
    {
     "name": "stdout",
     "output_type": "stream",
     "text": [
      "\r- Processing image:   2303 / 4170"
     ]
    },
    {
     "name": "stdout",
     "output_type": "stream",
     "text": [
      "\r- Processing image:   2304 / 4170"
     ]
    },
    {
     "name": "stdout",
     "output_type": "stream",
     "text": [
      "\r- Processing image:   2305 / 4170"
     ]
    },
    {
     "name": "stdout",
     "output_type": "stream",
     "text": [
      "\r- Processing image:   2306 / 4170"
     ]
    },
    {
     "name": "stdout",
     "output_type": "stream",
     "text": [
      "\r- Processing image:   2307 / 4170"
     ]
    },
    {
     "name": "stdout",
     "output_type": "stream",
     "text": [
      "\r- Processing image:   2308 / 4170"
     ]
    },
    {
     "name": "stdout",
     "output_type": "stream",
     "text": [
      "\r- Processing image:   2309 / 4170"
     ]
    },
    {
     "name": "stdout",
     "output_type": "stream",
     "text": [
      "\r- Processing image:   2310 / 4170"
     ]
    },
    {
     "name": "stdout",
     "output_type": "stream",
     "text": [
      "\r- Processing image:   2311 / 4170"
     ]
    },
    {
     "name": "stdout",
     "output_type": "stream",
     "text": [
      "\r- Processing image:   2312 / 4170"
     ]
    },
    {
     "name": "stdout",
     "output_type": "stream",
     "text": [
      "\r- Processing image:   2313 / 4170"
     ]
    },
    {
     "name": "stdout",
     "output_type": "stream",
     "text": [
      "\r- Processing image:   2314 / 4170"
     ]
    },
    {
     "name": "stdout",
     "output_type": "stream",
     "text": [
      "\r- Processing image:   2315 / 4170"
     ]
    },
    {
     "name": "stdout",
     "output_type": "stream",
     "text": [
      "\r- Processing image:   2316 / 4170"
     ]
    },
    {
     "name": "stdout",
     "output_type": "stream",
     "text": [
      "\r- Processing image:   2317 / 4170"
     ]
    },
    {
     "name": "stdout",
     "output_type": "stream",
     "text": [
      "\r- Processing image:   2318 / 4170"
     ]
    },
    {
     "name": "stdout",
     "output_type": "stream",
     "text": [
      "\r- Processing image:   2319 / 4170"
     ]
    },
    {
     "name": "stdout",
     "output_type": "stream",
     "text": [
      "\r- Processing image:   2320 / 4170"
     ]
    },
    {
     "name": "stdout",
     "output_type": "stream",
     "text": [
      "\r- Processing image:   2321 / 4170"
     ]
    },
    {
     "name": "stdout",
     "output_type": "stream",
     "text": [
      "\r- Processing image:   2322 / 4170"
     ]
    },
    {
     "name": "stdout",
     "output_type": "stream",
     "text": [
      "\r- Processing image:   2323 / 4170"
     ]
    },
    {
     "name": "stdout",
     "output_type": "stream",
     "text": [
      "\r- Processing image:   2324 / 4170"
     ]
    },
    {
     "name": "stdout",
     "output_type": "stream",
     "text": [
      "\r- Processing image:   2325 / 4170"
     ]
    },
    {
     "name": "stdout",
     "output_type": "stream",
     "text": [
      "\r- Processing image:   2326 / 4170"
     ]
    },
    {
     "name": "stdout",
     "output_type": "stream",
     "text": [
      "\r- Processing image:   2327 / 4170"
     ]
    },
    {
     "name": "stdout",
     "output_type": "stream",
     "text": [
      "\r- Processing image:   2328 / 4170"
     ]
    },
    {
     "name": "stdout",
     "output_type": "stream",
     "text": [
      "\r- Processing image:   2329 / 4170"
     ]
    },
    {
     "name": "stdout",
     "output_type": "stream",
     "text": [
      "\r- Processing image:   2330 / 4170"
     ]
    },
    {
     "name": "stdout",
     "output_type": "stream",
     "text": [
      "\r- Processing image:   2331 / 4170"
     ]
    },
    {
     "name": "stdout",
     "output_type": "stream",
     "text": [
      "\r- Processing image:   2332 / 4170"
     ]
    },
    {
     "name": "stdout",
     "output_type": "stream",
     "text": [
      "\r- Processing image:   2333 / 4170"
     ]
    },
    {
     "name": "stdout",
     "output_type": "stream",
     "text": [
      "\r- Processing image:   2334 / 4170"
     ]
    },
    {
     "name": "stdout",
     "output_type": "stream",
     "text": [
      "\r- Processing image:   2335 / 4170"
     ]
    },
    {
     "name": "stdout",
     "output_type": "stream",
     "text": [
      "\r- Processing image:   2336 / 4170"
     ]
    },
    {
     "name": "stdout",
     "output_type": "stream",
     "text": [
      "\r- Processing image:   2337 / 4170"
     ]
    },
    {
     "name": "stdout",
     "output_type": "stream",
     "text": [
      "\r- Processing image:   2338 / 4170"
     ]
    },
    {
     "name": "stdout",
     "output_type": "stream",
     "text": [
      "\r- Processing image:   2339 / 4170"
     ]
    },
    {
     "name": "stdout",
     "output_type": "stream",
     "text": [
      "\r- Processing image:   2340 / 4170"
     ]
    },
    {
     "name": "stdout",
     "output_type": "stream",
     "text": [
      "\r- Processing image:   2341 / 4170"
     ]
    },
    {
     "name": "stdout",
     "output_type": "stream",
     "text": [
      "\r- Processing image:   2342 / 4170"
     ]
    },
    {
     "name": "stdout",
     "output_type": "stream",
     "text": [
      "\r- Processing image:   2343 / 4170"
     ]
    },
    {
     "name": "stdout",
     "output_type": "stream",
     "text": [
      "\r- Processing image:   2344 / 4170"
     ]
    },
    {
     "name": "stdout",
     "output_type": "stream",
     "text": [
      "\r- Processing image:   2345 / 4170"
     ]
    },
    {
     "name": "stdout",
     "output_type": "stream",
     "text": [
      "\r- Processing image:   2346 / 4170"
     ]
    },
    {
     "name": "stdout",
     "output_type": "stream",
     "text": [
      "\r- Processing image:   2347 / 4170"
     ]
    },
    {
     "name": "stdout",
     "output_type": "stream",
     "text": [
      "\r- Processing image:   2348 / 4170"
     ]
    },
    {
     "name": "stdout",
     "output_type": "stream",
     "text": [
      "\r- Processing image:   2349 / 4170"
     ]
    },
    {
     "name": "stdout",
     "output_type": "stream",
     "text": [
      "\r- Processing image:   2350 / 4170"
     ]
    },
    {
     "name": "stdout",
     "output_type": "stream",
     "text": [
      "\r- Processing image:   2351 / 4170"
     ]
    },
    {
     "name": "stdout",
     "output_type": "stream",
     "text": [
      "\r- Processing image:   2352 / 4170"
     ]
    },
    {
     "name": "stdout",
     "output_type": "stream",
     "text": [
      "\r- Processing image:   2353 / 4170"
     ]
    },
    {
     "name": "stdout",
     "output_type": "stream",
     "text": [
      "\r- Processing image:   2354 / 4170"
     ]
    },
    {
     "name": "stdout",
     "output_type": "stream",
     "text": [
      "\r- Processing image:   2355 / 4170"
     ]
    },
    {
     "name": "stdout",
     "output_type": "stream",
     "text": [
      "\r- Processing image:   2356 / 4170"
     ]
    },
    {
     "name": "stdout",
     "output_type": "stream",
     "text": [
      "\r- Processing image:   2357 / 4170"
     ]
    },
    {
     "name": "stdout",
     "output_type": "stream",
     "text": [
      "\r- Processing image:   2358 / 4170"
     ]
    },
    {
     "name": "stdout",
     "output_type": "stream",
     "text": [
      "\r- Processing image:   2359 / 4170"
     ]
    },
    {
     "name": "stdout",
     "output_type": "stream",
     "text": [
      "\r- Processing image:   2360 / 4170"
     ]
    },
    {
     "name": "stdout",
     "output_type": "stream",
     "text": [
      "\r- Processing image:   2361 / 4170"
     ]
    },
    {
     "name": "stdout",
     "output_type": "stream",
     "text": [
      "\r- Processing image:   2362 / 4170"
     ]
    },
    {
     "name": "stdout",
     "output_type": "stream",
     "text": [
      "\r- Processing image:   2363 / 4170"
     ]
    },
    {
     "name": "stdout",
     "output_type": "stream",
     "text": [
      "\r- Processing image:   2364 / 4170"
     ]
    },
    {
     "name": "stdout",
     "output_type": "stream",
     "text": [
      "\r- Processing image:   2365 / 4170"
     ]
    },
    {
     "name": "stdout",
     "output_type": "stream",
     "text": [
      "\r- Processing image:   2366 / 4170"
     ]
    },
    {
     "name": "stdout",
     "output_type": "stream",
     "text": [
      "\r- Processing image:   2367 / 4170"
     ]
    },
    {
     "name": "stdout",
     "output_type": "stream",
     "text": [
      "\r- Processing image:   2368 / 4170"
     ]
    },
    {
     "name": "stdout",
     "output_type": "stream",
     "text": [
      "\r- Processing image:   2369 / 4170"
     ]
    },
    {
     "name": "stdout",
     "output_type": "stream",
     "text": [
      "\r- Processing image:   2370 / 4170"
     ]
    },
    {
     "name": "stdout",
     "output_type": "stream",
     "text": [
      "\r- Processing image:   2371 / 4170"
     ]
    },
    {
     "name": "stdout",
     "output_type": "stream",
     "text": [
      "\r- Processing image:   2372 / 4170"
     ]
    },
    {
     "name": "stdout",
     "output_type": "stream",
     "text": [
      "\r- Processing image:   2373 / 4170"
     ]
    },
    {
     "name": "stdout",
     "output_type": "stream",
     "text": [
      "\r- Processing image:   2374 / 4170"
     ]
    },
    {
     "name": "stdout",
     "output_type": "stream",
     "text": [
      "\r- Processing image:   2375 / 4170"
     ]
    },
    {
     "name": "stdout",
     "output_type": "stream",
     "text": [
      "\r- Processing image:   2376 / 4170"
     ]
    },
    {
     "name": "stdout",
     "output_type": "stream",
     "text": [
      "\r- Processing image:   2377 / 4170"
     ]
    },
    {
     "name": "stdout",
     "output_type": "stream",
     "text": [
      "\r- Processing image:   2378 / 4170"
     ]
    },
    {
     "name": "stdout",
     "output_type": "stream",
     "text": [
      "\r- Processing image:   2379 / 4170"
     ]
    },
    {
     "name": "stdout",
     "output_type": "stream",
     "text": [
      "\r- Processing image:   2380 / 4170"
     ]
    },
    {
     "name": "stdout",
     "output_type": "stream",
     "text": [
      "\r- Processing image:   2381 / 4170"
     ]
    },
    {
     "name": "stdout",
     "output_type": "stream",
     "text": [
      "\r- Processing image:   2382 / 4170"
     ]
    },
    {
     "name": "stdout",
     "output_type": "stream",
     "text": [
      "\r- Processing image:   2383 / 4170"
     ]
    },
    {
     "name": "stdout",
     "output_type": "stream",
     "text": [
      "\r- Processing image:   2384 / 4170"
     ]
    },
    {
     "name": "stdout",
     "output_type": "stream",
     "text": [
      "\r- Processing image:   2385 / 4170"
     ]
    },
    {
     "name": "stdout",
     "output_type": "stream",
     "text": [
      "\r- Processing image:   2386 / 4170"
     ]
    },
    {
     "name": "stdout",
     "output_type": "stream",
     "text": [
      "\r- Processing image:   2387 / 4170"
     ]
    },
    {
     "name": "stdout",
     "output_type": "stream",
     "text": [
      "\r- Processing image:   2388 / 4170"
     ]
    },
    {
     "name": "stdout",
     "output_type": "stream",
     "text": [
      "\r- Processing image:   2389 / 4170"
     ]
    },
    {
     "name": "stdout",
     "output_type": "stream",
     "text": [
      "\r- Processing image:   2390 / 4170"
     ]
    },
    {
     "name": "stdout",
     "output_type": "stream",
     "text": [
      "\r- Processing image:   2391 / 4170"
     ]
    },
    {
     "name": "stdout",
     "output_type": "stream",
     "text": [
      "\r- Processing image:   2392 / 4170"
     ]
    },
    {
     "name": "stdout",
     "output_type": "stream",
     "text": [
      "\r- Processing image:   2393 / 4170"
     ]
    },
    {
     "name": "stdout",
     "output_type": "stream",
     "text": [
      "\r- Processing image:   2394 / 4170"
     ]
    },
    {
     "name": "stdout",
     "output_type": "stream",
     "text": [
      "\r- Processing image:   2395 / 4170"
     ]
    },
    {
     "name": "stdout",
     "output_type": "stream",
     "text": [
      "\r- Processing image:   2396 / 4170"
     ]
    },
    {
     "name": "stdout",
     "output_type": "stream",
     "text": [
      "\r- Processing image:   2397 / 4170"
     ]
    },
    {
     "name": "stdout",
     "output_type": "stream",
     "text": [
      "\r- Processing image:   2398 / 4170"
     ]
    },
    {
     "name": "stdout",
     "output_type": "stream",
     "text": [
      "\r- Processing image:   2399 / 4170"
     ]
    },
    {
     "name": "stdout",
     "output_type": "stream",
     "text": [
      "\r- Processing image:   2400 / 4170"
     ]
    },
    {
     "name": "stdout",
     "output_type": "stream",
     "text": [
      "\r- Processing image:   2401 / 4170"
     ]
    },
    {
     "name": "stdout",
     "output_type": "stream",
     "text": [
      "\r- Processing image:   2402 / 4170"
     ]
    },
    {
     "name": "stdout",
     "output_type": "stream",
     "text": [
      "\r- Processing image:   2403 / 4170"
     ]
    },
    {
     "name": "stdout",
     "output_type": "stream",
     "text": [
      "\r- Processing image:   2404 / 4170"
     ]
    },
    {
     "name": "stdout",
     "output_type": "stream",
     "text": [
      "\r- Processing image:   2405 / 4170"
     ]
    },
    {
     "name": "stdout",
     "output_type": "stream",
     "text": [
      "\r- Processing image:   2406 / 4170"
     ]
    },
    {
     "name": "stdout",
     "output_type": "stream",
     "text": [
      "\r- Processing image:   2407 / 4170"
     ]
    },
    {
     "name": "stdout",
     "output_type": "stream",
     "text": [
      "\r- Processing image:   2408 / 4170"
     ]
    },
    {
     "name": "stdout",
     "output_type": "stream",
     "text": [
      "\r- Processing image:   2409 / 4170"
     ]
    },
    {
     "name": "stdout",
     "output_type": "stream",
     "text": [
      "\r- Processing image:   2410 / 4170"
     ]
    },
    {
     "name": "stdout",
     "output_type": "stream",
     "text": [
      "\r- Processing image:   2411 / 4170"
     ]
    },
    {
     "name": "stdout",
     "output_type": "stream",
     "text": [
      "\r- Processing image:   2412 / 4170"
     ]
    },
    {
     "name": "stdout",
     "output_type": "stream",
     "text": [
      "\r- Processing image:   2413 / 4170"
     ]
    },
    {
     "name": "stdout",
     "output_type": "stream",
     "text": [
      "\r- Processing image:   2414 / 4170"
     ]
    },
    {
     "name": "stdout",
     "output_type": "stream",
     "text": [
      "\r- Processing image:   2415 / 4170"
     ]
    },
    {
     "name": "stdout",
     "output_type": "stream",
     "text": [
      "\r- Processing image:   2416 / 4170"
     ]
    },
    {
     "name": "stdout",
     "output_type": "stream",
     "text": [
      "\r- Processing image:   2417 / 4170"
     ]
    },
    {
     "name": "stdout",
     "output_type": "stream",
     "text": [
      "\r- Processing image:   2418 / 4170"
     ]
    },
    {
     "name": "stdout",
     "output_type": "stream",
     "text": [
      "\r- Processing image:   2419 / 4170"
     ]
    },
    {
     "name": "stdout",
     "output_type": "stream",
     "text": [
      "\r- Processing image:   2420 / 4170"
     ]
    },
    {
     "name": "stdout",
     "output_type": "stream",
     "text": [
      "\r- Processing image:   2421 / 4170"
     ]
    },
    {
     "name": "stdout",
     "output_type": "stream",
     "text": [
      "\r- Processing image:   2422 / 4170"
     ]
    },
    {
     "name": "stdout",
     "output_type": "stream",
     "text": [
      "\r- Processing image:   2423 / 4170"
     ]
    },
    {
     "name": "stdout",
     "output_type": "stream",
     "text": [
      "\r- Processing image:   2424 / 4170"
     ]
    },
    {
     "name": "stdout",
     "output_type": "stream",
     "text": [
      "\r- Processing image:   2425 / 4170"
     ]
    },
    {
     "name": "stdout",
     "output_type": "stream",
     "text": [
      "\r- Processing image:   2426 / 4170"
     ]
    },
    {
     "name": "stdout",
     "output_type": "stream",
     "text": [
      "\r- Processing image:   2427 / 4170"
     ]
    },
    {
     "name": "stdout",
     "output_type": "stream",
     "text": [
      "\r- Processing image:   2428 / 4170"
     ]
    },
    {
     "name": "stdout",
     "output_type": "stream",
     "text": [
      "\r- Processing image:   2429 / 4170"
     ]
    },
    {
     "name": "stdout",
     "output_type": "stream",
     "text": [
      "\r- Processing image:   2430 / 4170"
     ]
    },
    {
     "name": "stdout",
     "output_type": "stream",
     "text": [
      "\r- Processing image:   2431 / 4170"
     ]
    },
    {
     "name": "stdout",
     "output_type": "stream",
     "text": [
      "\r- Processing image:   2432 / 4170"
     ]
    },
    {
     "name": "stdout",
     "output_type": "stream",
     "text": [
      "\r- Processing image:   2433 / 4170"
     ]
    },
    {
     "name": "stdout",
     "output_type": "stream",
     "text": [
      "\r- Processing image:   2434 / 4170"
     ]
    },
    {
     "name": "stdout",
     "output_type": "stream",
     "text": [
      "\r- Processing image:   2435 / 4170"
     ]
    },
    {
     "name": "stdout",
     "output_type": "stream",
     "text": [
      "\r- Processing image:   2436 / 4170"
     ]
    },
    {
     "name": "stdout",
     "output_type": "stream",
     "text": [
      "\r- Processing image:   2437 / 4170"
     ]
    },
    {
     "name": "stdout",
     "output_type": "stream",
     "text": [
      "\r- Processing image:   2438 / 4170"
     ]
    },
    {
     "name": "stdout",
     "output_type": "stream",
     "text": [
      "\r- Processing image:   2439 / 4170"
     ]
    },
    {
     "name": "stdout",
     "output_type": "stream",
     "text": [
      "\r- Processing image:   2440 / 4170"
     ]
    },
    {
     "name": "stdout",
     "output_type": "stream",
     "text": [
      "\r- Processing image:   2441 / 4170"
     ]
    },
    {
     "name": "stdout",
     "output_type": "stream",
     "text": [
      "\r- Processing image:   2442 / 4170"
     ]
    },
    {
     "name": "stdout",
     "output_type": "stream",
     "text": [
      "\r- Processing image:   2443 / 4170"
     ]
    },
    {
     "name": "stdout",
     "output_type": "stream",
     "text": [
      "\r- Processing image:   2444 / 4170"
     ]
    },
    {
     "name": "stdout",
     "output_type": "stream",
     "text": [
      "\r- Processing image:   2445 / 4170"
     ]
    },
    {
     "name": "stdout",
     "output_type": "stream",
     "text": [
      "\r- Processing image:   2446 / 4170"
     ]
    },
    {
     "name": "stdout",
     "output_type": "stream",
     "text": [
      "\r- Processing image:   2447 / 4170"
     ]
    },
    {
     "name": "stdout",
     "output_type": "stream",
     "text": [
      "\r- Processing image:   2448 / 4170"
     ]
    },
    {
     "name": "stdout",
     "output_type": "stream",
     "text": [
      "\r- Processing image:   2449 / 4170"
     ]
    },
    {
     "name": "stdout",
     "output_type": "stream",
     "text": [
      "\r- Processing image:   2450 / 4170"
     ]
    },
    {
     "name": "stdout",
     "output_type": "stream",
     "text": [
      "\r- Processing image:   2451 / 4170"
     ]
    },
    {
     "name": "stdout",
     "output_type": "stream",
     "text": [
      "\r- Processing image:   2452 / 4170"
     ]
    },
    {
     "name": "stdout",
     "output_type": "stream",
     "text": [
      "\r- Processing image:   2453 / 4170"
     ]
    },
    {
     "name": "stdout",
     "output_type": "stream",
     "text": [
      "\r- Processing image:   2454 / 4170"
     ]
    },
    {
     "name": "stdout",
     "output_type": "stream",
     "text": [
      "\r- Processing image:   2455 / 4170"
     ]
    },
    {
     "name": "stdout",
     "output_type": "stream",
     "text": [
      "\r- Processing image:   2456 / 4170"
     ]
    },
    {
     "name": "stdout",
     "output_type": "stream",
     "text": [
      "\r- Processing image:   2457 / 4170"
     ]
    },
    {
     "name": "stdout",
     "output_type": "stream",
     "text": [
      "\r- Processing image:   2458 / 4170"
     ]
    },
    {
     "name": "stdout",
     "output_type": "stream",
     "text": [
      "\r- Processing image:   2459 / 4170"
     ]
    },
    {
     "name": "stdout",
     "output_type": "stream",
     "text": [
      "\r- Processing image:   2460 / 4170"
     ]
    },
    {
     "name": "stdout",
     "output_type": "stream",
     "text": [
      "\r- Processing image:   2461 / 4170"
     ]
    },
    {
     "name": "stdout",
     "output_type": "stream",
     "text": [
      "\r- Processing image:   2462 / 4170"
     ]
    },
    {
     "name": "stdout",
     "output_type": "stream",
     "text": [
      "\r- Processing image:   2463 / 4170"
     ]
    },
    {
     "name": "stdout",
     "output_type": "stream",
     "text": [
      "\r- Processing image:   2464 / 4170"
     ]
    },
    {
     "name": "stdout",
     "output_type": "stream",
     "text": [
      "\r- Processing image:   2465 / 4170"
     ]
    },
    {
     "name": "stdout",
     "output_type": "stream",
     "text": [
      "\r- Processing image:   2466 / 4170"
     ]
    },
    {
     "name": "stdout",
     "output_type": "stream",
     "text": [
      "\r- Processing image:   2467 / 4170"
     ]
    },
    {
     "name": "stdout",
     "output_type": "stream",
     "text": [
      "\r- Processing image:   2468 / 4170"
     ]
    },
    {
     "name": "stdout",
     "output_type": "stream",
     "text": [
      "\r- Processing image:   2469 / 4170"
     ]
    },
    {
     "name": "stdout",
     "output_type": "stream",
     "text": [
      "\r- Processing image:   2470 / 4170"
     ]
    },
    {
     "name": "stdout",
     "output_type": "stream",
     "text": [
      "\r- Processing image:   2471 / 4170"
     ]
    },
    {
     "name": "stdout",
     "output_type": "stream",
     "text": [
      "\r- Processing image:   2472 / 4170"
     ]
    },
    {
     "name": "stdout",
     "output_type": "stream",
     "text": [
      "\r- Processing image:   2473 / 4170"
     ]
    },
    {
     "name": "stdout",
     "output_type": "stream",
     "text": [
      "\r- Processing image:   2474 / 4170"
     ]
    },
    {
     "name": "stdout",
     "output_type": "stream",
     "text": [
      "\r- Processing image:   2475 / 4170"
     ]
    },
    {
     "name": "stdout",
     "output_type": "stream",
     "text": [
      "\r- Processing image:   2476 / 4170"
     ]
    },
    {
     "name": "stdout",
     "output_type": "stream",
     "text": [
      "\r- Processing image:   2477 / 4170"
     ]
    },
    {
     "name": "stdout",
     "output_type": "stream",
     "text": [
      "\r- Processing image:   2478 / 4170"
     ]
    },
    {
     "name": "stdout",
     "output_type": "stream",
     "text": [
      "\r- Processing image:   2479 / 4170"
     ]
    },
    {
     "name": "stdout",
     "output_type": "stream",
     "text": [
      "\r- Processing image:   2480 / 4170"
     ]
    },
    {
     "name": "stdout",
     "output_type": "stream",
     "text": [
      "\r- Processing image:   2481 / 4170"
     ]
    },
    {
     "name": "stdout",
     "output_type": "stream",
     "text": [
      "\r- Processing image:   2482 / 4170"
     ]
    },
    {
     "name": "stdout",
     "output_type": "stream",
     "text": [
      "\r- Processing image:   2483 / 4170"
     ]
    },
    {
     "name": "stdout",
     "output_type": "stream",
     "text": [
      "\r- Processing image:   2484 / 4170"
     ]
    },
    {
     "name": "stdout",
     "output_type": "stream",
     "text": [
      "\r- Processing image:   2485 / 4170"
     ]
    },
    {
     "name": "stdout",
     "output_type": "stream",
     "text": [
      "\r- Processing image:   2486 / 4170"
     ]
    },
    {
     "name": "stdout",
     "output_type": "stream",
     "text": [
      "\r- Processing image:   2487 / 4170"
     ]
    },
    {
     "name": "stdout",
     "output_type": "stream",
     "text": [
      "\r- Processing image:   2488 / 4170"
     ]
    },
    {
     "name": "stdout",
     "output_type": "stream",
     "text": [
      "\r- Processing image:   2489 / 4170"
     ]
    },
    {
     "name": "stdout",
     "output_type": "stream",
     "text": [
      "\r- Processing image:   2490 / 4170"
     ]
    },
    {
     "name": "stdout",
     "output_type": "stream",
     "text": [
      "\r- Processing image:   2491 / 4170"
     ]
    },
    {
     "name": "stdout",
     "output_type": "stream",
     "text": [
      "\r- Processing image:   2492 / 4170"
     ]
    },
    {
     "name": "stdout",
     "output_type": "stream",
     "text": [
      "\r- Processing image:   2493 / 4170"
     ]
    },
    {
     "name": "stdout",
     "output_type": "stream",
     "text": [
      "\r- Processing image:   2494 / 4170"
     ]
    },
    {
     "name": "stdout",
     "output_type": "stream",
     "text": [
      "\r- Processing image:   2495 / 4170"
     ]
    },
    {
     "name": "stdout",
     "output_type": "stream",
     "text": [
      "\r- Processing image:   2496 / 4170"
     ]
    },
    {
     "name": "stdout",
     "output_type": "stream",
     "text": [
      "\r- Processing image:   2497 / 4170"
     ]
    },
    {
     "name": "stdout",
     "output_type": "stream",
     "text": [
      "\r- Processing image:   2498 / 4170"
     ]
    },
    {
     "name": "stdout",
     "output_type": "stream",
     "text": [
      "\r- Processing image:   2499 / 4170"
     ]
    },
    {
     "name": "stdout",
     "output_type": "stream",
     "text": [
      "\r- Processing image:   2500 / 4170"
     ]
    },
    {
     "name": "stdout",
     "output_type": "stream",
     "text": [
      "\r- Processing image:   2501 / 4170"
     ]
    },
    {
     "name": "stdout",
     "output_type": "stream",
     "text": [
      "\r- Processing image:   2502 / 4170"
     ]
    },
    {
     "name": "stdout",
     "output_type": "stream",
     "text": [
      "\r- Processing image:   2503 / 4170"
     ]
    },
    {
     "name": "stdout",
     "output_type": "stream",
     "text": [
      "\r- Processing image:   2504 / 4170"
     ]
    },
    {
     "name": "stdout",
     "output_type": "stream",
     "text": [
      "\r- Processing image:   2505 / 4170"
     ]
    },
    {
     "name": "stdout",
     "output_type": "stream",
     "text": [
      "\r- Processing image:   2506 / 4170"
     ]
    },
    {
     "name": "stdout",
     "output_type": "stream",
     "text": [
      "\r- Processing image:   2507 / 4170"
     ]
    },
    {
     "name": "stdout",
     "output_type": "stream",
     "text": [
      "\r- Processing image:   2508 / 4170"
     ]
    },
    {
     "name": "stdout",
     "output_type": "stream",
     "text": [
      "\r- Processing image:   2509 / 4170"
     ]
    },
    {
     "name": "stdout",
     "output_type": "stream",
     "text": [
      "\r- Processing image:   2510 / 4170"
     ]
    },
    {
     "name": "stdout",
     "output_type": "stream",
     "text": [
      "\r- Processing image:   2511 / 4170"
     ]
    },
    {
     "name": "stdout",
     "output_type": "stream",
     "text": [
      "\r- Processing image:   2512 / 4170"
     ]
    },
    {
     "name": "stdout",
     "output_type": "stream",
     "text": [
      "\r- Processing image:   2513 / 4170"
     ]
    },
    {
     "name": "stdout",
     "output_type": "stream",
     "text": [
      "\r- Processing image:   2514 / 4170"
     ]
    },
    {
     "name": "stdout",
     "output_type": "stream",
     "text": [
      "\r- Processing image:   2515 / 4170"
     ]
    },
    {
     "name": "stdout",
     "output_type": "stream",
     "text": [
      "\r- Processing image:   2516 / 4170"
     ]
    },
    {
     "name": "stdout",
     "output_type": "stream",
     "text": [
      "\r- Processing image:   2517 / 4170"
     ]
    },
    {
     "name": "stdout",
     "output_type": "stream",
     "text": [
      "\r- Processing image:   2518 / 4170"
     ]
    },
    {
     "name": "stdout",
     "output_type": "stream",
     "text": [
      "\r- Processing image:   2519 / 4170"
     ]
    },
    {
     "name": "stdout",
     "output_type": "stream",
     "text": [
      "\r- Processing image:   2520 / 4170"
     ]
    },
    {
     "name": "stdout",
     "output_type": "stream",
     "text": [
      "\r- Processing image:   2521 / 4170"
     ]
    },
    {
     "name": "stdout",
     "output_type": "stream",
     "text": [
      "\r- Processing image:   2522 / 4170"
     ]
    },
    {
     "name": "stdout",
     "output_type": "stream",
     "text": [
      "\r- Processing image:   2523 / 4170"
     ]
    },
    {
     "name": "stdout",
     "output_type": "stream",
     "text": [
      "\r- Processing image:   2524 / 4170"
     ]
    },
    {
     "name": "stdout",
     "output_type": "stream",
     "text": [
      "\r- Processing image:   2525 / 4170"
     ]
    },
    {
     "name": "stdout",
     "output_type": "stream",
     "text": [
      "\r- Processing image:   2526 / 4170"
     ]
    },
    {
     "name": "stdout",
     "output_type": "stream",
     "text": [
      "\r- Processing image:   2527 / 4170"
     ]
    },
    {
     "name": "stdout",
     "output_type": "stream",
     "text": [
      "\r- Processing image:   2528 / 4170"
     ]
    },
    {
     "name": "stdout",
     "output_type": "stream",
     "text": [
      "\r- Processing image:   2529 / 4170"
     ]
    },
    {
     "name": "stdout",
     "output_type": "stream",
     "text": [
      "\r- Processing image:   2530 / 4170"
     ]
    },
    {
     "name": "stdout",
     "output_type": "stream",
     "text": [
      "\r- Processing image:   2531 / 4170"
     ]
    },
    {
     "name": "stdout",
     "output_type": "stream",
     "text": [
      "\r- Processing image:   2532 / 4170"
     ]
    },
    {
     "name": "stdout",
     "output_type": "stream",
     "text": [
      "\r- Processing image:   2533 / 4170"
     ]
    },
    {
     "name": "stdout",
     "output_type": "stream",
     "text": [
      "\r- Processing image:   2534 / 4170"
     ]
    },
    {
     "name": "stdout",
     "output_type": "stream",
     "text": [
      "\r- Processing image:   2535 / 4170"
     ]
    },
    {
     "name": "stdout",
     "output_type": "stream",
     "text": [
      "\r- Processing image:   2536 / 4170"
     ]
    },
    {
     "name": "stdout",
     "output_type": "stream",
     "text": [
      "\r- Processing image:   2537 / 4170"
     ]
    },
    {
     "name": "stdout",
     "output_type": "stream",
     "text": [
      "\r- Processing image:   2538 / 4170"
     ]
    },
    {
     "name": "stdout",
     "output_type": "stream",
     "text": [
      "\r- Processing image:   2539 / 4170"
     ]
    },
    {
     "name": "stdout",
     "output_type": "stream",
     "text": [
      "\r- Processing image:   2540 / 4170"
     ]
    },
    {
     "name": "stdout",
     "output_type": "stream",
     "text": [
      "\r- Processing image:   2541 / 4170"
     ]
    },
    {
     "name": "stdout",
     "output_type": "stream",
     "text": [
      "\r- Processing image:   2542 / 4170"
     ]
    },
    {
     "name": "stdout",
     "output_type": "stream",
     "text": [
      "\r- Processing image:   2543 / 4170"
     ]
    },
    {
     "name": "stdout",
     "output_type": "stream",
     "text": [
      "\r- Processing image:   2544 / 4170"
     ]
    },
    {
     "name": "stdout",
     "output_type": "stream",
     "text": [
      "\r- Processing image:   2545 / 4170"
     ]
    },
    {
     "name": "stdout",
     "output_type": "stream",
     "text": [
      "\r- Processing image:   2546 / 4170"
     ]
    },
    {
     "name": "stdout",
     "output_type": "stream",
     "text": [
      "\r- Processing image:   2547 / 4170"
     ]
    },
    {
     "name": "stdout",
     "output_type": "stream",
     "text": [
      "\r- Processing image:   2548 / 4170"
     ]
    },
    {
     "name": "stdout",
     "output_type": "stream",
     "text": [
      "\r- Processing image:   2549 / 4170"
     ]
    },
    {
     "name": "stdout",
     "output_type": "stream",
     "text": [
      "\r- Processing image:   2550 / 4170"
     ]
    },
    {
     "name": "stdout",
     "output_type": "stream",
     "text": [
      "\r- Processing image:   2551 / 4170"
     ]
    },
    {
     "name": "stdout",
     "output_type": "stream",
     "text": [
      "\r- Processing image:   2552 / 4170"
     ]
    },
    {
     "name": "stdout",
     "output_type": "stream",
     "text": [
      "\r- Processing image:   2553 / 4170"
     ]
    },
    {
     "name": "stdout",
     "output_type": "stream",
     "text": [
      "\r- Processing image:   2554 / 4170"
     ]
    },
    {
     "name": "stdout",
     "output_type": "stream",
     "text": [
      "\r- Processing image:   2555 / 4170"
     ]
    },
    {
     "name": "stdout",
     "output_type": "stream",
     "text": [
      "\r- Processing image:   2556 / 4170"
     ]
    },
    {
     "name": "stdout",
     "output_type": "stream",
     "text": [
      "\r- Processing image:   2557 / 4170"
     ]
    },
    {
     "name": "stdout",
     "output_type": "stream",
     "text": [
      "\r- Processing image:   2558 / 4170"
     ]
    },
    {
     "name": "stdout",
     "output_type": "stream",
     "text": [
      "\r- Processing image:   2559 / 4170"
     ]
    },
    {
     "name": "stdout",
     "output_type": "stream",
     "text": [
      "\r- Processing image:   2560 / 4170"
     ]
    },
    {
     "name": "stdout",
     "output_type": "stream",
     "text": [
      "\r- Processing image:   2561 / 4170"
     ]
    },
    {
     "name": "stdout",
     "output_type": "stream",
     "text": [
      "\r- Processing image:   2562 / 4170"
     ]
    },
    {
     "name": "stdout",
     "output_type": "stream",
     "text": [
      "\r- Processing image:   2563 / 4170"
     ]
    },
    {
     "name": "stdout",
     "output_type": "stream",
     "text": [
      "\r- Processing image:   2564 / 4170"
     ]
    },
    {
     "name": "stdout",
     "output_type": "stream",
     "text": [
      "\r- Processing image:   2565 / 4170"
     ]
    },
    {
     "name": "stdout",
     "output_type": "stream",
     "text": [
      "\r- Processing image:   2566 / 4170"
     ]
    },
    {
     "name": "stdout",
     "output_type": "stream",
     "text": [
      "\r- Processing image:   2567 / 4170"
     ]
    },
    {
     "name": "stdout",
     "output_type": "stream",
     "text": [
      "\r- Processing image:   2568 / 4170"
     ]
    },
    {
     "name": "stdout",
     "output_type": "stream",
     "text": [
      "\r- Processing image:   2569 / 4170"
     ]
    },
    {
     "name": "stdout",
     "output_type": "stream",
     "text": [
      "\r- Processing image:   2570 / 4170"
     ]
    },
    {
     "name": "stdout",
     "output_type": "stream",
     "text": [
      "\r- Processing image:   2571 / 4170"
     ]
    },
    {
     "name": "stdout",
     "output_type": "stream",
     "text": [
      "\r- Processing image:   2572 / 4170"
     ]
    },
    {
     "name": "stdout",
     "output_type": "stream",
     "text": [
      "\r- Processing image:   2573 / 4170"
     ]
    },
    {
     "name": "stdout",
     "output_type": "stream",
     "text": [
      "\r- Processing image:   2574 / 4170"
     ]
    },
    {
     "name": "stdout",
     "output_type": "stream",
     "text": [
      "\r- Processing image:   2575 / 4170"
     ]
    },
    {
     "name": "stdout",
     "output_type": "stream",
     "text": [
      "\r- Processing image:   2576 / 4170"
     ]
    },
    {
     "name": "stdout",
     "output_type": "stream",
     "text": [
      "\r- Processing image:   2577 / 4170"
     ]
    },
    {
     "name": "stdout",
     "output_type": "stream",
     "text": [
      "\r- Processing image:   2578 / 4170"
     ]
    },
    {
     "name": "stdout",
     "output_type": "stream",
     "text": [
      "\r- Processing image:   2579 / 4170"
     ]
    },
    {
     "name": "stdout",
     "output_type": "stream",
     "text": [
      "\r- Processing image:   2580 / 4170"
     ]
    },
    {
     "name": "stdout",
     "output_type": "stream",
     "text": [
      "\r- Processing image:   2581 / 4170"
     ]
    },
    {
     "name": "stdout",
     "output_type": "stream",
     "text": [
      "\r- Processing image:   2582 / 4170"
     ]
    },
    {
     "name": "stdout",
     "output_type": "stream",
     "text": [
      "\r- Processing image:   2583 / 4170"
     ]
    },
    {
     "name": "stdout",
     "output_type": "stream",
     "text": [
      "\r- Processing image:   2584 / 4170"
     ]
    },
    {
     "name": "stdout",
     "output_type": "stream",
     "text": [
      "\r- Processing image:   2585 / 4170"
     ]
    },
    {
     "name": "stdout",
     "output_type": "stream",
     "text": [
      "\r- Processing image:   2586 / 4170"
     ]
    },
    {
     "name": "stdout",
     "output_type": "stream",
     "text": [
      "\r- Processing image:   2587 / 4170"
     ]
    },
    {
     "name": "stdout",
     "output_type": "stream",
     "text": [
      "\r- Processing image:   2588 / 4170"
     ]
    },
    {
     "name": "stdout",
     "output_type": "stream",
     "text": [
      "\r- Processing image:   2589 / 4170"
     ]
    },
    {
     "name": "stdout",
     "output_type": "stream",
     "text": [
      "\r- Processing image:   2590 / 4170"
     ]
    },
    {
     "name": "stdout",
     "output_type": "stream",
     "text": [
      "\r- Processing image:   2591 / 4170"
     ]
    },
    {
     "name": "stdout",
     "output_type": "stream",
     "text": [
      "\r- Processing image:   2592 / 4170"
     ]
    },
    {
     "name": "stdout",
     "output_type": "stream",
     "text": [
      "\r- Processing image:   2593 / 4170"
     ]
    },
    {
     "name": "stdout",
     "output_type": "stream",
     "text": [
      "\r- Processing image:   2594 / 4170"
     ]
    },
    {
     "name": "stdout",
     "output_type": "stream",
     "text": [
      "\r- Processing image:   2595 / 4170"
     ]
    },
    {
     "name": "stdout",
     "output_type": "stream",
     "text": [
      "\r- Processing image:   2596 / 4170"
     ]
    },
    {
     "name": "stdout",
     "output_type": "stream",
     "text": [
      "\r- Processing image:   2597 / 4170"
     ]
    },
    {
     "name": "stdout",
     "output_type": "stream",
     "text": [
      "\r- Processing image:   2598 / 4170"
     ]
    },
    {
     "name": "stdout",
     "output_type": "stream",
     "text": [
      "\r- Processing image:   2599 / 4170"
     ]
    },
    {
     "name": "stdout",
     "output_type": "stream",
     "text": [
      "\r- Processing image:   2600 / 4170"
     ]
    },
    {
     "name": "stdout",
     "output_type": "stream",
     "text": [
      "\r- Processing image:   2601 / 4170"
     ]
    },
    {
     "name": "stdout",
     "output_type": "stream",
     "text": [
      "\r- Processing image:   2602 / 4170"
     ]
    },
    {
     "name": "stdout",
     "output_type": "stream",
     "text": [
      "\r- Processing image:   2603 / 4170"
     ]
    },
    {
     "name": "stdout",
     "output_type": "stream",
     "text": [
      "\r- Processing image:   2604 / 4170"
     ]
    },
    {
     "name": "stdout",
     "output_type": "stream",
     "text": [
      "\r- Processing image:   2605 / 4170"
     ]
    },
    {
     "name": "stdout",
     "output_type": "stream",
     "text": [
      "\r- Processing image:   2606 / 4170"
     ]
    },
    {
     "name": "stdout",
     "output_type": "stream",
     "text": [
      "\r- Processing image:   2607 / 4170"
     ]
    },
    {
     "name": "stdout",
     "output_type": "stream",
     "text": [
      "\r- Processing image:   2608 / 4170"
     ]
    },
    {
     "name": "stdout",
     "output_type": "stream",
     "text": [
      "\r- Processing image:   2609 / 4170"
     ]
    },
    {
     "name": "stdout",
     "output_type": "stream",
     "text": [
      "\r- Processing image:   2610 / 4170"
     ]
    },
    {
     "name": "stdout",
     "output_type": "stream",
     "text": [
      "\r- Processing image:   2611 / 4170"
     ]
    },
    {
     "name": "stdout",
     "output_type": "stream",
     "text": [
      "\r- Processing image:   2612 / 4170"
     ]
    },
    {
     "name": "stdout",
     "output_type": "stream",
     "text": [
      "\r- Processing image:   2613 / 4170"
     ]
    },
    {
     "name": "stdout",
     "output_type": "stream",
     "text": [
      "\r- Processing image:   2614 / 4170"
     ]
    },
    {
     "name": "stdout",
     "output_type": "stream",
     "text": [
      "\r- Processing image:   2615 / 4170"
     ]
    },
    {
     "name": "stdout",
     "output_type": "stream",
     "text": [
      "\r- Processing image:   2616 / 4170"
     ]
    },
    {
     "name": "stdout",
     "output_type": "stream",
     "text": [
      "\r- Processing image:   2617 / 4170"
     ]
    },
    {
     "name": "stdout",
     "output_type": "stream",
     "text": [
      "\r- Processing image:   2618 / 4170"
     ]
    },
    {
     "name": "stdout",
     "output_type": "stream",
     "text": [
      "\r- Processing image:   2619 / 4170"
     ]
    },
    {
     "name": "stdout",
     "output_type": "stream",
     "text": [
      "\r- Processing image:   2620 / 4170"
     ]
    },
    {
     "name": "stdout",
     "output_type": "stream",
     "text": [
      "\r- Processing image:   2621 / 4170"
     ]
    },
    {
     "name": "stdout",
     "output_type": "stream",
     "text": [
      "\r- Processing image:   2622 / 4170"
     ]
    },
    {
     "name": "stdout",
     "output_type": "stream",
     "text": [
      "\r- Processing image:   2623 / 4170"
     ]
    },
    {
     "name": "stdout",
     "output_type": "stream",
     "text": [
      "\r- Processing image:   2624 / 4170"
     ]
    },
    {
     "name": "stdout",
     "output_type": "stream",
     "text": [
      "\r- Processing image:   2625 / 4170"
     ]
    },
    {
     "name": "stdout",
     "output_type": "stream",
     "text": [
      "\r- Processing image:   2626 / 4170"
     ]
    },
    {
     "name": "stdout",
     "output_type": "stream",
     "text": [
      "\r- Processing image:   2627 / 4170"
     ]
    },
    {
     "name": "stdout",
     "output_type": "stream",
     "text": [
      "\r- Processing image:   2628 / 4170"
     ]
    },
    {
     "name": "stdout",
     "output_type": "stream",
     "text": [
      "\r- Processing image:   2629 / 4170"
     ]
    },
    {
     "name": "stdout",
     "output_type": "stream",
     "text": [
      "\r- Processing image:   2630 / 4170"
     ]
    },
    {
     "name": "stdout",
     "output_type": "stream",
     "text": [
      "\r- Processing image:   2631 / 4170"
     ]
    },
    {
     "name": "stdout",
     "output_type": "stream",
     "text": [
      "\r- Processing image:   2632 / 4170"
     ]
    },
    {
     "name": "stdout",
     "output_type": "stream",
     "text": [
      "\r- Processing image:   2633 / 4170"
     ]
    },
    {
     "name": "stdout",
     "output_type": "stream",
     "text": [
      "\r- Processing image:   2634 / 4170"
     ]
    },
    {
     "name": "stdout",
     "output_type": "stream",
     "text": [
      "\r- Processing image:   2635 / 4170"
     ]
    },
    {
     "name": "stdout",
     "output_type": "stream",
     "text": [
      "\r- Processing image:   2636 / 4170"
     ]
    },
    {
     "name": "stdout",
     "output_type": "stream",
     "text": [
      "\r- Processing image:   2637 / 4170"
     ]
    },
    {
     "name": "stdout",
     "output_type": "stream",
     "text": [
      "\r- Processing image:   2638 / 4170"
     ]
    },
    {
     "name": "stdout",
     "output_type": "stream",
     "text": [
      "\r- Processing image:   2639 / 4170"
     ]
    },
    {
     "name": "stdout",
     "output_type": "stream",
     "text": [
      "\r- Processing image:   2640 / 4170"
     ]
    },
    {
     "name": "stdout",
     "output_type": "stream",
     "text": [
      "\r- Processing image:   2641 / 4170"
     ]
    },
    {
     "name": "stdout",
     "output_type": "stream",
     "text": [
      "\r- Processing image:   2642 / 4170"
     ]
    },
    {
     "name": "stdout",
     "output_type": "stream",
     "text": [
      "\r- Processing image:   2643 / 4170"
     ]
    },
    {
     "name": "stdout",
     "output_type": "stream",
     "text": [
      "\r- Processing image:   2644 / 4170"
     ]
    },
    {
     "name": "stdout",
     "output_type": "stream",
     "text": [
      "\r- Processing image:   2645 / 4170"
     ]
    },
    {
     "name": "stdout",
     "output_type": "stream",
     "text": [
      "\r- Processing image:   2646 / 4170"
     ]
    },
    {
     "name": "stdout",
     "output_type": "stream",
     "text": [
      "\r- Processing image:   2647 / 4170"
     ]
    },
    {
     "name": "stdout",
     "output_type": "stream",
     "text": [
      "\r- Processing image:   2648 / 4170"
     ]
    },
    {
     "name": "stdout",
     "output_type": "stream",
     "text": [
      "\r- Processing image:   2649 / 4170"
     ]
    },
    {
     "name": "stdout",
     "output_type": "stream",
     "text": [
      "\r- Processing image:   2650 / 4170"
     ]
    },
    {
     "name": "stdout",
     "output_type": "stream",
     "text": [
      "\r- Processing image:   2651 / 4170"
     ]
    },
    {
     "name": "stdout",
     "output_type": "stream",
     "text": [
      "\r- Processing image:   2652 / 4170"
     ]
    },
    {
     "name": "stdout",
     "output_type": "stream",
     "text": [
      "\r- Processing image:   2653 / 4170"
     ]
    },
    {
     "name": "stdout",
     "output_type": "stream",
     "text": [
      "\r- Processing image:   2654 / 4170"
     ]
    },
    {
     "name": "stdout",
     "output_type": "stream",
     "text": [
      "\r- Processing image:   2655 / 4170"
     ]
    },
    {
     "name": "stdout",
     "output_type": "stream",
     "text": [
      "\r- Processing image:   2656 / 4170"
     ]
    },
    {
     "name": "stdout",
     "output_type": "stream",
     "text": [
      "\r- Processing image:   2657 / 4170"
     ]
    },
    {
     "name": "stdout",
     "output_type": "stream",
     "text": [
      "\r- Processing image:   2658 / 4170"
     ]
    },
    {
     "name": "stdout",
     "output_type": "stream",
     "text": [
      "\r- Processing image:   2659 / 4170"
     ]
    },
    {
     "name": "stdout",
     "output_type": "stream",
     "text": [
      "\r- Processing image:   2660 / 4170"
     ]
    },
    {
     "name": "stdout",
     "output_type": "stream",
     "text": [
      "\r- Processing image:   2661 / 4170"
     ]
    },
    {
     "name": "stdout",
     "output_type": "stream",
     "text": [
      "\r- Processing image:   2662 / 4170"
     ]
    },
    {
     "name": "stdout",
     "output_type": "stream",
     "text": [
      "\r- Processing image:   2663 / 4170"
     ]
    },
    {
     "name": "stdout",
     "output_type": "stream",
     "text": [
      "\r- Processing image:   2664 / 4170"
     ]
    },
    {
     "name": "stdout",
     "output_type": "stream",
     "text": [
      "\r- Processing image:   2665 / 4170"
     ]
    },
    {
     "name": "stdout",
     "output_type": "stream",
     "text": [
      "\r- Processing image:   2666 / 4170"
     ]
    },
    {
     "name": "stdout",
     "output_type": "stream",
     "text": [
      "\r- Processing image:   2667 / 4170"
     ]
    },
    {
     "name": "stdout",
     "output_type": "stream",
     "text": [
      "\r- Processing image:   2668 / 4170"
     ]
    },
    {
     "name": "stdout",
     "output_type": "stream",
     "text": [
      "\r- Processing image:   2669 / 4170"
     ]
    },
    {
     "name": "stdout",
     "output_type": "stream",
     "text": [
      "\r- Processing image:   2670 / 4170"
     ]
    },
    {
     "name": "stdout",
     "output_type": "stream",
     "text": [
      "\r- Processing image:   2671 / 4170"
     ]
    },
    {
     "name": "stdout",
     "output_type": "stream",
     "text": [
      "\r- Processing image:   2672 / 4170"
     ]
    },
    {
     "name": "stdout",
     "output_type": "stream",
     "text": [
      "\r- Processing image:   2673 / 4170"
     ]
    },
    {
     "name": "stdout",
     "output_type": "stream",
     "text": [
      "\r- Processing image:   2674 / 4170"
     ]
    },
    {
     "name": "stdout",
     "output_type": "stream",
     "text": [
      "\r- Processing image:   2675 / 4170"
     ]
    },
    {
     "name": "stdout",
     "output_type": "stream",
     "text": [
      "\r- Processing image:   2676 / 4170"
     ]
    },
    {
     "name": "stdout",
     "output_type": "stream",
     "text": [
      "\r- Processing image:   2677 / 4170"
     ]
    },
    {
     "name": "stdout",
     "output_type": "stream",
     "text": [
      "\r- Processing image:   2678 / 4170"
     ]
    },
    {
     "name": "stdout",
     "output_type": "stream",
     "text": [
      "\r- Processing image:   2679 / 4170"
     ]
    },
    {
     "name": "stdout",
     "output_type": "stream",
     "text": [
      "\r- Processing image:   2680 / 4170"
     ]
    },
    {
     "name": "stdout",
     "output_type": "stream",
     "text": [
      "\r- Processing image:   2681 / 4170"
     ]
    },
    {
     "name": "stdout",
     "output_type": "stream",
     "text": [
      "\r- Processing image:   2682 / 4170"
     ]
    },
    {
     "name": "stdout",
     "output_type": "stream",
     "text": [
      "\r- Processing image:   2683 / 4170"
     ]
    },
    {
     "name": "stdout",
     "output_type": "stream",
     "text": [
      "\r- Processing image:   2684 / 4170"
     ]
    },
    {
     "name": "stdout",
     "output_type": "stream",
     "text": [
      "\r- Processing image:   2685 / 4170"
     ]
    },
    {
     "name": "stdout",
     "output_type": "stream",
     "text": [
      "\r- Processing image:   2686 / 4170"
     ]
    },
    {
     "name": "stdout",
     "output_type": "stream",
     "text": [
      "\r- Processing image:   2687 / 4170"
     ]
    },
    {
     "name": "stdout",
     "output_type": "stream",
     "text": [
      "\r- Processing image:   2688 / 4170"
     ]
    },
    {
     "name": "stdout",
     "output_type": "stream",
     "text": [
      "\r- Processing image:   2689 / 4170"
     ]
    },
    {
     "name": "stdout",
     "output_type": "stream",
     "text": [
      "\r- Processing image:   2690 / 4170"
     ]
    },
    {
     "name": "stdout",
     "output_type": "stream",
     "text": [
      "\r- Processing image:   2691 / 4170"
     ]
    },
    {
     "name": "stdout",
     "output_type": "stream",
     "text": [
      "\r- Processing image:   2692 / 4170"
     ]
    },
    {
     "name": "stdout",
     "output_type": "stream",
     "text": [
      "\r- Processing image:   2693 / 4170"
     ]
    },
    {
     "name": "stdout",
     "output_type": "stream",
     "text": [
      "\r- Processing image:   2694 / 4170"
     ]
    },
    {
     "name": "stdout",
     "output_type": "stream",
     "text": [
      "\r- Processing image:   2695 / 4170"
     ]
    },
    {
     "name": "stdout",
     "output_type": "stream",
     "text": [
      "\r- Processing image:   2696 / 4170"
     ]
    },
    {
     "name": "stdout",
     "output_type": "stream",
     "text": [
      "\r- Processing image:   2697 / 4170"
     ]
    },
    {
     "name": "stdout",
     "output_type": "stream",
     "text": [
      "\r- Processing image:   2698 / 4170"
     ]
    },
    {
     "name": "stdout",
     "output_type": "stream",
     "text": [
      "\r- Processing image:   2699 / 4170"
     ]
    },
    {
     "name": "stdout",
     "output_type": "stream",
     "text": [
      "\r- Processing image:   2700 / 4170"
     ]
    },
    {
     "name": "stdout",
     "output_type": "stream",
     "text": [
      "\r- Processing image:   2701 / 4170"
     ]
    },
    {
     "name": "stdout",
     "output_type": "stream",
     "text": [
      "\r- Processing image:   2702 / 4170"
     ]
    },
    {
     "name": "stdout",
     "output_type": "stream",
     "text": [
      "\r- Processing image:   2703 / 4170"
     ]
    },
    {
     "name": "stdout",
     "output_type": "stream",
     "text": [
      "\r- Processing image:   2704 / 4170"
     ]
    },
    {
     "name": "stdout",
     "output_type": "stream",
     "text": [
      "\r- Processing image:   2705 / 4170"
     ]
    },
    {
     "name": "stdout",
     "output_type": "stream",
     "text": [
      "\r- Processing image:   2706 / 4170"
     ]
    },
    {
     "name": "stdout",
     "output_type": "stream",
     "text": [
      "\r- Processing image:   2707 / 4170"
     ]
    },
    {
     "name": "stdout",
     "output_type": "stream",
     "text": [
      "\r- Processing image:   2708 / 4170"
     ]
    },
    {
     "name": "stdout",
     "output_type": "stream",
     "text": [
      "\r- Processing image:   2709 / 4170"
     ]
    },
    {
     "name": "stdout",
     "output_type": "stream",
     "text": [
      "\r- Processing image:   2710 / 4170"
     ]
    },
    {
     "name": "stdout",
     "output_type": "stream",
     "text": [
      "\r- Processing image:   2711 / 4170"
     ]
    },
    {
     "name": "stdout",
     "output_type": "stream",
     "text": [
      "\r- Processing image:   2712 / 4170"
     ]
    },
    {
     "name": "stdout",
     "output_type": "stream",
     "text": [
      "\r- Processing image:   2713 / 4170"
     ]
    },
    {
     "name": "stdout",
     "output_type": "stream",
     "text": [
      "\r- Processing image:   2714 / 4170"
     ]
    },
    {
     "name": "stdout",
     "output_type": "stream",
     "text": [
      "\r- Processing image:   2715 / 4170"
     ]
    },
    {
     "name": "stdout",
     "output_type": "stream",
     "text": [
      "\r- Processing image:   2716 / 4170"
     ]
    },
    {
     "name": "stdout",
     "output_type": "stream",
     "text": [
      "\r- Processing image:   2717 / 4170"
     ]
    },
    {
     "name": "stdout",
     "output_type": "stream",
     "text": [
      "\r- Processing image:   2718 / 4170"
     ]
    },
    {
     "name": "stdout",
     "output_type": "stream",
     "text": [
      "\r- Processing image:   2719 / 4170"
     ]
    },
    {
     "name": "stdout",
     "output_type": "stream",
     "text": [
      "\r- Processing image:   2720 / 4170"
     ]
    },
    {
     "name": "stdout",
     "output_type": "stream",
     "text": [
      "\r- Processing image:   2721 / 4170"
     ]
    },
    {
     "name": "stdout",
     "output_type": "stream",
     "text": [
      "\r- Processing image:   2722 / 4170"
     ]
    },
    {
     "name": "stdout",
     "output_type": "stream",
     "text": [
      "\r- Processing image:   2723 / 4170"
     ]
    },
    {
     "name": "stdout",
     "output_type": "stream",
     "text": [
      "\r- Processing image:   2724 / 4170"
     ]
    },
    {
     "name": "stdout",
     "output_type": "stream",
     "text": [
      "\r- Processing image:   2725 / 4170"
     ]
    },
    {
     "name": "stdout",
     "output_type": "stream",
     "text": [
      "\r- Processing image:   2726 / 4170"
     ]
    },
    {
     "name": "stdout",
     "output_type": "stream",
     "text": [
      "\r- Processing image:   2727 / 4170"
     ]
    },
    {
     "name": "stdout",
     "output_type": "stream",
     "text": [
      "\r- Processing image:   2728 / 4170"
     ]
    },
    {
     "name": "stdout",
     "output_type": "stream",
     "text": [
      "\r- Processing image:   2729 / 4170"
     ]
    },
    {
     "name": "stdout",
     "output_type": "stream",
     "text": [
      "\r- Processing image:   2730 / 4170"
     ]
    },
    {
     "name": "stdout",
     "output_type": "stream",
     "text": [
      "\r- Processing image:   2731 / 4170"
     ]
    },
    {
     "name": "stdout",
     "output_type": "stream",
     "text": [
      "\r- Processing image:   2732 / 4170"
     ]
    },
    {
     "name": "stdout",
     "output_type": "stream",
     "text": [
      "\r- Processing image:   2733 / 4170"
     ]
    },
    {
     "name": "stdout",
     "output_type": "stream",
     "text": [
      "\r- Processing image:   2734 / 4170"
     ]
    },
    {
     "name": "stdout",
     "output_type": "stream",
     "text": [
      "\r- Processing image:   2735 / 4170"
     ]
    },
    {
     "name": "stdout",
     "output_type": "stream",
     "text": [
      "\r- Processing image:   2736 / 4170"
     ]
    },
    {
     "name": "stdout",
     "output_type": "stream",
     "text": [
      "\r- Processing image:   2737 / 4170"
     ]
    },
    {
     "name": "stdout",
     "output_type": "stream",
     "text": [
      "\r- Processing image:   2738 / 4170"
     ]
    },
    {
     "name": "stdout",
     "output_type": "stream",
     "text": [
      "\r- Processing image:   2739 / 4170"
     ]
    },
    {
     "name": "stdout",
     "output_type": "stream",
     "text": [
      "\r- Processing image:   2740 / 4170"
     ]
    },
    {
     "name": "stdout",
     "output_type": "stream",
     "text": [
      "\r- Processing image:   2741 / 4170"
     ]
    },
    {
     "name": "stdout",
     "output_type": "stream",
     "text": [
      "\r- Processing image:   2742 / 4170"
     ]
    },
    {
     "name": "stdout",
     "output_type": "stream",
     "text": [
      "\r- Processing image:   2743 / 4170"
     ]
    },
    {
     "name": "stdout",
     "output_type": "stream",
     "text": [
      "\r- Processing image:   2744 / 4170"
     ]
    },
    {
     "name": "stdout",
     "output_type": "stream",
     "text": [
      "\r- Processing image:   2745 / 4170"
     ]
    },
    {
     "name": "stdout",
     "output_type": "stream",
     "text": [
      "\r- Processing image:   2746 / 4170"
     ]
    },
    {
     "name": "stdout",
     "output_type": "stream",
     "text": [
      "\r- Processing image:   2747 / 4170"
     ]
    },
    {
     "name": "stdout",
     "output_type": "stream",
     "text": [
      "\r- Processing image:   2748 / 4170"
     ]
    },
    {
     "name": "stdout",
     "output_type": "stream",
     "text": [
      "\r- Processing image:   2749 / 4170"
     ]
    },
    {
     "name": "stdout",
     "output_type": "stream",
     "text": [
      "\r- Processing image:   2750 / 4170"
     ]
    },
    {
     "name": "stdout",
     "output_type": "stream",
     "text": [
      "\r- Processing image:   2751 / 4170"
     ]
    },
    {
     "name": "stdout",
     "output_type": "stream",
     "text": [
      "\r- Processing image:   2752 / 4170"
     ]
    },
    {
     "name": "stdout",
     "output_type": "stream",
     "text": [
      "\r- Processing image:   2753 / 4170"
     ]
    },
    {
     "name": "stdout",
     "output_type": "stream",
     "text": [
      "\r- Processing image:   2754 / 4170"
     ]
    },
    {
     "name": "stdout",
     "output_type": "stream",
     "text": [
      "\r- Processing image:   2755 / 4170"
     ]
    },
    {
     "name": "stdout",
     "output_type": "stream",
     "text": [
      "\r- Processing image:   2756 / 4170"
     ]
    },
    {
     "name": "stdout",
     "output_type": "stream",
     "text": [
      "\r- Processing image:   2757 / 4170"
     ]
    },
    {
     "name": "stdout",
     "output_type": "stream",
     "text": [
      "\r- Processing image:   2758 / 4170"
     ]
    },
    {
     "name": "stdout",
     "output_type": "stream",
     "text": [
      "\r- Processing image:   2759 / 4170"
     ]
    },
    {
     "name": "stdout",
     "output_type": "stream",
     "text": [
      "\r- Processing image:   2760 / 4170"
     ]
    },
    {
     "name": "stdout",
     "output_type": "stream",
     "text": [
      "\r- Processing image:   2761 / 4170"
     ]
    },
    {
     "name": "stdout",
     "output_type": "stream",
     "text": [
      "\r- Processing image:   2762 / 4170"
     ]
    },
    {
     "name": "stdout",
     "output_type": "stream",
     "text": [
      "\r- Processing image:   2763 / 4170"
     ]
    },
    {
     "name": "stdout",
     "output_type": "stream",
     "text": [
      "\r- Processing image:   2764 / 4170"
     ]
    },
    {
     "name": "stdout",
     "output_type": "stream",
     "text": [
      "\r- Processing image:   2765 / 4170"
     ]
    },
    {
     "name": "stdout",
     "output_type": "stream",
     "text": [
      "\r- Processing image:   2766 / 4170"
     ]
    },
    {
     "name": "stdout",
     "output_type": "stream",
     "text": [
      "\r- Processing image:   2767 / 4170"
     ]
    },
    {
     "name": "stdout",
     "output_type": "stream",
     "text": [
      "\r- Processing image:   2768 / 4170"
     ]
    },
    {
     "name": "stdout",
     "output_type": "stream",
     "text": [
      "\r- Processing image:   2769 / 4170"
     ]
    },
    {
     "name": "stdout",
     "output_type": "stream",
     "text": [
      "\r- Processing image:   2770 / 4170"
     ]
    },
    {
     "name": "stdout",
     "output_type": "stream",
     "text": [
      "\r- Processing image:   2771 / 4170"
     ]
    },
    {
     "name": "stdout",
     "output_type": "stream",
     "text": [
      "\r- Processing image:   2772 / 4170"
     ]
    },
    {
     "name": "stdout",
     "output_type": "stream",
     "text": [
      "\r- Processing image:   2773 / 4170"
     ]
    },
    {
     "name": "stdout",
     "output_type": "stream",
     "text": [
      "\r- Processing image:   2774 / 4170"
     ]
    },
    {
     "name": "stdout",
     "output_type": "stream",
     "text": [
      "\r- Processing image:   2775 / 4170"
     ]
    },
    {
     "name": "stdout",
     "output_type": "stream",
     "text": [
      "\r- Processing image:   2776 / 4170"
     ]
    },
    {
     "name": "stdout",
     "output_type": "stream",
     "text": [
      "\r- Processing image:   2777 / 4170"
     ]
    },
    {
     "name": "stdout",
     "output_type": "stream",
     "text": [
      "\r- Processing image:   2778 / 4170"
     ]
    },
    {
     "name": "stdout",
     "output_type": "stream",
     "text": [
      "\r- Processing image:   2779 / 4170"
     ]
    },
    {
     "name": "stdout",
     "output_type": "stream",
     "text": [
      "\r- Processing image:   2780 / 4170"
     ]
    },
    {
     "name": "stdout",
     "output_type": "stream",
     "text": [
      "\r- Processing image:   2781 / 4170"
     ]
    },
    {
     "name": "stdout",
     "output_type": "stream",
     "text": [
      "\r- Processing image:   2782 / 4170"
     ]
    },
    {
     "name": "stdout",
     "output_type": "stream",
     "text": [
      "\r- Processing image:   2783 / 4170"
     ]
    },
    {
     "name": "stdout",
     "output_type": "stream",
     "text": [
      "\r- Processing image:   2784 / 4170"
     ]
    },
    {
     "name": "stdout",
     "output_type": "stream",
     "text": [
      "\r- Processing image:   2785 / 4170"
     ]
    },
    {
     "name": "stdout",
     "output_type": "stream",
     "text": [
      "\r- Processing image:   2786 / 4170"
     ]
    },
    {
     "name": "stdout",
     "output_type": "stream",
     "text": [
      "\r- Processing image:   2787 / 4170"
     ]
    },
    {
     "name": "stdout",
     "output_type": "stream",
     "text": [
      "\r- Processing image:   2788 / 4170"
     ]
    },
    {
     "name": "stdout",
     "output_type": "stream",
     "text": [
      "\r- Processing image:   2789 / 4170"
     ]
    },
    {
     "name": "stdout",
     "output_type": "stream",
     "text": [
      "\r- Processing image:   2790 / 4170"
     ]
    },
    {
     "name": "stdout",
     "output_type": "stream",
     "text": [
      "\r- Processing image:   2791 / 4170"
     ]
    },
    {
     "name": "stdout",
     "output_type": "stream",
     "text": [
      "\r- Processing image:   2792 / 4170"
     ]
    },
    {
     "name": "stdout",
     "output_type": "stream",
     "text": [
      "\r- Processing image:   2793 / 4170"
     ]
    },
    {
     "name": "stdout",
     "output_type": "stream",
     "text": [
      "\r- Processing image:   2794 / 4170"
     ]
    },
    {
     "name": "stdout",
     "output_type": "stream",
     "text": [
      "\r- Processing image:   2795 / 4170"
     ]
    },
    {
     "name": "stdout",
     "output_type": "stream",
     "text": [
      "\r- Processing image:   2796 / 4170"
     ]
    },
    {
     "name": "stdout",
     "output_type": "stream",
     "text": [
      "\r- Processing image:   2797 / 4170"
     ]
    },
    {
     "name": "stdout",
     "output_type": "stream",
     "text": [
      "\r- Processing image:   2798 / 4170"
     ]
    },
    {
     "name": "stdout",
     "output_type": "stream",
     "text": [
      "\r- Processing image:   2799 / 4170"
     ]
    },
    {
     "name": "stdout",
     "output_type": "stream",
     "text": [
      "\r- Processing image:   2800 / 4170"
     ]
    },
    {
     "name": "stdout",
     "output_type": "stream",
     "text": [
      "\r- Processing image:   2801 / 4170"
     ]
    },
    {
     "name": "stdout",
     "output_type": "stream",
     "text": [
      "\r- Processing image:   2802 / 4170"
     ]
    },
    {
     "name": "stdout",
     "output_type": "stream",
     "text": [
      "\r- Processing image:   2803 / 4170"
     ]
    },
    {
     "name": "stdout",
     "output_type": "stream",
     "text": [
      "\r- Processing image:   2804 / 4170"
     ]
    },
    {
     "name": "stdout",
     "output_type": "stream",
     "text": [
      "\r- Processing image:   2805 / 4170"
     ]
    },
    {
     "name": "stdout",
     "output_type": "stream",
     "text": [
      "\r- Processing image:   2806 / 4170"
     ]
    },
    {
     "name": "stdout",
     "output_type": "stream",
     "text": [
      "\r- Processing image:   2807 / 4170"
     ]
    },
    {
     "name": "stdout",
     "output_type": "stream",
     "text": [
      "\r- Processing image:   2808 / 4170"
     ]
    },
    {
     "name": "stdout",
     "output_type": "stream",
     "text": [
      "\r- Processing image:   2809 / 4170"
     ]
    },
    {
     "name": "stdout",
     "output_type": "stream",
     "text": [
      "\r- Processing image:   2810 / 4170"
     ]
    },
    {
     "name": "stdout",
     "output_type": "stream",
     "text": [
      "\r- Processing image:   2811 / 4170"
     ]
    },
    {
     "name": "stdout",
     "output_type": "stream",
     "text": [
      "\r- Processing image:   2812 / 4170"
     ]
    },
    {
     "name": "stdout",
     "output_type": "stream",
     "text": [
      "\r- Processing image:   2813 / 4170"
     ]
    },
    {
     "name": "stdout",
     "output_type": "stream",
     "text": [
      "\r- Processing image:   2814 / 4170"
     ]
    },
    {
     "name": "stdout",
     "output_type": "stream",
     "text": [
      "\r- Processing image:   2815 / 4170"
     ]
    },
    {
     "name": "stdout",
     "output_type": "stream",
     "text": [
      "\r- Processing image:   2816 / 4170"
     ]
    },
    {
     "name": "stdout",
     "output_type": "stream",
     "text": [
      "\r- Processing image:   2817 / 4170"
     ]
    },
    {
     "name": "stdout",
     "output_type": "stream",
     "text": [
      "\r- Processing image:   2818 / 4170"
     ]
    },
    {
     "name": "stdout",
     "output_type": "stream",
     "text": [
      "\r- Processing image:   2819 / 4170"
     ]
    },
    {
     "name": "stdout",
     "output_type": "stream",
     "text": [
      "\r- Processing image:   2820 / 4170"
     ]
    },
    {
     "name": "stdout",
     "output_type": "stream",
     "text": [
      "\r- Processing image:   2821 / 4170"
     ]
    },
    {
     "name": "stdout",
     "output_type": "stream",
     "text": [
      "\r- Processing image:   2822 / 4170"
     ]
    },
    {
     "name": "stdout",
     "output_type": "stream",
     "text": [
      "\r- Processing image:   2823 / 4170"
     ]
    },
    {
     "name": "stdout",
     "output_type": "stream",
     "text": [
      "\r- Processing image:   2824 / 4170"
     ]
    },
    {
     "name": "stdout",
     "output_type": "stream",
     "text": [
      "\r- Processing image:   2825 / 4170"
     ]
    },
    {
     "name": "stdout",
     "output_type": "stream",
     "text": [
      "\r- Processing image:   2826 / 4170"
     ]
    },
    {
     "name": "stdout",
     "output_type": "stream",
     "text": [
      "\r- Processing image:   2827 / 4170"
     ]
    },
    {
     "name": "stdout",
     "output_type": "stream",
     "text": [
      "\r- Processing image:   2828 / 4170"
     ]
    },
    {
     "name": "stdout",
     "output_type": "stream",
     "text": [
      "\r- Processing image:   2829 / 4170"
     ]
    },
    {
     "name": "stdout",
     "output_type": "stream",
     "text": [
      "\r- Processing image:   2830 / 4170"
     ]
    },
    {
     "name": "stdout",
     "output_type": "stream",
     "text": [
      "\r- Processing image:   2831 / 4170"
     ]
    },
    {
     "name": "stdout",
     "output_type": "stream",
     "text": [
      "\r- Processing image:   2832 / 4170"
     ]
    },
    {
     "name": "stdout",
     "output_type": "stream",
     "text": [
      "\r- Processing image:   2833 / 4170"
     ]
    },
    {
     "name": "stdout",
     "output_type": "stream",
     "text": [
      "\r- Processing image:   2834 / 4170"
     ]
    },
    {
     "name": "stdout",
     "output_type": "stream",
     "text": [
      "\r- Processing image:   2835 / 4170"
     ]
    },
    {
     "name": "stdout",
     "output_type": "stream",
     "text": [
      "\r- Processing image:   2836 / 4170"
     ]
    },
    {
     "name": "stdout",
     "output_type": "stream",
     "text": [
      "\r- Processing image:   2837 / 4170"
     ]
    },
    {
     "name": "stdout",
     "output_type": "stream",
     "text": [
      "\r- Processing image:   2838 / 4170"
     ]
    },
    {
     "name": "stdout",
     "output_type": "stream",
     "text": [
      "\r- Processing image:   2839 / 4170"
     ]
    },
    {
     "name": "stdout",
     "output_type": "stream",
     "text": [
      "\r- Processing image:   2840 / 4170"
     ]
    },
    {
     "name": "stdout",
     "output_type": "stream",
     "text": [
      "\r- Processing image:   2841 / 4170"
     ]
    },
    {
     "name": "stdout",
     "output_type": "stream",
     "text": [
      "\r- Processing image:   2842 / 4170"
     ]
    },
    {
     "name": "stdout",
     "output_type": "stream",
     "text": [
      "\r- Processing image:   2843 / 4170"
     ]
    },
    {
     "name": "stdout",
     "output_type": "stream",
     "text": [
      "\r- Processing image:   2844 / 4170"
     ]
    },
    {
     "name": "stdout",
     "output_type": "stream",
     "text": [
      "\r- Processing image:   2845 / 4170"
     ]
    },
    {
     "name": "stdout",
     "output_type": "stream",
     "text": [
      "\r- Processing image:   2846 / 4170"
     ]
    },
    {
     "name": "stdout",
     "output_type": "stream",
     "text": [
      "\r- Processing image:   2847 / 4170"
     ]
    },
    {
     "name": "stdout",
     "output_type": "stream",
     "text": [
      "\r- Processing image:   2848 / 4170"
     ]
    },
    {
     "name": "stdout",
     "output_type": "stream",
     "text": [
      "\r- Processing image:   2849 / 4170"
     ]
    },
    {
     "name": "stdout",
     "output_type": "stream",
     "text": [
      "\r- Processing image:   2850 / 4170"
     ]
    },
    {
     "name": "stdout",
     "output_type": "stream",
     "text": [
      "\r- Processing image:   2851 / 4170"
     ]
    },
    {
     "name": "stdout",
     "output_type": "stream",
     "text": [
      "\r- Processing image:   2852 / 4170"
     ]
    },
    {
     "name": "stdout",
     "output_type": "stream",
     "text": [
      "\r- Processing image:   2853 / 4170"
     ]
    },
    {
     "name": "stdout",
     "output_type": "stream",
     "text": [
      "\r- Processing image:   2854 / 4170"
     ]
    },
    {
     "name": "stdout",
     "output_type": "stream",
     "text": [
      "\r- Processing image:   2855 / 4170"
     ]
    },
    {
     "name": "stdout",
     "output_type": "stream",
     "text": [
      "\r- Processing image:   2856 / 4170"
     ]
    },
    {
     "name": "stdout",
     "output_type": "stream",
     "text": [
      "\r- Processing image:   2857 / 4170"
     ]
    },
    {
     "name": "stdout",
     "output_type": "stream",
     "text": [
      "\r- Processing image:   2858 / 4170"
     ]
    },
    {
     "name": "stdout",
     "output_type": "stream",
     "text": [
      "\r- Processing image:   2859 / 4170"
     ]
    },
    {
     "name": "stdout",
     "output_type": "stream",
     "text": [
      "\r- Processing image:   2860 / 4170"
     ]
    },
    {
     "name": "stdout",
     "output_type": "stream",
     "text": [
      "\r- Processing image:   2861 / 4170"
     ]
    },
    {
     "name": "stdout",
     "output_type": "stream",
     "text": [
      "\r- Processing image:   2862 / 4170"
     ]
    },
    {
     "name": "stdout",
     "output_type": "stream",
     "text": [
      "\r- Processing image:   2863 / 4170"
     ]
    },
    {
     "name": "stdout",
     "output_type": "stream",
     "text": [
      "\r- Processing image:   2864 / 4170"
     ]
    },
    {
     "name": "stdout",
     "output_type": "stream",
     "text": [
      "\r- Processing image:   2865 / 4170"
     ]
    },
    {
     "name": "stdout",
     "output_type": "stream",
     "text": [
      "\r- Processing image:   2866 / 4170"
     ]
    },
    {
     "name": "stdout",
     "output_type": "stream",
     "text": [
      "\r- Processing image:   2867 / 4170"
     ]
    },
    {
     "name": "stdout",
     "output_type": "stream",
     "text": [
      "\r- Processing image:   2868 / 4170"
     ]
    },
    {
     "name": "stdout",
     "output_type": "stream",
     "text": [
      "\r- Processing image:   2869 / 4170"
     ]
    },
    {
     "name": "stdout",
     "output_type": "stream",
     "text": [
      "\r- Processing image:   2870 / 4170"
     ]
    },
    {
     "name": "stdout",
     "output_type": "stream",
     "text": [
      "\r- Processing image:   2871 / 4170"
     ]
    },
    {
     "name": "stdout",
     "output_type": "stream",
     "text": [
      "\r- Processing image:   2872 / 4170"
     ]
    },
    {
     "name": "stdout",
     "output_type": "stream",
     "text": [
      "\r- Processing image:   2873 / 4170"
     ]
    },
    {
     "name": "stdout",
     "output_type": "stream",
     "text": [
      "\r- Processing image:   2874 / 4170"
     ]
    },
    {
     "name": "stdout",
     "output_type": "stream",
     "text": [
      "\r- Processing image:   2875 / 4170"
     ]
    },
    {
     "name": "stdout",
     "output_type": "stream",
     "text": [
      "\r- Processing image:   2876 / 4170"
     ]
    },
    {
     "name": "stdout",
     "output_type": "stream",
     "text": [
      "\r- Processing image:   2877 / 4170"
     ]
    },
    {
     "name": "stdout",
     "output_type": "stream",
     "text": [
      "\r- Processing image:   2878 / 4170"
     ]
    },
    {
     "name": "stdout",
     "output_type": "stream",
     "text": [
      "\r- Processing image:   2879 / 4170"
     ]
    },
    {
     "name": "stdout",
     "output_type": "stream",
     "text": [
      "\r- Processing image:   2880 / 4170"
     ]
    },
    {
     "name": "stdout",
     "output_type": "stream",
     "text": [
      "\r- Processing image:   2881 / 4170"
     ]
    },
    {
     "name": "stdout",
     "output_type": "stream",
     "text": [
      "\r- Processing image:   2882 / 4170"
     ]
    },
    {
     "name": "stdout",
     "output_type": "stream",
     "text": [
      "\r- Processing image:   2883 / 4170"
     ]
    },
    {
     "name": "stdout",
     "output_type": "stream",
     "text": [
      "\r- Processing image:   2884 / 4170"
     ]
    },
    {
     "name": "stdout",
     "output_type": "stream",
     "text": [
      "\r- Processing image:   2885 / 4170"
     ]
    },
    {
     "name": "stdout",
     "output_type": "stream",
     "text": [
      "\r- Processing image:   2886 / 4170"
     ]
    },
    {
     "name": "stdout",
     "output_type": "stream",
     "text": [
      "\r- Processing image:   2887 / 4170"
     ]
    },
    {
     "name": "stdout",
     "output_type": "stream",
     "text": [
      "\r- Processing image:   2888 / 4170"
     ]
    },
    {
     "name": "stdout",
     "output_type": "stream",
     "text": [
      "\r- Processing image:   2889 / 4170"
     ]
    },
    {
     "name": "stdout",
     "output_type": "stream",
     "text": [
      "\r- Processing image:   2890 / 4170"
     ]
    },
    {
     "name": "stdout",
     "output_type": "stream",
     "text": [
      "\r- Processing image:   2891 / 4170"
     ]
    },
    {
     "name": "stdout",
     "output_type": "stream",
     "text": [
      "\r- Processing image:   2892 / 4170"
     ]
    },
    {
     "name": "stdout",
     "output_type": "stream",
     "text": [
      "\r- Processing image:   2893 / 4170"
     ]
    },
    {
     "name": "stdout",
     "output_type": "stream",
     "text": [
      "\r- Processing image:   2894 / 4170"
     ]
    },
    {
     "name": "stdout",
     "output_type": "stream",
     "text": [
      "\r- Processing image:   2895 / 4170"
     ]
    },
    {
     "name": "stdout",
     "output_type": "stream",
     "text": [
      "\r- Processing image:   2896 / 4170"
     ]
    },
    {
     "name": "stdout",
     "output_type": "stream",
     "text": [
      "\r- Processing image:   2897 / 4170"
     ]
    },
    {
     "name": "stdout",
     "output_type": "stream",
     "text": [
      "\r- Processing image:   2898 / 4170"
     ]
    },
    {
     "name": "stdout",
     "output_type": "stream",
     "text": [
      "\r- Processing image:   2899 / 4170"
     ]
    },
    {
     "name": "stdout",
     "output_type": "stream",
     "text": [
      "\r- Processing image:   2900 / 4170"
     ]
    },
    {
     "name": "stdout",
     "output_type": "stream",
     "text": [
      "\r- Processing image:   2901 / 4170"
     ]
    },
    {
     "name": "stdout",
     "output_type": "stream",
     "text": [
      "\r- Processing image:   2902 / 4170"
     ]
    },
    {
     "name": "stdout",
     "output_type": "stream",
     "text": [
      "\r- Processing image:   2903 / 4170"
     ]
    },
    {
     "name": "stdout",
     "output_type": "stream",
     "text": [
      "\r- Processing image:   2904 / 4170"
     ]
    },
    {
     "name": "stdout",
     "output_type": "stream",
     "text": [
      "\r- Processing image:   2905 / 4170"
     ]
    },
    {
     "name": "stdout",
     "output_type": "stream",
     "text": [
      "\r- Processing image:   2906 / 4170"
     ]
    },
    {
     "name": "stdout",
     "output_type": "stream",
     "text": [
      "\r- Processing image:   2907 / 4170"
     ]
    },
    {
     "name": "stdout",
     "output_type": "stream",
     "text": [
      "\r- Processing image:   2908 / 4170"
     ]
    },
    {
     "name": "stdout",
     "output_type": "stream",
     "text": [
      "\r- Processing image:   2909 / 4170"
     ]
    },
    {
     "name": "stdout",
     "output_type": "stream",
     "text": [
      "\r- Processing image:   2910 / 4170"
     ]
    },
    {
     "name": "stdout",
     "output_type": "stream",
     "text": [
      "\r- Processing image:   2911 / 4170"
     ]
    },
    {
     "name": "stdout",
     "output_type": "stream",
     "text": [
      "\r- Processing image:   2912 / 4170"
     ]
    },
    {
     "name": "stdout",
     "output_type": "stream",
     "text": [
      "\r- Processing image:   2913 / 4170"
     ]
    },
    {
     "name": "stdout",
     "output_type": "stream",
     "text": [
      "\r- Processing image:   2914 / 4170"
     ]
    },
    {
     "name": "stdout",
     "output_type": "stream",
     "text": [
      "\r- Processing image:   2915 / 4170"
     ]
    },
    {
     "name": "stdout",
     "output_type": "stream",
     "text": [
      "\r- Processing image:   2916 / 4170"
     ]
    },
    {
     "name": "stdout",
     "output_type": "stream",
     "text": [
      "\r- Processing image:   2917 / 4170"
     ]
    },
    {
     "name": "stdout",
     "output_type": "stream",
     "text": [
      "\r- Processing image:   2918 / 4170"
     ]
    },
    {
     "name": "stdout",
     "output_type": "stream",
     "text": [
      "\r- Processing image:   2919 / 4170"
     ]
    },
    {
     "name": "stdout",
     "output_type": "stream",
     "text": [
      "\r- Processing image:   2920 / 4170"
     ]
    },
    {
     "name": "stdout",
     "output_type": "stream",
     "text": [
      "\r- Processing image:   2921 / 4170"
     ]
    },
    {
     "name": "stdout",
     "output_type": "stream",
     "text": [
      "\r- Processing image:   2922 / 4170"
     ]
    },
    {
     "name": "stdout",
     "output_type": "stream",
     "text": [
      "\r- Processing image:   2923 / 4170"
     ]
    },
    {
     "name": "stdout",
     "output_type": "stream",
     "text": [
      "\r- Processing image:   2924 / 4170"
     ]
    },
    {
     "name": "stdout",
     "output_type": "stream",
     "text": [
      "\r- Processing image:   2925 / 4170"
     ]
    },
    {
     "name": "stdout",
     "output_type": "stream",
     "text": [
      "\r- Processing image:   2926 / 4170"
     ]
    },
    {
     "name": "stdout",
     "output_type": "stream",
     "text": [
      "\r- Processing image:   2927 / 4170"
     ]
    },
    {
     "name": "stdout",
     "output_type": "stream",
     "text": [
      "\r- Processing image:   2928 / 4170"
     ]
    },
    {
     "name": "stdout",
     "output_type": "stream",
     "text": [
      "\r- Processing image:   2929 / 4170"
     ]
    },
    {
     "name": "stdout",
     "output_type": "stream",
     "text": [
      "\r- Processing image:   2930 / 4170"
     ]
    },
    {
     "name": "stdout",
     "output_type": "stream",
     "text": [
      "\r- Processing image:   2931 / 4170"
     ]
    },
    {
     "name": "stdout",
     "output_type": "stream",
     "text": [
      "\r- Processing image:   2932 / 4170"
     ]
    },
    {
     "name": "stdout",
     "output_type": "stream",
     "text": [
      "\r- Processing image:   2933 / 4170"
     ]
    },
    {
     "name": "stdout",
     "output_type": "stream",
     "text": [
      "\r- Processing image:   2934 / 4170"
     ]
    },
    {
     "name": "stdout",
     "output_type": "stream",
     "text": [
      "\r- Processing image:   2935 / 4170"
     ]
    },
    {
     "name": "stdout",
     "output_type": "stream",
     "text": [
      "\r- Processing image:   2936 / 4170"
     ]
    },
    {
     "name": "stdout",
     "output_type": "stream",
     "text": [
      "\r- Processing image:   2937 / 4170"
     ]
    },
    {
     "name": "stdout",
     "output_type": "stream",
     "text": [
      "\r- Processing image:   2938 / 4170"
     ]
    },
    {
     "name": "stdout",
     "output_type": "stream",
     "text": [
      "\r- Processing image:   2939 / 4170"
     ]
    },
    {
     "name": "stdout",
     "output_type": "stream",
     "text": [
      "\r- Processing image:   2940 / 4170"
     ]
    },
    {
     "name": "stdout",
     "output_type": "stream",
     "text": [
      "\r- Processing image:   2941 / 4170"
     ]
    },
    {
     "name": "stdout",
     "output_type": "stream",
     "text": [
      "\r- Processing image:   2942 / 4170"
     ]
    },
    {
     "name": "stdout",
     "output_type": "stream",
     "text": [
      "\r- Processing image:   2943 / 4170"
     ]
    },
    {
     "name": "stdout",
     "output_type": "stream",
     "text": [
      "\r- Processing image:   2944 / 4170"
     ]
    },
    {
     "name": "stdout",
     "output_type": "stream",
     "text": [
      "\r- Processing image:   2945 / 4170"
     ]
    },
    {
     "name": "stdout",
     "output_type": "stream",
     "text": [
      "\r- Processing image:   2946 / 4170"
     ]
    },
    {
     "name": "stdout",
     "output_type": "stream",
     "text": [
      "\r- Processing image:   2947 / 4170"
     ]
    },
    {
     "name": "stdout",
     "output_type": "stream",
     "text": [
      "\r- Processing image:   2948 / 4170"
     ]
    },
    {
     "name": "stdout",
     "output_type": "stream",
     "text": [
      "\r- Processing image:   2949 / 4170"
     ]
    },
    {
     "name": "stdout",
     "output_type": "stream",
     "text": [
      "\r- Processing image:   2950 / 4170"
     ]
    },
    {
     "name": "stdout",
     "output_type": "stream",
     "text": [
      "\r- Processing image:   2951 / 4170"
     ]
    },
    {
     "name": "stdout",
     "output_type": "stream",
     "text": [
      "\r- Processing image:   2952 / 4170"
     ]
    },
    {
     "name": "stdout",
     "output_type": "stream",
     "text": [
      "\r- Processing image:   2953 / 4170"
     ]
    },
    {
     "name": "stdout",
     "output_type": "stream",
     "text": [
      "\r- Processing image:   2954 / 4170"
     ]
    },
    {
     "name": "stdout",
     "output_type": "stream",
     "text": [
      "\r- Processing image:   2955 / 4170"
     ]
    },
    {
     "name": "stdout",
     "output_type": "stream",
     "text": [
      "\r- Processing image:   2956 / 4170"
     ]
    },
    {
     "name": "stdout",
     "output_type": "stream",
     "text": [
      "\r- Processing image:   2957 / 4170"
     ]
    },
    {
     "name": "stdout",
     "output_type": "stream",
     "text": [
      "\r- Processing image:   2958 / 4170"
     ]
    },
    {
     "name": "stdout",
     "output_type": "stream",
     "text": [
      "\r- Processing image:   2959 / 4170"
     ]
    },
    {
     "name": "stdout",
     "output_type": "stream",
     "text": [
      "\r- Processing image:   2960 / 4170"
     ]
    },
    {
     "name": "stdout",
     "output_type": "stream",
     "text": [
      "\r- Processing image:   2961 / 4170"
     ]
    },
    {
     "name": "stdout",
     "output_type": "stream",
     "text": [
      "\r- Processing image:   2962 / 4170"
     ]
    },
    {
     "name": "stdout",
     "output_type": "stream",
     "text": [
      "\r- Processing image:   2963 / 4170"
     ]
    },
    {
     "name": "stdout",
     "output_type": "stream",
     "text": [
      "\r- Processing image:   2964 / 4170"
     ]
    },
    {
     "name": "stdout",
     "output_type": "stream",
     "text": [
      "\r- Processing image:   2965 / 4170"
     ]
    },
    {
     "name": "stdout",
     "output_type": "stream",
     "text": [
      "\r- Processing image:   2966 / 4170"
     ]
    },
    {
     "name": "stdout",
     "output_type": "stream",
     "text": [
      "\r- Processing image:   2967 / 4170"
     ]
    },
    {
     "name": "stdout",
     "output_type": "stream",
     "text": [
      "\r- Processing image:   2968 / 4170"
     ]
    },
    {
     "name": "stdout",
     "output_type": "stream",
     "text": [
      "\r- Processing image:   2969 / 4170"
     ]
    },
    {
     "name": "stdout",
     "output_type": "stream",
     "text": [
      "\r- Processing image:   2970 / 4170"
     ]
    },
    {
     "name": "stdout",
     "output_type": "stream",
     "text": [
      "\r- Processing image:   2971 / 4170"
     ]
    },
    {
     "name": "stdout",
     "output_type": "stream",
     "text": [
      "\r- Processing image:   2972 / 4170"
     ]
    },
    {
     "name": "stdout",
     "output_type": "stream",
     "text": [
      "\r- Processing image:   2973 / 4170"
     ]
    },
    {
     "name": "stdout",
     "output_type": "stream",
     "text": [
      "\r- Processing image:   2974 / 4170"
     ]
    },
    {
     "name": "stdout",
     "output_type": "stream",
     "text": [
      "\r- Processing image:   2975 / 4170"
     ]
    },
    {
     "name": "stdout",
     "output_type": "stream",
     "text": [
      "\r- Processing image:   2976 / 4170"
     ]
    },
    {
     "name": "stdout",
     "output_type": "stream",
     "text": [
      "\r- Processing image:   2977 / 4170"
     ]
    },
    {
     "name": "stdout",
     "output_type": "stream",
     "text": [
      "\r- Processing image:   2978 / 4170"
     ]
    },
    {
     "name": "stdout",
     "output_type": "stream",
     "text": [
      "\r- Processing image:   2979 / 4170"
     ]
    },
    {
     "name": "stdout",
     "output_type": "stream",
     "text": [
      "\r- Processing image:   2980 / 4170"
     ]
    },
    {
     "name": "stdout",
     "output_type": "stream",
     "text": [
      "\r- Processing image:   2981 / 4170"
     ]
    },
    {
     "name": "stdout",
     "output_type": "stream",
     "text": [
      "\r- Processing image:   2982 / 4170"
     ]
    },
    {
     "name": "stdout",
     "output_type": "stream",
     "text": [
      "\r- Processing image:   2983 / 4170"
     ]
    },
    {
     "name": "stdout",
     "output_type": "stream",
     "text": [
      "\r- Processing image:   2984 / 4170"
     ]
    },
    {
     "name": "stdout",
     "output_type": "stream",
     "text": [
      "\r- Processing image:   2985 / 4170"
     ]
    },
    {
     "name": "stdout",
     "output_type": "stream",
     "text": [
      "\r- Processing image:   2986 / 4170"
     ]
    },
    {
     "name": "stdout",
     "output_type": "stream",
     "text": [
      "\r- Processing image:   2987 / 4170"
     ]
    },
    {
     "name": "stdout",
     "output_type": "stream",
     "text": [
      "\r- Processing image:   2988 / 4170"
     ]
    },
    {
     "name": "stdout",
     "output_type": "stream",
     "text": [
      "\r- Processing image:   2989 / 4170"
     ]
    },
    {
     "name": "stdout",
     "output_type": "stream",
     "text": [
      "\r- Processing image:   2990 / 4170"
     ]
    },
    {
     "name": "stdout",
     "output_type": "stream",
     "text": [
      "\r- Processing image:   2991 / 4170"
     ]
    },
    {
     "name": "stdout",
     "output_type": "stream",
     "text": [
      "\r- Processing image:   2992 / 4170"
     ]
    },
    {
     "name": "stdout",
     "output_type": "stream",
     "text": [
      "\r- Processing image:   2993 / 4170"
     ]
    },
    {
     "name": "stdout",
     "output_type": "stream",
     "text": [
      "\r- Processing image:   2994 / 4170"
     ]
    },
    {
     "name": "stdout",
     "output_type": "stream",
     "text": [
      "\r- Processing image:   2995 / 4170"
     ]
    },
    {
     "name": "stdout",
     "output_type": "stream",
     "text": [
      "\r- Processing image:   2996 / 4170"
     ]
    },
    {
     "name": "stdout",
     "output_type": "stream",
     "text": [
      "\r- Processing image:   2997 / 4170"
     ]
    },
    {
     "name": "stdout",
     "output_type": "stream",
     "text": [
      "\r- Processing image:   2998 / 4170"
     ]
    },
    {
     "name": "stdout",
     "output_type": "stream",
     "text": [
      "\r- Processing image:   2999 / 4170"
     ]
    },
    {
     "name": "stdout",
     "output_type": "stream",
     "text": [
      "\r- Processing image:   3000 / 4170"
     ]
    },
    {
     "name": "stdout",
     "output_type": "stream",
     "text": [
      "\r- Processing image:   3001 / 4170"
     ]
    },
    {
     "name": "stdout",
     "output_type": "stream",
     "text": [
      "\r- Processing image:   3002 / 4170"
     ]
    },
    {
     "name": "stdout",
     "output_type": "stream",
     "text": [
      "\r- Processing image:   3003 / 4170"
     ]
    },
    {
     "name": "stdout",
     "output_type": "stream",
     "text": [
      "\r- Processing image:   3004 / 4170"
     ]
    },
    {
     "name": "stdout",
     "output_type": "stream",
     "text": [
      "\r- Processing image:   3005 / 4170"
     ]
    },
    {
     "name": "stdout",
     "output_type": "stream",
     "text": [
      "\r- Processing image:   3006 / 4170"
     ]
    },
    {
     "name": "stdout",
     "output_type": "stream",
     "text": [
      "\r- Processing image:   3007 / 4170"
     ]
    },
    {
     "name": "stdout",
     "output_type": "stream",
     "text": [
      "\r- Processing image:   3008 / 4170"
     ]
    },
    {
     "name": "stdout",
     "output_type": "stream",
     "text": [
      "\r- Processing image:   3009 / 4170"
     ]
    },
    {
     "name": "stdout",
     "output_type": "stream",
     "text": [
      "\r- Processing image:   3010 / 4170"
     ]
    },
    {
     "name": "stdout",
     "output_type": "stream",
     "text": [
      "\r- Processing image:   3011 / 4170"
     ]
    },
    {
     "name": "stdout",
     "output_type": "stream",
     "text": [
      "\r- Processing image:   3012 / 4170"
     ]
    },
    {
     "name": "stdout",
     "output_type": "stream",
     "text": [
      "\r- Processing image:   3013 / 4170"
     ]
    },
    {
     "name": "stdout",
     "output_type": "stream",
     "text": [
      "\r- Processing image:   3014 / 4170"
     ]
    },
    {
     "name": "stdout",
     "output_type": "stream",
     "text": [
      "\r- Processing image:   3015 / 4170"
     ]
    },
    {
     "name": "stdout",
     "output_type": "stream",
     "text": [
      "\r- Processing image:   3016 / 4170"
     ]
    },
    {
     "name": "stdout",
     "output_type": "stream",
     "text": [
      "\r- Processing image:   3017 / 4170"
     ]
    },
    {
     "name": "stdout",
     "output_type": "stream",
     "text": [
      "\r- Processing image:   3018 / 4170"
     ]
    },
    {
     "name": "stdout",
     "output_type": "stream",
     "text": [
      "\r- Processing image:   3019 / 4170"
     ]
    },
    {
     "name": "stdout",
     "output_type": "stream",
     "text": [
      "\r- Processing image:   3020 / 4170"
     ]
    },
    {
     "name": "stdout",
     "output_type": "stream",
     "text": [
      "\r- Processing image:   3021 / 4170"
     ]
    },
    {
     "name": "stdout",
     "output_type": "stream",
     "text": [
      "\r- Processing image:   3022 / 4170"
     ]
    },
    {
     "name": "stdout",
     "output_type": "stream",
     "text": [
      "\r- Processing image:   3023 / 4170"
     ]
    },
    {
     "name": "stdout",
     "output_type": "stream",
     "text": [
      "\r- Processing image:   3024 / 4170"
     ]
    },
    {
     "name": "stdout",
     "output_type": "stream",
     "text": [
      "\r- Processing image:   3025 / 4170"
     ]
    },
    {
     "name": "stdout",
     "output_type": "stream",
     "text": [
      "\r- Processing image:   3026 / 4170"
     ]
    },
    {
     "name": "stdout",
     "output_type": "stream",
     "text": [
      "\r- Processing image:   3027 / 4170"
     ]
    },
    {
     "name": "stdout",
     "output_type": "stream",
     "text": [
      "\r- Processing image:   3028 / 4170"
     ]
    },
    {
     "name": "stdout",
     "output_type": "stream",
     "text": [
      "\r- Processing image:   3029 / 4170"
     ]
    },
    {
     "name": "stdout",
     "output_type": "stream",
     "text": [
      "\r- Processing image:   3030 / 4170"
     ]
    },
    {
     "name": "stdout",
     "output_type": "stream",
     "text": [
      "\r- Processing image:   3031 / 4170"
     ]
    },
    {
     "name": "stdout",
     "output_type": "stream",
     "text": [
      "\r- Processing image:   3032 / 4170"
     ]
    },
    {
     "name": "stdout",
     "output_type": "stream",
     "text": [
      "\r- Processing image:   3033 / 4170"
     ]
    },
    {
     "name": "stdout",
     "output_type": "stream",
     "text": [
      "\r- Processing image:   3034 / 4170"
     ]
    },
    {
     "name": "stdout",
     "output_type": "stream",
     "text": [
      "\r- Processing image:   3035 / 4170"
     ]
    },
    {
     "name": "stdout",
     "output_type": "stream",
     "text": [
      "\r- Processing image:   3036 / 4170"
     ]
    },
    {
     "name": "stdout",
     "output_type": "stream",
     "text": [
      "\r- Processing image:   3037 / 4170"
     ]
    },
    {
     "name": "stdout",
     "output_type": "stream",
     "text": [
      "\r- Processing image:   3038 / 4170"
     ]
    },
    {
     "name": "stdout",
     "output_type": "stream",
     "text": [
      "\r- Processing image:   3039 / 4170"
     ]
    },
    {
     "name": "stdout",
     "output_type": "stream",
     "text": [
      "\r- Processing image:   3040 / 4170"
     ]
    },
    {
     "name": "stdout",
     "output_type": "stream",
     "text": [
      "\r- Processing image:   3041 / 4170"
     ]
    },
    {
     "name": "stdout",
     "output_type": "stream",
     "text": [
      "\r- Processing image:   3042 / 4170"
     ]
    },
    {
     "name": "stdout",
     "output_type": "stream",
     "text": [
      "\r- Processing image:   3043 / 4170"
     ]
    },
    {
     "name": "stdout",
     "output_type": "stream",
     "text": [
      "\r- Processing image:   3044 / 4170"
     ]
    },
    {
     "name": "stdout",
     "output_type": "stream",
     "text": [
      "\r- Processing image:   3045 / 4170"
     ]
    },
    {
     "name": "stdout",
     "output_type": "stream",
     "text": [
      "\r- Processing image:   3046 / 4170"
     ]
    },
    {
     "name": "stdout",
     "output_type": "stream",
     "text": [
      "\r- Processing image:   3047 / 4170"
     ]
    },
    {
     "name": "stdout",
     "output_type": "stream",
     "text": [
      "\r- Processing image:   3048 / 4170"
     ]
    },
    {
     "name": "stdout",
     "output_type": "stream",
     "text": [
      "\r- Processing image:   3049 / 4170"
     ]
    },
    {
     "name": "stdout",
     "output_type": "stream",
     "text": [
      "\r- Processing image:   3050 / 4170"
     ]
    },
    {
     "name": "stdout",
     "output_type": "stream",
     "text": [
      "\r- Processing image:   3051 / 4170"
     ]
    },
    {
     "name": "stdout",
     "output_type": "stream",
     "text": [
      "\r- Processing image:   3052 / 4170"
     ]
    },
    {
     "name": "stdout",
     "output_type": "stream",
     "text": [
      "\r- Processing image:   3053 / 4170"
     ]
    },
    {
     "name": "stdout",
     "output_type": "stream",
     "text": [
      "\r- Processing image:   3054 / 4170"
     ]
    },
    {
     "name": "stdout",
     "output_type": "stream",
     "text": [
      "\r- Processing image:   3055 / 4170"
     ]
    },
    {
     "name": "stdout",
     "output_type": "stream",
     "text": [
      "\r- Processing image:   3056 / 4170"
     ]
    },
    {
     "name": "stdout",
     "output_type": "stream",
     "text": [
      "\r- Processing image:   3057 / 4170"
     ]
    },
    {
     "name": "stdout",
     "output_type": "stream",
     "text": [
      "\r- Processing image:   3058 / 4170"
     ]
    },
    {
     "name": "stdout",
     "output_type": "stream",
     "text": [
      "\r- Processing image:   3059 / 4170"
     ]
    },
    {
     "name": "stdout",
     "output_type": "stream",
     "text": [
      "\r- Processing image:   3060 / 4170"
     ]
    },
    {
     "name": "stdout",
     "output_type": "stream",
     "text": [
      "\r- Processing image:   3061 / 4170"
     ]
    },
    {
     "name": "stdout",
     "output_type": "stream",
     "text": [
      "\r- Processing image:   3062 / 4170"
     ]
    },
    {
     "name": "stdout",
     "output_type": "stream",
     "text": [
      "\r- Processing image:   3063 / 4170"
     ]
    },
    {
     "name": "stdout",
     "output_type": "stream",
     "text": [
      "\r- Processing image:   3064 / 4170"
     ]
    },
    {
     "name": "stdout",
     "output_type": "stream",
     "text": [
      "\r- Processing image:   3065 / 4170"
     ]
    },
    {
     "name": "stdout",
     "output_type": "stream",
     "text": [
      "\r- Processing image:   3066 / 4170"
     ]
    },
    {
     "name": "stdout",
     "output_type": "stream",
     "text": [
      "\r- Processing image:   3067 / 4170"
     ]
    },
    {
     "name": "stdout",
     "output_type": "stream",
     "text": [
      "\r- Processing image:   3068 / 4170"
     ]
    },
    {
     "name": "stdout",
     "output_type": "stream",
     "text": [
      "\r- Processing image:   3069 / 4170"
     ]
    },
    {
     "name": "stdout",
     "output_type": "stream",
     "text": [
      "\r- Processing image:   3070 / 4170"
     ]
    },
    {
     "name": "stdout",
     "output_type": "stream",
     "text": [
      "\r- Processing image:   3071 / 4170"
     ]
    },
    {
     "name": "stdout",
     "output_type": "stream",
     "text": [
      "\r- Processing image:   3072 / 4170"
     ]
    },
    {
     "name": "stdout",
     "output_type": "stream",
     "text": [
      "\r- Processing image:   3073 / 4170"
     ]
    },
    {
     "name": "stdout",
     "output_type": "stream",
     "text": [
      "\r- Processing image:   3074 / 4170"
     ]
    },
    {
     "name": "stdout",
     "output_type": "stream",
     "text": [
      "\r- Processing image:   3075 / 4170"
     ]
    },
    {
     "name": "stdout",
     "output_type": "stream",
     "text": [
      "\r- Processing image:   3076 / 4170"
     ]
    },
    {
     "name": "stdout",
     "output_type": "stream",
     "text": [
      "\r- Processing image:   3077 / 4170"
     ]
    },
    {
     "name": "stdout",
     "output_type": "stream",
     "text": [
      "\r- Processing image:   3078 / 4170"
     ]
    },
    {
     "name": "stdout",
     "output_type": "stream",
     "text": [
      "\r- Processing image:   3079 / 4170"
     ]
    },
    {
     "name": "stdout",
     "output_type": "stream",
     "text": [
      "\r- Processing image:   3080 / 4170"
     ]
    },
    {
     "name": "stdout",
     "output_type": "stream",
     "text": [
      "\r- Processing image:   3081 / 4170"
     ]
    },
    {
     "name": "stdout",
     "output_type": "stream",
     "text": [
      "\r- Processing image:   3082 / 4170"
     ]
    },
    {
     "name": "stdout",
     "output_type": "stream",
     "text": [
      "\r- Processing image:   3083 / 4170"
     ]
    },
    {
     "name": "stdout",
     "output_type": "stream",
     "text": [
      "\r- Processing image:   3084 / 4170"
     ]
    },
    {
     "name": "stdout",
     "output_type": "stream",
     "text": [
      "\r- Processing image:   3085 / 4170"
     ]
    },
    {
     "name": "stdout",
     "output_type": "stream",
     "text": [
      "\r- Processing image:   3086 / 4170"
     ]
    },
    {
     "name": "stdout",
     "output_type": "stream",
     "text": [
      "\r- Processing image:   3087 / 4170"
     ]
    },
    {
     "name": "stdout",
     "output_type": "stream",
     "text": [
      "\r- Processing image:   3088 / 4170"
     ]
    },
    {
     "name": "stdout",
     "output_type": "stream",
     "text": [
      "\r- Processing image:   3089 / 4170"
     ]
    },
    {
     "name": "stdout",
     "output_type": "stream",
     "text": [
      "\r- Processing image:   3090 / 4170"
     ]
    },
    {
     "name": "stdout",
     "output_type": "stream",
     "text": [
      "\r- Processing image:   3091 / 4170"
     ]
    },
    {
     "name": "stdout",
     "output_type": "stream",
     "text": [
      "\r- Processing image:   3092 / 4170"
     ]
    },
    {
     "name": "stdout",
     "output_type": "stream",
     "text": [
      "\r- Processing image:   3093 / 4170"
     ]
    },
    {
     "name": "stdout",
     "output_type": "stream",
     "text": [
      "\r- Processing image:   3094 / 4170"
     ]
    },
    {
     "name": "stdout",
     "output_type": "stream",
     "text": [
      "\r- Processing image:   3095 / 4170"
     ]
    },
    {
     "name": "stdout",
     "output_type": "stream",
     "text": [
      "\r- Processing image:   3096 / 4170"
     ]
    },
    {
     "name": "stdout",
     "output_type": "stream",
     "text": [
      "\r- Processing image:   3097 / 4170"
     ]
    },
    {
     "name": "stdout",
     "output_type": "stream",
     "text": [
      "\r- Processing image:   3098 / 4170"
     ]
    },
    {
     "name": "stdout",
     "output_type": "stream",
     "text": [
      "\r- Processing image:   3099 / 4170"
     ]
    },
    {
     "name": "stdout",
     "output_type": "stream",
     "text": [
      "\r- Processing image:   3100 / 4170"
     ]
    },
    {
     "name": "stdout",
     "output_type": "stream",
     "text": [
      "\r- Processing image:   3101 / 4170"
     ]
    },
    {
     "name": "stdout",
     "output_type": "stream",
     "text": [
      "\r- Processing image:   3102 / 4170"
     ]
    },
    {
     "name": "stdout",
     "output_type": "stream",
     "text": [
      "\r- Processing image:   3103 / 4170"
     ]
    },
    {
     "name": "stdout",
     "output_type": "stream",
     "text": [
      "\r- Processing image:   3104 / 4170"
     ]
    },
    {
     "name": "stdout",
     "output_type": "stream",
     "text": [
      "\r- Processing image:   3105 / 4170"
     ]
    },
    {
     "name": "stdout",
     "output_type": "stream",
     "text": [
      "\r- Processing image:   3106 / 4170"
     ]
    },
    {
     "name": "stdout",
     "output_type": "stream",
     "text": [
      "\r- Processing image:   3107 / 4170"
     ]
    },
    {
     "name": "stdout",
     "output_type": "stream",
     "text": [
      "\r- Processing image:   3108 / 4170"
     ]
    },
    {
     "name": "stdout",
     "output_type": "stream",
     "text": [
      "\r- Processing image:   3109 / 4170"
     ]
    },
    {
     "name": "stdout",
     "output_type": "stream",
     "text": [
      "\r- Processing image:   3110 / 4170"
     ]
    },
    {
     "name": "stdout",
     "output_type": "stream",
     "text": [
      "\r- Processing image:   3111 / 4170"
     ]
    },
    {
     "name": "stdout",
     "output_type": "stream",
     "text": [
      "\r- Processing image:   3112 / 4170"
     ]
    },
    {
     "name": "stdout",
     "output_type": "stream",
     "text": [
      "\r- Processing image:   3113 / 4170"
     ]
    },
    {
     "name": "stdout",
     "output_type": "stream",
     "text": [
      "\r- Processing image:   3114 / 4170"
     ]
    },
    {
     "name": "stdout",
     "output_type": "stream",
     "text": [
      "\r- Processing image:   3115 / 4170"
     ]
    },
    {
     "name": "stdout",
     "output_type": "stream",
     "text": [
      "\r- Processing image:   3116 / 4170"
     ]
    },
    {
     "name": "stdout",
     "output_type": "stream",
     "text": [
      "\r- Processing image:   3117 / 4170"
     ]
    },
    {
     "name": "stdout",
     "output_type": "stream",
     "text": [
      "\r- Processing image:   3118 / 4170"
     ]
    },
    {
     "name": "stdout",
     "output_type": "stream",
     "text": [
      "\r- Processing image:   3119 / 4170"
     ]
    },
    {
     "name": "stdout",
     "output_type": "stream",
     "text": [
      "\r- Processing image:   3120 / 4170"
     ]
    },
    {
     "name": "stdout",
     "output_type": "stream",
     "text": [
      "\r- Processing image:   3121 / 4170"
     ]
    },
    {
     "name": "stdout",
     "output_type": "stream",
     "text": [
      "\r- Processing image:   3122 / 4170"
     ]
    },
    {
     "name": "stdout",
     "output_type": "stream",
     "text": [
      "\r- Processing image:   3123 / 4170"
     ]
    },
    {
     "name": "stdout",
     "output_type": "stream",
     "text": [
      "\r- Processing image:   3124 / 4170"
     ]
    },
    {
     "name": "stdout",
     "output_type": "stream",
     "text": [
      "\r- Processing image:   3125 / 4170"
     ]
    },
    {
     "name": "stdout",
     "output_type": "stream",
     "text": [
      "\r- Processing image:   3126 / 4170"
     ]
    },
    {
     "name": "stdout",
     "output_type": "stream",
     "text": [
      "\r- Processing image:   3127 / 4170"
     ]
    },
    {
     "name": "stdout",
     "output_type": "stream",
     "text": [
      "\r- Processing image:   3128 / 4170"
     ]
    },
    {
     "name": "stdout",
     "output_type": "stream",
     "text": [
      "\r- Processing image:   3129 / 4170"
     ]
    },
    {
     "name": "stdout",
     "output_type": "stream",
     "text": [
      "\r- Processing image:   3130 / 4170"
     ]
    },
    {
     "name": "stdout",
     "output_type": "stream",
     "text": [
      "\r- Processing image:   3131 / 4170"
     ]
    },
    {
     "name": "stdout",
     "output_type": "stream",
     "text": [
      "\r- Processing image:   3132 / 4170"
     ]
    },
    {
     "name": "stdout",
     "output_type": "stream",
     "text": [
      "\r- Processing image:   3133 / 4170"
     ]
    },
    {
     "name": "stdout",
     "output_type": "stream",
     "text": [
      "\r- Processing image:   3134 / 4170"
     ]
    },
    {
     "name": "stdout",
     "output_type": "stream",
     "text": [
      "\r- Processing image:   3135 / 4170"
     ]
    },
    {
     "name": "stdout",
     "output_type": "stream",
     "text": [
      "\r- Processing image:   3136 / 4170"
     ]
    },
    {
     "name": "stdout",
     "output_type": "stream",
     "text": [
      "\r- Processing image:   3137 / 4170"
     ]
    },
    {
     "name": "stdout",
     "output_type": "stream",
     "text": [
      "\r- Processing image:   3138 / 4170"
     ]
    },
    {
     "name": "stdout",
     "output_type": "stream",
     "text": [
      "\r- Processing image:   3139 / 4170"
     ]
    },
    {
     "name": "stdout",
     "output_type": "stream",
     "text": [
      "\r- Processing image:   3140 / 4170"
     ]
    },
    {
     "name": "stdout",
     "output_type": "stream",
     "text": [
      "\r- Processing image:   3141 / 4170"
     ]
    },
    {
     "name": "stdout",
     "output_type": "stream",
     "text": [
      "\r- Processing image:   3142 / 4170"
     ]
    },
    {
     "name": "stdout",
     "output_type": "stream",
     "text": [
      "\r- Processing image:   3143 / 4170"
     ]
    },
    {
     "name": "stdout",
     "output_type": "stream",
     "text": [
      "\r- Processing image:   3144 / 4170"
     ]
    },
    {
     "name": "stdout",
     "output_type": "stream",
     "text": [
      "\r- Processing image:   3145 / 4170"
     ]
    },
    {
     "name": "stdout",
     "output_type": "stream",
     "text": [
      "\r- Processing image:   3146 / 4170"
     ]
    },
    {
     "name": "stdout",
     "output_type": "stream",
     "text": [
      "\r- Processing image:   3147 / 4170"
     ]
    },
    {
     "name": "stdout",
     "output_type": "stream",
     "text": [
      "\r- Processing image:   3148 / 4170"
     ]
    },
    {
     "name": "stdout",
     "output_type": "stream",
     "text": [
      "\r- Processing image:   3149 / 4170"
     ]
    },
    {
     "name": "stdout",
     "output_type": "stream",
     "text": [
      "\r- Processing image:   3150 / 4170"
     ]
    },
    {
     "name": "stdout",
     "output_type": "stream",
     "text": [
      "\r- Processing image:   3151 / 4170"
     ]
    },
    {
     "name": "stdout",
     "output_type": "stream",
     "text": [
      "\r- Processing image:   3152 / 4170"
     ]
    },
    {
     "name": "stdout",
     "output_type": "stream",
     "text": [
      "\r- Processing image:   3153 / 4170"
     ]
    },
    {
     "name": "stdout",
     "output_type": "stream",
     "text": [
      "\r- Processing image:   3154 / 4170"
     ]
    },
    {
     "name": "stdout",
     "output_type": "stream",
     "text": [
      "\r- Processing image:   3155 / 4170"
     ]
    },
    {
     "name": "stdout",
     "output_type": "stream",
     "text": [
      "\r- Processing image:   3156 / 4170"
     ]
    },
    {
     "name": "stdout",
     "output_type": "stream",
     "text": [
      "\r- Processing image:   3157 / 4170"
     ]
    },
    {
     "name": "stdout",
     "output_type": "stream",
     "text": [
      "\r- Processing image:   3158 / 4170"
     ]
    },
    {
     "name": "stdout",
     "output_type": "stream",
     "text": [
      "\r- Processing image:   3159 / 4170"
     ]
    },
    {
     "name": "stdout",
     "output_type": "stream",
     "text": [
      "\r- Processing image:   3160 / 4170"
     ]
    },
    {
     "name": "stdout",
     "output_type": "stream",
     "text": [
      "\r- Processing image:   3161 / 4170"
     ]
    },
    {
     "name": "stdout",
     "output_type": "stream",
     "text": [
      "\r- Processing image:   3162 / 4170"
     ]
    },
    {
     "name": "stdout",
     "output_type": "stream",
     "text": [
      "\r- Processing image:   3163 / 4170"
     ]
    },
    {
     "name": "stdout",
     "output_type": "stream",
     "text": [
      "\r- Processing image:   3164 / 4170"
     ]
    },
    {
     "name": "stdout",
     "output_type": "stream",
     "text": [
      "\r- Processing image:   3165 / 4170"
     ]
    },
    {
     "name": "stdout",
     "output_type": "stream",
     "text": [
      "\r- Processing image:   3166 / 4170"
     ]
    },
    {
     "name": "stdout",
     "output_type": "stream",
     "text": [
      "\r- Processing image:   3167 / 4170"
     ]
    },
    {
     "name": "stdout",
     "output_type": "stream",
     "text": [
      "\r- Processing image:   3168 / 4170"
     ]
    },
    {
     "name": "stdout",
     "output_type": "stream",
     "text": [
      "\r- Processing image:   3169 / 4170"
     ]
    },
    {
     "name": "stdout",
     "output_type": "stream",
     "text": [
      "\r- Processing image:   3170 / 4170"
     ]
    },
    {
     "name": "stdout",
     "output_type": "stream",
     "text": [
      "\r- Processing image:   3171 / 4170"
     ]
    },
    {
     "name": "stdout",
     "output_type": "stream",
     "text": [
      "\r- Processing image:   3172 / 4170"
     ]
    },
    {
     "name": "stdout",
     "output_type": "stream",
     "text": [
      "\r- Processing image:   3173 / 4170"
     ]
    },
    {
     "name": "stdout",
     "output_type": "stream",
     "text": [
      "\r- Processing image:   3174 / 4170"
     ]
    },
    {
     "name": "stdout",
     "output_type": "stream",
     "text": [
      "\r- Processing image:   3175 / 4170"
     ]
    },
    {
     "name": "stdout",
     "output_type": "stream",
     "text": [
      "\r- Processing image:   3176 / 4170"
     ]
    },
    {
     "name": "stdout",
     "output_type": "stream",
     "text": [
      "\r- Processing image:   3177 / 4170"
     ]
    },
    {
     "name": "stdout",
     "output_type": "stream",
     "text": [
      "\r- Processing image:   3178 / 4170"
     ]
    },
    {
     "name": "stdout",
     "output_type": "stream",
     "text": [
      "\r- Processing image:   3179 / 4170"
     ]
    },
    {
     "name": "stdout",
     "output_type": "stream",
     "text": [
      "\r- Processing image:   3180 / 4170"
     ]
    },
    {
     "name": "stdout",
     "output_type": "stream",
     "text": [
      "\r- Processing image:   3181 / 4170"
     ]
    },
    {
     "name": "stdout",
     "output_type": "stream",
     "text": [
      "\r- Processing image:   3182 / 4170"
     ]
    },
    {
     "name": "stdout",
     "output_type": "stream",
     "text": [
      "\r- Processing image:   3183 / 4170"
     ]
    },
    {
     "name": "stdout",
     "output_type": "stream",
     "text": [
      "\r- Processing image:   3184 / 4170"
     ]
    },
    {
     "name": "stdout",
     "output_type": "stream",
     "text": [
      "\r- Processing image:   3185 / 4170"
     ]
    },
    {
     "name": "stdout",
     "output_type": "stream",
     "text": [
      "\r- Processing image:   3186 / 4170"
     ]
    },
    {
     "name": "stdout",
     "output_type": "stream",
     "text": [
      "\r- Processing image:   3187 / 4170"
     ]
    },
    {
     "name": "stdout",
     "output_type": "stream",
     "text": [
      "\r- Processing image:   3188 / 4170"
     ]
    },
    {
     "name": "stdout",
     "output_type": "stream",
     "text": [
      "\r- Processing image:   3189 / 4170"
     ]
    },
    {
     "name": "stdout",
     "output_type": "stream",
     "text": [
      "\r- Processing image:   3190 / 4170"
     ]
    },
    {
     "name": "stdout",
     "output_type": "stream",
     "text": [
      "\r- Processing image:   3191 / 4170"
     ]
    },
    {
     "name": "stdout",
     "output_type": "stream",
     "text": [
      "\r- Processing image:   3192 / 4170"
     ]
    },
    {
     "name": "stdout",
     "output_type": "stream",
     "text": [
      "\r- Processing image:   3193 / 4170"
     ]
    },
    {
     "name": "stdout",
     "output_type": "stream",
     "text": [
      "\r- Processing image:   3194 / 4170"
     ]
    },
    {
     "name": "stdout",
     "output_type": "stream",
     "text": [
      "\r- Processing image:   3195 / 4170"
     ]
    },
    {
     "name": "stdout",
     "output_type": "stream",
     "text": [
      "\r- Processing image:   3196 / 4170"
     ]
    },
    {
     "name": "stdout",
     "output_type": "stream",
     "text": [
      "\r- Processing image:   3197 / 4170"
     ]
    },
    {
     "name": "stdout",
     "output_type": "stream",
     "text": [
      "\r- Processing image:   3198 / 4170"
     ]
    },
    {
     "name": "stdout",
     "output_type": "stream",
     "text": [
      "\r- Processing image:   3199 / 4170"
     ]
    },
    {
     "name": "stdout",
     "output_type": "stream",
     "text": [
      "\r- Processing image:   3200 / 4170"
     ]
    },
    {
     "name": "stdout",
     "output_type": "stream",
     "text": [
      "\r- Processing image:   3201 / 4170"
     ]
    },
    {
     "name": "stdout",
     "output_type": "stream",
     "text": [
      "\r- Processing image:   3202 / 4170"
     ]
    },
    {
     "name": "stdout",
     "output_type": "stream",
     "text": [
      "\r- Processing image:   3203 / 4170"
     ]
    },
    {
     "name": "stdout",
     "output_type": "stream",
     "text": [
      "\r- Processing image:   3204 / 4170"
     ]
    },
    {
     "name": "stdout",
     "output_type": "stream",
     "text": [
      "\r- Processing image:   3205 / 4170"
     ]
    },
    {
     "name": "stdout",
     "output_type": "stream",
     "text": [
      "\r- Processing image:   3206 / 4170"
     ]
    },
    {
     "name": "stdout",
     "output_type": "stream",
     "text": [
      "\r- Processing image:   3207 / 4170"
     ]
    },
    {
     "name": "stdout",
     "output_type": "stream",
     "text": [
      "\r- Processing image:   3208 / 4170"
     ]
    },
    {
     "name": "stdout",
     "output_type": "stream",
     "text": [
      "\r- Processing image:   3209 / 4170"
     ]
    },
    {
     "name": "stdout",
     "output_type": "stream",
     "text": [
      "\r- Processing image:   3210 / 4170"
     ]
    },
    {
     "name": "stdout",
     "output_type": "stream",
     "text": [
      "\r- Processing image:   3211 / 4170"
     ]
    },
    {
     "name": "stdout",
     "output_type": "stream",
     "text": [
      "\r- Processing image:   3212 / 4170"
     ]
    },
    {
     "name": "stdout",
     "output_type": "stream",
     "text": [
      "\r- Processing image:   3213 / 4170"
     ]
    },
    {
     "name": "stdout",
     "output_type": "stream",
     "text": [
      "\r- Processing image:   3214 / 4170"
     ]
    },
    {
     "name": "stdout",
     "output_type": "stream",
     "text": [
      "\r- Processing image:   3215 / 4170"
     ]
    },
    {
     "name": "stdout",
     "output_type": "stream",
     "text": [
      "\r- Processing image:   3216 / 4170"
     ]
    },
    {
     "name": "stdout",
     "output_type": "stream",
     "text": [
      "\r- Processing image:   3217 / 4170"
     ]
    },
    {
     "name": "stdout",
     "output_type": "stream",
     "text": [
      "\r- Processing image:   3218 / 4170"
     ]
    },
    {
     "name": "stdout",
     "output_type": "stream",
     "text": [
      "\r- Processing image:   3219 / 4170"
     ]
    },
    {
     "name": "stdout",
     "output_type": "stream",
     "text": [
      "\r- Processing image:   3220 / 4170"
     ]
    },
    {
     "name": "stdout",
     "output_type": "stream",
     "text": [
      "\r- Processing image:   3221 / 4170"
     ]
    },
    {
     "name": "stdout",
     "output_type": "stream",
     "text": [
      "\r- Processing image:   3222 / 4170"
     ]
    },
    {
     "name": "stdout",
     "output_type": "stream",
     "text": [
      "\r- Processing image:   3223 / 4170"
     ]
    },
    {
     "name": "stdout",
     "output_type": "stream",
     "text": [
      "\r- Processing image:   3224 / 4170"
     ]
    },
    {
     "name": "stdout",
     "output_type": "stream",
     "text": [
      "\r- Processing image:   3225 / 4170"
     ]
    },
    {
     "name": "stdout",
     "output_type": "stream",
     "text": [
      "\r- Processing image:   3226 / 4170"
     ]
    },
    {
     "name": "stdout",
     "output_type": "stream",
     "text": [
      "\r- Processing image:   3227 / 4170"
     ]
    },
    {
     "name": "stdout",
     "output_type": "stream",
     "text": [
      "\r- Processing image:   3228 / 4170"
     ]
    },
    {
     "name": "stdout",
     "output_type": "stream",
     "text": [
      "\r- Processing image:   3229 / 4170"
     ]
    },
    {
     "name": "stdout",
     "output_type": "stream",
     "text": [
      "\r- Processing image:   3230 / 4170"
     ]
    },
    {
     "name": "stdout",
     "output_type": "stream",
     "text": [
      "\r- Processing image:   3231 / 4170"
     ]
    },
    {
     "name": "stdout",
     "output_type": "stream",
     "text": [
      "\r- Processing image:   3232 / 4170"
     ]
    },
    {
     "name": "stdout",
     "output_type": "stream",
     "text": [
      "\r- Processing image:   3233 / 4170"
     ]
    },
    {
     "name": "stdout",
     "output_type": "stream",
     "text": [
      "\r- Processing image:   3234 / 4170"
     ]
    },
    {
     "name": "stdout",
     "output_type": "stream",
     "text": [
      "\r- Processing image:   3235 / 4170"
     ]
    },
    {
     "name": "stdout",
     "output_type": "stream",
     "text": [
      "\r- Processing image:   3236 / 4170"
     ]
    },
    {
     "name": "stdout",
     "output_type": "stream",
     "text": [
      "\r- Processing image:   3237 / 4170"
     ]
    },
    {
     "name": "stdout",
     "output_type": "stream",
     "text": [
      "\r- Processing image:   3238 / 4170"
     ]
    },
    {
     "name": "stdout",
     "output_type": "stream",
     "text": [
      "\r- Processing image:   3239 / 4170"
     ]
    },
    {
     "name": "stdout",
     "output_type": "stream",
     "text": [
      "\r- Processing image:   3240 / 4170"
     ]
    },
    {
     "name": "stdout",
     "output_type": "stream",
     "text": [
      "\r- Processing image:   3241 / 4170"
     ]
    },
    {
     "name": "stdout",
     "output_type": "stream",
     "text": [
      "\r- Processing image:   3242 / 4170"
     ]
    },
    {
     "name": "stdout",
     "output_type": "stream",
     "text": [
      "\r- Processing image:   3243 / 4170"
     ]
    },
    {
     "name": "stdout",
     "output_type": "stream",
     "text": [
      "\r- Processing image:   3244 / 4170"
     ]
    },
    {
     "name": "stdout",
     "output_type": "stream",
     "text": [
      "\r- Processing image:   3245 / 4170"
     ]
    },
    {
     "name": "stdout",
     "output_type": "stream",
     "text": [
      "\r- Processing image:   3246 / 4170"
     ]
    },
    {
     "name": "stdout",
     "output_type": "stream",
     "text": [
      "\r- Processing image:   3247 / 4170"
     ]
    },
    {
     "name": "stdout",
     "output_type": "stream",
     "text": [
      "\r- Processing image:   3248 / 4170"
     ]
    },
    {
     "name": "stdout",
     "output_type": "stream",
     "text": [
      "\r- Processing image:   3249 / 4170"
     ]
    },
    {
     "name": "stdout",
     "output_type": "stream",
     "text": [
      "\r- Processing image:   3250 / 4170"
     ]
    },
    {
     "name": "stdout",
     "output_type": "stream",
     "text": [
      "\r- Processing image:   3251 / 4170"
     ]
    },
    {
     "name": "stdout",
     "output_type": "stream",
     "text": [
      "\r- Processing image:   3252 / 4170"
     ]
    },
    {
     "name": "stdout",
     "output_type": "stream",
     "text": [
      "\r- Processing image:   3253 / 4170"
     ]
    },
    {
     "name": "stdout",
     "output_type": "stream",
     "text": [
      "\r- Processing image:   3254 / 4170"
     ]
    },
    {
     "name": "stdout",
     "output_type": "stream",
     "text": [
      "\r- Processing image:   3255 / 4170"
     ]
    },
    {
     "name": "stdout",
     "output_type": "stream",
     "text": [
      "\r- Processing image:   3256 / 4170"
     ]
    },
    {
     "name": "stdout",
     "output_type": "stream",
     "text": [
      "\r- Processing image:   3257 / 4170"
     ]
    },
    {
     "name": "stdout",
     "output_type": "stream",
     "text": [
      "\r- Processing image:   3258 / 4170"
     ]
    },
    {
     "name": "stdout",
     "output_type": "stream",
     "text": [
      "\r- Processing image:   3259 / 4170"
     ]
    },
    {
     "name": "stdout",
     "output_type": "stream",
     "text": [
      "\r- Processing image:   3260 / 4170"
     ]
    },
    {
     "name": "stdout",
     "output_type": "stream",
     "text": [
      "\r- Processing image:   3261 / 4170"
     ]
    },
    {
     "name": "stdout",
     "output_type": "stream",
     "text": [
      "\r- Processing image:   3262 / 4170"
     ]
    },
    {
     "name": "stdout",
     "output_type": "stream",
     "text": [
      "\r- Processing image:   3263 / 4170"
     ]
    },
    {
     "name": "stdout",
     "output_type": "stream",
     "text": [
      "\r- Processing image:   3264 / 4170"
     ]
    },
    {
     "name": "stdout",
     "output_type": "stream",
     "text": [
      "\r- Processing image:   3265 / 4170"
     ]
    },
    {
     "name": "stdout",
     "output_type": "stream",
     "text": [
      "\r- Processing image:   3266 / 4170"
     ]
    },
    {
     "name": "stdout",
     "output_type": "stream",
     "text": [
      "\r- Processing image:   3267 / 4170"
     ]
    },
    {
     "name": "stdout",
     "output_type": "stream",
     "text": [
      "\r- Processing image:   3268 / 4170"
     ]
    },
    {
     "name": "stdout",
     "output_type": "stream",
     "text": [
      "\r- Processing image:   3269 / 4170"
     ]
    },
    {
     "name": "stdout",
     "output_type": "stream",
     "text": [
      "\r- Processing image:   3270 / 4170"
     ]
    },
    {
     "name": "stdout",
     "output_type": "stream",
     "text": [
      "\r- Processing image:   3271 / 4170"
     ]
    },
    {
     "name": "stdout",
     "output_type": "stream",
     "text": [
      "\r- Processing image:   3272 / 4170"
     ]
    },
    {
     "name": "stdout",
     "output_type": "stream",
     "text": [
      "\r- Processing image:   3273 / 4170"
     ]
    },
    {
     "name": "stdout",
     "output_type": "stream",
     "text": [
      "\r- Processing image:   3274 / 4170"
     ]
    },
    {
     "name": "stdout",
     "output_type": "stream",
     "text": [
      "\r- Processing image:   3275 / 4170"
     ]
    },
    {
     "name": "stdout",
     "output_type": "stream",
     "text": [
      "\r- Processing image:   3276 / 4170"
     ]
    },
    {
     "name": "stdout",
     "output_type": "stream",
     "text": [
      "\r- Processing image:   3277 / 4170"
     ]
    },
    {
     "name": "stdout",
     "output_type": "stream",
     "text": [
      "\r- Processing image:   3278 / 4170"
     ]
    },
    {
     "name": "stdout",
     "output_type": "stream",
     "text": [
      "\r- Processing image:   3279 / 4170"
     ]
    },
    {
     "name": "stdout",
     "output_type": "stream",
     "text": [
      "\r- Processing image:   3280 / 4170"
     ]
    },
    {
     "name": "stdout",
     "output_type": "stream",
     "text": [
      "\r- Processing image:   3281 / 4170"
     ]
    },
    {
     "name": "stdout",
     "output_type": "stream",
     "text": [
      "\r- Processing image:   3282 / 4170"
     ]
    },
    {
     "name": "stdout",
     "output_type": "stream",
     "text": [
      "\r- Processing image:   3283 / 4170"
     ]
    },
    {
     "name": "stdout",
     "output_type": "stream",
     "text": [
      "\r- Processing image:   3284 / 4170"
     ]
    },
    {
     "name": "stdout",
     "output_type": "stream",
     "text": [
      "\r- Processing image:   3285 / 4170"
     ]
    },
    {
     "name": "stdout",
     "output_type": "stream",
     "text": [
      "\r- Processing image:   3286 / 4170"
     ]
    },
    {
     "name": "stdout",
     "output_type": "stream",
     "text": [
      "\r- Processing image:   3287 / 4170"
     ]
    },
    {
     "name": "stdout",
     "output_type": "stream",
     "text": [
      "\r- Processing image:   3288 / 4170"
     ]
    },
    {
     "name": "stdout",
     "output_type": "stream",
     "text": [
      "\r- Processing image:   3289 / 4170"
     ]
    },
    {
     "name": "stdout",
     "output_type": "stream",
     "text": [
      "\r- Processing image:   3290 / 4170"
     ]
    },
    {
     "name": "stdout",
     "output_type": "stream",
     "text": [
      "\r- Processing image:   3291 / 4170"
     ]
    },
    {
     "name": "stdout",
     "output_type": "stream",
     "text": [
      "\r- Processing image:   3292 / 4170"
     ]
    },
    {
     "name": "stdout",
     "output_type": "stream",
     "text": [
      "\r- Processing image:   3293 / 4170"
     ]
    },
    {
     "name": "stdout",
     "output_type": "stream",
     "text": [
      "\r- Processing image:   3294 / 4170"
     ]
    },
    {
     "name": "stdout",
     "output_type": "stream",
     "text": [
      "\r- Processing image:   3295 / 4170"
     ]
    },
    {
     "name": "stdout",
     "output_type": "stream",
     "text": [
      "\r- Processing image:   3296 / 4170"
     ]
    },
    {
     "name": "stdout",
     "output_type": "stream",
     "text": [
      "\r- Processing image:   3297 / 4170"
     ]
    },
    {
     "name": "stdout",
     "output_type": "stream",
     "text": [
      "\r- Processing image:   3298 / 4170"
     ]
    },
    {
     "name": "stdout",
     "output_type": "stream",
     "text": [
      "\r- Processing image:   3299 / 4170"
     ]
    },
    {
     "name": "stdout",
     "output_type": "stream",
     "text": [
      "\r- Processing image:   3300 / 4170"
     ]
    },
    {
     "name": "stdout",
     "output_type": "stream",
     "text": [
      "\r- Processing image:   3301 / 4170"
     ]
    },
    {
     "name": "stdout",
     "output_type": "stream",
     "text": [
      "\r- Processing image:   3302 / 4170"
     ]
    },
    {
     "name": "stdout",
     "output_type": "stream",
     "text": [
      "\r- Processing image:   3303 / 4170"
     ]
    },
    {
     "name": "stdout",
     "output_type": "stream",
     "text": [
      "\r- Processing image:   3304 / 4170"
     ]
    },
    {
     "name": "stdout",
     "output_type": "stream",
     "text": [
      "\r- Processing image:   3305 / 4170"
     ]
    },
    {
     "name": "stdout",
     "output_type": "stream",
     "text": [
      "\r- Processing image:   3306 / 4170"
     ]
    },
    {
     "name": "stdout",
     "output_type": "stream",
     "text": [
      "\r- Processing image:   3307 / 4170"
     ]
    },
    {
     "name": "stdout",
     "output_type": "stream",
     "text": [
      "\r- Processing image:   3308 / 4170"
     ]
    },
    {
     "name": "stdout",
     "output_type": "stream",
     "text": [
      "\r- Processing image:   3309 / 4170"
     ]
    },
    {
     "name": "stdout",
     "output_type": "stream",
     "text": [
      "\r- Processing image:   3310 / 4170"
     ]
    },
    {
     "name": "stdout",
     "output_type": "stream",
     "text": [
      "\r- Processing image:   3311 / 4170"
     ]
    },
    {
     "name": "stdout",
     "output_type": "stream",
     "text": [
      "\r- Processing image:   3312 / 4170"
     ]
    },
    {
     "name": "stdout",
     "output_type": "stream",
     "text": [
      "\r- Processing image:   3313 / 4170"
     ]
    },
    {
     "name": "stdout",
     "output_type": "stream",
     "text": [
      "\r- Processing image:   3314 / 4170"
     ]
    },
    {
     "name": "stdout",
     "output_type": "stream",
     "text": [
      "\r- Processing image:   3315 / 4170"
     ]
    },
    {
     "name": "stdout",
     "output_type": "stream",
     "text": [
      "\r- Processing image:   3316 / 4170"
     ]
    },
    {
     "name": "stdout",
     "output_type": "stream",
     "text": [
      "\r- Processing image:   3317 / 4170"
     ]
    },
    {
     "name": "stdout",
     "output_type": "stream",
     "text": [
      "\r- Processing image:   3318 / 4170"
     ]
    },
    {
     "name": "stdout",
     "output_type": "stream",
     "text": [
      "\r- Processing image:   3319 / 4170"
     ]
    },
    {
     "name": "stdout",
     "output_type": "stream",
     "text": [
      "\r- Processing image:   3320 / 4170"
     ]
    },
    {
     "name": "stdout",
     "output_type": "stream",
     "text": [
      "\r- Processing image:   3321 / 4170"
     ]
    },
    {
     "name": "stdout",
     "output_type": "stream",
     "text": [
      "\r- Processing image:   3322 / 4170"
     ]
    },
    {
     "name": "stdout",
     "output_type": "stream",
     "text": [
      "\r- Processing image:   3323 / 4170"
     ]
    },
    {
     "name": "stdout",
     "output_type": "stream",
     "text": [
      "\r- Processing image:   3324 / 4170"
     ]
    },
    {
     "name": "stdout",
     "output_type": "stream",
     "text": [
      "\r- Processing image:   3325 / 4170"
     ]
    },
    {
     "name": "stdout",
     "output_type": "stream",
     "text": [
      "\r- Processing image:   3326 / 4170"
     ]
    },
    {
     "name": "stdout",
     "output_type": "stream",
     "text": [
      "\r- Processing image:   3327 / 4170"
     ]
    },
    {
     "name": "stdout",
     "output_type": "stream",
     "text": [
      "\r- Processing image:   3328 / 4170"
     ]
    },
    {
     "name": "stdout",
     "output_type": "stream",
     "text": [
      "\r- Processing image:   3329 / 4170"
     ]
    },
    {
     "name": "stdout",
     "output_type": "stream",
     "text": [
      "\r- Processing image:   3330 / 4170"
     ]
    },
    {
     "name": "stdout",
     "output_type": "stream",
     "text": [
      "\r- Processing image:   3331 / 4170"
     ]
    },
    {
     "name": "stdout",
     "output_type": "stream",
     "text": [
      "\r- Processing image:   3332 / 4170"
     ]
    },
    {
     "name": "stdout",
     "output_type": "stream",
     "text": [
      "\r- Processing image:   3333 / 4170"
     ]
    },
    {
     "name": "stdout",
     "output_type": "stream",
     "text": [
      "\r- Processing image:   3334 / 4170"
     ]
    },
    {
     "name": "stdout",
     "output_type": "stream",
     "text": [
      "\r- Processing image:   3335 / 4170"
     ]
    },
    {
     "name": "stdout",
     "output_type": "stream",
     "text": [
      "\r- Processing image:   3336 / 4170"
     ]
    },
    {
     "name": "stdout",
     "output_type": "stream",
     "text": [
      "\r- Processing image:   3337 / 4170"
     ]
    },
    {
     "name": "stdout",
     "output_type": "stream",
     "text": [
      "\r- Processing image:   3338 / 4170"
     ]
    },
    {
     "name": "stdout",
     "output_type": "stream",
     "text": [
      "\r- Processing image:   3339 / 4170"
     ]
    },
    {
     "name": "stdout",
     "output_type": "stream",
     "text": [
      "\r- Processing image:   3340 / 4170"
     ]
    },
    {
     "name": "stdout",
     "output_type": "stream",
     "text": [
      "\r- Processing image:   3341 / 4170"
     ]
    },
    {
     "name": "stdout",
     "output_type": "stream",
     "text": [
      "\r- Processing image:   3342 / 4170"
     ]
    },
    {
     "name": "stdout",
     "output_type": "stream",
     "text": [
      "\r- Processing image:   3343 / 4170"
     ]
    },
    {
     "name": "stdout",
     "output_type": "stream",
     "text": [
      "\r- Processing image:   3344 / 4170"
     ]
    },
    {
     "name": "stdout",
     "output_type": "stream",
     "text": [
      "\r- Processing image:   3345 / 4170"
     ]
    },
    {
     "name": "stdout",
     "output_type": "stream",
     "text": [
      "\r- Processing image:   3346 / 4170"
     ]
    },
    {
     "name": "stdout",
     "output_type": "stream",
     "text": [
      "\r- Processing image:   3347 / 4170"
     ]
    },
    {
     "name": "stdout",
     "output_type": "stream",
     "text": [
      "\r- Processing image:   3348 / 4170"
     ]
    },
    {
     "name": "stdout",
     "output_type": "stream",
     "text": [
      "\r- Processing image:   3349 / 4170"
     ]
    },
    {
     "name": "stdout",
     "output_type": "stream",
     "text": [
      "\r- Processing image:   3350 / 4170"
     ]
    },
    {
     "name": "stdout",
     "output_type": "stream",
     "text": [
      "\r- Processing image:   3351 / 4170"
     ]
    },
    {
     "name": "stdout",
     "output_type": "stream",
     "text": [
      "\r- Processing image:   3352 / 4170"
     ]
    },
    {
     "name": "stdout",
     "output_type": "stream",
     "text": [
      "\r- Processing image:   3353 / 4170"
     ]
    },
    {
     "name": "stdout",
     "output_type": "stream",
     "text": [
      "\r- Processing image:   3354 / 4170"
     ]
    },
    {
     "name": "stdout",
     "output_type": "stream",
     "text": [
      "\r- Processing image:   3355 / 4170"
     ]
    },
    {
     "name": "stdout",
     "output_type": "stream",
     "text": [
      "\r- Processing image:   3356 / 4170"
     ]
    },
    {
     "name": "stdout",
     "output_type": "stream",
     "text": [
      "\r- Processing image:   3357 / 4170"
     ]
    },
    {
     "name": "stdout",
     "output_type": "stream",
     "text": [
      "\r- Processing image:   3358 / 4170"
     ]
    },
    {
     "name": "stdout",
     "output_type": "stream",
     "text": [
      "\r- Processing image:   3359 / 4170"
     ]
    },
    {
     "name": "stdout",
     "output_type": "stream",
     "text": [
      "\r- Processing image:   3360 / 4170"
     ]
    },
    {
     "name": "stdout",
     "output_type": "stream",
     "text": [
      "\r- Processing image:   3361 / 4170"
     ]
    },
    {
     "name": "stdout",
     "output_type": "stream",
     "text": [
      "\r- Processing image:   3362 / 4170"
     ]
    },
    {
     "name": "stdout",
     "output_type": "stream",
     "text": [
      "\r- Processing image:   3363 / 4170"
     ]
    },
    {
     "name": "stdout",
     "output_type": "stream",
     "text": [
      "\r- Processing image:   3364 / 4170"
     ]
    },
    {
     "name": "stdout",
     "output_type": "stream",
     "text": [
      "\r- Processing image:   3365 / 4170"
     ]
    },
    {
     "name": "stdout",
     "output_type": "stream",
     "text": [
      "\r- Processing image:   3366 / 4170"
     ]
    },
    {
     "name": "stdout",
     "output_type": "stream",
     "text": [
      "\r- Processing image:   3367 / 4170"
     ]
    },
    {
     "name": "stdout",
     "output_type": "stream",
     "text": [
      "\r- Processing image:   3368 / 4170"
     ]
    },
    {
     "name": "stdout",
     "output_type": "stream",
     "text": [
      "\r- Processing image:   3369 / 4170"
     ]
    },
    {
     "name": "stdout",
     "output_type": "stream",
     "text": [
      "\r- Processing image:   3370 / 4170"
     ]
    },
    {
     "name": "stdout",
     "output_type": "stream",
     "text": [
      "\r- Processing image:   3371 / 4170"
     ]
    },
    {
     "name": "stdout",
     "output_type": "stream",
     "text": [
      "\r- Processing image:   3372 / 4170"
     ]
    },
    {
     "name": "stdout",
     "output_type": "stream",
     "text": [
      "\r- Processing image:   3373 / 4170"
     ]
    },
    {
     "name": "stdout",
     "output_type": "stream",
     "text": [
      "\r- Processing image:   3374 / 4170"
     ]
    },
    {
     "name": "stdout",
     "output_type": "stream",
     "text": [
      "\r- Processing image:   3375 / 4170"
     ]
    },
    {
     "name": "stdout",
     "output_type": "stream",
     "text": [
      "\r- Processing image:   3376 / 4170"
     ]
    },
    {
     "name": "stdout",
     "output_type": "stream",
     "text": [
      "\r- Processing image:   3377 / 4170"
     ]
    },
    {
     "name": "stdout",
     "output_type": "stream",
     "text": [
      "\r- Processing image:   3378 / 4170"
     ]
    },
    {
     "name": "stdout",
     "output_type": "stream",
     "text": [
      "\r- Processing image:   3379 / 4170"
     ]
    },
    {
     "name": "stdout",
     "output_type": "stream",
     "text": [
      "\r- Processing image:   3380 / 4170"
     ]
    },
    {
     "name": "stdout",
     "output_type": "stream",
     "text": [
      "\r- Processing image:   3381 / 4170"
     ]
    },
    {
     "name": "stdout",
     "output_type": "stream",
     "text": [
      "\r- Processing image:   3382 / 4170"
     ]
    },
    {
     "name": "stdout",
     "output_type": "stream",
     "text": [
      "\r- Processing image:   3383 / 4170"
     ]
    },
    {
     "name": "stdout",
     "output_type": "stream",
     "text": [
      "\r- Processing image:   3384 / 4170"
     ]
    },
    {
     "name": "stdout",
     "output_type": "stream",
     "text": [
      "\r- Processing image:   3385 / 4170"
     ]
    },
    {
     "name": "stdout",
     "output_type": "stream",
     "text": [
      "\r- Processing image:   3386 / 4170"
     ]
    },
    {
     "name": "stdout",
     "output_type": "stream",
     "text": [
      "\r- Processing image:   3387 / 4170"
     ]
    },
    {
     "name": "stdout",
     "output_type": "stream",
     "text": [
      "\r- Processing image:   3388 / 4170"
     ]
    },
    {
     "name": "stdout",
     "output_type": "stream",
     "text": [
      "\r- Processing image:   3389 / 4170"
     ]
    },
    {
     "name": "stdout",
     "output_type": "stream",
     "text": [
      "\r- Processing image:   3390 / 4170"
     ]
    },
    {
     "name": "stdout",
     "output_type": "stream",
     "text": [
      "\r- Processing image:   3391 / 4170"
     ]
    },
    {
     "name": "stdout",
     "output_type": "stream",
     "text": [
      "\r- Processing image:   3392 / 4170"
     ]
    },
    {
     "name": "stdout",
     "output_type": "stream",
     "text": [
      "\r- Processing image:   3393 / 4170"
     ]
    },
    {
     "name": "stdout",
     "output_type": "stream",
     "text": [
      "\r- Processing image:   3394 / 4170"
     ]
    },
    {
     "name": "stdout",
     "output_type": "stream",
     "text": [
      "\r- Processing image:   3395 / 4170"
     ]
    },
    {
     "name": "stdout",
     "output_type": "stream",
     "text": [
      "\r- Processing image:   3396 / 4170"
     ]
    },
    {
     "name": "stdout",
     "output_type": "stream",
     "text": [
      "\r- Processing image:   3397 / 4170"
     ]
    },
    {
     "name": "stdout",
     "output_type": "stream",
     "text": [
      "\r- Processing image:   3398 / 4170"
     ]
    },
    {
     "name": "stdout",
     "output_type": "stream",
     "text": [
      "\r- Processing image:   3399 / 4170"
     ]
    },
    {
     "name": "stdout",
     "output_type": "stream",
     "text": [
      "\r- Processing image:   3400 / 4170"
     ]
    },
    {
     "name": "stdout",
     "output_type": "stream",
     "text": [
      "\r- Processing image:   3401 / 4170"
     ]
    },
    {
     "name": "stdout",
     "output_type": "stream",
     "text": [
      "\r- Processing image:   3402 / 4170"
     ]
    },
    {
     "name": "stdout",
     "output_type": "stream",
     "text": [
      "\r- Processing image:   3403 / 4170"
     ]
    },
    {
     "name": "stdout",
     "output_type": "stream",
     "text": [
      "\r- Processing image:   3404 / 4170"
     ]
    },
    {
     "name": "stdout",
     "output_type": "stream",
     "text": [
      "\r- Processing image:   3405 / 4170"
     ]
    },
    {
     "name": "stdout",
     "output_type": "stream",
     "text": [
      "\r- Processing image:   3406 / 4170"
     ]
    },
    {
     "name": "stdout",
     "output_type": "stream",
     "text": [
      "\r- Processing image:   3407 / 4170"
     ]
    },
    {
     "name": "stdout",
     "output_type": "stream",
     "text": [
      "\r- Processing image:   3408 / 4170"
     ]
    },
    {
     "name": "stdout",
     "output_type": "stream",
     "text": [
      "\r- Processing image:   3409 / 4170"
     ]
    },
    {
     "name": "stdout",
     "output_type": "stream",
     "text": [
      "\r- Processing image:   3410 / 4170"
     ]
    },
    {
     "name": "stdout",
     "output_type": "stream",
     "text": [
      "\r- Processing image:   3411 / 4170"
     ]
    },
    {
     "name": "stdout",
     "output_type": "stream",
     "text": [
      "\r- Processing image:   3412 / 4170"
     ]
    },
    {
     "name": "stdout",
     "output_type": "stream",
     "text": [
      "\r- Processing image:   3413 / 4170"
     ]
    },
    {
     "name": "stdout",
     "output_type": "stream",
     "text": [
      "\r- Processing image:   3414 / 4170"
     ]
    },
    {
     "name": "stdout",
     "output_type": "stream",
     "text": [
      "\r- Processing image:   3415 / 4170"
     ]
    },
    {
     "name": "stdout",
     "output_type": "stream",
     "text": [
      "\r- Processing image:   3416 / 4170"
     ]
    },
    {
     "name": "stdout",
     "output_type": "stream",
     "text": [
      "\r- Processing image:   3417 / 4170"
     ]
    },
    {
     "name": "stdout",
     "output_type": "stream",
     "text": [
      "\r- Processing image:   3418 / 4170"
     ]
    },
    {
     "name": "stdout",
     "output_type": "stream",
     "text": [
      "\r- Processing image:   3419 / 4170"
     ]
    },
    {
     "name": "stdout",
     "output_type": "stream",
     "text": [
      "\r- Processing image:   3420 / 4170"
     ]
    },
    {
     "name": "stdout",
     "output_type": "stream",
     "text": [
      "\r- Processing image:   3421 / 4170"
     ]
    },
    {
     "name": "stdout",
     "output_type": "stream",
     "text": [
      "\r- Processing image:   3422 / 4170"
     ]
    },
    {
     "name": "stdout",
     "output_type": "stream",
     "text": [
      "\r- Processing image:   3423 / 4170"
     ]
    },
    {
     "name": "stdout",
     "output_type": "stream",
     "text": [
      "\r- Processing image:   3424 / 4170"
     ]
    },
    {
     "name": "stdout",
     "output_type": "stream",
     "text": [
      "\r- Processing image:   3425 / 4170"
     ]
    },
    {
     "name": "stdout",
     "output_type": "stream",
     "text": [
      "\r- Processing image:   3426 / 4170"
     ]
    },
    {
     "name": "stdout",
     "output_type": "stream",
     "text": [
      "\r- Processing image:   3427 / 4170"
     ]
    },
    {
     "name": "stdout",
     "output_type": "stream",
     "text": [
      "\r- Processing image:   3428 / 4170"
     ]
    },
    {
     "name": "stdout",
     "output_type": "stream",
     "text": [
      "\r- Processing image:   3429 / 4170"
     ]
    },
    {
     "name": "stdout",
     "output_type": "stream",
     "text": [
      "\r- Processing image:   3430 / 4170"
     ]
    },
    {
     "name": "stdout",
     "output_type": "stream",
     "text": [
      "\r- Processing image:   3431 / 4170"
     ]
    },
    {
     "name": "stdout",
     "output_type": "stream",
     "text": [
      "\r- Processing image:   3432 / 4170"
     ]
    },
    {
     "name": "stdout",
     "output_type": "stream",
     "text": [
      "\r- Processing image:   3433 / 4170"
     ]
    },
    {
     "name": "stdout",
     "output_type": "stream",
     "text": [
      "\r- Processing image:   3434 / 4170"
     ]
    },
    {
     "name": "stdout",
     "output_type": "stream",
     "text": [
      "\r- Processing image:   3435 / 4170"
     ]
    },
    {
     "name": "stdout",
     "output_type": "stream",
     "text": [
      "\r- Processing image:   3436 / 4170"
     ]
    },
    {
     "name": "stdout",
     "output_type": "stream",
     "text": [
      "\r- Processing image:   3437 / 4170"
     ]
    },
    {
     "name": "stdout",
     "output_type": "stream",
     "text": [
      "\r- Processing image:   3438 / 4170"
     ]
    },
    {
     "name": "stdout",
     "output_type": "stream",
     "text": [
      "\r- Processing image:   3439 / 4170"
     ]
    },
    {
     "name": "stdout",
     "output_type": "stream",
     "text": [
      "\r- Processing image:   3440 / 4170"
     ]
    },
    {
     "name": "stdout",
     "output_type": "stream",
     "text": [
      "\r- Processing image:   3441 / 4170"
     ]
    },
    {
     "name": "stdout",
     "output_type": "stream",
     "text": [
      "\r- Processing image:   3442 / 4170"
     ]
    },
    {
     "name": "stdout",
     "output_type": "stream",
     "text": [
      "\r- Processing image:   3443 / 4170"
     ]
    },
    {
     "name": "stdout",
     "output_type": "stream",
     "text": [
      "\r- Processing image:   3444 / 4170"
     ]
    },
    {
     "name": "stdout",
     "output_type": "stream",
     "text": [
      "\r- Processing image:   3445 / 4170"
     ]
    },
    {
     "name": "stdout",
     "output_type": "stream",
     "text": [
      "\r- Processing image:   3446 / 4170"
     ]
    },
    {
     "name": "stdout",
     "output_type": "stream",
     "text": [
      "\r- Processing image:   3447 / 4170"
     ]
    },
    {
     "name": "stdout",
     "output_type": "stream",
     "text": [
      "\r- Processing image:   3448 / 4170"
     ]
    },
    {
     "name": "stdout",
     "output_type": "stream",
     "text": [
      "\r- Processing image:   3449 / 4170"
     ]
    },
    {
     "name": "stdout",
     "output_type": "stream",
     "text": [
      "\r- Processing image:   3450 / 4170"
     ]
    },
    {
     "name": "stdout",
     "output_type": "stream",
     "text": [
      "\r- Processing image:   3451 / 4170"
     ]
    },
    {
     "name": "stdout",
     "output_type": "stream",
     "text": [
      "\r- Processing image:   3452 / 4170"
     ]
    },
    {
     "name": "stdout",
     "output_type": "stream",
     "text": [
      "\r- Processing image:   3453 / 4170"
     ]
    },
    {
     "name": "stdout",
     "output_type": "stream",
     "text": [
      "\r- Processing image:   3454 / 4170"
     ]
    },
    {
     "name": "stdout",
     "output_type": "stream",
     "text": [
      "\r- Processing image:   3455 / 4170"
     ]
    },
    {
     "name": "stdout",
     "output_type": "stream",
     "text": [
      "\r- Processing image:   3456 / 4170"
     ]
    },
    {
     "name": "stdout",
     "output_type": "stream",
     "text": [
      "\r- Processing image:   3457 / 4170"
     ]
    },
    {
     "name": "stdout",
     "output_type": "stream",
     "text": [
      "\r- Processing image:   3458 / 4170"
     ]
    },
    {
     "name": "stdout",
     "output_type": "stream",
     "text": [
      "\r- Processing image:   3459 / 4170"
     ]
    },
    {
     "name": "stdout",
     "output_type": "stream",
     "text": [
      "\r- Processing image:   3460 / 4170"
     ]
    },
    {
     "name": "stdout",
     "output_type": "stream",
     "text": [
      "\r- Processing image:   3461 / 4170"
     ]
    },
    {
     "name": "stdout",
     "output_type": "stream",
     "text": [
      "\r- Processing image:   3462 / 4170"
     ]
    },
    {
     "name": "stdout",
     "output_type": "stream",
     "text": [
      "\r- Processing image:   3463 / 4170"
     ]
    },
    {
     "name": "stdout",
     "output_type": "stream",
     "text": [
      "\r- Processing image:   3464 / 4170"
     ]
    },
    {
     "name": "stdout",
     "output_type": "stream",
     "text": [
      "\r- Processing image:   3465 / 4170"
     ]
    },
    {
     "name": "stdout",
     "output_type": "stream",
     "text": [
      "\r- Processing image:   3466 / 4170"
     ]
    },
    {
     "name": "stdout",
     "output_type": "stream",
     "text": [
      "\r- Processing image:   3467 / 4170"
     ]
    },
    {
     "name": "stdout",
     "output_type": "stream",
     "text": [
      "\r- Processing image:   3468 / 4170"
     ]
    },
    {
     "name": "stdout",
     "output_type": "stream",
     "text": [
      "\r- Processing image:   3469 / 4170"
     ]
    },
    {
     "name": "stdout",
     "output_type": "stream",
     "text": [
      "\r- Processing image:   3470 / 4170"
     ]
    },
    {
     "name": "stdout",
     "output_type": "stream",
     "text": [
      "\r- Processing image:   3471 / 4170"
     ]
    },
    {
     "name": "stdout",
     "output_type": "stream",
     "text": [
      "\r- Processing image:   3472 / 4170"
     ]
    },
    {
     "name": "stdout",
     "output_type": "stream",
     "text": [
      "\r- Processing image:   3473 / 4170"
     ]
    },
    {
     "name": "stdout",
     "output_type": "stream",
     "text": [
      "\r- Processing image:   3474 / 4170"
     ]
    },
    {
     "name": "stdout",
     "output_type": "stream",
     "text": [
      "\r- Processing image:   3475 / 4170"
     ]
    },
    {
     "name": "stdout",
     "output_type": "stream",
     "text": [
      "\r- Processing image:   3476 / 4170"
     ]
    },
    {
     "name": "stdout",
     "output_type": "stream",
     "text": [
      "\r- Processing image:   3477 / 4170"
     ]
    },
    {
     "name": "stdout",
     "output_type": "stream",
     "text": [
      "\r- Processing image:   3478 / 4170"
     ]
    },
    {
     "name": "stdout",
     "output_type": "stream",
     "text": [
      "\r- Processing image:   3479 / 4170"
     ]
    },
    {
     "name": "stdout",
     "output_type": "stream",
     "text": [
      "\r- Processing image:   3480 / 4170"
     ]
    },
    {
     "name": "stdout",
     "output_type": "stream",
     "text": [
      "\r- Processing image:   3481 / 4170"
     ]
    },
    {
     "name": "stdout",
     "output_type": "stream",
     "text": [
      "\r- Processing image:   3482 / 4170"
     ]
    },
    {
     "name": "stdout",
     "output_type": "stream",
     "text": [
      "\r- Processing image:   3483 / 4170"
     ]
    },
    {
     "name": "stdout",
     "output_type": "stream",
     "text": [
      "\r- Processing image:   3484 / 4170"
     ]
    },
    {
     "name": "stdout",
     "output_type": "stream",
     "text": [
      "\r- Processing image:   3485 / 4170"
     ]
    },
    {
     "name": "stdout",
     "output_type": "stream",
     "text": [
      "\r- Processing image:   3486 / 4170"
     ]
    },
    {
     "name": "stdout",
     "output_type": "stream",
     "text": [
      "\r- Processing image:   3487 / 4170"
     ]
    },
    {
     "name": "stdout",
     "output_type": "stream",
     "text": [
      "\r- Processing image:   3488 / 4170"
     ]
    },
    {
     "name": "stdout",
     "output_type": "stream",
     "text": [
      "\r- Processing image:   3489 / 4170"
     ]
    },
    {
     "name": "stdout",
     "output_type": "stream",
     "text": [
      "\r- Processing image:   3490 / 4170"
     ]
    },
    {
     "name": "stdout",
     "output_type": "stream",
     "text": [
      "\r- Processing image:   3491 / 4170"
     ]
    },
    {
     "name": "stdout",
     "output_type": "stream",
     "text": [
      "\r- Processing image:   3492 / 4170"
     ]
    },
    {
     "name": "stdout",
     "output_type": "stream",
     "text": [
      "\r- Processing image:   3493 / 4170"
     ]
    },
    {
     "name": "stdout",
     "output_type": "stream",
     "text": [
      "\r- Processing image:   3494 / 4170"
     ]
    },
    {
     "name": "stdout",
     "output_type": "stream",
     "text": [
      "\r- Processing image:   3495 / 4170"
     ]
    },
    {
     "name": "stdout",
     "output_type": "stream",
     "text": [
      "\r- Processing image:   3496 / 4170"
     ]
    },
    {
     "name": "stdout",
     "output_type": "stream",
     "text": [
      "\r- Processing image:   3497 / 4170"
     ]
    },
    {
     "name": "stdout",
     "output_type": "stream",
     "text": [
      "\r- Processing image:   3498 / 4170"
     ]
    },
    {
     "name": "stdout",
     "output_type": "stream",
     "text": [
      "\r- Processing image:   3499 / 4170"
     ]
    },
    {
     "name": "stdout",
     "output_type": "stream",
     "text": [
      "\r- Processing image:   3500 / 4170"
     ]
    },
    {
     "name": "stdout",
     "output_type": "stream",
     "text": [
      "\r- Processing image:   3501 / 4170"
     ]
    },
    {
     "name": "stdout",
     "output_type": "stream",
     "text": [
      "\r- Processing image:   3502 / 4170"
     ]
    },
    {
     "name": "stdout",
     "output_type": "stream",
     "text": [
      "\r- Processing image:   3503 / 4170"
     ]
    },
    {
     "name": "stdout",
     "output_type": "stream",
     "text": [
      "\r- Processing image:   3504 / 4170"
     ]
    },
    {
     "name": "stdout",
     "output_type": "stream",
     "text": [
      "\r- Processing image:   3505 / 4170"
     ]
    },
    {
     "name": "stdout",
     "output_type": "stream",
     "text": [
      "\r- Processing image:   3506 / 4170"
     ]
    },
    {
     "name": "stdout",
     "output_type": "stream",
     "text": [
      "\r- Processing image:   3507 / 4170"
     ]
    },
    {
     "name": "stdout",
     "output_type": "stream",
     "text": [
      "\r- Processing image:   3508 / 4170"
     ]
    },
    {
     "name": "stdout",
     "output_type": "stream",
     "text": [
      "\r- Processing image:   3509 / 4170"
     ]
    },
    {
     "name": "stdout",
     "output_type": "stream",
     "text": [
      "\r- Processing image:   3510 / 4170"
     ]
    },
    {
     "name": "stdout",
     "output_type": "stream",
     "text": [
      "\r- Processing image:   3511 / 4170"
     ]
    },
    {
     "name": "stdout",
     "output_type": "stream",
     "text": [
      "\r- Processing image:   3512 / 4170"
     ]
    },
    {
     "name": "stdout",
     "output_type": "stream",
     "text": [
      "\r- Processing image:   3513 / 4170"
     ]
    },
    {
     "name": "stdout",
     "output_type": "stream",
     "text": [
      "\r- Processing image:   3514 / 4170"
     ]
    },
    {
     "name": "stdout",
     "output_type": "stream",
     "text": [
      "\r- Processing image:   3515 / 4170"
     ]
    },
    {
     "name": "stdout",
     "output_type": "stream",
     "text": [
      "\r- Processing image:   3516 / 4170"
     ]
    },
    {
     "name": "stdout",
     "output_type": "stream",
     "text": [
      "\r- Processing image:   3517 / 4170"
     ]
    },
    {
     "name": "stdout",
     "output_type": "stream",
     "text": [
      "\r- Processing image:   3518 / 4170"
     ]
    },
    {
     "name": "stdout",
     "output_type": "stream",
     "text": [
      "\r- Processing image:   3519 / 4170"
     ]
    },
    {
     "name": "stdout",
     "output_type": "stream",
     "text": [
      "\r- Processing image:   3520 / 4170"
     ]
    },
    {
     "name": "stdout",
     "output_type": "stream",
     "text": [
      "\r- Processing image:   3521 / 4170"
     ]
    },
    {
     "name": "stdout",
     "output_type": "stream",
     "text": [
      "\r- Processing image:   3522 / 4170"
     ]
    },
    {
     "name": "stdout",
     "output_type": "stream",
     "text": [
      "\r- Processing image:   3523 / 4170"
     ]
    },
    {
     "name": "stdout",
     "output_type": "stream",
     "text": [
      "\r- Processing image:   3524 / 4170"
     ]
    },
    {
     "name": "stdout",
     "output_type": "stream",
     "text": [
      "\r- Processing image:   3525 / 4170"
     ]
    },
    {
     "name": "stdout",
     "output_type": "stream",
     "text": [
      "\r- Processing image:   3526 / 4170"
     ]
    },
    {
     "name": "stdout",
     "output_type": "stream",
     "text": [
      "\r- Processing image:   3527 / 4170"
     ]
    },
    {
     "name": "stdout",
     "output_type": "stream",
     "text": [
      "\r- Processing image:   3528 / 4170"
     ]
    },
    {
     "name": "stdout",
     "output_type": "stream",
     "text": [
      "\r- Processing image:   3529 / 4170"
     ]
    },
    {
     "name": "stdout",
     "output_type": "stream",
     "text": [
      "\r- Processing image:   3530 / 4170"
     ]
    },
    {
     "name": "stdout",
     "output_type": "stream",
     "text": [
      "\r- Processing image:   3531 / 4170"
     ]
    },
    {
     "name": "stdout",
     "output_type": "stream",
     "text": [
      "\r- Processing image:   3532 / 4170"
     ]
    },
    {
     "name": "stdout",
     "output_type": "stream",
     "text": [
      "\r- Processing image:   3533 / 4170"
     ]
    },
    {
     "name": "stdout",
     "output_type": "stream",
     "text": [
      "\r- Processing image:   3534 / 4170"
     ]
    },
    {
     "name": "stdout",
     "output_type": "stream",
     "text": [
      "\r- Processing image:   3535 / 4170"
     ]
    },
    {
     "name": "stdout",
     "output_type": "stream",
     "text": [
      "\r- Processing image:   3536 / 4170"
     ]
    },
    {
     "name": "stdout",
     "output_type": "stream",
     "text": [
      "\r- Processing image:   3537 / 4170"
     ]
    },
    {
     "name": "stdout",
     "output_type": "stream",
     "text": [
      "\r- Processing image:   3538 / 4170"
     ]
    },
    {
     "name": "stdout",
     "output_type": "stream",
     "text": [
      "\r- Processing image:   3539 / 4170"
     ]
    },
    {
     "name": "stdout",
     "output_type": "stream",
     "text": [
      "\r- Processing image:   3540 / 4170"
     ]
    },
    {
     "name": "stdout",
     "output_type": "stream",
     "text": [
      "\r- Processing image:   3541 / 4170"
     ]
    },
    {
     "name": "stdout",
     "output_type": "stream",
     "text": [
      "\r- Processing image:   3542 / 4170"
     ]
    },
    {
     "name": "stdout",
     "output_type": "stream",
     "text": [
      "\r- Processing image:   3543 / 4170"
     ]
    },
    {
     "name": "stdout",
     "output_type": "stream",
     "text": [
      "\r- Processing image:   3544 / 4170"
     ]
    },
    {
     "name": "stdout",
     "output_type": "stream",
     "text": [
      "\r- Processing image:   3545 / 4170"
     ]
    },
    {
     "name": "stdout",
     "output_type": "stream",
     "text": [
      "\r- Processing image:   3546 / 4170"
     ]
    },
    {
     "name": "stdout",
     "output_type": "stream",
     "text": [
      "\r- Processing image:   3547 / 4170"
     ]
    },
    {
     "name": "stdout",
     "output_type": "stream",
     "text": [
      "\r- Processing image:   3548 / 4170"
     ]
    },
    {
     "name": "stdout",
     "output_type": "stream",
     "text": [
      "\r- Processing image:   3549 / 4170"
     ]
    },
    {
     "name": "stdout",
     "output_type": "stream",
     "text": [
      "\r- Processing image:   3550 / 4170"
     ]
    },
    {
     "name": "stdout",
     "output_type": "stream",
     "text": [
      "\r- Processing image:   3551 / 4170"
     ]
    },
    {
     "name": "stdout",
     "output_type": "stream",
     "text": [
      "\r- Processing image:   3552 / 4170"
     ]
    },
    {
     "name": "stdout",
     "output_type": "stream",
     "text": [
      "\r- Processing image:   3553 / 4170"
     ]
    },
    {
     "name": "stdout",
     "output_type": "stream",
     "text": [
      "\r- Processing image:   3554 / 4170"
     ]
    },
    {
     "name": "stdout",
     "output_type": "stream",
     "text": [
      "\r- Processing image:   3555 / 4170"
     ]
    },
    {
     "name": "stdout",
     "output_type": "stream",
     "text": [
      "\r- Processing image:   3556 / 4170"
     ]
    },
    {
     "name": "stdout",
     "output_type": "stream",
     "text": [
      "\r- Processing image:   3557 / 4170"
     ]
    },
    {
     "name": "stdout",
     "output_type": "stream",
     "text": [
      "\r- Processing image:   3558 / 4170"
     ]
    },
    {
     "name": "stdout",
     "output_type": "stream",
     "text": [
      "\r- Processing image:   3559 / 4170"
     ]
    },
    {
     "name": "stdout",
     "output_type": "stream",
     "text": [
      "\r- Processing image:   3560 / 4170"
     ]
    },
    {
     "name": "stdout",
     "output_type": "stream",
     "text": [
      "\r- Processing image:   3561 / 4170"
     ]
    },
    {
     "name": "stdout",
     "output_type": "stream",
     "text": [
      "\r- Processing image:   3562 / 4170"
     ]
    },
    {
     "name": "stdout",
     "output_type": "stream",
     "text": [
      "\r- Processing image:   3563 / 4170"
     ]
    },
    {
     "name": "stdout",
     "output_type": "stream",
     "text": [
      "\r- Processing image:   3564 / 4170"
     ]
    },
    {
     "name": "stdout",
     "output_type": "stream",
     "text": [
      "\r- Processing image:   3565 / 4170"
     ]
    },
    {
     "name": "stdout",
     "output_type": "stream",
     "text": [
      "\r- Processing image:   3566 / 4170"
     ]
    },
    {
     "name": "stdout",
     "output_type": "stream",
     "text": [
      "\r- Processing image:   3567 / 4170"
     ]
    },
    {
     "name": "stdout",
     "output_type": "stream",
     "text": [
      "\r- Processing image:   3568 / 4170"
     ]
    },
    {
     "name": "stdout",
     "output_type": "stream",
     "text": [
      "\r- Processing image:   3569 / 4170"
     ]
    },
    {
     "name": "stdout",
     "output_type": "stream",
     "text": [
      "\r- Processing image:   3570 / 4170"
     ]
    },
    {
     "name": "stdout",
     "output_type": "stream",
     "text": [
      "\r- Processing image:   3571 / 4170"
     ]
    },
    {
     "name": "stdout",
     "output_type": "stream",
     "text": [
      "\r- Processing image:   3572 / 4170"
     ]
    },
    {
     "name": "stdout",
     "output_type": "stream",
     "text": [
      "\r- Processing image:   3573 / 4170"
     ]
    },
    {
     "name": "stdout",
     "output_type": "stream",
     "text": [
      "\r- Processing image:   3574 / 4170"
     ]
    },
    {
     "name": "stdout",
     "output_type": "stream",
     "text": [
      "\r- Processing image:   3575 / 4170"
     ]
    },
    {
     "name": "stdout",
     "output_type": "stream",
     "text": [
      "\r- Processing image:   3576 / 4170"
     ]
    },
    {
     "name": "stdout",
     "output_type": "stream",
     "text": [
      "\r- Processing image:   3577 / 4170"
     ]
    },
    {
     "name": "stdout",
     "output_type": "stream",
     "text": [
      "\r- Processing image:   3578 / 4170"
     ]
    },
    {
     "name": "stdout",
     "output_type": "stream",
     "text": [
      "\r- Processing image:   3579 / 4170"
     ]
    },
    {
     "name": "stdout",
     "output_type": "stream",
     "text": [
      "\r- Processing image:   3580 / 4170"
     ]
    },
    {
     "name": "stdout",
     "output_type": "stream",
     "text": [
      "\r- Processing image:   3581 / 4170"
     ]
    },
    {
     "name": "stdout",
     "output_type": "stream",
     "text": [
      "\r- Processing image:   3582 / 4170"
     ]
    },
    {
     "name": "stdout",
     "output_type": "stream",
     "text": [
      "\r- Processing image:   3583 / 4170"
     ]
    },
    {
     "name": "stdout",
     "output_type": "stream",
     "text": [
      "\r- Processing image:   3584 / 4170"
     ]
    },
    {
     "name": "stdout",
     "output_type": "stream",
     "text": [
      "\r- Processing image:   3585 / 4170"
     ]
    },
    {
     "name": "stdout",
     "output_type": "stream",
     "text": [
      "\r- Processing image:   3586 / 4170"
     ]
    },
    {
     "name": "stdout",
     "output_type": "stream",
     "text": [
      "\r- Processing image:   3587 / 4170"
     ]
    },
    {
     "name": "stdout",
     "output_type": "stream",
     "text": [
      "\r- Processing image:   3588 / 4170"
     ]
    },
    {
     "name": "stdout",
     "output_type": "stream",
     "text": [
      "\r- Processing image:   3589 / 4170"
     ]
    },
    {
     "name": "stdout",
     "output_type": "stream",
     "text": [
      "\r- Processing image:   3590 / 4170"
     ]
    },
    {
     "name": "stdout",
     "output_type": "stream",
     "text": [
      "\r- Processing image:   3591 / 4170"
     ]
    },
    {
     "name": "stdout",
     "output_type": "stream",
     "text": [
      "\r- Processing image:   3592 / 4170"
     ]
    },
    {
     "name": "stdout",
     "output_type": "stream",
     "text": [
      "\r- Processing image:   3593 / 4170"
     ]
    },
    {
     "name": "stdout",
     "output_type": "stream",
     "text": [
      "\r- Processing image:   3594 / 4170"
     ]
    },
    {
     "name": "stdout",
     "output_type": "stream",
     "text": [
      "\r- Processing image:   3595 / 4170"
     ]
    },
    {
     "name": "stdout",
     "output_type": "stream",
     "text": [
      "\r- Processing image:   3596 / 4170"
     ]
    },
    {
     "name": "stdout",
     "output_type": "stream",
     "text": [
      "\r- Processing image:   3597 / 4170"
     ]
    },
    {
     "name": "stdout",
     "output_type": "stream",
     "text": [
      "\r- Processing image:   3598 / 4170"
     ]
    },
    {
     "name": "stdout",
     "output_type": "stream",
     "text": [
      "\r- Processing image:   3599 / 4170"
     ]
    },
    {
     "name": "stdout",
     "output_type": "stream",
     "text": [
      "\r- Processing image:   3600 / 4170"
     ]
    },
    {
     "name": "stdout",
     "output_type": "stream",
     "text": [
      "\r- Processing image:   3601 / 4170"
     ]
    },
    {
     "name": "stdout",
     "output_type": "stream",
     "text": [
      "\r- Processing image:   3602 / 4170"
     ]
    },
    {
     "name": "stdout",
     "output_type": "stream",
     "text": [
      "\r- Processing image:   3603 / 4170"
     ]
    },
    {
     "name": "stdout",
     "output_type": "stream",
     "text": [
      "\r- Processing image:   3604 / 4170"
     ]
    },
    {
     "name": "stdout",
     "output_type": "stream",
     "text": [
      "\r- Processing image:   3605 / 4170"
     ]
    },
    {
     "name": "stdout",
     "output_type": "stream",
     "text": [
      "\r- Processing image:   3606 / 4170"
     ]
    },
    {
     "name": "stdout",
     "output_type": "stream",
     "text": [
      "\r- Processing image:   3607 / 4170"
     ]
    },
    {
     "name": "stdout",
     "output_type": "stream",
     "text": [
      "\r- Processing image:   3608 / 4170"
     ]
    },
    {
     "name": "stdout",
     "output_type": "stream",
     "text": [
      "\r- Processing image:   3609 / 4170"
     ]
    },
    {
     "name": "stdout",
     "output_type": "stream",
     "text": [
      "\r- Processing image:   3610 / 4170"
     ]
    },
    {
     "name": "stdout",
     "output_type": "stream",
     "text": [
      "\r- Processing image:   3611 / 4170"
     ]
    },
    {
     "name": "stdout",
     "output_type": "stream",
     "text": [
      "\r- Processing image:   3612 / 4170"
     ]
    },
    {
     "name": "stdout",
     "output_type": "stream",
     "text": [
      "\r- Processing image:   3613 / 4170"
     ]
    },
    {
     "name": "stdout",
     "output_type": "stream",
     "text": [
      "\r- Processing image:   3614 / 4170"
     ]
    },
    {
     "name": "stdout",
     "output_type": "stream",
     "text": [
      "\r- Processing image:   3615 / 4170"
     ]
    },
    {
     "name": "stdout",
     "output_type": "stream",
     "text": [
      "\r- Processing image:   3616 / 4170"
     ]
    },
    {
     "name": "stdout",
     "output_type": "stream",
     "text": [
      "\r- Processing image:   3617 / 4170"
     ]
    },
    {
     "name": "stdout",
     "output_type": "stream",
     "text": [
      "\r- Processing image:   3618 / 4170"
     ]
    },
    {
     "name": "stdout",
     "output_type": "stream",
     "text": [
      "\r- Processing image:   3619 / 4170"
     ]
    },
    {
     "name": "stdout",
     "output_type": "stream",
     "text": [
      "\r- Processing image:   3620 / 4170"
     ]
    },
    {
     "name": "stdout",
     "output_type": "stream",
     "text": [
      "\r- Processing image:   3621 / 4170"
     ]
    },
    {
     "name": "stdout",
     "output_type": "stream",
     "text": [
      "\r- Processing image:   3622 / 4170"
     ]
    },
    {
     "name": "stdout",
     "output_type": "stream",
     "text": [
      "\r- Processing image:   3623 / 4170"
     ]
    },
    {
     "name": "stdout",
     "output_type": "stream",
     "text": [
      "\r- Processing image:   3624 / 4170"
     ]
    },
    {
     "name": "stdout",
     "output_type": "stream",
     "text": [
      "\r- Processing image:   3625 / 4170"
     ]
    },
    {
     "name": "stdout",
     "output_type": "stream",
     "text": [
      "\r- Processing image:   3626 / 4170"
     ]
    },
    {
     "name": "stdout",
     "output_type": "stream",
     "text": [
      "\r- Processing image:   3627 / 4170"
     ]
    },
    {
     "name": "stdout",
     "output_type": "stream",
     "text": [
      "\r- Processing image:   3628 / 4170"
     ]
    },
    {
     "name": "stdout",
     "output_type": "stream",
     "text": [
      "\r- Processing image:   3629 / 4170"
     ]
    },
    {
     "name": "stdout",
     "output_type": "stream",
     "text": [
      "\r- Processing image:   3630 / 4170"
     ]
    },
    {
     "name": "stdout",
     "output_type": "stream",
     "text": [
      "\r- Processing image:   3631 / 4170"
     ]
    },
    {
     "name": "stdout",
     "output_type": "stream",
     "text": [
      "\r- Processing image:   3632 / 4170"
     ]
    },
    {
     "name": "stdout",
     "output_type": "stream",
     "text": [
      "\r- Processing image:   3633 / 4170"
     ]
    },
    {
     "name": "stdout",
     "output_type": "stream",
     "text": [
      "\r- Processing image:   3634 / 4170"
     ]
    },
    {
     "name": "stdout",
     "output_type": "stream",
     "text": [
      "\r- Processing image:   3635 / 4170"
     ]
    },
    {
     "name": "stdout",
     "output_type": "stream",
     "text": [
      "\r- Processing image:   3636 / 4170"
     ]
    },
    {
     "name": "stdout",
     "output_type": "stream",
     "text": [
      "\r- Processing image:   3637 / 4170"
     ]
    },
    {
     "name": "stdout",
     "output_type": "stream",
     "text": [
      "\r- Processing image:   3638 / 4170"
     ]
    },
    {
     "name": "stdout",
     "output_type": "stream",
     "text": [
      "\r- Processing image:   3639 / 4170"
     ]
    },
    {
     "name": "stdout",
     "output_type": "stream",
     "text": [
      "\r- Processing image:   3640 / 4170"
     ]
    },
    {
     "name": "stdout",
     "output_type": "stream",
     "text": [
      "\r- Processing image:   3641 / 4170"
     ]
    },
    {
     "name": "stdout",
     "output_type": "stream",
     "text": [
      "\r- Processing image:   3642 / 4170"
     ]
    },
    {
     "name": "stdout",
     "output_type": "stream",
     "text": [
      "\r- Processing image:   3643 / 4170"
     ]
    },
    {
     "name": "stdout",
     "output_type": "stream",
     "text": [
      "\r- Processing image:   3644 / 4170"
     ]
    },
    {
     "name": "stdout",
     "output_type": "stream",
     "text": [
      "\r- Processing image:   3645 / 4170"
     ]
    },
    {
     "name": "stdout",
     "output_type": "stream",
     "text": [
      "\r- Processing image:   3646 / 4170"
     ]
    },
    {
     "name": "stdout",
     "output_type": "stream",
     "text": [
      "\r- Processing image:   3647 / 4170"
     ]
    },
    {
     "name": "stdout",
     "output_type": "stream",
     "text": [
      "\r- Processing image:   3648 / 4170"
     ]
    },
    {
     "name": "stdout",
     "output_type": "stream",
     "text": [
      "\r- Processing image:   3649 / 4170"
     ]
    },
    {
     "name": "stdout",
     "output_type": "stream",
     "text": [
      "\r- Processing image:   3650 / 4170"
     ]
    },
    {
     "name": "stdout",
     "output_type": "stream",
     "text": [
      "\r- Processing image:   3651 / 4170"
     ]
    },
    {
     "name": "stdout",
     "output_type": "stream",
     "text": [
      "\r- Processing image:   3652 / 4170"
     ]
    },
    {
     "name": "stdout",
     "output_type": "stream",
     "text": [
      "\r- Processing image:   3653 / 4170"
     ]
    },
    {
     "name": "stdout",
     "output_type": "stream",
     "text": [
      "\r- Processing image:   3654 / 4170"
     ]
    },
    {
     "name": "stdout",
     "output_type": "stream",
     "text": [
      "\r- Processing image:   3655 / 4170"
     ]
    },
    {
     "name": "stdout",
     "output_type": "stream",
     "text": [
      "\r- Processing image:   3656 / 4170"
     ]
    },
    {
     "name": "stdout",
     "output_type": "stream",
     "text": [
      "\r- Processing image:   3657 / 4170"
     ]
    },
    {
     "name": "stdout",
     "output_type": "stream",
     "text": [
      "\r- Processing image:   3658 / 4170"
     ]
    },
    {
     "name": "stdout",
     "output_type": "stream",
     "text": [
      "\r- Processing image:   3659 / 4170"
     ]
    },
    {
     "name": "stdout",
     "output_type": "stream",
     "text": [
      "\r- Processing image:   3660 / 4170"
     ]
    },
    {
     "name": "stdout",
     "output_type": "stream",
     "text": [
      "\r- Processing image:   3661 / 4170"
     ]
    },
    {
     "name": "stdout",
     "output_type": "stream",
     "text": [
      "\r- Processing image:   3662 / 4170"
     ]
    },
    {
     "name": "stdout",
     "output_type": "stream",
     "text": [
      "\r- Processing image:   3663 / 4170"
     ]
    },
    {
     "name": "stdout",
     "output_type": "stream",
     "text": [
      "\r- Processing image:   3664 / 4170"
     ]
    },
    {
     "name": "stdout",
     "output_type": "stream",
     "text": [
      "\r- Processing image:   3665 / 4170"
     ]
    },
    {
     "name": "stdout",
     "output_type": "stream",
     "text": [
      "\r- Processing image:   3666 / 4170"
     ]
    },
    {
     "name": "stdout",
     "output_type": "stream",
     "text": [
      "\r- Processing image:   3667 / 4170"
     ]
    },
    {
     "name": "stdout",
     "output_type": "stream",
     "text": [
      "\r- Processing image:   3668 / 4170"
     ]
    },
    {
     "name": "stdout",
     "output_type": "stream",
     "text": [
      "\r- Processing image:   3669 / 4170"
     ]
    },
    {
     "name": "stdout",
     "output_type": "stream",
     "text": [
      "\r- Processing image:   3670 / 4170"
     ]
    },
    {
     "name": "stdout",
     "output_type": "stream",
     "text": [
      "\r- Processing image:   3671 / 4170"
     ]
    },
    {
     "name": "stdout",
     "output_type": "stream",
     "text": [
      "\r- Processing image:   3672 / 4170"
     ]
    },
    {
     "name": "stdout",
     "output_type": "stream",
     "text": [
      "\r- Processing image:   3673 / 4170"
     ]
    },
    {
     "name": "stdout",
     "output_type": "stream",
     "text": [
      "\r- Processing image:   3674 / 4170"
     ]
    },
    {
     "name": "stdout",
     "output_type": "stream",
     "text": [
      "\r- Processing image:   3675 / 4170"
     ]
    },
    {
     "name": "stdout",
     "output_type": "stream",
     "text": [
      "\r- Processing image:   3676 / 4170"
     ]
    },
    {
     "name": "stdout",
     "output_type": "stream",
     "text": [
      "\r- Processing image:   3677 / 4170"
     ]
    },
    {
     "name": "stdout",
     "output_type": "stream",
     "text": [
      "\r- Processing image:   3678 / 4170"
     ]
    },
    {
     "name": "stdout",
     "output_type": "stream",
     "text": [
      "\r- Processing image:   3679 / 4170"
     ]
    },
    {
     "name": "stdout",
     "output_type": "stream",
     "text": [
      "\r- Processing image:   3680 / 4170"
     ]
    },
    {
     "name": "stdout",
     "output_type": "stream",
     "text": [
      "\r- Processing image:   3681 / 4170"
     ]
    },
    {
     "name": "stdout",
     "output_type": "stream",
     "text": [
      "\r- Processing image:   3682 / 4170"
     ]
    },
    {
     "name": "stdout",
     "output_type": "stream",
     "text": [
      "\r- Processing image:   3683 / 4170"
     ]
    },
    {
     "name": "stdout",
     "output_type": "stream",
     "text": [
      "\r- Processing image:   3684 / 4170"
     ]
    },
    {
     "name": "stdout",
     "output_type": "stream",
     "text": [
      "\r- Processing image:   3685 / 4170"
     ]
    },
    {
     "name": "stdout",
     "output_type": "stream",
     "text": [
      "\r- Processing image:   3686 / 4170"
     ]
    },
    {
     "name": "stdout",
     "output_type": "stream",
     "text": [
      "\r- Processing image:   3687 / 4170"
     ]
    },
    {
     "name": "stdout",
     "output_type": "stream",
     "text": [
      "\r- Processing image:   3688 / 4170"
     ]
    },
    {
     "name": "stdout",
     "output_type": "stream",
     "text": [
      "\r- Processing image:   3689 / 4170"
     ]
    },
    {
     "name": "stdout",
     "output_type": "stream",
     "text": [
      "\r- Processing image:   3690 / 4170"
     ]
    },
    {
     "name": "stdout",
     "output_type": "stream",
     "text": [
      "\r- Processing image:   3691 / 4170"
     ]
    },
    {
     "name": "stdout",
     "output_type": "stream",
     "text": [
      "\r- Processing image:   3692 / 4170"
     ]
    },
    {
     "name": "stdout",
     "output_type": "stream",
     "text": [
      "\r- Processing image:   3693 / 4170"
     ]
    },
    {
     "name": "stdout",
     "output_type": "stream",
     "text": [
      "\r- Processing image:   3694 / 4170"
     ]
    },
    {
     "name": "stdout",
     "output_type": "stream",
     "text": [
      "\r- Processing image:   3695 / 4170"
     ]
    },
    {
     "name": "stdout",
     "output_type": "stream",
     "text": [
      "\r- Processing image:   3696 / 4170"
     ]
    },
    {
     "name": "stdout",
     "output_type": "stream",
     "text": [
      "\r- Processing image:   3697 / 4170"
     ]
    },
    {
     "name": "stdout",
     "output_type": "stream",
     "text": [
      "\r- Processing image:   3698 / 4170"
     ]
    },
    {
     "name": "stdout",
     "output_type": "stream",
     "text": [
      "\r- Processing image:   3699 / 4170"
     ]
    },
    {
     "name": "stdout",
     "output_type": "stream",
     "text": [
      "\r- Processing image:   3700 / 4170"
     ]
    },
    {
     "name": "stdout",
     "output_type": "stream",
     "text": [
      "\r- Processing image:   3701 / 4170"
     ]
    },
    {
     "name": "stdout",
     "output_type": "stream",
     "text": [
      "\r- Processing image:   3702 / 4170"
     ]
    },
    {
     "name": "stdout",
     "output_type": "stream",
     "text": [
      "\r- Processing image:   3703 / 4170"
     ]
    },
    {
     "name": "stdout",
     "output_type": "stream",
     "text": [
      "\r- Processing image:   3704 / 4170"
     ]
    },
    {
     "name": "stdout",
     "output_type": "stream",
     "text": [
      "\r- Processing image:   3705 / 4170"
     ]
    },
    {
     "name": "stdout",
     "output_type": "stream",
     "text": [
      "\r- Processing image:   3706 / 4170"
     ]
    },
    {
     "name": "stdout",
     "output_type": "stream",
     "text": [
      "\r- Processing image:   3707 / 4170"
     ]
    },
    {
     "name": "stdout",
     "output_type": "stream",
     "text": [
      "\r- Processing image:   3708 / 4170"
     ]
    },
    {
     "name": "stdout",
     "output_type": "stream",
     "text": [
      "\r- Processing image:   3709 / 4170"
     ]
    },
    {
     "name": "stdout",
     "output_type": "stream",
     "text": [
      "\r- Processing image:   3710 / 4170"
     ]
    },
    {
     "name": "stdout",
     "output_type": "stream",
     "text": [
      "\r- Processing image:   3711 / 4170"
     ]
    },
    {
     "name": "stdout",
     "output_type": "stream",
     "text": [
      "\r- Processing image:   3712 / 4170"
     ]
    },
    {
     "name": "stdout",
     "output_type": "stream",
     "text": [
      "\r- Processing image:   3713 / 4170"
     ]
    },
    {
     "name": "stdout",
     "output_type": "stream",
     "text": [
      "\r- Processing image:   3714 / 4170"
     ]
    },
    {
     "name": "stdout",
     "output_type": "stream",
     "text": [
      "\r- Processing image:   3715 / 4170"
     ]
    },
    {
     "name": "stdout",
     "output_type": "stream",
     "text": [
      "\r- Processing image:   3716 / 4170"
     ]
    },
    {
     "name": "stdout",
     "output_type": "stream",
     "text": [
      "\r- Processing image:   3717 / 4170"
     ]
    },
    {
     "name": "stdout",
     "output_type": "stream",
     "text": [
      "\r- Processing image:   3718 / 4170"
     ]
    },
    {
     "name": "stdout",
     "output_type": "stream",
     "text": [
      "\r- Processing image:   3719 / 4170"
     ]
    },
    {
     "name": "stdout",
     "output_type": "stream",
     "text": [
      "\r- Processing image:   3720 / 4170"
     ]
    },
    {
     "name": "stdout",
     "output_type": "stream",
     "text": [
      "\r- Processing image:   3721 / 4170"
     ]
    },
    {
     "name": "stdout",
     "output_type": "stream",
     "text": [
      "\r- Processing image:   3722 / 4170"
     ]
    },
    {
     "name": "stdout",
     "output_type": "stream",
     "text": [
      "\r- Processing image:   3723 / 4170"
     ]
    },
    {
     "name": "stdout",
     "output_type": "stream",
     "text": [
      "\r- Processing image:   3724 / 4170"
     ]
    },
    {
     "name": "stdout",
     "output_type": "stream",
     "text": [
      "\r- Processing image:   3725 / 4170"
     ]
    },
    {
     "name": "stdout",
     "output_type": "stream",
     "text": [
      "\r- Processing image:   3726 / 4170"
     ]
    },
    {
     "name": "stdout",
     "output_type": "stream",
     "text": [
      "\r- Processing image:   3727 / 4170"
     ]
    },
    {
     "name": "stdout",
     "output_type": "stream",
     "text": [
      "\r- Processing image:   3728 / 4170"
     ]
    },
    {
     "name": "stdout",
     "output_type": "stream",
     "text": [
      "\r- Processing image:   3729 / 4170"
     ]
    },
    {
     "name": "stdout",
     "output_type": "stream",
     "text": [
      "\r- Processing image:   3730 / 4170"
     ]
    },
    {
     "name": "stdout",
     "output_type": "stream",
     "text": [
      "\r- Processing image:   3731 / 4170"
     ]
    },
    {
     "name": "stdout",
     "output_type": "stream",
     "text": [
      "\r- Processing image:   3732 / 4170"
     ]
    },
    {
     "name": "stdout",
     "output_type": "stream",
     "text": [
      "\r- Processing image:   3733 / 4170"
     ]
    },
    {
     "name": "stdout",
     "output_type": "stream",
     "text": [
      "\r- Processing image:   3734 / 4170"
     ]
    },
    {
     "name": "stdout",
     "output_type": "stream",
     "text": [
      "\r- Processing image:   3735 / 4170"
     ]
    },
    {
     "name": "stdout",
     "output_type": "stream",
     "text": [
      "\r- Processing image:   3736 / 4170"
     ]
    },
    {
     "name": "stdout",
     "output_type": "stream",
     "text": [
      "\r- Processing image:   3737 / 4170"
     ]
    },
    {
     "name": "stdout",
     "output_type": "stream",
     "text": [
      "\r- Processing image:   3738 / 4170"
     ]
    },
    {
     "name": "stdout",
     "output_type": "stream",
     "text": [
      "\r- Processing image:   3739 / 4170"
     ]
    },
    {
     "name": "stdout",
     "output_type": "stream",
     "text": [
      "\r- Processing image:   3740 / 4170"
     ]
    },
    {
     "name": "stdout",
     "output_type": "stream",
     "text": [
      "\r- Processing image:   3741 / 4170"
     ]
    },
    {
     "name": "stdout",
     "output_type": "stream",
     "text": [
      "\r- Processing image:   3742 / 4170"
     ]
    },
    {
     "name": "stdout",
     "output_type": "stream",
     "text": [
      "\r- Processing image:   3743 / 4170"
     ]
    },
    {
     "name": "stdout",
     "output_type": "stream",
     "text": [
      "\r- Processing image:   3744 / 4170"
     ]
    },
    {
     "name": "stdout",
     "output_type": "stream",
     "text": [
      "\r- Processing image:   3745 / 4170"
     ]
    },
    {
     "name": "stdout",
     "output_type": "stream",
     "text": [
      "\r- Processing image:   3746 / 4170"
     ]
    },
    {
     "name": "stdout",
     "output_type": "stream",
     "text": [
      "\r- Processing image:   3747 / 4170"
     ]
    },
    {
     "name": "stdout",
     "output_type": "stream",
     "text": [
      "\r- Processing image:   3748 / 4170"
     ]
    },
    {
     "name": "stdout",
     "output_type": "stream",
     "text": [
      "\r- Processing image:   3749 / 4170"
     ]
    },
    {
     "name": "stdout",
     "output_type": "stream",
     "text": [
      "\r- Processing image:   3750 / 4170"
     ]
    },
    {
     "name": "stdout",
     "output_type": "stream",
     "text": [
      "\r- Processing image:   3751 / 4170"
     ]
    },
    {
     "name": "stdout",
     "output_type": "stream",
     "text": [
      "\r- Processing image:   3752 / 4170"
     ]
    },
    {
     "name": "stdout",
     "output_type": "stream",
     "text": [
      "\r- Processing image:   3753 / 4170"
     ]
    },
    {
     "name": "stdout",
     "output_type": "stream",
     "text": [
      "\r- Processing image:   3754 / 4170"
     ]
    },
    {
     "name": "stdout",
     "output_type": "stream",
     "text": [
      "\r- Processing image:   3755 / 4170"
     ]
    },
    {
     "name": "stdout",
     "output_type": "stream",
     "text": [
      "\r- Processing image:   3756 / 4170"
     ]
    },
    {
     "name": "stdout",
     "output_type": "stream",
     "text": [
      "\r- Processing image:   3757 / 4170"
     ]
    },
    {
     "name": "stdout",
     "output_type": "stream",
     "text": [
      "\r- Processing image:   3758 / 4170"
     ]
    },
    {
     "name": "stdout",
     "output_type": "stream",
     "text": [
      "\r- Processing image:   3759 / 4170"
     ]
    },
    {
     "name": "stdout",
     "output_type": "stream",
     "text": [
      "\r- Processing image:   3760 / 4170"
     ]
    },
    {
     "name": "stdout",
     "output_type": "stream",
     "text": [
      "\r- Processing image:   3761 / 4170"
     ]
    },
    {
     "name": "stdout",
     "output_type": "stream",
     "text": [
      "\r- Processing image:   3762 / 4170"
     ]
    },
    {
     "name": "stdout",
     "output_type": "stream",
     "text": [
      "\r- Processing image:   3763 / 4170"
     ]
    },
    {
     "name": "stdout",
     "output_type": "stream",
     "text": [
      "\r- Processing image:   3764 / 4170"
     ]
    },
    {
     "name": "stdout",
     "output_type": "stream",
     "text": [
      "\r- Processing image:   3765 / 4170"
     ]
    },
    {
     "name": "stdout",
     "output_type": "stream",
     "text": [
      "\r- Processing image:   3766 / 4170"
     ]
    },
    {
     "name": "stdout",
     "output_type": "stream",
     "text": [
      "\r- Processing image:   3767 / 4170"
     ]
    },
    {
     "name": "stdout",
     "output_type": "stream",
     "text": [
      "\r- Processing image:   3768 / 4170"
     ]
    },
    {
     "name": "stdout",
     "output_type": "stream",
     "text": [
      "\r- Processing image:   3769 / 4170"
     ]
    },
    {
     "name": "stdout",
     "output_type": "stream",
     "text": [
      "\r- Processing image:   3770 / 4170"
     ]
    },
    {
     "name": "stdout",
     "output_type": "stream",
     "text": [
      "\r- Processing image:   3771 / 4170"
     ]
    },
    {
     "name": "stdout",
     "output_type": "stream",
     "text": [
      "\r- Processing image:   3772 / 4170"
     ]
    },
    {
     "name": "stdout",
     "output_type": "stream",
     "text": [
      "\r- Processing image:   3773 / 4170"
     ]
    },
    {
     "name": "stdout",
     "output_type": "stream",
     "text": [
      "\r- Processing image:   3774 / 4170"
     ]
    },
    {
     "name": "stdout",
     "output_type": "stream",
     "text": [
      "\r- Processing image:   3775 / 4170"
     ]
    },
    {
     "name": "stdout",
     "output_type": "stream",
     "text": [
      "\r- Processing image:   3776 / 4170"
     ]
    },
    {
     "name": "stdout",
     "output_type": "stream",
     "text": [
      "\r- Processing image:   3777 / 4170"
     ]
    },
    {
     "name": "stdout",
     "output_type": "stream",
     "text": [
      "\r- Processing image:   3778 / 4170"
     ]
    },
    {
     "name": "stdout",
     "output_type": "stream",
     "text": [
      "\r- Processing image:   3779 / 4170"
     ]
    },
    {
     "name": "stdout",
     "output_type": "stream",
     "text": [
      "\r- Processing image:   3780 / 4170"
     ]
    },
    {
     "name": "stdout",
     "output_type": "stream",
     "text": [
      "\r- Processing image:   3781 / 4170"
     ]
    },
    {
     "name": "stdout",
     "output_type": "stream",
     "text": [
      "\r- Processing image:   3782 / 4170"
     ]
    },
    {
     "name": "stdout",
     "output_type": "stream",
     "text": [
      "\r- Processing image:   3783 / 4170"
     ]
    },
    {
     "name": "stdout",
     "output_type": "stream",
     "text": [
      "\r- Processing image:   3784 / 4170"
     ]
    },
    {
     "name": "stdout",
     "output_type": "stream",
     "text": [
      "\r- Processing image:   3785 / 4170"
     ]
    },
    {
     "name": "stdout",
     "output_type": "stream",
     "text": [
      "\r- Processing image:   3786 / 4170"
     ]
    },
    {
     "name": "stdout",
     "output_type": "stream",
     "text": [
      "\r- Processing image:   3787 / 4170"
     ]
    },
    {
     "name": "stdout",
     "output_type": "stream",
     "text": [
      "\r- Processing image:   3788 / 4170"
     ]
    },
    {
     "name": "stdout",
     "output_type": "stream",
     "text": [
      "\r- Processing image:   3789 / 4170"
     ]
    },
    {
     "name": "stdout",
     "output_type": "stream",
     "text": [
      "\r- Processing image:   3790 / 4170"
     ]
    },
    {
     "name": "stdout",
     "output_type": "stream",
     "text": [
      "\r- Processing image:   3791 / 4170"
     ]
    },
    {
     "name": "stdout",
     "output_type": "stream",
     "text": [
      "\r- Processing image:   3792 / 4170"
     ]
    },
    {
     "name": "stdout",
     "output_type": "stream",
     "text": [
      "\r- Processing image:   3793 / 4170"
     ]
    },
    {
     "name": "stdout",
     "output_type": "stream",
     "text": [
      "\r- Processing image:   3794 / 4170"
     ]
    },
    {
     "name": "stdout",
     "output_type": "stream",
     "text": [
      "\r- Processing image:   3795 / 4170"
     ]
    },
    {
     "name": "stdout",
     "output_type": "stream",
     "text": [
      "\r- Processing image:   3796 / 4170"
     ]
    },
    {
     "name": "stdout",
     "output_type": "stream",
     "text": [
      "\r- Processing image:   3797 / 4170"
     ]
    },
    {
     "name": "stdout",
     "output_type": "stream",
     "text": [
      "\r- Processing image:   3798 / 4170"
     ]
    },
    {
     "name": "stdout",
     "output_type": "stream",
     "text": [
      "\r- Processing image:   3799 / 4170"
     ]
    },
    {
     "name": "stdout",
     "output_type": "stream",
     "text": [
      "\r- Processing image:   3800 / 4170"
     ]
    },
    {
     "name": "stdout",
     "output_type": "stream",
     "text": [
      "\r- Processing image:   3801 / 4170"
     ]
    },
    {
     "name": "stdout",
     "output_type": "stream",
     "text": [
      "\r- Processing image:   3802 / 4170"
     ]
    },
    {
     "name": "stdout",
     "output_type": "stream",
     "text": [
      "\r- Processing image:   3803 / 4170"
     ]
    },
    {
     "name": "stdout",
     "output_type": "stream",
     "text": [
      "\r- Processing image:   3804 / 4170"
     ]
    },
    {
     "name": "stdout",
     "output_type": "stream",
     "text": [
      "\r- Processing image:   3805 / 4170"
     ]
    },
    {
     "name": "stdout",
     "output_type": "stream",
     "text": [
      "\r- Processing image:   3806 / 4170"
     ]
    },
    {
     "name": "stdout",
     "output_type": "stream",
     "text": [
      "\r- Processing image:   3807 / 4170"
     ]
    },
    {
     "name": "stdout",
     "output_type": "stream",
     "text": [
      "\r- Processing image:   3808 / 4170"
     ]
    },
    {
     "name": "stdout",
     "output_type": "stream",
     "text": [
      "\r- Processing image:   3809 / 4170"
     ]
    },
    {
     "name": "stdout",
     "output_type": "stream",
     "text": [
      "\r- Processing image:   3810 / 4170"
     ]
    },
    {
     "name": "stdout",
     "output_type": "stream",
     "text": [
      "\r- Processing image:   3811 / 4170"
     ]
    },
    {
     "name": "stdout",
     "output_type": "stream",
     "text": [
      "\r- Processing image:   3812 / 4170"
     ]
    },
    {
     "name": "stdout",
     "output_type": "stream",
     "text": [
      "\r- Processing image:   3813 / 4170"
     ]
    },
    {
     "name": "stdout",
     "output_type": "stream",
     "text": [
      "\r- Processing image:   3814 / 4170"
     ]
    },
    {
     "name": "stdout",
     "output_type": "stream",
     "text": [
      "\r- Processing image:   3815 / 4170"
     ]
    },
    {
     "name": "stdout",
     "output_type": "stream",
     "text": [
      "\r- Processing image:   3816 / 4170"
     ]
    },
    {
     "name": "stdout",
     "output_type": "stream",
     "text": [
      "\r- Processing image:   3817 / 4170"
     ]
    },
    {
     "name": "stdout",
     "output_type": "stream",
     "text": [
      "\r- Processing image:   3818 / 4170"
     ]
    },
    {
     "name": "stdout",
     "output_type": "stream",
     "text": [
      "\r- Processing image:   3819 / 4170"
     ]
    },
    {
     "name": "stdout",
     "output_type": "stream",
     "text": [
      "\r- Processing image:   3820 / 4170"
     ]
    },
    {
     "name": "stdout",
     "output_type": "stream",
     "text": [
      "\r- Processing image:   3821 / 4170"
     ]
    },
    {
     "name": "stdout",
     "output_type": "stream",
     "text": [
      "\r- Processing image:   3822 / 4170"
     ]
    },
    {
     "name": "stdout",
     "output_type": "stream",
     "text": [
      "\r- Processing image:   3823 / 4170"
     ]
    },
    {
     "name": "stdout",
     "output_type": "stream",
     "text": [
      "\r- Processing image:   3824 / 4170"
     ]
    },
    {
     "name": "stdout",
     "output_type": "stream",
     "text": [
      "\r- Processing image:   3825 / 4170"
     ]
    },
    {
     "name": "stdout",
     "output_type": "stream",
     "text": [
      "\r- Processing image:   3826 / 4170"
     ]
    },
    {
     "name": "stdout",
     "output_type": "stream",
     "text": [
      "\r- Processing image:   3827 / 4170"
     ]
    },
    {
     "name": "stdout",
     "output_type": "stream",
     "text": [
      "\r- Processing image:   3828 / 4170"
     ]
    },
    {
     "name": "stdout",
     "output_type": "stream",
     "text": [
      "\r- Processing image:   3829 / 4170"
     ]
    },
    {
     "name": "stdout",
     "output_type": "stream",
     "text": [
      "\r- Processing image:   3830 / 4170"
     ]
    },
    {
     "name": "stdout",
     "output_type": "stream",
     "text": [
      "\r- Processing image:   3831 / 4170"
     ]
    },
    {
     "name": "stdout",
     "output_type": "stream",
     "text": [
      "\r- Processing image:   3832 / 4170"
     ]
    },
    {
     "name": "stdout",
     "output_type": "stream",
     "text": [
      "\r- Processing image:   3833 / 4170"
     ]
    },
    {
     "name": "stdout",
     "output_type": "stream",
     "text": [
      "\r- Processing image:   3834 / 4170"
     ]
    },
    {
     "name": "stdout",
     "output_type": "stream",
     "text": [
      "\r- Processing image:   3835 / 4170"
     ]
    },
    {
     "name": "stdout",
     "output_type": "stream",
     "text": [
      "\r- Processing image:   3836 / 4170"
     ]
    },
    {
     "name": "stdout",
     "output_type": "stream",
     "text": [
      "\r- Processing image:   3837 / 4170"
     ]
    },
    {
     "name": "stdout",
     "output_type": "stream",
     "text": [
      "\r- Processing image:   3838 / 4170"
     ]
    },
    {
     "name": "stdout",
     "output_type": "stream",
     "text": [
      "\r- Processing image:   3839 / 4170"
     ]
    },
    {
     "name": "stdout",
     "output_type": "stream",
     "text": [
      "\r- Processing image:   3840 / 4170"
     ]
    },
    {
     "name": "stdout",
     "output_type": "stream",
     "text": [
      "\r- Processing image:   3841 / 4170"
     ]
    },
    {
     "name": "stdout",
     "output_type": "stream",
     "text": [
      "\r- Processing image:   3842 / 4170"
     ]
    },
    {
     "name": "stdout",
     "output_type": "stream",
     "text": [
      "\r- Processing image:   3843 / 4170"
     ]
    },
    {
     "name": "stdout",
     "output_type": "stream",
     "text": [
      "\r- Processing image:   3844 / 4170"
     ]
    },
    {
     "name": "stdout",
     "output_type": "stream",
     "text": [
      "\r- Processing image:   3845 / 4170"
     ]
    },
    {
     "name": "stdout",
     "output_type": "stream",
     "text": [
      "\r- Processing image:   3846 / 4170"
     ]
    },
    {
     "name": "stdout",
     "output_type": "stream",
     "text": [
      "\r- Processing image:   3847 / 4170"
     ]
    },
    {
     "name": "stdout",
     "output_type": "stream",
     "text": [
      "\r- Processing image:   3848 / 4170"
     ]
    },
    {
     "name": "stdout",
     "output_type": "stream",
     "text": [
      "\r- Processing image:   3849 / 4170"
     ]
    },
    {
     "name": "stdout",
     "output_type": "stream",
     "text": [
      "\r- Processing image:   3850 / 4170"
     ]
    },
    {
     "name": "stdout",
     "output_type": "stream",
     "text": [
      "\r- Processing image:   3851 / 4170"
     ]
    },
    {
     "name": "stdout",
     "output_type": "stream",
     "text": [
      "\r- Processing image:   3852 / 4170"
     ]
    },
    {
     "name": "stdout",
     "output_type": "stream",
     "text": [
      "\r- Processing image:   3853 / 4170"
     ]
    },
    {
     "name": "stdout",
     "output_type": "stream",
     "text": [
      "\r- Processing image:   3854 / 4170"
     ]
    },
    {
     "name": "stdout",
     "output_type": "stream",
     "text": [
      "\r- Processing image:   3855 / 4170"
     ]
    },
    {
     "name": "stdout",
     "output_type": "stream",
     "text": [
      "\r- Processing image:   3856 / 4170"
     ]
    },
    {
     "name": "stdout",
     "output_type": "stream",
     "text": [
      "\r- Processing image:   3857 / 4170"
     ]
    },
    {
     "name": "stdout",
     "output_type": "stream",
     "text": [
      "\r- Processing image:   3858 / 4170"
     ]
    },
    {
     "name": "stdout",
     "output_type": "stream",
     "text": [
      "\r- Processing image:   3859 / 4170"
     ]
    },
    {
     "name": "stdout",
     "output_type": "stream",
     "text": [
      "\r- Processing image:   3860 / 4170"
     ]
    },
    {
     "name": "stdout",
     "output_type": "stream",
     "text": [
      "\r- Processing image:   3861 / 4170"
     ]
    },
    {
     "name": "stdout",
     "output_type": "stream",
     "text": [
      "\r- Processing image:   3862 / 4170"
     ]
    },
    {
     "name": "stdout",
     "output_type": "stream",
     "text": [
      "\r- Processing image:   3863 / 4170"
     ]
    },
    {
     "name": "stdout",
     "output_type": "stream",
     "text": [
      "\r- Processing image:   3864 / 4170"
     ]
    },
    {
     "name": "stdout",
     "output_type": "stream",
     "text": [
      "\r- Processing image:   3865 / 4170"
     ]
    },
    {
     "name": "stdout",
     "output_type": "stream",
     "text": [
      "\r- Processing image:   3866 / 4170"
     ]
    },
    {
     "name": "stdout",
     "output_type": "stream",
     "text": [
      "\r- Processing image:   3867 / 4170"
     ]
    },
    {
     "name": "stdout",
     "output_type": "stream",
     "text": [
      "\r- Processing image:   3868 / 4170"
     ]
    },
    {
     "name": "stdout",
     "output_type": "stream",
     "text": [
      "\r- Processing image:   3869 / 4170"
     ]
    },
    {
     "name": "stdout",
     "output_type": "stream",
     "text": [
      "\r- Processing image:   3870 / 4170"
     ]
    },
    {
     "name": "stdout",
     "output_type": "stream",
     "text": [
      "\r- Processing image:   3871 / 4170"
     ]
    },
    {
     "name": "stdout",
     "output_type": "stream",
     "text": [
      "\r- Processing image:   3872 / 4170"
     ]
    },
    {
     "name": "stdout",
     "output_type": "stream",
     "text": [
      "\r- Processing image:   3873 / 4170"
     ]
    },
    {
     "name": "stdout",
     "output_type": "stream",
     "text": [
      "\r- Processing image:   3874 / 4170"
     ]
    },
    {
     "name": "stdout",
     "output_type": "stream",
     "text": [
      "\r- Processing image:   3875 / 4170"
     ]
    },
    {
     "name": "stdout",
     "output_type": "stream",
     "text": [
      "\r- Processing image:   3876 / 4170"
     ]
    },
    {
     "name": "stdout",
     "output_type": "stream",
     "text": [
      "\r- Processing image:   3877 / 4170"
     ]
    },
    {
     "name": "stdout",
     "output_type": "stream",
     "text": [
      "\r- Processing image:   3878 / 4170"
     ]
    },
    {
     "name": "stdout",
     "output_type": "stream",
     "text": [
      "\r- Processing image:   3879 / 4170"
     ]
    },
    {
     "name": "stdout",
     "output_type": "stream",
     "text": [
      "\r- Processing image:   3880 / 4170"
     ]
    },
    {
     "name": "stdout",
     "output_type": "stream",
     "text": [
      "\r- Processing image:   3881 / 4170"
     ]
    },
    {
     "name": "stdout",
     "output_type": "stream",
     "text": [
      "\r- Processing image:   3882 / 4170"
     ]
    },
    {
     "name": "stdout",
     "output_type": "stream",
     "text": [
      "\r- Processing image:   3883 / 4170"
     ]
    },
    {
     "name": "stdout",
     "output_type": "stream",
     "text": [
      "\r- Processing image:   3884 / 4170"
     ]
    },
    {
     "name": "stdout",
     "output_type": "stream",
     "text": [
      "\r- Processing image:   3885 / 4170"
     ]
    },
    {
     "name": "stdout",
     "output_type": "stream",
     "text": [
      "\r- Processing image:   3886 / 4170"
     ]
    },
    {
     "name": "stdout",
     "output_type": "stream",
     "text": [
      "\r- Processing image:   3887 / 4170"
     ]
    },
    {
     "name": "stdout",
     "output_type": "stream",
     "text": [
      "\r- Processing image:   3888 / 4170"
     ]
    },
    {
     "name": "stdout",
     "output_type": "stream",
     "text": [
      "\r- Processing image:   3889 / 4170"
     ]
    },
    {
     "name": "stdout",
     "output_type": "stream",
     "text": [
      "\r- Processing image:   3890 / 4170"
     ]
    },
    {
     "name": "stdout",
     "output_type": "stream",
     "text": [
      "\r- Processing image:   3891 / 4170"
     ]
    },
    {
     "name": "stdout",
     "output_type": "stream",
     "text": [
      "\r- Processing image:   3892 / 4170"
     ]
    },
    {
     "name": "stdout",
     "output_type": "stream",
     "text": [
      "\r- Processing image:   3893 / 4170"
     ]
    },
    {
     "name": "stdout",
     "output_type": "stream",
     "text": [
      "\r- Processing image:   3894 / 4170"
     ]
    },
    {
     "name": "stdout",
     "output_type": "stream",
     "text": [
      "\r- Processing image:   3895 / 4170"
     ]
    },
    {
     "name": "stdout",
     "output_type": "stream",
     "text": [
      "\r- Processing image:   3896 / 4170"
     ]
    },
    {
     "name": "stdout",
     "output_type": "stream",
     "text": [
      "\r- Processing image:   3897 / 4170"
     ]
    },
    {
     "name": "stdout",
     "output_type": "stream",
     "text": [
      "\r- Processing image:   3898 / 4170"
     ]
    },
    {
     "name": "stdout",
     "output_type": "stream",
     "text": [
      "\r- Processing image:   3899 / 4170"
     ]
    },
    {
     "name": "stdout",
     "output_type": "stream",
     "text": [
      "\r- Processing image:   3900 / 4170"
     ]
    },
    {
     "name": "stdout",
     "output_type": "stream",
     "text": [
      "\r- Processing image:   3901 / 4170"
     ]
    },
    {
     "name": "stdout",
     "output_type": "stream",
     "text": [
      "\r- Processing image:   3902 / 4170"
     ]
    },
    {
     "name": "stdout",
     "output_type": "stream",
     "text": [
      "\r- Processing image:   3903 / 4170"
     ]
    },
    {
     "name": "stdout",
     "output_type": "stream",
     "text": [
      "\r- Processing image:   3904 / 4170"
     ]
    },
    {
     "name": "stdout",
     "output_type": "stream",
     "text": [
      "\r- Processing image:   3905 / 4170"
     ]
    },
    {
     "name": "stdout",
     "output_type": "stream",
     "text": [
      "\r- Processing image:   3906 / 4170"
     ]
    },
    {
     "name": "stdout",
     "output_type": "stream",
     "text": [
      "\r- Processing image:   3907 / 4170"
     ]
    },
    {
     "name": "stdout",
     "output_type": "stream",
     "text": [
      "\r- Processing image:   3908 / 4170"
     ]
    },
    {
     "name": "stdout",
     "output_type": "stream",
     "text": [
      "\r- Processing image:   3909 / 4170"
     ]
    },
    {
     "name": "stdout",
     "output_type": "stream",
     "text": [
      "\r- Processing image:   3910 / 4170"
     ]
    },
    {
     "name": "stdout",
     "output_type": "stream",
     "text": [
      "\r- Processing image:   3911 / 4170"
     ]
    },
    {
     "name": "stdout",
     "output_type": "stream",
     "text": [
      "\r- Processing image:   3912 / 4170"
     ]
    },
    {
     "name": "stdout",
     "output_type": "stream",
     "text": [
      "\r- Processing image:   3913 / 4170"
     ]
    },
    {
     "name": "stdout",
     "output_type": "stream",
     "text": [
      "\r- Processing image:   3914 / 4170"
     ]
    },
    {
     "name": "stdout",
     "output_type": "stream",
     "text": [
      "\r- Processing image:   3915 / 4170"
     ]
    },
    {
     "name": "stdout",
     "output_type": "stream",
     "text": [
      "\r- Processing image:   3916 / 4170"
     ]
    },
    {
     "name": "stdout",
     "output_type": "stream",
     "text": [
      "\r- Processing image:   3917 / 4170"
     ]
    },
    {
     "name": "stdout",
     "output_type": "stream",
     "text": [
      "\r- Processing image:   3918 / 4170"
     ]
    },
    {
     "name": "stdout",
     "output_type": "stream",
     "text": [
      "\r- Processing image:   3919 / 4170"
     ]
    },
    {
     "name": "stdout",
     "output_type": "stream",
     "text": [
      "\r- Processing image:   3920 / 4170"
     ]
    },
    {
     "name": "stdout",
     "output_type": "stream",
     "text": [
      "\r- Processing image:   3921 / 4170"
     ]
    },
    {
     "name": "stdout",
     "output_type": "stream",
     "text": [
      "\r- Processing image:   3922 / 4170"
     ]
    },
    {
     "name": "stdout",
     "output_type": "stream",
     "text": [
      "\r- Processing image:   3923 / 4170"
     ]
    },
    {
     "name": "stdout",
     "output_type": "stream",
     "text": [
      "\r- Processing image:   3924 / 4170"
     ]
    },
    {
     "name": "stdout",
     "output_type": "stream",
     "text": [
      "\r- Processing image:   3925 / 4170"
     ]
    },
    {
     "name": "stdout",
     "output_type": "stream",
     "text": [
      "\r- Processing image:   3926 / 4170"
     ]
    },
    {
     "name": "stdout",
     "output_type": "stream",
     "text": [
      "\r- Processing image:   3927 / 4170"
     ]
    },
    {
     "name": "stdout",
     "output_type": "stream",
     "text": [
      "\r- Processing image:   3928 / 4170"
     ]
    },
    {
     "name": "stdout",
     "output_type": "stream",
     "text": [
      "\r- Processing image:   3929 / 4170"
     ]
    },
    {
     "name": "stdout",
     "output_type": "stream",
     "text": [
      "\r- Processing image:   3930 / 4170"
     ]
    },
    {
     "name": "stdout",
     "output_type": "stream",
     "text": [
      "\r- Processing image:   3931 / 4170"
     ]
    },
    {
     "name": "stdout",
     "output_type": "stream",
     "text": [
      "\r- Processing image:   3932 / 4170"
     ]
    },
    {
     "name": "stdout",
     "output_type": "stream",
     "text": [
      "\r- Processing image:   3933 / 4170"
     ]
    },
    {
     "name": "stdout",
     "output_type": "stream",
     "text": [
      "\r- Processing image:   3934 / 4170"
     ]
    },
    {
     "name": "stdout",
     "output_type": "stream",
     "text": [
      "\r- Processing image:   3935 / 4170"
     ]
    },
    {
     "name": "stdout",
     "output_type": "stream",
     "text": [
      "\r- Processing image:   3936 / 4170"
     ]
    },
    {
     "name": "stdout",
     "output_type": "stream",
     "text": [
      "\r- Processing image:   3937 / 4170"
     ]
    },
    {
     "name": "stdout",
     "output_type": "stream",
     "text": [
      "\r- Processing image:   3938 / 4170"
     ]
    },
    {
     "name": "stdout",
     "output_type": "stream",
     "text": [
      "\r- Processing image:   3939 / 4170"
     ]
    },
    {
     "name": "stdout",
     "output_type": "stream",
     "text": [
      "\r- Processing image:   3940 / 4170"
     ]
    },
    {
     "name": "stdout",
     "output_type": "stream",
     "text": [
      "\r- Processing image:   3941 / 4170"
     ]
    },
    {
     "name": "stdout",
     "output_type": "stream",
     "text": [
      "\r- Processing image:   3942 / 4170"
     ]
    },
    {
     "name": "stdout",
     "output_type": "stream",
     "text": [
      "\r- Processing image:   3943 / 4170"
     ]
    },
    {
     "name": "stdout",
     "output_type": "stream",
     "text": [
      "\r- Processing image:   3944 / 4170"
     ]
    },
    {
     "name": "stdout",
     "output_type": "stream",
     "text": [
      "\r- Processing image:   3945 / 4170"
     ]
    },
    {
     "name": "stdout",
     "output_type": "stream",
     "text": [
      "\r- Processing image:   3946 / 4170"
     ]
    },
    {
     "name": "stdout",
     "output_type": "stream",
     "text": [
      "\r- Processing image:   3947 / 4170"
     ]
    },
    {
     "name": "stdout",
     "output_type": "stream",
     "text": [
      "\r- Processing image:   3948 / 4170"
     ]
    },
    {
     "name": "stdout",
     "output_type": "stream",
     "text": [
      "\r- Processing image:   3949 / 4170"
     ]
    },
    {
     "name": "stdout",
     "output_type": "stream",
     "text": [
      "\r- Processing image:   3950 / 4170"
     ]
    },
    {
     "name": "stdout",
     "output_type": "stream",
     "text": [
      "\r- Processing image:   3951 / 4170"
     ]
    },
    {
     "name": "stdout",
     "output_type": "stream",
     "text": [
      "\r- Processing image:   3952 / 4170"
     ]
    },
    {
     "name": "stdout",
     "output_type": "stream",
     "text": [
      "\r- Processing image:   3953 / 4170"
     ]
    },
    {
     "name": "stdout",
     "output_type": "stream",
     "text": [
      "\r- Processing image:   3954 / 4170"
     ]
    },
    {
     "name": "stdout",
     "output_type": "stream",
     "text": [
      "\r- Processing image:   3955 / 4170"
     ]
    },
    {
     "name": "stdout",
     "output_type": "stream",
     "text": [
      "\r- Processing image:   3956 / 4170"
     ]
    },
    {
     "name": "stdout",
     "output_type": "stream",
     "text": [
      "\r- Processing image:   3957 / 4170"
     ]
    },
    {
     "name": "stdout",
     "output_type": "stream",
     "text": [
      "\r- Processing image:   3958 / 4170"
     ]
    },
    {
     "name": "stdout",
     "output_type": "stream",
     "text": [
      "\r- Processing image:   3959 / 4170"
     ]
    },
    {
     "name": "stdout",
     "output_type": "stream",
     "text": [
      "\r- Processing image:   3960 / 4170"
     ]
    },
    {
     "name": "stdout",
     "output_type": "stream",
     "text": [
      "\r- Processing image:   3961 / 4170"
     ]
    },
    {
     "name": "stdout",
     "output_type": "stream",
     "text": [
      "\r- Processing image:   3962 / 4170"
     ]
    },
    {
     "name": "stdout",
     "output_type": "stream",
     "text": [
      "\r- Processing image:   3963 / 4170"
     ]
    },
    {
     "name": "stdout",
     "output_type": "stream",
     "text": [
      "\r- Processing image:   3964 / 4170"
     ]
    },
    {
     "name": "stdout",
     "output_type": "stream",
     "text": [
      "\r- Processing image:   3965 / 4170"
     ]
    },
    {
     "name": "stdout",
     "output_type": "stream",
     "text": [
      "\r- Processing image:   3966 / 4170"
     ]
    },
    {
     "name": "stdout",
     "output_type": "stream",
     "text": [
      "\r- Processing image:   3967 / 4170"
     ]
    },
    {
     "name": "stdout",
     "output_type": "stream",
     "text": [
      "\r- Processing image:   3968 / 4170"
     ]
    },
    {
     "name": "stdout",
     "output_type": "stream",
     "text": [
      "\r- Processing image:   3969 / 4170"
     ]
    },
    {
     "name": "stdout",
     "output_type": "stream",
     "text": [
      "\r- Processing image:   3970 / 4170"
     ]
    },
    {
     "name": "stdout",
     "output_type": "stream",
     "text": [
      "\r- Processing image:   3971 / 4170"
     ]
    },
    {
     "name": "stdout",
     "output_type": "stream",
     "text": [
      "\r- Processing image:   3972 / 4170"
     ]
    },
    {
     "name": "stdout",
     "output_type": "stream",
     "text": [
      "\r- Processing image:   3973 / 4170"
     ]
    },
    {
     "name": "stdout",
     "output_type": "stream",
     "text": [
      "\r- Processing image:   3974 / 4170"
     ]
    },
    {
     "name": "stdout",
     "output_type": "stream",
     "text": [
      "\r- Processing image:   3975 / 4170"
     ]
    },
    {
     "name": "stdout",
     "output_type": "stream",
     "text": [
      "\r- Processing image:   3976 / 4170"
     ]
    },
    {
     "name": "stdout",
     "output_type": "stream",
     "text": [
      "\r- Processing image:   3977 / 4170"
     ]
    },
    {
     "name": "stdout",
     "output_type": "stream",
     "text": [
      "\r- Processing image:   3978 / 4170"
     ]
    },
    {
     "name": "stdout",
     "output_type": "stream",
     "text": [
      "\r- Processing image:   3979 / 4170"
     ]
    },
    {
     "name": "stdout",
     "output_type": "stream",
     "text": [
      "\r- Processing image:   3980 / 4170"
     ]
    },
    {
     "name": "stdout",
     "output_type": "stream",
     "text": [
      "\r- Processing image:   3981 / 4170"
     ]
    },
    {
     "name": "stdout",
     "output_type": "stream",
     "text": [
      "\r- Processing image:   3982 / 4170"
     ]
    },
    {
     "name": "stdout",
     "output_type": "stream",
     "text": [
      "\r- Processing image:   3983 / 4170"
     ]
    },
    {
     "name": "stdout",
     "output_type": "stream",
     "text": [
      "\r- Processing image:   3984 / 4170"
     ]
    },
    {
     "name": "stdout",
     "output_type": "stream",
     "text": [
      "\r- Processing image:   3985 / 4170"
     ]
    },
    {
     "name": "stdout",
     "output_type": "stream",
     "text": [
      "\r- Processing image:   3986 / 4170"
     ]
    },
    {
     "name": "stdout",
     "output_type": "stream",
     "text": [
      "\r- Processing image:   3987 / 4170"
     ]
    },
    {
     "name": "stdout",
     "output_type": "stream",
     "text": [
      "\r- Processing image:   3988 / 4170"
     ]
    },
    {
     "name": "stdout",
     "output_type": "stream",
     "text": [
      "\r- Processing image:   3989 / 4170"
     ]
    },
    {
     "name": "stdout",
     "output_type": "stream",
     "text": [
      "\r- Processing image:   3990 / 4170"
     ]
    },
    {
     "name": "stdout",
     "output_type": "stream",
     "text": [
      "\r- Processing image:   3991 / 4170"
     ]
    },
    {
     "name": "stdout",
     "output_type": "stream",
     "text": [
      "\r- Processing image:   3992 / 4170"
     ]
    },
    {
     "name": "stdout",
     "output_type": "stream",
     "text": [
      "\r- Processing image:   3993 / 4170"
     ]
    },
    {
     "name": "stdout",
     "output_type": "stream",
     "text": [
      "\r- Processing image:   3994 / 4170"
     ]
    },
    {
     "name": "stdout",
     "output_type": "stream",
     "text": [
      "\r- Processing image:   3995 / 4170"
     ]
    },
    {
     "name": "stdout",
     "output_type": "stream",
     "text": [
      "\r- Processing image:   3996 / 4170"
     ]
    },
    {
     "name": "stdout",
     "output_type": "stream",
     "text": [
      "\r- Processing image:   3997 / 4170"
     ]
    },
    {
     "name": "stdout",
     "output_type": "stream",
     "text": [
      "\r- Processing image:   3998 / 4170"
     ]
    },
    {
     "name": "stdout",
     "output_type": "stream",
     "text": [
      "\r- Processing image:   3999 / 4170"
     ]
    },
    {
     "name": "stdout",
     "output_type": "stream",
     "text": [
      "\r- Processing image:   4000 / 4170"
     ]
    },
    {
     "name": "stdout",
     "output_type": "stream",
     "text": [
      "\r- Processing image:   4001 / 4170"
     ]
    },
    {
     "name": "stdout",
     "output_type": "stream",
     "text": [
      "\r- Processing image:   4002 / 4170"
     ]
    },
    {
     "name": "stdout",
     "output_type": "stream",
     "text": [
      "\r- Processing image:   4003 / 4170"
     ]
    },
    {
     "name": "stdout",
     "output_type": "stream",
     "text": [
      "\r- Processing image:   4004 / 4170"
     ]
    },
    {
     "name": "stdout",
     "output_type": "stream",
     "text": [
      "\r- Processing image:   4005 / 4170"
     ]
    },
    {
     "name": "stdout",
     "output_type": "stream",
     "text": [
      "\r- Processing image:   4006 / 4170"
     ]
    },
    {
     "name": "stdout",
     "output_type": "stream",
     "text": [
      "\r- Processing image:   4007 / 4170"
     ]
    },
    {
     "name": "stdout",
     "output_type": "stream",
     "text": [
      "\r- Processing image:   4008 / 4170"
     ]
    },
    {
     "name": "stdout",
     "output_type": "stream",
     "text": [
      "\r- Processing image:   4009 / 4170"
     ]
    },
    {
     "name": "stdout",
     "output_type": "stream",
     "text": [
      "\r- Processing image:   4010 / 4170"
     ]
    },
    {
     "name": "stdout",
     "output_type": "stream",
     "text": [
      "\r- Processing image:   4011 / 4170"
     ]
    },
    {
     "name": "stdout",
     "output_type": "stream",
     "text": [
      "\r- Processing image:   4012 / 4170"
     ]
    },
    {
     "name": "stdout",
     "output_type": "stream",
     "text": [
      "\r- Processing image:   4013 / 4170"
     ]
    },
    {
     "name": "stdout",
     "output_type": "stream",
     "text": [
      "\r- Processing image:   4014 / 4170"
     ]
    },
    {
     "name": "stdout",
     "output_type": "stream",
     "text": [
      "\r- Processing image:   4015 / 4170"
     ]
    },
    {
     "name": "stdout",
     "output_type": "stream",
     "text": [
      "\r- Processing image:   4016 / 4170"
     ]
    },
    {
     "name": "stdout",
     "output_type": "stream",
     "text": [
      "\r- Processing image:   4017 / 4170"
     ]
    },
    {
     "name": "stdout",
     "output_type": "stream",
     "text": [
      "\r- Processing image:   4018 / 4170"
     ]
    },
    {
     "name": "stdout",
     "output_type": "stream",
     "text": [
      "\r- Processing image:   4019 / 4170"
     ]
    },
    {
     "name": "stdout",
     "output_type": "stream",
     "text": [
      "\r- Processing image:   4020 / 4170"
     ]
    },
    {
     "name": "stdout",
     "output_type": "stream",
     "text": [
      "\r- Processing image:   4021 / 4170"
     ]
    },
    {
     "name": "stdout",
     "output_type": "stream",
     "text": [
      "\r- Processing image:   4022 / 4170"
     ]
    },
    {
     "name": "stdout",
     "output_type": "stream",
     "text": [
      "\r- Processing image:   4023 / 4170"
     ]
    },
    {
     "name": "stdout",
     "output_type": "stream",
     "text": [
      "\r- Processing image:   4024 / 4170"
     ]
    },
    {
     "name": "stdout",
     "output_type": "stream",
     "text": [
      "\r- Processing image:   4025 / 4170"
     ]
    },
    {
     "name": "stdout",
     "output_type": "stream",
     "text": [
      "\r- Processing image:   4026 / 4170"
     ]
    },
    {
     "name": "stdout",
     "output_type": "stream",
     "text": [
      "\r- Processing image:   4027 / 4170"
     ]
    },
    {
     "name": "stdout",
     "output_type": "stream",
     "text": [
      "\r- Processing image:   4028 / 4170"
     ]
    },
    {
     "name": "stdout",
     "output_type": "stream",
     "text": [
      "\r- Processing image:   4029 / 4170"
     ]
    },
    {
     "name": "stdout",
     "output_type": "stream",
     "text": [
      "\r- Processing image:   4030 / 4170"
     ]
    },
    {
     "name": "stdout",
     "output_type": "stream",
     "text": [
      "\r- Processing image:   4031 / 4170"
     ]
    },
    {
     "name": "stdout",
     "output_type": "stream",
     "text": [
      "\r- Processing image:   4032 / 4170"
     ]
    },
    {
     "name": "stdout",
     "output_type": "stream",
     "text": [
      "\r- Processing image:   4033 / 4170"
     ]
    },
    {
     "name": "stdout",
     "output_type": "stream",
     "text": [
      "\r- Processing image:   4034 / 4170"
     ]
    },
    {
     "name": "stdout",
     "output_type": "stream",
     "text": [
      "\r- Processing image:   4035 / 4170"
     ]
    },
    {
     "name": "stdout",
     "output_type": "stream",
     "text": [
      "\r- Processing image:   4036 / 4170"
     ]
    },
    {
     "name": "stdout",
     "output_type": "stream",
     "text": [
      "\r- Processing image:   4037 / 4170"
     ]
    },
    {
     "name": "stdout",
     "output_type": "stream",
     "text": [
      "\r- Processing image:   4038 / 4170"
     ]
    },
    {
     "name": "stdout",
     "output_type": "stream",
     "text": [
      "\r- Processing image:   4039 / 4170"
     ]
    },
    {
     "name": "stdout",
     "output_type": "stream",
     "text": [
      "\r- Processing image:   4040 / 4170"
     ]
    },
    {
     "name": "stdout",
     "output_type": "stream",
     "text": [
      "\r- Processing image:   4041 / 4170"
     ]
    },
    {
     "name": "stdout",
     "output_type": "stream",
     "text": [
      "\r- Processing image:   4042 / 4170"
     ]
    },
    {
     "name": "stdout",
     "output_type": "stream",
     "text": [
      "\r- Processing image:   4043 / 4170"
     ]
    },
    {
     "name": "stdout",
     "output_type": "stream",
     "text": [
      "\r- Processing image:   4044 / 4170"
     ]
    },
    {
     "name": "stdout",
     "output_type": "stream",
     "text": [
      "\r- Processing image:   4045 / 4170"
     ]
    },
    {
     "name": "stdout",
     "output_type": "stream",
     "text": [
      "\r- Processing image:   4046 / 4170"
     ]
    },
    {
     "name": "stdout",
     "output_type": "stream",
     "text": [
      "\r- Processing image:   4047 / 4170"
     ]
    },
    {
     "name": "stdout",
     "output_type": "stream",
     "text": [
      "\r- Processing image:   4048 / 4170"
     ]
    },
    {
     "name": "stdout",
     "output_type": "stream",
     "text": [
      "\r- Processing image:   4049 / 4170"
     ]
    },
    {
     "name": "stdout",
     "output_type": "stream",
     "text": [
      "\r- Processing image:   4050 / 4170"
     ]
    },
    {
     "name": "stdout",
     "output_type": "stream",
     "text": [
      "\r- Processing image:   4051 / 4170"
     ]
    },
    {
     "name": "stdout",
     "output_type": "stream",
     "text": [
      "\r- Processing image:   4052 / 4170"
     ]
    },
    {
     "name": "stdout",
     "output_type": "stream",
     "text": [
      "\r- Processing image:   4053 / 4170"
     ]
    },
    {
     "name": "stdout",
     "output_type": "stream",
     "text": [
      "\r- Processing image:   4054 / 4170"
     ]
    },
    {
     "name": "stdout",
     "output_type": "stream",
     "text": [
      "\r- Processing image:   4055 / 4170"
     ]
    },
    {
     "name": "stdout",
     "output_type": "stream",
     "text": [
      "\r- Processing image:   4056 / 4170"
     ]
    },
    {
     "name": "stdout",
     "output_type": "stream",
     "text": [
      "\r- Processing image:   4057 / 4170"
     ]
    },
    {
     "name": "stdout",
     "output_type": "stream",
     "text": [
      "\r- Processing image:   4058 / 4170"
     ]
    },
    {
     "name": "stdout",
     "output_type": "stream",
     "text": [
      "\r- Processing image:   4059 / 4170"
     ]
    },
    {
     "name": "stdout",
     "output_type": "stream",
     "text": [
      "\r- Processing image:   4060 / 4170"
     ]
    },
    {
     "name": "stdout",
     "output_type": "stream",
     "text": [
      "\r- Processing image:   4061 / 4170"
     ]
    },
    {
     "name": "stdout",
     "output_type": "stream",
     "text": [
      "\r- Processing image:   4062 / 4170"
     ]
    },
    {
     "name": "stdout",
     "output_type": "stream",
     "text": [
      "\r- Processing image:   4063 / 4170"
     ]
    },
    {
     "name": "stdout",
     "output_type": "stream",
     "text": [
      "\r- Processing image:   4064 / 4170"
     ]
    },
    {
     "name": "stdout",
     "output_type": "stream",
     "text": [
      "\r- Processing image:   4065 / 4170"
     ]
    },
    {
     "name": "stdout",
     "output_type": "stream",
     "text": [
      "\r- Processing image:   4066 / 4170"
     ]
    },
    {
     "name": "stdout",
     "output_type": "stream",
     "text": [
      "\r- Processing image:   4067 / 4170"
     ]
    },
    {
     "name": "stdout",
     "output_type": "stream",
     "text": [
      "\r- Processing image:   4068 / 4170"
     ]
    },
    {
     "name": "stdout",
     "output_type": "stream",
     "text": [
      "\r- Processing image:   4069 / 4170"
     ]
    },
    {
     "name": "stdout",
     "output_type": "stream",
     "text": [
      "\r- Processing image:   4070 / 4170"
     ]
    },
    {
     "name": "stdout",
     "output_type": "stream",
     "text": [
      "\r- Processing image:   4071 / 4170"
     ]
    },
    {
     "name": "stdout",
     "output_type": "stream",
     "text": [
      "\r- Processing image:   4072 / 4170"
     ]
    },
    {
     "name": "stdout",
     "output_type": "stream",
     "text": [
      "\r- Processing image:   4073 / 4170"
     ]
    },
    {
     "name": "stdout",
     "output_type": "stream",
     "text": [
      "\r- Processing image:   4074 / 4170"
     ]
    },
    {
     "name": "stdout",
     "output_type": "stream",
     "text": [
      "\r- Processing image:   4075 / 4170"
     ]
    },
    {
     "name": "stdout",
     "output_type": "stream",
     "text": [
      "\r- Processing image:   4076 / 4170"
     ]
    },
    {
     "name": "stdout",
     "output_type": "stream",
     "text": [
      "\r- Processing image:   4077 / 4170"
     ]
    },
    {
     "name": "stdout",
     "output_type": "stream",
     "text": [
      "\r- Processing image:   4078 / 4170"
     ]
    },
    {
     "name": "stdout",
     "output_type": "stream",
     "text": [
      "\r- Processing image:   4079 / 4170"
     ]
    },
    {
     "name": "stdout",
     "output_type": "stream",
     "text": [
      "\r- Processing image:   4080 / 4170"
     ]
    },
    {
     "name": "stdout",
     "output_type": "stream",
     "text": [
      "\r- Processing image:   4081 / 4170"
     ]
    },
    {
     "name": "stdout",
     "output_type": "stream",
     "text": [
      "\r- Processing image:   4082 / 4170"
     ]
    },
    {
     "name": "stdout",
     "output_type": "stream",
     "text": [
      "\r- Processing image:   4083 / 4170"
     ]
    },
    {
     "name": "stdout",
     "output_type": "stream",
     "text": [
      "\r- Processing image:   4084 / 4170"
     ]
    },
    {
     "name": "stdout",
     "output_type": "stream",
     "text": [
      "\r- Processing image:   4085 / 4170"
     ]
    },
    {
     "name": "stdout",
     "output_type": "stream",
     "text": [
      "\r- Processing image:   4086 / 4170"
     ]
    },
    {
     "name": "stdout",
     "output_type": "stream",
     "text": [
      "\r- Processing image:   4087 / 4170"
     ]
    },
    {
     "name": "stdout",
     "output_type": "stream",
     "text": [
      "\r- Processing image:   4088 / 4170"
     ]
    },
    {
     "name": "stdout",
     "output_type": "stream",
     "text": [
      "\r- Processing image:   4089 / 4170"
     ]
    },
    {
     "name": "stdout",
     "output_type": "stream",
     "text": [
      "\r- Processing image:   4090 / 4170"
     ]
    },
    {
     "name": "stdout",
     "output_type": "stream",
     "text": [
      "\r- Processing image:   4091 / 4170"
     ]
    },
    {
     "name": "stdout",
     "output_type": "stream",
     "text": [
      "\r- Processing image:   4092 / 4170"
     ]
    },
    {
     "name": "stdout",
     "output_type": "stream",
     "text": [
      "\r- Processing image:   4093 / 4170"
     ]
    },
    {
     "name": "stdout",
     "output_type": "stream",
     "text": [
      "\r- Processing image:   4094 / 4170"
     ]
    },
    {
     "name": "stdout",
     "output_type": "stream",
     "text": [
      "\r- Processing image:   4095 / 4170"
     ]
    },
    {
     "name": "stdout",
     "output_type": "stream",
     "text": [
      "\r- Processing image:   4096 / 4170"
     ]
    },
    {
     "name": "stdout",
     "output_type": "stream",
     "text": [
      "\r- Processing image:   4097 / 4170"
     ]
    },
    {
     "name": "stdout",
     "output_type": "stream",
     "text": [
      "\r- Processing image:   4098 / 4170"
     ]
    },
    {
     "name": "stdout",
     "output_type": "stream",
     "text": [
      "\r- Processing image:   4099 / 4170"
     ]
    },
    {
     "name": "stdout",
     "output_type": "stream",
     "text": [
      "\r- Processing image:   4100 / 4170"
     ]
    },
    {
     "name": "stdout",
     "output_type": "stream",
     "text": [
      "\r- Processing image:   4101 / 4170"
     ]
    },
    {
     "name": "stdout",
     "output_type": "stream",
     "text": [
      "\r- Processing image:   4102 / 4170"
     ]
    },
    {
     "name": "stdout",
     "output_type": "stream",
     "text": [
      "\r- Processing image:   4103 / 4170"
     ]
    },
    {
     "name": "stdout",
     "output_type": "stream",
     "text": [
      "\r- Processing image:   4104 / 4170"
     ]
    },
    {
     "name": "stdout",
     "output_type": "stream",
     "text": [
      "\r- Processing image:   4105 / 4170"
     ]
    },
    {
     "name": "stdout",
     "output_type": "stream",
     "text": [
      "\r- Processing image:   4106 / 4170"
     ]
    },
    {
     "name": "stdout",
     "output_type": "stream",
     "text": [
      "\r- Processing image:   4107 / 4170"
     ]
    },
    {
     "name": "stdout",
     "output_type": "stream",
     "text": [
      "\r- Processing image:   4108 / 4170"
     ]
    },
    {
     "name": "stdout",
     "output_type": "stream",
     "text": [
      "\r- Processing image:   4109 / 4170"
     ]
    },
    {
     "name": "stdout",
     "output_type": "stream",
     "text": [
      "\r- Processing image:   4110 / 4170"
     ]
    },
    {
     "name": "stdout",
     "output_type": "stream",
     "text": [
      "\r- Processing image:   4111 / 4170"
     ]
    },
    {
     "name": "stdout",
     "output_type": "stream",
     "text": [
      "\r- Processing image:   4112 / 4170"
     ]
    },
    {
     "name": "stdout",
     "output_type": "stream",
     "text": [
      "\r- Processing image:   4113 / 4170"
     ]
    },
    {
     "name": "stdout",
     "output_type": "stream",
     "text": [
      "\r- Processing image:   4114 / 4170"
     ]
    },
    {
     "name": "stdout",
     "output_type": "stream",
     "text": [
      "\r- Processing image:   4115 / 4170"
     ]
    },
    {
     "name": "stdout",
     "output_type": "stream",
     "text": [
      "\r- Processing image:   4116 / 4170"
     ]
    },
    {
     "name": "stdout",
     "output_type": "stream",
     "text": [
      "\r- Processing image:   4117 / 4170"
     ]
    },
    {
     "name": "stdout",
     "output_type": "stream",
     "text": [
      "\r- Processing image:   4118 / 4170"
     ]
    },
    {
     "name": "stdout",
     "output_type": "stream",
     "text": [
      "\r- Processing image:   4119 / 4170"
     ]
    },
    {
     "name": "stdout",
     "output_type": "stream",
     "text": [
      "\r- Processing image:   4120 / 4170"
     ]
    },
    {
     "name": "stdout",
     "output_type": "stream",
     "text": [
      "\r- Processing image:   4121 / 4170"
     ]
    },
    {
     "name": "stdout",
     "output_type": "stream",
     "text": [
      "\r- Processing image:   4122 / 4170"
     ]
    },
    {
     "name": "stdout",
     "output_type": "stream",
     "text": [
      "\r- Processing image:   4123 / 4170"
     ]
    },
    {
     "name": "stdout",
     "output_type": "stream",
     "text": [
      "\r- Processing image:   4124 / 4170"
     ]
    },
    {
     "name": "stdout",
     "output_type": "stream",
     "text": [
      "\r- Processing image:   4125 / 4170"
     ]
    },
    {
     "name": "stdout",
     "output_type": "stream",
     "text": [
      "\r- Processing image:   4126 / 4170"
     ]
    },
    {
     "name": "stdout",
     "output_type": "stream",
     "text": [
      "\r- Processing image:   4127 / 4170"
     ]
    },
    {
     "name": "stdout",
     "output_type": "stream",
     "text": [
      "\r- Processing image:   4128 / 4170"
     ]
    },
    {
     "name": "stdout",
     "output_type": "stream",
     "text": [
      "\r- Processing image:   4129 / 4170"
     ]
    },
    {
     "name": "stdout",
     "output_type": "stream",
     "text": [
      "\r- Processing image:   4130 / 4170"
     ]
    },
    {
     "name": "stdout",
     "output_type": "stream",
     "text": [
      "\r- Processing image:   4131 / 4170"
     ]
    },
    {
     "name": "stdout",
     "output_type": "stream",
     "text": [
      "\r- Processing image:   4132 / 4170"
     ]
    },
    {
     "name": "stdout",
     "output_type": "stream",
     "text": [
      "\r- Processing image:   4133 / 4170"
     ]
    },
    {
     "name": "stdout",
     "output_type": "stream",
     "text": [
      "\r- Processing image:   4134 / 4170"
     ]
    },
    {
     "name": "stdout",
     "output_type": "stream",
     "text": [
      "\r- Processing image:   4135 / 4170"
     ]
    },
    {
     "name": "stdout",
     "output_type": "stream",
     "text": [
      "\r- Processing image:   4136 / 4170"
     ]
    },
    {
     "name": "stdout",
     "output_type": "stream",
     "text": [
      "\r- Processing image:   4137 / 4170"
     ]
    },
    {
     "name": "stdout",
     "output_type": "stream",
     "text": [
      "\r- Processing image:   4138 / 4170"
     ]
    },
    {
     "name": "stdout",
     "output_type": "stream",
     "text": [
      "\r- Processing image:   4139 / 4170"
     ]
    },
    {
     "name": "stdout",
     "output_type": "stream",
     "text": [
      "\r- Processing image:   4140 / 4170"
     ]
    },
    {
     "name": "stdout",
     "output_type": "stream",
     "text": [
      "\r- Processing image:   4141 / 4170"
     ]
    },
    {
     "name": "stdout",
     "output_type": "stream",
     "text": [
      "\r- Processing image:   4142 / 4170"
     ]
    },
    {
     "name": "stdout",
     "output_type": "stream",
     "text": [
      "\r- Processing image:   4143 / 4170"
     ]
    },
    {
     "name": "stdout",
     "output_type": "stream",
     "text": [
      "\r- Processing image:   4144 / 4170"
     ]
    },
    {
     "name": "stdout",
     "output_type": "stream",
     "text": [
      "\r- Processing image:   4145 / 4170"
     ]
    },
    {
     "name": "stdout",
     "output_type": "stream",
     "text": [
      "\r- Processing image:   4146 / 4170"
     ]
    },
    {
     "name": "stdout",
     "output_type": "stream",
     "text": [
      "\r- Processing image:   4147 / 4170"
     ]
    },
    {
     "name": "stdout",
     "output_type": "stream",
     "text": [
      "\r- Processing image:   4148 / 4170"
     ]
    },
    {
     "name": "stdout",
     "output_type": "stream",
     "text": [
      "\r- Processing image:   4149 / 4170"
     ]
    },
    {
     "name": "stdout",
     "output_type": "stream",
     "text": [
      "\r- Processing image:   4150 / 4170"
     ]
    },
    {
     "name": "stdout",
     "output_type": "stream",
     "text": [
      "\r- Processing image:   4151 / 4170"
     ]
    },
    {
     "name": "stdout",
     "output_type": "stream",
     "text": [
      "\r- Processing image:   4152 / 4170"
     ]
    },
    {
     "name": "stdout",
     "output_type": "stream",
     "text": [
      "\r- Processing image:   4153 / 4170"
     ]
    },
    {
     "name": "stdout",
     "output_type": "stream",
     "text": [
      "\r- Processing image:   4154 / 4170"
     ]
    },
    {
     "name": "stdout",
     "output_type": "stream",
     "text": [
      "\r- Processing image:   4155 / 4170"
     ]
    },
    {
     "name": "stdout",
     "output_type": "stream",
     "text": [
      "\r- Processing image:   4156 / 4170"
     ]
    },
    {
     "name": "stdout",
     "output_type": "stream",
     "text": [
      "\r- Processing image:   4157 / 4170"
     ]
    },
    {
     "name": "stdout",
     "output_type": "stream",
     "text": [
      "\r- Processing image:   4158 / 4170"
     ]
    },
    {
     "name": "stdout",
     "output_type": "stream",
     "text": [
      "\r- Processing image:   4159 / 4170"
     ]
    },
    {
     "name": "stdout",
     "output_type": "stream",
     "text": [
      "\r- Processing image:   4160 / 4170"
     ]
    },
    {
     "name": "stdout",
     "output_type": "stream",
     "text": [
      "\r- Processing image:   4161 / 4170"
     ]
    },
    {
     "name": "stdout",
     "output_type": "stream",
     "text": [
      "\r- Processing image:   4162 / 4170"
     ]
    },
    {
     "name": "stdout",
     "output_type": "stream",
     "text": [
      "\r- Processing image:   4163 / 4170"
     ]
    },
    {
     "name": "stdout",
     "output_type": "stream",
     "text": [
      "\r- Processing image:   4164 / 4170"
     ]
    },
    {
     "name": "stdout",
     "output_type": "stream",
     "text": [
      "\r- Processing image:   4165 / 4170"
     ]
    },
    {
     "name": "stdout",
     "output_type": "stream",
     "text": [
      "\r- Processing image:   4166 / 4170"
     ]
    },
    {
     "name": "stdout",
     "output_type": "stream",
     "text": [
      "\r- Processing image:   4167 / 4170"
     ]
    },
    {
     "name": "stdout",
     "output_type": "stream",
     "text": [
      "\r- Processing image:   4168 / 4170"
     ]
    },
    {
     "name": "stdout",
     "output_type": "stream",
     "text": [
      "\r- Processing image:   4169 / 4170"
     ]
    },
    {
     "name": "stdout",
     "output_type": "stream",
     "text": [
      "\r- Processing image:   4170 / 4170"
     ]
    },
    {
     "name": "stdout",
     "output_type": "stream",
     "text": [
      "\n"
     ]
    },
    {
     "name": "stdout",
     "output_type": "stream",
     "text": [
      "- Data saved to cache-file: data/knifey-spoony/inception-knifey-train.pkl\nProcessing Inception transfer-values for test-images ...\n\r- Processing image:      1 / 530"
     ]
    },
    {
     "name": "stdout",
     "output_type": "stream",
     "text": [
      "\r- Processing image:      2 / 530"
     ]
    },
    {
     "name": "stdout",
     "output_type": "stream",
     "text": [
      "\r- Processing image:      3 / 530"
     ]
    },
    {
     "name": "stdout",
     "output_type": "stream",
     "text": [
      "\r- Processing image:      4 / 530"
     ]
    },
    {
     "name": "stdout",
     "output_type": "stream",
     "text": [
      "\r- Processing image:      5 / 530"
     ]
    },
    {
     "name": "stdout",
     "output_type": "stream",
     "text": [
      "\r- Processing image:      6 / 530"
     ]
    },
    {
     "name": "stdout",
     "output_type": "stream",
     "text": [
      "\r- Processing image:      7 / 530"
     ]
    },
    {
     "name": "stdout",
     "output_type": "stream",
     "text": [
      "\r- Processing image:      8 / 530"
     ]
    },
    {
     "name": "stdout",
     "output_type": "stream",
     "text": [
      "\r- Processing image:      9 / 530"
     ]
    },
    {
     "name": "stdout",
     "output_type": "stream",
     "text": [
      "\r- Processing image:     10 / 530"
     ]
    },
    {
     "name": "stdout",
     "output_type": "stream",
     "text": [
      "\r- Processing image:     11 / 530"
     ]
    },
    {
     "name": "stdout",
     "output_type": "stream",
     "text": [
      "\r- Processing image:     12 / 530"
     ]
    },
    {
     "name": "stdout",
     "output_type": "stream",
     "text": [
      "\r- Processing image:     13 / 530"
     ]
    },
    {
     "name": "stdout",
     "output_type": "stream",
     "text": [
      "\r- Processing image:     14 / 530"
     ]
    },
    {
     "name": "stdout",
     "output_type": "stream",
     "text": [
      "\r- Processing image:     15 / 530"
     ]
    },
    {
     "name": "stdout",
     "output_type": "stream",
     "text": [
      "\r- Processing image:     16 / 530"
     ]
    },
    {
     "name": "stdout",
     "output_type": "stream",
     "text": [
      "\r- Processing image:     17 / 530"
     ]
    },
    {
     "name": "stdout",
     "output_type": "stream",
     "text": [
      "\r- Processing image:     18 / 530"
     ]
    },
    {
     "name": "stdout",
     "output_type": "stream",
     "text": [
      "\r- Processing image:     19 / 530"
     ]
    },
    {
     "name": "stdout",
     "output_type": "stream",
     "text": [
      "\r- Processing image:     20 / 530"
     ]
    },
    {
     "name": "stdout",
     "output_type": "stream",
     "text": [
      "\r- Processing image:     21 / 530"
     ]
    },
    {
     "name": "stdout",
     "output_type": "stream",
     "text": [
      "\r- Processing image:     22 / 530"
     ]
    },
    {
     "name": "stdout",
     "output_type": "stream",
     "text": [
      "\r- Processing image:     23 / 530"
     ]
    },
    {
     "name": "stdout",
     "output_type": "stream",
     "text": [
      "\r- Processing image:     24 / 530"
     ]
    },
    {
     "name": "stdout",
     "output_type": "stream",
     "text": [
      "\r- Processing image:     25 / 530"
     ]
    },
    {
     "name": "stdout",
     "output_type": "stream",
     "text": [
      "\r- Processing image:     26 / 530"
     ]
    },
    {
     "name": "stdout",
     "output_type": "stream",
     "text": [
      "\r- Processing image:     27 / 530"
     ]
    },
    {
     "name": "stdout",
     "output_type": "stream",
     "text": [
      "\r- Processing image:     28 / 530"
     ]
    },
    {
     "name": "stdout",
     "output_type": "stream",
     "text": [
      "\r- Processing image:     29 / 530"
     ]
    },
    {
     "name": "stdout",
     "output_type": "stream",
     "text": [
      "\r- Processing image:     30 / 530"
     ]
    },
    {
     "name": "stdout",
     "output_type": "stream",
     "text": [
      "\r- Processing image:     31 / 530"
     ]
    },
    {
     "name": "stdout",
     "output_type": "stream",
     "text": [
      "\r- Processing image:     32 / 530"
     ]
    },
    {
     "name": "stdout",
     "output_type": "stream",
     "text": [
      "\r- Processing image:     33 / 530"
     ]
    },
    {
     "name": "stdout",
     "output_type": "stream",
     "text": [
      "\r- Processing image:     34 / 530"
     ]
    },
    {
     "name": "stdout",
     "output_type": "stream",
     "text": [
      "\r- Processing image:     35 / 530"
     ]
    },
    {
     "name": "stdout",
     "output_type": "stream",
     "text": [
      "\r- Processing image:     36 / 530"
     ]
    },
    {
     "name": "stdout",
     "output_type": "stream",
     "text": [
      "\r- Processing image:     37 / 530"
     ]
    },
    {
     "name": "stdout",
     "output_type": "stream",
     "text": [
      "\r- Processing image:     38 / 530"
     ]
    },
    {
     "name": "stdout",
     "output_type": "stream",
     "text": [
      "\r- Processing image:     39 / 530"
     ]
    },
    {
     "name": "stdout",
     "output_type": "stream",
     "text": [
      "\r- Processing image:     40 / 530"
     ]
    },
    {
     "name": "stdout",
     "output_type": "stream",
     "text": [
      "\r- Processing image:     41 / 530"
     ]
    },
    {
     "name": "stdout",
     "output_type": "stream",
     "text": [
      "\r- Processing image:     42 / 530"
     ]
    },
    {
     "name": "stdout",
     "output_type": "stream",
     "text": [
      "\r- Processing image:     43 / 530"
     ]
    },
    {
     "name": "stdout",
     "output_type": "stream",
     "text": [
      "\r- Processing image:     44 / 530"
     ]
    },
    {
     "name": "stdout",
     "output_type": "stream",
     "text": [
      "\r- Processing image:     45 / 530"
     ]
    },
    {
     "name": "stdout",
     "output_type": "stream",
     "text": [
      "\r- Processing image:     46 / 530"
     ]
    },
    {
     "name": "stdout",
     "output_type": "stream",
     "text": [
      "\r- Processing image:     47 / 530"
     ]
    },
    {
     "name": "stdout",
     "output_type": "stream",
     "text": [
      "\r- Processing image:     48 / 530"
     ]
    },
    {
     "name": "stdout",
     "output_type": "stream",
     "text": [
      "\r- Processing image:     49 / 530"
     ]
    },
    {
     "name": "stdout",
     "output_type": "stream",
     "text": [
      "\r- Processing image:     50 / 530"
     ]
    },
    {
     "name": "stdout",
     "output_type": "stream",
     "text": [
      "\r- Processing image:     51 / 530"
     ]
    },
    {
     "name": "stdout",
     "output_type": "stream",
     "text": [
      "\r- Processing image:     52 / 530"
     ]
    },
    {
     "name": "stdout",
     "output_type": "stream",
     "text": [
      "\r- Processing image:     53 / 530"
     ]
    },
    {
     "name": "stdout",
     "output_type": "stream",
     "text": [
      "\r- Processing image:     54 / 530"
     ]
    },
    {
     "name": "stdout",
     "output_type": "stream",
     "text": [
      "\r- Processing image:     55 / 530"
     ]
    },
    {
     "name": "stdout",
     "output_type": "stream",
     "text": [
      "\r- Processing image:     56 / 530"
     ]
    },
    {
     "name": "stdout",
     "output_type": "stream",
     "text": [
      "\r- Processing image:     57 / 530"
     ]
    },
    {
     "name": "stdout",
     "output_type": "stream",
     "text": [
      "\r- Processing image:     58 / 530"
     ]
    },
    {
     "name": "stdout",
     "output_type": "stream",
     "text": [
      "\r- Processing image:     59 / 530"
     ]
    },
    {
     "name": "stdout",
     "output_type": "stream",
     "text": [
      "\r- Processing image:     60 / 530"
     ]
    },
    {
     "name": "stdout",
     "output_type": "stream",
     "text": [
      "\r- Processing image:     61 / 530"
     ]
    },
    {
     "name": "stdout",
     "output_type": "stream",
     "text": [
      "\r- Processing image:     62 / 530"
     ]
    },
    {
     "name": "stdout",
     "output_type": "stream",
     "text": [
      "\r- Processing image:     63 / 530"
     ]
    },
    {
     "name": "stdout",
     "output_type": "stream",
     "text": [
      "\r- Processing image:     64 / 530"
     ]
    },
    {
     "name": "stdout",
     "output_type": "stream",
     "text": [
      "\r- Processing image:     65 / 530"
     ]
    },
    {
     "name": "stdout",
     "output_type": "stream",
     "text": [
      "\r- Processing image:     66 / 530"
     ]
    },
    {
     "name": "stdout",
     "output_type": "stream",
     "text": [
      "\r- Processing image:     67 / 530"
     ]
    },
    {
     "name": "stdout",
     "output_type": "stream",
     "text": [
      "\r- Processing image:     68 / 530"
     ]
    },
    {
     "name": "stdout",
     "output_type": "stream",
     "text": [
      "\r- Processing image:     69 / 530"
     ]
    },
    {
     "name": "stdout",
     "output_type": "stream",
     "text": [
      "\r- Processing image:     70 / 530"
     ]
    },
    {
     "name": "stdout",
     "output_type": "stream",
     "text": [
      "\r- Processing image:     71 / 530"
     ]
    },
    {
     "name": "stdout",
     "output_type": "stream",
     "text": [
      "\r- Processing image:     72 / 530"
     ]
    },
    {
     "name": "stdout",
     "output_type": "stream",
     "text": [
      "\r- Processing image:     73 / 530"
     ]
    },
    {
     "name": "stdout",
     "output_type": "stream",
     "text": [
      "\r- Processing image:     74 / 530"
     ]
    },
    {
     "name": "stdout",
     "output_type": "stream",
     "text": [
      "\r- Processing image:     75 / 530"
     ]
    },
    {
     "name": "stdout",
     "output_type": "stream",
     "text": [
      "\r- Processing image:     76 / 530"
     ]
    },
    {
     "name": "stdout",
     "output_type": "stream",
     "text": [
      "\r- Processing image:     77 / 530"
     ]
    },
    {
     "name": "stdout",
     "output_type": "stream",
     "text": [
      "\r- Processing image:     78 / 530"
     ]
    },
    {
     "name": "stdout",
     "output_type": "stream",
     "text": [
      "\r- Processing image:     79 / 530"
     ]
    },
    {
     "name": "stdout",
     "output_type": "stream",
     "text": [
      "\r- Processing image:     80 / 530"
     ]
    },
    {
     "name": "stdout",
     "output_type": "stream",
     "text": [
      "\r- Processing image:     81 / 530"
     ]
    },
    {
     "name": "stdout",
     "output_type": "stream",
     "text": [
      "\r- Processing image:     82 / 530"
     ]
    },
    {
     "name": "stdout",
     "output_type": "stream",
     "text": [
      "\r- Processing image:     83 / 530"
     ]
    },
    {
     "name": "stdout",
     "output_type": "stream",
     "text": [
      "\r- Processing image:     84 / 530"
     ]
    },
    {
     "name": "stdout",
     "output_type": "stream",
     "text": [
      "\r- Processing image:     85 / 530"
     ]
    },
    {
     "name": "stdout",
     "output_type": "stream",
     "text": [
      "\r- Processing image:     86 / 530"
     ]
    },
    {
     "name": "stdout",
     "output_type": "stream",
     "text": [
      "\r- Processing image:     87 / 530"
     ]
    },
    {
     "name": "stdout",
     "output_type": "stream",
     "text": [
      "\r- Processing image:     88 / 530"
     ]
    },
    {
     "name": "stdout",
     "output_type": "stream",
     "text": [
      "\r- Processing image:     89 / 530"
     ]
    },
    {
     "name": "stdout",
     "output_type": "stream",
     "text": [
      "\r- Processing image:     90 / 530"
     ]
    },
    {
     "name": "stdout",
     "output_type": "stream",
     "text": [
      "\r- Processing image:     91 / 530"
     ]
    },
    {
     "name": "stdout",
     "output_type": "stream",
     "text": [
      "\r- Processing image:     92 / 530"
     ]
    },
    {
     "name": "stdout",
     "output_type": "stream",
     "text": [
      "\r- Processing image:     93 / 530"
     ]
    },
    {
     "name": "stdout",
     "output_type": "stream",
     "text": [
      "\r- Processing image:     94 / 530"
     ]
    },
    {
     "name": "stdout",
     "output_type": "stream",
     "text": [
      "\r- Processing image:     95 / 530"
     ]
    },
    {
     "name": "stdout",
     "output_type": "stream",
     "text": [
      "\r- Processing image:     96 / 530"
     ]
    },
    {
     "name": "stdout",
     "output_type": "stream",
     "text": [
      "\r- Processing image:     97 / 530"
     ]
    },
    {
     "name": "stdout",
     "output_type": "stream",
     "text": [
      "\r- Processing image:     98 / 530"
     ]
    },
    {
     "name": "stdout",
     "output_type": "stream",
     "text": [
      "\r- Processing image:     99 / 530"
     ]
    },
    {
     "name": "stdout",
     "output_type": "stream",
     "text": [
      "\r- Processing image:    100 / 530"
     ]
    },
    {
     "name": "stdout",
     "output_type": "stream",
     "text": [
      "\r- Processing image:    101 / 530"
     ]
    },
    {
     "name": "stdout",
     "output_type": "stream",
     "text": [
      "\r- Processing image:    102 / 530"
     ]
    },
    {
     "name": "stdout",
     "output_type": "stream",
     "text": [
      "\r- Processing image:    103 / 530"
     ]
    },
    {
     "name": "stdout",
     "output_type": "stream",
     "text": [
      "\r- Processing image:    104 / 530"
     ]
    },
    {
     "name": "stdout",
     "output_type": "stream",
     "text": [
      "\r- Processing image:    105 / 530"
     ]
    },
    {
     "name": "stdout",
     "output_type": "stream",
     "text": [
      "\r- Processing image:    106 / 530"
     ]
    },
    {
     "name": "stdout",
     "output_type": "stream",
     "text": [
      "\r- Processing image:    107 / 530"
     ]
    },
    {
     "name": "stdout",
     "output_type": "stream",
     "text": [
      "\r- Processing image:    108 / 530"
     ]
    },
    {
     "name": "stdout",
     "output_type": "stream",
     "text": [
      "\r- Processing image:    109 / 530"
     ]
    },
    {
     "name": "stdout",
     "output_type": "stream",
     "text": [
      "\r- Processing image:    110 / 530"
     ]
    },
    {
     "name": "stdout",
     "output_type": "stream",
     "text": [
      "\r- Processing image:    111 / 530"
     ]
    },
    {
     "name": "stdout",
     "output_type": "stream",
     "text": [
      "\r- Processing image:    112 / 530"
     ]
    },
    {
     "name": "stdout",
     "output_type": "stream",
     "text": [
      "\r- Processing image:    113 / 530"
     ]
    },
    {
     "name": "stdout",
     "output_type": "stream",
     "text": [
      "\r- Processing image:    114 / 530"
     ]
    },
    {
     "name": "stdout",
     "output_type": "stream",
     "text": [
      "\r- Processing image:    115 / 530"
     ]
    },
    {
     "name": "stdout",
     "output_type": "stream",
     "text": [
      "\r- Processing image:    116 / 530"
     ]
    },
    {
     "name": "stdout",
     "output_type": "stream",
     "text": [
      "\r- Processing image:    117 / 530"
     ]
    },
    {
     "name": "stdout",
     "output_type": "stream",
     "text": [
      "\r- Processing image:    118 / 530"
     ]
    },
    {
     "name": "stdout",
     "output_type": "stream",
     "text": [
      "\r- Processing image:    119 / 530"
     ]
    },
    {
     "name": "stdout",
     "output_type": "stream",
     "text": [
      "\r- Processing image:    120 / 530"
     ]
    },
    {
     "name": "stdout",
     "output_type": "stream",
     "text": [
      "\r- Processing image:    121 / 530"
     ]
    },
    {
     "name": "stdout",
     "output_type": "stream",
     "text": [
      "\r- Processing image:    122 / 530"
     ]
    },
    {
     "name": "stdout",
     "output_type": "stream",
     "text": [
      "\r- Processing image:    123 / 530"
     ]
    },
    {
     "name": "stdout",
     "output_type": "stream",
     "text": [
      "\r- Processing image:    124 / 530"
     ]
    },
    {
     "name": "stdout",
     "output_type": "stream",
     "text": [
      "\r- Processing image:    125 / 530"
     ]
    },
    {
     "name": "stdout",
     "output_type": "stream",
     "text": [
      "\r- Processing image:    126 / 530"
     ]
    },
    {
     "name": "stdout",
     "output_type": "stream",
     "text": [
      "\r- Processing image:    127 / 530"
     ]
    },
    {
     "name": "stdout",
     "output_type": "stream",
     "text": [
      "\r- Processing image:    128 / 530"
     ]
    },
    {
     "name": "stdout",
     "output_type": "stream",
     "text": [
      "\r- Processing image:    129 / 530"
     ]
    },
    {
     "name": "stdout",
     "output_type": "stream",
     "text": [
      "\r- Processing image:    130 / 530"
     ]
    },
    {
     "name": "stdout",
     "output_type": "stream",
     "text": [
      "\r- Processing image:    131 / 530"
     ]
    },
    {
     "name": "stdout",
     "output_type": "stream",
     "text": [
      "\r- Processing image:    132 / 530"
     ]
    },
    {
     "name": "stdout",
     "output_type": "stream",
     "text": [
      "\r- Processing image:    133 / 530"
     ]
    },
    {
     "name": "stdout",
     "output_type": "stream",
     "text": [
      "\r- Processing image:    134 / 530"
     ]
    },
    {
     "name": "stdout",
     "output_type": "stream",
     "text": [
      "\r- Processing image:    135 / 530"
     ]
    },
    {
     "name": "stdout",
     "output_type": "stream",
     "text": [
      "\r- Processing image:    136 / 530"
     ]
    },
    {
     "name": "stdout",
     "output_type": "stream",
     "text": [
      "\r- Processing image:    137 / 530"
     ]
    },
    {
     "name": "stdout",
     "output_type": "stream",
     "text": [
      "\r- Processing image:    138 / 530"
     ]
    },
    {
     "name": "stdout",
     "output_type": "stream",
     "text": [
      "\r- Processing image:    139 / 530"
     ]
    },
    {
     "name": "stdout",
     "output_type": "stream",
     "text": [
      "\r- Processing image:    140 / 530"
     ]
    },
    {
     "name": "stdout",
     "output_type": "stream",
     "text": [
      "\r- Processing image:    141 / 530"
     ]
    },
    {
     "name": "stdout",
     "output_type": "stream",
     "text": [
      "\r- Processing image:    142 / 530"
     ]
    },
    {
     "name": "stdout",
     "output_type": "stream",
     "text": [
      "\r- Processing image:    143 / 530"
     ]
    },
    {
     "name": "stdout",
     "output_type": "stream",
     "text": [
      "\r- Processing image:    144 / 530"
     ]
    },
    {
     "name": "stdout",
     "output_type": "stream",
     "text": [
      "\r- Processing image:    145 / 530"
     ]
    },
    {
     "name": "stdout",
     "output_type": "stream",
     "text": [
      "\r- Processing image:    146 / 530"
     ]
    },
    {
     "name": "stdout",
     "output_type": "stream",
     "text": [
      "\r- Processing image:    147 / 530"
     ]
    },
    {
     "name": "stdout",
     "output_type": "stream",
     "text": [
      "\r- Processing image:    148 / 530"
     ]
    },
    {
     "name": "stdout",
     "output_type": "stream",
     "text": [
      "\r- Processing image:    149 / 530"
     ]
    },
    {
     "name": "stdout",
     "output_type": "stream",
     "text": [
      "\r- Processing image:    150 / 530"
     ]
    },
    {
     "name": "stdout",
     "output_type": "stream",
     "text": [
      "\r- Processing image:    151 / 530"
     ]
    },
    {
     "name": "stdout",
     "output_type": "stream",
     "text": [
      "\r- Processing image:    152 / 530"
     ]
    },
    {
     "name": "stdout",
     "output_type": "stream",
     "text": [
      "\r- Processing image:    153 / 530"
     ]
    },
    {
     "name": "stdout",
     "output_type": "stream",
     "text": [
      "\r- Processing image:    154 / 530"
     ]
    },
    {
     "name": "stdout",
     "output_type": "stream",
     "text": [
      "\r- Processing image:    155 / 530"
     ]
    },
    {
     "name": "stdout",
     "output_type": "stream",
     "text": [
      "\r- Processing image:    156 / 530"
     ]
    },
    {
     "name": "stdout",
     "output_type": "stream",
     "text": [
      "\r- Processing image:    157 / 530"
     ]
    },
    {
     "name": "stdout",
     "output_type": "stream",
     "text": [
      "\r- Processing image:    158 / 530"
     ]
    },
    {
     "name": "stdout",
     "output_type": "stream",
     "text": [
      "\r- Processing image:    159 / 530"
     ]
    },
    {
     "name": "stdout",
     "output_type": "stream",
     "text": [
      "\r- Processing image:    160 / 530"
     ]
    },
    {
     "name": "stdout",
     "output_type": "stream",
     "text": [
      "\r- Processing image:    161 / 530"
     ]
    },
    {
     "name": "stdout",
     "output_type": "stream",
     "text": [
      "\r- Processing image:    162 / 530"
     ]
    },
    {
     "name": "stdout",
     "output_type": "stream",
     "text": [
      "\r- Processing image:    163 / 530"
     ]
    },
    {
     "name": "stdout",
     "output_type": "stream",
     "text": [
      "\r- Processing image:    164 / 530"
     ]
    },
    {
     "name": "stdout",
     "output_type": "stream",
     "text": [
      "\r- Processing image:    165 / 530"
     ]
    },
    {
     "name": "stdout",
     "output_type": "stream",
     "text": [
      "\r- Processing image:    166 / 530"
     ]
    },
    {
     "name": "stdout",
     "output_type": "stream",
     "text": [
      "\r- Processing image:    167 / 530"
     ]
    },
    {
     "name": "stdout",
     "output_type": "stream",
     "text": [
      "\r- Processing image:    168 / 530"
     ]
    },
    {
     "name": "stdout",
     "output_type": "stream",
     "text": [
      "\r- Processing image:    169 / 530"
     ]
    },
    {
     "name": "stdout",
     "output_type": "stream",
     "text": [
      "\r- Processing image:    170 / 530"
     ]
    },
    {
     "name": "stdout",
     "output_type": "stream",
     "text": [
      "\r- Processing image:    171 / 530"
     ]
    },
    {
     "name": "stdout",
     "output_type": "stream",
     "text": [
      "\r- Processing image:    172 / 530"
     ]
    },
    {
     "name": "stdout",
     "output_type": "stream",
     "text": [
      "\r- Processing image:    173 / 530"
     ]
    },
    {
     "name": "stdout",
     "output_type": "stream",
     "text": [
      "\r- Processing image:    174 / 530"
     ]
    },
    {
     "name": "stdout",
     "output_type": "stream",
     "text": [
      "\r- Processing image:    175 / 530"
     ]
    },
    {
     "name": "stdout",
     "output_type": "stream",
     "text": [
      "\r- Processing image:    176 / 530"
     ]
    },
    {
     "name": "stdout",
     "output_type": "stream",
     "text": [
      "\r- Processing image:    177 / 530"
     ]
    },
    {
     "name": "stdout",
     "output_type": "stream",
     "text": [
      "\r- Processing image:    178 / 530"
     ]
    },
    {
     "name": "stdout",
     "output_type": "stream",
     "text": [
      "\r- Processing image:    179 / 530"
     ]
    },
    {
     "name": "stdout",
     "output_type": "stream",
     "text": [
      "\r- Processing image:    180 / 530"
     ]
    },
    {
     "name": "stdout",
     "output_type": "stream",
     "text": [
      "\r- Processing image:    181 / 530"
     ]
    },
    {
     "name": "stdout",
     "output_type": "stream",
     "text": [
      "\r- Processing image:    182 / 530"
     ]
    },
    {
     "name": "stdout",
     "output_type": "stream",
     "text": [
      "\r- Processing image:    183 / 530"
     ]
    },
    {
     "name": "stdout",
     "output_type": "stream",
     "text": [
      "\r- Processing image:    184 / 530"
     ]
    },
    {
     "name": "stdout",
     "output_type": "stream",
     "text": [
      "\r- Processing image:    185 / 530"
     ]
    },
    {
     "name": "stdout",
     "output_type": "stream",
     "text": [
      "\r- Processing image:    186 / 530"
     ]
    },
    {
     "name": "stdout",
     "output_type": "stream",
     "text": [
      "\r- Processing image:    187 / 530"
     ]
    },
    {
     "name": "stdout",
     "output_type": "stream",
     "text": [
      "\r- Processing image:    188 / 530"
     ]
    },
    {
     "name": "stdout",
     "output_type": "stream",
     "text": [
      "\r- Processing image:    189 / 530"
     ]
    },
    {
     "name": "stdout",
     "output_type": "stream",
     "text": [
      "\r- Processing image:    190 / 530"
     ]
    },
    {
     "name": "stdout",
     "output_type": "stream",
     "text": [
      "\r- Processing image:    191 / 530"
     ]
    },
    {
     "name": "stdout",
     "output_type": "stream",
     "text": [
      "\r- Processing image:    192 / 530"
     ]
    },
    {
     "name": "stdout",
     "output_type": "stream",
     "text": [
      "\r- Processing image:    193 / 530"
     ]
    },
    {
     "name": "stdout",
     "output_type": "stream",
     "text": [
      "\r- Processing image:    194 / 530"
     ]
    },
    {
     "name": "stdout",
     "output_type": "stream",
     "text": [
      "\r- Processing image:    195 / 530"
     ]
    },
    {
     "name": "stdout",
     "output_type": "stream",
     "text": [
      "\r- Processing image:    196 / 530"
     ]
    },
    {
     "name": "stdout",
     "output_type": "stream",
     "text": [
      "\r- Processing image:    197 / 530"
     ]
    },
    {
     "name": "stdout",
     "output_type": "stream",
     "text": [
      "\r- Processing image:    198 / 530"
     ]
    },
    {
     "name": "stdout",
     "output_type": "stream",
     "text": [
      "\r- Processing image:    199 / 530"
     ]
    },
    {
     "name": "stdout",
     "output_type": "stream",
     "text": [
      "\r- Processing image:    200 / 530"
     ]
    },
    {
     "name": "stdout",
     "output_type": "stream",
     "text": [
      "\r- Processing image:    201 / 530"
     ]
    },
    {
     "name": "stdout",
     "output_type": "stream",
     "text": [
      "\r- Processing image:    202 / 530"
     ]
    },
    {
     "name": "stdout",
     "output_type": "stream",
     "text": [
      "\r- Processing image:    203 / 530"
     ]
    },
    {
     "name": "stdout",
     "output_type": "stream",
     "text": [
      "\r- Processing image:    204 / 530"
     ]
    },
    {
     "name": "stdout",
     "output_type": "stream",
     "text": [
      "\r- Processing image:    205 / 530"
     ]
    },
    {
     "name": "stdout",
     "output_type": "stream",
     "text": [
      "\r- Processing image:    206 / 530"
     ]
    },
    {
     "name": "stdout",
     "output_type": "stream",
     "text": [
      "\r- Processing image:    207 / 530"
     ]
    },
    {
     "name": "stdout",
     "output_type": "stream",
     "text": [
      "\r- Processing image:    208 / 530"
     ]
    },
    {
     "name": "stdout",
     "output_type": "stream",
     "text": [
      "\r- Processing image:    209 / 530"
     ]
    },
    {
     "name": "stdout",
     "output_type": "stream",
     "text": [
      "\r- Processing image:    210 / 530"
     ]
    },
    {
     "name": "stdout",
     "output_type": "stream",
     "text": [
      "\r- Processing image:    211 / 530"
     ]
    },
    {
     "name": "stdout",
     "output_type": "stream",
     "text": [
      "\r- Processing image:    212 / 530"
     ]
    },
    {
     "name": "stdout",
     "output_type": "stream",
     "text": [
      "\r- Processing image:    213 / 530"
     ]
    },
    {
     "name": "stdout",
     "output_type": "stream",
     "text": [
      "\r- Processing image:    214 / 530"
     ]
    },
    {
     "name": "stdout",
     "output_type": "stream",
     "text": [
      "\r- Processing image:    215 / 530"
     ]
    },
    {
     "name": "stdout",
     "output_type": "stream",
     "text": [
      "\r- Processing image:    216 / 530"
     ]
    },
    {
     "name": "stdout",
     "output_type": "stream",
     "text": [
      "\r- Processing image:    217 / 530"
     ]
    },
    {
     "name": "stdout",
     "output_type": "stream",
     "text": [
      "\r- Processing image:    218 / 530"
     ]
    },
    {
     "name": "stdout",
     "output_type": "stream",
     "text": [
      "\r- Processing image:    219 / 530"
     ]
    },
    {
     "name": "stdout",
     "output_type": "stream",
     "text": [
      "\r- Processing image:    220 / 530"
     ]
    },
    {
     "name": "stdout",
     "output_type": "stream",
     "text": [
      "\r- Processing image:    221 / 530"
     ]
    },
    {
     "name": "stdout",
     "output_type": "stream",
     "text": [
      "\r- Processing image:    222 / 530"
     ]
    },
    {
     "name": "stdout",
     "output_type": "stream",
     "text": [
      "\r- Processing image:    223 / 530"
     ]
    },
    {
     "name": "stdout",
     "output_type": "stream",
     "text": [
      "\r- Processing image:    224 / 530"
     ]
    },
    {
     "name": "stdout",
     "output_type": "stream",
     "text": [
      "\r- Processing image:    225 / 530"
     ]
    },
    {
     "name": "stdout",
     "output_type": "stream",
     "text": [
      "\r- Processing image:    226 / 530"
     ]
    },
    {
     "name": "stdout",
     "output_type": "stream",
     "text": [
      "\r- Processing image:    227 / 530"
     ]
    },
    {
     "name": "stdout",
     "output_type": "stream",
     "text": [
      "\r- Processing image:    228 / 530"
     ]
    },
    {
     "name": "stdout",
     "output_type": "stream",
     "text": [
      "\r- Processing image:    229 / 530"
     ]
    },
    {
     "name": "stdout",
     "output_type": "stream",
     "text": [
      "\r- Processing image:    230 / 530"
     ]
    },
    {
     "name": "stdout",
     "output_type": "stream",
     "text": [
      "\r- Processing image:    231 / 530"
     ]
    },
    {
     "name": "stdout",
     "output_type": "stream",
     "text": [
      "\r- Processing image:    232 / 530"
     ]
    },
    {
     "name": "stdout",
     "output_type": "stream",
     "text": [
      "\r- Processing image:    233 / 530"
     ]
    },
    {
     "name": "stdout",
     "output_type": "stream",
     "text": [
      "\r- Processing image:    234 / 530"
     ]
    },
    {
     "name": "stdout",
     "output_type": "stream",
     "text": [
      "\r- Processing image:    235 / 530"
     ]
    },
    {
     "name": "stdout",
     "output_type": "stream",
     "text": [
      "\r- Processing image:    236 / 530"
     ]
    },
    {
     "name": "stdout",
     "output_type": "stream",
     "text": [
      "\r- Processing image:    237 / 530"
     ]
    },
    {
     "name": "stdout",
     "output_type": "stream",
     "text": [
      "\r- Processing image:    238 / 530"
     ]
    },
    {
     "name": "stdout",
     "output_type": "stream",
     "text": [
      "\r- Processing image:    239 / 530"
     ]
    },
    {
     "name": "stdout",
     "output_type": "stream",
     "text": [
      "\r- Processing image:    240 / 530"
     ]
    },
    {
     "name": "stdout",
     "output_type": "stream",
     "text": [
      "\r- Processing image:    241 / 530"
     ]
    },
    {
     "name": "stdout",
     "output_type": "stream",
     "text": [
      "\r- Processing image:    242 / 530"
     ]
    },
    {
     "name": "stdout",
     "output_type": "stream",
     "text": [
      "\r- Processing image:    243 / 530"
     ]
    },
    {
     "name": "stdout",
     "output_type": "stream",
     "text": [
      "\r- Processing image:    244 / 530"
     ]
    },
    {
     "name": "stdout",
     "output_type": "stream",
     "text": [
      "\r- Processing image:    245 / 530"
     ]
    },
    {
     "name": "stdout",
     "output_type": "stream",
     "text": [
      "\r- Processing image:    246 / 530"
     ]
    },
    {
     "name": "stdout",
     "output_type": "stream",
     "text": [
      "\r- Processing image:    247 / 530"
     ]
    },
    {
     "name": "stdout",
     "output_type": "stream",
     "text": [
      "\r- Processing image:    248 / 530"
     ]
    },
    {
     "name": "stdout",
     "output_type": "stream",
     "text": [
      "\r- Processing image:    249 / 530"
     ]
    },
    {
     "name": "stdout",
     "output_type": "stream",
     "text": [
      "\r- Processing image:    250 / 530"
     ]
    },
    {
     "name": "stdout",
     "output_type": "stream",
     "text": [
      "\r- Processing image:    251 / 530"
     ]
    },
    {
     "name": "stdout",
     "output_type": "stream",
     "text": [
      "\r- Processing image:    252 / 530"
     ]
    },
    {
     "name": "stdout",
     "output_type": "stream",
     "text": [
      "\r- Processing image:    253 / 530"
     ]
    },
    {
     "name": "stdout",
     "output_type": "stream",
     "text": [
      "\r- Processing image:    254 / 530"
     ]
    },
    {
     "name": "stdout",
     "output_type": "stream",
     "text": [
      "\r- Processing image:    255 / 530"
     ]
    },
    {
     "name": "stdout",
     "output_type": "stream",
     "text": [
      "\r- Processing image:    256 / 530"
     ]
    },
    {
     "name": "stdout",
     "output_type": "stream",
     "text": [
      "\r- Processing image:    257 / 530"
     ]
    },
    {
     "name": "stdout",
     "output_type": "stream",
     "text": [
      "\r- Processing image:    258 / 530"
     ]
    },
    {
     "name": "stdout",
     "output_type": "stream",
     "text": [
      "\r- Processing image:    259 / 530"
     ]
    },
    {
     "name": "stdout",
     "output_type": "stream",
     "text": [
      "\r- Processing image:    260 / 530"
     ]
    },
    {
     "name": "stdout",
     "output_type": "stream",
     "text": [
      "\r- Processing image:    261 / 530"
     ]
    },
    {
     "name": "stdout",
     "output_type": "stream",
     "text": [
      "\r- Processing image:    262 / 530"
     ]
    },
    {
     "name": "stdout",
     "output_type": "stream",
     "text": [
      "\r- Processing image:    263 / 530"
     ]
    },
    {
     "name": "stdout",
     "output_type": "stream",
     "text": [
      "\r- Processing image:    264 / 530"
     ]
    },
    {
     "name": "stdout",
     "output_type": "stream",
     "text": [
      "\r- Processing image:    265 / 530"
     ]
    },
    {
     "name": "stdout",
     "output_type": "stream",
     "text": [
      "\r- Processing image:    266 / 530"
     ]
    },
    {
     "name": "stdout",
     "output_type": "stream",
     "text": [
      "\r- Processing image:    267 / 530"
     ]
    },
    {
     "name": "stdout",
     "output_type": "stream",
     "text": [
      "\r- Processing image:    268 / 530"
     ]
    },
    {
     "name": "stdout",
     "output_type": "stream",
     "text": [
      "\r- Processing image:    269 / 530"
     ]
    },
    {
     "name": "stdout",
     "output_type": "stream",
     "text": [
      "\r- Processing image:    270 / 530"
     ]
    },
    {
     "name": "stdout",
     "output_type": "stream",
     "text": [
      "\r- Processing image:    271 / 530"
     ]
    },
    {
     "name": "stdout",
     "output_type": "stream",
     "text": [
      "\r- Processing image:    272 / 530"
     ]
    },
    {
     "name": "stdout",
     "output_type": "stream",
     "text": [
      "\r- Processing image:    273 / 530"
     ]
    },
    {
     "name": "stdout",
     "output_type": "stream",
     "text": [
      "\r- Processing image:    274 / 530"
     ]
    },
    {
     "name": "stdout",
     "output_type": "stream",
     "text": [
      "\r- Processing image:    275 / 530"
     ]
    },
    {
     "name": "stdout",
     "output_type": "stream",
     "text": [
      "\r- Processing image:    276 / 530"
     ]
    },
    {
     "name": "stdout",
     "output_type": "stream",
     "text": [
      "\r- Processing image:    277 / 530"
     ]
    },
    {
     "name": "stdout",
     "output_type": "stream",
     "text": [
      "\r- Processing image:    278 / 530"
     ]
    },
    {
     "name": "stdout",
     "output_type": "stream",
     "text": [
      "\r- Processing image:    279 / 530"
     ]
    },
    {
     "name": "stdout",
     "output_type": "stream",
     "text": [
      "\r- Processing image:    280 / 530"
     ]
    },
    {
     "name": "stdout",
     "output_type": "stream",
     "text": [
      "\r- Processing image:    281 / 530"
     ]
    },
    {
     "name": "stdout",
     "output_type": "stream",
     "text": [
      "\r- Processing image:    282 / 530"
     ]
    },
    {
     "name": "stdout",
     "output_type": "stream",
     "text": [
      "\r- Processing image:    283 / 530"
     ]
    },
    {
     "name": "stdout",
     "output_type": "stream",
     "text": [
      "\r- Processing image:    284 / 530"
     ]
    },
    {
     "name": "stdout",
     "output_type": "stream",
     "text": [
      "\r- Processing image:    285 / 530"
     ]
    },
    {
     "name": "stdout",
     "output_type": "stream",
     "text": [
      "\r- Processing image:    286 / 530"
     ]
    },
    {
     "name": "stdout",
     "output_type": "stream",
     "text": [
      "\r- Processing image:    287 / 530"
     ]
    },
    {
     "name": "stdout",
     "output_type": "stream",
     "text": [
      "\r- Processing image:    288 / 530"
     ]
    },
    {
     "name": "stdout",
     "output_type": "stream",
     "text": [
      "\r- Processing image:    289 / 530"
     ]
    },
    {
     "name": "stdout",
     "output_type": "stream",
     "text": [
      "\r- Processing image:    290 / 530"
     ]
    },
    {
     "name": "stdout",
     "output_type": "stream",
     "text": [
      "\r- Processing image:    291 / 530"
     ]
    },
    {
     "name": "stdout",
     "output_type": "stream",
     "text": [
      "\r- Processing image:    292 / 530"
     ]
    },
    {
     "name": "stdout",
     "output_type": "stream",
     "text": [
      "\r- Processing image:    293 / 530"
     ]
    },
    {
     "name": "stdout",
     "output_type": "stream",
     "text": [
      "\r- Processing image:    294 / 530"
     ]
    },
    {
     "name": "stdout",
     "output_type": "stream",
     "text": [
      "\r- Processing image:    295 / 530"
     ]
    },
    {
     "name": "stdout",
     "output_type": "stream",
     "text": [
      "\r- Processing image:    296 / 530"
     ]
    },
    {
     "name": "stdout",
     "output_type": "stream",
     "text": [
      "\r- Processing image:    297 / 530"
     ]
    },
    {
     "name": "stdout",
     "output_type": "stream",
     "text": [
      "\r- Processing image:    298 / 530"
     ]
    },
    {
     "name": "stdout",
     "output_type": "stream",
     "text": [
      "\r- Processing image:    299 / 530"
     ]
    },
    {
     "name": "stdout",
     "output_type": "stream",
     "text": [
      "\r- Processing image:    300 / 530"
     ]
    },
    {
     "name": "stdout",
     "output_type": "stream",
     "text": [
      "\r- Processing image:    301 / 530"
     ]
    },
    {
     "name": "stdout",
     "output_type": "stream",
     "text": [
      "\r- Processing image:    302 / 530"
     ]
    },
    {
     "name": "stdout",
     "output_type": "stream",
     "text": [
      "\r- Processing image:    303 / 530"
     ]
    },
    {
     "name": "stdout",
     "output_type": "stream",
     "text": [
      "\r- Processing image:    304 / 530"
     ]
    },
    {
     "name": "stdout",
     "output_type": "stream",
     "text": [
      "\r- Processing image:    305 / 530"
     ]
    },
    {
     "name": "stdout",
     "output_type": "stream",
     "text": [
      "\r- Processing image:    306 / 530"
     ]
    },
    {
     "name": "stdout",
     "output_type": "stream",
     "text": [
      "\r- Processing image:    307 / 530"
     ]
    },
    {
     "name": "stdout",
     "output_type": "stream",
     "text": [
      "\r- Processing image:    308 / 530"
     ]
    },
    {
     "name": "stdout",
     "output_type": "stream",
     "text": [
      "\r- Processing image:    309 / 530"
     ]
    },
    {
     "name": "stdout",
     "output_type": "stream",
     "text": [
      "\r- Processing image:    310 / 530"
     ]
    },
    {
     "name": "stdout",
     "output_type": "stream",
     "text": [
      "\r- Processing image:    311 / 530"
     ]
    },
    {
     "name": "stdout",
     "output_type": "stream",
     "text": [
      "\r- Processing image:    312 / 530"
     ]
    },
    {
     "name": "stdout",
     "output_type": "stream",
     "text": [
      "\r- Processing image:    313 / 530"
     ]
    },
    {
     "name": "stdout",
     "output_type": "stream",
     "text": [
      "\r- Processing image:    314 / 530"
     ]
    },
    {
     "name": "stdout",
     "output_type": "stream",
     "text": [
      "\r- Processing image:    315 / 530"
     ]
    },
    {
     "name": "stdout",
     "output_type": "stream",
     "text": [
      "\r- Processing image:    316 / 530"
     ]
    },
    {
     "name": "stdout",
     "output_type": "stream",
     "text": [
      "\r- Processing image:    317 / 530"
     ]
    },
    {
     "name": "stdout",
     "output_type": "stream",
     "text": [
      "\r- Processing image:    318 / 530"
     ]
    },
    {
     "name": "stdout",
     "output_type": "stream",
     "text": [
      "\r- Processing image:    319 / 530"
     ]
    },
    {
     "name": "stdout",
     "output_type": "stream",
     "text": [
      "\r- Processing image:    320 / 530"
     ]
    },
    {
     "name": "stdout",
     "output_type": "stream",
     "text": [
      "\r- Processing image:    321 / 530"
     ]
    },
    {
     "name": "stdout",
     "output_type": "stream",
     "text": [
      "\r- Processing image:    322 / 530"
     ]
    },
    {
     "name": "stdout",
     "output_type": "stream",
     "text": [
      "\r- Processing image:    323 / 530"
     ]
    },
    {
     "name": "stdout",
     "output_type": "stream",
     "text": [
      "\r- Processing image:    324 / 530"
     ]
    },
    {
     "name": "stdout",
     "output_type": "stream",
     "text": [
      "\r- Processing image:    325 / 530"
     ]
    },
    {
     "name": "stdout",
     "output_type": "stream",
     "text": [
      "\r- Processing image:    326 / 530"
     ]
    },
    {
     "name": "stdout",
     "output_type": "stream",
     "text": [
      "\r- Processing image:    327 / 530"
     ]
    },
    {
     "name": "stdout",
     "output_type": "stream",
     "text": [
      "\r- Processing image:    328 / 530"
     ]
    },
    {
     "name": "stdout",
     "output_type": "stream",
     "text": [
      "\r- Processing image:    329 / 530"
     ]
    },
    {
     "name": "stdout",
     "output_type": "stream",
     "text": [
      "\r- Processing image:    330 / 530"
     ]
    },
    {
     "name": "stdout",
     "output_type": "stream",
     "text": [
      "\r- Processing image:    331 / 530"
     ]
    },
    {
     "name": "stdout",
     "output_type": "stream",
     "text": [
      "\r- Processing image:    332 / 530"
     ]
    },
    {
     "name": "stdout",
     "output_type": "stream",
     "text": [
      "\r- Processing image:    333 / 530"
     ]
    },
    {
     "name": "stdout",
     "output_type": "stream",
     "text": [
      "\r- Processing image:    334 / 530"
     ]
    },
    {
     "name": "stdout",
     "output_type": "stream",
     "text": [
      "\r- Processing image:    335 / 530"
     ]
    },
    {
     "name": "stdout",
     "output_type": "stream",
     "text": [
      "\r- Processing image:    336 / 530"
     ]
    },
    {
     "name": "stdout",
     "output_type": "stream",
     "text": [
      "\r- Processing image:    337 / 530"
     ]
    },
    {
     "name": "stdout",
     "output_type": "stream",
     "text": [
      "\r- Processing image:    338 / 530"
     ]
    },
    {
     "name": "stdout",
     "output_type": "stream",
     "text": [
      "\r- Processing image:    339 / 530"
     ]
    },
    {
     "name": "stdout",
     "output_type": "stream",
     "text": [
      "\r- Processing image:    340 / 530"
     ]
    },
    {
     "name": "stdout",
     "output_type": "stream",
     "text": [
      "\r- Processing image:    341 / 530"
     ]
    },
    {
     "name": "stdout",
     "output_type": "stream",
     "text": [
      "\r- Processing image:    342 / 530"
     ]
    },
    {
     "name": "stdout",
     "output_type": "stream",
     "text": [
      "\r- Processing image:    343 / 530"
     ]
    },
    {
     "name": "stdout",
     "output_type": "stream",
     "text": [
      "\r- Processing image:    344 / 530"
     ]
    },
    {
     "name": "stdout",
     "output_type": "stream",
     "text": [
      "\r- Processing image:    345 / 530"
     ]
    },
    {
     "name": "stdout",
     "output_type": "stream",
     "text": [
      "\r- Processing image:    346 / 530"
     ]
    },
    {
     "name": "stdout",
     "output_type": "stream",
     "text": [
      "\r- Processing image:    347 / 530"
     ]
    },
    {
     "name": "stdout",
     "output_type": "stream",
     "text": [
      "\r- Processing image:    348 / 530"
     ]
    },
    {
     "name": "stdout",
     "output_type": "stream",
     "text": [
      "\r- Processing image:    349 / 530"
     ]
    },
    {
     "name": "stdout",
     "output_type": "stream",
     "text": [
      "\r- Processing image:    350 / 530"
     ]
    },
    {
     "name": "stdout",
     "output_type": "stream",
     "text": [
      "\r- Processing image:    351 / 530"
     ]
    },
    {
     "name": "stdout",
     "output_type": "stream",
     "text": [
      "\r- Processing image:    352 / 530"
     ]
    },
    {
     "name": "stdout",
     "output_type": "stream",
     "text": [
      "\r- Processing image:    353 / 530"
     ]
    },
    {
     "name": "stdout",
     "output_type": "stream",
     "text": [
      "\r- Processing image:    354 / 530"
     ]
    },
    {
     "name": "stdout",
     "output_type": "stream",
     "text": [
      "\r- Processing image:    355 / 530"
     ]
    },
    {
     "name": "stdout",
     "output_type": "stream",
     "text": [
      "\r- Processing image:    356 / 530"
     ]
    },
    {
     "name": "stdout",
     "output_type": "stream",
     "text": [
      "\r- Processing image:    357 / 530"
     ]
    },
    {
     "name": "stdout",
     "output_type": "stream",
     "text": [
      "\r- Processing image:    358 / 530"
     ]
    },
    {
     "name": "stdout",
     "output_type": "stream",
     "text": [
      "\r- Processing image:    359 / 530"
     ]
    },
    {
     "name": "stdout",
     "output_type": "stream",
     "text": [
      "\r- Processing image:    360 / 530"
     ]
    },
    {
     "name": "stdout",
     "output_type": "stream",
     "text": [
      "\r- Processing image:    361 / 530"
     ]
    },
    {
     "name": "stdout",
     "output_type": "stream",
     "text": [
      "\r- Processing image:    362 / 530"
     ]
    },
    {
     "name": "stdout",
     "output_type": "stream",
     "text": [
      "\r- Processing image:    363 / 530"
     ]
    },
    {
     "name": "stdout",
     "output_type": "stream",
     "text": [
      "\r- Processing image:    364 / 530"
     ]
    },
    {
     "name": "stdout",
     "output_type": "stream",
     "text": [
      "\r- Processing image:    365 / 530"
     ]
    },
    {
     "name": "stdout",
     "output_type": "stream",
     "text": [
      "\r- Processing image:    366 / 530"
     ]
    },
    {
     "name": "stdout",
     "output_type": "stream",
     "text": [
      "\r- Processing image:    367 / 530"
     ]
    },
    {
     "name": "stdout",
     "output_type": "stream",
     "text": [
      "\r- Processing image:    368 / 530"
     ]
    },
    {
     "name": "stdout",
     "output_type": "stream",
     "text": [
      "\r- Processing image:    369 / 530"
     ]
    },
    {
     "name": "stdout",
     "output_type": "stream",
     "text": [
      "\r- Processing image:    370 / 530"
     ]
    },
    {
     "name": "stdout",
     "output_type": "stream",
     "text": [
      "\r- Processing image:    371 / 530"
     ]
    },
    {
     "name": "stdout",
     "output_type": "stream",
     "text": [
      "\r- Processing image:    372 / 530"
     ]
    },
    {
     "name": "stdout",
     "output_type": "stream",
     "text": [
      "\r- Processing image:    373 / 530"
     ]
    },
    {
     "name": "stdout",
     "output_type": "stream",
     "text": [
      "\r- Processing image:    374 / 530"
     ]
    },
    {
     "name": "stdout",
     "output_type": "stream",
     "text": [
      "\r- Processing image:    375 / 530"
     ]
    },
    {
     "name": "stdout",
     "output_type": "stream",
     "text": [
      "\r- Processing image:    376 / 530"
     ]
    },
    {
     "name": "stdout",
     "output_type": "stream",
     "text": [
      "\r- Processing image:    377 / 530"
     ]
    },
    {
     "name": "stdout",
     "output_type": "stream",
     "text": [
      "\r- Processing image:    378 / 530"
     ]
    },
    {
     "name": "stdout",
     "output_type": "stream",
     "text": [
      "\r- Processing image:    379 / 530"
     ]
    },
    {
     "name": "stdout",
     "output_type": "stream",
     "text": [
      "\r- Processing image:    380 / 530"
     ]
    },
    {
     "name": "stdout",
     "output_type": "stream",
     "text": [
      "\r- Processing image:    381 / 530"
     ]
    },
    {
     "name": "stdout",
     "output_type": "stream",
     "text": [
      "\r- Processing image:    382 / 530"
     ]
    },
    {
     "name": "stdout",
     "output_type": "stream",
     "text": [
      "\r- Processing image:    383 / 530"
     ]
    },
    {
     "name": "stdout",
     "output_type": "stream",
     "text": [
      "\r- Processing image:    384 / 530"
     ]
    },
    {
     "name": "stdout",
     "output_type": "stream",
     "text": [
      "\r- Processing image:    385 / 530"
     ]
    },
    {
     "name": "stdout",
     "output_type": "stream",
     "text": [
      "\r- Processing image:    386 / 530"
     ]
    },
    {
     "name": "stdout",
     "output_type": "stream",
     "text": [
      "\r- Processing image:    387 / 530"
     ]
    },
    {
     "name": "stdout",
     "output_type": "stream",
     "text": [
      "\r- Processing image:    388 / 530"
     ]
    },
    {
     "name": "stdout",
     "output_type": "stream",
     "text": [
      "\r- Processing image:    389 / 530"
     ]
    },
    {
     "name": "stdout",
     "output_type": "stream",
     "text": [
      "\r- Processing image:    390 / 530"
     ]
    },
    {
     "name": "stdout",
     "output_type": "stream",
     "text": [
      "\r- Processing image:    391 / 530"
     ]
    },
    {
     "name": "stdout",
     "output_type": "stream",
     "text": [
      "\r- Processing image:    392 / 530"
     ]
    },
    {
     "name": "stdout",
     "output_type": "stream",
     "text": [
      "\r- Processing image:    393 / 530"
     ]
    },
    {
     "name": "stdout",
     "output_type": "stream",
     "text": [
      "\r- Processing image:    394 / 530"
     ]
    },
    {
     "name": "stdout",
     "output_type": "stream",
     "text": [
      "\r- Processing image:    395 / 530"
     ]
    },
    {
     "name": "stdout",
     "output_type": "stream",
     "text": [
      "\r- Processing image:    396 / 530"
     ]
    },
    {
     "name": "stdout",
     "output_type": "stream",
     "text": [
      "\r- Processing image:    397 / 530"
     ]
    },
    {
     "name": "stdout",
     "output_type": "stream",
     "text": [
      "\r- Processing image:    398 / 530"
     ]
    },
    {
     "name": "stdout",
     "output_type": "stream",
     "text": [
      "\r- Processing image:    399 / 530"
     ]
    },
    {
     "name": "stdout",
     "output_type": "stream",
     "text": [
      "\r- Processing image:    400 / 530"
     ]
    },
    {
     "name": "stdout",
     "output_type": "stream",
     "text": [
      "\r- Processing image:    401 / 530"
     ]
    },
    {
     "name": "stdout",
     "output_type": "stream",
     "text": [
      "\r- Processing image:    402 / 530"
     ]
    },
    {
     "name": "stdout",
     "output_type": "stream",
     "text": [
      "\r- Processing image:    403 / 530"
     ]
    },
    {
     "name": "stdout",
     "output_type": "stream",
     "text": [
      "\r- Processing image:    404 / 530"
     ]
    },
    {
     "name": "stdout",
     "output_type": "stream",
     "text": [
      "\r- Processing image:    405 / 530"
     ]
    },
    {
     "name": "stdout",
     "output_type": "stream",
     "text": [
      "\r- Processing image:    406 / 530"
     ]
    },
    {
     "name": "stdout",
     "output_type": "stream",
     "text": [
      "\r- Processing image:    407 / 530"
     ]
    },
    {
     "name": "stdout",
     "output_type": "stream",
     "text": [
      "\r- Processing image:    408 / 530"
     ]
    },
    {
     "name": "stdout",
     "output_type": "stream",
     "text": [
      "\r- Processing image:    409 / 530"
     ]
    },
    {
     "name": "stdout",
     "output_type": "stream",
     "text": [
      "\r- Processing image:    410 / 530"
     ]
    },
    {
     "name": "stdout",
     "output_type": "stream",
     "text": [
      "\r- Processing image:    411 / 530"
     ]
    },
    {
     "name": "stdout",
     "output_type": "stream",
     "text": [
      "\r- Processing image:    412 / 530"
     ]
    },
    {
     "name": "stdout",
     "output_type": "stream",
     "text": [
      "\r- Processing image:    413 / 530"
     ]
    },
    {
     "name": "stdout",
     "output_type": "stream",
     "text": [
      "\r- Processing image:    414 / 530"
     ]
    },
    {
     "name": "stdout",
     "output_type": "stream",
     "text": [
      "\r- Processing image:    415 / 530"
     ]
    },
    {
     "name": "stdout",
     "output_type": "stream",
     "text": [
      "\r- Processing image:    416 / 530"
     ]
    },
    {
     "name": "stdout",
     "output_type": "stream",
     "text": [
      "\r- Processing image:    417 / 530"
     ]
    },
    {
     "name": "stdout",
     "output_type": "stream",
     "text": [
      "\r- Processing image:    418 / 530"
     ]
    },
    {
     "name": "stdout",
     "output_type": "stream",
     "text": [
      "\r- Processing image:    419 / 530"
     ]
    },
    {
     "name": "stdout",
     "output_type": "stream",
     "text": [
      "\r- Processing image:    420 / 530"
     ]
    },
    {
     "name": "stdout",
     "output_type": "stream",
     "text": [
      "\r- Processing image:    421 / 530"
     ]
    },
    {
     "name": "stdout",
     "output_type": "stream",
     "text": [
      "\r- Processing image:    422 / 530"
     ]
    },
    {
     "name": "stdout",
     "output_type": "stream",
     "text": [
      "\r- Processing image:    423 / 530"
     ]
    },
    {
     "name": "stdout",
     "output_type": "stream",
     "text": [
      "\r- Processing image:    424 / 530"
     ]
    },
    {
     "name": "stdout",
     "output_type": "stream",
     "text": [
      "\r- Processing image:    425 / 530"
     ]
    },
    {
     "name": "stdout",
     "output_type": "stream",
     "text": [
      "\r- Processing image:    426 / 530"
     ]
    },
    {
     "name": "stdout",
     "output_type": "stream",
     "text": [
      "\r- Processing image:    427 / 530"
     ]
    },
    {
     "name": "stdout",
     "output_type": "stream",
     "text": [
      "\r- Processing image:    428 / 530"
     ]
    },
    {
     "name": "stdout",
     "output_type": "stream",
     "text": [
      "\r- Processing image:    429 / 530"
     ]
    },
    {
     "name": "stdout",
     "output_type": "stream",
     "text": [
      "\r- Processing image:    430 / 530"
     ]
    },
    {
     "name": "stdout",
     "output_type": "stream",
     "text": [
      "\r- Processing image:    431 / 530"
     ]
    },
    {
     "name": "stdout",
     "output_type": "stream",
     "text": [
      "\r- Processing image:    432 / 530"
     ]
    },
    {
     "name": "stdout",
     "output_type": "stream",
     "text": [
      "\r- Processing image:    433 / 530"
     ]
    },
    {
     "name": "stdout",
     "output_type": "stream",
     "text": [
      "\r- Processing image:    434 / 530"
     ]
    },
    {
     "name": "stdout",
     "output_type": "stream",
     "text": [
      "\r- Processing image:    435 / 530"
     ]
    },
    {
     "name": "stdout",
     "output_type": "stream",
     "text": [
      "\r- Processing image:    436 / 530"
     ]
    },
    {
     "name": "stdout",
     "output_type": "stream",
     "text": [
      "\r- Processing image:    437 / 530"
     ]
    },
    {
     "name": "stdout",
     "output_type": "stream",
     "text": [
      "\r- Processing image:    438 / 530"
     ]
    },
    {
     "name": "stdout",
     "output_type": "stream",
     "text": [
      "\r- Processing image:    439 / 530"
     ]
    },
    {
     "name": "stdout",
     "output_type": "stream",
     "text": [
      "\r- Processing image:    440 / 530"
     ]
    },
    {
     "name": "stdout",
     "output_type": "stream",
     "text": [
      "\r- Processing image:    441 / 530"
     ]
    },
    {
     "name": "stdout",
     "output_type": "stream",
     "text": [
      "\r- Processing image:    442 / 530"
     ]
    },
    {
     "name": "stdout",
     "output_type": "stream",
     "text": [
      "\r- Processing image:    443 / 530"
     ]
    },
    {
     "name": "stdout",
     "output_type": "stream",
     "text": [
      "\r- Processing image:    444 / 530"
     ]
    },
    {
     "name": "stdout",
     "output_type": "stream",
     "text": [
      "\r- Processing image:    445 / 530"
     ]
    },
    {
     "name": "stdout",
     "output_type": "stream",
     "text": [
      "\r- Processing image:    446 / 530"
     ]
    },
    {
     "name": "stdout",
     "output_type": "stream",
     "text": [
      "\r- Processing image:    447 / 530"
     ]
    },
    {
     "name": "stdout",
     "output_type": "stream",
     "text": [
      "\r- Processing image:    448 / 530"
     ]
    },
    {
     "name": "stdout",
     "output_type": "stream",
     "text": [
      "\r- Processing image:    449 / 530"
     ]
    },
    {
     "name": "stdout",
     "output_type": "stream",
     "text": [
      "\r- Processing image:    450 / 530"
     ]
    },
    {
     "name": "stdout",
     "output_type": "stream",
     "text": [
      "\r- Processing image:    451 / 530"
     ]
    },
    {
     "name": "stdout",
     "output_type": "stream",
     "text": [
      "\r- Processing image:    452 / 530"
     ]
    },
    {
     "name": "stdout",
     "output_type": "stream",
     "text": [
      "\r- Processing image:    453 / 530"
     ]
    },
    {
     "name": "stdout",
     "output_type": "stream",
     "text": [
      "\r- Processing image:    454 / 530"
     ]
    },
    {
     "name": "stdout",
     "output_type": "stream",
     "text": [
      "\r- Processing image:    455 / 530"
     ]
    },
    {
     "name": "stdout",
     "output_type": "stream",
     "text": [
      "\r- Processing image:    456 / 530"
     ]
    },
    {
     "name": "stdout",
     "output_type": "stream",
     "text": [
      "\r- Processing image:    457 / 530"
     ]
    },
    {
     "name": "stdout",
     "output_type": "stream",
     "text": [
      "\r- Processing image:    458 / 530"
     ]
    },
    {
     "name": "stdout",
     "output_type": "stream",
     "text": [
      "\r- Processing image:    459 / 530"
     ]
    },
    {
     "name": "stdout",
     "output_type": "stream",
     "text": [
      "\r- Processing image:    460 / 530"
     ]
    },
    {
     "name": "stdout",
     "output_type": "stream",
     "text": [
      "\r- Processing image:    461 / 530"
     ]
    },
    {
     "name": "stdout",
     "output_type": "stream",
     "text": [
      "\r- Processing image:    462 / 530"
     ]
    },
    {
     "name": "stdout",
     "output_type": "stream",
     "text": [
      "\r- Processing image:    463 / 530"
     ]
    },
    {
     "name": "stdout",
     "output_type": "stream",
     "text": [
      "\r- Processing image:    464 / 530"
     ]
    },
    {
     "name": "stdout",
     "output_type": "stream",
     "text": [
      "\r- Processing image:    465 / 530"
     ]
    },
    {
     "name": "stdout",
     "output_type": "stream",
     "text": [
      "\r- Processing image:    466 / 530"
     ]
    },
    {
     "name": "stdout",
     "output_type": "stream",
     "text": [
      "\r- Processing image:    467 / 530"
     ]
    },
    {
     "name": "stdout",
     "output_type": "stream",
     "text": [
      "\r- Processing image:    468 / 530"
     ]
    },
    {
     "name": "stdout",
     "output_type": "stream",
     "text": [
      "\r- Processing image:    469 / 530"
     ]
    },
    {
     "name": "stdout",
     "output_type": "stream",
     "text": [
      "\r- Processing image:    470 / 530"
     ]
    },
    {
     "name": "stdout",
     "output_type": "stream",
     "text": [
      "\r- Processing image:    471 / 530"
     ]
    },
    {
     "name": "stdout",
     "output_type": "stream",
     "text": [
      "\r- Processing image:    472 / 530"
     ]
    },
    {
     "name": "stdout",
     "output_type": "stream",
     "text": [
      "\r- Processing image:    473 / 530"
     ]
    },
    {
     "name": "stdout",
     "output_type": "stream",
     "text": [
      "\r- Processing image:    474 / 530"
     ]
    },
    {
     "name": "stdout",
     "output_type": "stream",
     "text": [
      "\r- Processing image:    475 / 530"
     ]
    },
    {
     "name": "stdout",
     "output_type": "stream",
     "text": [
      "\r- Processing image:    476 / 530"
     ]
    },
    {
     "name": "stdout",
     "output_type": "stream",
     "text": [
      "\r- Processing image:    477 / 530"
     ]
    },
    {
     "name": "stdout",
     "output_type": "stream",
     "text": [
      "\r- Processing image:    478 / 530"
     ]
    },
    {
     "name": "stdout",
     "output_type": "stream",
     "text": [
      "\r- Processing image:    479 / 530"
     ]
    },
    {
     "name": "stdout",
     "output_type": "stream",
     "text": [
      "\r- Processing image:    480 / 530"
     ]
    },
    {
     "name": "stdout",
     "output_type": "stream",
     "text": [
      "\r- Processing image:    481 / 530"
     ]
    },
    {
     "name": "stdout",
     "output_type": "stream",
     "text": [
      "\r- Processing image:    482 / 530"
     ]
    },
    {
     "name": "stdout",
     "output_type": "stream",
     "text": [
      "\r- Processing image:    483 / 530"
     ]
    },
    {
     "name": "stdout",
     "output_type": "stream",
     "text": [
      "\r- Processing image:    484 / 530"
     ]
    },
    {
     "name": "stdout",
     "output_type": "stream",
     "text": [
      "\r- Processing image:    485 / 530"
     ]
    },
    {
     "name": "stdout",
     "output_type": "stream",
     "text": [
      "\r- Processing image:    486 / 530"
     ]
    },
    {
     "name": "stdout",
     "output_type": "stream",
     "text": [
      "\r- Processing image:    487 / 530"
     ]
    },
    {
     "name": "stdout",
     "output_type": "stream",
     "text": [
      "\r- Processing image:    488 / 530"
     ]
    },
    {
     "name": "stdout",
     "output_type": "stream",
     "text": [
      "\r- Processing image:    489 / 530"
     ]
    },
    {
     "name": "stdout",
     "output_type": "stream",
     "text": [
      "\r- Processing image:    490 / 530"
     ]
    },
    {
     "name": "stdout",
     "output_type": "stream",
     "text": [
      "\r- Processing image:    491 / 530"
     ]
    },
    {
     "name": "stdout",
     "output_type": "stream",
     "text": [
      "\r- Processing image:    492 / 530"
     ]
    },
    {
     "name": "stdout",
     "output_type": "stream",
     "text": [
      "\r- Processing image:    493 / 530"
     ]
    },
    {
     "name": "stdout",
     "output_type": "stream",
     "text": [
      "\r- Processing image:    494 / 530"
     ]
    },
    {
     "name": "stdout",
     "output_type": "stream",
     "text": [
      "\r- Processing image:    495 / 530"
     ]
    },
    {
     "name": "stdout",
     "output_type": "stream",
     "text": [
      "\r- Processing image:    496 / 530"
     ]
    },
    {
     "name": "stdout",
     "output_type": "stream",
     "text": [
      "\r- Processing image:    497 / 530"
     ]
    },
    {
     "name": "stdout",
     "output_type": "stream",
     "text": [
      "\r- Processing image:    498 / 530"
     ]
    },
    {
     "name": "stdout",
     "output_type": "stream",
     "text": [
      "\r- Processing image:    499 / 530"
     ]
    },
    {
     "name": "stdout",
     "output_type": "stream",
     "text": [
      "\r- Processing image:    500 / 530"
     ]
    },
    {
     "name": "stdout",
     "output_type": "stream",
     "text": [
      "\r- Processing image:    501 / 530"
     ]
    },
    {
     "name": "stdout",
     "output_type": "stream",
     "text": [
      "\r- Processing image:    502 / 530"
     ]
    },
    {
     "name": "stdout",
     "output_type": "stream",
     "text": [
      "\r- Processing image:    503 / 530"
     ]
    },
    {
     "name": "stdout",
     "output_type": "stream",
     "text": [
      "\r- Processing image:    504 / 530"
     ]
    },
    {
     "name": "stdout",
     "output_type": "stream",
     "text": [
      "\r- Processing image:    505 / 530"
     ]
    },
    {
     "name": "stdout",
     "output_type": "stream",
     "text": [
      "\r- Processing image:    506 / 530"
     ]
    },
    {
     "name": "stdout",
     "output_type": "stream",
     "text": [
      "\r- Processing image:    507 / 530"
     ]
    },
    {
     "name": "stdout",
     "output_type": "stream",
     "text": [
      "\r- Processing image:    508 / 530"
     ]
    },
    {
     "name": "stdout",
     "output_type": "stream",
     "text": [
      "\r- Processing image:    509 / 530"
     ]
    },
    {
     "name": "stdout",
     "output_type": "stream",
     "text": [
      "\r- Processing image:    510 / 530"
     ]
    },
    {
     "name": "stdout",
     "output_type": "stream",
     "text": [
      "\r- Processing image:    511 / 530"
     ]
    },
    {
     "name": "stdout",
     "output_type": "stream",
     "text": [
      "\r- Processing image:    512 / 530"
     ]
    },
    {
     "name": "stdout",
     "output_type": "stream",
     "text": [
      "\r- Processing image:    513 / 530"
     ]
    },
    {
     "name": "stdout",
     "output_type": "stream",
     "text": [
      "\r- Processing image:    514 / 530"
     ]
    },
    {
     "name": "stdout",
     "output_type": "stream",
     "text": [
      "\r- Processing image:    515 / 530"
     ]
    },
    {
     "name": "stdout",
     "output_type": "stream",
     "text": [
      "\r- Processing image:    516 / 530"
     ]
    },
    {
     "name": "stdout",
     "output_type": "stream",
     "text": [
      "\r- Processing image:    517 / 530"
     ]
    },
    {
     "name": "stdout",
     "output_type": "stream",
     "text": [
      "\r- Processing image:    518 / 530"
     ]
    },
    {
     "name": "stdout",
     "output_type": "stream",
     "text": [
      "\r- Processing image:    519 / 530"
     ]
    },
    {
     "name": "stdout",
     "output_type": "stream",
     "text": [
      "\r- Processing image:    520 / 530"
     ]
    },
    {
     "name": "stdout",
     "output_type": "stream",
     "text": [
      "\r- Processing image:    521 / 530"
     ]
    },
    {
     "name": "stdout",
     "output_type": "stream",
     "text": [
      "\r- Processing image:    522 / 530"
     ]
    },
    {
     "name": "stdout",
     "output_type": "stream",
     "text": [
      "\r- Processing image:    523 / 530"
     ]
    },
    {
     "name": "stdout",
     "output_type": "stream",
     "text": [
      "\r- Processing image:    524 / 530"
     ]
    },
    {
     "name": "stdout",
     "output_type": "stream",
     "text": [
      "\r- Processing image:    525 / 530"
     ]
    },
    {
     "name": "stdout",
     "output_type": "stream",
     "text": [
      "\r- Processing image:    526 / 530"
     ]
    },
    {
     "name": "stdout",
     "output_type": "stream",
     "text": [
      "\r- Processing image:    527 / 530"
     ]
    },
    {
     "name": "stdout",
     "output_type": "stream",
     "text": [
      "\r- Processing image:    528 / 530"
     ]
    },
    {
     "name": "stdout",
     "output_type": "stream",
     "text": [
      "\r- Processing image:    529 / 530"
     ]
    },
    {
     "name": "stdout",
     "output_type": "stream",
     "text": [
      "\r- Processing image:    530 / 530"
     ]
    },
    {
     "name": "stdout",
     "output_type": "stream",
     "text": [
      "\n- Data saved to cache-file: data/knifey-spoony/inception-knifey-test.pkl\n"
     ]
    }
   ],
   "source": [
    "inception.maybe_download()\n",
    "model = inception.Inception()\n",
    "from inception import transfer_values_cache\n",
    "file_path_cache_train = os.path.join(data_dir, 'inception-knifey-train.pkl')\n",
    "file_path_cache_test = os.path.join(data_dir, 'inception-knifey-test.pkl')\n",
    "print(\"Processing Inception transfer-values for training-images ...\")\n",
    "\n",
    "# If transfer-values have already been calculated then reload them,\n",
    "# otherwise calculate them and save them to a cache-file.\n",
    "transfer_values_train = transfer_values_cache(cache_path=file_path_cache_train,\n",
    "                                              image_paths=image_paths_train,\n",
    "                                              model=model)\n",
    "\n",
    "print(\"Processing Inception transfer-values for test-images ...\")\n",
    "\n",
    "# If transfer-values have already been calculated then reload them,\n",
    "# otherwise calculate them and save them to a cache-file.\n",
    "transfer_values_test = transfer_values_cache(cache_path=file_path_cache_test,\n",
    "                                             image_paths=image_paths_test,\n",
    "                                             model=model)"
   ]
  },
  {
   "cell_type": "code",
   "execution_count": 8,
   "metadata": {},
   "outputs": [],
   "source": [
    "transfer_len = model.transfer_len\n",
    "x = tf.placeholder(tf.float32, shape=[None, transfer_len], name='x')\n",
    "y_true = tf.placeholder(tf.float32, shape=[None, num_classes], name='y_true')\n",
    "y_true_cls = tf.argmax(y_true, dimension=1)"
   ]
  },
  {
   "cell_type": "code",
   "execution_count": 10,
   "metadata": {},
   "outputs": [],
   "source": [
    "x_pretty = pt.wrap(x)\n",
    "\n",
    "with pt.defaults_scope(activation_fn=tf.nn.relu):\n",
    "    y_pred, loss = x_pretty.\\\n",
    "        fully_connected(size=1024, name='layer_fc1').\\\n",
    "        softmax_classifier(num_classes=num_classes, labels=y_true)\n",
    "    \n",
    "global_step = tf.Variable(initial_value=0,\n",
    "                          name='global_step', trainable=False)\n",
    "\n",
    "optimizer = tf.train.AdamOptimizer(learning_rate=1e-4).minimize(loss, global_step)\n",
    "y_pred_cls = tf.argmax(y_pred, dimension=1)\n",
    "correct_prediction = tf.equal(y_pred_cls, y_true_cls)\n",
    "accuracy = tf.reduce_mean(tf.cast(correct_prediction, tf.float32))"
   ]
  },
  {
   "cell_type": "code",
   "execution_count": 15,
   "metadata": {},
   "outputs": [],
   "source": [
    "train_batch_size = 64"
   ]
  },
  {
   "cell_type": "code",
   "execution_count": 13,
   "metadata": {},
   "outputs": [],
   "source": [
    "def random_batch():\n",
    "    # Number of images (transfer-values) in the training-set.\n",
    "    num_images = len(transfer_values_train)\n",
    "\n",
    "    # Create a random index.\n",
    "    idx = np.random.choice(num_images,\n",
    "                           size=train_batch_size,\n",
    "                           replace=False)\n",
    "\n",
    "    # Use the random index to select random x and y-values.\n",
    "    # We use the transfer-values instead of images as x-values.\n",
    "    x_batch = transfer_values_train[idx]\n",
    "    y_batch = labels_train[idx]\n",
    "\n",
    "    return x_batch, y_batch"
   ]
  },
  {
   "cell_type": "code",
   "execution_count": 14,
   "metadata": {},
   "outputs": [],
   "source": [
    "def optimize(num_iterations):\n",
    "    # Start-time used for printing time-usage below.\n",
    "    start_time = time.time()\n",
    "\n",
    "    for i in range(num_iterations):\n",
    "        # Get a batch of training examples.\n",
    "        # x_batch now holds a batch of images (transfer-values) and\n",
    "        # y_true_batch are the true labels for those images.\n",
    "        x_batch, y_true_batch = random_batch()\n",
    "\n",
    "        # Put the batch into a dict with the proper names\n",
    "        # for placeholder variables in the TensorFlow graph.\n",
    "        feed_dict_train = {x: x_batch,\n",
    "                           y_true: y_true_batch}\n",
    "\n",
    "        # Run the optimizer using this batch of training data.\n",
    "        # TensorFlow assigns the variables in feed_dict_train\n",
    "        # to the placeholder variables and then runs the optimizer.\n",
    "        # We also want to retrieve the global_step counter.\n",
    "        i_global, _ = session.run([global_step, optimizer],\n",
    "                                  feed_dict=feed_dict_train)\n",
    "\n",
    "        # Print status to screen every 100 iterations (and last).\n",
    "        if (i_global % 100 == 0) or (i == num_iterations - 1):\n",
    "            # Calculate the accuracy on the training-batch.\n",
    "            batch_acc = session.run(accuracy,\n",
    "                                    feed_dict=feed_dict_train)\n",
    "\n",
    "            # Print status.\n",
    "            msg = \"Global Step: {0:>6}, Training Batch Accuracy: {1:>6.1%}\"\n",
    "            print(msg.format(i_global, batch_acc))\n",
    "\n",
    "    # Ending time.\n",
    "    end_time = time.time()\n",
    "\n",
    "    # Difference between start and end-times.\n",
    "    time_dif = end_time - start_time\n",
    "\n",
    "    # Print the time-usage.\n",
    "    print(\"Time usage: \" + str(timedelta(seconds=int(round(time_dif)))))"
   ]
  },
  {
   "cell_type": "code",
   "execution_count": 21,
   "metadata": {},
   "outputs": [
    {
     "name": "stdout",
     "output_type": "stream",
     "text": [
      "Global Step:    100, Training Batch Accuracy:  93.8%\n"
     ]
    },
    {
     "name": "stdout",
     "output_type": "stream",
     "text": [
      "Global Step:    200, Training Batch Accuracy:  98.4%\n"
     ]
    },
    {
     "name": "stdout",
     "output_type": "stream",
     "text": [
      "Global Step:    300, Training Batch Accuracy:  98.4%\n"
     ]
    },
    {
     "name": "stdout",
     "output_type": "stream",
     "text": [
      "Global Step:    400, Training Batch Accuracy:  98.4%\n"
     ]
    },
    {
     "name": "stdout",
     "output_type": "stream",
     "text": [
      "Global Step:    500, Training Batch Accuracy: 100.0%\n"
     ]
    },
    {
     "name": "stdout",
     "output_type": "stream",
     "text": [
      "Global Step:    600, Training Batch Accuracy: 100.0%\n"
     ]
    },
    {
     "name": "stdout",
     "output_type": "stream",
     "text": [
      "Global Step:    700, Training Batch Accuracy:  98.4%\n"
     ]
    },
    {
     "name": "stdout",
     "output_type": "stream",
     "text": [
      "Global Step:    800, Training Batch Accuracy: 100.0%\n"
     ]
    },
    {
     "name": "stdout",
     "output_type": "stream",
     "text": [
      "Global Step:    900, Training Batch Accuracy: 100.0%\n"
     ]
    },
    {
     "name": "stdout",
     "output_type": "stream",
     "text": [
      "Global Step:   1000, Training Batch Accuracy: 100.0%\n"
     ]
    },
    {
     "name": "stdout",
     "output_type": "stream",
     "text": [
      "Global Step:   1100, Training Batch Accuracy: 100.0%\n"
     ]
    },
    {
     "name": "stdout",
     "output_type": "stream",
     "text": [
      "Global Step:   1200, Training Batch Accuracy: 100.0%\n"
     ]
    },
    {
     "name": "stdout",
     "output_type": "stream",
     "text": [
      "Global Step:   1300, Training Batch Accuracy: 100.0%\n"
     ]
    },
    {
     "name": "stdout",
     "output_type": "stream",
     "text": [
      "Global Step:   1400, Training Batch Accuracy: 100.0%\n"
     ]
    },
    {
     "name": "stdout",
     "output_type": "stream",
     "text": [
      "Global Step:   1500, Training Batch Accuracy: 100.0%\n"
     ]
    },
    {
     "name": "stdout",
     "output_type": "stream",
     "text": [
      "Global Step:   1600, Training Batch Accuracy: 100.0%\n"
     ]
    },
    {
     "name": "stdout",
     "output_type": "stream",
     "text": [
      "Global Step:   1700, Training Batch Accuracy: 100.0%\n"
     ]
    },
    {
     "name": "stdout",
     "output_type": "stream",
     "text": [
      "Global Step:   1800, Training Batch Accuracy: 100.0%\n"
     ]
    },
    {
     "name": "stdout",
     "output_type": "stream",
     "text": [
      "Global Step:   1900, Training Batch Accuracy: 100.0%\n"
     ]
    },
    {
     "name": "stdout",
     "output_type": "stream",
     "text": [
      "Global Step:   2000, Training Batch Accuracy: 100.0%\n"
     ]
    },
    {
     "name": "stdout",
     "output_type": "stream",
     "text": [
      "Global Step:   2100, Training Batch Accuracy: 100.0%\n"
     ]
    },
    {
     "name": "stdout",
     "output_type": "stream",
     "text": [
      "Global Step:   2200, Training Batch Accuracy: 100.0%\n"
     ]
    },
    {
     "name": "stdout",
     "output_type": "stream",
     "text": [
      "Global Step:   2300, Training Batch Accuracy: 100.0%\n"
     ]
    },
    {
     "name": "stdout",
     "output_type": "stream",
     "text": [
      "Global Step:   2400, Training Batch Accuracy: 100.0%\n"
     ]
    },
    {
     "name": "stdout",
     "output_type": "stream",
     "text": [
      "Global Step:   2500, Training Batch Accuracy: 100.0%\n"
     ]
    },
    {
     "name": "stdout",
     "output_type": "stream",
     "text": [
      "Global Step:   2600, Training Batch Accuracy: 100.0%\n"
     ]
    },
    {
     "name": "stdout",
     "output_type": "stream",
     "text": [
      "Global Step:   2700, Training Batch Accuracy: 100.0%\n"
     ]
    },
    {
     "name": "stdout",
     "output_type": "stream",
     "text": [
      "Global Step:   2800, Training Batch Accuracy: 100.0%\n"
     ]
    },
    {
     "name": "stdout",
     "output_type": "stream",
     "text": [
      "Global Step:   2900, Training Batch Accuracy: 100.0%\n"
     ]
    },
    {
     "name": "stdout",
     "output_type": "stream",
     "text": [
      "Global Step:   3000, Training Batch Accuracy: 100.0%\n"
     ]
    },
    {
     "name": "stdout",
     "output_type": "stream",
     "text": [
      "Global Step:   3100, Training Batch Accuracy: 100.0%\n"
     ]
    },
    {
     "name": "stdout",
     "output_type": "stream",
     "text": [
      "Global Step:   3200, Training Batch Accuracy: 100.0%\n"
     ]
    },
    {
     "name": "stdout",
     "output_type": "stream",
     "text": [
      "Global Step:   3300, Training Batch Accuracy: 100.0%\n"
     ]
    },
    {
     "name": "stdout",
     "output_type": "stream",
     "text": [
      "Global Step:   3400, Training Batch Accuracy: 100.0%\n"
     ]
    },
    {
     "name": "stdout",
     "output_type": "stream",
     "text": [
      "Global Step:   3500, Training Batch Accuracy: 100.0%\n"
     ]
    },
    {
     "name": "stdout",
     "output_type": "stream",
     "text": [
      "Global Step:   3600, Training Batch Accuracy: 100.0%\n"
     ]
    },
    {
     "name": "stdout",
     "output_type": "stream",
     "text": [
      "Global Step:   3700, Training Batch Accuracy: 100.0%\n"
     ]
    },
    {
     "name": "stdout",
     "output_type": "stream",
     "text": [
      "Global Step:   3800, Training Batch Accuracy: 100.0%\n"
     ]
    },
    {
     "name": "stdout",
     "output_type": "stream",
     "text": [
      "Global Step:   3900, Training Batch Accuracy: 100.0%\n"
     ]
    },
    {
     "name": "stdout",
     "output_type": "stream",
     "text": [
      "Global Step:   4000, Training Batch Accuracy: 100.0%\n"
     ]
    },
    {
     "name": "stdout",
     "output_type": "stream",
     "text": [
      "Global Step:   4100, Training Batch Accuracy: 100.0%\n"
     ]
    },
    {
     "name": "stdout",
     "output_type": "stream",
     "text": [
      "Global Step:   4200, Training Batch Accuracy: 100.0%\n"
     ]
    },
    {
     "name": "stdout",
     "output_type": "stream",
     "text": [
      "Global Step:   4300, Training Batch Accuracy: 100.0%\n"
     ]
    },
    {
     "name": "stdout",
     "output_type": "stream",
     "text": [
      "Global Step:   4400, Training Batch Accuracy: 100.0%\n"
     ]
    },
    {
     "name": "stdout",
     "output_type": "stream",
     "text": [
      "Global Step:   4500, Training Batch Accuracy: 100.0%\n"
     ]
    },
    {
     "name": "stdout",
     "output_type": "stream",
     "text": [
      "Global Step:   4600, Training Batch Accuracy: 100.0%\n"
     ]
    },
    {
     "name": "stdout",
     "output_type": "stream",
     "text": [
      "Global Step:   4700, Training Batch Accuracy: 100.0%\n"
     ]
    },
    {
     "name": "stdout",
     "output_type": "stream",
     "text": [
      "Global Step:   4800, Training Batch Accuracy: 100.0%\n"
     ]
    },
    {
     "name": "stdout",
     "output_type": "stream",
     "text": [
      "Global Step:   4900, Training Batch Accuracy: 100.0%\n"
     ]
    },
    {
     "name": "stdout",
     "output_type": "stream",
     "text": [
      "Global Step:   5000, Training Batch Accuracy: 100.0%\n"
     ]
    },
    {
     "name": "stdout",
     "output_type": "stream",
     "text": [
      "Global Step:   5100, Training Batch Accuracy: 100.0%\n"
     ]
    },
    {
     "name": "stdout",
     "output_type": "stream",
     "text": [
      "Global Step:   5200, Training Batch Accuracy: 100.0%\n"
     ]
    },
    {
     "name": "stdout",
     "output_type": "stream",
     "text": [
      "Global Step:   5300, Training Batch Accuracy: 100.0%\n"
     ]
    },
    {
     "name": "stdout",
     "output_type": "stream",
     "text": [
      "Global Step:   5400, Training Batch Accuracy: 100.0%\n"
     ]
    },
    {
     "name": "stdout",
     "output_type": "stream",
     "text": [
      "Global Step:   5500, Training Batch Accuracy: 100.0%\n"
     ]
    },
    {
     "name": "stdout",
     "output_type": "stream",
     "text": [
      "Global Step:   5600, Training Batch Accuracy: 100.0%\n"
     ]
    },
    {
     "name": "stdout",
     "output_type": "stream",
     "text": [
      "Global Step:   5700, Training Batch Accuracy: 100.0%\n"
     ]
    },
    {
     "name": "stdout",
     "output_type": "stream",
     "text": [
      "Global Step:   5800, Training Batch Accuracy: 100.0%\n"
     ]
    },
    {
     "name": "stdout",
     "output_type": "stream",
     "text": [
      "Global Step:   5900, Training Batch Accuracy: 100.0%\n"
     ]
    },
    {
     "name": "stdout",
     "output_type": "stream",
     "text": [
      "Global Step:   6000, Training Batch Accuracy: 100.0%\n"
     ]
    },
    {
     "name": "stdout",
     "output_type": "stream",
     "text": [
      "Global Step:   6100, Training Batch Accuracy: 100.0%\n"
     ]
    },
    {
     "name": "stdout",
     "output_type": "stream",
     "text": [
      "Global Step:   6200, Training Batch Accuracy: 100.0%\n"
     ]
    },
    {
     "name": "stdout",
     "output_type": "stream",
     "text": [
      "Global Step:   6300, Training Batch Accuracy: 100.0%\n"
     ]
    },
    {
     "name": "stdout",
     "output_type": "stream",
     "text": [
      "Global Step:   6400, Training Batch Accuracy: 100.0%\n"
     ]
    },
    {
     "name": "stdout",
     "output_type": "stream",
     "text": [
      "Global Step:   6500, Training Batch Accuracy: 100.0%\n"
     ]
    },
    {
     "name": "stdout",
     "output_type": "stream",
     "text": [
      "Global Step:   6600, Training Batch Accuracy: 100.0%\n"
     ]
    },
    {
     "name": "stdout",
     "output_type": "stream",
     "text": [
      "Global Step:   6700, Training Batch Accuracy: 100.0%\n"
     ]
    },
    {
     "name": "stdout",
     "output_type": "stream",
     "text": [
      "Global Step:   6800, Training Batch Accuracy: 100.0%\n"
     ]
    },
    {
     "name": "stdout",
     "output_type": "stream",
     "text": [
      "Global Step:   6900, Training Batch Accuracy: 100.0%\n"
     ]
    },
    {
     "name": "stdout",
     "output_type": "stream",
     "text": [
      "Global Step:   7000, Training Batch Accuracy: 100.0%\n"
     ]
    },
    {
     "name": "stdout",
     "output_type": "stream",
     "text": [
      "Global Step:   7100, Training Batch Accuracy: 100.0%\n"
     ]
    },
    {
     "name": "stdout",
     "output_type": "stream",
     "text": [
      "Global Step:   7200, Training Batch Accuracy: 100.0%\n"
     ]
    },
    {
     "name": "stdout",
     "output_type": "stream",
     "text": [
      "Global Step:   7300, Training Batch Accuracy: 100.0%\n"
     ]
    },
    {
     "name": "stdout",
     "output_type": "stream",
     "text": [
      "Global Step:   7400, Training Batch Accuracy: 100.0%\n"
     ]
    },
    {
     "name": "stdout",
     "output_type": "stream",
     "text": [
      "Global Step:   7500, Training Batch Accuracy: 100.0%\n"
     ]
    },
    {
     "name": "stdout",
     "output_type": "stream",
     "text": [
      "Global Step:   7600, Training Batch Accuracy: 100.0%\n"
     ]
    },
    {
     "name": "stdout",
     "output_type": "stream",
     "text": [
      "Global Step:   7700, Training Batch Accuracy: 100.0%\n"
     ]
    },
    {
     "name": "stdout",
     "output_type": "stream",
     "text": [
      "Global Step:   7800, Training Batch Accuracy: 100.0%\n"
     ]
    },
    {
     "name": "stdout",
     "output_type": "stream",
     "text": [
      "Global Step:   7900, Training Batch Accuracy: 100.0%\n"
     ]
    },
    {
     "name": "stdout",
     "output_type": "stream",
     "text": [
      "Global Step:   8000, Training Batch Accuracy: 100.0%\n"
     ]
    },
    {
     "name": "stdout",
     "output_type": "stream",
     "text": [
      "Global Step:   8100, Training Batch Accuracy: 100.0%\n"
     ]
    },
    {
     "name": "stdout",
     "output_type": "stream",
     "text": [
      "Global Step:   8200, Training Batch Accuracy: 100.0%\n"
     ]
    },
    {
     "name": "stdout",
     "output_type": "stream",
     "text": [
      "Global Step:   8300, Training Batch Accuracy: 100.0%\n"
     ]
    },
    {
     "name": "stdout",
     "output_type": "stream",
     "text": [
      "Global Step:   8400, Training Batch Accuracy: 100.0%\n"
     ]
    },
    {
     "name": "stdout",
     "output_type": "stream",
     "text": [
      "Global Step:   8500, Training Batch Accuracy: 100.0%\n"
     ]
    },
    {
     "name": "stdout",
     "output_type": "stream",
     "text": [
      "Global Step:   8600, Training Batch Accuracy: 100.0%\n"
     ]
    },
    {
     "name": "stdout",
     "output_type": "stream",
     "text": [
      "Global Step:   8700, Training Batch Accuracy: 100.0%\n"
     ]
    },
    {
     "name": "stdout",
     "output_type": "stream",
     "text": [
      "Global Step:   8800, Training Batch Accuracy: 100.0%\n"
     ]
    },
    {
     "name": "stdout",
     "output_type": "stream",
     "text": [
      "Global Step:   8900, Training Batch Accuracy: 100.0%\n"
     ]
    },
    {
     "name": "stdout",
     "output_type": "stream",
     "text": [
      "Global Step:   9000, Training Batch Accuracy: 100.0%\n"
     ]
    },
    {
     "name": "stdout",
     "output_type": "stream",
     "text": [
      "Global Step:   9100, Training Batch Accuracy: 100.0%\n"
     ]
    },
    {
     "name": "stdout",
     "output_type": "stream",
     "text": [
      "Global Step:   9200, Training Batch Accuracy: 100.0%\n"
     ]
    },
    {
     "name": "stdout",
     "output_type": "stream",
     "text": [
      "Global Step:   9300, Training Batch Accuracy: 100.0%\n"
     ]
    },
    {
     "name": "stdout",
     "output_type": "stream",
     "text": [
      "Global Step:   9400, Training Batch Accuracy: 100.0%\n"
     ]
    },
    {
     "name": "stdout",
     "output_type": "stream",
     "text": [
      "Global Step:   9500, Training Batch Accuracy: 100.0%\n"
     ]
    },
    {
     "name": "stdout",
     "output_type": "stream",
     "text": [
      "Global Step:   9600, Training Batch Accuracy: 100.0%\n"
     ]
    },
    {
     "name": "stdout",
     "output_type": "stream",
     "text": [
      "Global Step:   9700, Training Batch Accuracy: 100.0%\n"
     ]
    },
    {
     "name": "stdout",
     "output_type": "stream",
     "text": [
      "Global Step:   9800, Training Batch Accuracy: 100.0%\n"
     ]
    },
    {
     "name": "stdout",
     "output_type": "stream",
     "text": [
      "Global Step:   9900, Training Batch Accuracy: 100.0%\n"
     ]
    },
    {
     "name": "stdout",
     "output_type": "stream",
     "text": [
      "Global Step:  10000, Training Batch Accuracy: 100.0%\nTime usage: 0:06:20\nTest accuracy: 70.3774%\n"
     ]
    }
   ],
   "source": [
    "with tf.Session() as session:\n",
    "    session.run(tf.global_variables_initializer())\n",
    "    train_batch_size = 64\n",
    "    optimize(10000)\n",
    "    acc = session.run(accuracy, feed_dict={\n",
    "        x: transfer_values_test,\n",
    "        y_true: labels_test\n",
    "    })\n",
    "    print('Test accuracy: {0:.4%}'.format(acc))"
   ]
  },
  {
   "cell_type": "code",
   "execution_count": null,
   "metadata": {},
   "outputs": [],
   "source": [
    ""
   ]
  }
 ],
 "metadata": {
  "kernelspec": {
   "display_name": "Python 2",
   "language": "python",
   "name": "python2"
  },
  "language_info": {
   "codemirror_mode": {
    "name": "ipython",
    "version": 2.0
   },
   "file_extension": ".py",
   "mimetype": "text/x-python",
   "name": "python",
   "nbconvert_exporter": "python",
   "pygments_lexer": "ipython2",
   "version": "2.7.6"
  }
 },
 "nbformat": 4,
 "nbformat_minor": 0
}