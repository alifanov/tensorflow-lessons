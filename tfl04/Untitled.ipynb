{
 "cells": [
  {
   "cell_type": "code",
   "execution_count": 1,
   "metadata": {
    "collapsed": true
   },
   "outputs": [],
   "source": [
    "import tensorflow as tf\n",
    "session = tf.InteractiveSession()\n",
    "x = tf.constant(list(range(10)))"
   ]
  },
  {
   "cell_type": "code",
   "execution_count": 2,
   "metadata": {
    "collapsed": false
   },
   "outputs": [
    {
     "name": "stdout",
     "output_type": "stream",
     "text": [
      "[0 1 2 3 4 5 6 7 8 9]\n"
     ]
    }
   ],
   "source": [
    "print(x.eval())"
   ]
  },
  {
   "cell_type": "code",
   "execution_count": 3,
   "metadata": {
    "collapsed": true
   },
   "outputs": [],
   "source": [
    "session.close()"
   ]
  },
  {
   "cell_type": "code",
   "execution_count": 4,
   "metadata": {
    "collapsed": false
   },
   "outputs": [
    {
     "name": "stdout",
     "output_type": "stream",
     "text": [
      "86249472 Kb\n"
     ]
    }
   ],
   "source": [
    "import resource\n",
    "print(\"{} Kb\".format(resource.getrusage(resource.RUSAGE_SELF).ru_maxrss))"
   ]
  },
  {
   "cell_type": "code",
   "execution_count": 5,
   "metadata": {
    "collapsed": true
   },
   "outputs": [],
   "source": [
    "import numpy as np\n",
    "session = tf.InteractiveSession()\n",
    "\n",
    "X = tf.constant(np.eye(10000))\n",
    "Y = tf.constant(np.random.randn(10000, 300))"
   ]
  },
  {
   "cell_type": "code",
   "execution_count": 6,
   "metadata": {
    "collapsed": false
   },
   "outputs": [
    {
     "name": "stdout",
     "output_type": "stream",
     "text": [
      "479858688 Kb\n"
     ]
    }
   ],
   "source": [
    "print(\"{} Kb\".format(resource.getrusage(resource.RUSAGE_SELF).ru_maxrss))"
   ]
  },
  {
   "cell_type": "code",
   "execution_count": 7,
   "metadata": {
    "collapsed": true
   },
   "outputs": [],
   "source": [
    "Z = tf.matmul(X, Y)"
   ]
  },
  {
   "cell_type": "code",
   "execution_count": 8,
   "metadata": {
    "collapsed": false
   },
   "outputs": [
    {
     "data": {
      "text/plain": [
       "array([[  1.18203887e-01,  -1.18116014e+00,  -1.63137670e+00, ...,\n",
       "          1.06541161e+00,  -1.63409776e-01,   6.44538397e-03],\n",
       "       [  1.16705248e+00,   7.73736574e-01,  -3.10804714e-02, ...,\n",
       "         -3.38660358e-01,   8.22684014e-03,   3.34519641e-01],\n",
       "       [ -1.19918274e+00,   4.50556822e-01,   8.19702373e-01, ...,\n",
       "         -5.09841427e-01,   5.50943463e-01,  -3.47561369e-01],\n",
       "       ..., \n",
       "       [  1.36961048e+00,   3.27408566e-01,  -1.08171857e-01, ...,\n",
       "         -5.63278665e-04,  -1.89825355e-01,   6.53964912e-01],\n",
       "       [  1.17932418e-01,   2.29648128e-01,   4.87352338e-01, ...,\n",
       "         -8.95104223e-01,  -5.79137970e-01,  -1.43276006e+00],\n",
       "       [  1.21944693e+00,  -1.70484285e+00,  -7.99937132e-01, ...,\n",
       "          7.90090511e-01,  -2.48371451e-01,  -1.75968261e+00]])"
      ]
     },
     "execution_count": 8,
     "metadata": {},
     "output_type": "execute_result"
    }
   ],
   "source": [
    "Z.eval()"
   ]
  },
  {
   "cell_type": "code",
   "execution_count": 9,
   "metadata": {
    "collapsed": false
   },
   "outputs": [
    {
     "name": "stdout",
     "output_type": "stream",
     "text": [
      "1924935680 Kb\n"
     ]
    }
   ],
   "source": [
    "print(\"{} Kb\".format(resource.getrusage(resource.RUSAGE_SELF).ru_maxrss))"
   ]
  },
  {
   "cell_type": "code",
   "execution_count": 10,
   "metadata": {
    "collapsed": true
   },
   "outputs": [],
   "source": [
    "session.close()"
   ]
  },
  {
   "cell_type": "code",
   "execution_count": null,
   "metadata": {
    "collapsed": true
   },
   "outputs": [],
   "source": []
  }
 ],
 "metadata": {
  "kernelspec": {
   "display_name": "Python 3",
   "language": "python",
   "name": "python3"
  },
  "language_info": {
   "codemirror_mode": {
    "name": "ipython",
    "version": 3
   },
   "file_extension": ".py",
   "mimetype": "text/x-python",
   "name": "python",
   "nbconvert_exporter": "python",
   "pygments_lexer": "ipython3",
   "version": "3.4.3"
  }
 },
 "nbformat": 4,
 "nbformat_minor": 2
}
